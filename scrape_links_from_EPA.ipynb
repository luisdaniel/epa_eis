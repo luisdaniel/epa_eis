{
 "metadata": {
  "name": "",
  "signature": "sha256:f3afbfeb35e56f9a95171bcf689eebca514e220fb10cf388fd87faaf84f3ade3"
 },
 "nbformat": 3,
 "nbformat_minor": 0,
 "worksheets": [
  {
   "cells": [
    {
     "cell_type": "code",
     "collapsed": false,
     "input": [
      "from bs4 import BeautifulSoup as bs\n",
      "import re\n",
      "import urllib2\n",
      "import csv\n",
      "import json\n",
      "import datetime\n",
      "import pandas as pd"
     ],
     "language": "python",
     "metadata": {},
     "outputs": [],
     "prompt_number": 1
    },
    {
     "cell_type": "code",
     "collapsed": false,
     "input": [
      "base_url = \"http://yosemite.epa.gov/oeca/webeis.nsf/viEIS01!OpenView&Start=\"\n",
      "document_base_url=\"http://yosemite.epa.gov/oeca/webeis.nsf/\""
     ],
     "language": "python",
     "metadata": {},
     "outputs": [],
     "prompt_number": 2
    },
    {
     "cell_type": "code",
     "collapsed": false,
     "input": [
      "#find max records\n",
      "page = urllib2.urlopen(base_url + str(1)).read()\n",
      "soup = bs(page)\n",
      "records = soup.findAll(text=re.compile(r'\\bdocuments\\swere\\s\\sretrieved'))[0]\n",
      "max_records = [int(s) for s in records.split() if s.isdigit()][0]"
     ],
     "language": "python",
     "metadata": {},
     "outputs": [],
     "prompt_number": 3
    },
    {
     "cell_type": "code",
     "collapsed": false,
     "input": [
      "#create empty data frame\n",
      "columns = ['date', 'agency', 'state', 'document_type', 'title', 'report_link']\n",
      "df = pd.DataFrame(columns=columns)"
     ],
     "language": "python",
     "metadata": {},
     "outputs": [],
     "prompt_number": 4
    },
    {
     "cell_type": "code",
     "collapsed": false,
     "input": [
      "increment = 29\n",
      "index = 0\n",
      "for page_num in range(1, max_records, increment):\n",
      "    page = urllib2.urlopen(base_url + str(page_num)).read()\n",
      "    print \"Getting page: \" + base_url + str(page_num)\n",
      "    soup = bs(page)\n",
      "    table = soup.findAll('tr', attrs={\"class\":\"viewdata\"})\n",
      "    for row in table:\n",
      "        date = row.findAll('td')[0].text\n",
      "        agency = row.findAll('td')[1].text\n",
      "        state = row.findAll('td')[2].text\n",
      "        document_type = row.findAll('td')[3].text\n",
      "        title = row.findAll('td')[4].text\n",
      "        report_link = document_base_url + row.findAll('td')[4].find('a')['href'].replace('?opendocument', '')\n",
      "        new_row = [date, agency, state, document_type, title, report_link]\n",
      "        for i in range(len(new_row)):  # For every value in our newrow\n",
      "            if hasattr(new_row[i], 'encode'):\n",
      "                new_row[i] = new_row[i].encode('utf8')\n",
      "        df.loc[index] = new_row\n",
      "        index +=1"
     ],
     "language": "python",
     "metadata": {},
     "outputs": [
      {
       "output_type": "stream",
       "stream": "stdout",
       "text": [
        "Getting page: http://yosemite.epa.gov/oeca/webeis.nsf/viEIS01!OpenView&Start=1\n",
        "Getting page: http://yosemite.epa.gov/oeca/webeis.nsf/viEIS01!OpenView&Start=30"
       ]
      },
      {
       "output_type": "stream",
       "stream": "stdout",
       "text": [
        "\n",
        "Getting page: http://yosemite.epa.gov/oeca/webeis.nsf/viEIS01!OpenView&Start=59"
       ]
      },
      {
       "output_type": "stream",
       "stream": "stdout",
       "text": [
        "\n",
        "Getting page: http://yosemite.epa.gov/oeca/webeis.nsf/viEIS01!OpenView&Start=88"
       ]
      },
      {
       "output_type": "stream",
       "stream": "stdout",
       "text": [
        "\n",
        "Getting page: http://yosemite.epa.gov/oeca/webeis.nsf/viEIS01!OpenView&Start=117"
       ]
      },
      {
       "output_type": "stream",
       "stream": "stdout",
       "text": [
        "\n",
        "Getting page: http://yosemite.epa.gov/oeca/webeis.nsf/viEIS01!OpenView&Start=146"
       ]
      },
      {
       "output_type": "stream",
       "stream": "stdout",
       "text": [
        "\n",
        "Getting page: http://yosemite.epa.gov/oeca/webeis.nsf/viEIS01!OpenView&Start=175"
       ]
      },
      {
       "output_type": "stream",
       "stream": "stdout",
       "text": [
        "\n",
        "Getting page: http://yosemite.epa.gov/oeca/webeis.nsf/viEIS01!OpenView&Start=204"
       ]
      },
      {
       "output_type": "stream",
       "stream": "stdout",
       "text": [
        "\n",
        "Getting page: http://yosemite.epa.gov/oeca/webeis.nsf/viEIS01!OpenView&Start=233"
       ]
      },
      {
       "output_type": "stream",
       "stream": "stdout",
       "text": [
        "\n",
        "Getting page: http://yosemite.epa.gov/oeca/webeis.nsf/viEIS01!OpenView&Start=262"
       ]
      },
      {
       "output_type": "stream",
       "stream": "stdout",
       "text": [
        "\n",
        "Getting page: http://yosemite.epa.gov/oeca/webeis.nsf/viEIS01!OpenView&Start=291"
       ]
      },
      {
       "output_type": "stream",
       "stream": "stdout",
       "text": [
        "\n",
        "Getting page: http://yosemite.epa.gov/oeca/webeis.nsf/viEIS01!OpenView&Start=320"
       ]
      },
      {
       "output_type": "stream",
       "stream": "stdout",
       "text": [
        "\n",
        "Getting page: http://yosemite.epa.gov/oeca/webeis.nsf/viEIS01!OpenView&Start=349"
       ]
      },
      {
       "output_type": "stream",
       "stream": "stdout",
       "text": [
        "\n",
        "Getting page: http://yosemite.epa.gov/oeca/webeis.nsf/viEIS01!OpenView&Start=378"
       ]
      },
      {
       "output_type": "stream",
       "stream": "stdout",
       "text": [
        "\n",
        "Getting page: http://yosemite.epa.gov/oeca/webeis.nsf/viEIS01!OpenView&Start=407"
       ]
      },
      {
       "output_type": "stream",
       "stream": "stdout",
       "text": [
        "\n",
        "Getting page: http://yosemite.epa.gov/oeca/webeis.nsf/viEIS01!OpenView&Start=436"
       ]
      },
      {
       "output_type": "stream",
       "stream": "stdout",
       "text": [
        "\n",
        "Getting page: http://yosemite.epa.gov/oeca/webeis.nsf/viEIS01!OpenView&Start=465"
       ]
      },
      {
       "output_type": "stream",
       "stream": "stdout",
       "text": [
        "\n",
        "Getting page: http://yosemite.epa.gov/oeca/webeis.nsf/viEIS01!OpenView&Start=494"
       ]
      },
      {
       "output_type": "stream",
       "stream": "stdout",
       "text": [
        "\n",
        "Getting page: http://yosemite.epa.gov/oeca/webeis.nsf/viEIS01!OpenView&Start=523"
       ]
      },
      {
       "output_type": "stream",
       "stream": "stdout",
       "text": [
        "\n",
        "Getting page: http://yosemite.epa.gov/oeca/webeis.nsf/viEIS01!OpenView&Start=552"
       ]
      },
      {
       "output_type": "stream",
       "stream": "stdout",
       "text": [
        "\n",
        "Getting page: http://yosemite.epa.gov/oeca/webeis.nsf/viEIS01!OpenView&Start=581"
       ]
      },
      {
       "output_type": "stream",
       "stream": "stdout",
       "text": [
        "\n",
        "Getting page: http://yosemite.epa.gov/oeca/webeis.nsf/viEIS01!OpenView&Start=610"
       ]
      },
      {
       "output_type": "stream",
       "stream": "stdout",
       "text": [
        "\n",
        "Getting page: http://yosemite.epa.gov/oeca/webeis.nsf/viEIS01!OpenView&Start=639"
       ]
      },
      {
       "output_type": "stream",
       "stream": "stdout",
       "text": [
        "\n",
        "Getting page: http://yosemite.epa.gov/oeca/webeis.nsf/viEIS01!OpenView&Start=668"
       ]
      },
      {
       "output_type": "stream",
       "stream": "stdout",
       "text": [
        "\n",
        "Getting page: http://yosemite.epa.gov/oeca/webeis.nsf/viEIS01!OpenView&Start=697"
       ]
      },
      {
       "output_type": "stream",
       "stream": "stdout",
       "text": [
        "\n",
        "Getting page: http://yosemite.epa.gov/oeca/webeis.nsf/viEIS01!OpenView&Start=726"
       ]
      },
      {
       "output_type": "stream",
       "stream": "stdout",
       "text": [
        "\n",
        "Getting page: http://yosemite.epa.gov/oeca/webeis.nsf/viEIS01!OpenView&Start=755"
       ]
      },
      {
       "output_type": "stream",
       "stream": "stdout",
       "text": [
        "\n",
        "Getting page: http://yosemite.epa.gov/oeca/webeis.nsf/viEIS01!OpenView&Start=784"
       ]
      },
      {
       "output_type": "stream",
       "stream": "stdout",
       "text": [
        "\n",
        "Getting page: http://yosemite.epa.gov/oeca/webeis.nsf/viEIS01!OpenView&Start=813"
       ]
      },
      {
       "output_type": "stream",
       "stream": "stdout",
       "text": [
        "\n",
        "Getting page: http://yosemite.epa.gov/oeca/webeis.nsf/viEIS01!OpenView&Start=842"
       ]
      },
      {
       "output_type": "stream",
       "stream": "stdout",
       "text": [
        "\n",
        "Getting page: http://yosemite.epa.gov/oeca/webeis.nsf/viEIS01!OpenView&Start=871"
       ]
      },
      {
       "output_type": "stream",
       "stream": "stdout",
       "text": [
        "\n",
        "Getting page: http://yosemite.epa.gov/oeca/webeis.nsf/viEIS01!OpenView&Start=900"
       ]
      },
      {
       "output_type": "stream",
       "stream": "stdout",
       "text": [
        "\n",
        "Getting page: http://yosemite.epa.gov/oeca/webeis.nsf/viEIS01!OpenView&Start=929"
       ]
      },
      {
       "output_type": "stream",
       "stream": "stdout",
       "text": [
        "\n",
        "Getting page: http://yosemite.epa.gov/oeca/webeis.nsf/viEIS01!OpenView&Start=958"
       ]
      },
      {
       "output_type": "stream",
       "stream": "stdout",
       "text": [
        "\n",
        "Getting page: http://yosemite.epa.gov/oeca/webeis.nsf/viEIS01!OpenView&Start=987"
       ]
      },
      {
       "output_type": "stream",
       "stream": "stdout",
       "text": [
        "\n",
        "Getting page: http://yosemite.epa.gov/oeca/webeis.nsf/viEIS01!OpenView&Start=1016"
       ]
      },
      {
       "output_type": "stream",
       "stream": "stdout",
       "text": [
        "\n",
        "Getting page: http://yosemite.epa.gov/oeca/webeis.nsf/viEIS01!OpenView&Start=1045"
       ]
      },
      {
       "output_type": "stream",
       "stream": "stdout",
       "text": [
        "\n",
        "Getting page: http://yosemite.epa.gov/oeca/webeis.nsf/viEIS01!OpenView&Start=1074"
       ]
      },
      {
       "output_type": "stream",
       "stream": "stdout",
       "text": [
        "\n",
        "Getting page: http://yosemite.epa.gov/oeca/webeis.nsf/viEIS01!OpenView&Start=1103"
       ]
      },
      {
       "output_type": "stream",
       "stream": "stdout",
       "text": [
        "\n",
        "Getting page: http://yosemite.epa.gov/oeca/webeis.nsf/viEIS01!OpenView&Start=1132"
       ]
      },
      {
       "output_type": "stream",
       "stream": "stdout",
       "text": [
        "\n",
        "Getting page: http://yosemite.epa.gov/oeca/webeis.nsf/viEIS01!OpenView&Start=1161"
       ]
      },
      {
       "output_type": "stream",
       "stream": "stdout",
       "text": [
        "\n",
        "Getting page: http://yosemite.epa.gov/oeca/webeis.nsf/viEIS01!OpenView&Start=1190"
       ]
      },
      {
       "output_type": "stream",
       "stream": "stdout",
       "text": [
        "\n",
        "Getting page: http://yosemite.epa.gov/oeca/webeis.nsf/viEIS01!OpenView&Start=1219"
       ]
      },
      {
       "output_type": "stream",
       "stream": "stdout",
       "text": [
        "\n",
        "Getting page: http://yosemite.epa.gov/oeca/webeis.nsf/viEIS01!OpenView&Start=1248"
       ]
      },
      {
       "output_type": "stream",
       "stream": "stdout",
       "text": [
        "\n",
        "Getting page: http://yosemite.epa.gov/oeca/webeis.nsf/viEIS01!OpenView&Start=1277"
       ]
      },
      {
       "output_type": "stream",
       "stream": "stdout",
       "text": [
        "\n",
        "Getting page: http://yosemite.epa.gov/oeca/webeis.nsf/viEIS01!OpenView&Start=1306"
       ]
      },
      {
       "output_type": "stream",
       "stream": "stdout",
       "text": [
        "\n",
        "Getting page: http://yosemite.epa.gov/oeca/webeis.nsf/viEIS01!OpenView&Start=1335"
       ]
      },
      {
       "output_type": "stream",
       "stream": "stdout",
       "text": [
        "\n",
        "Getting page: http://yosemite.epa.gov/oeca/webeis.nsf/viEIS01!OpenView&Start=1364"
       ]
      },
      {
       "output_type": "stream",
       "stream": "stdout",
       "text": [
        "\n",
        "Getting page: http://yosemite.epa.gov/oeca/webeis.nsf/viEIS01!OpenView&Start=1393"
       ]
      },
      {
       "output_type": "stream",
       "stream": "stdout",
       "text": [
        "\n",
        "Getting page: http://yosemite.epa.gov/oeca/webeis.nsf/viEIS01!OpenView&Start=1422"
       ]
      },
      {
       "output_type": "stream",
       "stream": "stdout",
       "text": [
        "\n",
        "Getting page: http://yosemite.epa.gov/oeca/webeis.nsf/viEIS01!OpenView&Start=1451"
       ]
      },
      {
       "output_type": "stream",
       "stream": "stdout",
       "text": [
        "\n",
        "Getting page: http://yosemite.epa.gov/oeca/webeis.nsf/viEIS01!OpenView&Start=1480"
       ]
      },
      {
       "output_type": "stream",
       "stream": "stdout",
       "text": [
        "\n",
        "Getting page: http://yosemite.epa.gov/oeca/webeis.nsf/viEIS01!OpenView&Start=1509"
       ]
      },
      {
       "output_type": "stream",
       "stream": "stdout",
       "text": [
        "\n",
        "Getting page: http://yosemite.epa.gov/oeca/webeis.nsf/viEIS01!OpenView&Start=1538"
       ]
      },
      {
       "output_type": "stream",
       "stream": "stdout",
       "text": [
        "\n",
        "Getting page: http://yosemite.epa.gov/oeca/webeis.nsf/viEIS01!OpenView&Start=1567"
       ]
      },
      {
       "output_type": "stream",
       "stream": "stdout",
       "text": [
        "\n",
        "Getting page: http://yosemite.epa.gov/oeca/webeis.nsf/viEIS01!OpenView&Start=1596"
       ]
      },
      {
       "output_type": "stream",
       "stream": "stdout",
       "text": [
        "\n",
        "Getting page: http://yosemite.epa.gov/oeca/webeis.nsf/viEIS01!OpenView&Start=1625"
       ]
      },
      {
       "output_type": "stream",
       "stream": "stdout",
       "text": [
        "\n",
        "Getting page: http://yosemite.epa.gov/oeca/webeis.nsf/viEIS01!OpenView&Start=1654"
       ]
      },
      {
       "output_type": "stream",
       "stream": "stdout",
       "text": [
        "\n",
        "Getting page: http://yosemite.epa.gov/oeca/webeis.nsf/viEIS01!OpenView&Start=1683"
       ]
      },
      {
       "output_type": "stream",
       "stream": "stdout",
       "text": [
        "\n",
        "Getting page: http://yosemite.epa.gov/oeca/webeis.nsf/viEIS01!OpenView&Start=1712"
       ]
      },
      {
       "output_type": "stream",
       "stream": "stdout",
       "text": [
        "\n",
        "Getting page: http://yosemite.epa.gov/oeca/webeis.nsf/viEIS01!OpenView&Start=1741"
       ]
      },
      {
       "output_type": "stream",
       "stream": "stdout",
       "text": [
        "\n",
        "Getting page: http://yosemite.epa.gov/oeca/webeis.nsf/viEIS01!OpenView&Start=1770"
       ]
      },
      {
       "output_type": "stream",
       "stream": "stdout",
       "text": [
        "\n",
        "Getting page: http://yosemite.epa.gov/oeca/webeis.nsf/viEIS01!OpenView&Start=1799"
       ]
      },
      {
       "output_type": "stream",
       "stream": "stdout",
       "text": [
        "\n",
        "Getting page: http://yosemite.epa.gov/oeca/webeis.nsf/viEIS01!OpenView&Start=1828"
       ]
      },
      {
       "output_type": "stream",
       "stream": "stdout",
       "text": [
        "\n",
        "Getting page: http://yosemite.epa.gov/oeca/webeis.nsf/viEIS01!OpenView&Start=1857"
       ]
      },
      {
       "output_type": "stream",
       "stream": "stdout",
       "text": [
        "\n",
        "Getting page: http://yosemite.epa.gov/oeca/webeis.nsf/viEIS01!OpenView&Start=1886"
       ]
      },
      {
       "output_type": "stream",
       "stream": "stdout",
       "text": [
        "\n",
        "Getting page: http://yosemite.epa.gov/oeca/webeis.nsf/viEIS01!OpenView&Start=1915"
       ]
      },
      {
       "output_type": "stream",
       "stream": "stdout",
       "text": [
        "\n",
        "Getting page: http://yosemite.epa.gov/oeca/webeis.nsf/viEIS01!OpenView&Start=1944"
       ]
      },
      {
       "output_type": "stream",
       "stream": "stdout",
       "text": [
        "\n",
        "Getting page: http://yosemite.epa.gov/oeca/webeis.nsf/viEIS01!OpenView&Start=1973"
       ]
      },
      {
       "output_type": "stream",
       "stream": "stdout",
       "text": [
        "\n",
        "Getting page: http://yosemite.epa.gov/oeca/webeis.nsf/viEIS01!OpenView&Start=2002"
       ]
      },
      {
       "output_type": "stream",
       "stream": "stdout",
       "text": [
        "\n",
        "Getting page: http://yosemite.epa.gov/oeca/webeis.nsf/viEIS01!OpenView&Start=2031"
       ]
      },
      {
       "output_type": "stream",
       "stream": "stdout",
       "text": [
        "\n",
        "Getting page: http://yosemite.epa.gov/oeca/webeis.nsf/viEIS01!OpenView&Start=2060"
       ]
      },
      {
       "output_type": "stream",
       "stream": "stdout",
       "text": [
        "\n",
        "Getting page: http://yosemite.epa.gov/oeca/webeis.nsf/viEIS01!OpenView&Start=2089"
       ]
      },
      {
       "output_type": "stream",
       "stream": "stdout",
       "text": [
        "\n",
        "Getting page: http://yosemite.epa.gov/oeca/webeis.nsf/viEIS01!OpenView&Start=2118"
       ]
      },
      {
       "output_type": "stream",
       "stream": "stdout",
       "text": [
        "\n",
        "Getting page: http://yosemite.epa.gov/oeca/webeis.nsf/viEIS01!OpenView&Start=2147"
       ]
      },
      {
       "output_type": "stream",
       "stream": "stdout",
       "text": [
        "\n",
        "Getting page: http://yosemite.epa.gov/oeca/webeis.nsf/viEIS01!OpenView&Start=2176"
       ]
      },
      {
       "output_type": "stream",
       "stream": "stdout",
       "text": [
        "\n",
        "Getting page: http://yosemite.epa.gov/oeca/webeis.nsf/viEIS01!OpenView&Start=2205"
       ]
      },
      {
       "output_type": "stream",
       "stream": "stdout",
       "text": [
        "\n",
        "Getting page: http://yosemite.epa.gov/oeca/webeis.nsf/viEIS01!OpenView&Start=2234"
       ]
      },
      {
       "output_type": "stream",
       "stream": "stdout",
       "text": [
        "\n",
        "Getting page: http://yosemite.epa.gov/oeca/webeis.nsf/viEIS01!OpenView&Start=2263"
       ]
      },
      {
       "output_type": "stream",
       "stream": "stdout",
       "text": [
        "\n",
        "Getting page: http://yosemite.epa.gov/oeca/webeis.nsf/viEIS01!OpenView&Start=2292"
       ]
      },
      {
       "output_type": "stream",
       "stream": "stdout",
       "text": [
        "\n",
        "Getting page: http://yosemite.epa.gov/oeca/webeis.nsf/viEIS01!OpenView&Start=2321"
       ]
      },
      {
       "output_type": "stream",
       "stream": "stdout",
       "text": [
        "\n",
        "Getting page: http://yosemite.epa.gov/oeca/webeis.nsf/viEIS01!OpenView&Start=2350"
       ]
      },
      {
       "output_type": "stream",
       "stream": "stdout",
       "text": [
        "\n",
        "Getting page: http://yosemite.epa.gov/oeca/webeis.nsf/viEIS01!OpenView&Start=2379"
       ]
      },
      {
       "output_type": "stream",
       "stream": "stdout",
       "text": [
        "\n",
        "Getting page: http://yosemite.epa.gov/oeca/webeis.nsf/viEIS01!OpenView&Start=2408"
       ]
      },
      {
       "output_type": "stream",
       "stream": "stdout",
       "text": [
        "\n"
       ]
      }
     ],
     "prompt_number": 5
    },
    {
     "cell_type": "code",
     "collapsed": false,
     "input": [
      "df_unique = df.drop_duplicates()"
     ],
     "language": "python",
     "metadata": {},
     "outputs": [],
     "prompt_number": 6
    },
    {
     "cell_type": "code",
     "collapsed": false,
     "input": [
      "df_unique.to_csv('eis_links.csv', encoding='utf-8')"
     ],
     "language": "python",
     "metadata": {},
     "outputs": [],
     "prompt_number": 7
    },
    {
     "cell_type": "code",
     "collapsed": false,
     "input": [
      "df_unique.shape"
     ],
     "language": "python",
     "metadata": {},
     "outputs": [
      {
       "metadata": {},
       "output_type": "pyout",
       "prompt_number": 8,
       "text": [
        "(2426, 6)"
       ]
      }
     ],
     "prompt_number": 8
    },
    {
     "cell_type": "code",
     "collapsed": false,
     "input": [],
     "language": "python",
     "metadata": {},
     "outputs": []
    }
   ],
   "metadata": {}
  }
 ]
}