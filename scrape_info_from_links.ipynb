{
 "metadata": {
  "name": "",
  "signature": "sha256:3dc8a6143925cc9d2b6a97d7c7e7279bb9c3f472d86bf8dfd36903fb2f4566a8"
 },
 "nbformat": 3,
 "nbformat_minor": 0,
 "worksheets": [
  {
   "cells": [
    {
     "cell_type": "code",
     "collapsed": false,
     "input": [
      "from bs4 import BeautifulSoup as bs\n",
      "import re\n",
      "import urllib2\n",
      "import csv\n",
      "import json\n",
      "import datetime\n",
      "import pandas as pd"
     ],
     "language": "python",
     "metadata": {},
     "outputs": [],
     "prompt_number": 41
    },
    {
     "cell_type": "code",
     "collapsed": false,
     "input": [
      "columns = ['date', 'agency', 'state', 'document_type', 'title', 'report_link', \n",
      "           'eis_number', 'federal_register_date', 'contact_name', 'comment_due_review_date', 'contact_phone', \n",
      "           'amended_notice_date', 'amended_notice', 'supplemental_info', 'website', 'comment_letter_date', \n",
      "           'rating', 'num_comment_letter', 'comment_letter_links', 'num_files', 'list_of_links']\n",
      "df = pd.DataFrame(columns=columns)"
     ],
     "language": "python",
     "metadata": {},
     "outputs": [],
     "prompt_number": 42
    },
    {
     "cell_type": "code",
     "collapsed": false,
     "input": [
      "# this is a small script to check whether links were already scraped or not. Checks against first run of script.\n",
      "file_name = 'reports_1_2.csv'\n",
      "reports_we_have = pd.read_csv(file_name)\n",
      "urls = set(pd.Series(reports_we_have['report_link']))\n",
      "def scraped(url):\n",
      "    return url in urls"
     ],
     "language": "python",
     "metadata": {},
     "outputs": [],
     "prompt_number": 73
    },
    {
     "cell_type": "code",
     "collapsed": false,
     "input": [
      "#test\n",
      "url = 'http://yosemite.epa.gov/oeca/webeis.nsf/EIS01/9F1351654AE8BA1485257C82002113CF'\n",
      "#url_2 = 'http://yosemite.epa.gov/oeca/webeis.nsf/EIS01/C3B3CE406F34789F85257D8700216C98'\n",
      "page = urllib2.urlopen(url).read()\n",
      "soup = bs(page)\n",
      "table = soup.findAll('td')\n",
      "check_row = table[30]\n",
      "comment_letter_links = []\n",
      "document_links = []\n",
      "exclude_links = ['http://www.epa.gov/epahome/pdf.html',\n",
      "                 'http://www.epa.gov/compliance/contact/nepa.html#commentform']\n",
      "if check_row.find(text=re.compile(r'\\bComment\\sLetter\\(s\\)')):\n",
      "    base_file_url = 'http://yosemite.epa.gov/oeca/webeis.nsf/'\n",
      "    links = table[30].findAll('a')\n",
      "    for link in links:\n",
      "        if link['href'] not in exclude_links:\n",
      "            comment_letter_links.append(base_file_url + urllib2.quote(link['href'].encode('utf8').replace('?OpenElement', '').replace('../','')))\n",
      "    links = table[31].findAll('a')\n",
      "    for link in links:\n",
      "        document_links.append(base_file_url + urllib2.quote(link['href'].encode('utf8').replace('?OpenElement', '').replace('../','')))\n",
      "else: \n",
      "    links = table[30].findAll('a')\n",
      "    for link in links:\n",
      "        document_links.append(base_file_url + urllib2.quote(link['href'].encode('utf8').replace('?OpenElement', '').replace('../','')))"
     ],
     "language": "python",
     "metadata": {},
     "outputs": [],
     "prompt_number": 53
    },
    {
     "cell_type": "code",
     "collapsed": false,
     "input": [
      "table[31]"
     ],
     "language": "python",
     "metadata": {},
     "outputs": [
      {
       "metadata": {},
       "output_type": "pyout",
       "prompt_number": 31,
       "text": [
        "<td colspan=\"4\" width=\"100%\"><strong><u>EIS Document(s):</u></strong><br>\n",
        "<span class=\"viewdata\"><a href=\"../(EISDocs)/20140172/$file/Double-Crested Cormorant Management Plan to Reduce Predation of Juvenile Salmonids in the Columbia River Estuary_Draft Environmental Impact Statement.pdf?OpenElement\">EIS Document: Double-Crested Cormorant Management Plan to Reduce Predation of Juvenile Salmonids in the Columbia River Estuary_Draft Environmental Impact Statement.pdf</a> <br/></span></br></td>"
       ]
      }
     ],
     "prompt_number": 31
    },
    {
     "cell_type": "code",
     "collapsed": false,
     "input": [
      "#1 - date\n",
      "#2 - agency\n",
      "#3 - state\n",
      "#4 - document_type\n",
      "#5 - title\n",
      "#6 - report_link\n",
      "#\"\"\"'eis_number', 'federal_register_date', 'contact_name', 'comment_due_review_date', 'contact_phone', \n",
      "#           'amended_notice_date', 'amended_notice', 'supplemental_info', 'website', 'comment_letter_date', 'comment_letter',\n",
      "#           'rating', 'num_files', 'list_of_links'\"\"\"\n",
      "\n",
      "\n",
      "#EPA server won't let you get all the URL's. Had to split it in two. \n",
      "index = 0\n",
      "with open('eis_links.csv', mode='r') as infile:\n",
      "    reader = csv.reader(infile)\n",
      "    for row in reader:\n",
      "        if not scraped(row[6]) and row[6] != 'report_link': #only used when split in parts\n",
      "            #if row[6] != 'report_link':\n",
      "            print \"Getting # \" + str(index) + \": \" + row[6]\n",
      "            page = urllib2.urlopen(row[6]).read()\n",
      "            soup = bs(page)\n",
      "            table = soup.findAll('td')\n",
      "            title = table[1].text\n",
      "            eis_number = table[3].text\n",
      "            state = table[5].text\n",
      "            document_type = table[7].text\n",
      "            agency = table[9].text\n",
      "            federal_register_date = table[11].text\n",
      "            contact_name = table[13].text\n",
      "            comment_due_review_date = table[15].text\n",
      "            contact_phone = table[17].text\n",
      "            amended_notice_date = table[19].text\n",
      "            amended_notice = table[21].text\n",
      "            supplemental_info = table[23].text\n",
      "            website = table[25].text.rstrip()\n",
      "            comment_letter_date = table[27].text.rstrip()\n",
      "            rating = table[29].text\n",
      "            #sometimes you have comment letters which changes the order of the table rows\n",
      "            check_row = table[30]\n",
      "            comment_letter_links = []\n",
      "            document_links = []\n",
      "            exclude_links = ['http://www.epa.gov/epahome/pdf.html',\n",
      "                             'http://www.epa.gov/compliance/contact/nepa.html#commentform']\n",
      "            if check_row.find(text=re.compile(r'\\bComment\\sLetter\\(s\\)')):\n",
      "                base_file_url = 'http://yosemite.epa.gov/oeca/webeis.nsf/'\n",
      "                links = table[30].findAll('a')\n",
      "                for link in links:\n",
      "                    if link['href'] not in exclude_links:\n",
      "                        comment_letter_links.append(base_file_url + urllib2.quote(link['href'].encode('utf8').replace('?OpenElement', '').replace('../','')))\n",
      "                links = table[31].findAll('a')\n",
      "                for link in links:\n",
      "                    document_links.append(base_file_url + urllib2.quote(link['href'].encode('utf8').replace('?OpenElement', '').replace('../','')))\n",
      "            else: \n",
      "                links = table[30].findAll('a')\n",
      "                for link in links:\n",
      "                    document_links.append(base_file_url + urllib2.quote(link['href'].encode('utf8').replace('?OpenElement', '').replace('../','')))\n",
      "            num_comment_letter = len(comment_letter_links)\n",
      "            comment_letter_links = ' '.join(comment_letter_links)\n",
      "            num_documents = len(document_links)\n",
      "            document_links = ' '.join(document_links)\n",
      "            new_row = [row[1], row[2], row[3], row[4], row[5], row[6],\n",
      "                       eis_number, federal_register_date, contact_name, comment_due_review_date, contact_phone, \n",
      "                       amended_notice_date, amended_notice, supplemental_info, website, comment_letter_date, \n",
      "                       rating, num_comment_letter, comment_letter_links, num_documents, document_links]\n",
      "            for i in range(len(new_row)):  # For every value in our newrow\n",
      "                if hasattr(new_row[i], 'encode'):\n",
      "                    new_row[i] = new_row[i].encode('utf8')\n",
      "            df.loc[index] = new_row\n",
      "            index +=1"
     ],
     "language": "python",
     "metadata": {},
     "outputs": [
      {
       "output_type": "stream",
       "stream": "stdout",
       "text": [
        "Getting # 0: http://yosemite.epa.gov/oeca/webeis.nsf/EIS01/B04BCD1B90A159B585257C240021366C\n",
        "Getting # 1: http://yosemite.epa.gov/oeca/webeis.nsf/EIS01/B7155804E56CEB3F85257BEB001BA156"
       ]
      },
      {
       "output_type": "stream",
       "stream": "stdout",
       "text": [
        "\n",
        "Getting # 2: http://yosemite.epa.gov/oeca/webeis.nsf/EIS01/BFABCF0521B7F42085257BEB001BA13A"
       ]
      },
      {
       "output_type": "stream",
       "stream": "stdout",
       "text": [
        "\n",
        "Getting # 3: http://yosemite.epa.gov/oeca/webeis.nsf/EIS01/1FBDD8002CEF60D785257BEB001BA121"
       ]
      },
      {
       "output_type": "stream",
       "stream": "stdout",
       "text": [
        "\n",
        "Getting # 4: http://yosemite.epa.gov/oeca/webeis.nsf/EIS01/8E7F6181269C7F5E85257BEB001BA139"
       ]
      },
      {
       "output_type": "stream",
       "stream": "stdout",
       "text": [
        "\n",
        "Getting # 5: http://yosemite.epa.gov/oeca/webeis.nsf/EIS01/C498FF2AD72EC5B385257BEB001BA127"
       ]
      },
      {
       "output_type": "stream",
       "stream": "stdout",
       "text": [
        "\n",
        "Getting # 6: http://yosemite.epa.gov/oeca/webeis.nsf/EIS01/EA87E02A3731DC5185257BEB001BA12B"
       ]
      },
      {
       "output_type": "stream",
       "stream": "stdout",
       "text": [
        "\n",
        "Getting # 7: http://yosemite.epa.gov/oeca/webeis.nsf/EIS01/F4F37926B24135FF85257BEB001BA120"
       ]
      },
      {
       "output_type": "stream",
       "stream": "stdout",
       "text": [
        "\n",
        "Getting # 8: http://yosemite.epa.gov/oeca/webeis.nsf/EIS01/479B35991D4E04F685257BEB001BA131"
       ]
      },
      {
       "output_type": "stream",
       "stream": "stdout",
       "text": [
        "\n",
        "Getting # 9: http://yosemite.epa.gov/oeca/webeis.nsf/EIS01/D9A29651FE973A6A85257B000020FDCD"
       ]
      },
      {
       "output_type": "stream",
       "stream": "stdout",
       "text": [
        "\n",
        "Getting # 10: http://yosemite.epa.gov/oeca/webeis.nsf/EIS01/B1AB50184B7FC5E485257BEB001BA116"
       ]
      },
      {
       "output_type": "stream",
       "stream": "stdout",
       "text": [
        "\n",
        "Getting # 11: http://yosemite.epa.gov/oeca/webeis.nsf/EIS01/D5DE1FD1AF2C258685257BEB001BA114"
       ]
      },
      {
       "output_type": "stream",
       "stream": "stdout",
       "text": [
        "\n",
        "Getting # 12: http://yosemite.epa.gov/oeca/webeis.nsf/EIS01/6AADF02F06988BE685257BEB001BA103"
       ]
      },
      {
       "output_type": "stream",
       "stream": "stdout",
       "text": [
        "\n",
        "Getting # 13: http://yosemite.epa.gov/oeca/webeis.nsf/EIS01/822486F7953C6A6C85257BEB001BA110"
       ]
      },
      {
       "output_type": "stream",
       "stream": "stdout",
       "text": [
        "\n",
        "Getting # 14: http://yosemite.epa.gov/oeca/webeis.nsf/EIS01/EC0395351284F52485257BEB001BA0FC"
       ]
      },
      {
       "output_type": "stream",
       "stream": "stdout",
       "text": [
        "\n",
        "Getting # 15: http://yosemite.epa.gov/oeca/webeis.nsf/EIS01/5F118880E2E6097F85257BEB001BA0FF"
       ]
      },
      {
       "output_type": "stream",
       "stream": "stdout",
       "text": [
        "\n",
        "Getting # 16: http://yosemite.epa.gov/oeca/webeis.nsf/EIS01/1A8AF7E3E84553DE85257BEB001BA0EF"
       ]
      },
      {
       "output_type": "stream",
       "stream": "stdout",
       "text": [
        "\n",
        "Getting # 17: http://yosemite.epa.gov/oeca/webeis.nsf/EIS01/39FEAF477A4A80D685257BEB001BA0F5"
       ]
      },
      {
       "output_type": "stream",
       "stream": "stdout",
       "text": [
        "\n",
        "Getting # 18: http://yosemite.epa.gov/oeca/webeis.nsf/EIS01/F21ABEA659A3D0D185257BEB001BA0E7"
       ]
      },
      {
       "output_type": "stream",
       "stream": "stdout",
       "text": [
        "\n",
        "Getting # 19: http://yosemite.epa.gov/oeca/webeis.nsf/EIS01/7FEE0F1020E81FEB85257BEB001BA0E4"
       ]
      },
      {
       "output_type": "stream",
       "stream": "stdout",
       "text": [
        "\n",
        "Getting # 20: http://yosemite.epa.gov/oeca/webeis.nsf/EIS01/71B8A8E7F0ED8BCD85257BEB001BA0D3"
       ]
      },
      {
       "output_type": "stream",
       "stream": "stdout",
       "text": [
        "\n",
        "Getting # 21: http://yosemite.epa.gov/oeca/webeis.nsf/EIS01/E07A30E95ED8C55185257BEB001BA0CE"
       ]
      },
      {
       "output_type": "stream",
       "stream": "stdout",
       "text": [
        "\n",
        "Getting # 22: http://yosemite.epa.gov/oeca/webeis.nsf/EIS01/844308E5AF3DE1E785257BEB001BA0D0"
       ]
      },
      {
       "output_type": "stream",
       "stream": "stdout",
       "text": [
        "\n",
        "Getting # 23: http://yosemite.epa.gov/oeca/webeis.nsf/EIS01/33C06583B2C3CC5185257BEB001BA0DC"
       ]
      },
      {
       "output_type": "stream",
       "stream": "stdout",
       "text": [
        "\n",
        "Getting # 24: http://yosemite.epa.gov/oeca/webeis.nsf/EIS01/90D7B25D3A70E6C185257BEB001BA0E3"
       ]
      },
      {
       "output_type": "stream",
       "stream": "stdout",
       "text": [
        "\n",
        "Getting # 25: http://yosemite.epa.gov/oeca/webeis.nsf/EIS01/ED17E09378752E5485257BEB001BA0CD"
       ]
      },
      {
       "output_type": "stream",
       "stream": "stdout",
       "text": [
        "\n",
        "Getting # 26: http://yosemite.epa.gov/oeca/webeis.nsf/EIS01/3C847F09C9A2E23485257BEB001BA0CB"
       ]
      },
      {
       "output_type": "stream",
       "stream": "stdout",
       "text": [
        "\n",
        "Getting # 27: http://yosemite.epa.gov/oeca/webeis.nsf/EIS01/DA5F5D74EB20E35385257BEB001BA09E"
       ]
      },
      {
       "output_type": "stream",
       "stream": "stdout",
       "text": [
        "\n",
        "Getting # 28: http://yosemite.epa.gov/oeca/webeis.nsf/EIS01/E78C5A7AB46041B885257BEB001BA09F"
       ]
      },
      {
       "output_type": "stream",
       "stream": "stdout",
       "text": [
        "\n",
        "Getting # 29: http://yosemite.epa.gov/oeca/webeis.nsf/EIS01/20ED4F11A59DE90985257BEB001BA07F"
       ]
      },
      {
       "output_type": "stream",
       "stream": "stdout",
       "text": [
        "\n",
        "Getting # 30: http://yosemite.epa.gov/oeca/webeis.nsf/EIS01/CCB3A69D7EADA36C85257BEB001BA08B"
       ]
      },
      {
       "output_type": "stream",
       "stream": "stdout",
       "text": [
        "\n",
        "Getting # 31: http://yosemite.epa.gov/oeca/webeis.nsf/EIS01/A3ECE3CF159ECA2785257BEB001BA078"
       ]
      },
      {
       "output_type": "stream",
       "stream": "stdout",
       "text": [
        "\n",
        "Getting # 32: http://yosemite.epa.gov/oeca/webeis.nsf/EIS01/1280EC64B7B45E2585257BEB001BA069"
       ]
      },
      {
       "output_type": "stream",
       "stream": "stdout",
       "text": [
        "\n",
        "Getting # 33: http://yosemite.epa.gov/oeca/webeis.nsf/EIS01/444C8FA60D81275485257BEB001BA067"
       ]
      },
      {
       "output_type": "stream",
       "stream": "stdout",
       "text": [
        "\n",
        "Getting # 34: http://yosemite.epa.gov/oeca/webeis.nsf/EIS01/860EA8CB460C9BC885257BEB001BA05B"
       ]
      },
      {
       "output_type": "stream",
       "stream": "stdout",
       "text": [
        "\n",
        "Getting # 35: http://yosemite.epa.gov/oeca/webeis.nsf/EIS01/E5D42EB04219E82485257BEB001BA059"
       ]
      },
      {
       "output_type": "stream",
       "stream": "stdout",
       "text": [
        "\n",
        "Getting # 36: http://yosemite.epa.gov/oeca/webeis.nsf/EIS01/2DDB59301EAC80B385257BEB001BA051"
       ]
      },
      {
       "output_type": "stream",
       "stream": "stdout",
       "text": [
        "\n",
        "Getting # 37: http://yosemite.epa.gov/oeca/webeis.nsf/EIS01/658E70B4F02BA02785257BEB001BA056"
       ]
      },
      {
       "output_type": "stream",
       "stream": "stdout",
       "text": [
        "\n",
        "Getting # 38: http://yosemite.epa.gov/oeca/webeis.nsf/EIS01/CEF604933E86E6DC85257BEB001BA046"
       ]
      },
      {
       "output_type": "stream",
       "stream": "stdout",
       "text": [
        "\n",
        "Getting # 39: http://yosemite.epa.gov/oeca/webeis.nsf/EIS01/E21819A34EE9496985257BEB001BA043"
       ]
      },
      {
       "output_type": "stream",
       "stream": "stdout",
       "text": [
        "\n",
        "Getting # 40: http://yosemite.epa.gov/oeca/webeis.nsf/EIS01/4B1DC2FCFF75E4D385257BEB001BA031"
       ]
      },
      {
       "output_type": "stream",
       "stream": "stdout",
       "text": [
        "\n",
        "Getting # 41: http://yosemite.epa.gov/oeca/webeis.nsf/EIS01/03A72F3D7E194B3D85257BEB001BA02D"
       ]
      },
      {
       "output_type": "stream",
       "stream": "stdout",
       "text": [
        "\n",
        "Getting # 42: http://yosemite.epa.gov/oeca/webeis.nsf/EIS01/CA9430E2B2F94FCF85257BEB001BA011"
       ]
      },
      {
       "output_type": "stream",
       "stream": "stdout",
       "text": [
        "\n",
        "Getting # 43: http://yosemite.epa.gov/oeca/webeis.nsf/EIS01/E8BB3FB48D07CC0685257BEB001BA018"
       ]
      },
      {
       "output_type": "stream",
       "stream": "stdout",
       "text": [
        "\n",
        "Getting # 44: http://yosemite.epa.gov/oeca/webeis.nsf/EIS01/C10726B8359A6F1385257BEB001BA008"
       ]
      },
      {
       "output_type": "stream",
       "stream": "stdout",
       "text": [
        "\n",
        "Getting # 45: http://yosemite.epa.gov/oeca/webeis.nsf/EIS01/74E006FCC4743A9885257BEB001BA005"
       ]
      },
      {
       "output_type": "stream",
       "stream": "stdout",
       "text": [
        "\n",
        "Getting # 46: http://yosemite.epa.gov/oeca/webeis.nsf/EIS01/5B029FCEAB5F3A2F85257BEB001B9FFF"
       ]
      },
      {
       "output_type": "stream",
       "stream": "stdout",
       "text": [
        "\n",
        "Getting # 47: http://yosemite.epa.gov/oeca/webeis.nsf/EIS01/A3A42FC5005FF2D185257BEB001B9FF7"
       ]
      },
      {
       "output_type": "stream",
       "stream": "stdout",
       "text": [
        "\n",
        "Getting # 48: http://yosemite.epa.gov/oeca/webeis.nsf/EIS01/55F55E85597DDBC885257BEB001B9FEA"
       ]
      },
      {
       "output_type": "stream",
       "stream": "stdout",
       "text": [
        "\n",
        "Getting # 49: http://yosemite.epa.gov/oeca/webeis.nsf/EIS01/63385F2DDC9D1F3485257BEB001B9FDF"
       ]
      },
      {
       "output_type": "stream",
       "stream": "stdout",
       "text": [
        "\n",
        "Getting # 50: http://yosemite.epa.gov/oeca/webeis.nsf/EIS01/BFEF549D71B3DABF85257BEB001B9FE4"
       ]
      },
      {
       "output_type": "stream",
       "stream": "stdout",
       "text": [
        "\n",
        "Getting # 51: http://yosemite.epa.gov/oeca/webeis.nsf/EIS01/EEFA25094C1BF4BB85257BEB001B9FE9"
       ]
      },
      {
       "output_type": "stream",
       "stream": "stdout",
       "text": [
        "\n",
        "Getting # 52: http://yosemite.epa.gov/oeca/webeis.nsf/EIS01/BA50AEE6439342F885257BEB001B9FD7"
       ]
      },
      {
       "output_type": "stream",
       "stream": "stdout",
       "text": [
        "\n",
        "Getting # 53: http://yosemite.epa.gov/oeca/webeis.nsf/EIS01/846698707F6FB93A85257BEB001B9FCD"
       ]
      },
      {
       "output_type": "stream",
       "stream": "stdout",
       "text": [
        "\n",
        "Getting # 54: http://yosemite.epa.gov/oeca/webeis.nsf/EIS01/9316B9D12349301B85257BEB001B9FCE"
       ]
      },
      {
       "output_type": "stream",
       "stream": "stdout",
       "text": [
        "\n",
        "Getting # 55: http://yosemite.epa.gov/oeca/webeis.nsf/EIS01/990713DA21D694E385257BEB001B9FD9"
       ]
      },
      {
       "output_type": "stream",
       "stream": "stdout",
       "text": [
        "\n",
        "Getting # 56: http://yosemite.epa.gov/oeca/webeis.nsf/EIS01/DB6063325FDA00F485257BEB001B9FCB"
       ]
      },
      {
       "output_type": "stream",
       "stream": "stdout",
       "text": [
        "\n",
        "Getting # 57: http://yosemite.epa.gov/oeca/webeis.nsf/EIS01/EF831B1F6D42F41985257BEB001B9FD4"
       ]
      },
      {
       "output_type": "stream",
       "stream": "stdout",
       "text": [
        "\n",
        "Getting # 58: http://yosemite.epa.gov/oeca/webeis.nsf/EIS01/46EDBF2DC049FD4585257BEB001B9FAA"
       ]
      },
      {
       "output_type": "stream",
       "stream": "stdout",
       "text": [
        "\n",
        "Getting # 59: http://yosemite.epa.gov/oeca/webeis.nsf/EIS01/40E331947570667585257BEB001B9FAF"
       ]
      },
      {
       "output_type": "stream",
       "stream": "stdout",
       "text": [
        "\n",
        "Getting # 60: http://yosemite.epa.gov/oeca/webeis.nsf/EIS01/DAEBFF42214EBFFA85257BEB001B9FBD"
       ]
      },
      {
       "output_type": "stream",
       "stream": "stdout",
       "text": [
        "\n",
        "Getting # 61: http://yosemite.epa.gov/oeca/webeis.nsf/EIS01/C406CBE17E6CD44485257BEB001B9F93"
       ]
      },
      {
       "output_type": "stream",
       "stream": "stdout",
       "text": [
        "\n",
        "Getting # 62: http://yosemite.epa.gov/oeca/webeis.nsf/EIS01/C4FA175635C423AA85257BEB001B9F94"
       ]
      },
      {
       "output_type": "stream",
       "stream": "stdout",
       "text": [
        "\n",
        "Getting # 63: http://yosemite.epa.gov/oeca/webeis.nsf/EIS01/C7027EF74B96AF8485257BEB001B9F9E"
       ]
      },
      {
       "output_type": "stream",
       "stream": "stdout",
       "text": [
        "\n",
        "Getting # 64: http://yosemite.epa.gov/oeca/webeis.nsf/EIS01/620AB3D4EB826D3C85257BEB001B9F77"
       ]
      },
      {
       "output_type": "stream",
       "stream": "stdout",
       "text": [
        "\n",
        "Getting # 65: http://yosemite.epa.gov/oeca/webeis.nsf/EIS01/BA41067D0DCA587685257BEB001B9F88"
       ]
      },
      {
       "output_type": "stream",
       "stream": "stdout",
       "text": [
        "\n",
        "Getting # 66: http://yosemite.epa.gov/oeca/webeis.nsf/EIS01/EF1E4F8F51BBBAB385257BEB001B9F7E"
       ]
      },
      {
       "output_type": "stream",
       "stream": "stdout",
       "text": [
        "\n",
        "Getting # 67: http://yosemite.epa.gov/oeca/webeis.nsf/EIS01/4EA11D74C1903FB585257BEB001B9F85"
       ]
      },
      {
       "output_type": "stream",
       "stream": "stdout",
       "text": [
        "\n",
        "Getting # 68: http://yosemite.epa.gov/oeca/webeis.nsf/EIS01/CE54ECF5D05E6BA885257BEB001B9F89"
       ]
      },
      {
       "output_type": "stream",
       "stream": "stdout",
       "text": [
        "\n",
        "Getting # 69: http://yosemite.epa.gov/oeca/webeis.nsf/EIS01/85934AE8DBE50AF985257BEB001B9F7B"
       ]
      },
      {
       "output_type": "stream",
       "stream": "stdout",
       "text": [
        "\n",
        "Getting # 70: http://yosemite.epa.gov/oeca/webeis.nsf/EIS01/CB156D4300A1207285257BEB001B9F5A"
       ]
      },
      {
       "output_type": "stream",
       "stream": "stdout",
       "text": [
        "\n",
        "Getting # 71: http://yosemite.epa.gov/oeca/webeis.nsf/EIS01/F787564C7458382585257BEB001B9F64"
       ]
      },
      {
       "output_type": "stream",
       "stream": "stdout",
       "text": [
        "\n",
        "Getting # 72: http://yosemite.epa.gov/oeca/webeis.nsf/EIS01/9A7A23DE8863479A85257BEB001B9F54"
       ]
      },
      {
       "output_type": "stream",
       "stream": "stdout",
       "text": [
        "\n",
        "Getting # 73: http://yosemite.epa.gov/oeca/webeis.nsf/EIS01/46A0D717975325C185257BEB001B9F51"
       ]
      },
      {
       "output_type": "stream",
       "stream": "stdout",
       "text": [
        "\n",
        "Getting # 74: http://yosemite.epa.gov/oeca/webeis.nsf/EIS01/79B788AED9AECFEA85257BEB001B9F56"
       ]
      },
      {
       "output_type": "stream",
       "stream": "stdout",
       "text": [
        "\n",
        "Getting # 75: http://yosemite.epa.gov/oeca/webeis.nsf/EIS01/F055BB7C23871EBD85257BEB001B9F46"
       ]
      },
      {
       "output_type": "stream",
       "stream": "stdout",
       "text": [
        "\n",
        "Getting # 76: http://yosemite.epa.gov/oeca/webeis.nsf/EIS01/1EE7626D0908824785257BEB001B9F1E"
       ]
      },
      {
       "output_type": "stream",
       "stream": "stdout",
       "text": [
        "\n",
        "Getting # 77: http://yosemite.epa.gov/oeca/webeis.nsf/EIS01/234294C8D0DC412885257BEB001B9F1C"
       ]
      },
      {
       "output_type": "stream",
       "stream": "stdout",
       "text": [
        "\n",
        "Getting # 78: http://yosemite.epa.gov/oeca/webeis.nsf/EIS01/4A8B55AE73B3139F85257BEB001B9F2A"
       ]
      },
      {
       "output_type": "stream",
       "stream": "stdout",
       "text": [
        "\n",
        "Getting # 79: http://yosemite.epa.gov/oeca/webeis.nsf/EIS01/66C30CFD57F5020085257BEB001B9F3E"
       ]
      },
      {
       "output_type": "stream",
       "stream": "stdout",
       "text": [
        "\n",
        "Getting # 80: http://yosemite.epa.gov/oeca/webeis.nsf/EIS01/6BE859D09610465185257BEB001B9F24"
       ]
      },
      {
       "output_type": "stream",
       "stream": "stdout",
       "text": [
        "\n",
        "Getting # 81: http://yosemite.epa.gov/oeca/webeis.nsf/EIS01/83B9A64B7353978185257BEB001B9F1F"
       ]
      },
      {
       "output_type": "stream",
       "stream": "stdout",
       "text": [
        "\n",
        "Getting # 82: http://yosemite.epa.gov/oeca/webeis.nsf/EIS01/BA7CC65AD8F88B8E85257BEB001B9F38"
       ]
      },
      {
       "output_type": "stream",
       "stream": "stdout",
       "text": [
        "\n",
        "Getting # 83: http://yosemite.epa.gov/oeca/webeis.nsf/EIS01/DDF6AA408E6FFA3F85257BEB001B9F43"
       ]
      },
      {
       "output_type": "stream",
       "stream": "stdout",
       "text": [
        "\n",
        "Getting # 84: http://yosemite.epa.gov/oeca/webeis.nsf/EIS01/83884C5A1A64334A85257BEB001B9F00"
       ]
      },
      {
       "output_type": "stream",
       "stream": "stdout",
       "text": [
        "\n",
        "Getting # 85: http://yosemite.epa.gov/oeca/webeis.nsf/EIS01/906D4A85962C82E685257BEB001B9F14"
       ]
      },
      {
       "output_type": "stream",
       "stream": "stdout",
       "text": [
        "\n",
        "Getting # 86: http://yosemite.epa.gov/oeca/webeis.nsf/EIS01/EFBB0DCAE29BF1B985257BEB001B9F01"
       ]
      },
      {
       "output_type": "stream",
       "stream": "stdout",
       "text": [
        "\n",
        "Getting # 87: http://yosemite.epa.gov/oeca/webeis.nsf/EIS01/3737C89E529FF2BB85257BEB001B9F0E"
       ]
      },
      {
       "output_type": "stream",
       "stream": "stdout",
       "text": [
        "\n",
        "Getting # 88: http://yosemite.epa.gov/oeca/webeis.nsf/EIS01/CBF0E9C31D4593C485257BEB001B9F0F"
       ]
      },
      {
       "output_type": "stream",
       "stream": "stdout",
       "text": [
        "\n",
        "Getting # 89: http://yosemite.epa.gov/oeca/webeis.nsf/EIS01/40FF102845E1A4BF85257BEB001B9F05"
       ]
      },
      {
       "output_type": "stream",
       "stream": "stdout",
       "text": [
        "\n",
        "Getting # 90: http://yosemite.epa.gov/oeca/webeis.nsf/EIS01/B56151FCC3FE785485257BEB001B9EF2"
       ]
      },
      {
       "output_type": "stream",
       "stream": "stdout",
       "text": [
        "\n",
        "Getting # 91: http://yosemite.epa.gov/oeca/webeis.nsf/EIS01/7CC1B8E412C0B15285257BEB001B9EEA"
       ]
      },
      {
       "output_type": "stream",
       "stream": "stdout",
       "text": [
        "\n",
        "Getting # 92: http://yosemite.epa.gov/oeca/webeis.nsf/EIS01/A5AC6F06C34825CD85257BEB001B9EF0"
       ]
      },
      {
       "output_type": "stream",
       "stream": "stdout",
       "text": [
        "\n",
        "Getting # 93: http://yosemite.epa.gov/oeca/webeis.nsf/EIS01/CC4C557E671601F985257BEB001B9EDD"
       ]
      },
      {
       "output_type": "stream",
       "stream": "stdout",
       "text": [
        "\n",
        "Getting # 94: http://yosemite.epa.gov/oeca/webeis.nsf/EIS01/F46EFA0B82AF9CD585257BEB001B9EFB"
       ]
      },
      {
       "output_type": "stream",
       "stream": "stdout",
       "text": [
        "\n",
        "Getting # 95: http://yosemite.epa.gov/oeca/webeis.nsf/EIS01/AA955657D88573BB85257BEB001B9ED3"
       ]
      },
      {
       "output_type": "stream",
       "stream": "stdout",
       "text": [
        "\n",
        "Getting # 96: http://yosemite.epa.gov/oeca/webeis.nsf/EIS01/B9BADAC1337EA5B585257BEB001B9ED9"
       ]
      },
      {
       "output_type": "stream",
       "stream": "stdout",
       "text": [
        "\n",
        "Getting # 97: http://yosemite.epa.gov/oeca/webeis.nsf/EIS01/01A24C539B69E41085257BEB001B9EAD"
       ]
      },
      {
       "output_type": "stream",
       "stream": "stdout",
       "text": [
        "\n",
        "Getting # 98: http://yosemite.epa.gov/oeca/webeis.nsf/EIS01/162858947916551D85257BEB001B9EB3"
       ]
      },
      {
       "output_type": "stream",
       "stream": "stdout",
       "text": [
        "\n",
        "Getting # 99: http://yosemite.epa.gov/oeca/webeis.nsf/EIS01/2B48BC90B21F79D985257BEB001B9EA2"
       ]
      },
      {
       "output_type": "stream",
       "stream": "stdout",
       "text": [
        "\n",
        "Getting # 100: http://yosemite.epa.gov/oeca/webeis.nsf/EIS01/7F5F2D11E9D3332E85257BEB001B9EBE"
       ]
      },
      {
       "output_type": "stream",
       "stream": "stdout",
       "text": [
        "\n",
        "Getting # 101: http://yosemite.epa.gov/oeca/webeis.nsf/EIS01/8FB6677C7026B1EA85257BEB001B9EB6"
       ]
      },
      {
       "output_type": "stream",
       "stream": "stdout",
       "text": [
        "\n",
        "Getting # 102: http://yosemite.epa.gov/oeca/webeis.nsf/EIS01/DAA1265CA12FB77085257BEB001B9EBA"
       ]
      },
      {
       "output_type": "stream",
       "stream": "stdout",
       "text": [
        "\n",
        "Getting # 103: http://yosemite.epa.gov/oeca/webeis.nsf/EIS01/F3D71BE50F761D9C85257BEB001B9EB0"
       ]
      },
      {
       "output_type": "stream",
       "stream": "stdout",
       "text": [
        "\n",
        "Getting # 104: http://yosemite.epa.gov/oeca/webeis.nsf/EIS01/04602BE894E98CCD85257BEB001B9EB2"
       ]
      },
      {
       "output_type": "stream",
       "stream": "stdout",
       "text": [
        "\n",
        "Getting # 105: http://yosemite.epa.gov/oeca/webeis.nsf/EIS01/CB0A51E204E3BA8085257BEB001B9EA1"
       ]
      },
      {
       "output_type": "stream",
       "stream": "stdout",
       "text": [
        "\n",
        "Getting # 106: http://yosemite.epa.gov/oeca/webeis.nsf/EIS01/B8FD10D5975FD40085257BEB001B9E97"
       ]
      },
      {
       "output_type": "stream",
       "stream": "stdout",
       "text": [
        "\n",
        "Getting # 107: http://yosemite.epa.gov/oeca/webeis.nsf/EIS01/6DA1274677D6CBA385257BEB001B9E92"
       ]
      },
      {
       "output_type": "stream",
       "stream": "stdout",
       "text": [
        "\n",
        "Getting # 108: http://yosemite.epa.gov/oeca/webeis.nsf/EIS01/EAE495D2802CD95785257BEB001B9E94"
       ]
      },
      {
       "output_type": "stream",
       "stream": "stdout",
       "text": [
        "\n",
        "Getting # 109: http://yosemite.epa.gov/oeca/webeis.nsf/EIS01/16251EEC0D76D8A285257BEB001B9E7B"
       ]
      },
      {
       "output_type": "stream",
       "stream": "stdout",
       "text": [
        "\n",
        "Getting # 110: http://yosemite.epa.gov/oeca/webeis.nsf/EIS01/4A19ECA7606F464585257BEB001B9E81"
       ]
      },
      {
       "output_type": "stream",
       "stream": "stdout",
       "text": [
        "\n",
        "Getting # 111: http://yosemite.epa.gov/oeca/webeis.nsf/EIS01/C9659CCA24F0163A85257BEB001B9E8C"
       ]
      },
      {
       "output_type": "stream",
       "stream": "stdout",
       "text": [
        "\n",
        "Getting # 112: http://yosemite.epa.gov/oeca/webeis.nsf/EIS01/F2741097EA0D9A3385257BEB001B9E78"
       ]
      },
      {
       "output_type": "stream",
       "stream": "stdout",
       "text": [
        "\n",
        "Getting # 113: http://yosemite.epa.gov/oeca/webeis.nsf/EIS01/A306905A73E9445285257BEB001B9E76"
       ]
      },
      {
       "output_type": "stream",
       "stream": "stdout",
       "text": [
        "\n",
        "Getting # 114: http://yosemite.epa.gov/oeca/webeis.nsf/EIS01/8F5036B435ED6AA885257BEB001B9E70"
       ]
      },
      {
       "output_type": "stream",
       "stream": "stdout",
       "text": [
        "\n",
        "Getting # 115: http://yosemite.epa.gov/oeca/webeis.nsf/EIS01/466C7914BFD8EC4F85257BEB001B9E73"
       ]
      },
      {
       "output_type": "stream",
       "stream": "stdout",
       "text": [
        "\n",
        "Getting # 116: http://yosemite.epa.gov/oeca/webeis.nsf/EIS01/0AF9F76682C7620785257BEB001B9E5F"
       ]
      },
      {
       "output_type": "stream",
       "stream": "stdout",
       "text": [
        "\n",
        "Getting # 117: http://yosemite.epa.gov/oeca/webeis.nsf/EIS01/9BED4C0CC9E5AC5285257BEB001B9E60"
       ]
      },
      {
       "output_type": "stream",
       "stream": "stdout",
       "text": [
        "\n",
        "Getting # 118: http://yosemite.epa.gov/oeca/webeis.nsf/EIS01/A8BB97EEFB73A15F85257BEB001B9E59"
       ]
      },
      {
       "output_type": "stream",
       "stream": "stdout",
       "text": [
        "\n",
        "Getting # 119: http://yosemite.epa.gov/oeca/webeis.nsf/EIS01/7861BA85BA2413C085257BEB001B9E33"
       ]
      },
      {
       "output_type": "stream",
       "stream": "stdout",
       "text": [
        "\n",
        "Getting # 120: http://yosemite.epa.gov/oeca/webeis.nsf/EIS01/9281A32D150358EE85257BEB001B9E35"
       ]
      },
      {
       "output_type": "stream",
       "stream": "stdout",
       "text": [
        "\n",
        "Getting # 121: http://yosemite.epa.gov/oeca/webeis.nsf/EIS01/C267FE7B1A05503185257BEB001B9E47"
       ]
      },
      {
       "output_type": "stream",
       "stream": "stdout",
       "text": [
        "\n",
        "Getting # 122: http://yosemite.epa.gov/oeca/webeis.nsf/EIS01/A20272CD10FAF3DE85257BEB001B9E17"
       ]
      },
      {
       "output_type": "stream",
       "stream": "stdout",
       "text": [
        "\n",
        "Getting # 123: http://yosemite.epa.gov/oeca/webeis.nsf/EIS01/F4F57FE5EF7421BE85257BEB001B9E2B"
       ]
      },
      {
       "output_type": "stream",
       "stream": "stdout",
       "text": [
        "\n",
        "Getting # 124: http://yosemite.epa.gov/oeca/webeis.nsf/EIS01/112B5A2A7F5F263285257BEB001B9E12"
       ]
      },
      {
       "output_type": "stream",
       "stream": "stdout",
       "text": [
        "\n",
        "Getting # 125: http://yosemite.epa.gov/oeca/webeis.nsf/EIS01/2078A9EB9131E97D85257BEB001B9E28"
       ]
      },
      {
       "output_type": "stream",
       "stream": "stdout",
       "text": [
        "\n",
        "Getting # 126: http://yosemite.epa.gov/oeca/webeis.nsf/EIS01/924AE01F48CD35D185257BEB001B9E19"
       ]
      },
      {
       "output_type": "stream",
       "stream": "stdout",
       "text": [
        "\n",
        "Getting # 127: http://yosemite.epa.gov/oeca/webeis.nsf/EIS01/B166C14D116D2C7285257BEB001B9E1D"
       ]
      },
      {
       "output_type": "stream",
       "stream": "stdout",
       "text": [
        "\n",
        "Getting # 128: http://yosemite.epa.gov/oeca/webeis.nsf/EIS01/E9DCD2ECE2441B3885257BEB001B9E1F"
       ]
      },
      {
       "output_type": "stream",
       "stream": "stdout",
       "text": [
        "\n",
        "Getting # 129: http://yosemite.epa.gov/oeca/webeis.nsf/EIS01/FA10615AB63AD1AD85257BEB001B9E24"
       ]
      },
      {
       "output_type": "stream",
       "stream": "stdout",
       "text": [
        "\n",
        "Getting # 130: http://yosemite.epa.gov/oeca/webeis.nsf/EIS01/200E1DCB3934972385257BEB001B9E11"
       ]
      },
      {
       "output_type": "stream",
       "stream": "stdout",
       "text": [
        "\n",
        "Getting # 131: http://yosemite.epa.gov/oeca/webeis.nsf/EIS01/2887B0A7AAC6C02985257BEB001B9E06"
       ]
      },
      {
       "output_type": "stream",
       "stream": "stdout",
       "text": [
        "\n",
        "Getting # 132: http://yosemite.epa.gov/oeca/webeis.nsf/EIS01/CECA4D968F184CF185257BEB001B9DF9"
       ]
      },
      {
       "output_type": "stream",
       "stream": "stdout",
       "text": [
        "\n",
        "Getting # 133: http://yosemite.epa.gov/oeca/webeis.nsf/EIS01/E1D5A03F3A9023A385257BEB001B9DEA"
       ]
      },
      {
       "output_type": "stream",
       "stream": "stdout",
       "text": [
        "\n",
        "Getting # 134: http://yosemite.epa.gov/oeca/webeis.nsf/EIS01/005AC8B36D41058885257BEB001B9DD5"
       ]
      },
      {
       "output_type": "stream",
       "stream": "stdout",
       "text": [
        "\n",
        "Getting # 135: http://yosemite.epa.gov/oeca/webeis.nsf/EIS01/8878E565528404E785257BEB001B9DE0"
       ]
      },
      {
       "output_type": "stream",
       "stream": "stdout",
       "text": [
        "\n",
        "Getting # 136: http://yosemite.epa.gov/oeca/webeis.nsf/EIS01/89C31184C71FDA8E85257BEB001B9DDA"
       ]
      },
      {
       "output_type": "stream",
       "stream": "stdout",
       "text": [
        "\n",
        "Getting # 137: http://yosemite.epa.gov/oeca/webeis.nsf/EIS01/A7EDB5F468B5068885257BEB001B9DED"
       ]
      },
      {
       "output_type": "stream",
       "stream": "stdout",
       "text": [
        "\n",
        "Getting # 138: http://yosemite.epa.gov/oeca/webeis.nsf/EIS01/BAF4876452502BFA85257BEB001B9DEB"
       ]
      },
      {
       "output_type": "stream",
       "stream": "stdout",
       "text": [
        "\n",
        "Getting # 139: http://yosemite.epa.gov/oeca/webeis.nsf/EIS01/BB1D4A7FB461A01985257BEB001B9DE2"
       ]
      },
      {
       "output_type": "stream",
       "stream": "stdout",
       "text": [
        "\n",
        "Getting # 140: http://yosemite.epa.gov/oeca/webeis.nsf/EIS01/E164E7B1A0DAAC8985257BEB001B9DD9"
       ]
      },
      {
       "output_type": "stream",
       "stream": "stdout",
       "text": [
        "\n",
        "Getting # 141: http://yosemite.epa.gov/oeca/webeis.nsf/EIS01/0C21460C319C6E2685257BEB001B9DA7"
       ]
      },
      {
       "output_type": "stream",
       "stream": "stdout",
       "text": [
        "\n",
        "Getting # 142: http://yosemite.epa.gov/oeca/webeis.nsf/EIS01/16A0D2AB0CFA145885257BEB001B9DA5"
       ]
      },
      {
       "output_type": "stream",
       "stream": "stdout",
       "text": [
        "\n",
        "Getting # 143: http://yosemite.epa.gov/oeca/webeis.nsf/EIS01/177244EB4363070785257BEB001B9DC0"
       ]
      },
      {
       "output_type": "stream",
       "stream": "stdout",
       "text": [
        "\n",
        "Getting # 144: http://yosemite.epa.gov/oeca/webeis.nsf/EIS01/54E4FFCE048ACE4285257BEB001B9DD4"
       ]
      },
      {
       "output_type": "stream",
       "stream": "stdout",
       "text": [
        "\n",
        "Getting # 145: http://yosemite.epa.gov/oeca/webeis.nsf/EIS01/7314A743A3078DF085257BEB001B9DBB"
       ]
      },
      {
       "output_type": "stream",
       "stream": "stdout",
       "text": [
        "\n",
        "Getting # 146: http://yosemite.epa.gov/oeca/webeis.nsf/EIS01/927B2C5FADBD23E885257BEB001B9DC1"
       ]
      },
      {
       "output_type": "stream",
       "stream": "stdout",
       "text": [
        "\n",
        "Getting # 147: http://yosemite.epa.gov/oeca/webeis.nsf/EIS01/AAB1EBA1FEC4D1D285257BEB001B9DA8"
       ]
      },
      {
       "output_type": "stream",
       "stream": "stdout",
       "text": [
        "\n",
        "Getting # 148: http://yosemite.epa.gov/oeca/webeis.nsf/EIS01/AC00833E2D1BED2085257BEB001B9DB9"
       ]
      },
      {
       "output_type": "stream",
       "stream": "stdout",
       "text": [
        "\n",
        "Getting # 149: http://yosemite.epa.gov/oeca/webeis.nsf/EIS01/EA022F6DC68B036685257BEB001B9DAE"
       ]
      },
      {
       "output_type": "stream",
       "stream": "stdout",
       "text": [
        "\n",
        "Getting # 150: http://yosemite.epa.gov/oeca/webeis.nsf/EIS01/DC30020873D58C3685257BEB001B9D91"
       ]
      },
      {
       "output_type": "stream",
       "stream": "stdout",
       "text": [
        "\n",
        "Getting # 151: http://yosemite.epa.gov/oeca/webeis.nsf/EIS01/2ED76F0BDCD553B785257BEB001B9D87"
       ]
      },
      {
       "output_type": "stream",
       "stream": "stdout",
       "text": [
        "\n",
        "Getting # 152: http://yosemite.epa.gov/oeca/webeis.nsf/EIS01/5416D501EE0B8BD985257BEB001B9D9F"
       ]
      },
      {
       "output_type": "stream",
       "stream": "stdout",
       "text": [
        "\n",
        "Getting # 153: http://yosemite.epa.gov/oeca/webeis.nsf/EIS01/8C098364F7184B1585257BEB001B9D9A"
       ]
      },
      {
       "output_type": "stream",
       "stream": "stdout",
       "text": [
        "\n",
        "Getting # 154: http://yosemite.epa.gov/oeca/webeis.nsf/EIS01/BEE21DB3D48DC7D085257BEB001B9D98"
       ]
      },
      {
       "output_type": "stream",
       "stream": "stdout",
       "text": [
        "\n",
        "Getting # 155: http://yosemite.epa.gov/oeca/webeis.nsf/EIS01/C2B43F9ADA8F8CF985257BEB001B9D8E"
       ]
      },
      {
       "output_type": "stream",
       "stream": "stdout",
       "text": [
        "\n",
        "Getting # 156: http://yosemite.epa.gov/oeca/webeis.nsf/EIS01/D9B3D88967ADFB8885257BEB001B9D7E"
       ]
      },
      {
       "output_type": "stream",
       "stream": "stdout",
       "text": [
        "\n",
        "Getting # 157: http://yosemite.epa.gov/oeca/webeis.nsf/EIS01/5A1BB476740B9DF485257BEB001B9D71"
       ]
      },
      {
       "output_type": "stream",
       "stream": "stdout",
       "text": [
        "\n",
        "Getting # 158: http://yosemite.epa.gov/oeca/webeis.nsf/EIS01/9F80A0FA581DC5C785257BEB001B9D7B"
       ]
      },
      {
       "output_type": "stream",
       "stream": "stdout",
       "text": [
        "\n",
        "Getting # 159: http://yosemite.epa.gov/oeca/webeis.nsf/EIS01/28456FBAA24965B785257BEB001B9D5D"
       ]
      },
      {
       "output_type": "stream",
       "stream": "stdout",
       "text": [
        "\n",
        "Getting # 160: http://yosemite.epa.gov/oeca/webeis.nsf/EIS01/566AC6045C1574B185257BEB001B9D60"
       ]
      },
      {
       "output_type": "stream",
       "stream": "stdout",
       "text": [
        "\n",
        "Getting # 161: http://yosemite.epa.gov/oeca/webeis.nsf/EIS01/C0DF6D5E3EDF625985257BEB001B9D65"
       ]
      },
      {
       "output_type": "stream",
       "stream": "stdout",
       "text": [
        "\n",
        "Getting # 162: http://yosemite.epa.gov/oeca/webeis.nsf/EIS01/06A40727F0E8AA9485257BEB001B9D5C"
       ]
      },
      {
       "output_type": "stream",
       "stream": "stdout",
       "text": [
        "\n",
        "Getting # 163: http://yosemite.epa.gov/oeca/webeis.nsf/EIS01/49A26A4D87BC0A3E85257BEB001B9D3B"
       ]
      },
      {
       "output_type": "stream",
       "stream": "stdout",
       "text": [
        "\n",
        "Getting # 164: http://yosemite.epa.gov/oeca/webeis.nsf/EIS01/81DB292776725D2785257BEB001B9D51"
       ]
      },
      {
       "output_type": "stream",
       "stream": "stdout",
       "text": [
        "\n",
        "Getting # 165: http://yosemite.epa.gov/oeca/webeis.nsf/EIS01/D4D792B3D421946085257BEB001B9D44"
       ]
      },
      {
       "output_type": "stream",
       "stream": "stdout",
       "text": [
        "\n",
        "Getting # 166: http://yosemite.epa.gov/oeca/webeis.nsf/EIS01/FE0A93ED7D8C05DD85257BEB001B9D31"
       ]
      },
      {
       "output_type": "stream",
       "stream": "stdout",
       "text": [
        "\n",
        "Getting # 167: http://yosemite.epa.gov/oeca/webeis.nsf/EIS01/49B753F6E4D03A7885257BEB001B9D2A"
       ]
      },
      {
       "output_type": "stream",
       "stream": "stdout",
       "text": [
        "\n",
        "Getting # 168: http://yosemite.epa.gov/oeca/webeis.nsf/EIS01/4FAEC7AD9B54508B85257BEB001B9D25"
       ]
      },
      {
       "output_type": "stream",
       "stream": "stdout",
       "text": [
        "\n",
        "Getting # 169: http://yosemite.epa.gov/oeca/webeis.nsf/EIS01/B6E75BE7BED6E0A085257BEB001B9D0A"
       ]
      },
      {
       "output_type": "stream",
       "stream": "stdout",
       "text": [
        "\n",
        "Getting # 170: http://yosemite.epa.gov/oeca/webeis.nsf/EIS01/310A4C803AE57E8185257BEB001B9D22"
       ]
      },
      {
       "output_type": "stream",
       "stream": "stdout",
       "text": [
        "\n",
        "Getting # 171: http://yosemite.epa.gov/oeca/webeis.nsf/EIS01/C30FD33E5384CF3A85257BEB001B9CFC"
       ]
      },
      {
       "output_type": "stream",
       "stream": "stdout",
       "text": [
        "\n",
        "Getting # 172: http://yosemite.epa.gov/oeca/webeis.nsf/EIS01/FE6DF53EB1CBED4085257BEB001B9D0F"
       ]
      },
      {
       "output_type": "stream",
       "stream": "stdout",
       "text": [
        "\n",
        "Getting # 173: http://yosemite.epa.gov/oeca/webeis.nsf/EIS01/FBD9CA2038C35BC685257B000020FDBE"
       ]
      },
      {
       "output_type": "stream",
       "stream": "stdout",
       "text": [
        "\n",
        "Getting # 174: http://yosemite.epa.gov/oeca/webeis.nsf/EIS01/60C9486F989BA2CC85257BEB001B9CDD"
       ]
      },
      {
       "output_type": "stream",
       "stream": "stdout",
       "text": [
        "\n",
        "Getting # 175: http://yosemite.epa.gov/oeca/webeis.nsf/EIS01/8232891020C3653785257BEB001B9CE8"
       ]
      },
      {
       "output_type": "stream",
       "stream": "stdout",
       "text": [
        "\n",
        "Getting # 176: http://yosemite.epa.gov/oeca/webeis.nsf/EIS01/B173D0E0E79876B585257BEB001B9CEE"
       ]
      },
      {
       "output_type": "stream",
       "stream": "stdout",
       "text": [
        "\n",
        "Getting # 177: http://yosemite.epa.gov/oeca/webeis.nsf/EIS01/B2B46193DD270F9485257BEB001B9CF0"
       ]
      },
      {
       "output_type": "stream",
       "stream": "stdout",
       "text": [
        "\n",
        "Getting # 178: http://yosemite.epa.gov/oeca/webeis.nsf/EIS01/C4F9D1D8E73CEC5385257BEB001B9CF4"
       ]
      },
      {
       "output_type": "stream",
       "stream": "stdout",
       "text": [
        "\n",
        "Getting # 179: http://yosemite.epa.gov/oeca/webeis.nsf/EIS01/D0DA225D67957A0585257BEB001B9CE9"
       ]
      },
      {
       "output_type": "stream",
       "stream": "stdout",
       "text": [
        "\n",
        "Getting # 180: http://yosemite.epa.gov/oeca/webeis.nsf/EIS01/E408E76CE389ECF185257BEB001B9CE5"
       ]
      },
      {
       "output_type": "stream",
       "stream": "stdout",
       "text": [
        "\n",
        "Getting # 181: http://yosemite.epa.gov/oeca/webeis.nsf/EIS01/D8C8D36B619C2C7485257B000020FDBC"
       ]
      },
      {
       "output_type": "stream",
       "stream": "stdout",
       "text": [
        "\n",
        "Getting # 182: http://yosemite.epa.gov/oeca/webeis.nsf/EIS01/2122E1C9C6B4C54185257BEB001B9CCF"
       ]
      },
      {
       "output_type": "stream",
       "stream": "stdout",
       "text": [
        "\n",
        "Getting # 183: http://yosemite.epa.gov/oeca/webeis.nsf/EIS01/582CD46F77FFFBD885257BEB001B9CCD"
       ]
      },
      {
       "output_type": "stream",
       "stream": "stdout",
       "text": [
        "\n",
        "Getting # 184: http://yosemite.epa.gov/oeca/webeis.nsf/EIS01/6A4A9EC97A161DF785257BEB001B9CC9"
       ]
      },
      {
       "output_type": "stream",
       "stream": "stdout",
       "text": [
        "\n",
        "Getting # 185: http://yosemite.epa.gov/oeca/webeis.nsf/EIS01/B189ACE90ECAF27C85257BEB001B9CBF"
       ]
      },
      {
       "output_type": "stream",
       "stream": "stdout",
       "text": [
        "\n",
        "Getting # 186: http://yosemite.epa.gov/oeca/webeis.nsf/EIS01/8375807A2314C0AA85257BEB001B9CC1"
       ]
      },
      {
       "output_type": "stream",
       "stream": "stdout",
       "text": [
        "\n",
        "Getting # 187: http://yosemite.epa.gov/oeca/webeis.nsf/EIS01/55B0B22F7388923E85257BEB001B9C8C"
       ]
      },
      {
       "output_type": "stream",
       "stream": "stdout",
       "text": [
        "\n",
        "Getting # 188: http://yosemite.epa.gov/oeca/webeis.nsf/EIS01/78633DCDDE4D2E1C85257BEB001B9C97"
       ]
      },
      {
       "output_type": "stream",
       "stream": "stdout",
       "text": [
        "\n",
        "Getting # 189: http://yosemite.epa.gov/oeca/webeis.nsf/EIS01/12E18E3BBCFD9F5785257BEB001B9C98"
       ]
      },
      {
       "output_type": "stream",
       "stream": "stdout",
       "text": [
        "\n",
        "Getting # 190: http://yosemite.epa.gov/oeca/webeis.nsf/EIS01/180838FC0BC6D44E85257BEB001B9C8A"
       ]
      },
      {
       "output_type": "stream",
       "stream": "stdout",
       "text": [
        "\n",
        "Getting # 191: http://yosemite.epa.gov/oeca/webeis.nsf/EIS01/29BF34D31C771AC085257BEB001B9C73"
       ]
      },
      {
       "output_type": "stream",
       "stream": "stdout",
       "text": [
        "\n",
        "Getting # 192: http://yosemite.epa.gov/oeca/webeis.nsf/EIS01/6D37084F07FF3DF785257BEB001B9C76"
       ]
      },
      {
       "output_type": "stream",
       "stream": "stdout",
       "text": [
        "\n",
        "Getting # 193: http://yosemite.epa.gov/oeca/webeis.nsf/EIS01/FB4121602369772485257BEB001B9C77"
       ]
      },
      {
       "output_type": "stream",
       "stream": "stdout",
       "text": [
        "\n",
        "Getting # 194: http://yosemite.epa.gov/oeca/webeis.nsf/EIS01/19EB2C66990EEECF85257BEB001B9C6E"
       ]
      },
      {
       "output_type": "stream",
       "stream": "stdout",
       "text": [
        "\n",
        "Getting # 195: http://yosemite.epa.gov/oeca/webeis.nsf/EIS01/554E2F88D1D1F37785257BEB001B9C68"
       ]
      },
      {
       "output_type": "stream",
       "stream": "stdout",
       "text": [
        "\n",
        "Getting # 196: http://yosemite.epa.gov/oeca/webeis.nsf/EIS01/E4488F7E28279EAD85257BEB001B9C66"
       ]
      },
      {
       "output_type": "stream",
       "stream": "stdout",
       "text": [
        "\n",
        "Getting # 197: http://yosemite.epa.gov/oeca/webeis.nsf/EIS01/598F037C0C50A31185257BEB001B9C6B"
       ]
      },
      {
       "output_type": "stream",
       "stream": "stdout",
       "text": [
        "\n",
        "Getting # 198: http://yosemite.epa.gov/oeca/webeis.nsf/EIS01/8A3B24BE9B33598485257BEB001B9C37"
       ]
      },
      {
       "output_type": "stream",
       "stream": "stdout",
       "text": [
        "\n",
        "Getting # 199: http://yosemite.epa.gov/oeca/webeis.nsf/EIS01/22B3B3D777C40E5585257BEB001B9C41"
       ]
      },
      {
       "output_type": "stream",
       "stream": "stdout",
       "text": [
        "\n",
        "Getting # 200: http://yosemite.epa.gov/oeca/webeis.nsf/EIS01/3C67765A35D53E6A85257BEB001B9C36"
       ]
      },
      {
       "output_type": "stream",
       "stream": "stdout",
       "text": [
        "\n",
        "Getting # 201: http://yosemite.epa.gov/oeca/webeis.nsf/EIS01/12454479D1B5935085257BEB001B9C13"
       ]
      },
      {
       "output_type": "stream",
       "stream": "stdout",
       "text": [
        "\n",
        "Getting # 202: http://yosemite.epa.gov/oeca/webeis.nsf/EIS01/4FD5960C5515140085257BEB001B9C28"
       ]
      },
      {
       "output_type": "stream",
       "stream": "stdout",
       "text": [
        "\n",
        "Getting # 203: http://yosemite.epa.gov/oeca/webeis.nsf/EIS01/61461C5FBC0A6E9685257BEB001B9C1E"
       ]
      },
      {
       "output_type": "stream",
       "stream": "stdout",
       "text": [
        "\n",
        "Getting # 204: http://yosemite.epa.gov/oeca/webeis.nsf/EIS01/FD3AA5845F334FFC85257BEB001B9C17"
       ]
      },
      {
       "output_type": "stream",
       "stream": "stdout",
       "text": [
        "\n",
        "Getting # 205: http://yosemite.epa.gov/oeca/webeis.nsf/EIS01/A687B64BCAEBB85385257BEB001B9BFE"
       ]
      },
      {
       "output_type": "stream",
       "stream": "stdout",
       "text": [
        "\n",
        "Getting # 206: http://yosemite.epa.gov/oeca/webeis.nsf/EIS01/02B9CF74D3CDF5EF85257BEB001B9C02"
       ]
      },
      {
       "output_type": "stream",
       "stream": "stdout",
       "text": [
        "\n",
        "Getting # 207: http://yosemite.epa.gov/oeca/webeis.nsf/EIS01/C69254AD0DD6091785257BEB001B9BF4"
       ]
      },
      {
       "output_type": "stream",
       "stream": "stdout",
       "text": [
        "\n",
        "Getting # 208: http://yosemite.epa.gov/oeca/webeis.nsf/EIS01/9EDF8667444A638B85257BEB001B9BEF"
       ]
      },
      {
       "output_type": "stream",
       "stream": "stdout",
       "text": [
        "\n",
        "Getting # 209: http://yosemite.epa.gov/oeca/webeis.nsf/EIS01/9F73288BCFFAE30785257BEB001B9BE0"
       ]
      },
      {
       "output_type": "stream",
       "stream": "stdout",
       "text": [
        "\n",
        "Getting # 210: http://yosemite.epa.gov/oeca/webeis.nsf/EIS01/B3C54513F0B0314885257BEB001B9BD2"
       ]
      },
      {
       "output_type": "stream",
       "stream": "stdout",
       "text": [
        "\n",
        "Getting # 211: http://yosemite.epa.gov/oeca/webeis.nsf/EIS01/2205311FCC5ABD7185257BEB001B9BE1"
       ]
      },
      {
       "output_type": "stream",
       "stream": "stdout",
       "text": [
        "\n",
        "Getting # 212: http://yosemite.epa.gov/oeca/webeis.nsf/EIS01/807D9DB82E6F772B85257BEB001B9AE7"
       ]
      },
      {
       "output_type": "stream",
       "stream": "stdout",
       "text": [
        "\n",
        "Getting # 213: http://yosemite.epa.gov/oeca/webeis.nsf/EIS01/E96510B8D7E612D085257BEB001B9BD8"
       ]
      },
      {
       "output_type": "stream",
       "stream": "stdout",
       "text": [
        "\n",
        "Getting # 214: http://yosemite.epa.gov/oeca/webeis.nsf/EIS01/F11499D68B1FB08685257BEB001B9BCF"
       ]
      },
      {
       "output_type": "stream",
       "stream": "stdout",
       "text": [
        "\n",
        "Getting # 215: http://yosemite.epa.gov/oeca/webeis.nsf/EIS01/E7B8D9666E2A322185257B000020FDA6"
       ]
      },
      {
       "output_type": "stream",
       "stream": "stdout",
       "text": [
        "\n",
        "Getting # 216: http://yosemite.epa.gov/oeca/webeis.nsf/EIS01/1BAC831011054C3485257BEB001B9BAE"
       ]
      },
      {
       "output_type": "stream",
       "stream": "stdout",
       "text": [
        "\n",
        "Getting # 217: http://yosemite.epa.gov/oeca/webeis.nsf/EIS01/43E0BBA1BFF7107A85257BEB001B9BC8"
       ]
      },
      {
       "output_type": "stream",
       "stream": "stdout",
       "text": [
        "\n",
        "Getting # 218: http://yosemite.epa.gov/oeca/webeis.nsf/EIS01/A66FF370025624FF85257BEB001B9BBA"
       ]
      },
      {
       "output_type": "stream",
       "stream": "stdout",
       "text": [
        "\n",
        "Getting # 219: http://yosemite.epa.gov/oeca/webeis.nsf/EIS01/B0A1362CBB09651985257BEB001B9BB4"
       ]
      },
      {
       "output_type": "stream",
       "stream": "stdout",
       "text": [
        "\n",
        "Getting # 220: http://yosemite.epa.gov/oeca/webeis.nsf/EIS01/A803D87C49F4F2CE85257BEB001B9BA1"
       ]
      },
      {
       "output_type": "stream",
       "stream": "stdout",
       "text": [
        "\n",
        "Getting # 221: http://yosemite.epa.gov/oeca/webeis.nsf/EIS01/CC8376538387716385257BEB001B9BA4"
       ]
      },
      {
       "output_type": "stream",
       "stream": "stdout",
       "text": [
        "\n",
        "Getting # 222: http://yosemite.epa.gov/oeca/webeis.nsf/EIS01/3CE87436E968980785257BEB001B9B82"
       ]
      },
      {
       "output_type": "stream",
       "stream": "stdout",
       "text": [
        "\n",
        "Getting # 223: http://yosemite.epa.gov/oeca/webeis.nsf/EIS01/F0584B71DF35EDD285257BEB001B9BA3"
       ]
      },
      {
       "output_type": "stream",
       "stream": "stdout",
       "text": [
        "\n",
        "Getting # 224: http://yosemite.epa.gov/oeca/webeis.nsf/EIS01/B8C1931DBF93342885257BEB001B9B77"
       ]
      },
      {
       "output_type": "stream",
       "stream": "stdout",
       "text": [
        "\n",
        "Getting # 225: http://yosemite.epa.gov/oeca/webeis.nsf/EIS01/D46DFE53C1353D7F85257BEB001B9B7F"
       ]
      },
      {
       "output_type": "stream",
       "stream": "stdout",
       "text": [
        "\n",
        "Getting # 226: http://yosemite.epa.gov/oeca/webeis.nsf/EIS01/FD6E956EB083D87385257BEB001B9B7A"
       ]
      },
      {
       "output_type": "stream",
       "stream": "stdout",
       "text": [
        "\n",
        "Getting # 227: http://yosemite.epa.gov/oeca/webeis.nsf/EIS01/0A4B527CED6943A785257BEB001B9B6E"
       ]
      },
      {
       "output_type": "stream",
       "stream": "stdout",
       "text": [
        "\n",
        "Getting # 228: http://yosemite.epa.gov/oeca/webeis.nsf/EIS01/C20510030361C7F085257BEB001B9B76"
       ]
      },
      {
       "output_type": "stream",
       "stream": "stdout",
       "text": [
        "\n",
        "Getting # 229: http://yosemite.epa.gov/oeca/webeis.nsf/EIS01/B19715AC12E4EFBB85257BEB001B9B63"
       ]
      },
      {
       "output_type": "stream",
       "stream": "stdout",
       "text": [
        "\n",
        "Getting # 230: http://yosemite.epa.gov/oeca/webeis.nsf/EIS01/A0159A93F28461A085257BEB001B9B5D"
       ]
      },
      {
       "output_type": "stream",
       "stream": "stdout",
       "text": [
        "\n",
        "Getting # 231: http://yosemite.epa.gov/oeca/webeis.nsf/EIS01/3D988B08299381C685257BEB001B9B56"
       ]
      },
      {
       "output_type": "stream",
       "stream": "stdout",
       "text": [
        "\n",
        "Getting # 232: http://yosemite.epa.gov/oeca/webeis.nsf/EIS01/9BC8D4535F1A4C3C85257BEB001B9B4F"
       ]
      },
      {
       "output_type": "stream",
       "stream": "stdout",
       "text": [
        "\n",
        "Getting # 233: http://yosemite.epa.gov/oeca/webeis.nsf/EIS01/E75073272D9DB78485257BEB001B9B44"
       ]
      },
      {
       "output_type": "stream",
       "stream": "stdout",
       "text": [
        "\n",
        "Getting # 234: http://yosemite.epa.gov/oeca/webeis.nsf/EIS01/7F8B66AE0E4EB7FA85257BEB001B9B21"
       ]
      },
      {
       "output_type": "stream",
       "stream": "stdout",
       "text": [
        "\n",
        "Getting # 235: http://yosemite.epa.gov/oeca/webeis.nsf/EIS01/A18BE74FA78C83F885257BEB001B9B2C"
       ]
      },
      {
       "output_type": "stream",
       "stream": "stdout",
       "text": [
        "\n",
        "Getting # 236: http://yosemite.epa.gov/oeca/webeis.nsf/EIS01/CDA2342D08CF1F7D85257BEB001B9B31"
       ]
      },
      {
       "output_type": "stream",
       "stream": "stdout",
       "text": [
        "\n",
        "Getting # 237: http://yosemite.epa.gov/oeca/webeis.nsf/EIS01/BE6094460040A81185257BEB001B9B3A"
       ]
      },
      {
       "output_type": "stream",
       "stream": "stdout",
       "text": [
        "\n",
        "Getting # 238: http://yosemite.epa.gov/oeca/webeis.nsf/EIS01/6841483B18A3EB7B85257BEB001B9B2B"
       ]
      },
      {
       "output_type": "stream",
       "stream": "stdout",
       "text": [
        "\n",
        "Getting # 239: http://yosemite.epa.gov/oeca/webeis.nsf/EIS01/82DDCAFFA15DFABA85257BEB001B9B20"
       ]
      },
      {
       "output_type": "stream",
       "stream": "stdout",
       "text": [
        "\n",
        "Getting # 240: http://yosemite.epa.gov/oeca/webeis.nsf/EIS01/D8B684EE6BE0034F85257BEB001B9B3D"
       ]
      },
      {
       "output_type": "stream",
       "stream": "stdout",
       "text": [
        "\n",
        "Getting # 241: http://yosemite.epa.gov/oeca/webeis.nsf/EIS01/E34474D561E1EE4E85257BEB001B9B2E"
       ]
      },
      {
       "output_type": "stream",
       "stream": "stdout",
       "text": [
        "\n",
        "Getting # 242: http://yosemite.epa.gov/oeca/webeis.nsf/EIS01/F3A31543D2363FE885257BEB001B9B37"
       ]
      },
      {
       "output_type": "stream",
       "stream": "stdout",
       "text": [
        "\n",
        "Getting # 243: http://yosemite.epa.gov/oeca/webeis.nsf/EIS01/009C5CA7698716BD85257BEB001B9B12"
       ]
      },
      {
       "output_type": "stream",
       "stream": "stdout",
       "text": [
        "\n",
        "Getting # 244: http://yosemite.epa.gov/oeca/webeis.nsf/EIS01/2C6F562B341F256E85257BEB001B9B0D"
       ]
      },
      {
       "output_type": "stream",
       "stream": "stdout",
       "text": [
        "\n",
        "Getting # 245: http://yosemite.epa.gov/oeca/webeis.nsf/EIS01/0C2D5A9F1F9CECAF85257BEB001B9AEC"
       ]
      },
      {
       "output_type": "stream",
       "stream": "stdout",
       "text": [
        "\n",
        "Getting # 246: http://yosemite.epa.gov/oeca/webeis.nsf/EIS01/17AE7E3D4945106185257BEB001B9AF2"
       ]
      },
      {
       "output_type": "stream",
       "stream": "stdout",
       "text": [
        "\n",
        "Getting # 247: http://yosemite.epa.gov/oeca/webeis.nsf/EIS01/17DF057B06432C9785257BEB001B9B07"
       ]
      },
      {
       "output_type": "stream",
       "stream": "stdout",
       "text": [
        "\n",
        "Getting # 248: http://yosemite.epa.gov/oeca/webeis.nsf/EIS01/3D6682BBF486084A85257BEB001B9AFA"
       ]
      },
      {
       "output_type": "stream",
       "stream": "stdout",
       "text": [
        "\n",
        "Getting # 249: http://yosemite.epa.gov/oeca/webeis.nsf/EIS01/62FC781397CDE35485257BEB001B9AE3"
       ]
      },
      {
       "output_type": "stream",
       "stream": "stdout",
       "text": [
        "\n",
        "Getting # 250: http://yosemite.epa.gov/oeca/webeis.nsf/EIS01/97E635BBEFE0ECFF85257BEB001B9AF5"
       ]
      },
      {
       "output_type": "stream",
       "stream": "stdout",
       "text": [
        "\n",
        "Getting # 251: http://yosemite.epa.gov/oeca/webeis.nsf/EIS01/F05D24EE5DE7EA0F85257BEB001B9AFF"
       ]
      },
      {
       "output_type": "stream",
       "stream": "stdout",
       "text": [
        "\n",
        "Getting # 252: http://yosemite.epa.gov/oeca/webeis.nsf/EIS01/00B0F6797BBDB3D585257BEB001B9AB1"
       ]
      },
      {
       "output_type": "stream",
       "stream": "stdout",
       "text": [
        "\n",
        "Getting # 253: http://yosemite.epa.gov/oeca/webeis.nsf/EIS01/0F9A29026830772685257BEB001B9AC7"
       ]
      },
      {
       "output_type": "stream",
       "stream": "stdout",
       "text": [
        "\n",
        "Getting # 254: http://yosemite.epa.gov/oeca/webeis.nsf/EIS01/10F137F73A63718E85257BEB001B9AB2"
       ]
      },
      {
       "output_type": "stream",
       "stream": "stdout",
       "text": [
        "\n",
        "Getting # 255: http://yosemite.epa.gov/oeca/webeis.nsf/EIS01/88BCD19A8802894B85257BEB001B9ACA"
       ]
      },
      {
       "output_type": "stream",
       "stream": "stdout",
       "text": [
        "\n",
        "Getting # 256: http://yosemite.epa.gov/oeca/webeis.nsf/EIS01/BF804ED4B0A1E1BF85257B000020FDA1"
       ]
      },
      {
       "output_type": "stream",
       "stream": "stdout",
       "text": [
        "\n",
        "Getting # 257: http://yosemite.epa.gov/oeca/webeis.nsf/EIS01/E58DB3A3B983DD8185257BEB001B9A96"
       ]
      },
      {
       "output_type": "stream",
       "stream": "stdout",
       "text": [
        "\n",
        "Getting # 258: http://yosemite.epa.gov/oeca/webeis.nsf/EIS01/F1FE7F81F79B622F85257BEB001B9A8B"
       ]
      },
      {
       "output_type": "stream",
       "stream": "stdout",
       "text": [
        "\n",
        "Getting # 259: http://yosemite.epa.gov/oeca/webeis.nsf/EIS01/4C4259D186E57C8E85257BEB001B9A9C"
       ]
      },
      {
       "output_type": "stream",
       "stream": "stdout",
       "text": [
        "\n",
        "Getting # 260: http://yosemite.epa.gov/oeca/webeis.nsf/EIS01/3DE7C494A335021485257BEB001B9A9E"
       ]
      },
      {
       "output_type": "stream",
       "stream": "stdout",
       "text": [
        "\n",
        "Getting # 261: http://yosemite.epa.gov/oeca/webeis.nsf/EIS01/D65CE0D5888B222185257BEB001B9AAF"
       ]
      },
      {
       "output_type": "stream",
       "stream": "stdout",
       "text": [
        "\n",
        "Getting # 262: http://yosemite.epa.gov/oeca/webeis.nsf/EIS01/0B9DC0B257F64E7585257BEB001B9A7D"
       ]
      },
      {
       "output_type": "stream",
       "stream": "stdout",
       "text": [
        "\n",
        "Getting # 263: http://yosemite.epa.gov/oeca/webeis.nsf/EIS01/3988F817BAD387C385257BEB001B9A85"
       ]
      },
      {
       "output_type": "stream",
       "stream": "stdout",
       "text": [
        "\n",
        "Getting # 264: http://yosemite.epa.gov/oeca/webeis.nsf/EIS01/C25E36D1FCC6BA7385257BEB001B9A88"
       ]
      },
      {
       "output_type": "stream",
       "stream": "stdout",
       "text": [
        "\n",
        "Getting # 265: http://yosemite.epa.gov/oeca/webeis.nsf/EIS01/F494043699630D9E85257BEB001B9A78"
       ]
      },
      {
       "output_type": "stream",
       "stream": "stdout",
       "text": [
        "\n",
        "Getting # 266: http://yosemite.epa.gov/oeca/webeis.nsf/EIS01/6D00F1F784F08F4085257BEB001B9A5E"
       ]
      },
      {
       "output_type": "stream",
       "stream": "stdout",
       "text": [
        "\n",
        "Getting # 267: http://yosemite.epa.gov/oeca/webeis.nsf/EIS01/AB17D404045D866C85257BEB001B9A51"
       ]
      },
      {
       "output_type": "stream",
       "stream": "stdout",
       "text": [
        "\n",
        "Getting # 268: http://yosemite.epa.gov/oeca/webeis.nsf/EIS01/A3163DFE3D4F007585257BEB001B9A59"
       ]
      },
      {
       "output_type": "stream",
       "stream": "stdout",
       "text": [
        "\n",
        "Getting # 269: http://yosemite.epa.gov/oeca/webeis.nsf/EIS01/896687903461618C85257BEB001B9A29"
       ]
      },
      {
       "output_type": "stream",
       "stream": "stdout",
       "text": [
        "\n",
        "Getting # 270: http://yosemite.epa.gov/oeca/webeis.nsf/EIS01/8D68A6DC93B72D5B85257BEB001B9A46"
       ]
      },
      {
       "output_type": "stream",
       "stream": "stdout",
       "text": [
        "\n",
        "Getting # 271: http://yosemite.epa.gov/oeca/webeis.nsf/EIS01/9843583F22A2B67585257BEB001B9A37"
       ]
      },
      {
       "output_type": "stream",
       "stream": "stdout",
       "text": [
        "\n",
        "Getting # 272: http://yosemite.epa.gov/oeca/webeis.nsf/EIS01/DF5DB5F0BAEBE1C185257BEB001B9A3D"
       ]
      },
      {
       "output_type": "stream",
       "stream": "stdout",
       "text": [
        "\n",
        "Getting # 273: http://yosemite.epa.gov/oeca/webeis.nsf/EIS01/E5E0DC6372716C4A85257BEB001B9A4A"
       ]
      },
      {
       "output_type": "stream",
       "stream": "stdout",
       "text": [
        "\n",
        "Getting # 274: http://yosemite.epa.gov/oeca/webeis.nsf/EIS01/EFBDC5EE24375ACE85257BEB001B9A4E"
       ]
      },
      {
       "output_type": "stream",
       "stream": "stdout",
       "text": [
        "\n",
        "Getting # 275: http://yosemite.epa.gov/oeca/webeis.nsf/EIS01/4722367D63C93ACF85257BEB001B9A11"
       ]
      },
      {
       "output_type": "stream",
       "stream": "stdout",
       "text": [
        "\n",
        "Getting # 276: http://yosemite.epa.gov/oeca/webeis.nsf/EIS01/4FE382BB87C1825085257BEB001B9A19"
       ]
      },
      {
       "output_type": "stream",
       "stream": "stdout",
       "text": [
        "\n",
        "Getting # 277: http://yosemite.epa.gov/oeca/webeis.nsf/EIS01/C757432BC68245FC85257BEB001B9A1F"
       ]
      },
      {
       "output_type": "stream",
       "stream": "stdout",
       "text": [
        "\n",
        "Getting # 278: http://yosemite.epa.gov/oeca/webeis.nsf/EIS01/D77AF8BD74F4E65B85257BEB001B9A10"
       ]
      },
      {
       "output_type": "stream",
       "stream": "stdout",
       "text": [
        "\n",
        "Getting # 279: http://yosemite.epa.gov/oeca/webeis.nsf/EIS01/FC23E54B661A65B585257BEB001B9A14"
       ]
      },
      {
       "output_type": "stream",
       "stream": "stdout",
       "text": [
        "\n",
        "Getting # 280: http://yosemite.epa.gov/oeca/webeis.nsf/EIS01/D5ADBA27488C5FFA85257BEB001B99F4"
       ]
      },
      {
       "output_type": "stream",
       "stream": "stdout",
       "text": [
        "\n",
        "Getting # 281: http://yosemite.epa.gov/oeca/webeis.nsf/EIS01/9EF444145D74DDAB85257BEB001B99F5"
       ]
      },
      {
       "output_type": "stream",
       "stream": "stdout",
       "text": [
        "\n",
        "Getting # 282: http://yosemite.epa.gov/oeca/webeis.nsf/EIS01/B69421B2D61A68F985257BEB001B9A02"
       ]
      },
      {
       "output_type": "stream",
       "stream": "stdout",
       "text": [
        "\n",
        "Getting # 283: http://yosemite.epa.gov/oeca/webeis.nsf/EIS01/C1D2262765C0946485257BEB001B99F8"
       ]
      },
      {
       "output_type": "stream",
       "stream": "stdout",
       "text": [
        "\n",
        "Getting # 284: http://yosemite.epa.gov/oeca/webeis.nsf/EIS01/32ADA758B5BCCC4C85257BEB001B99FA"
       ]
      },
      {
       "output_type": "stream",
       "stream": "stdout",
       "text": [
        "\n",
        "Getting # 285: http://yosemite.epa.gov/oeca/webeis.nsf/EIS01/A386A2A6E01CA26B85257BEB001B99EC"
       ]
      },
      {
       "output_type": "stream",
       "stream": "stdout",
       "text": [
        "\n",
        "Getting # 286: http://yosemite.epa.gov/oeca/webeis.nsf/EIS01/0AF23C89558541DF85257BEB001B99E2"
       ]
      },
      {
       "output_type": "stream",
       "stream": "stdout",
       "text": [
        "\n",
        "Getting # 287: http://yosemite.epa.gov/oeca/webeis.nsf/EIS01/8C53ED173CA0034385257BEB001B99E7"
       ]
      },
      {
       "output_type": "stream",
       "stream": "stdout",
       "text": [
        "\n",
        "Getting # 288: http://yosemite.epa.gov/oeca/webeis.nsf/EIS01/7976230772E805B485257BEB001B99C6"
       ]
      },
      {
       "output_type": "stream",
       "stream": "stdout",
       "text": [
        "\n",
        "Getting # 289: http://yosemite.epa.gov/oeca/webeis.nsf/EIS01/0FE3256169562F5685257BEB001B99C9"
       ]
      },
      {
       "output_type": "stream",
       "stream": "stdout",
       "text": [
        "\n",
        "Getting # 290: http://yosemite.epa.gov/oeca/webeis.nsf/EIS01/102A09A7221DE87B85257BEB001B99D8"
       ]
      },
      {
       "output_type": "stream",
       "stream": "stdout",
       "text": [
        "\n",
        "Getting # 291: http://yosemite.epa.gov/oeca/webeis.nsf/EIS01/C4A062AC05961E9F85257BEB001B99D9"
       ]
      },
      {
       "output_type": "stream",
       "stream": "stdout",
       "text": [
        "\n",
        "Getting # 292: http://yosemite.epa.gov/oeca/webeis.nsf/EIS01/E81530E7A091253885257BEB001B99C8"
       ]
      },
      {
       "output_type": "stream",
       "stream": "stdout",
       "text": [
        "\n",
        "Getting # 293: http://yosemite.epa.gov/oeca/webeis.nsf/EIS01/ED41CFBCA9577CC885257BEB001B99D3"
       ]
      },
      {
       "output_type": "stream",
       "stream": "stdout",
       "text": [
        "\n",
        "Getting # 294: http://yosemite.epa.gov/oeca/webeis.nsf/EIS01/BFE36B6EA1E2C44485257BEB001B99BA"
       ]
      },
      {
       "output_type": "stream",
       "stream": "stdout",
       "text": [
        "\n",
        "Getting # 295: http://yosemite.epa.gov/oeca/webeis.nsf/EIS01/597501D044CD735385257BEB001B99AA"
       ]
      },
      {
       "output_type": "stream",
       "stream": "stdout",
       "text": [
        "\n",
        "Getting # 296: http://yosemite.epa.gov/oeca/webeis.nsf/EIS01/6F5811DC7C76022D85257BEB001B99A6"
       ]
      },
      {
       "output_type": "stream",
       "stream": "stdout",
       "text": [
        "\n",
        "Getting # 297: http://yosemite.epa.gov/oeca/webeis.nsf/EIS01/72834DB02A34FE8F85257BEB001B99C3"
       ]
      },
      {
       "output_type": "stream",
       "stream": "stdout",
       "text": [
        "\n",
        "Getting # 298: http://yosemite.epa.gov/oeca/webeis.nsf/EIS01/9F986E3186006ED785257BEB001B99B0"
       ]
      },
      {
       "output_type": "stream",
       "stream": "stdout",
       "text": [
        "\n",
        "Getting # 299: http://yosemite.epa.gov/oeca/webeis.nsf/EIS01/09D175BDE5C7224F85257BEB001B9990"
       ]
      },
      {
       "output_type": "stream",
       "stream": "stdout",
       "text": [
        "\n",
        "Getting # 300: http://yosemite.epa.gov/oeca/webeis.nsf/EIS01/2EB81867E7CAE2D285257BEB001B9981"
       ]
      },
      {
       "output_type": "stream",
       "stream": "stdout",
       "text": [
        "\n",
        "Getting # 301: http://yosemite.epa.gov/oeca/webeis.nsf/EIS01/B8F82B99E3D6C44F85257BEB001B9994"
       ]
      },
      {
       "output_type": "stream",
       "stream": "stdout",
       "text": [
        "\n",
        "Getting # 302: http://yosemite.epa.gov/oeca/webeis.nsf/EIS01/EAFB360BF9B0D58C85257BEB001B99A2"
       ]
      },
      {
       "output_type": "stream",
       "stream": "stdout",
       "text": [
        "\n",
        "Getting # 303: http://yosemite.epa.gov/oeca/webeis.nsf/EIS01/FF5902B4CC9A120D85257BEB001B9997"
       ]
      },
      {
       "output_type": "stream",
       "stream": "stdout",
       "text": [
        "\n",
        "Getting # 304: http://yosemite.epa.gov/oeca/webeis.nsf/EIS01/29BE0CD7BBFD026385257BEB001B997B"
       ]
      },
      {
       "output_type": "stream",
       "stream": "stdout",
       "text": [
        "\n",
        "Getting # 305: http://yosemite.epa.gov/oeca/webeis.nsf/EIS01/328F46830AD31C1B85257BEB001B997D"
       ]
      },
      {
       "output_type": "stream",
       "stream": "stdout",
       "text": [
        "\n",
        "Getting # 306: http://yosemite.epa.gov/oeca/webeis.nsf/EIS01/3B32F40D194A0FB685257BEB001B9980"
       ]
      },
      {
       "output_type": "stream",
       "stream": "stdout",
       "text": [
        "\n",
        "Getting # 307: http://yosemite.epa.gov/oeca/webeis.nsf/EIS01/F6FDAA31E55C827285257BEB001B9978"
       ]
      },
      {
       "output_type": "stream",
       "stream": "stdout",
       "text": [
        "\n",
        "Getting # 308: http://yosemite.epa.gov/oeca/webeis.nsf/EIS01/1BEE87D5A63373DD85257BEB001B9967"
       ]
      },
      {
       "output_type": "stream",
       "stream": "stdout",
       "text": [
        "\n",
        "Getting # 309: http://yosemite.epa.gov/oeca/webeis.nsf/EIS01/086A03AE4C62D75D85257BEB001B9961"
       ]
      },
      {
       "output_type": "stream",
       "stream": "stdout",
       "text": [
        "\n",
        "Getting # 310: http://yosemite.epa.gov/oeca/webeis.nsf/EIS01/10AA9BFECCAF36F685257BEB001B995B"
       ]
      },
      {
       "output_type": "stream",
       "stream": "stdout",
       "text": [
        "\n",
        "Getting # 311: http://yosemite.epa.gov/oeca/webeis.nsf/EIS01/91D93D7206D7E30585257BEB001B9964"
       ]
      },
      {
       "output_type": "stream",
       "stream": "stdout",
       "text": [
        "\n",
        "Getting # 312: http://yosemite.epa.gov/oeca/webeis.nsf/EIS01/BD8AC77972A7EBD585257BEB001B996A"
       ]
      },
      {
       "output_type": "stream",
       "stream": "stdout",
       "text": [
        "\n",
        "Getting # 313: http://yosemite.epa.gov/oeca/webeis.nsf/EIS01/175BF194951EECB585257BEB001B996F"
       ]
      },
      {
       "output_type": "stream",
       "stream": "stdout",
       "text": [
        "\n",
        "Getting # 314: http://yosemite.epa.gov/oeca/webeis.nsf/EIS01/C840CAFC7760E46685257BEB001B9929"
       ]
      },
      {
       "output_type": "stream",
       "stream": "stdout",
       "text": [
        "\n",
        "Getting # 315: http://yosemite.epa.gov/oeca/webeis.nsf/EIS01/783F41793B7235A785257BEB001B9925"
       ]
      },
      {
       "output_type": "stream",
       "stream": "stdout",
       "text": [
        "\n",
        "Getting # 316: http://yosemite.epa.gov/oeca/webeis.nsf/EIS01/8901E34744B6760B85257BEB001B9924"
       ]
      },
      {
       "output_type": "stream",
       "stream": "stdout",
       "text": [
        "\n",
        "Getting # 317: http://yosemite.epa.gov/oeca/webeis.nsf/EIS01/8EA5A4903438BBA185257BEB001B9938"
       ]
      },
      {
       "output_type": "stream",
       "stream": "stdout",
       "text": [
        "\n",
        "Getting # 318: http://yosemite.epa.gov/oeca/webeis.nsf/EIS01/03F1CD1B52E22AA085257BEB001B9918"
       ]
      },
      {
       "output_type": "stream",
       "stream": "stdout",
       "text": [
        "\n",
        "Getting # 319: http://yosemite.epa.gov/oeca/webeis.nsf/EIS01/305FAC5A71502B2385257BEB001B9908"
       ]
      },
      {
       "output_type": "stream",
       "stream": "stdout",
       "text": [
        "\n",
        "Getting # 320: http://yosemite.epa.gov/oeca/webeis.nsf/EIS01/3B40B3088B5E5C0E85257BEB001B990B"
       ]
      },
      {
       "output_type": "stream",
       "stream": "stdout",
       "text": [
        "\n",
        "Getting # 321: http://yosemite.epa.gov/oeca/webeis.nsf/EIS01/3C443D9F3D37BF5785257BEB001B9914"
       ]
      },
      {
       "output_type": "stream",
       "stream": "stdout",
       "text": [
        "\n",
        "Getting # 322: http://yosemite.epa.gov/oeca/webeis.nsf/EIS01/2D2EBAAC6A726C9885257BEB001B98E2"
       ]
      },
      {
       "output_type": "stream",
       "stream": "stdout",
       "text": [
        "\n",
        "Getting # 323: http://yosemite.epa.gov/oeca/webeis.nsf/EIS01/5D5995F9418D9F3485257BEB001B98FE"
       ]
      },
      {
       "output_type": "stream",
       "stream": "stdout",
       "text": [
        "\n",
        "Getting # 324: http://yosemite.epa.gov/oeca/webeis.nsf/EIS01/C8097DCABE88A55085257BEB001B9906"
       ]
      },
      {
       "output_type": "stream",
       "stream": "stdout",
       "text": [
        "\n",
        "Getting # 325: http://yosemite.epa.gov/oeca/webeis.nsf/EIS01/DAC62D24FC1B312885257BEB001B98DF"
       ]
      },
      {
       "output_type": "stream",
       "stream": "stdout",
       "text": [
        "\n",
        "Getting # 326: http://yosemite.epa.gov/oeca/webeis.nsf/EIS01/C089A13B36263C8B85257BEB001B9901"
       ]
      },
      {
       "output_type": "stream",
       "stream": "stdout",
       "text": [
        "\n",
        "Getting # 327: http://yosemite.epa.gov/oeca/webeis.nsf/EIS01/7BEADEC3D9782D5985257BEB001B98D9"
       ]
      },
      {
       "output_type": "stream",
       "stream": "stdout",
       "text": [
        "\n",
        "Getting # 328: http://yosemite.epa.gov/oeca/webeis.nsf/EIS01/9CFFE31E384B827085257BEB001B98D7"
       ]
      },
      {
       "output_type": "stream",
       "stream": "stdout",
       "text": [
        "\n",
        "Getting # 329: http://yosemite.epa.gov/oeca/webeis.nsf/EIS01/8BD98D2A9797998D85257BEB001B98CF"
       ]
      },
      {
       "output_type": "stream",
       "stream": "stdout",
       "text": [
        "\n",
        "Getting # 330: http://yosemite.epa.gov/oeca/webeis.nsf/EIS01/C2E394C646B4F6C485257BEB001B98CB"
       ]
      },
      {
       "output_type": "stream",
       "stream": "stdout",
       "text": [
        "\n",
        "Getting # 331: http://yosemite.epa.gov/oeca/webeis.nsf/EIS01/922756C21D6D0F3285257BEB001B98BA"
       ]
      },
      {
       "output_type": "stream",
       "stream": "stdout",
       "text": [
        "\n",
        "Getting # 332: http://yosemite.epa.gov/oeca/webeis.nsf/EIS01/FB7F97A02ECD753A85257BEB001B98BE"
       ]
      },
      {
       "output_type": "stream",
       "stream": "stdout",
       "text": [
        "\n",
        "Getting # 333: http://yosemite.epa.gov/oeca/webeis.nsf/EIS01/879CD852A67FDAA685257BEB001B98A4"
       ]
      },
      {
       "output_type": "stream",
       "stream": "stdout",
       "text": [
        "\n",
        "Getting # 334: http://yosemite.epa.gov/oeca/webeis.nsf/EIS01/62846E45A64966F185257BEB001B989C"
       ]
      },
      {
       "output_type": "stream",
       "stream": "stdout",
       "text": [
        "\n",
        "Getting # 335: http://yosemite.epa.gov/oeca/webeis.nsf/EIS01/A5026A0810C65AED85257BEB001B98A8"
       ]
      },
      {
       "output_type": "stream",
       "stream": "stdout",
       "text": [
        "\n",
        "Getting # 336: http://yosemite.epa.gov/oeca/webeis.nsf/EIS01/BEC85DDF02E8F4CD85257BEB001B9884"
       ]
      },
      {
       "output_type": "stream",
       "stream": "stdout",
       "text": [
        "\n",
        "Getting # 337: http://yosemite.epa.gov/oeca/webeis.nsf/EIS01/DECBC8CFE93A3CAB85257BEB001B988C"
       ]
      },
      {
       "output_type": "stream",
       "stream": "stdout",
       "text": [
        "\n",
        "Getting # 338: http://yosemite.epa.gov/oeca/webeis.nsf/EIS01/231A8C83F13FE8E585257BEB001B9897"
       ]
      },
      {
       "output_type": "stream",
       "stream": "stdout",
       "text": [
        "\n",
        "Getting # 339: http://yosemite.epa.gov/oeca/webeis.nsf/EIS01/482711E196F3D71085257BEB001B9888"
       ]
      },
      {
       "output_type": "stream",
       "stream": "stdout",
       "text": [
        "\n",
        "Getting # 340: http://yosemite.epa.gov/oeca/webeis.nsf/EIS01/95C2D929C5AD27F285257BEB001B987D"
       ]
      },
      {
       "output_type": "stream",
       "stream": "stdout",
       "text": [
        "\n",
        "Getting # 341: http://yosemite.epa.gov/oeca/webeis.nsf/EIS01/B574DB8DDC193F2085257BEB001B9883"
       ]
      },
      {
       "output_type": "stream",
       "stream": "stdout",
       "text": [
        "\n",
        "Getting # 342: http://yosemite.epa.gov/oeca/webeis.nsf/EIS01/9DE431F7FB92334085257BEB001B986F"
       ]
      },
      {
       "output_type": "stream",
       "stream": "stdout",
       "text": [
        "\n",
        "Getting # 343: http://yosemite.epa.gov/oeca/webeis.nsf/EIS01/1B820350813F949A85257BEB001B985D"
       ]
      },
      {
       "output_type": "stream",
       "stream": "stdout",
       "text": [
        "\n",
        "Getting # 344: http://yosemite.epa.gov/oeca/webeis.nsf/EIS01/C66CD9D75C7199C585257BEB001B9872"
       ]
      },
      {
       "output_type": "stream",
       "stream": "stdout",
       "text": [
        "\n",
        "Getting # 345: http://yosemite.epa.gov/oeca/webeis.nsf/EIS01/EB9CDF687FB1662385257BEB001B985A"
       ]
      },
      {
       "output_type": "stream",
       "stream": "stdout",
       "text": [
        "\n",
        "Getting # 346: http://yosemite.epa.gov/oeca/webeis.nsf/EIS01/CC258595C170C25485257BEB001B9862"
       ]
      },
      {
       "output_type": "stream",
       "stream": "stdout",
       "text": [
        "\n",
        "Getting # 347: http://yosemite.epa.gov/oeca/webeis.nsf/EIS01/A8BA91B24284F9F785257BEB001B9841"
       ]
      },
      {
       "output_type": "stream",
       "stream": "stdout",
       "text": [
        "\n",
        "Getting # 348: http://yosemite.epa.gov/oeca/webeis.nsf/EIS01/75214D854A6D1D3E85257BEB001B984E"
       ]
      },
      {
       "output_type": "stream",
       "stream": "stdout",
       "text": [
        "\n",
        "Getting # 349: http://yosemite.epa.gov/oeca/webeis.nsf/EIS01/7B4962271FD2579885257BEB001B9856"
       ]
      },
      {
       "output_type": "stream",
       "stream": "stdout",
       "text": [
        "\n",
        "Getting # 350: http://yosemite.epa.gov/oeca/webeis.nsf/EIS01/82B09D54D4FFBD6385257BEB001B9848"
       ]
      },
      {
       "output_type": "stream",
       "stream": "stdout",
       "text": [
        "\n",
        "Getting # 351: http://yosemite.epa.gov/oeca/webeis.nsf/EIS01/AD8F0E78FF51140785257BEB001B9851"
       ]
      },
      {
       "output_type": "stream",
       "stream": "stdout",
       "text": [
        "\n",
        "Getting # 352: http://yosemite.epa.gov/oeca/webeis.nsf/EIS01/882EB3F91DE46FA585257BEB001B982F"
       ]
      },
      {
       "output_type": "stream",
       "stream": "stdout",
       "text": [
        "\n",
        "Getting # 353: http://yosemite.epa.gov/oeca/webeis.nsf/EIS01/29E63FE2B7E9FDA285257BEB001B982A"
       ]
      },
      {
       "output_type": "stream",
       "stream": "stdout",
       "text": [
        "\n",
        "Getting # 354: http://yosemite.epa.gov/oeca/webeis.nsf/EIS01/5432375B6FCEA8F385257BEB001B9836"
       ]
      },
      {
       "output_type": "stream",
       "stream": "stdout",
       "text": [
        "\n",
        "Getting # 355: http://yosemite.epa.gov/oeca/webeis.nsf/EIS01/77BB2611CCFA753185257BEB001B982D"
       ]
      },
      {
       "output_type": "stream",
       "stream": "stdout",
       "text": [
        "\n",
        "Getting # 356: http://yosemite.epa.gov/oeca/webeis.nsf/EIS01/B97498C270EE930385257BEB001B982B"
       ]
      },
      {
       "output_type": "stream",
       "stream": "stdout",
       "text": [
        "\n",
        "Getting # 357: http://yosemite.epa.gov/oeca/webeis.nsf/EIS01/1262CFD1C02E0C0A85257BEB001B981F"
       ]
      },
      {
       "output_type": "stream",
       "stream": "stdout",
       "text": [
        "\n",
        "Getting # 358: http://yosemite.epa.gov/oeca/webeis.nsf/EIS01/29F9CB2E0A9B777285257BEB001B9818"
       ]
      },
      {
       "output_type": "stream",
       "stream": "stdout",
       "text": [
        "\n",
        "Getting # 359: http://yosemite.epa.gov/oeca/webeis.nsf/EIS01/7009D949A323C4B585257BEB001B980E"
       ]
      },
      {
       "output_type": "stream",
       "stream": "stdout",
       "text": [
        "\n",
        "Getting # 360: http://yosemite.epa.gov/oeca/webeis.nsf/EIS01/7C576ACC1755DA0385257BEB001B9822"
       ]
      },
      {
       "output_type": "stream",
       "stream": "stdout",
       "text": [
        "\n",
        "Getting # 361: http://yosemite.epa.gov/oeca/webeis.nsf/EIS01/A2A491E8D85AE76985257BEB001B980F"
       ]
      },
      {
       "output_type": "stream",
       "stream": "stdout",
       "text": [
        "\n",
        "Getting # 362: http://yosemite.epa.gov/oeca/webeis.nsf/EIS01/EB208E82999818E185257BEB001B980C"
       ]
      },
      {
       "output_type": "stream",
       "stream": "stdout",
       "text": [
        "\n",
        "Getting # 363: http://yosemite.epa.gov/oeca/webeis.nsf/EIS01/F61DB1A7D033E2D885257BEB001B9827"
       ]
      },
      {
       "output_type": "stream",
       "stream": "stdout",
       "text": [
        "\n",
        "Getting # 364: http://yosemite.epa.gov/oeca/webeis.nsf/EIS01/48F7D6639382002C85257BEB001B97F6"
       ]
      },
      {
       "output_type": "stream",
       "stream": "stdout",
       "text": [
        "\n",
        "Getting # 365: http://yosemite.epa.gov/oeca/webeis.nsf/EIS01/5351647E5327A22A85257BEB001B9809"
       ]
      },
      {
       "output_type": "stream",
       "stream": "stdout",
       "text": [
        "\n",
        "Getting # 366: http://yosemite.epa.gov/oeca/webeis.nsf/EIS01/83ADC1540FC3778585257BEB001B9804"
       ]
      },
      {
       "output_type": "stream",
       "stream": "stdout",
       "text": [
        "\n",
        "Getting # 367: http://yosemite.epa.gov/oeca/webeis.nsf/EIS01/92985E346E2096F885257BEB001B97F8"
       ]
      },
      {
       "output_type": "stream",
       "stream": "stdout",
       "text": [
        "\n",
        "Getting # 368: http://yosemite.epa.gov/oeca/webeis.nsf/EIS01/9A96ED6098E9108485257BEB001B97F9"
       ]
      },
      {
       "output_type": "stream",
       "stream": "stdout",
       "text": [
        "\n",
        "Getting # 369: http://yosemite.epa.gov/oeca/webeis.nsf/EIS01/A27E492A0780273685257BEB001B9807"
       ]
      },
      {
       "output_type": "stream",
       "stream": "stdout",
       "text": [
        "\n",
        "Getting # 370: http://yosemite.epa.gov/oeca/webeis.nsf/EIS01/A57B22C21528D06E85257BEB001B9806"
       ]
      },
      {
       "output_type": "stream",
       "stream": "stdout",
       "text": [
        "\n",
        "Getting # 371: http://yosemite.epa.gov/oeca/webeis.nsf/EIS01/F605C6B63D5DEE2B85257BEB001B97E4"
       ]
      },
      {
       "output_type": "stream",
       "stream": "stdout",
       "text": [
        "\n",
        "Getting # 372: http://yosemite.epa.gov/oeca/webeis.nsf/EIS01/2B1ECD35F68CC27D85257BEB001B97DA"
       ]
      },
      {
       "output_type": "stream",
       "stream": "stdout",
       "text": [
        "\n",
        "Getting # 373: http://yosemite.epa.gov/oeca/webeis.nsf/EIS01/697B9822ED8BDDD485257BEB001B97DF"
       ]
      },
      {
       "output_type": "stream",
       "stream": "stdout",
       "text": [
        "\n",
        "Getting # 374: http://yosemite.epa.gov/oeca/webeis.nsf/EIS01/B035CE5E524EE4D385257BEB001B97EA"
       ]
      },
      {
       "output_type": "stream",
       "stream": "stdout",
       "text": [
        "\n",
        "Getting # 375: http://yosemite.epa.gov/oeca/webeis.nsf/EIS01/D38FB0A95C9F846885257BEB001B97DB"
       ]
      },
      {
       "output_type": "stream",
       "stream": "stdout",
       "text": [
        "\n",
        "Getting # 376: http://yosemite.epa.gov/oeca/webeis.nsf/EIS01/F2AE761333B2876C85257BEB001B97EE"
       ]
      },
      {
       "output_type": "stream",
       "stream": "stdout",
       "text": [
        "\n",
        "Getting # 377: http://yosemite.epa.gov/oeca/webeis.nsf/EIS01/094F981FCF98E5E585257BEB001B97D2"
       ]
      },
      {
       "output_type": "stream",
       "stream": "stdout",
       "text": [
        "\n",
        "Getting # 378: http://yosemite.epa.gov/oeca/webeis.nsf/EIS01/473508AECE597A0E85257BEB001B97D5"
       ]
      },
      {
       "output_type": "stream",
       "stream": "stdout",
       "text": [
        "\n",
        "Getting # 379: http://yosemite.epa.gov/oeca/webeis.nsf/EIS01/7CB3032478EAFAC485257BEB001B97D7"
       ]
      },
      {
       "output_type": "stream",
       "stream": "stdout",
       "text": [
        "\n",
        "Getting # 380: http://yosemite.epa.gov/oeca/webeis.nsf/EIS01/90A77C8432392BB485257BEB001B97D4"
       ]
      },
      {
       "output_type": "stream",
       "stream": "stdout",
       "text": [
        "\n",
        "Getting # 381: http://yosemite.epa.gov/oeca/webeis.nsf/EIS01/C5D18049F3C8D6D485257BEB001B97D1"
       ]
      },
      {
       "output_type": "stream",
       "stream": "stdout",
       "text": [
        "\n",
        "Getting # 382: http://yosemite.epa.gov/oeca/webeis.nsf/EIS01/86071B5ED1CB3C8385257BEB001B97CC"
       ]
      },
      {
       "output_type": "stream",
       "stream": "stdout",
       "text": [
        "\n",
        "Getting # 383: http://yosemite.epa.gov/oeca/webeis.nsf/EIS01/9D26D521F854840585257BEB001B97CE"
       ]
      },
      {
       "output_type": "stream",
       "stream": "stdout",
       "text": [
        "\n",
        "Getting # 384: http://yosemite.epa.gov/oeca/webeis.nsf/EIS01/868B4F7D6DDE6C3485257BEB001B97C9"
       ]
      },
      {
       "output_type": "stream",
       "stream": "stdout",
       "text": [
        "\n",
        "Getting # 385: http://yosemite.epa.gov/oeca/webeis.nsf/EIS01/56E40D5C6CDB19F085257BEB001B97B8"
       ]
      },
      {
       "output_type": "stream",
       "stream": "stdout",
       "text": [
        "\n",
        "Getting # 386: http://yosemite.epa.gov/oeca/webeis.nsf/EIS01/6BACF79476F2E3D485257BEB001B97B3"
       ]
      },
      {
       "output_type": "stream",
       "stream": "stdout",
       "text": [
        "\n",
        "Getting # 387: http://yosemite.epa.gov/oeca/webeis.nsf/EIS01/D39FB098C19F062685257BEB001B97B9"
       ]
      },
      {
       "output_type": "stream",
       "stream": "stdout",
       "text": [
        "\n",
        "Getting # 388: http://yosemite.epa.gov/oeca/webeis.nsf/EIS01/698B0048DF39550F85257BEB001B97C1"
       ]
      },
      {
       "output_type": "stream",
       "stream": "stdout",
       "text": [
        "\n",
        "Getting # 389: http://yosemite.epa.gov/oeca/webeis.nsf/EIS01/2439E0673E45121785257BEB001B978C"
       ]
      },
      {
       "output_type": "stream",
       "stream": "stdout",
       "text": [
        "\n",
        "Getting # 390: http://yosemite.epa.gov/oeca/webeis.nsf/EIS01/4448520A1E24155A85257BEB001B9799"
       ]
      },
      {
       "output_type": "stream",
       "stream": "stdout",
       "text": [
        "\n",
        "Getting # 391: http://yosemite.epa.gov/oeca/webeis.nsf/EIS01/57ECB5205207F4FC85257BEB001B977E"
       ]
      },
      {
       "output_type": "stream",
       "stream": "stdout",
       "text": [
        "\n",
        "Getting # 392: http://yosemite.epa.gov/oeca/webeis.nsf/EIS01/5AA2E7BA4789347185257BEB001B979C"
       ]
      },
      {
       "output_type": "stream",
       "stream": "stdout",
       "text": [
        "\n",
        "Getting # 393: http://yosemite.epa.gov/oeca/webeis.nsf/EIS01/690AA0A52339F05E85257BEB001B9781"
       ]
      },
      {
       "output_type": "stream",
       "stream": "stdout",
       "text": [
        "\n",
        "Getting # 394: http://yosemite.epa.gov/oeca/webeis.nsf/EIS01/CC1C42B590E9E2B785257BEB001B978E"
       ]
      },
      {
       "output_type": "stream",
       "stream": "stdout",
       "text": [
        "\n",
        "Getting # 395: http://yosemite.epa.gov/oeca/webeis.nsf/EIS01/D5CDE0FD973954E085257BEB001B9786"
       ]
      },
      {
       "output_type": "stream",
       "stream": "stdout",
       "text": [
        "\n",
        "Getting # 396: http://yosemite.epa.gov/oeca/webeis.nsf/EIS01/B2E27E174D97D18B85257BEB001B9778"
       ]
      },
      {
       "output_type": "stream",
       "stream": "stdout",
       "text": [
        "\n",
        "Getting # 397: http://yosemite.epa.gov/oeca/webeis.nsf/EIS01/200AE34315F939AB85257BEB001B977D"
       ]
      },
      {
       "output_type": "stream",
       "stream": "stdout",
       "text": [
        "\n",
        "Getting # 398: http://yosemite.epa.gov/oeca/webeis.nsf/EIS01/2E9B902244D69B6A85257BEB001B9757"
       ]
      },
      {
       "output_type": "stream",
       "stream": "stdout",
       "text": [
        "\n",
        "Getting # 399: http://yosemite.epa.gov/oeca/webeis.nsf/EIS01/63B79B8042123B9C85257BEB001B9760"
       ]
      },
      {
       "output_type": "stream",
       "stream": "stdout",
       "text": [
        "\n",
        "Getting # 400: http://yosemite.epa.gov/oeca/webeis.nsf/EIS01/E45FC29EC8C96B6385257BEB001B9768"
       ]
      },
      {
       "output_type": "stream",
       "stream": "stdout",
       "text": [
        "\n",
        "Getting # 401: http://yosemite.epa.gov/oeca/webeis.nsf/EIS01/6DA19EA0936C76D685257BEB001B9735"
       ]
      },
      {
       "output_type": "stream",
       "stream": "stdout",
       "text": [
        "\n",
        "Getting # 402: http://yosemite.epa.gov/oeca/webeis.nsf/EIS01/95B855036D891BC385257BEB001B9749"
       ]
      },
      {
       "output_type": "stream",
       "stream": "stdout",
       "text": [
        "\n",
        "Getting # 403: http://yosemite.epa.gov/oeca/webeis.nsf/EIS01/1877694345529CC885257BEB001B9746"
       ]
      },
      {
       "output_type": "stream",
       "stream": "stdout",
       "text": [
        "\n",
        "Getting # 404: http://yosemite.epa.gov/oeca/webeis.nsf/EIS01/1F85E2250AC5242B85257BEB001B9714"
       ]
      },
      {
       "output_type": "stream",
       "stream": "stdout",
       "text": [
        "\n",
        "Getting # 405: http://yosemite.epa.gov/oeca/webeis.nsf/EIS01/2892B9BF9A99D68485257BEB001B971F"
       ]
      },
      {
       "output_type": "stream",
       "stream": "stdout",
       "text": [
        "\n",
        "Getting # 406: http://yosemite.epa.gov/oeca/webeis.nsf/EIS01/2BE8971C9D3CF04285257BEB001B9707"
       ]
      },
      {
       "output_type": "stream",
       "stream": "stdout",
       "text": [
        "\n",
        "Getting # 407: http://yosemite.epa.gov/oeca/webeis.nsf/EIS01/2E734DF240C14E9785257BEB001B9731"
       ]
      },
      {
       "output_type": "stream",
       "stream": "stdout",
       "text": [
        "\n",
        "Getting # 408: http://yosemite.epa.gov/oeca/webeis.nsf/EIS01/52059429F15604F585257BEB001B9701"
       ]
      },
      {
       "output_type": "stream",
       "stream": "stdout",
       "text": [
        "\n",
        "Getting # 409: http://yosemite.epa.gov/oeca/webeis.nsf/EIS01/619C5D5C17717F5585257BEB001B970F"
       ]
      },
      {
       "output_type": "stream",
       "stream": "stdout",
       "text": [
        "\n",
        "Getting # 410: http://yosemite.epa.gov/oeca/webeis.nsf/EIS01/746980A528734CD285257BEB001B970D"
       ]
      },
      {
       "output_type": "stream",
       "stream": "stdout",
       "text": [
        "\n",
        "Getting # 411: http://yosemite.epa.gov/oeca/webeis.nsf/EIS01/9A3337A602FE248485257BEB001B9725"
       ]
      },
      {
       "output_type": "stream",
       "stream": "stdout",
       "text": [
        "\n",
        "Getting # 412: http://yosemite.epa.gov/oeca/webeis.nsf/EIS01/9D75CDB297A57CED85257BEB001B970A"
       ]
      },
      {
       "output_type": "stream",
       "stream": "stdout",
       "text": [
        "\n",
        "Getting # 413: http://yosemite.epa.gov/oeca/webeis.nsf/EIS01/FF23F8B570C5206D85257BEB001B9722"
       ]
      },
      {
       "output_type": "stream",
       "stream": "stdout",
       "text": [
        "\n",
        "Getting # 414: http://yosemite.epa.gov/oeca/webeis.nsf/EIS01/825D764B13DFF7D585257BEB001B96FF"
       ]
      },
      {
       "output_type": "stream",
       "stream": "stdout",
       "text": [
        "\n",
        "Getting # 415: http://yosemite.epa.gov/oeca/webeis.nsf/EIS01/7109BB17B88B918C85257BEB001B96DC"
       ]
      },
      {
       "output_type": "stream",
       "stream": "stdout",
       "text": [
        "\n",
        "Getting # 416: http://yosemite.epa.gov/oeca/webeis.nsf/EIS01/B01209EC09DF5CC685257BEB001B96FB"
       ]
      },
      {
       "output_type": "stream",
       "stream": "stdout",
       "text": [
        "\n",
        "Getting # 417: http://yosemite.epa.gov/oeca/webeis.nsf/EIS01/B8C29395AA84669985257BEB001B96ED"
       ]
      },
      {
       "output_type": "stream",
       "stream": "stdout",
       "text": [
        "\n",
        "Getting # 418: http://yosemite.epa.gov/oeca/webeis.nsf/EIS01/C5BE6D1C4940D0B585257BEB001B96F4"
       ]
      },
      {
       "output_type": "stream",
       "stream": "stdout",
       "text": [
        "\n",
        "Getting # 419: http://yosemite.epa.gov/oeca/webeis.nsf/EIS01/F61E01C8A1EB7BF685257BEB001B96DB"
       ]
      },
      {
       "output_type": "stream",
       "stream": "stdout",
       "text": [
        "\n",
        "Getting # 420: http://yosemite.epa.gov/oeca/webeis.nsf/EIS01/FD85C080E7ABA41385257BEB001B96D1"
       ]
      },
      {
       "output_type": "stream",
       "stream": "stdout",
       "text": [
        "\n",
        "Getting # 421: http://yosemite.epa.gov/oeca/webeis.nsf/EIS01/3AE98DA448B1211585257BEB001B96E0"
       ]
      },
      {
       "output_type": "stream",
       "stream": "stdout",
       "text": [
        "\n",
        "Getting # 422: http://yosemite.epa.gov/oeca/webeis.nsf/EIS01/7C10F6B06D4737F785257BEB001B96CC"
       ]
      },
      {
       "output_type": "stream",
       "stream": "stdout",
       "text": [
        "\n",
        "Getting # 423: http://yosemite.epa.gov/oeca/webeis.nsf/EIS01/0C0EE42D4046C90085257BEB001B96BC"
       ]
      },
      {
       "output_type": "stream",
       "stream": "stdout",
       "text": [
        "\n",
        "Getting # 424: http://yosemite.epa.gov/oeca/webeis.nsf/EIS01/6FEA04B0704654A185257BEB001B96AE"
       ]
      },
      {
       "output_type": "stream",
       "stream": "stdout",
       "text": [
        "\n",
        "Getting # 425: http://yosemite.epa.gov/oeca/webeis.nsf/EIS01/9ADFAA9A1B87E17485257BEB001B96B4"
       ]
      },
      {
       "output_type": "stream",
       "stream": "stdout",
       "text": [
        "\n"
       ]
      }
     ],
     "prompt_number": 74
    },
    {
     "cell_type": "code",
     "collapsed": false,
     "input": [
      "#df.to_csv('reports_part_1.csv', encoding='utf-8')\n",
      "#df.to_csv('reports_part_2.csv', encoding='utf-8')\n",
      "df.to_csv('reports_part_3.csv', encoding='utf-8')"
     ],
     "language": "python",
     "metadata": {},
     "outputs": [],
     "prompt_number": 75
    },
    {
     "cell_type": "code",
     "collapsed": false,
     "input": [
      "#join\n",
      "df1 = pd.read_csv('reports_1_2.csv')\n",
      "df2 = pd.read_csv('reports_part_3.csv')\n",
      "#remove last row so we can get the complete list of files\n",
      "df1 = df1[0:len(df1)-1]\n",
      "df2 = df2[0:len(df2)-1]\n",
      "df_join = pd.concat([df1, df2])\n",
      "df_join = df_join.drop_duplicates()\n",
      "df_join.to_csv('reports.csv', index=False)"
     ],
     "language": "python",
     "metadata": {},
     "outputs": [],
     "prompt_number": 80
    }
   ],
   "metadata": {}
  }
 ]
}