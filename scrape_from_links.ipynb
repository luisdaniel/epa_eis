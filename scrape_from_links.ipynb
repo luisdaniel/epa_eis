{
 "metadata": {
  "name": "",
  "signature": "sha256:b4c6f719743ff7f51786d093825d98dcc53a11b61c5b7265d4ef2e29d01a3a06"
 },
 "nbformat": 3,
 "nbformat_minor": 0,
 "worksheets": [
  {
   "cells": [
    {
     "cell_type": "code",
     "collapsed": false,
     "input": [
      "from bs4 import BeautifulSoup as bs\n",
      "import re\n",
      "import urllib2\n",
      "import csv\n",
      "import json\n",
      "import datetime\n",
      "import pandas as pd"
     ],
     "language": "python",
     "metadata": {},
     "outputs": [],
     "prompt_number": 77
    },
    {
     "cell_type": "code",
     "collapsed": false,
     "input": [
      "columns = ['date', 'agency', 'state', 'document_type', 'title', 'report_link', \n",
      "           'eis_number', 'federal_register_date', 'contact_name', 'comment_due_review_date', 'contact_phone', \n",
      "           'amended_notice_date', 'amended_notice', 'supplemental_info', 'website', 'comment_letter_date', 'rating',\n",
      "           'num_files', 'list_of_links']\n",
      "df = pd.DataFrame(columns=columns)"
     ],
     "language": "python",
     "metadata": {},
     "outputs": [],
     "prompt_number": 114
    },
    {
     "cell_type": "code",
     "collapsed": false,
     "input": [
      "# this is a small script to check whether links were already scraped or not. Checks against first run of script.\n",
      "file_name = 'reports_part_1.csv'\n",
      "reports_we_have = pd.read_csv(file_name)\n",
      "urls = set(pd.Series(reports_we_have['report_link']))\n",
      "def scraped(url):\n",
      "    return url in urls"
     ],
     "language": "python",
     "metadata": {},
     "outputs": [],
     "prompt_number": 115
    },
    {
     "cell_type": "code",
     "collapsed": false,
     "input": [
      "#1 - date\n",
      "#2 - agency\n",
      "#3 - state\n",
      "#4 - document_type\n",
      "#5 - title\n",
      "#6 - report_link\n",
      "#\"\"\"'eis_number', 'federal_register_date', 'contact_name', 'comment_due_review_date', 'contact_phone', \n",
      "#           'amended_notice_date', 'amended_notice', 'supplemental_info', 'website', 'comment_letter_date', 'rating',\n",
      "#           'num_files', 'list_of_links'\"\"\"\n",
      "\n",
      "\n",
      "#EPA server won't let you get all the URL's. Had to split it in two. \n",
      "index = 0\n",
      "with open('eis_links.csv', mode='r') as infile:\n",
      "    reader = csv.reader(infile)\n",
      "    for row in reader:\n",
      "        if not scraped(row[6]) and row[6] != 'report_link':\n",
      "            print \"Getting # \" + str(index) + \": \" + row[6]\n",
      "            page = urllib2.urlopen(row[6]).read()\n",
      "            soup = bs(page)\n",
      "            table = soup.findAll('td')\n",
      "            title = table[1].text\n",
      "            eis_number = table[3].text\n",
      "            state = table[5].text\n",
      "            document_type = table[7].text\n",
      "            agency = table[9].text\n",
      "            federal_register_date = table[11].text\n",
      "            contact_name = table[13].text\n",
      "            comment_due_review_date = table[15].text\n",
      "            contact_phone = table[17].text\n",
      "            amended_notice_date = table[19].text\n",
      "            amended_notice = table[21].text\n",
      "            supplemental_info = table[23].text\n",
      "            website = table[25].text.rstrip()\n",
      "            comment_letter_date = table[27].text.rstrip()\n",
      "            rating = table[29].text\n",
      "            files = table[30]\n",
      "            file_links = []\n",
      "            base_file_url = 'http://yosemite.epa.gov/oeca/webeis.nsf/'\n",
      "            links = files.findAll('a')\n",
      "            for link in links:\n",
      "                file_links.append(base_file_url + urllib2.quote(link['href'].replace('?OpenElement', '').replace('../','')))\n",
      "            num_files = len(file_links)\n",
      "            file_links = ' '.join(file_links)\n",
      "            new_row = [row[1], row[2], row[3], row[4], row[5], row[6],\n",
      "                       eis_number, federal_register_date, contact_name, comment_due_review_date, contact_phone, \n",
      "                       amended_notice_date, amended_notice, supplemental_info, website, comment_letter_date, rating,\n",
      "                       num_files, file_links]\n",
      "            for i in range(len(new_row)):  # For every value in our newrow\n",
      "                if hasattr(new_row[i], 'encode'):\n",
      "                    new_row[i] = new_row[i].encode('utf8')\n",
      "            df.loc[index] = new_row\n",
      "            index +=1"
     ],
     "language": "python",
     "metadata": {},
     "outputs": [
      {
       "output_type": "stream",
       "stream": "stdout",
       "text": [
        "Getting # 0: http://yosemite.epa.gov/oeca/webeis.nsf/EIS01/3FAB8BA1FB8194B685257BEB001BB0CF\n",
        "Getting # 1: http://yosemite.epa.gov/oeca/webeis.nsf/EIS01/66B67FB18C19EEBB85257BEB001BB0D7"
       ]
      },
      {
       "output_type": "stream",
       "stream": "stdout",
       "text": [
        "\n",
        "Getting # 2: http://yosemite.epa.gov/oeca/webeis.nsf/EIS01/D4F49A38235FBB7185257BEB001BB125"
       ]
      },
      {
       "output_type": "stream",
       "stream": "stdout",
       "text": [
        "\n",
        "Getting # 3: http://yosemite.epa.gov/oeca/webeis.nsf/EIS01/DE689EE00BB10F5385257BEB001BB0D4"
       ]
      },
      {
       "output_type": "stream",
       "stream": "stdout",
       "text": [
        "\n",
        "Getting # 4: http://yosemite.epa.gov/oeca/webeis.nsf/EIS01/14B9F804C524503985257BEB001BB0F3"
       ]
      },
      {
       "output_type": "stream",
       "stream": "stdout",
       "text": [
        "\n",
        "Getting # 5: http://yosemite.epa.gov/oeca/webeis.nsf/EIS01/0BB6E7D02C8679A985257BEB001BB0C3"
       ]
      },
      {
       "output_type": "stream",
       "stream": "stdout",
       "text": [
        "\n",
        "Getting # 6: http://yosemite.epa.gov/oeca/webeis.nsf/EIS01/3131BB79C1F423AE85257BEB001BB0B8"
       ]
      },
      {
       "output_type": "stream",
       "stream": "stdout",
       "text": [
        "\n",
        "Getting # 7: http://yosemite.epa.gov/oeca/webeis.nsf/EIS01/36BC62FCB5D2030C85257BEB001BB0BC"
       ]
      },
      {
       "output_type": "stream",
       "stream": "stdout",
       "text": [
        "\n",
        "Getting # 8: http://yosemite.epa.gov/oeca/webeis.nsf/EIS01/9770776218A6EA1D85257BEB001BB0C0"
       ]
      },
      {
       "output_type": "stream",
       "stream": "stdout",
       "text": [
        "\n",
        "Getting # 9: http://yosemite.epa.gov/oeca/webeis.nsf/EIS01/F0C4FC97B326680985257BEB001BB0BB"
       ]
      },
      {
       "output_type": "stream",
       "stream": "stdout",
       "text": [
        "\n",
        "Getting # 10: http://yosemite.epa.gov/oeca/webeis.nsf/EIS01/BFEFF65FB5194B5A85257BEB001BB076"
       ]
      },
      {
       "output_type": "stream",
       "stream": "stdout",
       "text": [
        "\n",
        "Getting # 11: http://yosemite.epa.gov/oeca/webeis.nsf/EIS01/CB46617D1C3C348485257BEB001BB07B"
       ]
      },
      {
       "output_type": "stream",
       "stream": "stdout",
       "text": [
        "\n",
        "Getting # 12: http://yosemite.epa.gov/oeca/webeis.nsf/EIS01/17E0C07313CC800085257BEB001BB05D"
       ]
      },
      {
       "output_type": "stream",
       "stream": "stdout",
       "text": [
        "\n",
        "Getting # 13: http://yosemite.epa.gov/oeca/webeis.nsf/EIS01/5376A8378FBE5B0485257BEB001BB068"
       ]
      },
      {
       "output_type": "stream",
       "stream": "stdout",
       "text": [
        "\n",
        "Getting # 14: http://yosemite.epa.gov/oeca/webeis.nsf/EIS01/E805FCC3A7CE9B1F85257BEB001BB06B"
       ]
      },
      {
       "output_type": "stream",
       "stream": "stdout",
       "text": [
        "\n",
        "Getting # 15: http://yosemite.epa.gov/oeca/webeis.nsf/EIS01/0A479E704ED075FA85257BEB001BB03C"
       ]
      },
      {
       "output_type": "stream",
       "stream": "stdout",
       "text": [
        "\n",
        "Getting # 16: http://yosemite.epa.gov/oeca/webeis.nsf/EIS01/3E14E73040138E1785257BEB001BB030"
       ]
      },
      {
       "output_type": "stream",
       "stream": "stdout",
       "text": [
        "\n",
        "Getting # 17: http://yosemite.epa.gov/oeca/webeis.nsf/EIS01/7E58213D319BF0A785257BEB001BB035"
       ]
      },
      {
       "output_type": "stream",
       "stream": "stdout",
       "text": [
        "\n",
        "Getting # 18: http://yosemite.epa.gov/oeca/webeis.nsf/EIS01/909E4F119939353885257BEB001BB04A"
       ]
      },
      {
       "output_type": "stream",
       "stream": "stdout",
       "text": [
        "\n",
        "Getting # 19: http://yosemite.epa.gov/oeca/webeis.nsf/EIS01/DDD848E52EEF279C85257BEB001BB039"
       ]
      },
      {
       "output_type": "stream",
       "stream": "stdout",
       "text": [
        "\n",
        "Getting # 20: http://yosemite.epa.gov/oeca/webeis.nsf/EIS01/6CAC6E9B40F6A15685257BEB001BB023"
       ]
      },
      {
       "output_type": "stream",
       "stream": "stdout",
       "text": [
        "\n",
        "Getting # 21: http://yosemite.epa.gov/oeca/webeis.nsf/EIS01/87D0DEDE4B043AB885257BEB001BB017"
       ]
      },
      {
       "output_type": "stream",
       "stream": "stdout",
       "text": [
        "\n",
        "Getting # 22: http://yosemite.epa.gov/oeca/webeis.nsf/EIS01/E0B0EAED1926D50985257BEB001BB014"
       ]
      },
      {
       "output_type": "stream",
       "stream": "stdout",
       "text": [
        "\n",
        "Getting # 23: http://yosemite.epa.gov/oeca/webeis.nsf/EIS01/43F4B11EA95512A885257BEB001BB02D"
       ]
      },
      {
       "output_type": "stream",
       "stream": "stdout",
       "text": [
        "\n",
        "Getting # 24: http://yosemite.epa.gov/oeca/webeis.nsf/EIS01/B221E92FD931383685257BEB001BAFF1"
       ]
      },
      {
       "output_type": "stream",
       "stream": "stdout",
       "text": [
        "\n",
        "Getting # 25: http://yosemite.epa.gov/oeca/webeis.nsf/EIS01/F60D59A43E77B31285257BEB001BB00A"
       ]
      },
      {
       "output_type": "stream",
       "stream": "stdout",
       "text": [
        "\n",
        "Getting # 26: http://yosemite.epa.gov/oeca/webeis.nsf/EIS01/BA244F46542BA7EE85257BEB001BAFC6"
       ]
      },
      {
       "output_type": "stream",
       "stream": "stdout",
       "text": [
        "\n",
        "Getting # 27: http://yosemite.epa.gov/oeca/webeis.nsf/EIS01/C0E98954ED59DBC585257BEB001BAFCA"
       ]
      },
      {
       "output_type": "stream",
       "stream": "stdout",
       "text": [
        "\n",
        "Getting # 28: http://yosemite.epa.gov/oeca/webeis.nsf/EIS01/D74E5C521C5CE85485257BEB001BAFAE"
       ]
      },
      {
       "output_type": "stream",
       "stream": "stdout",
       "text": [
        "\n",
        "Getting # 29: http://yosemite.epa.gov/oeca/webeis.nsf/EIS01/302745DE4FE0BC1385257BEB001BAF7B"
       ]
      },
      {
       "output_type": "stream",
       "stream": "stdout",
       "text": [
        "\n",
        "Getting # 30: http://yosemite.epa.gov/oeca/webeis.nsf/EIS01/C986EBCDB6F002CA85257BEB001BAF92"
       ]
      },
      {
       "output_type": "stream",
       "stream": "stdout",
       "text": [
        "\n",
        "Getting # 31: http://yosemite.epa.gov/oeca/webeis.nsf/EIS01/EC3785BFEDC2316885257BEB001BAFA0"
       ]
      },
      {
       "output_type": "stream",
       "stream": "stdout",
       "text": [
        "\n",
        "Getting # 32: http://yosemite.epa.gov/oeca/webeis.nsf/EIS01/C31A2EFB9D2A312585257BEB001BAF4C"
       ]
      },
      {
       "output_type": "stream",
       "stream": "stdout",
       "text": [
        "\n",
        "Getting # 33: http://yosemite.epa.gov/oeca/webeis.nsf/EIS01/3CE712D44DCA99BD85257BEB001BAF3E"
       ]
      },
      {
       "output_type": "stream",
       "stream": "stdout",
       "text": [
        "\n",
        "Getting # 34: http://yosemite.epa.gov/oeca/webeis.nsf/EIS01/C46034995054D44A85257BEB001BAF37"
       ]
      },
      {
       "output_type": "stream",
       "stream": "stdout",
       "text": [
        "\n",
        "Getting # 35: http://yosemite.epa.gov/oeca/webeis.nsf/EIS01/7DF17B6D3674286485257BEB001BAEF9"
       ]
      },
      {
       "output_type": "stream",
       "stream": "stdout",
       "text": [
        "\n",
        "Getting # 36: http://yosemite.epa.gov/oeca/webeis.nsf/EIS01/6B6FD70655673D2485257BEB001BAEFA"
       ]
      },
      {
       "output_type": "stream",
       "stream": "stdout",
       "text": [
        "\n",
        "Getting # 37: http://yosemite.epa.gov/oeca/webeis.nsf/EIS01/F6908FE0346759E485257BEB001BAEDA"
       ]
      },
      {
       "output_type": "stream",
       "stream": "stdout",
       "text": [
        "\n",
        "Getting # 38: http://yosemite.epa.gov/oeca/webeis.nsf/EIS01/020EAC4BCEDF96BC85257BEB001BAED0"
       ]
      },
      {
       "output_type": "stream",
       "stream": "stdout",
       "text": [
        "\n",
        "Getting # 39: http://yosemite.epa.gov/oeca/webeis.nsf/EIS01/925006B2E606A7A485257BEB001BAED7"
       ]
      },
      {
       "output_type": "stream",
       "stream": "stdout",
       "text": [
        "\n",
        "Getting # 40: http://yosemite.epa.gov/oeca/webeis.nsf/EIS01/7F8BC6A430DB789885257BEB001BAEDD"
       ]
      },
      {
       "output_type": "stream",
       "stream": "stdout",
       "text": [
        "\n",
        "Getting # 41: http://yosemite.epa.gov/oeca/webeis.nsf/EIS01/35FB6F030D5636FD85257BEB001BAE82"
       ]
      },
      {
       "output_type": "stream",
       "stream": "stdout",
       "text": [
        "\n",
        "Getting # 42: http://yosemite.epa.gov/oeca/webeis.nsf/EIS01/672D13BA44B991D085257BEB001BAE87"
       ]
      },
      {
       "output_type": "stream",
       "stream": "stdout",
       "text": [
        "\n",
        "Getting # 43: http://yosemite.epa.gov/oeca/webeis.nsf/EIS01/9A9BFE8621B8CB0085257BEB001BAE7D"
       ]
      },
      {
       "output_type": "stream",
       "stream": "stdout",
       "text": [
        "\n",
        "Getting # 44: http://yosemite.epa.gov/oeca/webeis.nsf/EIS01/BD08D93F0F7CD86385257BEB001BAE7A"
       ]
      },
      {
       "output_type": "stream",
       "stream": "stdout",
       "text": [
        "\n",
        "Getting # 45: http://yosemite.epa.gov/oeca/webeis.nsf/EIS01/F625EBAFDF9C12B585257BEB001BAE8D"
       ]
      },
      {
       "output_type": "stream",
       "stream": "stdout",
       "text": [
        "\n",
        "Getting # 46: http://yosemite.epa.gov/oeca/webeis.nsf/EIS01/0CD6DBBE3DEDABDB85257BEB001BAEAC"
       ]
      },
      {
       "output_type": "stream",
       "stream": "stdout",
       "text": [
        "\n",
        "Getting # 47: http://yosemite.epa.gov/oeca/webeis.nsf/EIS01/C55A87A823895C6A85257BEB001BAE39"
       ]
      },
      {
       "output_type": "stream",
       "stream": "stdout",
       "text": [
        "\n",
        "Getting # 48: http://yosemite.epa.gov/oeca/webeis.nsf/EIS01/5D72F0F19D0173E185257BEB001BAE28"
       ]
      },
      {
       "output_type": "stream",
       "stream": "stdout",
       "text": [
        "\n",
        "Getting # 49: http://yosemite.epa.gov/oeca/webeis.nsf/EIS01/D7DC65E9C7C4894085257BEB001BAE32"
       ]
      },
      {
       "output_type": "stream",
       "stream": "stdout",
       "text": [
        "\n",
        "Getting # 50: http://yosemite.epa.gov/oeca/webeis.nsf/EIS01/EE27F548C34DCC4085257BEB001BAE2B"
       ]
      },
      {
       "output_type": "stream",
       "stream": "stdout",
       "text": [
        "\n",
        "Getting # 51: http://yosemite.epa.gov/oeca/webeis.nsf/EIS01/201D3006DA7C5CC685257BEB001BAE6F"
       ]
      },
      {
       "output_type": "stream",
       "stream": "stdout",
       "text": [
        "\n",
        "Getting # 52: http://yosemite.epa.gov/oeca/webeis.nsf/EIS01/34F46EE21AC4865B85257BEB001BAE53"
       ]
      },
      {
       "output_type": "stream",
       "stream": "stdout",
       "text": [
        "\n",
        "Getting # 53: http://yosemite.epa.gov/oeca/webeis.nsf/EIS01/10E6A83191DC671E85257BEB001BAE34"
       ]
      },
      {
       "output_type": "stream",
       "stream": "stdout",
       "text": [
        "\n",
        "Getting # 54: http://yosemite.epa.gov/oeca/webeis.nsf/EIS01/84A92C1F615412BE85257BEB001BADFC"
       ]
      },
      {
       "output_type": "stream",
       "stream": "stdout",
       "text": [
        "\n",
        "Getting # 55: http://yosemite.epa.gov/oeca/webeis.nsf/EIS01/FD3FB10D63EBF95885257BEB001BAE0B"
       ]
      },
      {
       "output_type": "stream",
       "stream": "stdout",
       "text": [
        "\n",
        "Getting # 56: http://yosemite.epa.gov/oeca/webeis.nsf/EIS01/A55361214800A99F85257BEB001BAE15"
       ]
      },
      {
       "output_type": "stream",
       "stream": "stdout",
       "text": [
        "\n",
        "Getting # 57: http://yosemite.epa.gov/oeca/webeis.nsf/EIS01/1C8D91A18094FD9485257BEB001BADF1"
       ]
      },
      {
       "output_type": "stream",
       "stream": "stdout",
       "text": [
        "\n",
        "Getting # 58: http://yosemite.epa.gov/oeca/webeis.nsf/EIS01/4B25DD06C933614885257BEB001BAE20"
       ]
      },
      {
       "output_type": "stream",
       "stream": "stdout",
       "text": [
        "\n",
        "Getting # 59: http://yosemite.epa.gov/oeca/webeis.nsf/EIS01/5F49821B4C4B434B85257BEB001BADD6"
       ]
      },
      {
       "output_type": "stream",
       "stream": "stdout",
       "text": [
        "\n",
        "Getting # 60: http://yosemite.epa.gov/oeca/webeis.nsf/EIS01/4752A76AC7265EC985257BEB001BADD9"
       ]
      },
      {
       "output_type": "stream",
       "stream": "stdout",
       "text": [
        "\n",
        "Getting # 61: http://yosemite.epa.gov/oeca/webeis.nsf/EIS01/8D1B9CAE3E1D5CE185257BEB001BADC2"
       ]
      },
      {
       "output_type": "stream",
       "stream": "stdout",
       "text": [
        "\n",
        "Getting # 62: http://yosemite.epa.gov/oeca/webeis.nsf/EIS01/AFD0D786E57A0AB485257BEB001BADC8"
       ]
      },
      {
       "output_type": "stream",
       "stream": "stdout",
       "text": [
        "\n",
        "Getting # 63: http://yosemite.epa.gov/oeca/webeis.nsf/EIS01/B25E65FBFE900A4785257BEB001BADBC"
       ]
      },
      {
       "output_type": "stream",
       "stream": "stdout",
       "text": [
        "\n",
        "Getting # 64: http://yosemite.epa.gov/oeca/webeis.nsf/EIS01/8E9365FCB31E438885257BEB001BAD98"
       ]
      },
      {
       "output_type": "stream",
       "stream": "stdout",
       "text": [
        "\n",
        "Getting # 65: http://yosemite.epa.gov/oeca/webeis.nsf/EIS01/FFE8E532FDDA653585257BEB001BADB4"
       ]
      },
      {
       "output_type": "stream",
       "stream": "stdout",
       "text": [
        "\n",
        "Getting # 66: http://yosemite.epa.gov/oeca/webeis.nsf/EIS01/CD36664FBA18137485257BEB001BAD96"
       ]
      },
      {
       "output_type": "stream",
       "stream": "stdout",
       "text": [
        "\n",
        "Getting # 67: http://yosemite.epa.gov/oeca/webeis.nsf/EIS01/7830B2AD43E654F085257BEB001BAD82"
       ]
      },
      {
       "output_type": "stream",
       "stream": "stdout",
       "text": [
        "\n",
        "Getting # 68: http://yosemite.epa.gov/oeca/webeis.nsf/EIS01/030B5F19FE13CDBA85257BEB001BAD85"
       ]
      },
      {
       "output_type": "stream",
       "stream": "stdout",
       "text": [
        "\n",
        "Getting # 69: http://yosemite.epa.gov/oeca/webeis.nsf/EIS01/A8A1555087A528EF85257BEB001BAD71"
       ]
      },
      {
       "output_type": "stream",
       "stream": "stdout",
       "text": [
        "\n",
        "Getting # 70: http://yosemite.epa.gov/oeca/webeis.nsf/EIS01/B683C92398189BB385257BEB001BAD66"
       ]
      },
      {
       "output_type": "stream",
       "stream": "stdout",
       "text": [
        "\n",
        "Getting # 71: http://yosemite.epa.gov/oeca/webeis.nsf/EIS01/D1E25EFE3843C41685257BEB001BAD6A"
       ]
      },
      {
       "output_type": "stream",
       "stream": "stdout",
       "text": [
        "\n",
        "Getting # 72: http://yosemite.epa.gov/oeca/webeis.nsf/EIS01/77A50BFE1D24887F85257BEB001BAD4A"
       ]
      },
      {
       "output_type": "stream",
       "stream": "stdout",
       "text": [
        "\n",
        "Getting # 73: http://yosemite.epa.gov/oeca/webeis.nsf/EIS01/29BC87142E9878DF85257BEB001BAD32"
       ]
      },
      {
       "output_type": "stream",
       "stream": "stdout",
       "text": [
        "\n",
        "Getting # 74: http://yosemite.epa.gov/oeca/webeis.nsf/EIS01/5B9048A8CD11465085257BEB001BAD2A"
       ]
      },
      {
       "output_type": "stream",
       "stream": "stdout",
       "text": [
        "\n",
        "Getting # 75: http://yosemite.epa.gov/oeca/webeis.nsf/EIS01/7FA028D6F645811B85257BEB001BAD27"
       ]
      },
      {
       "output_type": "stream",
       "stream": "stdout",
       "text": [
        "\n",
        "Getting # 76: http://yosemite.epa.gov/oeca/webeis.nsf/EIS01/BD5A502CEA95EA3685257BEB001BAD35"
       ]
      },
      {
       "output_type": "stream",
       "stream": "stdout",
       "text": [
        "\n",
        "Getting # 77: http://yosemite.epa.gov/oeca/webeis.nsf/EIS01/D4DA0C2C7CC17EA985257BEB001BAD40"
       ]
      },
      {
       "output_type": "stream",
       "stream": "stdout",
       "text": [
        "\n",
        "Getting # 78: http://yosemite.epa.gov/oeca/webeis.nsf/EIS01/E95AFDDD4B1C715385257BEB001BAD3F"
       ]
      },
      {
       "output_type": "stream",
       "stream": "stdout",
       "text": [
        "\n",
        "Getting # 79: http://yosemite.epa.gov/oeca/webeis.nsf/EIS01/F95180AFDC64D8C485257BEB001BAD29"
       ]
      },
      {
       "output_type": "stream",
       "stream": "stdout",
       "text": [
        "\n",
        "Getting # 80: http://yosemite.epa.gov/oeca/webeis.nsf/EIS01/6472AE7EB7F19A2E85257BEB001BAD1F"
       ]
      },
      {
       "output_type": "stream",
       "stream": "stdout",
       "text": [
        "\n",
        "Getting # 81: http://yosemite.epa.gov/oeca/webeis.nsf/EIS01/71E871A75FD088B685257BEB001BACF7"
       ]
      },
      {
       "output_type": "stream",
       "stream": "stdout",
       "text": [
        "\n",
        "Getting # 82: http://yosemite.epa.gov/oeca/webeis.nsf/EIS01/7FD1BE79D8AA9C7585257BEB001BACD8"
       ]
      },
      {
       "output_type": "stream",
       "stream": "stdout",
       "text": [
        "\n",
        "Getting # 83: http://yosemite.epa.gov/oeca/webeis.nsf/EIS01/907D3DE483B0DC3D85257BEB001BACDC"
       ]
      },
      {
       "output_type": "stream",
       "stream": "stdout",
       "text": [
        "\n",
        "Getting # 84: http://yosemite.epa.gov/oeca/webeis.nsf/EIS01/C46C134E7240E51185257BEB001BAD10"
       ]
      },
      {
       "output_type": "stream",
       "stream": "stdout",
       "text": [
        "\n",
        "Getting # 85: http://yosemite.epa.gov/oeca/webeis.nsf/EIS01/05308D6E6E03C5E685257BEB001BACC0"
       ]
      },
      {
       "output_type": "stream",
       "stream": "stdout",
       "text": [
        "\n",
        "Getting # 86: http://yosemite.epa.gov/oeca/webeis.nsf/EIS01/01A74267E9368F6B85257BEB001BACBA"
       ]
      },
      {
       "output_type": "stream",
       "stream": "stdout",
       "text": [
        "\n",
        "Getting # 87: http://yosemite.epa.gov/oeca/webeis.nsf/EIS01/27B284D69ECBCFE585257BEB001BACA7"
       ]
      },
      {
       "output_type": "stream",
       "stream": "stdout",
       "text": [
        "\n",
        "Getting # 88: http://yosemite.epa.gov/oeca/webeis.nsf/EIS01/32253D87E3BAFBF785257BEB001BACA2"
       ]
      },
      {
       "output_type": "stream",
       "stream": "stdout",
       "text": [
        "\n",
        "Getting # 89: http://yosemite.epa.gov/oeca/webeis.nsf/EIS01/5D53BB49FE6640CC85257BEB001BACCD"
       ]
      },
      {
       "output_type": "stream",
       "stream": "stdout",
       "text": [
        "\n",
        "Getting # 90: http://yosemite.epa.gov/oeca/webeis.nsf/EIS01/6828A7D3B4F455FB85257BEB001BACAC"
       ]
      },
      {
       "output_type": "stream",
       "stream": "stdout",
       "text": [
        "\n",
        "Getting # 91: http://yosemite.epa.gov/oeca/webeis.nsf/EIS01/C4D24E9FEAC4F36485257BEB001BACB1"
       ]
      },
      {
       "output_type": "stream",
       "stream": "stdout",
       "text": [
        "\n",
        "Getting # 92: http://yosemite.epa.gov/oeca/webeis.nsf/EIS01/164C9150E4187CB885257BEB001BAC9F"
       ]
      },
      {
       "output_type": "stream",
       "stream": "stdout",
       "text": [
        "\n",
        "Getting # 93: http://yosemite.epa.gov/oeca/webeis.nsf/EIS01/C37DC9DC620D151885257BEB001BAC7B"
       ]
      },
      {
       "output_type": "stream",
       "stream": "stdout",
       "text": [
        "\n",
        "Getting # 94: http://yosemite.epa.gov/oeca/webeis.nsf/EIS01/EB9A1741138DC30785257BEB001BAC99"
       ]
      },
      {
       "output_type": "stream",
       "stream": "stdout",
       "text": [
        "\n",
        "Getting # 95: http://yosemite.epa.gov/oeca/webeis.nsf/EIS01/E556028230BB5EEE85257BEB001BAC83"
       ]
      },
      {
       "output_type": "stream",
       "stream": "stdout",
       "text": [
        "\n",
        "Getting # 96: http://yosemite.epa.gov/oeca/webeis.nsf/EIS01/085607F32957B26F85257BEB001BAC5F"
       ]
      },
      {
       "output_type": "stream",
       "stream": "stdout",
       "text": [
        "\n",
        "Getting # 97: http://yosemite.epa.gov/oeca/webeis.nsf/EIS01/165CC08869DB44DB85257BEB001BAC64"
       ]
      },
      {
       "output_type": "stream",
       "stream": "stdout",
       "text": [
        "\n",
        "Getting # 98: http://yosemite.epa.gov/oeca/webeis.nsf/EIS01/720E4DF07B5F757C85257BEB001BAC5C"
       ]
      },
      {
       "output_type": "stream",
       "stream": "stdout",
       "text": [
        "\n",
        "Getting # 99: http://yosemite.epa.gov/oeca/webeis.nsf/EIS01/F91A8CA5EB4476A185257BEB001BAC67"
       ]
      },
      {
       "output_type": "stream",
       "stream": "stdout",
       "text": [
        "\n",
        "Getting # 100: http://yosemite.epa.gov/oeca/webeis.nsf/EIS01/A4BAFF6FB68BC28085257BEB001BAC53"
       ]
      },
      {
       "output_type": "stream",
       "stream": "stdout",
       "text": [
        "\n",
        "Getting # 101: http://yosemite.epa.gov/oeca/webeis.nsf/EIS01/02CD747704693C3685257BEB001BAC22"
       ]
      },
      {
       "output_type": "stream",
       "stream": "stdout",
       "text": [
        "\n",
        "Getting # 102: http://yosemite.epa.gov/oeca/webeis.nsf/EIS01/3411D6D2ADBAB2A185257BEB001BAC34"
       ]
      },
      {
       "output_type": "stream",
       "stream": "stdout",
       "text": [
        "\n",
        "Getting # 103: http://yosemite.epa.gov/oeca/webeis.nsf/EIS01/BEF58657F15E92E285257BEB001BAC37"
       ]
      },
      {
       "output_type": "stream",
       "stream": "stdout",
       "text": [
        "\n",
        "Getting # 104: http://yosemite.epa.gov/oeca/webeis.nsf/EIS01/D813832417104FB285257BEB001BAC5B"
       ]
      },
      {
       "output_type": "stream",
       "stream": "stdout",
       "text": [
        "\n",
        "Getting # 105: http://yosemite.epa.gov/oeca/webeis.nsf/EIS01/8D082322AA924C4E85257BEB001BAC10"
       ]
      },
      {
       "output_type": "stream",
       "stream": "stdout",
       "text": [
        "\n",
        "Getting # 106: http://yosemite.epa.gov/oeca/webeis.nsf/EIS01/447A76D378530DA385257BEB001BABBB"
       ]
      },
      {
       "output_type": "stream",
       "stream": "stdout",
       "text": [
        "\n",
        "Getting # 107: http://yosemite.epa.gov/oeca/webeis.nsf/EIS01/6FF4A4F35E63834A85257BEB001BABC6"
       ]
      },
      {
       "output_type": "stream",
       "stream": "stdout",
       "text": [
        "\n",
        "Getting # 108: http://yosemite.epa.gov/oeca/webeis.nsf/EIS01/241811947DA4B32585257BEB001BABAD"
       ]
      },
      {
       "output_type": "stream",
       "stream": "stdout",
       "text": [
        "\n",
        "Getting # 109: http://yosemite.epa.gov/oeca/webeis.nsf/EIS01/207F5AB151325F6B85257BEB001BAB9A"
       ]
      },
      {
       "output_type": "stream",
       "stream": "stdout",
       "text": [
        "\n",
        "Getting # 110: http://yosemite.epa.gov/oeca/webeis.nsf/EIS01/E2B6290AE7D0DE9285257BEB001BAB93"
       ]
      },
      {
       "output_type": "stream",
       "stream": "stdout",
       "text": [
        "\n",
        "Getting # 111: http://yosemite.epa.gov/oeca/webeis.nsf/EIS01/0F2D8B364154B0FF85257BEB001BABB7"
       ]
      },
      {
       "output_type": "stream",
       "stream": "stdout",
       "text": [
        "\n",
        "Getting # 112: http://yosemite.epa.gov/oeca/webeis.nsf/EIS01/2545248D590FBDBE85257BEB001BAB70"
       ]
      },
      {
       "output_type": "stream",
       "stream": "stdout",
       "text": [
        "\n",
        "Getting # 113: http://yosemite.epa.gov/oeca/webeis.nsf/EIS01/2BBE251498D8025A85257BEB001BAB83"
       ]
      },
      {
       "output_type": "stream",
       "stream": "stdout",
       "text": [
        "\n",
        "Getting # 114: http://yosemite.epa.gov/oeca/webeis.nsf/EIS01/4D6ABC3D2204355E85257BEB001BAB62"
       ]
      },
      {
       "output_type": "stream",
       "stream": "stdout",
       "text": [
        "\n",
        "Getting # 115: http://yosemite.epa.gov/oeca/webeis.nsf/EIS01/62FF146A370B2BA085257BEB001BAAEF"
       ]
      },
      {
       "output_type": "stream",
       "stream": "stdout",
       "text": [
        "\n",
        "Getting # 116: http://yosemite.epa.gov/oeca/webeis.nsf/EIS01/CC5439E7CC083FAF85257BEB001BAB11"
       ]
      },
      {
       "output_type": "stream",
       "stream": "stdout",
       "text": [
        "\n",
        "Getting # 117: http://yosemite.epa.gov/oeca/webeis.nsf/EIS01/FEE3E4A3D933EA6385257BEB001BAB19"
       ]
      },
      {
       "output_type": "stream",
       "stream": "stdout",
       "text": [
        "\n",
        "Getting # 118: http://yosemite.epa.gov/oeca/webeis.nsf/EIS01/5C00D07275112F7A85257BEB001BAB03"
       ]
      },
      {
       "output_type": "stream",
       "stream": "stdout",
       "text": [
        "\n",
        "Getting # 119: http://yosemite.epa.gov/oeca/webeis.nsf/EIS01/E95A00BCE90BDEE385257BEB001BAAC4"
       ]
      },
      {
       "output_type": "stream",
       "stream": "stdout",
       "text": [
        "\n",
        "Getting # 120: http://yosemite.epa.gov/oeca/webeis.nsf/EIS01/4A0E6B6A4EC3ADA585257BEB001BAAB9"
       ]
      },
      {
       "output_type": "stream",
       "stream": "stdout",
       "text": [
        "\n",
        "Getting # 121: http://yosemite.epa.gov/oeca/webeis.nsf/EIS01/56C8DE17A641E6AE85257BEB001BAAD2"
       ]
      },
      {
       "output_type": "stream",
       "stream": "stdout",
       "text": [
        "\n",
        "Getting # 122: http://yosemite.epa.gov/oeca/webeis.nsf/EIS01/7DD64ACDA59DE2CA85257BEB001BAAB8"
       ]
      },
      {
       "output_type": "stream",
       "stream": "stdout",
       "text": [
        "\n",
        "Getting # 123: http://yosemite.epa.gov/oeca/webeis.nsf/EIS01/D745075F3C5812B185257BEB001BAA97"
       ]
      },
      {
       "output_type": "stream",
       "stream": "stdout",
       "text": [
        "\n",
        "Getting # 124: http://yosemite.epa.gov/oeca/webeis.nsf/EIS01/20093FA5BC6896FA85257BEB001BAAA2"
       ]
      },
      {
       "output_type": "stream",
       "stream": "stdout",
       "text": [
        "\n",
        "Getting # 125: http://yosemite.epa.gov/oeca/webeis.nsf/EIS01/69168A5EECA1972C85257BEB001BAA7E"
       ]
      },
      {
       "output_type": "stream",
       "stream": "stdout",
       "text": [
        "\n",
        "Getting # 126: http://yosemite.epa.gov/oeca/webeis.nsf/EIS01/8A848E82A4BF180185257BEB001BAAB2"
       ]
      },
      {
       "output_type": "stream",
       "stream": "stdout",
       "text": [
        "\n",
        "Getting # 127: http://yosemite.epa.gov/oeca/webeis.nsf/EIS01/E9D1BF47CA4CBEDF85257BEB001BAA8F"
       ]
      },
      {
       "output_type": "stream",
       "stream": "stdout",
       "text": [
        "\n",
        "Getting # 128: http://yosemite.epa.gov/oeca/webeis.nsf/EIS01/1C2397089329C5C485257BEB001BAA46"
       ]
      },
      {
       "output_type": "stream",
       "stream": "stdout",
       "text": [
        "\n",
        "Getting # 129: http://yosemite.epa.gov/oeca/webeis.nsf/EIS01/3E080E82956CE3E385257BEB001BAA38"
       ]
      },
      {
       "output_type": "stream",
       "stream": "stdout",
       "text": [
        "\n",
        "Getting # 130: http://yosemite.epa.gov/oeca/webeis.nsf/EIS01/E95752C383F96BA085257BEB001BAA36"
       ]
      },
      {
       "output_type": "stream",
       "stream": "stdout",
       "text": [
        "\n",
        "Getting # 131: http://yosemite.epa.gov/oeca/webeis.nsf/EIS01/8BBBEB2357AE6DE985257BEB001BAA5A"
       ]
      },
      {
       "output_type": "stream",
       "stream": "stdout",
       "text": [
        "\n",
        "Getting # 132: http://yosemite.epa.gov/oeca/webeis.nsf/EIS01/E47C0CA05276779B85257BEB001BAA2B"
       ]
      },
      {
       "output_type": "stream",
       "stream": "stdout",
       "text": [
        "\n",
        "Getting # 133: http://yosemite.epa.gov/oeca/webeis.nsf/EIS01/E396FABFA9AC15C285257BEB001BAA70"
       ]
      },
      {
       "output_type": "stream",
       "stream": "stdout",
       "text": [
        "\n",
        "Getting # 134: http://yosemite.epa.gov/oeca/webeis.nsf/EIS01/F32C95C9A41AB7C985257BEB001BAA17"
       ]
      },
      {
       "output_type": "stream",
       "stream": "stdout",
       "text": [
        "\n",
        "Getting # 135: http://yosemite.epa.gov/oeca/webeis.nsf/EIS01/736742B58694177985257BEB001BA9FE"
       ]
      },
      {
       "output_type": "stream",
       "stream": "stdout",
       "text": [
        "\n",
        "Getting # 136: http://yosemite.epa.gov/oeca/webeis.nsf/EIS01/D43DD9837A1866AF85257BEB001BA9D2"
       ]
      },
      {
       "output_type": "stream",
       "stream": "stdout",
       "text": [
        "\n",
        "Getting # 137: http://yosemite.epa.gov/oeca/webeis.nsf/EIS01/F416591019F9433B85257BEB001BA9D8"
       ]
      },
      {
       "output_type": "stream",
       "stream": "stdout",
       "text": [
        "\n",
        "Getting # 138: http://yosemite.epa.gov/oeca/webeis.nsf/EIS01/FED007F854C42BCD85257BEB001BA9EA"
       ]
      },
      {
       "output_type": "stream",
       "stream": "stdout",
       "text": [
        "\n",
        "Getting # 139: http://yosemite.epa.gov/oeca/webeis.nsf/EIS01/43084651A6BF445285257BEB001BA9F1"
       ]
      },
      {
       "output_type": "stream",
       "stream": "stdout",
       "text": [
        "\n",
        "Getting # 140: http://yosemite.epa.gov/oeca/webeis.nsf/EIS01/C28D8C8E7B2A66C785257BEB001BA9CD"
       ]
      },
      {
       "output_type": "stream",
       "stream": "stdout",
       "text": [
        "\n",
        "Getting # 141: http://yosemite.epa.gov/oeca/webeis.nsf/EIS01/8657F449F1DC412085257BEB001BA98A"
       ]
      },
      {
       "output_type": "stream",
       "stream": "stdout",
       "text": [
        "\n",
        "Getting # 142: http://yosemite.epa.gov/oeca/webeis.nsf/EIS01/C9BB4BF8DE65F27285257BEB001BA97C"
       ]
      },
      {
       "output_type": "stream",
       "stream": "stdout",
       "text": [
        "\n",
        "Getting # 143: http://yosemite.epa.gov/oeca/webeis.nsf/EIS01/E7637E25CFCE5AF285257BEB001BA989"
       ]
      },
      {
       "output_type": "stream",
       "stream": "stdout",
       "text": [
        "\n",
        "Getting # 144: http://yosemite.epa.gov/oeca/webeis.nsf/EIS01/72F9E163D916139385257BEB001BA978"
       ]
      },
      {
       "output_type": "stream",
       "stream": "stdout",
       "text": [
        "\n",
        "Getting # 145: http://yosemite.epa.gov/oeca/webeis.nsf/EIS01/C7A2D9F5FD96A7F685257BEB001BA923"
       ]
      },
      {
       "output_type": "stream",
       "stream": "stdout",
       "text": [
        "\n",
        "Getting # 146: http://yosemite.epa.gov/oeca/webeis.nsf/EIS01/42E0CC9FEE7EE87285257BEB001BA934"
       ]
      },
      {
       "output_type": "stream",
       "stream": "stdout",
       "text": [
        "\n",
        "Getting # 147: http://yosemite.epa.gov/oeca/webeis.nsf/EIS01/A29A4609B268D00985257BEB001BA95A"
       ]
      },
      {
       "output_type": "stream",
       "stream": "stdout",
       "text": [
        "\n",
        "Getting # 148: http://yosemite.epa.gov/oeca/webeis.nsf/EIS01/DDEA3D82D094716585257BEB001BA930"
       ]
      },
      {
       "output_type": "stream",
       "stream": "stdout",
       "text": [
        "\n",
        "Getting # 149: http://yosemite.epa.gov/oeca/webeis.nsf/EIS01/EE9C3D026F320F1E85257BEB001BA950"
       ]
      },
      {
       "output_type": "stream",
       "stream": "stdout",
       "text": [
        "\n",
        "Getting # 150: http://yosemite.epa.gov/oeca/webeis.nsf/EIS01/09B8E1AE4F7D562C85257BEB001BA914"
       ]
      },
      {
       "output_type": "stream",
       "stream": "stdout",
       "text": [
        "\n",
        "Getting # 151: http://yosemite.epa.gov/oeca/webeis.nsf/EIS01/147075A4A462C6B185257BEB001BA91A"
       ]
      },
      {
       "output_type": "stream",
       "stream": "stdout",
       "text": [
        "\n",
        "Getting # 152: http://yosemite.epa.gov/oeca/webeis.nsf/EIS01/8EF280F90C6B612385257BEB001BA910"
       ]
      },
      {
       "output_type": "stream",
       "stream": "stdout",
       "text": [
        "\n",
        "Getting # 153: http://yosemite.epa.gov/oeca/webeis.nsf/EIS01/B3A10016CD08C3FF85257BEB001BA917"
       ]
      },
      {
       "output_type": "stream",
       "stream": "stdout",
       "text": [
        "\n",
        "Getting # 154: http://yosemite.epa.gov/oeca/webeis.nsf/EIS01/E41CE3F8655DE00E85257BEB001BA91B"
       ]
      },
      {
       "output_type": "stream",
       "stream": "stdout",
       "text": [
        "\n",
        "Getting # 155: http://yosemite.epa.gov/oeca/webeis.nsf/EIS01/68A27F1796D4B67885257BEB001BA8E9"
       ]
      },
      {
       "output_type": "stream",
       "stream": "stdout",
       "text": [
        "\n",
        "Getting # 156: http://yosemite.epa.gov/oeca/webeis.nsf/EIS01/855640F03B60ADD785257BEB001BA8EC"
       ]
      },
      {
       "output_type": "stream",
       "stream": "stdout",
       "text": [
        "\n",
        "Getting # 157: http://yosemite.epa.gov/oeca/webeis.nsf/EIS01/89ABDF1D138F2C0885257BEB001BA8C9"
       ]
      },
      {
       "output_type": "stream",
       "stream": "stdout",
       "text": [
        "\n",
        "Getting # 158: http://yosemite.epa.gov/oeca/webeis.nsf/EIS01/B16F91D3EE74767085257BEB001BA8C5"
       ]
      },
      {
       "output_type": "stream",
       "stream": "stdout",
       "text": [
        "\n",
        "Getting # 159: http://yosemite.epa.gov/oeca/webeis.nsf/EIS01/CBDB8B71044AEA7885257BEB001BA8CD"
       ]
      },
      {
       "output_type": "stream",
       "stream": "stdout",
       "text": [
        "\n",
        "Getting # 160: http://yosemite.epa.gov/oeca/webeis.nsf/EIS01/EF25CFC10F7F982B85257BEB001BA8BE"
       ]
      },
      {
       "output_type": "stream",
       "stream": "stdout",
       "text": [
        "\n",
        "Getting # 161: http://yosemite.epa.gov/oeca/webeis.nsf/EIS01/38F3A2F8729B837C85257BEB001BA8AC"
       ]
      },
      {
       "output_type": "stream",
       "stream": "stdout",
       "text": [
        "\n",
        "Getting # 162: http://yosemite.epa.gov/oeca/webeis.nsf/EIS01/75A3D6724E53523685257BEB001BA890"
       ]
      },
      {
       "output_type": "stream",
       "stream": "stdout",
       "text": [
        "\n",
        "Getting # 163: http://yosemite.epa.gov/oeca/webeis.nsf/EIS01/86426AAF02FCE3A385257BEB001BA88D"
       ]
      },
      {
       "output_type": "stream",
       "stream": "stdout",
       "text": [
        "\n",
        "Getting # 164: http://yosemite.epa.gov/oeca/webeis.nsf/EIS01/AB6ED6164A9CA7C785257BEB001BA892"
       ]
      },
      {
       "output_type": "stream",
       "stream": "stdout",
       "text": [
        "\n",
        "Getting # 165: http://yosemite.epa.gov/oeca/webeis.nsf/EIS01/A90429C880BE90FF85257BEB001BA88C"
       ]
      },
      {
       "output_type": "stream",
       "stream": "stdout",
       "text": [
        "\n",
        "Getting # 166: http://yosemite.epa.gov/oeca/webeis.nsf/EIS01/84906B9C8769B15385257BEB001BA885"
       ]
      },
      {
       "output_type": "stream",
       "stream": "stdout",
       "text": [
        "\n",
        "Getting # 167: http://yosemite.epa.gov/oeca/webeis.nsf/EIS01/B4E8926A9318F24885257BEB001BA88A"
       ]
      },
      {
       "output_type": "stream",
       "stream": "stdout",
       "text": [
        "\n",
        "Getting # 168: http://yosemite.epa.gov/oeca/webeis.nsf/EIS01/C589056B0D9B6D2E85257BEB001BA86E"
       ]
      },
      {
       "output_type": "stream",
       "stream": "stdout",
       "text": [
        "\n",
        "Getting # 169: http://yosemite.epa.gov/oeca/webeis.nsf/EIS01/261BB60519F26C7A85257BEB001BA86C"
       ]
      },
      {
       "output_type": "stream",
       "stream": "stdout",
       "text": [
        "\n",
        "Getting # 170: http://yosemite.epa.gov/oeca/webeis.nsf/EIS01/5A891826BA416B6E85257BEB001BA85B"
       ]
      },
      {
       "output_type": "stream",
       "stream": "stdout",
       "text": [
        "\n",
        "Getting # 171: http://yosemite.epa.gov/oeca/webeis.nsf/EIS01/682C63029B9000E385257BEB001BA877"
       ]
      },
      {
       "output_type": "stream",
       "stream": "stdout",
       "text": [
        "\n",
        "Getting # 172: http://yosemite.epa.gov/oeca/webeis.nsf/EIS01/BC78E821B45F19C085257BEB001BA879"
       ]
      },
      {
       "output_type": "stream",
       "stream": "stdout",
       "text": [
        "\n",
        "Getting # 173: http://yosemite.epa.gov/oeca/webeis.nsf/EIS01/FA3D0FFCF57AD87085257BEB001BA841"
       ]
      },
      {
       "output_type": "stream",
       "stream": "stdout",
       "text": [
        "\n",
        "Getting # 174: http://yosemite.epa.gov/oeca/webeis.nsf/EIS01/3F488BC9DC51E53285257BEB001BA84F"
       ]
      },
      {
       "output_type": "stream",
       "stream": "stdout",
       "text": [
        "\n",
        "Getting # 175: http://yosemite.epa.gov/oeca/webeis.nsf/EIS01/845B1493794FCF4F85257BEB001BA82E"
       ]
      },
      {
       "output_type": "stream",
       "stream": "stdout",
       "text": [
        "\n",
        "Getting # 176: http://yosemite.epa.gov/oeca/webeis.nsf/EIS01/2695642DB3DD1E3185257BEB001BA833"
       ]
      },
      {
       "output_type": "stream",
       "stream": "stdout",
       "text": [
        "\n",
        "Getting # 177: http://yosemite.epa.gov/oeca/webeis.nsf/EIS01/C47A6444D12106F385257BEB001BA7E9"
       ]
      },
      {
       "output_type": "stream",
       "stream": "stdout",
       "text": [
        "\n",
        "Getting # 178: http://yosemite.epa.gov/oeca/webeis.nsf/EIS01/523902F09A0B4BB985257BEB001BA7E6"
       ]
      },
      {
       "output_type": "stream",
       "stream": "stdout",
       "text": [
        "\n",
        "Getting # 179: http://yosemite.epa.gov/oeca/webeis.nsf/EIS01/CB05F91D67EF116D85257BEB001BA829"
       ]
      },
      {
       "output_type": "stream",
       "stream": "stdout",
       "text": [
        "\n",
        "Getting # 180: http://yosemite.epa.gov/oeca/webeis.nsf/EIS01/D8E22429E98AECA185257BEB001BA7D6"
       ]
      },
      {
       "output_type": "stream",
       "stream": "stdout",
       "text": [
        "\n",
        "Getting # 181: http://yosemite.epa.gov/oeca/webeis.nsf/EIS01/208102BF8FD1863685257BEB001BA7E0"
       ]
      },
      {
       "output_type": "stream",
       "stream": "stdout",
       "text": [
        "\n",
        "Getting # 182: http://yosemite.epa.gov/oeca/webeis.nsf/EIS01/6549BEBB0CA140AF85257BEB001BA7DB"
       ]
      },
      {
       "output_type": "stream",
       "stream": "stdout",
       "text": [
        "\n",
        "Getting # 183: http://yosemite.epa.gov/oeca/webeis.nsf/EIS01/E9EC9658257CD3AB85257BEB001BA7D3"
       ]
      },
      {
       "output_type": "stream",
       "stream": "stdout",
       "text": [
        "\n",
        "Getting # 184: http://yosemite.epa.gov/oeca/webeis.nsf/EIS01/203EDAAC9CAB178485257BEB001BA7D0"
       ]
      },
      {
       "output_type": "stream",
       "stream": "stdout",
       "text": [
        "\n",
        "Getting # 185: http://yosemite.epa.gov/oeca/webeis.nsf/EIS01/E33B9B71FA583A4185257BEB001BA7D2"
       ]
      },
      {
       "output_type": "stream",
       "stream": "stdout",
       "text": [
        "\n",
        "Getting # 186: http://yosemite.epa.gov/oeca/webeis.nsf/EIS01/9914DE786F752AF585257BEB001BA798"
       ]
      },
      {
       "output_type": "stream",
       "stream": "stdout",
       "text": [
        "\n",
        "Getting # 187: http://yosemite.epa.gov/oeca/webeis.nsf/EIS01/0F8406D48E0FA54B85257BEB001BA772"
       ]
      },
      {
       "output_type": "stream",
       "stream": "stdout",
       "text": [
        "\n",
        "Getting # 188: http://yosemite.epa.gov/oeca/webeis.nsf/EIS01/01086AC5811687E285257BEB001BA78A"
       ]
      },
      {
       "output_type": "stream",
       "stream": "stdout",
       "text": [
        "\n",
        "Getting # 189: http://yosemite.epa.gov/oeca/webeis.nsf/EIS01/9F065386C411BE4B85257BEB001BA79B"
       ]
      },
      {
       "output_type": "stream",
       "stream": "stdout",
       "text": [
        "\n",
        "Getting # 190: http://yosemite.epa.gov/oeca/webeis.nsf/EIS01/17579497456B6BC985257BEB001BA77D"
       ]
      },
      {
       "output_type": "stream",
       "stream": "stdout",
       "text": [
        "\n",
        "Getting # 191: http://yosemite.epa.gov/oeca/webeis.nsf/EIS01/9E9F961AFD84E0D085257BEB001BA793"
       ]
      },
      {
       "output_type": "stream",
       "stream": "stdout",
       "text": [
        "\n",
        "Getting # 192: http://yosemite.epa.gov/oeca/webeis.nsf/EIS01/43FBFF64811F33D085257BEB001BA77F"
       ]
      },
      {
       "output_type": "stream",
       "stream": "stdout",
       "text": [
        "\n",
        "Getting # 193: http://yosemite.epa.gov/oeca/webeis.nsf/EIS01/AE34424BBC66AC2185257BEB001BA760"
       ]
      },
      {
       "output_type": "stream",
       "stream": "stdout",
       "text": [
        "\n",
        "Getting # 194: http://yosemite.epa.gov/oeca/webeis.nsf/EIS01/5F99A770D65B92C385257BEB001BA771"
       ]
      },
      {
       "output_type": "stream",
       "stream": "stdout",
       "text": [
        "\n",
        "Getting # 195: http://yosemite.epa.gov/oeca/webeis.nsf/EIS01/30C46973B8CBBA8F85257BEB001BA75D"
       ]
      },
      {
       "output_type": "stream",
       "stream": "stdout",
       "text": [
        "\n",
        "Getting # 196: http://yosemite.epa.gov/oeca/webeis.nsf/EIS01/5361D4EFAEC67CF685257BEB001BA76C"
       ]
      },
      {
       "output_type": "stream",
       "stream": "stdout",
       "text": [
        "\n",
        "Getting # 197: http://yosemite.epa.gov/oeca/webeis.nsf/EIS01/FE9132B81B5A0B6085257BEB001BA75B"
       ]
      },
      {
       "output_type": "stream",
       "stream": "stdout",
       "text": [
        "\n",
        "Getting # 198: http://yosemite.epa.gov/oeca/webeis.nsf/EIS01/A32E594B49376C4385257BEB001BA758"
       ]
      },
      {
       "output_type": "stream",
       "stream": "stdout",
       "text": [
        "\n",
        "Getting # 199: http://yosemite.epa.gov/oeca/webeis.nsf/EIS01/3F7B947C7BD1263F85257BEB001BA756"
       ]
      },
      {
       "output_type": "stream",
       "stream": "stdout",
       "text": [
        "\n",
        "Getting # 200: http://yosemite.epa.gov/oeca/webeis.nsf/EIS01/0363BB124D26D80185257BEB001BA737"
       ]
      },
      {
       "output_type": "stream",
       "stream": "stdout",
       "text": [
        "\n",
        "Getting # 201: http://yosemite.epa.gov/oeca/webeis.nsf/EIS01/7FAC139C6CD9FA8185257BEB001BA72F"
       ]
      },
      {
       "output_type": "stream",
       "stream": "stdout",
       "text": [
        "\n",
        "Getting # 202: http://yosemite.epa.gov/oeca/webeis.nsf/EIS01/88AF0AA44A57485885257BEB001BA732"
       ]
      },
      {
       "output_type": "stream",
       "stream": "stdout",
       "text": [
        "\n",
        "Getting # 203: http://yosemite.epa.gov/oeca/webeis.nsf/EIS01/D65D2DC0045C50FF85257BEB001BA74D"
       ]
      },
      {
       "output_type": "stream",
       "stream": "stdout",
       "text": [
        "\n",
        "Getting # 204: http://yosemite.epa.gov/oeca/webeis.nsf/EIS01/D5D3C6B2F695493685257BEB001BA71B"
       ]
      },
      {
       "output_type": "stream",
       "stream": "stdout",
       "text": [
        "\n",
        "Getting # 205: http://yosemite.epa.gov/oeca/webeis.nsf/EIS01/E86E527B3E90B58885257BEB001BA718"
       ]
      },
      {
       "output_type": "stream",
       "stream": "stdout",
       "text": [
        "\n",
        "Getting # 206: http://yosemite.epa.gov/oeca/webeis.nsf/EIS01/984AD9EBB103247B85257BEB001BA705"
       ]
      },
      {
       "output_type": "stream",
       "stream": "stdout",
       "text": [
        "\n",
        "Getting # 207: http://yosemite.epa.gov/oeca/webeis.nsf/EIS01/1A05FC94EFE51F6D85257BEB001BA700"
       ]
      },
      {
       "output_type": "stream",
       "stream": "stdout",
       "text": [
        "\n",
        "Getting # 208: http://yosemite.epa.gov/oeca/webeis.nsf/EIS01/DDBF541B28DBC0F585257BEB001BA703"
       ]
      },
      {
       "output_type": "stream",
       "stream": "stdout",
       "text": [
        "\n",
        "Getting # 209: http://yosemite.epa.gov/oeca/webeis.nsf/EIS01/F6390575636B33A285257BEB001BA6F8"
       ]
      },
      {
       "output_type": "stream",
       "stream": "stdout",
       "text": [
        "\n",
        "Getting # 210: http://yosemite.epa.gov/oeca/webeis.nsf/EIS01/1D416C6C0B45951E85257BEB001BA6F5"
       ]
      },
      {
       "output_type": "stream",
       "stream": "stdout",
       "text": [
        "\n",
        "Getting # 211: http://yosemite.epa.gov/oeca/webeis.nsf/EIS01/DAA31E61C7EBCD7685257BEB001BA6E9"
       ]
      },
      {
       "output_type": "stream",
       "stream": "stdout",
       "text": [
        "\n",
        "Getting # 212: http://yosemite.epa.gov/oeca/webeis.nsf/EIS01/D7DE3C3DC3DC185785257BEB001BA6F7"
       ]
      },
      {
       "output_type": "stream",
       "stream": "stdout",
       "text": [
        "\n",
        "Getting # 213: http://yosemite.epa.gov/oeca/webeis.nsf/EIS01/5972BB2D7CF1AD7785257BEB001BA6CB"
       ]
      },
      {
       "output_type": "stream",
       "stream": "stdout",
       "text": [
        "\n",
        "Getting # 214: http://yosemite.epa.gov/oeca/webeis.nsf/EIS01/9D9A98C626FF92A285257BEB001BA6C6"
       ]
      },
      {
       "output_type": "stream",
       "stream": "stdout",
       "text": [
        "\n",
        "Getting # 215: http://yosemite.epa.gov/oeca/webeis.nsf/EIS01/FA08C4CD377DBF1B85257BEB001BA6BC"
       ]
      },
      {
       "output_type": "stream",
       "stream": "stdout",
       "text": [
        "\n",
        "Getting # 216: http://yosemite.epa.gov/oeca/webeis.nsf/EIS01/01DF625A51EEF64685257BEB001BA6C2"
       ]
      },
      {
       "output_type": "stream",
       "stream": "stdout",
       "text": [
        "\n",
        "Getting # 217: http://yosemite.epa.gov/oeca/webeis.nsf/EIS01/77B61C277325D1ED85257BEB001BA6B2"
       ]
      },
      {
       "output_type": "stream",
       "stream": "stdout",
       "text": [
        "\n",
        "Getting # 218: http://yosemite.epa.gov/oeca/webeis.nsf/EIS01/CD54268AF5F72A2385257BEB001BA6B1"
       ]
      },
      {
       "output_type": "stream",
       "stream": "stdout",
       "text": [
        "\n",
        "Getting # 219: http://yosemite.epa.gov/oeca/webeis.nsf/EIS01/764702A7F6E1EF5485257BEB001BA699"
       ]
      },
      {
       "output_type": "stream",
       "stream": "stdout",
       "text": [
        "\n",
        "Getting # 220: http://yosemite.epa.gov/oeca/webeis.nsf/EIS01/98FBC1FB1C103D5185257BEB001BA6A1"
       ]
      },
      {
       "output_type": "stream",
       "stream": "stdout",
       "text": [
        "\n",
        "Getting # 221: http://yosemite.epa.gov/oeca/webeis.nsf/EIS01/40DEEA661DC8295185257BEB001BA68D"
       ]
      },
      {
       "output_type": "stream",
       "stream": "stdout",
       "text": [
        "\n",
        "Getting # 222: http://yosemite.epa.gov/oeca/webeis.nsf/EIS01/B4378A6E4C08288085257BEB001BA667"
       ]
      },
      {
       "output_type": "stream",
       "stream": "stdout",
       "text": [
        "\n",
        "Getting # 223: http://yosemite.epa.gov/oeca/webeis.nsf/EIS01/2D54CC3BAAB31BD785257BEB001BA682"
       ]
      },
      {
       "output_type": "stream",
       "stream": "stdout",
       "text": [
        "\n",
        "Getting # 224: http://yosemite.epa.gov/oeca/webeis.nsf/EIS01/51A6EDB89180691B85257BEB001BA683"
       ]
      },
      {
       "output_type": "stream",
       "stream": "stdout",
       "text": [
        "\n",
        "Getting # 225: http://yosemite.epa.gov/oeca/webeis.nsf/EIS01/CE16C2AF8CDACEE185257BEB001BA688"
       ]
      },
      {
       "output_type": "stream",
       "stream": "stdout",
       "text": [
        "\n",
        "Getting # 226: http://yosemite.epa.gov/oeca/webeis.nsf/EIS01/19B8A8B1AB82C07585257BEB001BA650"
       ]
      },
      {
       "output_type": "stream",
       "stream": "stdout",
       "text": [
        "\n",
        "Getting # 227: http://yosemite.epa.gov/oeca/webeis.nsf/EIS01/A5BFF1370CFFB43585257BEB001BA653"
       ]
      },
      {
       "output_type": "stream",
       "stream": "stdout",
       "text": [
        "\n",
        "Getting # 228: http://yosemite.epa.gov/oeca/webeis.nsf/EIS01/AEB550AE3F8A8F0F85257BEB001BA656"
       ]
      },
      {
       "output_type": "stream",
       "stream": "stdout",
       "text": [
        "\n",
        "Getting # 229: http://yosemite.epa.gov/oeca/webeis.nsf/EIS01/740940592104F25085257BEB001BA63F"
       ]
      },
      {
       "output_type": "stream",
       "stream": "stdout",
       "text": [
        "\n",
        "Getting # 230: http://yosemite.epa.gov/oeca/webeis.nsf/EIS01/39AC80A57FA80B0E85257BEB001BA646"
       ]
      },
      {
       "output_type": "stream",
       "stream": "stdout",
       "text": [
        "\n",
        "Getting # 231: http://yosemite.epa.gov/oeca/webeis.nsf/EIS01/D2D9729DE84F97B085257BEB001BA649"
       ]
      },
      {
       "output_type": "stream",
       "stream": "stdout",
       "text": [
        "\n",
        "Getting # 232: http://yosemite.epa.gov/oeca/webeis.nsf/EIS01/5F3970E1AA779D0C85257BEB001BA64E"
       ]
      },
      {
       "output_type": "stream",
       "stream": "stdout",
       "text": [
        "\n",
        "Getting # 233: http://yosemite.epa.gov/oeca/webeis.nsf/EIS01/F3333D0ECDA1FAAD85257BEB001BA637"
       ]
      },
      {
       "output_type": "stream",
       "stream": "stdout",
       "text": [
        "\n",
        "Getting # 234: http://yosemite.epa.gov/oeca/webeis.nsf/EIS01/DA08675EA55C109885257BEB001BA622"
       ]
      },
      {
       "output_type": "stream",
       "stream": "stdout",
       "text": [
        "\n",
        "Getting # 235: http://yosemite.epa.gov/oeca/webeis.nsf/EIS01/1E276023FBF5194D85257BEB001BA610"
       ]
      },
      {
       "output_type": "stream",
       "stream": "stdout",
       "text": [
        "\n",
        "Getting # 236: http://yosemite.epa.gov/oeca/webeis.nsf/EIS01/246A50B54304B4D985257BEB001BA61B"
       ]
      },
      {
       "output_type": "stream",
       "stream": "stdout",
       "text": [
        "\n",
        "Getting # 237: http://yosemite.epa.gov/oeca/webeis.nsf/EIS01/8C36FF4DDFE823C785257BEB001BA617"
       ]
      },
      {
       "output_type": "stream",
       "stream": "stdout",
       "text": [
        "\n",
        "Getting # 238: http://yosemite.epa.gov/oeca/webeis.nsf/EIS01/E9CE634A043CD3DF85257BEB001BA602"
       ]
      },
      {
       "output_type": "stream",
       "stream": "stdout",
       "text": [
        "\n",
        "Getting # 239: http://yosemite.epa.gov/oeca/webeis.nsf/EIS01/EB5F23811E1C023785257BEB001BA5FE"
       ]
      },
      {
       "output_type": "stream",
       "stream": "stdout",
       "text": [
        "\n",
        "Getting # 240: http://yosemite.epa.gov/oeca/webeis.nsf/EIS01/5241ACCC3DB7D07185257BEB001BA5ED"
       ]
      },
      {
       "output_type": "stream",
       "stream": "stdout",
       "text": [
        "\n",
        "Getting # 241: http://yosemite.epa.gov/oeca/webeis.nsf/EIS01/C3D8C0D9FF4C3A3685257BEB001BA5E4"
       ]
      },
      {
       "output_type": "stream",
       "stream": "stdout",
       "text": [
        "\n",
        "Getting # 242: http://yosemite.epa.gov/oeca/webeis.nsf/EIS01/F5F2129E3B96314785257BEB001BA5FA"
       ]
      },
      {
       "output_type": "stream",
       "stream": "stdout",
       "text": [
        "\n",
        "Getting # 243: http://yosemite.epa.gov/oeca/webeis.nsf/EIS01/0EB43AB823A672E085257BEB001BA5D9"
       ]
      },
      {
       "output_type": "stream",
       "stream": "stdout",
       "text": [
        "\n",
        "Getting # 244: http://yosemite.epa.gov/oeca/webeis.nsf/EIS01/0C4C7ED67D4E579885257BEB001BA5DF"
       ]
      },
      {
       "output_type": "stream",
       "stream": "stdout",
       "text": [
        "\n",
        "Getting # 245: http://yosemite.epa.gov/oeca/webeis.nsf/EIS01/7EAB75A6186C8C6F85257BEB001BA5D5"
       ]
      },
      {
       "output_type": "stream",
       "stream": "stdout",
       "text": [
        "\n",
        "Getting # 246: http://yosemite.epa.gov/oeca/webeis.nsf/EIS01/325B1A4F735208CA85257BEB001BA5D4"
       ]
      },
      {
       "output_type": "stream",
       "stream": "stdout",
       "text": [
        "\n",
        "Getting # 247: http://yosemite.epa.gov/oeca/webeis.nsf/EIS01/7A9594DF3F76041385257BEB001BA5D1"
       ]
      },
      {
       "output_type": "stream",
       "stream": "stdout",
       "text": [
        "\n",
        "Getting # 248: http://yosemite.epa.gov/oeca/webeis.nsf/EIS01/BFB0944C6264213685257BEB001BA5CB"
       ]
      },
      {
       "output_type": "stream",
       "stream": "stdout",
       "text": [
        "\n",
        "Getting # 249: http://yosemite.epa.gov/oeca/webeis.nsf/EIS01/EDD106A696C7886385257BEB001BA5C6"
       ]
      },
      {
       "output_type": "stream",
       "stream": "stdout",
       "text": [
        "\n",
        "Getting # 250: http://yosemite.epa.gov/oeca/webeis.nsf/EIS01/01133A8D58A2E80685257BEB001BA59F"
       ]
      },
      {
       "output_type": "stream",
       "stream": "stdout",
       "text": [
        "\n",
        "Getting # 251: http://yosemite.epa.gov/oeca/webeis.nsf/EIS01/3996F3C0AD4FAB3485257BEB001BA593"
       ]
      },
      {
       "output_type": "stream",
       "stream": "stdout",
       "text": [
        "\n",
        "Getting # 252: http://yosemite.epa.gov/oeca/webeis.nsf/EIS01/823C19C36F5A202585257BEB001BA59C"
       ]
      },
      {
       "output_type": "stream",
       "stream": "stdout",
       "text": [
        "\n",
        "Getting # 253: http://yosemite.epa.gov/oeca/webeis.nsf/EIS01/F5C593D88619323285257BEB001BA591"
       ]
      },
      {
       "output_type": "stream",
       "stream": "stdout",
       "text": [
        "\n",
        "Getting # 254: http://yosemite.epa.gov/oeca/webeis.nsf/EIS01/E8A598FB4485C01385257BEB001BA56F"
       ]
      },
      {
       "output_type": "stream",
       "stream": "stdout",
       "text": [
        "\n",
        "Getting # 255: http://yosemite.epa.gov/oeca/webeis.nsf/EIS01/8BE6758010DEF32085257BEB001BA585"
       ]
      },
      {
       "output_type": "stream",
       "stream": "stdout",
       "text": [
        "\n",
        "Getting # 256: http://yosemite.epa.gov/oeca/webeis.nsf/EIS01/46C77D9EEE6D665F85257BEB001BA554"
       ]
      },
      {
       "output_type": "stream",
       "stream": "stdout",
       "text": [
        "\n",
        "Getting # 257: http://yosemite.epa.gov/oeca/webeis.nsf/EIS01/AB57CE9F4F906D3085257BEB001BA551"
       ]
      },
      {
       "output_type": "stream",
       "stream": "stdout",
       "text": [
        "\n",
        "Getting # 258: http://yosemite.epa.gov/oeca/webeis.nsf/EIS01/19164166EF21F5D385257BEB001BA543"
       ]
      },
      {
       "output_type": "stream",
       "stream": "stdout",
       "text": [
        "\n",
        "Getting # 259: http://yosemite.epa.gov/oeca/webeis.nsf/EIS01/8759F23F05FBE10385257BEB001BA532"
       ]
      },
      {
       "output_type": "stream",
       "stream": "stdout",
       "text": [
        "\n",
        "Getting # 260: http://yosemite.epa.gov/oeca/webeis.nsf/EIS01/A9014A85A61E731885257BEB001BA545"
       ]
      },
      {
       "output_type": "stream",
       "stream": "stdout",
       "text": [
        "\n",
        "Getting # 261: http://yosemite.epa.gov/oeca/webeis.nsf/EIS01/01827059D613B19385257BEB001BA509"
       ]
      },
      {
       "output_type": "stream",
       "stream": "stdout",
       "text": [
        "\n",
        "Getting # 262: http://yosemite.epa.gov/oeca/webeis.nsf/EIS01/28BD6E10B7D730D185257BEB001BA50B"
       ]
      },
      {
       "output_type": "stream",
       "stream": "stdout",
       "text": [
        "\n",
        "Getting # 263: http://yosemite.epa.gov/oeca/webeis.nsf/EIS01/5693354D597101B985257BEB001BA52F"
       ]
      },
      {
       "output_type": "stream",
       "stream": "stdout",
       "text": [
        "\n",
        "Getting # 264: http://yosemite.epa.gov/oeca/webeis.nsf/EIS01/63BA807454EC4BF385257BEB001BA513"
       ]
      },
      {
       "output_type": "stream",
       "stream": "stdout",
       "text": [
        "\n",
        "Getting # 265: http://yosemite.epa.gov/oeca/webeis.nsf/EIS01/F8AA422E178F232585257BEB001BA514"
       ]
      },
      {
       "output_type": "stream",
       "stream": "stdout",
       "text": [
        "\n",
        "Getting # 266: http://yosemite.epa.gov/oeca/webeis.nsf/EIS01/C9A292E7C26A40E885257BEB001BA508"
       ]
      },
      {
       "output_type": "stream",
       "stream": "stdout",
       "text": [
        "\n",
        "Getting # 267: http://yosemite.epa.gov/oeca/webeis.nsf/EIS01/933ACBA86E37258385257BEB001BA506"
       ]
      },
      {
       "output_type": "stream",
       "stream": "stdout",
       "text": [
        "\n",
        "Getting # 268: http://yosemite.epa.gov/oeca/webeis.nsf/EIS01/AF249C1E1C991A7185257BEB001BA500"
       ]
      },
      {
       "output_type": "stream",
       "stream": "stdout",
       "text": [
        "\n",
        "Getting # 269: http://yosemite.epa.gov/oeca/webeis.nsf/EIS01/86D6681284E521C485257BEB001BA4DA"
       ]
      },
      {
       "output_type": "stream",
       "stream": "stdout",
       "text": [
        "\n",
        "Getting # 270: http://yosemite.epa.gov/oeca/webeis.nsf/EIS01/8AF75659B064615E85257BEB001BA4F8"
       ]
      },
      {
       "output_type": "stream",
       "stream": "stdout",
       "text": [
        "\n",
        "Getting # 271: http://yosemite.epa.gov/oeca/webeis.nsf/EIS01/CDD6AD0851E1199185257BEB001BA4E7"
       ]
      },
      {
       "output_type": "stream",
       "stream": "stdout",
       "text": [
        "\n",
        "Getting # 272: http://yosemite.epa.gov/oeca/webeis.nsf/EIS01/FC524820582BC06085257BEB001BA4E1"
       ]
      },
      {
       "output_type": "stream",
       "stream": "stdout",
       "text": [
        "\n",
        "Getting # 273: http://yosemite.epa.gov/oeca/webeis.nsf/EIS01/F8456F0921F6DD1785257BEB001BA49E"
       ]
      },
      {
       "output_type": "stream",
       "stream": "stdout",
       "text": [
        "\n",
        "Getting # 274: http://yosemite.epa.gov/oeca/webeis.nsf/EIS01/E21A7961C4559A4285257BEB001BA4CB"
       ]
      },
      {
       "output_type": "stream",
       "stream": "stdout",
       "text": [
        "\n",
        "Getting # 275: http://yosemite.epa.gov/oeca/webeis.nsf/EIS01/7A7DE40BCC045B0D85257BEB001BA4D1"
       ]
      },
      {
       "output_type": "stream",
       "stream": "stdout",
       "text": [
        "\n",
        "Getting # 276: http://yosemite.epa.gov/oeca/webeis.nsf/EIS01/09B623E00DF90B1385257BEB001BA4B2"
       ]
      },
      {
       "output_type": "stream",
       "stream": "stdout",
       "text": [
        "\n",
        "Getting # 277: http://yosemite.epa.gov/oeca/webeis.nsf/EIS01/0B8EC97F380171A385257BEB001BA4C4"
       ]
      },
      {
       "output_type": "stream",
       "stream": "stdout",
       "text": [
        "\n",
        "Getting # 278: http://yosemite.epa.gov/oeca/webeis.nsf/EIS01/1EE7E8CC3A3C8D2B85257BEB001BA49D"
       ]
      },
      {
       "output_type": "stream",
       "stream": "stdout",
       "text": [
        "\n",
        "Getting # 279: http://yosemite.epa.gov/oeca/webeis.nsf/EIS01/59466EA1244BAF9685257BEB001BA4D6"
       ]
      },
      {
       "output_type": "stream",
       "stream": "stdout",
       "text": [
        "\n",
        "Getting # 280: http://yosemite.epa.gov/oeca/webeis.nsf/EIS01/796D6379CA60A6FA85257BEB001BA4CF"
       ]
      },
      {
       "output_type": "stream",
       "stream": "stdout",
       "text": [
        "\n",
        "Getting # 281: http://yosemite.epa.gov/oeca/webeis.nsf/EIS01/82EC992FF0FBE77185257BEB001BA49C"
       ]
      },
      {
       "output_type": "stream",
       "stream": "stdout",
       "text": [
        "\n",
        "Getting # 282: http://yosemite.epa.gov/oeca/webeis.nsf/EIS01/9631F528B3FC36F785257BEB001BA4B3"
       ]
      },
      {
       "output_type": "stream",
       "stream": "stdout",
       "text": [
        "\n",
        "Getting # 283: http://yosemite.epa.gov/oeca/webeis.nsf/EIS01/812F15189A7331C985257BEB001BA472"
       ]
      },
      {
       "output_type": "stream",
       "stream": "stdout",
       "text": [
        "\n",
        "Getting # 284: http://yosemite.epa.gov/oeca/webeis.nsf/EIS01/E1B0B5FF4640458885257BEB001BA492"
       ]
      },
      {
       "output_type": "stream",
       "stream": "stdout",
       "text": [
        "\n",
        "Getting # 285: http://yosemite.epa.gov/oeca/webeis.nsf/EIS01/066AD3C63D030D9585257BEB001BA491"
       ]
      },
      {
       "output_type": "stream",
       "stream": "stdout",
       "text": [
        "\n",
        "Getting # 286: http://yosemite.epa.gov/oeca/webeis.nsf/EIS01/248F5EB9BF7415C485257BEB001BA48F"
       ]
      },
      {
       "output_type": "stream",
       "stream": "stdout",
       "text": [
        "\n",
        "Getting # 287: http://yosemite.epa.gov/oeca/webeis.nsf/EIS01/2E4BABCA932C246F85257BEB001BA481"
       ]
      },
      {
       "output_type": "stream",
       "stream": "stdout",
       "text": [
        "\n",
        "Getting # 288: http://yosemite.epa.gov/oeca/webeis.nsf/EIS01/7C7886B603F1D0B085257BEB001BA47B"
       ]
      },
      {
       "output_type": "stream",
       "stream": "stdout",
       "text": [
        "\n",
        "Getting # 289: http://yosemite.epa.gov/oeca/webeis.nsf/EIS01/7B8A3F7FACD7D64285257BEB001BA46B"
       ]
      },
      {
       "output_type": "stream",
       "stream": "stdout",
       "text": [
        "\n",
        "Getting # 290: http://yosemite.epa.gov/oeca/webeis.nsf/EIS01/AE21D90843D29B5685257BEB001BA46E"
       ]
      },
      {
       "output_type": "stream",
       "stream": "stdout",
       "text": [
        "\n",
        "Getting # 291: http://yosemite.epa.gov/oeca/webeis.nsf/EIS01/CCDEAAD9402202B885257BEB001BA478"
       ]
      },
      {
       "output_type": "stream",
       "stream": "stdout",
       "text": [
        "\n",
        "Getting # 292: http://yosemite.epa.gov/oeca/webeis.nsf/EIS01/B6ABC2915D9E5D4285257BEB001BA451"
       ]
      },
      {
       "output_type": "stream",
       "stream": "stdout",
       "text": [
        "\n",
        "Getting # 293: http://yosemite.epa.gov/oeca/webeis.nsf/EIS01/A0A482E15A8DEE2F85257BEB001BA432"
       ]
      },
      {
       "output_type": "stream",
       "stream": "stdout",
       "text": [
        "\n",
        "Getting # 294: http://yosemite.epa.gov/oeca/webeis.nsf/EIS01/7CE3ABB48866CDDE85257BEB001BA441"
       ]
      },
      {
       "output_type": "stream",
       "stream": "stdout",
       "text": [
        "\n",
        "Getting # 295: http://yosemite.epa.gov/oeca/webeis.nsf/EIS01/7C6373AC3877091985257BEB001BA443"
       ]
      },
      {
       "output_type": "stream",
       "stream": "stdout",
       "text": [
        "\n",
        "Getting # 296: http://yosemite.epa.gov/oeca/webeis.nsf/EIS01/CA4D5497435FAA5185257BEB001BA43B"
       ]
      },
      {
       "output_type": "stream",
       "stream": "stdout",
       "text": [
        "\n",
        "Getting # 297: http://yosemite.epa.gov/oeca/webeis.nsf/EIS01/1AD33F93C2BE2B8685257BEB001BA417"
       ]
      },
      {
       "output_type": "stream",
       "stream": "stdout",
       "text": [
        "\n",
        "Getting # 298: http://yosemite.epa.gov/oeca/webeis.nsf/EIS01/AA7B580CCA0BE0CE85257BEB001BA423"
       ]
      },
      {
       "output_type": "stream",
       "stream": "stdout",
       "text": [
        "\n",
        "Getting # 299: http://yosemite.epa.gov/oeca/webeis.nsf/EIS01/8339171C3811401E85257BEB001BA3DD"
       ]
      },
      {
       "output_type": "stream",
       "stream": "stdout",
       "text": [
        "\n",
        "Getting # 300: http://yosemite.epa.gov/oeca/webeis.nsf/EIS01/733EFE73816893F985257BEB001BA403"
       ]
      },
      {
       "output_type": "stream",
       "stream": "stdout",
       "text": [
        "\n",
        "Getting # 301: http://yosemite.epa.gov/oeca/webeis.nsf/EIS01/80AD4F7F9D7CD8C285257BEB001BA3D1"
       ]
      },
      {
       "output_type": "stream",
       "stream": "stdout",
       "text": [
        "\n",
        "Getting # 302: http://yosemite.epa.gov/oeca/webeis.nsf/EIS01/074E96C753E6092B85257BEB001BA3D4"
       ]
      },
      {
       "output_type": "stream",
       "stream": "stdout",
       "text": [
        "\n",
        "Getting # 303: http://yosemite.epa.gov/oeca/webeis.nsf/EIS01/0EF6DF926911DF3B85257BEB001BA3BF"
       ]
      },
      {
       "output_type": "stream",
       "stream": "stdout",
       "text": [
        "\n",
        "Getting # 304: http://yosemite.epa.gov/oeca/webeis.nsf/EIS01/386B3F78DACE6DCB85257BEB001BA3C7"
       ]
      },
      {
       "output_type": "stream",
       "stream": "stdout",
       "text": [
        "\n",
        "Getting # 305: http://yosemite.epa.gov/oeca/webeis.nsf/EIS01/46CE0198E2A9FE4485257BEB001BA3BC"
       ]
      },
      {
       "output_type": "stream",
       "stream": "stdout",
       "text": [
        "\n",
        "Getting # 306: http://yosemite.epa.gov/oeca/webeis.nsf/EIS01/7B142FD47E005C7985257BEB001BA3C9"
       ]
      },
      {
       "output_type": "stream",
       "stream": "stdout",
       "text": [
        "\n",
        "Getting # 307: http://yosemite.epa.gov/oeca/webeis.nsf/EIS01/F0BBBD8428170B6E85257BEB001BA3BB"
       ]
      },
      {
       "output_type": "stream",
       "stream": "stdout",
       "text": [
        "\n",
        "Getting # 308: http://yosemite.epa.gov/oeca/webeis.nsf/EIS01/126FEC1E27F48D9F85257BEB001BA3B6"
       ]
      },
      {
       "output_type": "stream",
       "stream": "stdout",
       "text": [
        "\n",
        "Getting # 309: http://yosemite.epa.gov/oeca/webeis.nsf/EIS01/58DC349E22993A0B85257BEB001BA3B0"
       ]
      },
      {
       "output_type": "stream",
       "stream": "stdout",
       "text": [
        "\n",
        "Getting # 310: http://yosemite.epa.gov/oeca/webeis.nsf/EIS01/6BB441399F9ABC0C85257BEB001BA38A"
       ]
      },
      {
       "output_type": "stream",
       "stream": "stdout",
       "text": [
        "\n",
        "Getting # 311: http://yosemite.epa.gov/oeca/webeis.nsf/EIS01/8DD5D877527BEEF985257BEB001BA3AE"
       ]
      },
      {
       "output_type": "stream",
       "stream": "stdout",
       "text": [
        "\n",
        "Getting # 312: http://yosemite.epa.gov/oeca/webeis.nsf/EIS01/DF6ECB451F5BE4D885257BEB001BA3A3"
       ]
      },
      {
       "output_type": "stream",
       "stream": "stdout",
       "text": [
        "\n",
        "Getting # 313: http://yosemite.epa.gov/oeca/webeis.nsf/EIS01/E762EA11DDC3E0C285257BEB001BA39A"
       ]
      },
      {
       "output_type": "stream",
       "stream": "stdout",
       "text": [
        "\n",
        "Getting # 314: http://yosemite.epa.gov/oeca/webeis.nsf/EIS01/30D051DF382D28DE85257BEB001BA381"
       ]
      },
      {
       "output_type": "stream",
       "stream": "stdout",
       "text": [
        "\n",
        "Getting # 315: http://yosemite.epa.gov/oeca/webeis.nsf/EIS01/004ECE82286CB08B85257BEB001BA35D"
       ]
      },
      {
       "output_type": "stream",
       "stream": "stdout",
       "text": [
        "\n",
        "Getting # 316: http://yosemite.epa.gov/oeca/webeis.nsf/EIS01/BD647FE2EAE678A385257BEB001BA363"
       ]
      },
      {
       "output_type": "stream",
       "stream": "stdout",
       "text": [
        "\n",
        "Getting # 317: http://yosemite.epa.gov/oeca/webeis.nsf/EIS01/C92F8EB97EDB5CE685257BEB001BA379"
       ]
      },
      {
       "output_type": "stream",
       "stream": "stdout",
       "text": [
        "\n",
        "Getting # 318: http://yosemite.epa.gov/oeca/webeis.nsf/EIS01/FDCD5446613536FC85257BEB001BA371"
       ]
      },
      {
       "output_type": "stream",
       "stream": "stdout",
       "text": [
        "\n",
        "Getting # 319: http://yosemite.epa.gov/oeca/webeis.nsf/EIS01/8F8CAFCDD5EFB72485257BEB001BA349"
       ]
      },
      {
       "output_type": "stream",
       "stream": "stdout",
       "text": [
        "\n",
        "Getting # 320: http://yosemite.epa.gov/oeca/webeis.nsf/EIS01/080B370D6A0AA1DF85257BEB001BA344"
       ]
      },
      {
       "output_type": "stream",
       "stream": "stdout",
       "text": [
        "\n",
        "Getting # 321: http://yosemite.epa.gov/oeca/webeis.nsf/EIS01/74D3344D62A966F585257BEB001BA357"
       ]
      },
      {
       "output_type": "stream",
       "stream": "stdout",
       "text": [
        "\n",
        "Getting # 322: http://yosemite.epa.gov/oeca/webeis.nsf/EIS01/F8E9F0BF570B7E6985257BEB001BA35B"
       ]
      },
      {
       "output_type": "stream",
       "stream": "stdout",
       "text": [
        "\n",
        "Getting # 323: http://yosemite.epa.gov/oeca/webeis.nsf/EIS01/111827CC0391189985257BEB001BA33F"
       ]
      },
      {
       "output_type": "stream",
       "stream": "stdout",
       "text": [
        "\n",
        "Getting # 324: http://yosemite.epa.gov/oeca/webeis.nsf/EIS01/2161BC420FBD586F85257BEB001BA339"
       ]
      },
      {
       "output_type": "stream",
       "stream": "stdout",
       "text": [
        "\n",
        "Getting # 325: http://yosemite.epa.gov/oeca/webeis.nsf/EIS01/2E00849D62FCB4A885257BEB001BA2FF"
       ]
      },
      {
       "output_type": "stream",
       "stream": "stdout",
       "text": [
        "\n",
        "Getting # 326: http://yosemite.epa.gov/oeca/webeis.nsf/EIS01/3AC5834449F8A5C785257BEB001BA317"
       ]
      },
      {
       "output_type": "stream",
       "stream": "stdout",
       "text": [
        "\n",
        "Getting # 327: http://yosemite.epa.gov/oeca/webeis.nsf/EIS01/6CEE1B3D018619F985257BEB001BA330"
       ]
      },
      {
       "output_type": "stream",
       "stream": "stdout",
       "text": [
        "\n",
        "Getting # 328: http://yosemite.epa.gov/oeca/webeis.nsf/EIS01/80CDB79947D8075B85257BEB001BA338"
       ]
      },
      {
       "output_type": "stream",
       "stream": "stdout",
       "text": [
        "\n",
        "Getting # 329: http://yosemite.epa.gov/oeca/webeis.nsf/EIS01/89F32A1EBC4D8DB585257BEB001BA334"
       ]
      },
      {
       "output_type": "stream",
       "stream": "stdout",
       "text": [
        "\n",
        "Getting # 330: http://yosemite.epa.gov/oeca/webeis.nsf/EIS01/B83A42E91AB1CF8A85257BEB001BA33B"
       ]
      },
      {
       "output_type": "stream",
       "stream": "stdout",
       "text": [
        "\n",
        "Getting # 331: http://yosemite.epa.gov/oeca/webeis.nsf/EIS01/E0F7B4470A56E85A85257BEB001BA335"
       ]
      },
      {
       "output_type": "stream",
       "stream": "stdout",
       "text": [
        "\n",
        "Getting # 332: http://yosemite.epa.gov/oeca/webeis.nsf/EIS01/E9DA4698CC604C2C85257BEB001BA2FB"
       ]
      },
      {
       "output_type": "stream",
       "stream": "stdout",
       "text": [
        "\n",
        "Getting # 333: http://yosemite.epa.gov/oeca/webeis.nsf/EIS01/F3706767679ABF5385257BEB001BA331"
       ]
      },
      {
       "output_type": "stream",
       "stream": "stdout",
       "text": [
        "\n",
        "Getting # 334: http://yosemite.epa.gov/oeca/webeis.nsf/EIS01/DB5599B5AD2167E785257BEB001BA2EB"
       ]
      },
      {
       "output_type": "stream",
       "stream": "stdout",
       "text": [
        "\n",
        "Getting # 335: http://yosemite.epa.gov/oeca/webeis.nsf/EIS01/A968EE49057DB20D85257BEB001BA2F1"
       ]
      },
      {
       "output_type": "stream",
       "stream": "stdout",
       "text": [
        "\n",
        "Getting # 336: http://yosemite.epa.gov/oeca/webeis.nsf/EIS01/22DB86354023F89385257BEB001BA2E9"
       ]
      },
      {
       "output_type": "stream",
       "stream": "stdout",
       "text": [
        "\n",
        "Getting # 337: http://yosemite.epa.gov/oeca/webeis.nsf/EIS01/3D4E20C3EF13307485257BEB001BA2CA"
       ]
      },
      {
       "output_type": "stream",
       "stream": "stdout",
       "text": [
        "\n",
        "Getting # 338: http://yosemite.epa.gov/oeca/webeis.nsf/EIS01/759C4333F1117E8985257BEB001BA2DE"
       ]
      },
      {
       "output_type": "stream",
       "stream": "stdout",
       "text": [
        "\n",
        "Getting # 339: http://yosemite.epa.gov/oeca/webeis.nsf/EIS01/8CDA7C58AC82928E85257BEB001BA2C5"
       ]
      },
      {
       "output_type": "stream",
       "stream": "stdout",
       "text": [
        "\n",
        "Getting # 340: http://yosemite.epa.gov/oeca/webeis.nsf/EIS01/C83D68CDBD25CDFE85257BEB001BA2CD"
       ]
      },
      {
       "output_type": "stream",
       "stream": "stdout",
       "text": [
        "\n",
        "Getting # 341: http://yosemite.epa.gov/oeca/webeis.nsf/EIS01/F6F71E48FAFBF71885257BEB001BA2D7"
       ]
      },
      {
       "output_type": "stream",
       "stream": "stdout",
       "text": [
        "\n",
        "Getting # 342: http://yosemite.epa.gov/oeca/webeis.nsf/EIS01/7E5ED2F2DEDA68E085257BEB001BA2C1"
       ]
      },
      {
       "output_type": "stream",
       "stream": "stdout",
       "text": [
        "\n",
        "Getting # 343: http://yosemite.epa.gov/oeca/webeis.nsf/EIS01/72F284FADAE099BD85257BEB001BA2B0"
       ]
      },
      {
       "output_type": "stream",
       "stream": "stdout",
       "text": [
        "\n",
        "Getting # 344: http://yosemite.epa.gov/oeca/webeis.nsf/EIS01/856A11F9BF32AEB385257BEB001BA2A5"
       ]
      },
      {
       "output_type": "stream",
       "stream": "stdout",
       "text": [
        "\n",
        "Getting # 345: http://yosemite.epa.gov/oeca/webeis.nsf/EIS01/0F277D94C556944585257BEB001BA284"
       ]
      },
      {
       "output_type": "stream",
       "stream": "stdout",
       "text": [
        "\n",
        "Getting # 346: http://yosemite.epa.gov/oeca/webeis.nsf/EIS01/39634AE0F88F2D0E85257BEB001BA28A"
       ]
      },
      {
       "output_type": "stream",
       "stream": "stdout",
       "text": [
        "\n",
        "Getting # 347: http://yosemite.epa.gov/oeca/webeis.nsf/EIS01/4FD648CF9783E0BA85257BEB001BA290"
       ]
      },
      {
       "output_type": "stream",
       "stream": "stdout",
       "text": [
        "\n",
        "Getting # 348: http://yosemite.epa.gov/oeca/webeis.nsf/EIS01/71AC06B8A592F9BD85257BEB001BA273"
       ]
      },
      {
       "output_type": "stream",
       "stream": "stdout",
       "text": [
        "\n",
        "Getting # 349: http://yosemite.epa.gov/oeca/webeis.nsf/EIS01/B1A79A35351A664185257BEB001BA27E"
       ]
      },
      {
       "output_type": "stream",
       "stream": "stdout",
       "text": [
        "\n",
        "Getting # 350: http://yosemite.epa.gov/oeca/webeis.nsf/EIS01/755FDE4D849C25A885257BEB001BA26E"
       ]
      },
      {
       "output_type": "stream",
       "stream": "stdout",
       "text": [
        "\n",
        "Getting # 351: http://yosemite.epa.gov/oeca/webeis.nsf/EIS01/6BE750C42B647A7685257BEB001BA26C"
       ]
      },
      {
       "output_type": "stream",
       "stream": "stdout",
       "text": [
        "\n",
        "Getting # 352: http://yosemite.epa.gov/oeca/webeis.nsf/EIS01/78CC63F82F01D2CB85257BEB001BA265"
       ]
      },
      {
       "output_type": "stream",
       "stream": "stdout",
       "text": [
        "\n",
        "Getting # 353: http://yosemite.epa.gov/oeca/webeis.nsf/EIS01/BD4E2A644AF8BF5485257BEB001BA25B"
       ]
      },
      {
       "output_type": "stream",
       "stream": "stdout",
       "text": [
        "\n",
        "Getting # 354: http://yosemite.epa.gov/oeca/webeis.nsf/EIS01/C2F7C07EB7EE4A2385257BEB001BA269"
       ]
      },
      {
       "output_type": "stream",
       "stream": "stdout",
       "text": [
        "\n",
        "Getting # 355: http://yosemite.epa.gov/oeca/webeis.nsf/EIS01/DD2DA12D94C84CA285257BEB001BA24A"
       ]
      },
      {
       "output_type": "stream",
       "stream": "stdout",
       "text": [
        "\n",
        "Getting # 356: http://yosemite.epa.gov/oeca/webeis.nsf/EIS01/3EDAB95565B06F9D85257BEB001BA252"
       ]
      },
      {
       "output_type": "stream",
       "stream": "stdout",
       "text": [
        "\n",
        "Getting # 357: http://yosemite.epa.gov/oeca/webeis.nsf/EIS01/EA53610D1D388DE385257BEB001BA258"
       ]
      },
      {
       "output_type": "stream",
       "stream": "stdout",
       "text": [
        "\n",
        "Getting # 358: http://yosemite.epa.gov/oeca/webeis.nsf/EIS01/09C09D66CDA746B185257BEB001BA23C"
       ]
      },
      {
       "output_type": "stream",
       "stream": "stdout",
       "text": [
        "\n",
        "Getting # 359: http://yosemite.epa.gov/oeca/webeis.nsf/EIS01/13BACA8F1CA325D685257BEB001BA23A"
       ]
      },
      {
       "output_type": "stream",
       "stream": "stdout",
       "text": [
        "\n",
        "Getting # 360: http://yosemite.epa.gov/oeca/webeis.nsf/EIS01/40B3260FE145575185257BEB001BA241"
       ]
      },
      {
       "output_type": "stream",
       "stream": "stdout",
       "text": [
        "\n",
        "Getting # 361: http://yosemite.epa.gov/oeca/webeis.nsf/EIS01/B3D43D8837329C5385257BEB001BA23F"
       ]
      },
      {
       "output_type": "stream",
       "stream": "stdout",
       "text": [
        "\n",
        "Getting # 362: http://yosemite.epa.gov/oeca/webeis.nsf/EIS01/DFA583319C882E3185257BEB001BA236"
       ]
      },
      {
       "output_type": "stream",
       "stream": "stdout",
       "text": [
        "\n",
        "Getting # 363: http://yosemite.epa.gov/oeca/webeis.nsf/EIS01/E98D64F2E6136C0485257BEB001BA223"
       ]
      },
      {
       "output_type": "stream",
       "stream": "stdout",
       "text": [
        "\n",
        "Getting # 364: http://yosemite.epa.gov/oeca/webeis.nsf/EIS01/F6424ABD76CCD44185257BEB001BA225"
       ]
      },
      {
       "output_type": "stream",
       "stream": "stdout",
       "text": [
        "\n",
        "Getting # 365: http://yosemite.epa.gov/oeca/webeis.nsf/EIS01/53E767FA29C9B25585257BEB001BA22C"
       ]
      },
      {
       "output_type": "stream",
       "stream": "stdout",
       "text": [
        "\n",
        "Getting # 366: http://yosemite.epa.gov/oeca/webeis.nsf/EIS01/D45C6932B96E37B885257BEB001BA229"
       ]
      },
      {
       "output_type": "stream",
       "stream": "stdout",
       "text": [
        "\n",
        "Getting # 367: http://yosemite.epa.gov/oeca/webeis.nsf/EIS01/FE95CA9EE620EF0485257BEB001BA215"
       ]
      },
      {
       "output_type": "stream",
       "stream": "stdout",
       "text": [
        "\n",
        "Getting # 368: http://yosemite.epa.gov/oeca/webeis.nsf/EIS01/0F99577ABA98A11C85257BEB001BA202"
       ]
      },
      {
       "output_type": "stream",
       "stream": "stdout",
       "text": [
        "\n",
        "Getting # 369: http://yosemite.epa.gov/oeca/webeis.nsf/EIS01/222CC178208F1E3B85257BEB001BA1EB"
       ]
      },
      {
       "output_type": "stream",
       "stream": "stdout",
       "text": [
        "\n",
        "Getting # 370: http://yosemite.epa.gov/oeca/webeis.nsf/EIS01/321299A1E0D3EAAE85257BEB001BA1C8"
       ]
      },
      {
       "output_type": "stream",
       "stream": "stdout",
       "text": [
        "\n",
        "Getting # 371: http://yosemite.epa.gov/oeca/webeis.nsf/EIS01/8EDA544277C9392D85257BEB001BA1DA"
       ]
      },
      {
       "output_type": "stream",
       "stream": "stdout",
       "text": [
        "\n",
        "Getting # 372: http://yosemite.epa.gov/oeca/webeis.nsf/EIS01/B16B6D6A8D897B0585257BEB001BA1C7"
       ]
      },
      {
       "output_type": "stream",
       "stream": "stdout",
       "text": [
        "\n",
        "Getting # 373: http://yosemite.epa.gov/oeca/webeis.nsf/EIS01/DBBDDA15E6E7991185257BEB001BA1E6"
       ]
      },
      {
       "output_type": "stream",
       "stream": "stdout",
       "text": [
        "\n",
        "Getting # 374: http://yosemite.epa.gov/oeca/webeis.nsf/EIS01/0FF6F281FA4B24D385257BEB001BA1BD"
       ]
      },
      {
       "output_type": "stream",
       "stream": "stdout",
       "text": [
        "\n",
        "Getting # 375: http://yosemite.epa.gov/oeca/webeis.nsf/EIS01/1559338916553F8785257BEB001BA1C1"
       ]
      },
      {
       "output_type": "stream",
       "stream": "stdout",
       "text": [
        "\n",
        "Getting # 376: http://yosemite.epa.gov/oeca/webeis.nsf/EIS01/52516D6F655F0CE185257BEB001BA1AF"
       ]
      },
      {
       "output_type": "stream",
       "stream": "stdout",
       "text": [
        "\n",
        "Getting # 377: http://yosemite.epa.gov/oeca/webeis.nsf/EIS01/B32520BC0A33914F85257BEB001BA1AC"
       ]
      },
      {
       "output_type": "stream",
       "stream": "stdout",
       "text": [
        "\n",
        "Getting # 378: http://yosemite.epa.gov/oeca/webeis.nsf/EIS01/B95AE537813DCC0C85257BEB001BA1A1"
       ]
      },
      {
       "output_type": "stream",
       "stream": "stdout",
       "text": [
        "\n",
        "Getting # 379: http://yosemite.epa.gov/oeca/webeis.nsf/EIS01/982B409F63DE5A8785257BEB001BA18B"
       ]
      },
      {
       "output_type": "stream",
       "stream": "stdout",
       "text": [
        "\n",
        "Getting # 380: http://yosemite.epa.gov/oeca/webeis.nsf/EIS01/A2027E2466613D3585257BEB001BA172"
       ]
      },
      {
       "output_type": "stream",
       "stream": "stdout",
       "text": [
        "\n",
        "Getting # 381: http://yosemite.epa.gov/oeca/webeis.nsf/EIS01/497AE2A5DE5E4A9785257BEB001BA17F"
       ]
      },
      {
       "output_type": "stream",
       "stream": "stdout",
       "text": [
        "\n",
        "Getting # 382: http://yosemite.epa.gov/oeca/webeis.nsf/EIS01/C0BB66B6CAF36B0E85257BEB001BA169"
       ]
      },
      {
       "output_type": "stream",
       "stream": "stdout",
       "text": [
        "\n",
        "Getting # 383: http://yosemite.epa.gov/oeca/webeis.nsf/EIS01/EFA3251665AAC1A585257BEB001BA163"
       ]
      },
      {
       "output_type": "stream",
       "stream": "stdout",
       "text": [
        "\n",
        "Getting # 384: http://yosemite.epa.gov/oeca/webeis.nsf/EIS01/16A9EE22EA4B92EC85257BEB001BA15D"
       ]
      },
      {
       "output_type": "stream",
       "stream": "stdout",
       "text": [
        "\n",
        "Getting # 385: http://yosemite.epa.gov/oeca/webeis.nsf/EIS01/9BAF7C8C2CC439A185257BEB001BA15E"
       ]
      },
      {
       "output_type": "stream",
       "stream": "stdout",
       "text": [
        "\n",
        "Getting # 386: http://yosemite.epa.gov/oeca/webeis.nsf/EIS01/FC10A0B5C923711585257BEB001BA14A"
       ]
      },
      {
       "output_type": "stream",
       "stream": "stdout",
       "text": [
        "\n",
        "Getting # 387: http://yosemite.epa.gov/oeca/webeis.nsf/EIS01/4347AE672543711085257BEB001BA14B"
       ]
      },
      {
       "output_type": "stream",
       "stream": "stdout",
       "text": [
        "\n",
        "Getting # 388: http://yosemite.epa.gov/oeca/webeis.nsf/EIS01/7E9945E03A0EA49D85257BEB001BA14D"
       ]
      },
      {
       "output_type": "stream",
       "stream": "stdout",
       "text": [
        "\n",
        "Getting # 389: http://yosemite.epa.gov/oeca/webeis.nsf/EIS01/F9992073F5170BE985257BEB001BA142"
       ]
      },
      {
       "output_type": "stream",
       "stream": "stdout",
       "text": [
        "\n",
        "Getting # 390: http://yosemite.epa.gov/oeca/webeis.nsf/EIS01/B7155804E56CEB3F85257BEB001BA156"
       ]
      },
      {
       "output_type": "stream",
       "stream": "stdout",
       "text": [
        "\n",
        "Getting # 391: http://yosemite.epa.gov/oeca/webeis.nsf/EIS01/BFABCF0521B7F42085257BEB001BA13A"
       ]
      },
      {
       "output_type": "stream",
       "stream": "stdout",
       "text": [
        "\n",
        "Getting # 392: http://yosemite.epa.gov/oeca/webeis.nsf/EIS01/1FBDD8002CEF60D785257BEB001BA121"
       ]
      },
      {
       "output_type": "stream",
       "stream": "stdout",
       "text": [
        "\n",
        "Getting # 393: http://yosemite.epa.gov/oeca/webeis.nsf/EIS01/8E7F6181269C7F5E85257BEB001BA139"
       ]
      },
      {
       "output_type": "stream",
       "stream": "stdout",
       "text": [
        "\n",
        "Getting # 394: http://yosemite.epa.gov/oeca/webeis.nsf/EIS01/C498FF2AD72EC5B385257BEB001BA127"
       ]
      },
      {
       "output_type": "stream",
       "stream": "stdout",
       "text": [
        "\n",
        "Getting # 395: http://yosemite.epa.gov/oeca/webeis.nsf/EIS01/EA87E02A3731DC5185257BEB001BA12B"
       ]
      },
      {
       "output_type": "stream",
       "stream": "stdout",
       "text": [
        "\n",
        "Getting # 396: http://yosemite.epa.gov/oeca/webeis.nsf/EIS01/F4F37926B24135FF85257BEB001BA120"
       ]
      },
      {
       "output_type": "stream",
       "stream": "stdout",
       "text": [
        "\n",
        "Getting # 397: http://yosemite.epa.gov/oeca/webeis.nsf/EIS01/479B35991D4E04F685257BEB001BA131"
       ]
      },
      {
       "output_type": "stream",
       "stream": "stdout",
       "text": [
        "\n",
        "Getting # 398: http://yosemite.epa.gov/oeca/webeis.nsf/EIS01/D9A29651FE973A6A85257B000020FDCD"
       ]
      },
      {
       "output_type": "stream",
       "stream": "stdout",
       "text": [
        "\n",
        "Getting # 399: http://yosemite.epa.gov/oeca/webeis.nsf/EIS01/B1AB50184B7FC5E485257BEB001BA116"
       ]
      },
      {
       "output_type": "stream",
       "stream": "stdout",
       "text": [
        "\n",
        "Getting # 400: http://yosemite.epa.gov/oeca/webeis.nsf/EIS01/D5DE1FD1AF2C258685257BEB001BA114"
       ]
      },
      {
       "output_type": "stream",
       "stream": "stdout",
       "text": [
        "\n",
        "Getting # 401: http://yosemite.epa.gov/oeca/webeis.nsf/EIS01/6AADF02F06988BE685257BEB001BA103"
       ]
      },
      {
       "output_type": "stream",
       "stream": "stdout",
       "text": [
        "\n",
        "Getting # 402: http://yosemite.epa.gov/oeca/webeis.nsf/EIS01/822486F7953C6A6C85257BEB001BA110"
       ]
      },
      {
       "output_type": "stream",
       "stream": "stdout",
       "text": [
        "\n",
        "Getting # 403: http://yosemite.epa.gov/oeca/webeis.nsf/EIS01/EC0395351284F52485257BEB001BA0FC"
       ]
      },
      {
       "output_type": "stream",
       "stream": "stdout",
       "text": [
        "\n",
        "Getting # 404: http://yosemite.epa.gov/oeca/webeis.nsf/EIS01/5F118880E2E6097F85257BEB001BA0FF"
       ]
      },
      {
       "output_type": "stream",
       "stream": "stdout",
       "text": [
        "\n",
        "Getting # 405: http://yosemite.epa.gov/oeca/webeis.nsf/EIS01/1A8AF7E3E84553DE85257BEB001BA0EF"
       ]
      },
      {
       "output_type": "stream",
       "stream": "stdout",
       "text": [
        "\n",
        "Getting # 406: http://yosemite.epa.gov/oeca/webeis.nsf/EIS01/39FEAF477A4A80D685257BEB001BA0F5"
       ]
      },
      {
       "output_type": "stream",
       "stream": "stdout",
       "text": [
        "\n",
        "Getting # 407: http://yosemite.epa.gov/oeca/webeis.nsf/EIS01/F21ABEA659A3D0D185257BEB001BA0E7"
       ]
      },
      {
       "output_type": "stream",
       "stream": "stdout",
       "text": [
        "\n",
        "Getting # 408: http://yosemite.epa.gov/oeca/webeis.nsf/EIS01/7FEE0F1020E81FEB85257BEB001BA0E4"
       ]
      },
      {
       "output_type": "stream",
       "stream": "stdout",
       "text": [
        "\n",
        "Getting # 409: http://yosemite.epa.gov/oeca/webeis.nsf/EIS01/71B8A8E7F0ED8BCD85257BEB001BA0D3"
       ]
      },
      {
       "output_type": "stream",
       "stream": "stdout",
       "text": [
        "\n",
        "Getting # 410: http://yosemite.epa.gov/oeca/webeis.nsf/EIS01/E07A30E95ED8C55185257BEB001BA0CE"
       ]
      },
      {
       "output_type": "stream",
       "stream": "stdout",
       "text": [
        "\n",
        "Getting # 411: http://yosemite.epa.gov/oeca/webeis.nsf/EIS01/844308E5AF3DE1E785257BEB001BA0D0"
       ]
      },
      {
       "output_type": "stream",
       "stream": "stdout",
       "text": [
        "\n",
        "Getting # 412: http://yosemite.epa.gov/oeca/webeis.nsf/EIS01/33C06583B2C3CC5185257BEB001BA0DC"
       ]
      },
      {
       "output_type": "stream",
       "stream": "stdout",
       "text": [
        "\n",
        "Getting # 413: http://yosemite.epa.gov/oeca/webeis.nsf/EIS01/90D7B25D3A70E6C185257BEB001BA0E3"
       ]
      },
      {
       "output_type": "stream",
       "stream": "stdout",
       "text": [
        "\n",
        "Getting # 414: http://yosemite.epa.gov/oeca/webeis.nsf/EIS01/ED17E09378752E5485257BEB001BA0CD"
       ]
      },
      {
       "output_type": "stream",
       "stream": "stdout",
       "text": [
        "\n",
        "Getting # 415: http://yosemite.epa.gov/oeca/webeis.nsf/EIS01/3C847F09C9A2E23485257BEB001BA0CB"
       ]
      },
      {
       "output_type": "stream",
       "stream": "stdout",
       "text": [
        "\n",
        "Getting # 416: http://yosemite.epa.gov/oeca/webeis.nsf/EIS01/DA5F5D74EB20E35385257BEB001BA09E"
       ]
      },
      {
       "output_type": "stream",
       "stream": "stdout",
       "text": [
        "\n",
        "Getting # 417: http://yosemite.epa.gov/oeca/webeis.nsf/EIS01/E78C5A7AB46041B885257BEB001BA09F"
       ]
      },
      {
       "output_type": "stream",
       "stream": "stdout",
       "text": [
        "\n",
        "Getting # 418: http://yosemite.epa.gov/oeca/webeis.nsf/EIS01/20ED4F11A59DE90985257BEB001BA07F"
       ]
      },
      {
       "output_type": "stream",
       "stream": "stdout",
       "text": [
        "\n",
        "Getting # 419: http://yosemite.epa.gov/oeca/webeis.nsf/EIS01/CCB3A69D7EADA36C85257BEB001BA08B"
       ]
      },
      {
       "output_type": "stream",
       "stream": "stdout",
       "text": [
        "\n",
        "Getting # 420: http://yosemite.epa.gov/oeca/webeis.nsf/EIS01/A3ECE3CF159ECA2785257BEB001BA078"
       ]
      },
      {
       "output_type": "stream",
       "stream": "stdout",
       "text": [
        "\n",
        "Getting # 421: http://yosemite.epa.gov/oeca/webeis.nsf/EIS01/1280EC64B7B45E2585257BEB001BA069"
       ]
      },
      {
       "output_type": "stream",
       "stream": "stdout",
       "text": [
        "\n",
        "Getting # 422: http://yosemite.epa.gov/oeca/webeis.nsf/EIS01/444C8FA60D81275485257BEB001BA067"
       ]
      },
      {
       "output_type": "stream",
       "stream": "stdout",
       "text": [
        "\n",
        "Getting # 423: http://yosemite.epa.gov/oeca/webeis.nsf/EIS01/860EA8CB460C9BC885257BEB001BA05B"
       ]
      },
      {
       "output_type": "stream",
       "stream": "stdout",
       "text": [
        "\n",
        "Getting # 424: http://yosemite.epa.gov/oeca/webeis.nsf/EIS01/E5D42EB04219E82485257BEB001BA059"
       ]
      },
      {
       "output_type": "stream",
       "stream": "stdout",
       "text": [
        "\n",
        "Getting # 425: http://yosemite.epa.gov/oeca/webeis.nsf/EIS01/2DDB59301EAC80B385257BEB001BA051"
       ]
      },
      {
       "output_type": "stream",
       "stream": "stdout",
       "text": [
        "\n",
        "Getting # 426: http://yosemite.epa.gov/oeca/webeis.nsf/EIS01/658E70B4F02BA02785257BEB001BA056"
       ]
      },
      {
       "output_type": "stream",
       "stream": "stdout",
       "text": [
        "\n",
        "Getting # 427: http://yosemite.epa.gov/oeca/webeis.nsf/EIS01/CEF604933E86E6DC85257BEB001BA046"
       ]
      },
      {
       "output_type": "stream",
       "stream": "stdout",
       "text": [
        "\n",
        "Getting # 428: http://yosemite.epa.gov/oeca/webeis.nsf/EIS01/E21819A34EE9496985257BEB001BA043"
       ]
      },
      {
       "output_type": "stream",
       "stream": "stdout",
       "text": [
        "\n",
        "Getting # 429: http://yosemite.epa.gov/oeca/webeis.nsf/EIS01/4B1DC2FCFF75E4D385257BEB001BA031"
       ]
      },
      {
       "output_type": "stream",
       "stream": "stdout",
       "text": [
        "\n",
        "Getting # 430: http://yosemite.epa.gov/oeca/webeis.nsf/EIS01/03A72F3D7E194B3D85257BEB001BA02D"
       ]
      },
      {
       "output_type": "stream",
       "stream": "stdout",
       "text": [
        "\n",
        "Getting # 431: http://yosemite.epa.gov/oeca/webeis.nsf/EIS01/CA9430E2B2F94FCF85257BEB001BA011"
       ]
      },
      {
       "output_type": "stream",
       "stream": "stdout",
       "text": [
        "\n",
        "Getting # 432: http://yosemite.epa.gov/oeca/webeis.nsf/EIS01/E8BB3FB48D07CC0685257BEB001BA018"
       ]
      },
      {
       "output_type": "stream",
       "stream": "stdout",
       "text": [
        "\n",
        "Getting # 433: http://yosemite.epa.gov/oeca/webeis.nsf/EIS01/C10726B8359A6F1385257BEB001BA008"
       ]
      },
      {
       "output_type": "stream",
       "stream": "stdout",
       "text": [
        "\n",
        "Getting # 434: http://yosemite.epa.gov/oeca/webeis.nsf/EIS01/74E006FCC4743A9885257BEB001BA005"
       ]
      },
      {
       "output_type": "stream",
       "stream": "stdout",
       "text": [
        "\n",
        "Getting # 435: http://yosemite.epa.gov/oeca/webeis.nsf/EIS01/5B029FCEAB5F3A2F85257BEB001B9FFF"
       ]
      },
      {
       "output_type": "stream",
       "stream": "stdout",
       "text": [
        "\n",
        "Getting # 436: http://yosemite.epa.gov/oeca/webeis.nsf/EIS01/A3A42FC5005FF2D185257BEB001B9FF7"
       ]
      },
      {
       "output_type": "stream",
       "stream": "stdout",
       "text": [
        "\n",
        "Getting # 437: http://yosemite.epa.gov/oeca/webeis.nsf/EIS01/55F55E85597DDBC885257BEB001B9FEA"
       ]
      },
      {
       "output_type": "stream",
       "stream": "stdout",
       "text": [
        "\n",
        "Getting # 438: http://yosemite.epa.gov/oeca/webeis.nsf/EIS01/63385F2DDC9D1F3485257BEB001B9FDF"
       ]
      },
      {
       "output_type": "stream",
       "stream": "stdout",
       "text": [
        "\n",
        "Getting # 439: http://yosemite.epa.gov/oeca/webeis.nsf/EIS01/BFEF549D71B3DABF85257BEB001B9FE4"
       ]
      },
      {
       "output_type": "stream",
       "stream": "stdout",
       "text": [
        "\n",
        "Getting # 440: http://yosemite.epa.gov/oeca/webeis.nsf/EIS01/EEFA25094C1BF4BB85257BEB001B9FE9"
       ]
      },
      {
       "output_type": "stream",
       "stream": "stdout",
       "text": [
        "\n",
        "Getting # 441: http://yosemite.epa.gov/oeca/webeis.nsf/EIS01/BA50AEE6439342F885257BEB001B9FD7"
       ]
      },
      {
       "output_type": "stream",
       "stream": "stdout",
       "text": [
        "\n",
        "Getting # 442: http://yosemite.epa.gov/oeca/webeis.nsf/EIS01/846698707F6FB93A85257BEB001B9FCD"
       ]
      },
      {
       "output_type": "stream",
       "stream": "stdout",
       "text": [
        "\n",
        "Getting # 443: http://yosemite.epa.gov/oeca/webeis.nsf/EIS01/9316B9D12349301B85257BEB001B9FCE"
       ]
      },
      {
       "output_type": "stream",
       "stream": "stdout",
       "text": [
        "\n",
        "Getting # 444: http://yosemite.epa.gov/oeca/webeis.nsf/EIS01/990713DA21D694E385257BEB001B9FD9"
       ]
      },
      {
       "output_type": "stream",
       "stream": "stdout",
       "text": [
        "\n",
        "Getting # 445: http://yosemite.epa.gov/oeca/webeis.nsf/EIS01/DB6063325FDA00F485257BEB001B9FCB"
       ]
      },
      {
       "output_type": "stream",
       "stream": "stdout",
       "text": [
        "\n",
        "Getting # 446: http://yosemite.epa.gov/oeca/webeis.nsf/EIS01/EF831B1F6D42F41985257BEB001B9FD4"
       ]
      },
      {
       "output_type": "stream",
       "stream": "stdout",
       "text": [
        "\n",
        "Getting # 447: http://yosemite.epa.gov/oeca/webeis.nsf/EIS01/46EDBF2DC049FD4585257BEB001B9FAA"
       ]
      },
      {
       "output_type": "stream",
       "stream": "stdout",
       "text": [
        "\n",
        "Getting # 448: http://yosemite.epa.gov/oeca/webeis.nsf/EIS01/40E331947570667585257BEB001B9FAF"
       ]
      },
      {
       "output_type": "stream",
       "stream": "stdout",
       "text": [
        "\n",
        "Getting # 449: http://yosemite.epa.gov/oeca/webeis.nsf/EIS01/DAEBFF42214EBFFA85257BEB001B9FBD"
       ]
      },
      {
       "output_type": "stream",
       "stream": "stdout",
       "text": [
        "\n",
        "Getting # 450: http://yosemite.epa.gov/oeca/webeis.nsf/EIS01/C406CBE17E6CD44485257BEB001B9F93"
       ]
      },
      {
       "output_type": "stream",
       "stream": "stdout",
       "text": [
        "\n",
        "Getting # 451: http://yosemite.epa.gov/oeca/webeis.nsf/EIS01/C4FA175635C423AA85257BEB001B9F94"
       ]
      },
      {
       "output_type": "stream",
       "stream": "stdout",
       "text": [
        "\n",
        "Getting # 452: http://yosemite.epa.gov/oeca/webeis.nsf/EIS01/C7027EF74B96AF8485257BEB001B9F9E"
       ]
      },
      {
       "output_type": "stream",
       "stream": "stdout",
       "text": [
        "\n",
        "Getting # 453: http://yosemite.epa.gov/oeca/webeis.nsf/EIS01/620AB3D4EB826D3C85257BEB001B9F77"
       ]
      },
      {
       "output_type": "stream",
       "stream": "stdout",
       "text": [
        "\n",
        "Getting # 454: http://yosemite.epa.gov/oeca/webeis.nsf/EIS01/BA41067D0DCA587685257BEB001B9F88"
       ]
      },
      {
       "output_type": "stream",
       "stream": "stdout",
       "text": [
        "\n",
        "Getting # 455: http://yosemite.epa.gov/oeca/webeis.nsf/EIS01/EF1E4F8F51BBBAB385257BEB001B9F7E"
       ]
      },
      {
       "output_type": "stream",
       "stream": "stdout",
       "text": [
        "\n",
        "Getting # 456: http://yosemite.epa.gov/oeca/webeis.nsf/EIS01/4EA11D74C1903FB585257BEB001B9F85"
       ]
      },
      {
       "output_type": "stream",
       "stream": "stdout",
       "text": [
        "\n",
        "Getting # 457: http://yosemite.epa.gov/oeca/webeis.nsf/EIS01/CE54ECF5D05E6BA885257BEB001B9F89"
       ]
      },
      {
       "output_type": "stream",
       "stream": "stdout",
       "text": [
        "\n",
        "Getting # 458: http://yosemite.epa.gov/oeca/webeis.nsf/EIS01/85934AE8DBE50AF985257BEB001B9F7B"
       ]
      },
      {
       "output_type": "stream",
       "stream": "stdout",
       "text": [
        "\n",
        "Getting # 459: http://yosemite.epa.gov/oeca/webeis.nsf/EIS01/CB156D4300A1207285257BEB001B9F5A"
       ]
      },
      {
       "output_type": "stream",
       "stream": "stdout",
       "text": [
        "\n",
        "Getting # 460: http://yosemite.epa.gov/oeca/webeis.nsf/EIS01/F787564C7458382585257BEB001B9F64"
       ]
      },
      {
       "output_type": "stream",
       "stream": "stdout",
       "text": [
        "\n",
        "Getting # 461: http://yosemite.epa.gov/oeca/webeis.nsf/EIS01/9A7A23DE8863479A85257BEB001B9F54"
       ]
      },
      {
       "output_type": "stream",
       "stream": "stdout",
       "text": [
        "\n",
        "Getting # 462: http://yosemite.epa.gov/oeca/webeis.nsf/EIS01/46A0D717975325C185257BEB001B9F51"
       ]
      },
      {
       "output_type": "stream",
       "stream": "stdout",
       "text": [
        "\n",
        "Getting # 463: http://yosemite.epa.gov/oeca/webeis.nsf/EIS01/79B788AED9AECFEA85257BEB001B9F56"
       ]
      },
      {
       "output_type": "stream",
       "stream": "stdout",
       "text": [
        "\n",
        "Getting # 464: http://yosemite.epa.gov/oeca/webeis.nsf/EIS01/F055BB7C23871EBD85257BEB001B9F46"
       ]
      },
      {
       "output_type": "stream",
       "stream": "stdout",
       "text": [
        "\n",
        "Getting # 465: http://yosemite.epa.gov/oeca/webeis.nsf/EIS01/1EE7626D0908824785257BEB001B9F1E"
       ]
      },
      {
       "output_type": "stream",
       "stream": "stdout",
       "text": [
        "\n",
        "Getting # 466: http://yosemite.epa.gov/oeca/webeis.nsf/EIS01/234294C8D0DC412885257BEB001B9F1C"
       ]
      },
      {
       "output_type": "stream",
       "stream": "stdout",
       "text": [
        "\n",
        "Getting # 467: http://yosemite.epa.gov/oeca/webeis.nsf/EIS01/4A8B55AE73B3139F85257BEB001B9F2A"
       ]
      },
      {
       "output_type": "stream",
       "stream": "stdout",
       "text": [
        "\n",
        "Getting # 468: http://yosemite.epa.gov/oeca/webeis.nsf/EIS01/66C30CFD57F5020085257BEB001B9F3E"
       ]
      },
      {
       "output_type": "stream",
       "stream": "stdout",
       "text": [
        "\n",
        "Getting # 469: http://yosemite.epa.gov/oeca/webeis.nsf/EIS01/6BE859D09610465185257BEB001B9F24"
       ]
      },
      {
       "output_type": "stream",
       "stream": "stdout",
       "text": [
        "\n",
        "Getting # 470: http://yosemite.epa.gov/oeca/webeis.nsf/EIS01/83B9A64B7353978185257BEB001B9F1F"
       ]
      },
      {
       "output_type": "stream",
       "stream": "stdout",
       "text": [
        "\n",
        "Getting # 471: http://yosemite.epa.gov/oeca/webeis.nsf/EIS01/BA7CC65AD8F88B8E85257BEB001B9F38"
       ]
      },
      {
       "output_type": "stream",
       "stream": "stdout",
       "text": [
        "\n",
        "Getting # 472: http://yosemite.epa.gov/oeca/webeis.nsf/EIS01/DDF6AA408E6FFA3F85257BEB001B9F43"
       ]
      },
      {
       "output_type": "stream",
       "stream": "stdout",
       "text": [
        "\n",
        "Getting # 473: http://yosemite.epa.gov/oeca/webeis.nsf/EIS01/83884C5A1A64334A85257BEB001B9F00"
       ]
      },
      {
       "output_type": "stream",
       "stream": "stdout",
       "text": [
        "\n",
        "Getting # 474: http://yosemite.epa.gov/oeca/webeis.nsf/EIS01/906D4A85962C82E685257BEB001B9F14"
       ]
      },
      {
       "output_type": "stream",
       "stream": "stdout",
       "text": [
        "\n",
        "Getting # 475: http://yosemite.epa.gov/oeca/webeis.nsf/EIS01/EFBB0DCAE29BF1B985257BEB001B9F01"
       ]
      },
      {
       "output_type": "stream",
       "stream": "stdout",
       "text": [
        "\n",
        "Getting # 476: http://yosemite.epa.gov/oeca/webeis.nsf/EIS01/3737C89E529FF2BB85257BEB001B9F0E"
       ]
      },
      {
       "output_type": "stream",
       "stream": "stdout",
       "text": [
        "\n",
        "Getting # 477: http://yosemite.epa.gov/oeca/webeis.nsf/EIS01/CBF0E9C31D4593C485257BEB001B9F0F"
       ]
      },
      {
       "output_type": "stream",
       "stream": "stdout",
       "text": [
        "\n",
        "Getting # 478: http://yosemite.epa.gov/oeca/webeis.nsf/EIS01/40FF102845E1A4BF85257BEB001B9F05"
       ]
      },
      {
       "output_type": "stream",
       "stream": "stdout",
       "text": [
        "\n",
        "Getting # 479: http://yosemite.epa.gov/oeca/webeis.nsf/EIS01/B56151FCC3FE785485257BEB001B9EF2"
       ]
      },
      {
       "output_type": "stream",
       "stream": "stdout",
       "text": [
        "\n",
        "Getting # 480: http://yosemite.epa.gov/oeca/webeis.nsf/EIS01/7CC1B8E412C0B15285257BEB001B9EEA"
       ]
      },
      {
       "output_type": "stream",
       "stream": "stdout",
       "text": [
        "\n",
        "Getting # 481: http://yosemite.epa.gov/oeca/webeis.nsf/EIS01/A5AC6F06C34825CD85257BEB001B9EF0"
       ]
      },
      {
       "output_type": "stream",
       "stream": "stdout",
       "text": [
        "\n",
        "Getting # 482: http://yosemite.epa.gov/oeca/webeis.nsf/EIS01/CC4C557E671601F985257BEB001B9EDD"
       ]
      },
      {
       "output_type": "stream",
       "stream": "stdout",
       "text": [
        "\n",
        "Getting # 483: http://yosemite.epa.gov/oeca/webeis.nsf/EIS01/F46EFA0B82AF9CD585257BEB001B9EFB"
       ]
      },
      {
       "output_type": "stream",
       "stream": "stdout",
       "text": [
        "\n",
        "Getting # 484: http://yosemite.epa.gov/oeca/webeis.nsf/EIS01/AA955657D88573BB85257BEB001B9ED3"
       ]
      },
      {
       "output_type": "stream",
       "stream": "stdout",
       "text": [
        "\n",
        "Getting # 485: http://yosemite.epa.gov/oeca/webeis.nsf/EIS01/B9BADAC1337EA5B585257BEB001B9ED9"
       ]
      },
      {
       "output_type": "stream",
       "stream": "stdout",
       "text": [
        "\n",
        "Getting # 486: http://yosemite.epa.gov/oeca/webeis.nsf/EIS01/01A24C539B69E41085257BEB001B9EAD"
       ]
      },
      {
       "output_type": "stream",
       "stream": "stdout",
       "text": [
        "\n",
        "Getting # 487: http://yosemite.epa.gov/oeca/webeis.nsf/EIS01/162858947916551D85257BEB001B9EB3"
       ]
      },
      {
       "output_type": "stream",
       "stream": "stdout",
       "text": [
        "\n",
        "Getting # 488: http://yosemite.epa.gov/oeca/webeis.nsf/EIS01/2B48BC90B21F79D985257BEB001B9EA2"
       ]
      },
      {
       "output_type": "stream",
       "stream": "stdout",
       "text": [
        "\n",
        "Getting # 489: http://yosemite.epa.gov/oeca/webeis.nsf/EIS01/7F5F2D11E9D3332E85257BEB001B9EBE"
       ]
      },
      {
       "output_type": "stream",
       "stream": "stdout",
       "text": [
        "\n",
        "Getting # 490: http://yosemite.epa.gov/oeca/webeis.nsf/EIS01/8FB6677C7026B1EA85257BEB001B9EB6"
       ]
      },
      {
       "output_type": "stream",
       "stream": "stdout",
       "text": [
        "\n",
        "Getting # 491: http://yosemite.epa.gov/oeca/webeis.nsf/EIS01/DAA1265CA12FB77085257BEB001B9EBA"
       ]
      },
      {
       "output_type": "stream",
       "stream": "stdout",
       "text": [
        "\n",
        "Getting # 492: http://yosemite.epa.gov/oeca/webeis.nsf/EIS01/F3D71BE50F761D9C85257BEB001B9EB0"
       ]
      },
      {
       "output_type": "stream",
       "stream": "stdout",
       "text": [
        "\n",
        "Getting # 493: http://yosemite.epa.gov/oeca/webeis.nsf/EIS01/04602BE894E98CCD85257BEB001B9EB2"
       ]
      },
      {
       "output_type": "stream",
       "stream": "stdout",
       "text": [
        "\n",
        "Getting # 494: http://yosemite.epa.gov/oeca/webeis.nsf/EIS01/CB0A51E204E3BA8085257BEB001B9EA1"
       ]
      },
      {
       "output_type": "stream",
       "stream": "stdout",
       "text": [
        "\n",
        "Getting # 495: http://yosemite.epa.gov/oeca/webeis.nsf/EIS01/B8FD10D5975FD40085257BEB001B9E97"
       ]
      },
      {
       "output_type": "stream",
       "stream": "stdout",
       "text": [
        "\n",
        "Getting # 496: http://yosemite.epa.gov/oeca/webeis.nsf/EIS01/6DA1274677D6CBA385257BEB001B9E92"
       ]
      },
      {
       "output_type": "stream",
       "stream": "stdout",
       "text": [
        "\n",
        "Getting # 497: http://yosemite.epa.gov/oeca/webeis.nsf/EIS01/EAE495D2802CD95785257BEB001B9E94"
       ]
      },
      {
       "output_type": "stream",
       "stream": "stdout",
       "text": [
        "\n",
        "Getting # 498: http://yosemite.epa.gov/oeca/webeis.nsf/EIS01/16251EEC0D76D8A285257BEB001B9E7B"
       ]
      },
      {
       "output_type": "stream",
       "stream": "stdout",
       "text": [
        "\n",
        "Getting # 499: http://yosemite.epa.gov/oeca/webeis.nsf/EIS01/4A19ECA7606F464585257BEB001B9E81"
       ]
      },
      {
       "output_type": "stream",
       "stream": "stdout",
       "text": [
        "\n",
        "Getting # 500: http://yosemite.epa.gov/oeca/webeis.nsf/EIS01/C9659CCA24F0163A85257BEB001B9E8C"
       ]
      },
      {
       "output_type": "stream",
       "stream": "stdout",
       "text": [
        "\n",
        "Getting # 501: http://yosemite.epa.gov/oeca/webeis.nsf/EIS01/F2741097EA0D9A3385257BEB001B9E78"
       ]
      },
      {
       "output_type": "stream",
       "stream": "stdout",
       "text": [
        "\n",
        "Getting # 502: http://yosemite.epa.gov/oeca/webeis.nsf/EIS01/A306905A73E9445285257BEB001B9E76"
       ]
      },
      {
       "output_type": "stream",
       "stream": "stdout",
       "text": [
        "\n",
        "Getting # 503: http://yosemite.epa.gov/oeca/webeis.nsf/EIS01/8F5036B435ED6AA885257BEB001B9E70"
       ]
      },
      {
       "output_type": "stream",
       "stream": "stdout",
       "text": [
        "\n",
        "Getting # 504: http://yosemite.epa.gov/oeca/webeis.nsf/EIS01/466C7914BFD8EC4F85257BEB001B9E73"
       ]
      },
      {
       "output_type": "stream",
       "stream": "stdout",
       "text": [
        "\n",
        "Getting # 505: http://yosemite.epa.gov/oeca/webeis.nsf/EIS01/0AF9F76682C7620785257BEB001B9E5F"
       ]
      },
      {
       "output_type": "stream",
       "stream": "stdout",
       "text": [
        "\n",
        "Getting # 506: http://yosemite.epa.gov/oeca/webeis.nsf/EIS01/9BED4C0CC9E5AC5285257BEB001B9E60"
       ]
      },
      {
       "output_type": "stream",
       "stream": "stdout",
       "text": [
        "\n",
        "Getting # 507: http://yosemite.epa.gov/oeca/webeis.nsf/EIS01/A8BB97EEFB73A15F85257BEB001B9E59"
       ]
      },
      {
       "output_type": "stream",
       "stream": "stdout",
       "text": [
        "\n",
        "Getting # 508: http://yosemite.epa.gov/oeca/webeis.nsf/EIS01/7861BA85BA2413C085257BEB001B9E33"
       ]
      },
      {
       "output_type": "stream",
       "stream": "stdout",
       "text": [
        "\n",
        "Getting # 509: http://yosemite.epa.gov/oeca/webeis.nsf/EIS01/9281A32D150358EE85257BEB001B9E35"
       ]
      },
      {
       "output_type": "stream",
       "stream": "stdout",
       "text": [
        "\n",
        "Getting # 510: http://yosemite.epa.gov/oeca/webeis.nsf/EIS01/C267FE7B1A05503185257BEB001B9E47"
       ]
      },
      {
       "output_type": "stream",
       "stream": "stdout",
       "text": [
        "\n",
        "Getting # 511: http://yosemite.epa.gov/oeca/webeis.nsf/EIS01/A20272CD10FAF3DE85257BEB001B9E17"
       ]
      },
      {
       "output_type": "stream",
       "stream": "stdout",
       "text": [
        "\n",
        "Getting # 512: http://yosemite.epa.gov/oeca/webeis.nsf/EIS01/F4F57FE5EF7421BE85257BEB001B9E2B"
       ]
      },
      {
       "output_type": "stream",
       "stream": "stdout",
       "text": [
        "\n",
        "Getting # 513: http://yosemite.epa.gov/oeca/webeis.nsf/EIS01/112B5A2A7F5F263285257BEB001B9E12"
       ]
      },
      {
       "output_type": "stream",
       "stream": "stdout",
       "text": [
        "\n",
        "Getting # 514: http://yosemite.epa.gov/oeca/webeis.nsf/EIS01/2078A9EB9131E97D85257BEB001B9E28"
       ]
      },
      {
       "output_type": "stream",
       "stream": "stdout",
       "text": [
        "\n",
        "Getting # 515: http://yosemite.epa.gov/oeca/webeis.nsf/EIS01/924AE01F48CD35D185257BEB001B9E19"
       ]
      },
      {
       "output_type": "stream",
       "stream": "stdout",
       "text": [
        "\n",
        "Getting # 516: http://yosemite.epa.gov/oeca/webeis.nsf/EIS01/B166C14D116D2C7285257BEB001B9E1D"
       ]
      },
      {
       "output_type": "stream",
       "stream": "stdout",
       "text": [
        "\n",
        "Getting # 517: http://yosemite.epa.gov/oeca/webeis.nsf/EIS01/E9DCD2ECE2441B3885257BEB001B9E1F"
       ]
      },
      {
       "output_type": "stream",
       "stream": "stdout",
       "text": [
        "\n",
        "Getting # 518: http://yosemite.epa.gov/oeca/webeis.nsf/EIS01/FA10615AB63AD1AD85257BEB001B9E24"
       ]
      },
      {
       "output_type": "stream",
       "stream": "stdout",
       "text": [
        "\n",
        "Getting # 519: http://yosemite.epa.gov/oeca/webeis.nsf/EIS01/200E1DCB3934972385257BEB001B9E11"
       ]
      },
      {
       "output_type": "stream",
       "stream": "stdout",
       "text": [
        "\n",
        "Getting # 520: http://yosemite.epa.gov/oeca/webeis.nsf/EIS01/2887B0A7AAC6C02985257BEB001B9E06"
       ]
      },
      {
       "output_type": "stream",
       "stream": "stdout",
       "text": [
        "\n",
        "Getting # 521: http://yosemite.epa.gov/oeca/webeis.nsf/EIS01/CECA4D968F184CF185257BEB001B9DF9"
       ]
      },
      {
       "output_type": "stream",
       "stream": "stdout",
       "text": [
        "\n",
        "Getting # 522: http://yosemite.epa.gov/oeca/webeis.nsf/EIS01/E1D5A03F3A9023A385257BEB001B9DEA"
       ]
      },
      {
       "output_type": "stream",
       "stream": "stdout",
       "text": [
        "\n",
        "Getting # 523: http://yosemite.epa.gov/oeca/webeis.nsf/EIS01/005AC8B36D41058885257BEB001B9DD5"
       ]
      },
      {
       "output_type": "stream",
       "stream": "stdout",
       "text": [
        "\n",
        "Getting # 524: http://yosemite.epa.gov/oeca/webeis.nsf/EIS01/89C31184C71FDA8E85257BEB001B9DDA"
       ]
      },
      {
       "output_type": "stream",
       "stream": "stdout",
       "text": [
        "\n",
        "Getting # 525: http://yosemite.epa.gov/oeca/webeis.nsf/EIS01/8878E565528404E785257BEB001B9DE0"
       ]
      },
      {
       "output_type": "stream",
       "stream": "stdout",
       "text": [
        "\n",
        "Getting # 526: http://yosemite.epa.gov/oeca/webeis.nsf/EIS01/A7EDB5F468B5068885257BEB001B9DED"
       ]
      },
      {
       "output_type": "stream",
       "stream": "stdout",
       "text": [
        "\n",
        "Getting # 527: http://yosemite.epa.gov/oeca/webeis.nsf/EIS01/BB1D4A7FB461A01985257BEB001B9DE2"
       ]
      },
      {
       "output_type": "stream",
       "stream": "stdout",
       "text": [
        "\n",
        "Getting # 528: http://yosemite.epa.gov/oeca/webeis.nsf/EIS01/BAF4876452502BFA85257BEB001B9DEB"
       ]
      },
      {
       "output_type": "stream",
       "stream": "stdout",
       "text": [
        "\n",
        "Getting # 529: http://yosemite.epa.gov/oeca/webeis.nsf/EIS01/E164E7B1A0DAAC8985257BEB001B9DD9"
       ]
      },
      {
       "output_type": "stream",
       "stream": "stdout",
       "text": [
        "\n",
        "Getting # 530: http://yosemite.epa.gov/oeca/webeis.nsf/EIS01/0C21460C319C6E2685257BEB001B9DA7"
       ]
      },
      {
       "output_type": "stream",
       "stream": "stdout",
       "text": [
        "\n",
        "Getting # 531: http://yosemite.epa.gov/oeca/webeis.nsf/EIS01/177244EB4363070785257BEB001B9DC0"
       ]
      },
      {
       "output_type": "stream",
       "stream": "stdout",
       "text": [
        "\n",
        "Getting # 532: http://yosemite.epa.gov/oeca/webeis.nsf/EIS01/16A0D2AB0CFA145885257BEB001B9DA5"
       ]
      },
      {
       "output_type": "stream",
       "stream": "stdout",
       "text": [
        "\n",
        "Getting # 533: http://yosemite.epa.gov/oeca/webeis.nsf/EIS01/54E4FFCE048ACE4285257BEB001B9DD4"
       ]
      },
      {
       "output_type": "stream",
       "stream": "stdout",
       "text": [
        "\n",
        "Getting # 534: http://yosemite.epa.gov/oeca/webeis.nsf/EIS01/7314A743A3078DF085257BEB001B9DBB"
       ]
      },
      {
       "output_type": "stream",
       "stream": "stdout",
       "text": [
        "\n",
        "Getting # 535: http://yosemite.epa.gov/oeca/webeis.nsf/EIS01/927B2C5FADBD23E885257BEB001B9DC1"
       ]
      },
      {
       "output_type": "stream",
       "stream": "stdout",
       "text": [
        "\n",
        "Getting # 536: http://yosemite.epa.gov/oeca/webeis.nsf/EIS01/AC00833E2D1BED2085257BEB001B9DB9"
       ]
      },
      {
       "output_type": "stream",
       "stream": "stdout",
       "text": [
        "\n",
        "Getting # 537: http://yosemite.epa.gov/oeca/webeis.nsf/EIS01/AAB1EBA1FEC4D1D285257BEB001B9DA8"
       ]
      },
      {
       "output_type": "stream",
       "stream": "stdout",
       "text": [
        "\n",
        "Getting # 538: http://yosemite.epa.gov/oeca/webeis.nsf/EIS01/EA022F6DC68B036685257BEB001B9DAE"
       ]
      },
      {
       "output_type": "stream",
       "stream": "stdout",
       "text": [
        "\n",
        "Getting # 539: http://yosemite.epa.gov/oeca/webeis.nsf/EIS01/DC30020873D58C3685257BEB001B9D91"
       ]
      },
      {
       "output_type": "stream",
       "stream": "stdout",
       "text": [
        "\n",
        "Getting # 540: http://yosemite.epa.gov/oeca/webeis.nsf/EIS01/2ED76F0BDCD553B785257BEB001B9D87"
       ]
      },
      {
       "output_type": "stream",
       "stream": "stdout",
       "text": [
        "\n",
        "Getting # 541: http://yosemite.epa.gov/oeca/webeis.nsf/EIS01/5416D501EE0B8BD985257BEB001B9D9F"
       ]
      },
      {
       "output_type": "stream",
       "stream": "stdout",
       "text": [
        "\n",
        "Getting # 542: http://yosemite.epa.gov/oeca/webeis.nsf/EIS01/8C098364F7184B1585257BEB001B9D9A"
       ]
      },
      {
       "output_type": "stream",
       "stream": "stdout",
       "text": [
        "\n",
        "Getting # 543: http://yosemite.epa.gov/oeca/webeis.nsf/EIS01/BEE21DB3D48DC7D085257BEB001B9D98"
       ]
      },
      {
       "output_type": "stream",
       "stream": "stdout",
       "text": [
        "\n",
        "Getting # 544: http://yosemite.epa.gov/oeca/webeis.nsf/EIS01/C2B43F9ADA8F8CF985257BEB001B9D8E"
       ]
      },
      {
       "output_type": "stream",
       "stream": "stdout",
       "text": [
        "\n",
        "Getting # 545: http://yosemite.epa.gov/oeca/webeis.nsf/EIS01/D9B3D88967ADFB8885257BEB001B9D7E"
       ]
      },
      {
       "output_type": "stream",
       "stream": "stdout",
       "text": [
        "\n",
        "Getting # 546: http://yosemite.epa.gov/oeca/webeis.nsf/EIS01/5A1BB476740B9DF485257BEB001B9D71"
       ]
      },
      {
       "output_type": "stream",
       "stream": "stdout",
       "text": [
        "\n",
        "Getting # 547: http://yosemite.epa.gov/oeca/webeis.nsf/EIS01/9F80A0FA581DC5C785257BEB001B9D7B"
       ]
      },
      {
       "output_type": "stream",
       "stream": "stdout",
       "text": [
        "\n",
        "Getting # 548: http://yosemite.epa.gov/oeca/webeis.nsf/EIS01/28456FBAA24965B785257BEB001B9D5D"
       ]
      },
      {
       "output_type": "stream",
       "stream": "stdout",
       "text": [
        "\n",
        "Getting # 549: http://yosemite.epa.gov/oeca/webeis.nsf/EIS01/566AC6045C1574B185257BEB001B9D60"
       ]
      },
      {
       "output_type": "stream",
       "stream": "stdout",
       "text": [
        "\n",
        "Getting # 550: http://yosemite.epa.gov/oeca/webeis.nsf/EIS01/C0DF6D5E3EDF625985257BEB001B9D65"
       ]
      },
      {
       "output_type": "stream",
       "stream": "stdout",
       "text": [
        "\n",
        "Getting # 551: http://yosemite.epa.gov/oeca/webeis.nsf/EIS01/06A40727F0E8AA9485257BEB001B9D5C"
       ]
      },
      {
       "output_type": "stream",
       "stream": "stdout",
       "text": [
        "\n",
        "Getting # 552: http://yosemite.epa.gov/oeca/webeis.nsf/EIS01/49A26A4D87BC0A3E85257BEB001B9D3B"
       ]
      },
      {
       "output_type": "stream",
       "stream": "stdout",
       "text": [
        "\n",
        "Getting # 553: http://yosemite.epa.gov/oeca/webeis.nsf/EIS01/81DB292776725D2785257BEB001B9D51"
       ]
      },
      {
       "output_type": "stream",
       "stream": "stdout",
       "text": [
        "\n",
        "Getting # 554: http://yosemite.epa.gov/oeca/webeis.nsf/EIS01/D4D792B3D421946085257BEB001B9D44"
       ]
      },
      {
       "output_type": "stream",
       "stream": "stdout",
       "text": [
        "\n",
        "Getting # 555: http://yosemite.epa.gov/oeca/webeis.nsf/EIS01/FE0A93ED7D8C05DD85257BEB001B9D31"
       ]
      },
      {
       "output_type": "stream",
       "stream": "stdout",
       "text": [
        "\n",
        "Getting # 556: http://yosemite.epa.gov/oeca/webeis.nsf/EIS01/49B753F6E4D03A7885257BEB001B9D2A"
       ]
      },
      {
       "output_type": "stream",
       "stream": "stdout",
       "text": [
        "\n",
        "Getting # 557: http://yosemite.epa.gov/oeca/webeis.nsf/EIS01/4FAEC7AD9B54508B85257BEB001B9D25"
       ]
      },
      {
       "output_type": "stream",
       "stream": "stdout",
       "text": [
        "\n",
        "Getting # 558: http://yosemite.epa.gov/oeca/webeis.nsf/EIS01/B6E75BE7BED6E0A085257BEB001B9D0A"
       ]
      },
      {
       "output_type": "stream",
       "stream": "stdout",
       "text": [
        "\n",
        "Getting # 559: http://yosemite.epa.gov/oeca/webeis.nsf/EIS01/310A4C803AE57E8185257BEB001B9D22"
       ]
      },
      {
       "output_type": "stream",
       "stream": "stdout",
       "text": [
        "\n",
        "Getting # 560: http://yosemite.epa.gov/oeca/webeis.nsf/EIS01/C30FD33E5384CF3A85257BEB001B9CFC"
       ]
      },
      {
       "output_type": "stream",
       "stream": "stdout",
       "text": [
        "\n",
        "Getting # 561: http://yosemite.epa.gov/oeca/webeis.nsf/EIS01/FE6DF53EB1CBED4085257BEB001B9D0F"
       ]
      },
      {
       "output_type": "stream",
       "stream": "stdout",
       "text": [
        "\n",
        "Getting # 562: http://yosemite.epa.gov/oeca/webeis.nsf/EIS01/FBD9CA2038C35BC685257B000020FDBE"
       ]
      },
      {
       "output_type": "stream",
       "stream": "stdout",
       "text": [
        "\n",
        "Getting # 563: http://yosemite.epa.gov/oeca/webeis.nsf/EIS01/60C9486F989BA2CC85257BEB001B9CDD"
       ]
      },
      {
       "output_type": "stream",
       "stream": "stdout",
       "text": [
        "\n",
        "Getting # 564: http://yosemite.epa.gov/oeca/webeis.nsf/EIS01/8232891020C3653785257BEB001B9CE8"
       ]
      },
      {
       "output_type": "stream",
       "stream": "stdout",
       "text": [
        "\n",
        "Getting # 565: http://yosemite.epa.gov/oeca/webeis.nsf/EIS01/B2B46193DD270F9485257BEB001B9CF0"
       ]
      },
      {
       "output_type": "stream",
       "stream": "stdout",
       "text": [
        "\n",
        "Getting # 566: http://yosemite.epa.gov/oeca/webeis.nsf/EIS01/B173D0E0E79876B585257BEB001B9CEE"
       ]
      },
      {
       "output_type": "stream",
       "stream": "stdout",
       "text": [
        "\n",
        "Getting # 567: http://yosemite.epa.gov/oeca/webeis.nsf/EIS01/C4F9D1D8E73CEC5385257BEB001B9CF4"
       ]
      },
      {
       "output_type": "stream",
       "stream": "stdout",
       "text": [
        "\n",
        "Getting # 568: http://yosemite.epa.gov/oeca/webeis.nsf/EIS01/D0DA225D67957A0585257BEB001B9CE9"
       ]
      },
      {
       "output_type": "stream",
       "stream": "stdout",
       "text": [
        "\n",
        "Getting # 569: http://yosemite.epa.gov/oeca/webeis.nsf/EIS01/E408E76CE389ECF185257BEB001B9CE5"
       ]
      },
      {
       "output_type": "stream",
       "stream": "stdout",
       "text": [
        "\n",
        "Getting # 570: http://yosemite.epa.gov/oeca/webeis.nsf/EIS01/D8C8D36B619C2C7485257B000020FDBC"
       ]
      },
      {
       "output_type": "stream",
       "stream": "stdout",
       "text": [
        "\n",
        "Getting # 571: http://yosemite.epa.gov/oeca/webeis.nsf/EIS01/2122E1C9C6B4C54185257BEB001B9CCF"
       ]
      },
      {
       "output_type": "stream",
       "stream": "stdout",
       "text": [
        "\n",
        "Getting # 572: http://yosemite.epa.gov/oeca/webeis.nsf/EIS01/582CD46F77FFFBD885257BEB001B9CCD"
       ]
      },
      {
       "output_type": "stream",
       "stream": "stdout",
       "text": [
        "\n",
        "Getting # 573: http://yosemite.epa.gov/oeca/webeis.nsf/EIS01/6A4A9EC97A161DF785257BEB001B9CC9"
       ]
      },
      {
       "output_type": "stream",
       "stream": "stdout",
       "text": [
        "\n",
        "Getting # 574: http://yosemite.epa.gov/oeca/webeis.nsf/EIS01/B189ACE90ECAF27C85257BEB001B9CBF"
       ]
      },
      {
       "output_type": "stream",
       "stream": "stdout",
       "text": [
        "\n",
        "Getting # 575: http://yosemite.epa.gov/oeca/webeis.nsf/EIS01/8375807A2314C0AA85257BEB001B9CC1"
       ]
      },
      {
       "output_type": "stream",
       "stream": "stdout",
       "text": [
        "\n",
        "Getting # 576: http://yosemite.epa.gov/oeca/webeis.nsf/EIS01/55B0B22F7388923E85257BEB001B9C8C"
       ]
      },
      {
       "output_type": "stream",
       "stream": "stdout",
       "text": [
        "\n",
        "Getting # 577: http://yosemite.epa.gov/oeca/webeis.nsf/EIS01/78633DCDDE4D2E1C85257BEB001B9C97"
       ]
      },
      {
       "output_type": "stream",
       "stream": "stdout",
       "text": [
        "\n",
        "Getting # 578: http://yosemite.epa.gov/oeca/webeis.nsf/EIS01/12E18E3BBCFD9F5785257BEB001B9C98"
       ]
      },
      {
       "output_type": "stream",
       "stream": "stdout",
       "text": [
        "\n",
        "Getting # 579: http://yosemite.epa.gov/oeca/webeis.nsf/EIS01/180838FC0BC6D44E85257BEB001B9C8A"
       ]
      },
      {
       "output_type": "stream",
       "stream": "stdout",
       "text": [
        "\n",
        "Getting # 580: http://yosemite.epa.gov/oeca/webeis.nsf/EIS01/29BF34D31C771AC085257BEB001B9C73"
       ]
      },
      {
       "output_type": "stream",
       "stream": "stdout",
       "text": [
        "\n",
        "Getting # 581: http://yosemite.epa.gov/oeca/webeis.nsf/EIS01/6D37084F07FF3DF785257BEB001B9C76"
       ]
      },
      {
       "output_type": "stream",
       "stream": "stdout",
       "text": [
        "\n",
        "Getting # 582: http://yosemite.epa.gov/oeca/webeis.nsf/EIS01/FB4121602369772485257BEB001B9C77"
       ]
      },
      {
       "output_type": "stream",
       "stream": "stdout",
       "text": [
        "\n",
        "Getting # 583: http://yosemite.epa.gov/oeca/webeis.nsf/EIS01/19EB2C66990EEECF85257BEB001B9C6E"
       ]
      },
      {
       "output_type": "stream",
       "stream": "stdout",
       "text": [
        "\n",
        "Getting # 584: http://yosemite.epa.gov/oeca/webeis.nsf/EIS01/554E2F88D1D1F37785257BEB001B9C68"
       ]
      },
      {
       "output_type": "stream",
       "stream": "stdout",
       "text": [
        "\n",
        "Getting # 585: http://yosemite.epa.gov/oeca/webeis.nsf/EIS01/E4488F7E28279EAD85257BEB001B9C66"
       ]
      },
      {
       "output_type": "stream",
       "stream": "stdout",
       "text": [
        "\n",
        "Getting # 586: http://yosemite.epa.gov/oeca/webeis.nsf/EIS01/598F037C0C50A31185257BEB001B9C6B"
       ]
      },
      {
       "output_type": "stream",
       "stream": "stdout",
       "text": [
        "\n",
        "Getting # 587: http://yosemite.epa.gov/oeca/webeis.nsf/EIS01/8A3B24BE9B33598485257BEB001B9C37"
       ]
      },
      {
       "output_type": "stream",
       "stream": "stdout",
       "text": [
        "\n",
        "Getting # 588: http://yosemite.epa.gov/oeca/webeis.nsf/EIS01/22B3B3D777C40E5585257BEB001B9C41"
       ]
      },
      {
       "output_type": "stream",
       "stream": "stdout",
       "text": [
        "\n",
        "Getting # 589: http://yosemite.epa.gov/oeca/webeis.nsf/EIS01/3C67765A35D53E6A85257BEB001B9C36"
       ]
      },
      {
       "output_type": "stream",
       "stream": "stdout",
       "text": [
        "\n",
        "Getting # 590: http://yosemite.epa.gov/oeca/webeis.nsf/EIS01/12454479D1B5935085257BEB001B9C13"
       ]
      },
      {
       "output_type": "stream",
       "stream": "stdout",
       "text": [
        "\n",
        "Getting # 591: http://yosemite.epa.gov/oeca/webeis.nsf/EIS01/4FD5960C5515140085257BEB001B9C28"
       ]
      },
      {
       "output_type": "stream",
       "stream": "stdout",
       "text": [
        "\n",
        "Getting # 592: http://yosemite.epa.gov/oeca/webeis.nsf/EIS01/61461C5FBC0A6E9685257BEB001B9C1E"
       ]
      },
      {
       "output_type": "stream",
       "stream": "stdout",
       "text": [
        "\n",
        "Getting # 593: http://yosemite.epa.gov/oeca/webeis.nsf/EIS01/FD3AA5845F334FFC85257BEB001B9C17"
       ]
      },
      {
       "output_type": "stream",
       "stream": "stdout",
       "text": [
        "\n",
        "Getting # 594: http://yosemite.epa.gov/oeca/webeis.nsf/EIS01/A687B64BCAEBB85385257BEB001B9BFE"
       ]
      },
      {
       "output_type": "stream",
       "stream": "stdout",
       "text": [
        "\n",
        "Getting # 595: http://yosemite.epa.gov/oeca/webeis.nsf/EIS01/02B9CF74D3CDF5EF85257BEB001B9C02"
       ]
      },
      {
       "output_type": "stream",
       "stream": "stdout",
       "text": [
        "\n",
        "Getting # 596: http://yosemite.epa.gov/oeca/webeis.nsf/EIS01/C69254AD0DD6091785257BEB001B9BF4"
       ]
      },
      {
       "output_type": "stream",
       "stream": "stdout",
       "text": [
        "\n",
        "Getting # 597: http://yosemite.epa.gov/oeca/webeis.nsf/EIS01/9EDF8667444A638B85257BEB001B9BEF"
       ]
      },
      {
       "output_type": "stream",
       "stream": "stdout",
       "text": [
        "\n",
        "Getting # 598: http://yosemite.epa.gov/oeca/webeis.nsf/EIS01/9F73288BCFFAE30785257BEB001B9BE0"
       ]
      },
      {
       "output_type": "stream",
       "stream": "stdout",
       "text": [
        "\n",
        "Getting # 599: http://yosemite.epa.gov/oeca/webeis.nsf/EIS01/B3C54513F0B0314885257BEB001B9BD2"
       ]
      },
      {
       "output_type": "stream",
       "stream": "stdout",
       "text": [
        "\n",
        "Getting # 600: http://yosemite.epa.gov/oeca/webeis.nsf/EIS01/2205311FCC5ABD7185257BEB001B9BE1"
       ]
      },
      {
       "output_type": "stream",
       "stream": "stdout",
       "text": [
        "\n",
        "Getting # 601: http://yosemite.epa.gov/oeca/webeis.nsf/EIS01/807D9DB82E6F772B85257BEB001B9AE7"
       ]
      },
      {
       "output_type": "stream",
       "stream": "stdout",
       "text": [
        "\n",
        "Getting # 602: http://yosemite.epa.gov/oeca/webeis.nsf/EIS01/E96510B8D7E612D085257BEB001B9BD8"
       ]
      },
      {
       "output_type": "stream",
       "stream": "stdout",
       "text": [
        "\n",
        "Getting # 603: http://yosemite.epa.gov/oeca/webeis.nsf/EIS01/F11499D68B1FB08685257BEB001B9BCF"
       ]
      },
      {
       "output_type": "stream",
       "stream": "stdout",
       "text": [
        "\n",
        "Getting # 604: http://yosemite.epa.gov/oeca/webeis.nsf/EIS01/E7B8D9666E2A322185257B000020FDA6"
       ]
      },
      {
       "output_type": "stream",
       "stream": "stdout",
       "text": [
        "\n",
        "Getting # 605: http://yosemite.epa.gov/oeca/webeis.nsf/EIS01/1BAC831011054C3485257BEB001B9BAE"
       ]
      },
      {
       "output_type": "stream",
       "stream": "stdout",
       "text": [
        "\n",
        "Getting # 606: http://yosemite.epa.gov/oeca/webeis.nsf/EIS01/43E0BBA1BFF7107A85257BEB001B9BC8"
       ]
      },
      {
       "output_type": "stream",
       "stream": "stdout",
       "text": [
        "\n",
        "Getting # 607: http://yosemite.epa.gov/oeca/webeis.nsf/EIS01/A66FF370025624FF85257BEB001B9BBA"
       ]
      },
      {
       "output_type": "stream",
       "stream": "stdout",
       "text": [
        "\n",
        "Getting # 608: http://yosemite.epa.gov/oeca/webeis.nsf/EIS01/B0A1362CBB09651985257BEB001B9BB4"
       ]
      },
      {
       "output_type": "stream",
       "stream": "stdout",
       "text": [
        "\n",
        "Getting # 609: http://yosemite.epa.gov/oeca/webeis.nsf/EIS01/A803D87C49F4F2CE85257BEB001B9BA1"
       ]
      },
      {
       "output_type": "stream",
       "stream": "stdout",
       "text": [
        "\n",
        "Getting # 610: http://yosemite.epa.gov/oeca/webeis.nsf/EIS01/CC8376538387716385257BEB001B9BA4"
       ]
      },
      {
       "output_type": "stream",
       "stream": "stdout",
       "text": [
        "\n",
        "Getting # 611: http://yosemite.epa.gov/oeca/webeis.nsf/EIS01/3CE87436E968980785257BEB001B9B82"
       ]
      },
      {
       "output_type": "stream",
       "stream": "stdout",
       "text": [
        "\n",
        "Getting # 612: http://yosemite.epa.gov/oeca/webeis.nsf/EIS01/F0584B71DF35EDD285257BEB001B9BA3"
       ]
      },
      {
       "output_type": "stream",
       "stream": "stdout",
       "text": [
        "\n",
        "Getting # 613: http://yosemite.epa.gov/oeca/webeis.nsf/EIS01/B8C1931DBF93342885257BEB001B9B77"
       ]
      },
      {
       "output_type": "stream",
       "stream": "stdout",
       "text": [
        "\n",
        "Getting # 614: http://yosemite.epa.gov/oeca/webeis.nsf/EIS01/D46DFE53C1353D7F85257BEB001B9B7F"
       ]
      },
      {
       "output_type": "stream",
       "stream": "stdout",
       "text": [
        "\n",
        "Getting # 615: http://yosemite.epa.gov/oeca/webeis.nsf/EIS01/FD6E956EB083D87385257BEB001B9B7A"
       ]
      },
      {
       "output_type": "stream",
       "stream": "stdout",
       "text": [
        "\n",
        "Getting # 616: http://yosemite.epa.gov/oeca/webeis.nsf/EIS01/0A4B527CED6943A785257BEB001B9B6E"
       ]
      },
      {
       "output_type": "stream",
       "stream": "stdout",
       "text": [
        "\n",
        "Getting # 617: http://yosemite.epa.gov/oeca/webeis.nsf/EIS01/C20510030361C7F085257BEB001B9B76"
       ]
      },
      {
       "output_type": "stream",
       "stream": "stdout",
       "text": [
        "\n",
        "Getting # 618: http://yosemite.epa.gov/oeca/webeis.nsf/EIS01/B19715AC12E4EFBB85257BEB001B9B63"
       ]
      },
      {
       "output_type": "stream",
       "stream": "stdout",
       "text": [
        "\n",
        "Getting # 619: http://yosemite.epa.gov/oeca/webeis.nsf/EIS01/A0159A93F28461A085257BEB001B9B5D"
       ]
      },
      {
       "output_type": "stream",
       "stream": "stdout",
       "text": [
        "\n",
        "Getting # 620: http://yosemite.epa.gov/oeca/webeis.nsf/EIS01/3D988B08299381C685257BEB001B9B56"
       ]
      },
      {
       "output_type": "stream",
       "stream": "stdout",
       "text": [
        "\n",
        "Getting # 621: http://yosemite.epa.gov/oeca/webeis.nsf/EIS01/9BC8D4535F1A4C3C85257BEB001B9B4F"
       ]
      },
      {
       "output_type": "stream",
       "stream": "stdout",
       "text": [
        "\n",
        "Getting # 622: http://yosemite.epa.gov/oeca/webeis.nsf/EIS01/E75073272D9DB78485257BEB001B9B44"
       ]
      },
      {
       "output_type": "stream",
       "stream": "stdout",
       "text": [
        "\n",
        "Getting # 623: http://yosemite.epa.gov/oeca/webeis.nsf/EIS01/7F8B66AE0E4EB7FA85257BEB001B9B21"
       ]
      },
      {
       "output_type": "stream",
       "stream": "stdout",
       "text": [
        "\n",
        "Getting # 624: http://yosemite.epa.gov/oeca/webeis.nsf/EIS01/A18BE74FA78C83F885257BEB001B9B2C"
       ]
      },
      {
       "output_type": "stream",
       "stream": "stdout",
       "text": [
        "\n",
        "Getting # 625: http://yosemite.epa.gov/oeca/webeis.nsf/EIS01/CDA2342D08CF1F7D85257BEB001B9B31"
       ]
      },
      {
       "output_type": "stream",
       "stream": "stdout",
       "text": [
        "\n",
        "Getting # 626: http://yosemite.epa.gov/oeca/webeis.nsf/EIS01/BE6094460040A81185257BEB001B9B3A"
       ]
      },
      {
       "output_type": "stream",
       "stream": "stdout",
       "text": [
        "\n",
        "Getting # 627: http://yosemite.epa.gov/oeca/webeis.nsf/EIS01/6841483B18A3EB7B85257BEB001B9B2B"
       ]
      },
      {
       "output_type": "stream",
       "stream": "stdout",
       "text": [
        "\n",
        "Getting # 628: http://yosemite.epa.gov/oeca/webeis.nsf/EIS01/82DDCAFFA15DFABA85257BEB001B9B20"
       ]
      },
      {
       "output_type": "stream",
       "stream": "stdout",
       "text": [
        "\n",
        "Getting # 629: http://yosemite.epa.gov/oeca/webeis.nsf/EIS01/D8B684EE6BE0034F85257BEB001B9B3D"
       ]
      },
      {
       "output_type": "stream",
       "stream": "stdout",
       "text": [
        "\n",
        "Getting # 630: http://yosemite.epa.gov/oeca/webeis.nsf/EIS01/E34474D561E1EE4E85257BEB001B9B2E"
       ]
      },
      {
       "output_type": "stream",
       "stream": "stdout",
       "text": [
        "\n",
        "Getting # 631: http://yosemite.epa.gov/oeca/webeis.nsf/EIS01/F3A31543D2363FE885257BEB001B9B37"
       ]
      },
      {
       "output_type": "stream",
       "stream": "stdout",
       "text": [
        "\n",
        "Getting # 632: http://yosemite.epa.gov/oeca/webeis.nsf/EIS01/009C5CA7698716BD85257BEB001B9B12"
       ]
      },
      {
       "output_type": "stream",
       "stream": "stdout",
       "text": [
        "\n",
        "Getting # 633: http://yosemite.epa.gov/oeca/webeis.nsf/EIS01/2C6F562B341F256E85257BEB001B9B0D"
       ]
      },
      {
       "output_type": "stream",
       "stream": "stdout",
       "text": [
        "\n",
        "Getting # 634: http://yosemite.epa.gov/oeca/webeis.nsf/EIS01/0C2D5A9F1F9CECAF85257BEB001B9AEC"
       ]
      },
      {
       "output_type": "stream",
       "stream": "stdout",
       "text": [
        "\n",
        "Getting # 635: http://yosemite.epa.gov/oeca/webeis.nsf/EIS01/17AE7E3D4945106185257BEB001B9AF2"
       ]
      },
      {
       "output_type": "stream",
       "stream": "stdout",
       "text": [
        "\n",
        "Getting # 636: http://yosemite.epa.gov/oeca/webeis.nsf/EIS01/17DF057B06432C9785257BEB001B9B07"
       ]
      },
      {
       "output_type": "stream",
       "stream": "stdout",
       "text": [
        "\n",
        "Getting # 637: http://yosemite.epa.gov/oeca/webeis.nsf/EIS01/3D6682BBF486084A85257BEB001B9AFA"
       ]
      },
      {
       "output_type": "stream",
       "stream": "stdout",
       "text": [
        "\n",
        "Getting # 638: http://yosemite.epa.gov/oeca/webeis.nsf/EIS01/62FC781397CDE35485257BEB001B9AE3"
       ]
      },
      {
       "output_type": "stream",
       "stream": "stdout",
       "text": [
        "\n",
        "Getting # 639: http://yosemite.epa.gov/oeca/webeis.nsf/EIS01/97E635BBEFE0ECFF85257BEB001B9AF5"
       ]
      },
      {
       "output_type": "stream",
       "stream": "stdout",
       "text": [
        "\n",
        "Getting # 640: http://yosemite.epa.gov/oeca/webeis.nsf/EIS01/F05D24EE5DE7EA0F85257BEB001B9AFF"
       ]
      },
      {
       "output_type": "stream",
       "stream": "stdout",
       "text": [
        "\n",
        "Getting # 641: http://yosemite.epa.gov/oeca/webeis.nsf/EIS01/00B0F6797BBDB3D585257BEB001B9AB1"
       ]
      },
      {
       "output_type": "stream",
       "stream": "stdout",
       "text": [
        "\n",
        "Getting # 642: http://yosemite.epa.gov/oeca/webeis.nsf/EIS01/0F9A29026830772685257BEB001B9AC7"
       ]
      },
      {
       "output_type": "stream",
       "stream": "stdout",
       "text": [
        "\n",
        "Getting # 643: http://yosemite.epa.gov/oeca/webeis.nsf/EIS01/10F137F73A63718E85257BEB001B9AB2"
       ]
      },
      {
       "output_type": "stream",
       "stream": "stdout",
       "text": [
        "\n",
        "Getting # 644: http://yosemite.epa.gov/oeca/webeis.nsf/EIS01/88BCD19A8802894B85257BEB001B9ACA"
       ]
      },
      {
       "output_type": "stream",
       "stream": "stdout",
       "text": [
        "\n",
        "Getting # 645: http://yosemite.epa.gov/oeca/webeis.nsf/EIS01/BF804ED4B0A1E1BF85257B000020FDA1"
       ]
      },
      {
       "output_type": "stream",
       "stream": "stdout",
       "text": [
        "\n",
        "Getting # 646: http://yosemite.epa.gov/oeca/webeis.nsf/EIS01/E58DB3A3B983DD8185257BEB001B9A96"
       ]
      },
      {
       "output_type": "stream",
       "stream": "stdout",
       "text": [
        "\n",
        "Getting # 647: http://yosemite.epa.gov/oeca/webeis.nsf/EIS01/F1FE7F81F79B622F85257BEB001B9A8B"
       ]
      },
      {
       "output_type": "stream",
       "stream": "stdout",
       "text": [
        "\n",
        "Getting # 648: http://yosemite.epa.gov/oeca/webeis.nsf/EIS01/4C4259D186E57C8E85257BEB001B9A9C"
       ]
      },
      {
       "output_type": "stream",
       "stream": "stdout",
       "text": [
        "\n",
        "Getting # 649: http://yosemite.epa.gov/oeca/webeis.nsf/EIS01/3DE7C494A335021485257BEB001B9A9E"
       ]
      },
      {
       "output_type": "stream",
       "stream": "stdout",
       "text": [
        "\n",
        "Getting # 650: http://yosemite.epa.gov/oeca/webeis.nsf/EIS01/D65CE0D5888B222185257BEB001B9AAF"
       ]
      },
      {
       "output_type": "stream",
       "stream": "stdout",
       "text": [
        "\n",
        "Getting # 651: http://yosemite.epa.gov/oeca/webeis.nsf/EIS01/0B9DC0B257F64E7585257BEB001B9A7D"
       ]
      },
      {
       "output_type": "stream",
       "stream": "stdout",
       "text": [
        "\n",
        "Getting # 652: http://yosemite.epa.gov/oeca/webeis.nsf/EIS01/3988F817BAD387C385257BEB001B9A85"
       ]
      },
      {
       "output_type": "stream",
       "stream": "stdout",
       "text": [
        "\n",
        "Getting # 653: http://yosemite.epa.gov/oeca/webeis.nsf/EIS01/C25E36D1FCC6BA7385257BEB001B9A88"
       ]
      },
      {
       "output_type": "stream",
       "stream": "stdout",
       "text": [
        "\n",
        "Getting # 654: http://yosemite.epa.gov/oeca/webeis.nsf/EIS01/F494043699630D9E85257BEB001B9A78"
       ]
      },
      {
       "output_type": "stream",
       "stream": "stdout",
       "text": [
        "\n",
        "Getting # 655: http://yosemite.epa.gov/oeca/webeis.nsf/EIS01/6D00F1F784F08F4085257BEB001B9A5E"
       ]
      },
      {
       "output_type": "stream",
       "stream": "stdout",
       "text": [
        "\n",
        "Getting # 656: http://yosemite.epa.gov/oeca/webeis.nsf/EIS01/AB17D404045D866C85257BEB001B9A51"
       ]
      },
      {
       "output_type": "stream",
       "stream": "stdout",
       "text": [
        "\n",
        "Getting # 657: http://yosemite.epa.gov/oeca/webeis.nsf/EIS01/A3163DFE3D4F007585257BEB001B9A59"
       ]
      },
      {
       "output_type": "stream",
       "stream": "stdout",
       "text": [
        "\n",
        "Getting # 658: http://yosemite.epa.gov/oeca/webeis.nsf/EIS01/896687903461618C85257BEB001B9A29"
       ]
      },
      {
       "output_type": "stream",
       "stream": "stdout",
       "text": [
        "\n",
        "Getting # 659: http://yosemite.epa.gov/oeca/webeis.nsf/EIS01/8D68A6DC93B72D5B85257BEB001B9A46"
       ]
      },
      {
       "output_type": "stream",
       "stream": "stdout",
       "text": [
        "\n",
        "Getting # 660: http://yosemite.epa.gov/oeca/webeis.nsf/EIS01/9843583F22A2B67585257BEB001B9A37"
       ]
      },
      {
       "output_type": "stream",
       "stream": "stdout",
       "text": [
        "\n",
        "Getting # 661: http://yosemite.epa.gov/oeca/webeis.nsf/EIS01/DF5DB5F0BAEBE1C185257BEB001B9A3D"
       ]
      },
      {
       "output_type": "stream",
       "stream": "stdout",
       "text": [
        "\n",
        "Getting # 662: http://yosemite.epa.gov/oeca/webeis.nsf/EIS01/E5E0DC6372716C4A85257BEB001B9A4A"
       ]
      },
      {
       "output_type": "stream",
       "stream": "stdout",
       "text": [
        "\n",
        "Getting # 663: http://yosemite.epa.gov/oeca/webeis.nsf/EIS01/EFBDC5EE24375ACE85257BEB001B9A4E"
       ]
      },
      {
       "output_type": "stream",
       "stream": "stdout",
       "text": [
        "\n",
        "Getting # 664: http://yosemite.epa.gov/oeca/webeis.nsf/EIS01/4722367D63C93ACF85257BEB001B9A11"
       ]
      },
      {
       "output_type": "stream",
       "stream": "stdout",
       "text": [
        "\n",
        "Getting # 665: http://yosemite.epa.gov/oeca/webeis.nsf/EIS01/4FE382BB87C1825085257BEB001B9A19"
       ]
      },
      {
       "output_type": "stream",
       "stream": "stdout",
       "text": [
        "\n",
        "Getting # 666: http://yosemite.epa.gov/oeca/webeis.nsf/EIS01/C757432BC68245FC85257BEB001B9A1F"
       ]
      },
      {
       "output_type": "stream",
       "stream": "stdout",
       "text": [
        "\n",
        "Getting # 667: http://yosemite.epa.gov/oeca/webeis.nsf/EIS01/D77AF8BD74F4E65B85257BEB001B9A10"
       ]
      },
      {
       "output_type": "stream",
       "stream": "stdout",
       "text": [
        "\n",
        "Getting # 668: http://yosemite.epa.gov/oeca/webeis.nsf/EIS01/FC23E54B661A65B585257BEB001B9A14"
       ]
      },
      {
       "output_type": "stream",
       "stream": "stdout",
       "text": [
        "\n",
        "Getting # 669: http://yosemite.epa.gov/oeca/webeis.nsf/EIS01/D5ADBA27488C5FFA85257BEB001B99F4"
       ]
      },
      {
       "output_type": "stream",
       "stream": "stdout",
       "text": [
        "\n",
        "Getting # 670: http://yosemite.epa.gov/oeca/webeis.nsf/EIS01/9EF444145D74DDAB85257BEB001B99F5"
       ]
      },
      {
       "output_type": "stream",
       "stream": "stdout",
       "text": [
        "\n",
        "Getting # 671: http://yosemite.epa.gov/oeca/webeis.nsf/EIS01/B69421B2D61A68F985257BEB001B9A02"
       ]
      },
      {
       "output_type": "stream",
       "stream": "stdout",
       "text": [
        "\n",
        "Getting # 672: http://yosemite.epa.gov/oeca/webeis.nsf/EIS01/C1D2262765C0946485257BEB001B99F8"
       ]
      },
      {
       "output_type": "stream",
       "stream": "stdout",
       "text": [
        "\n",
        "Getting # 673: http://yosemite.epa.gov/oeca/webeis.nsf/EIS01/32ADA758B5BCCC4C85257BEB001B99FA"
       ]
      },
      {
       "output_type": "stream",
       "stream": "stdout",
       "text": [
        "\n",
        "Getting # 674: http://yosemite.epa.gov/oeca/webeis.nsf/EIS01/A386A2A6E01CA26B85257BEB001B99EC"
       ]
      },
      {
       "output_type": "stream",
       "stream": "stdout",
       "text": [
        "\n",
        "Getting # 675: http://yosemite.epa.gov/oeca/webeis.nsf/EIS01/0AF23C89558541DF85257BEB001B99E2"
       ]
      },
      {
       "output_type": "stream",
       "stream": "stdout",
       "text": [
        "\n",
        "Getting # 676: http://yosemite.epa.gov/oeca/webeis.nsf/EIS01/8C53ED173CA0034385257BEB001B99E7"
       ]
      },
      {
       "output_type": "stream",
       "stream": "stdout",
       "text": [
        "\n",
        "Getting # 677: http://yosemite.epa.gov/oeca/webeis.nsf/EIS01/7976230772E805B485257BEB001B99C6"
       ]
      },
      {
       "output_type": "stream",
       "stream": "stdout",
       "text": [
        "\n",
        "Getting # 678: http://yosemite.epa.gov/oeca/webeis.nsf/EIS01/102A09A7221DE87B85257BEB001B99D8"
       ]
      },
      {
       "output_type": "stream",
       "stream": "stdout",
       "text": [
        "\n",
        "Getting # 679: http://yosemite.epa.gov/oeca/webeis.nsf/EIS01/0FE3256169562F5685257BEB001B99C9"
       ]
      },
      {
       "output_type": "stream",
       "stream": "stdout",
       "text": [
        "\n",
        "Getting # 680: http://yosemite.epa.gov/oeca/webeis.nsf/EIS01/C4A062AC05961E9F85257BEB001B99D9"
       ]
      },
      {
       "output_type": "stream",
       "stream": "stdout",
       "text": [
        "\n",
        "Getting # 681: http://yosemite.epa.gov/oeca/webeis.nsf/EIS01/E81530E7A091253885257BEB001B99C8"
       ]
      },
      {
       "output_type": "stream",
       "stream": "stdout",
       "text": [
        "\n",
        "Getting # 682: http://yosemite.epa.gov/oeca/webeis.nsf/EIS01/ED41CFBCA9577CC885257BEB001B99D3"
       ]
      },
      {
       "output_type": "stream",
       "stream": "stdout",
       "text": [
        "\n",
        "Getting # 683: http://yosemite.epa.gov/oeca/webeis.nsf/EIS01/BFE36B6EA1E2C44485257BEB001B99BA"
       ]
      },
      {
       "output_type": "stream",
       "stream": "stdout",
       "text": [
        "\n",
        "Getting # 684: http://yosemite.epa.gov/oeca/webeis.nsf/EIS01/597501D044CD735385257BEB001B99AA"
       ]
      },
      {
       "output_type": "stream",
       "stream": "stdout",
       "text": [
        "\n",
        "Getting # 685: http://yosemite.epa.gov/oeca/webeis.nsf/EIS01/6F5811DC7C76022D85257BEB001B99A6"
       ]
      },
      {
       "output_type": "stream",
       "stream": "stdout",
       "text": [
        "\n",
        "Getting # 686: http://yosemite.epa.gov/oeca/webeis.nsf/EIS01/72834DB02A34FE8F85257BEB001B99C3"
       ]
      },
      {
       "output_type": "stream",
       "stream": "stdout",
       "text": [
        "\n",
        "Getting # 687: http://yosemite.epa.gov/oeca/webeis.nsf/EIS01/9F986E3186006ED785257BEB001B99B0"
       ]
      },
      {
       "output_type": "stream",
       "stream": "stdout",
       "text": [
        "\n",
        "Getting # 688: http://yosemite.epa.gov/oeca/webeis.nsf/EIS01/09D175BDE5C7224F85257BEB001B9990"
       ]
      },
      {
       "output_type": "stream",
       "stream": "stdout",
       "text": [
        "\n",
        "Getting # 689: http://yosemite.epa.gov/oeca/webeis.nsf/EIS01/2EB81867E7CAE2D285257BEB001B9981"
       ]
      },
      {
       "output_type": "stream",
       "stream": "stdout",
       "text": [
        "\n",
        "Getting # 690: http://yosemite.epa.gov/oeca/webeis.nsf/EIS01/B8F82B99E3D6C44F85257BEB001B9994"
       ]
      },
      {
       "output_type": "stream",
       "stream": "stdout",
       "text": [
        "\n",
        "Getting # 691: http://yosemite.epa.gov/oeca/webeis.nsf/EIS01/EAFB360BF9B0D58C85257BEB001B99A2"
       ]
      },
      {
       "output_type": "stream",
       "stream": "stdout",
       "text": [
        "\n",
        "Getting # 692: http://yosemite.epa.gov/oeca/webeis.nsf/EIS01/FF5902B4CC9A120D85257BEB001B9997"
       ]
      },
      {
       "output_type": "stream",
       "stream": "stdout",
       "text": [
        "\n",
        "Getting # 693: http://yosemite.epa.gov/oeca/webeis.nsf/EIS01/29BE0CD7BBFD026385257BEB001B997B"
       ]
      },
      {
       "output_type": "stream",
       "stream": "stdout",
       "text": [
        "\n",
        "Getting # 694: http://yosemite.epa.gov/oeca/webeis.nsf/EIS01/328F46830AD31C1B85257BEB001B997D"
       ]
      },
      {
       "output_type": "stream",
       "stream": "stdout",
       "text": [
        "\n",
        "Getting # 695: http://yosemite.epa.gov/oeca/webeis.nsf/EIS01/3B32F40D194A0FB685257BEB001B9980"
       ]
      },
      {
       "output_type": "stream",
       "stream": "stdout",
       "text": [
        "\n",
        "Getting # 696: http://yosemite.epa.gov/oeca/webeis.nsf/EIS01/F6FDAA31E55C827285257BEB001B9978"
       ]
      },
      {
       "output_type": "stream",
       "stream": "stdout",
       "text": [
        "\n",
        "Getting # 697: http://yosemite.epa.gov/oeca/webeis.nsf/EIS01/1BEE87D5A63373DD85257BEB001B9967"
       ]
      },
      {
       "output_type": "stream",
       "stream": "stdout",
       "text": [
        "\n",
        "Getting # 698: http://yosemite.epa.gov/oeca/webeis.nsf/EIS01/086A03AE4C62D75D85257BEB001B9961"
       ]
      },
      {
       "output_type": "stream",
       "stream": "stdout",
       "text": [
        "\n",
        "Getting # 699: http://yosemite.epa.gov/oeca/webeis.nsf/EIS01/10AA9BFECCAF36F685257BEB001B995B"
       ]
      },
      {
       "output_type": "stream",
       "stream": "stdout",
       "text": [
        "\n",
        "Getting # 700: http://yosemite.epa.gov/oeca/webeis.nsf/EIS01/91D93D7206D7E30585257BEB001B9964"
       ]
      },
      {
       "output_type": "stream",
       "stream": "stdout",
       "text": [
        "\n",
        "Getting # 701: http://yosemite.epa.gov/oeca/webeis.nsf/EIS01/BD8AC77972A7EBD585257BEB001B996A"
       ]
      },
      {
       "output_type": "stream",
       "stream": "stdout",
       "text": [
        "\n",
        "Getting # 702: http://yosemite.epa.gov/oeca/webeis.nsf/EIS01/175BF194951EECB585257BEB001B996F"
       ]
      },
      {
       "output_type": "stream",
       "stream": "stdout",
       "text": [
        "\n",
        "Getting # 703: http://yosemite.epa.gov/oeca/webeis.nsf/EIS01/C840CAFC7760E46685257BEB001B9929"
       ]
      },
      {
       "output_type": "stream",
       "stream": "stdout",
       "text": [
        "\n",
        "Getting # 704: http://yosemite.epa.gov/oeca/webeis.nsf/EIS01/783F41793B7235A785257BEB001B9925"
       ]
      },
      {
       "output_type": "stream",
       "stream": "stdout",
       "text": [
        "\n",
        "Getting # 705: http://yosemite.epa.gov/oeca/webeis.nsf/EIS01/8901E34744B6760B85257BEB001B9924"
       ]
      },
      {
       "output_type": "stream",
       "stream": "stdout",
       "text": [
        "\n",
        "Getting # 706: http://yosemite.epa.gov/oeca/webeis.nsf/EIS01/8EA5A4903438BBA185257BEB001B9938"
       ]
      },
      {
       "output_type": "stream",
       "stream": "stdout",
       "text": [
        "\n",
        "Getting # 707: http://yosemite.epa.gov/oeca/webeis.nsf/EIS01/03F1CD1B52E22AA085257BEB001B9918"
       ]
      },
      {
       "output_type": "stream",
       "stream": "stdout",
       "text": [
        "\n",
        "Getting # 708: http://yosemite.epa.gov/oeca/webeis.nsf/EIS01/305FAC5A71502B2385257BEB001B9908"
       ]
      },
      {
       "output_type": "stream",
       "stream": "stdout",
       "text": [
        "\n",
        "Getting # 709: http://yosemite.epa.gov/oeca/webeis.nsf/EIS01/3B40B3088B5E5C0E85257BEB001B990B"
       ]
      },
      {
       "output_type": "stream",
       "stream": "stdout",
       "text": [
        "\n",
        "Getting # 710: http://yosemite.epa.gov/oeca/webeis.nsf/EIS01/3C443D9F3D37BF5785257BEB001B9914"
       ]
      },
      {
       "output_type": "stream",
       "stream": "stdout",
       "text": [
        "\n",
        "Getting # 711: http://yosemite.epa.gov/oeca/webeis.nsf/EIS01/2D2EBAAC6A726C9885257BEB001B98E2"
       ]
      },
      {
       "output_type": "stream",
       "stream": "stdout",
       "text": [
        "\n",
        "Getting # 712: http://yosemite.epa.gov/oeca/webeis.nsf/EIS01/5D5995F9418D9F3485257BEB001B98FE"
       ]
      },
      {
       "output_type": "stream",
       "stream": "stdout",
       "text": [
        "\n",
        "Getting # 713: http://yosemite.epa.gov/oeca/webeis.nsf/EIS01/C8097DCABE88A55085257BEB001B9906"
       ]
      },
      {
       "output_type": "stream",
       "stream": "stdout",
       "text": [
        "\n",
        "Getting # 714: http://yosemite.epa.gov/oeca/webeis.nsf/EIS01/DAC62D24FC1B312885257BEB001B98DF"
       ]
      },
      {
       "output_type": "stream",
       "stream": "stdout",
       "text": [
        "\n",
        "Getting # 715: http://yosemite.epa.gov/oeca/webeis.nsf/EIS01/C089A13B36263C8B85257BEB001B9901"
       ]
      },
      {
       "output_type": "stream",
       "stream": "stdout",
       "text": [
        "\n",
        "Getting # 716: http://yosemite.epa.gov/oeca/webeis.nsf/EIS01/7BEADEC3D9782D5985257BEB001B98D9"
       ]
      },
      {
       "output_type": "stream",
       "stream": "stdout",
       "text": [
        "\n",
        "Getting # 717: http://yosemite.epa.gov/oeca/webeis.nsf/EIS01/9CFFE31E384B827085257BEB001B98D7"
       ]
      },
      {
       "output_type": "stream",
       "stream": "stdout",
       "text": [
        "\n",
        "Getting # 718: http://yosemite.epa.gov/oeca/webeis.nsf/EIS01/8BD98D2A9797998D85257BEB001B98CF"
       ]
      },
      {
       "output_type": "stream",
       "stream": "stdout",
       "text": [
        "\n",
        "Getting # 719: http://yosemite.epa.gov/oeca/webeis.nsf/EIS01/C2E394C646B4F6C485257BEB001B98CB"
       ]
      },
      {
       "output_type": "stream",
       "stream": "stdout",
       "text": [
        "\n",
        "Getting # 720: http://yosemite.epa.gov/oeca/webeis.nsf/EIS01/922756C21D6D0F3285257BEB001B98BA"
       ]
      },
      {
       "output_type": "stream",
       "stream": "stdout",
       "text": [
        "\n",
        "Getting # 721: http://yosemite.epa.gov/oeca/webeis.nsf/EIS01/FB7F97A02ECD753A85257BEB001B98BE"
       ]
      },
      {
       "output_type": "stream",
       "stream": "stdout",
       "text": [
        "\n",
        "Getting # 722: http://yosemite.epa.gov/oeca/webeis.nsf/EIS01/879CD852A67FDAA685257BEB001B98A4"
       ]
      },
      {
       "output_type": "stream",
       "stream": "stdout",
       "text": [
        "\n",
        "Getting # 723: http://yosemite.epa.gov/oeca/webeis.nsf/EIS01/62846E45A64966F185257BEB001B989C"
       ]
      },
      {
       "output_type": "stream",
       "stream": "stdout",
       "text": [
        "\n",
        "Getting # 724: http://yosemite.epa.gov/oeca/webeis.nsf/EIS01/A5026A0810C65AED85257BEB001B98A8"
       ]
      },
      {
       "output_type": "stream",
       "stream": "stdout",
       "text": [
        "\n",
        "Getting # 725: http://yosemite.epa.gov/oeca/webeis.nsf/EIS01/BEC85DDF02E8F4CD85257BEB001B9884"
       ]
      },
      {
       "output_type": "stream",
       "stream": "stdout",
       "text": [
        "\n",
        "Getting # 726: http://yosemite.epa.gov/oeca/webeis.nsf/EIS01/DECBC8CFE93A3CAB85257BEB001B988C"
       ]
      },
      {
       "output_type": "stream",
       "stream": "stdout",
       "text": [
        "\n",
        "Getting # 727: http://yosemite.epa.gov/oeca/webeis.nsf/EIS01/231A8C83F13FE8E585257BEB001B9897"
       ]
      },
      {
       "output_type": "stream",
       "stream": "stdout",
       "text": [
        "\n",
        "Getting # 728: http://yosemite.epa.gov/oeca/webeis.nsf/EIS01/482711E196F3D71085257BEB001B9888"
       ]
      },
      {
       "output_type": "stream",
       "stream": "stdout",
       "text": [
        "\n",
        "Getting # 729: http://yosemite.epa.gov/oeca/webeis.nsf/EIS01/95C2D929C5AD27F285257BEB001B987D"
       ]
      },
      {
       "output_type": "stream",
       "stream": "stdout",
       "text": [
        "\n",
        "Getting # 730: http://yosemite.epa.gov/oeca/webeis.nsf/EIS01/B574DB8DDC193F2085257BEB001B9883"
       ]
      },
      {
       "output_type": "stream",
       "stream": "stdout",
       "text": [
        "\n",
        "Getting # 731: http://yosemite.epa.gov/oeca/webeis.nsf/EIS01/9DE431F7FB92334085257BEB001B986F"
       ]
      },
      {
       "output_type": "stream",
       "stream": "stdout",
       "text": [
        "\n",
        "Getting # 732: http://yosemite.epa.gov/oeca/webeis.nsf/EIS01/1B820350813F949A85257BEB001B985D"
       ]
      },
      {
       "output_type": "stream",
       "stream": "stdout",
       "text": [
        "\n",
        "Getting # 733: http://yosemite.epa.gov/oeca/webeis.nsf/EIS01/C66CD9D75C7199C585257BEB001B9872"
       ]
      },
      {
       "output_type": "stream",
       "stream": "stdout",
       "text": [
        "\n",
        "Getting # 734: http://yosemite.epa.gov/oeca/webeis.nsf/EIS01/EB9CDF687FB1662385257BEB001B985A"
       ]
      },
      {
       "output_type": "stream",
       "stream": "stdout",
       "text": [
        "\n",
        "Getting # 735: http://yosemite.epa.gov/oeca/webeis.nsf/EIS01/CC258595C170C25485257BEB001B9862"
       ]
      },
      {
       "output_type": "stream",
       "stream": "stdout",
       "text": [
        "\n",
        "Getting # 736: http://yosemite.epa.gov/oeca/webeis.nsf/EIS01/A8BA91B24284F9F785257BEB001B9841"
       ]
      },
      {
       "output_type": "stream",
       "stream": "stdout",
       "text": [
        "\n",
        "Getting # 737: http://yosemite.epa.gov/oeca/webeis.nsf/EIS01/75214D854A6D1D3E85257BEB001B984E"
       ]
      },
      {
       "output_type": "stream",
       "stream": "stdout",
       "text": [
        "\n",
        "Getting # 738: http://yosemite.epa.gov/oeca/webeis.nsf/EIS01/7B4962271FD2579885257BEB001B9856"
       ]
      },
      {
       "output_type": "stream",
       "stream": "stdout",
       "text": [
        "\n",
        "Getting # 739: http://yosemite.epa.gov/oeca/webeis.nsf/EIS01/82B09D54D4FFBD6385257BEB001B9848"
       ]
      },
      {
       "output_type": "stream",
       "stream": "stdout",
       "text": [
        "\n",
        "Getting # 740: http://yosemite.epa.gov/oeca/webeis.nsf/EIS01/AD8F0E78FF51140785257BEB001B9851"
       ]
      },
      {
       "output_type": "stream",
       "stream": "stdout",
       "text": [
        "\n",
        "Getting # 741: http://yosemite.epa.gov/oeca/webeis.nsf/EIS01/882EB3F91DE46FA585257BEB001B982F"
       ]
      },
      {
       "output_type": "stream",
       "stream": "stdout",
       "text": [
        "\n",
        "Getting # 742: http://yosemite.epa.gov/oeca/webeis.nsf/EIS01/29E63FE2B7E9FDA285257BEB001B982A"
       ]
      },
      {
       "output_type": "stream",
       "stream": "stdout",
       "text": [
        "\n",
        "Getting # 743: http://yosemite.epa.gov/oeca/webeis.nsf/EIS01/5432375B6FCEA8F385257BEB001B9836"
       ]
      },
      {
       "output_type": "stream",
       "stream": "stdout",
       "text": [
        "\n",
        "Getting # 744: http://yosemite.epa.gov/oeca/webeis.nsf/EIS01/77BB2611CCFA753185257BEB001B982D"
       ]
      },
      {
       "output_type": "stream",
       "stream": "stdout",
       "text": [
        "\n",
        "Getting # 745: http://yosemite.epa.gov/oeca/webeis.nsf/EIS01/B97498C270EE930385257BEB001B982B"
       ]
      },
      {
       "output_type": "stream",
       "stream": "stdout",
       "text": [
        "\n",
        "Getting # 746: http://yosemite.epa.gov/oeca/webeis.nsf/EIS01/1262CFD1C02E0C0A85257BEB001B981F"
       ]
      },
      {
       "output_type": "stream",
       "stream": "stdout",
       "text": [
        "\n",
        "Getting # 747: http://yosemite.epa.gov/oeca/webeis.nsf/EIS01/29F9CB2E0A9B777285257BEB001B9818"
       ]
      },
      {
       "output_type": "stream",
       "stream": "stdout",
       "text": [
        "\n",
        "Getting # 748: http://yosemite.epa.gov/oeca/webeis.nsf/EIS01/7009D949A323C4B585257BEB001B980E"
       ]
      },
      {
       "output_type": "stream",
       "stream": "stdout",
       "text": [
        "\n",
        "Getting # 749: http://yosemite.epa.gov/oeca/webeis.nsf/EIS01/7C576ACC1755DA0385257BEB001B9822"
       ]
      },
      {
       "output_type": "stream",
       "stream": "stdout",
       "text": [
        "\n",
        "Getting # 750: http://yosemite.epa.gov/oeca/webeis.nsf/EIS01/A2A491E8D85AE76985257BEB001B980F"
       ]
      },
      {
       "output_type": "stream",
       "stream": "stdout",
       "text": [
        "\n",
        "Getting # 751: http://yosemite.epa.gov/oeca/webeis.nsf/EIS01/EB208E82999818E185257BEB001B980C"
       ]
      },
      {
       "output_type": "stream",
       "stream": "stdout",
       "text": [
        "\n",
        "Getting # 752: http://yosemite.epa.gov/oeca/webeis.nsf/EIS01/F61DB1A7D033E2D885257BEB001B9827"
       ]
      },
      {
       "output_type": "stream",
       "stream": "stdout",
       "text": [
        "\n",
        "Getting # 753: http://yosemite.epa.gov/oeca/webeis.nsf/EIS01/48F7D6639382002C85257BEB001B97F6"
       ]
      },
      {
       "output_type": "stream",
       "stream": "stdout",
       "text": [
        "\n",
        "Getting # 754: http://yosemite.epa.gov/oeca/webeis.nsf/EIS01/5351647E5327A22A85257BEB001B9809"
       ]
      },
      {
       "output_type": "stream",
       "stream": "stdout",
       "text": [
        "\n",
        "Getting # 755: http://yosemite.epa.gov/oeca/webeis.nsf/EIS01/83ADC1540FC3778585257BEB001B9804"
       ]
      },
      {
       "output_type": "stream",
       "stream": "stdout",
       "text": [
        "\n",
        "Getting # 756: http://yosemite.epa.gov/oeca/webeis.nsf/EIS01/92985E346E2096F885257BEB001B97F8"
       ]
      },
      {
       "output_type": "stream",
       "stream": "stdout",
       "text": [
        "\n",
        "Getting # 757: http://yosemite.epa.gov/oeca/webeis.nsf/EIS01/9A96ED6098E9108485257BEB001B97F9"
       ]
      },
      {
       "output_type": "stream",
       "stream": "stdout",
       "text": [
        "\n",
        "Getting # 758: http://yosemite.epa.gov/oeca/webeis.nsf/EIS01/A27E492A0780273685257BEB001B9807"
       ]
      },
      {
       "output_type": "stream",
       "stream": "stdout",
       "text": [
        "\n",
        "Getting # 759: http://yosemite.epa.gov/oeca/webeis.nsf/EIS01/A57B22C21528D06E85257BEB001B9806"
       ]
      },
      {
       "output_type": "stream",
       "stream": "stdout",
       "text": [
        "\n",
        "Getting # 760: http://yosemite.epa.gov/oeca/webeis.nsf/EIS01/F605C6B63D5DEE2B85257BEB001B97E4"
       ]
      },
      {
       "output_type": "stream",
       "stream": "stdout",
       "text": [
        "\n",
        "Getting # 761: http://yosemite.epa.gov/oeca/webeis.nsf/EIS01/2B1ECD35F68CC27D85257BEB001B97DA"
       ]
      },
      {
       "output_type": "stream",
       "stream": "stdout",
       "text": [
        "\n",
        "Getting # 762: http://yosemite.epa.gov/oeca/webeis.nsf/EIS01/697B9822ED8BDDD485257BEB001B97DF"
       ]
      },
      {
       "output_type": "stream",
       "stream": "stdout",
       "text": [
        "\n",
        "Getting # 763: http://yosemite.epa.gov/oeca/webeis.nsf/EIS01/B035CE5E524EE4D385257BEB001B97EA"
       ]
      },
      {
       "output_type": "stream",
       "stream": "stdout",
       "text": [
        "\n",
        "Getting # 764: http://yosemite.epa.gov/oeca/webeis.nsf/EIS01/D38FB0A95C9F846885257BEB001B97DB"
       ]
      },
      {
       "output_type": "stream",
       "stream": "stdout",
       "text": [
        "\n",
        "Getting # 765: http://yosemite.epa.gov/oeca/webeis.nsf/EIS01/F2AE761333B2876C85257BEB001B97EE"
       ]
      },
      {
       "output_type": "stream",
       "stream": "stdout",
       "text": [
        "\n",
        "Getting # 766: http://yosemite.epa.gov/oeca/webeis.nsf/EIS01/094F981FCF98E5E585257BEB001B97D2"
       ]
      },
      {
       "output_type": "stream",
       "stream": "stdout",
       "text": [
        "\n",
        "Getting # 767: http://yosemite.epa.gov/oeca/webeis.nsf/EIS01/473508AECE597A0E85257BEB001B97D5"
       ]
      },
      {
       "output_type": "stream",
       "stream": "stdout",
       "text": [
        "\n",
        "Getting # 768: http://yosemite.epa.gov/oeca/webeis.nsf/EIS01/7CB3032478EAFAC485257BEB001B97D7"
       ]
      },
      {
       "output_type": "stream",
       "stream": "stdout",
       "text": [
        "\n",
        "Getting # 769: http://yosemite.epa.gov/oeca/webeis.nsf/EIS01/90A77C8432392BB485257BEB001B97D4"
       ]
      },
      {
       "output_type": "stream",
       "stream": "stdout",
       "text": [
        "\n",
        "Getting # 770: http://yosemite.epa.gov/oeca/webeis.nsf/EIS01/C5D18049F3C8D6D485257BEB001B97D1"
       ]
      },
      {
       "output_type": "stream",
       "stream": "stdout",
       "text": [
        "\n",
        "Getting # 771: http://yosemite.epa.gov/oeca/webeis.nsf/EIS01/86071B5ED1CB3C8385257BEB001B97CC"
       ]
      },
      {
       "output_type": "stream",
       "stream": "stdout",
       "text": [
        "\n",
        "Getting # 772: http://yosemite.epa.gov/oeca/webeis.nsf/EIS01/9D26D521F854840585257BEB001B97CE"
       ]
      },
      {
       "output_type": "stream",
       "stream": "stdout",
       "text": [
        "\n",
        "Getting # 773: http://yosemite.epa.gov/oeca/webeis.nsf/EIS01/868B4F7D6DDE6C3485257BEB001B97C9"
       ]
      },
      {
       "output_type": "stream",
       "stream": "stdout",
       "text": [
        "\n",
        "Getting # 774: http://yosemite.epa.gov/oeca/webeis.nsf/EIS01/56E40D5C6CDB19F085257BEB001B97B8"
       ]
      },
      {
       "output_type": "stream",
       "stream": "stdout",
       "text": [
        "\n",
        "Getting # 775: http://yosemite.epa.gov/oeca/webeis.nsf/EIS01/6BACF79476F2E3D485257BEB001B97B3"
       ]
      },
      {
       "output_type": "stream",
       "stream": "stdout",
       "text": [
        "\n",
        "Getting # 776: http://yosemite.epa.gov/oeca/webeis.nsf/EIS01/D39FB098C19F062685257BEB001B97B9"
       ]
      },
      {
       "output_type": "stream",
       "stream": "stdout",
       "text": [
        "\n",
        "Getting # 777: http://yosemite.epa.gov/oeca/webeis.nsf/EIS01/698B0048DF39550F85257BEB001B97C1"
       ]
      },
      {
       "output_type": "stream",
       "stream": "stdout",
       "text": [
        "\n",
        "Getting # 778: http://yosemite.epa.gov/oeca/webeis.nsf/EIS01/2439E0673E45121785257BEB001B978C"
       ]
      },
      {
       "output_type": "stream",
       "stream": "stdout",
       "text": [
        "\n",
        "Getting # 779: http://yosemite.epa.gov/oeca/webeis.nsf/EIS01/4448520A1E24155A85257BEB001B9799"
       ]
      },
      {
       "output_type": "stream",
       "stream": "stdout",
       "text": [
        "\n",
        "Getting # 780: http://yosemite.epa.gov/oeca/webeis.nsf/EIS01/5AA2E7BA4789347185257BEB001B979C"
       ]
      },
      {
       "output_type": "stream",
       "stream": "stdout",
       "text": [
        "\n",
        "Getting # 781: http://yosemite.epa.gov/oeca/webeis.nsf/EIS01/57ECB5205207F4FC85257BEB001B977E"
       ]
      },
      {
       "output_type": "stream",
       "stream": "stdout",
       "text": [
        "\n",
        "Getting # 782: http://yosemite.epa.gov/oeca/webeis.nsf/EIS01/690AA0A52339F05E85257BEB001B9781"
       ]
      },
      {
       "output_type": "stream",
       "stream": "stdout",
       "text": [
        "\n",
        "Getting # 783: http://yosemite.epa.gov/oeca/webeis.nsf/EIS01/CC1C42B590E9E2B785257BEB001B978E"
       ]
      },
      {
       "output_type": "stream",
       "stream": "stdout",
       "text": [
        "\n",
        "Getting # 784: http://yosemite.epa.gov/oeca/webeis.nsf/EIS01/D5CDE0FD973954E085257BEB001B9786"
       ]
      },
      {
       "output_type": "stream",
       "stream": "stdout",
       "text": [
        "\n",
        "Getting # 785: http://yosemite.epa.gov/oeca/webeis.nsf/EIS01/B2E27E174D97D18B85257BEB001B9778"
       ]
      },
      {
       "output_type": "stream",
       "stream": "stdout",
       "text": [
        "\n",
        "Getting # 786: http://yosemite.epa.gov/oeca/webeis.nsf/EIS01/200AE34315F939AB85257BEB001B977D"
       ]
      },
      {
       "output_type": "stream",
       "stream": "stdout",
       "text": [
        "\n",
        "Getting # 787: http://yosemite.epa.gov/oeca/webeis.nsf/EIS01/2E9B902244D69B6A85257BEB001B9757"
       ]
      },
      {
       "output_type": "stream",
       "stream": "stdout",
       "text": [
        "\n",
        "Getting # 788: http://yosemite.epa.gov/oeca/webeis.nsf/EIS01/63B79B8042123B9C85257BEB001B9760"
       ]
      },
      {
       "output_type": "stream",
       "stream": "stdout",
       "text": [
        "\n",
        "Getting # 789: http://yosemite.epa.gov/oeca/webeis.nsf/EIS01/E45FC29EC8C96B6385257BEB001B9768"
       ]
      },
      {
       "output_type": "stream",
       "stream": "stdout",
       "text": [
        "\n",
        "Getting # 790: http://yosemite.epa.gov/oeca/webeis.nsf/EIS01/6DA19EA0936C76D685257BEB001B9735"
       ]
      },
      {
       "output_type": "stream",
       "stream": "stdout",
       "text": [
        "\n",
        "Getting # 791: http://yosemite.epa.gov/oeca/webeis.nsf/EIS01/95B855036D891BC385257BEB001B9749"
       ]
      },
      {
       "output_type": "stream",
       "stream": "stdout",
       "text": [
        "\n",
        "Getting # 792: http://yosemite.epa.gov/oeca/webeis.nsf/EIS01/1877694345529CC885257BEB001B9746"
       ]
      },
      {
       "output_type": "stream",
       "stream": "stdout",
       "text": [
        "\n",
        "Getting # 793: http://yosemite.epa.gov/oeca/webeis.nsf/EIS01/1F85E2250AC5242B85257BEB001B9714"
       ]
      },
      {
       "output_type": "stream",
       "stream": "stdout",
       "text": [
        "\n",
        "Getting # 794: http://yosemite.epa.gov/oeca/webeis.nsf/EIS01/2892B9BF9A99D68485257BEB001B971F"
       ]
      },
      {
       "output_type": "stream",
       "stream": "stdout",
       "text": [
        "\n",
        "Getting # 795: http://yosemite.epa.gov/oeca/webeis.nsf/EIS01/2E734DF240C14E9785257BEB001B9731"
       ]
      },
      {
       "output_type": "stream",
       "stream": "stdout",
       "text": [
        "\n",
        "Getting # 796: http://yosemite.epa.gov/oeca/webeis.nsf/EIS01/2BE8971C9D3CF04285257BEB001B9707"
       ]
      },
      {
       "output_type": "stream",
       "stream": "stdout",
       "text": [
        "\n",
        "Getting # 797: http://yosemite.epa.gov/oeca/webeis.nsf/EIS01/52059429F15604F585257BEB001B9701"
       ]
      },
      {
       "output_type": "stream",
       "stream": "stdout",
       "text": [
        "\n",
        "Getting # 798: http://yosemite.epa.gov/oeca/webeis.nsf/EIS01/619C5D5C17717F5585257BEB001B970F"
       ]
      },
      {
       "output_type": "stream",
       "stream": "stdout",
       "text": [
        "\n",
        "Getting # 799: http://yosemite.epa.gov/oeca/webeis.nsf/EIS01/746980A528734CD285257BEB001B970D"
       ]
      },
      {
       "output_type": "stream",
       "stream": "stdout",
       "text": [
        "\n",
        "Getting # 800: http://yosemite.epa.gov/oeca/webeis.nsf/EIS01/9A3337A602FE248485257BEB001B9725"
       ]
      },
      {
       "output_type": "stream",
       "stream": "stdout",
       "text": [
        "\n",
        "Getting # 801: http://yosemite.epa.gov/oeca/webeis.nsf/EIS01/9D75CDB297A57CED85257BEB001B970A"
       ]
      },
      {
       "output_type": "stream",
       "stream": "stdout",
       "text": [
        "\n",
        "Getting # 802: http://yosemite.epa.gov/oeca/webeis.nsf/EIS01/FF23F8B570C5206D85257BEB001B9722"
       ]
      },
      {
       "output_type": "stream",
       "stream": "stdout",
       "text": [
        "\n",
        "Getting # 803: http://yosemite.epa.gov/oeca/webeis.nsf/EIS01/825D764B13DFF7D585257BEB001B96FF"
       ]
      },
      {
       "output_type": "stream",
       "stream": "stdout",
       "text": [
        "\n",
        "Getting # 804: http://yosemite.epa.gov/oeca/webeis.nsf/EIS01/7109BB17B88B918C85257BEB001B96DC"
       ]
      },
      {
       "output_type": "stream",
       "stream": "stdout",
       "text": [
        "\n",
        "Getting # 805: http://yosemite.epa.gov/oeca/webeis.nsf/EIS01/B01209EC09DF5CC685257BEB001B96FB"
       ]
      },
      {
       "output_type": "stream",
       "stream": "stdout",
       "text": [
        "\n",
        "Getting # 806: http://yosemite.epa.gov/oeca/webeis.nsf/EIS01/B8C29395AA84669985257BEB001B96ED"
       ]
      },
      {
       "output_type": "stream",
       "stream": "stdout",
       "text": [
        "\n",
        "Getting # 807: http://yosemite.epa.gov/oeca/webeis.nsf/EIS01/C5BE6D1C4940D0B585257BEB001B96F4"
       ]
      },
      {
       "output_type": "stream",
       "stream": "stdout",
       "text": [
        "\n",
        "Getting # 808: http://yosemite.epa.gov/oeca/webeis.nsf/EIS01/F61E01C8A1EB7BF685257BEB001B96DB"
       ]
      },
      {
       "output_type": "stream",
       "stream": "stdout",
       "text": [
        "\n",
        "Getting # 809: http://yosemite.epa.gov/oeca/webeis.nsf/EIS01/FD85C080E7ABA41385257BEB001B96D1"
       ]
      },
      {
       "output_type": "stream",
       "stream": "stdout",
       "text": [
        "\n",
        "Getting # 810: http://yosemite.epa.gov/oeca/webeis.nsf/EIS01/3AE98DA448B1211585257BEB001B96E0"
       ]
      },
      {
       "output_type": "stream",
       "stream": "stdout",
       "text": [
        "\n",
        "Getting # 811: http://yosemite.epa.gov/oeca/webeis.nsf/EIS01/7C10F6B06D4737F785257BEB001B96CC"
       ]
      },
      {
       "output_type": "stream",
       "stream": "stdout",
       "text": [
        "\n",
        "Getting # 812: http://yosemite.epa.gov/oeca/webeis.nsf/EIS01/0C0EE42D4046C90085257BEB001B96BC"
       ]
      },
      {
       "output_type": "stream",
       "stream": "stdout",
       "text": [
        "\n",
        "Getting # 813: http://yosemite.epa.gov/oeca/webeis.nsf/EIS01/6FEA04B0704654A185257BEB001B96AE"
       ]
      },
      {
       "output_type": "stream",
       "stream": "stdout",
       "text": [
        "\n",
        "Getting # 814: http://yosemite.epa.gov/oeca/webeis.nsf/EIS01/9ADFAA9A1B87E17485257BEB001B96B4"
       ]
      },
      {
       "output_type": "stream",
       "stream": "stdout",
       "text": [
        "\n"
       ]
      }
     ],
     "prompt_number": 117
    },
    {
     "cell_type": "code",
     "collapsed": false,
     "input": [
      "# df.to_csv('reports_part_1.csv', encoding='utf-8')\n",
      "df.to_csv('reports_part_2.csv', encoding='utf-8')"
     ],
     "language": "python",
     "metadata": {},
     "outputs": [],
     "prompt_number": 118
    },
    {
     "cell_type": "code",
     "collapsed": false,
     "input": [
      "#join\n",
      "df1 = pd.read_csv('reports_part_1.csv')\n",
      "df2 = pd.read_csv('reports_part_2.csv')\n",
      "df_join = pd.concat([df1, df2], ignore_index=True)\n",
      "df_join.to_csv('reports.csv', index=False)"
     ],
     "language": "python",
     "metadata": {},
     "outputs": [],
     "prompt_number": 151
    }
   ],
   "metadata": {}
  }
 ]
}