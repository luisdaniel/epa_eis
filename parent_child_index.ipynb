{
 "metadata": {
  "name": "",
  "signature": "sha256:a7a973a1105d11e8d2f4f6c0ad9961e04e6aade28d3a0610bede26bc8b52e021"
 },
 "nbformat": 3,
 "nbformat_minor": 0,
 "worksheets": [
  {
   "cells": [
    {
     "cell_type": "code",
     "collapsed": false,
     "input": [
      "#Import stuff\n",
      "import json\n",
      "from boto.s3.connection import S3Connection\n",
      "from boto.s3.key import Key\n",
      "import codecs\n",
      "import csv\n",
      "import os\n",
      "import sys\n",
      "import urllib2\n",
      "from datetime import datetime\n",
      "\n",
      "#get keys\n",
      "json_data=open('k.json')\n",
      "keys = json.load(json_data)\n",
      "json_data.close()\n",
      "\n",
      "#connect to ES\n",
      "from elasticsearch import Elasticsearch as ES, RequestsHttpConnection as RC \n",
      "host_params = {'host':keys['es_host'], 'port':80, 'use_ssl':False}\n",
      "es = ES([host_params], connection_class=RC, http_auth=(keys['es_user'], keys['es_pass']),  use_ssl=False)\n",
      "\n",
      "#connect to S3\n",
      "conn = S3Connection(keys['aws_key'], keys['aws_secret'])\n",
      "bucket = conn.get_bucket('epaeis')\n",
      "bucket.list()\n",
      "\n",
      "HOST = keys['es_host']\n",
      "USER = keys['es_user']\n",
      "PASS = keys['es_pass']\n",
      "INDEX = 'impactstatement'\n",
      "PARENT = 'report'"
     ],
     "language": "python",
     "metadata": {},
     "outputs": [],
     "prompt_number": 1
    },
    {
     "cell_type": "code",
     "collapsed": false,
     "input": [
      "def clear_and_map():\n",
      "    #clear and create all new mapping.\n",
      "    print \"Clearing old index and creating new one with mapping.\"\n",
      "\n",
      "    cmd = \"curl -u {}:{} -X DELETE \\\"{}/{}\\\"\".format(USER, PASS, HOST, INDEX)\n",
      "    os.system(cmd)\n",
      "\n",
      "    #create index\n",
      "    cmd = \"curl -u {}:{} -X PUT \\\"{}/{}\\\"\".format(USER, PASS, HOST, INDEX)\n",
      "    os.system(cmd)\n",
      "\n",
      "    #create mapping\n",
      "    cmd = \"curl -u {}:{} -X PUT \\\"{}/{}/{}/_mapping?pretty=1\\\" -d \\'\".format(USER, PASS, HOST, INDEX, PARENT)\n",
      "    cmd +='''{\n",
      "        \"report\": {\n",
      "          \"_id\": {\n",
      "            \"index\":\"not_analyzed\",\n",
      "            \"store\": true\n",
      "          },\n",
      "          \"properties\": {\n",
      "            \"agency\" : {\n",
      "              \"type\" : \"string\"\n",
      "            },\n",
      "            \"agency_abbrev\" : {\n",
      "              \"type\" : \"string\",\n",
      "              \"index\" : \"not_analyzed\"\n",
      "            },\n",
      "            \"amended_notice\" : {\n",
      "              \"type\" : \"string\"\n",
      "            },\n",
      "            \"amended_notice_date\" : {\n",
      "              \"type\" : \"date\",\n",
      "              \"format\" : \"dateOptionalTime\"\n",
      "            },\n",
      "            \"comment_due_review_date\" : {\n",
      "              \"type\" : \"date\",\n",
      "              \"format\" : \"dateOptionalTime\"\n",
      "            },\n",
      "            \"comment_letter_date\" : {\n",
      "              \"type\" : \"date\",\n",
      "              \"format\" : \"dateOptionalTime\"\n",
      "            },\n",
      "            \"contact_name\" : {\n",
      "              \"type\" : \"string\"\n",
      "            },\n",
      "            \"contact_phone\" : {\n",
      "              \"type\" : \"string\"\n",
      "            },\n",
      "            \"date\" : {\n",
      "              \"type\" : \"date\",\n",
      "              \"format\" : \"dateOptionalTime\"\n",
      "            },\n",
      "            \"date_uploaded\" : {\n",
      "              \"type\" : \"date\",\n",
      "              \"format\" : \"dateOptionalTime\"\n",
      "            },\n",
      "            \"document_type\" : {\n",
      "              \"type\" : \"string\"\n",
      "            },\n",
      "            \"eis_number\" : {\n",
      "              \"type\" : \"string\",\n",
      "              \"index\" : \"not_analyzed\"\n",
      "            },\n",
      "            \"federal_register_date\" : {\n",
      "              \"type\" : \"date\",\n",
      "              \"format\" : \"dateOptionalTime\"\n",
      "            },\n",
      "            \"rating\" : {\n",
      "              \"type\" : \"string\",\n",
      "              \"index\" : \"not_analyzed\"\n",
      "            },\n",
      "            \"report_link\" : {\n",
      "              \"type\" : \"string\",\n",
      "              \"index\" : \"not_analyzed\"\n",
      "            },\n",
      "            \"state\" : {\n",
      "              \"type\" : \"string\"\n",
      "            },\n",
      "            \"state_abbrev\" : {\n",
      "              \"type\" : \"string\",\n",
      "              \"index\" : \"not_analyzed\"\n",
      "            },\n",
      "            \"supplemental_info\" : {\n",
      "              \"type\" : \"string\"\n",
      "            },\n",
      "            \"title\" : {\n",
      "              \"type\" : \"string\"\n",
      "            },\n",
      "            \"website\" : {\n",
      "              \"type\" : \"string\",\n",
      "              \"index\" : \"not_analyzed\"\n",
      "            }\n",
      "          }\n",
      "        }\n",
      "    }\\''''\n",
      "    os.system(cmd)\n",
      "    cmd = \"curl -u {}:{} -X PUT \\\"{}/{}/{}/_mapping?pretty=1\\\" -d \\'\".format(USER, PASS, HOST, INDEX, 'eis_file')\n",
      "    cmd +='''{\n",
      "        \"eis_file\": {\n",
      "          \"_parent\": {\n",
      "            \"type\":\"report\"\n",
      "          },\n",
      "          \"properties\": {\n",
      "            \"file\": {\n",
      "              \"type\": \"attachment\",\n",
      "              \"fields\": {\n",
      "                \"title\" : { \"store\" : \"yes\" },\n",
      "                \"file\" : { \"term_vector\":\"with_positions_offsets\", \"store\":\"yes\" },\n",
      "                \"content_type\": {\"type\":\"string\", \"store\":\"yes\"},\n",
      "                \"date\" : {\"store\" : \"yes\"},\n",
      "                \"keywords\" : {\"store\" : \"yes\", \"analyzer\":\"keyword\"},\n",
      "                \"content_length\" : {\"type\":\"string\", \"store\" : \"yes\"}\n",
      "              }\n",
      "            },\n",
      "            \"file_url\": {\n",
      "                \"type\":\"string\",\n",
      "                \"index\":\"not_analyzed\"\n",
      "            },\n",
      "            \"eis_number\": {\n",
      "                \"type\": \"string\",\n",
      "                \"index\":\"not_analyzed\n",
      "            }\n",
      "            \"title\": {\n",
      "              \"type\":\"string\"\n",
      "            }\n",
      "        }\n",
      "      }\n",
      "    }\\''''\n",
      "    os.system(cmd)\n",
      "    cmd = \"curl -u {}:{} -X PUT \\\"{}/{}/{}/_mapping?pretty=1\\\" -d \\'\".format(USER, PASS, HOST, INDEX, 'comment_letter')\n",
      "    cmd +='''{\n",
      "      \"comment_letter\": {\n",
      "          \"_parent\": {\n",
      "            \"type\":\"report\"\n",
      "          },\n",
      "          \"properties\": {\n",
      "            \"file\": {\n",
      "              \"type\": \"attachment\",\n",
      "              \"fields\": {\n",
      "                \"title\" : { \"store\" : \"yes\" },\n",
      "                \"file\" : { \"term_vector\":\"with_positions_offsets\", \"store\":\"yes\" },\n",
      "                \"content_type\": {\"type\":\"string\", \"store\":\"yes\"},\n",
      "                \"date\" : {\"store\" : \"yes\"},\n",
      "                \"keywords\" : {\"store\" : \"yes\", \"analyzer\":\"keyword\"},\n",
      "                \"content_length\" : {\"type\":\"string\", \"store\" : \"yes\"}\n",
      "              }\n",
      "            },\n",
      "            \"file_url\": {\n",
      "                \"type\":\"string\",\n",
      "                \"index\":\"not_analyzed\"\n",
      "            },\n",
      "            \"eis_number\": {\n",
      "                \"type\": \"string\",\n",
      "                \"index\":\"not_analyzed\n",
      "            },\n",
      "            \"title\": {\n",
      "              \"type\":\"string\"\n",
      "            }\n",
      "        }\n",
      "      }\n",
      "    }\\''''\n",
      "    os.system(cmd)"
     ],
     "language": "python",
     "metadata": {},
     "outputs": [],
     "prompt_number": 241
    },
    {
     "cell_type": "code",
     "collapsed": false,
     "input": [
      "clear_and_map()"
     ],
     "language": "python",
     "metadata": {},
     "outputs": [
      {
       "output_type": "stream",
       "stream": "stdout",
       "text": [
        "Clearing old index and creating new one with mapping.\n"
       ]
      }
     ],
     "prompt_number": 242
    },
    {
     "cell_type": "code",
     "collapsed": false,
     "input": [
      "def index_test_report():\n",
      "    cmd = \"curl -u {}:{} -X PUT \\\"{}/{}/{}/12345678\\\" -d '\".format(USER, PASS, HOST, INDEX, PARENT)\n",
      "    cmd +='''{\n",
      "        \"agency\":\"BLM\", \n",
      "        \"title\":\"Test Report\",\n",
      "        \"state\":\"TX\"\n",
      "    }\\'\n",
      "    '''\n",
      "    os.system(cmd)"
     ],
     "language": "python",
     "metadata": {},
     "outputs": [],
     "prompt_number": 174
    },
    {
     "cell_type": "code",
     "collapsed": false,
     "input": [
      "index_test_report()"
     ],
     "language": "python",
     "metadata": {},
     "outputs": [],
     "prompt_number": 175
    },
    {
     "cell_type": "code",
     "collapsed": false,
     "input": [
      "def report_exists(eis_number):\n",
      "    res = es.get(index=INDEX, doc_type=PARENT, id=eis_number)\n",
      "    return res['found']"
     ],
     "language": "python",
     "metadata": {},
     "outputs": [],
     "prompt_number": 6
    },
    {
     "cell_type": "code",
     "collapsed": false,
     "input": [
      "def get_report_by_eis_number(eis_number):\n",
      "    res = es.get(index=INDEX, doc_type=PARENT, id=eis_number)\n",
      "    return res['_source']"
     ],
     "language": "python",
     "metadata": {},
     "outputs": [],
     "prompt_number": 177
    },
    {
     "cell_type": "code",
     "collapsed": false,
     "input": [
      "get_report_by_eis_number(12345678)"
     ],
     "language": "python",
     "metadata": {},
     "outputs": [
      {
       "metadata": {},
       "output_type": "pyout",
       "prompt_number": 178,
       "text": [
        "{u'agency': u'BLM', u'state': u'TX', u'title': u'Test Report'}"
       ]
      }
     ],
     "prompt_number": 178
    },
    {
     "cell_type": "code",
     "collapsed": false,
     "input": [
      "def create_temp_file_from_s3(file_url):\n",
      "    file_key = bucket.get_key(file_url)\n",
      "    temp_file = file_key.get_contents_to_filename('temp.txt')"
     ],
     "language": "python",
     "metadata": {},
     "outputs": [],
     "prompt_number": 179
    },
    {
     "cell_type": "code",
     "collapsed": false,
     "input": [
      "def remove_temp_file():\n",
      "    os.remove('temp.txt')"
     ],
     "language": "python",
     "metadata": {},
     "outputs": [],
     "prompt_number": 180
    },
    {
     "cell_type": "code",
     "collapsed": false,
     "input": [
      "def make_comment_letter_list():\n",
      "    letters = []\n",
      "    with open('comment_letters_metadata.csv', mode='r') as infile:\n",
      "        reader = csv.reader(infile)\n",
      "        for row in reader:\n",
      "            if row[5] != 'file_url':\n",
      "                file_name = urllib2.unquote(row[5])\n",
      "                file_name = file_name[file_name.index('$file')+6:].replace(\".PDF\", \"\")\n",
      "                letters.append(file_name)\n",
      "    return letters"
     ],
     "language": "python",
     "metadata": {},
     "outputs": [],
     "prompt_number": 221
    },
    {
     "cell_type": "code",
     "collapsed": false,
     "input": [
      "comment_letters = make_comment_letter_list()"
     ],
     "language": "python",
     "metadata": {},
     "outputs": [],
     "prompt_number": 222
    },
    {
     "cell_type": "code",
     "collapsed": false,
     "input": [
      "def comment_letter(file_url):\n",
      "    return file_url in comment_letters"
     ],
     "language": "python",
     "metadata": {},
     "outputs": [],
     "prompt_number": 223
    },
    {
     "cell_type": "code",
     "collapsed": false,
     "input": [
      "len(comment_letters)"
     ],
     "language": "python",
     "metadata": {},
     "outputs": [
      {
       "metadata": {},
       "output_type": "pyout",
       "prompt_number": 224,
       "text": [
        "1334"
       ]
      }
     ],
     "prompt_number": 224
    },
    {
     "cell_type": "code",
     "collapsed": false,
     "input": [
      "def index_individual_child(file_url):\n",
      "    if file_url[len(file_url)-4:] == '.txt':\n",
      "        if comment_letter(file_url.replace(\".txt\",\"\")[20:28]):\n",
      "            base_url = 'https://s3.amazonaws.com/epaeis/'\n",
      "            eis_number = file_url[11:19]\n",
      "            create_temp_file_from_s3(file_url)\n",
      "            title = file_url[20:].replace(\"-\", \" \").replace(\".txt\",\"\").title()\n",
      "            file64 = open('temp.txt', \"rb\").read().encode(\"base64\")\n",
      "            f = open('temp.json', 'w')\n",
      "            data = { \n",
      "                'file': file64, \n",
      "                'title': title, \n",
      "                'file_url':base_url + file_url\n",
      "            }\n",
      "            print \"Indexing: \" + file_url\n",
      "            json.dump(data, f) # dump json to tmp file\n",
      "            f.close()\n",
      "            remove_temp_file()\n",
      "            cmd = 'curl -u {}:{} -X POST \"{}/{}/{}?parent={}\" -d @'.format(USER, PASS, HOST, INDEX, \"comment_letter\", eis_number)\n",
      "            cmd += 'temp.json'\n",
      "            os.system(cmd)"
     ],
     "language": "python",
     "metadata": {},
     "outputs": [],
     "prompt_number": 248
    },
    {
     "cell_type": "code",
     "collapsed": false,
     "input": [
      "index_individual_child(\"01-03-2014/20130381/_us-181-harbor-bridge-draft-eis-abstract.txt\")"
     ],
     "language": "python",
     "metadata": {},
     "outputs": [
      {
       "output_type": "stream",
       "stream": "stdout",
       "text": [
        "Indexing: 01-03-2014/20130381/_us-181-harbor-bridge-draft-eis-abstract.txt\n"
       ]
      }
     ],
     "prompt_number": 170
    },
    {
     "cell_type": "code",
     "collapsed": false,
     "input": [
      "def index_all_files():\n",
      "    rs = bucket.list()\n",
      "    for key in rs:\n",
      "        index_individual_child(key.name)\n",
      "    print \"Finished\""
     ],
     "language": "python",
     "metadata": {},
     "outputs": [],
     "prompt_number": 249
    },
    {
     "cell_type": "code",
     "collapsed": false,
     "input": [
      "index_all_files()"
     ],
     "language": "python",
     "metadata": {},
     "outputs": [
      {
       "output_type": "stream",
       "stream": "stdout",
       "text": [
        "Indexing: 01-02-2009/20080540/20080540.txt\n",
        "Indexing: 01-11-2013/20130001/20130001.txt"
       ]
      },
      {
       "output_type": "stream",
       "stream": "stdout",
       "text": [
        "\n",
        "Indexing: 03-07-2014/20140053/20140130_us51_report-cover_vol_i.txt"
       ]
      },
      {
       "output_type": "stream",
       "stream": "stdout",
       "text": [
        "\n",
        "Indexing: 03-07-2014/20140053/20140130_us51_report-cover_vol_ii.txt"
       ]
      },
      {
       "output_type": "stream",
       "stream": "stdout",
       "text": [
        "\n",
        "Finished"
       ]
      },
      {
       "output_type": "stream",
       "stream": "stdout",
       "text": [
        "\n"
       ]
      }
     ],
     "prompt_number": 250
    },
    {
     "cell_type": "code",
     "collapsed": false,
     "input": [
      "a = []\n",
      "b = []\n",
      "rs = bucket.list()\n",
      "for key in rs:\n",
      "    if key.name[len(key.name)-4:] == '.txt':\n",
      "        b.append(key.name)\n",
      "        if comment_letter(key.name[20:].replace(\".txt\",\"\")):\n",
      "            print key.name"
     ],
     "language": "python",
     "metadata": {},
     "outputs": [
      {
       "output_type": "stream",
       "stream": "stdout",
       "text": [
        "01-02-2009/20080540/20080540.txt\n",
        "01-11-2013/20130001/20130001.txt\n"
       ]
      }
     ],
     "prompt_number": 265
    },
    {
     "cell_type": "code",
     "collapsed": false,
     "input": [
      "rs = bucket.list()\n",
      "for key in rs:\n",
      "    print key.name"
     ],
     "language": "python",
     "metadata": {},
     "outputs": []
    },
    {
     "cell_type": "code",
     "collapsed": false,
     "input": [
      "comment_letters[:2]"
     ],
     "language": "python",
     "metadata": {},
     "outputs": [
      {
       "metadata": {},
       "output_type": "pyout",
       "prompt_number": 263,
       "text": [
        "['20140282', '20140285']"
       ]
      }
     ],
     "prompt_number": 263
    },
    {
     "cell_type": "code",
     "collapsed": false,
     "input": [
      "missing  = [l for l in comment_letters if str(l) not in a]"
     ],
     "language": "python",
     "metadata": {},
     "outputs": [],
     "prompt_number": 235
    },
    {
     "cell_type": "code",
     "collapsed": false,
     "input": [
      "len(missing)"
     ],
     "language": "python",
     "metadata": {},
     "outputs": [
      {
       "metadata": {},
       "output_type": "pyout",
       "prompt_number": 236,
       "text": [
        "0"
       ]
      }
     ],
     "prompt_number": 236
    },
    {
     "cell_type": "code",
     "collapsed": false,
     "input": [
      "cmd = \"curl -u {}:{} -X DELETE \\\"{}/{}/{}\\\"\".format(USER, PASS, HOST, INDEX, \"comment_letter\")\n",
      "os.system(cmd)\n",
      "cmd = \"curl -u {}:{} -X PUT \\\"{}/{}/{}/_mapping?pretty=1\\\" -d \\'\".format(USER, PASS, HOST, INDEX, 'comment_letter')\n",
      "cmd +='''{\n",
      "  \"comment_letter\": {\n",
      "      \"_parent\": {\n",
      "        \"type\":\"report\"\n",
      "      },\n",
      "      \"properties\": {\n",
      "        \"file\": {\n",
      "          \"type\": \"attachment\",\n",
      "          \"fields\": {\n",
      "            \"title\" : { \"store\" : \"yes\" },\n",
      "            \"file\" : { \"term_vector\":\"with_positions_offsets\", \"store\":\"yes\" },\n",
      "            \"content_type\": {\"type\":\"string\", \"store\":\"yes\"},\n",
      "            \"date\" : {\"store\" : \"yes\"},\n",
      "            \"keywords\" : {\"store\" : \"yes\", \"analyzer\":\"keyword\"},\n",
      "            \"content_length\" : {\"type\":\"string\", \"store\" : \"yes\"}\n",
      "          }\n",
      "        },\n",
      "        \"file_url\": {\n",
      "            \"type\":\"string\",\n",
      "            \"index\":\"not_analyzed\"\n",
      "        },\n",
      "        \"title\": {\n",
      "          \"type\":\"string\"\n",
      "        }\n",
      "    }\n",
      "  }\n",
      "}\\''''\n",
      "os.system(cmd)"
     ],
     "language": "python",
     "metadata": {},
     "outputs": [
      {
       "metadata": {},
       "output_type": "pyout",
       "prompt_number": 252,
       "text": [
        "0"
       ]
      }
     ],
     "prompt_number": 252
    },
    {
     "cell_type": "code",
     "collapsed": false,
     "input": [
      "report_exists(\"20140285\")"
     ],
     "language": "python",
     "metadata": {},
     "outputs": [
      {
       "metadata": {},
       "output_type": "pyout",
       "prompt_number": 7,
       "text": [
        "True"
       ]
      }
     ],
     "prompt_number": 7
    },
    {
     "cell_type": "code",
     "collapsed": false,
     "input": [],
     "language": "python",
     "metadata": {},
     "outputs": []
    }
   ],
   "metadata": {}
  }
 ]
}