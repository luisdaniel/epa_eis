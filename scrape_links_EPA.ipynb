{
 "metadata": {
  "name": "",
  "signature": "sha256:49b19ace1df2eea1f71737dce611ad3a4d06bf48e4dc19ac6179c3d3574e0fe1"
 },
 "nbformat": 3,
 "nbformat_minor": 0,
 "worksheets": [
  {
   "cells": [
    {
     "cell_type": "code",
     "collapsed": false,
     "input": [
      "from bs4 import BeautifulSoup as bs\n",
      "import re\n",
      "import urllib2\n",
      "import csv\n",
      "import json\n",
      "import datetime\n",
      "import pandas as pd"
     ],
     "language": "python",
     "metadata": {},
     "outputs": [],
     "prompt_number": 19
    },
    {
     "cell_type": "code",
     "collapsed": false,
     "input": [
      "base_url = \"http://yosemite.epa.gov/oeca/webeis.nsf/viEIS01!OpenView&Start=\"\n",
      "document_base_url=\"http://yosemite.epa.gov/oeca/webeis.nsf/\""
     ],
     "language": "python",
     "metadata": {},
     "outputs": [],
     "prompt_number": 45
    },
    {
     "cell_type": "code",
     "collapsed": false,
     "input": [
      "#find max records\n",
      "page = urllib2.urlopen(base_url + str(1)).read()\n",
      "soup = bs(page)\n",
      "records = soup.findAll(text=re.compile(r'\\bdocuments\\swere\\s\\sretrieved'))[0]\n",
      "max_records = [int(s) for s in records.split() if s.isdigit()][0]"
     ],
     "language": "python",
     "metadata": {},
     "outputs": [],
     "prompt_number": 46
    },
    {
     "cell_type": "code",
     "collapsed": false,
     "input": [
      "#create empty data frame\n",
      "columns = ['date', 'agency', 'state', 'document_type', 'title', 'report_link']\n",
      "df = pd.DataFrame(columns=columns)"
     ],
     "language": "python",
     "metadata": {},
     "outputs": [
      {
       "html": [
        "<div style=\"max-height:1000px;max-width:1500px;overflow:auto;\">\n",
        "<table border=\"1\" class=\"dataframe\">\n",
        "  <thead>\n",
        "    <tr style=\"text-align: right;\">\n",
        "      <th></th>\n",
        "      <th>date</th>\n",
        "      <th>agency</th>\n",
        "      <th>state</th>\n",
        "      <th>document_type</th>\n",
        "      <th>title</th>\n",
        "      <th>report_link</th>\n",
        "    </tr>\n",
        "  </thead>\n",
        "  <tbody>\n",
        "  </tbody>\n",
        "</table>\n",
        "</div>"
       ],
       "metadata": {},
       "output_type": "pyout",
       "prompt_number": 47,
       "text": [
        "Empty DataFrame\n",
        "Columns: [date, agency, state, document_type, title, report_link]\n",
        "Index: []"
       ]
      }
     ],
     "prompt_number": 47
    },
    {
     "cell_type": "code",
     "collapsed": false,
     "input": [
      "increment = 29\n",
      "index = 0\n",
      "for page_num in range(1, max_records, increment):\n",
      "    page = urllib2.urlopen(base_url + str(page_num)).read()\n",
      "    print \"Getting page: \" + base_url + str(page_num)\n",
      "    soup = bs(page)\n",
      "    table = soup.findAll('tr', attrs={\"class\":\"viewdata\"})\n",
      "    for row in table:\n",
      "        date = row.findAll('td')[0].text\n",
      "        agency = row.findAll('td')[1].text\n",
      "        state = row.findAll('td')[2].text\n",
      "        document_type = row.findAll('td')[3].text\n",
      "        title = row.findAll('td')[4].text\n",
      "        report_link = document_base_url + row.findAll('td')[4].find('a')['href'].replace('?opendocument', '')\n",
      "        new_row = [date, agency, state, document_type, title, report_link]\n",
      "        for i in range(len(new_row)):  # For every value in our newrow\n",
      "            if hasattr(new_row[i], 'encode'):\n",
      "                new_row[i] = new_row[i].encode('utf8')\n",
      "        df.loc[index] = new_row\n",
      "        index +=1"
     ],
     "language": "python",
     "metadata": {},
     "outputs": [
      {
       "output_type": "stream",
       "stream": "stdout",
       "text": [
        "Getting page: http://yosemite.epa.gov/oeca/webeis.nsf/viEIS01!OpenView&Start=1\n",
        "Getting page: http://yosemite.epa.gov/oeca/webeis.nsf/viEIS01!OpenView&Start=30"
       ]
      },
      {
       "output_type": "stream",
       "stream": "stdout",
       "text": [
        "\n",
        "Getting page: http://yosemite.epa.gov/oeca/webeis.nsf/viEIS01!OpenView&Start=59"
       ]
      },
      {
       "output_type": "stream",
       "stream": "stdout",
       "text": [
        "\n",
        "Getting page: http://yosemite.epa.gov/oeca/webeis.nsf/viEIS01!OpenView&Start=88"
       ]
      },
      {
       "output_type": "stream",
       "stream": "stdout",
       "text": [
        "\n",
        "Getting page: http://yosemite.epa.gov/oeca/webeis.nsf/viEIS01!OpenView&Start=117"
       ]
      },
      {
       "output_type": "stream",
       "stream": "stdout",
       "text": [
        "\n",
        "Getting page: http://yosemite.epa.gov/oeca/webeis.nsf/viEIS01!OpenView&Start=146"
       ]
      },
      {
       "output_type": "stream",
       "stream": "stdout",
       "text": [
        "\n",
        "Getting page: http://yosemite.epa.gov/oeca/webeis.nsf/viEIS01!OpenView&Start=175"
       ]
      },
      {
       "output_type": "stream",
       "stream": "stdout",
       "text": [
        "\n",
        "Getting page: http://yosemite.epa.gov/oeca/webeis.nsf/viEIS01!OpenView&Start=204"
       ]
      },
      {
       "output_type": "stream",
       "stream": "stdout",
       "text": [
        "\n",
        "Getting page: http://yosemite.epa.gov/oeca/webeis.nsf/viEIS01!OpenView&Start=233"
       ]
      },
      {
       "output_type": "stream",
       "stream": "stdout",
       "text": [
        "\n",
        "Getting page: http://yosemite.epa.gov/oeca/webeis.nsf/viEIS01!OpenView&Start=262"
       ]
      },
      {
       "output_type": "stream",
       "stream": "stdout",
       "text": [
        "\n",
        "Getting page: http://yosemite.epa.gov/oeca/webeis.nsf/viEIS01!OpenView&Start=291"
       ]
      },
      {
       "output_type": "stream",
       "stream": "stdout",
       "text": [
        "\n",
        "Getting page: http://yosemite.epa.gov/oeca/webeis.nsf/viEIS01!OpenView&Start=320"
       ]
      },
      {
       "output_type": "stream",
       "stream": "stdout",
       "text": [
        "\n",
        "Getting page: http://yosemite.epa.gov/oeca/webeis.nsf/viEIS01!OpenView&Start=349"
       ]
      },
      {
       "output_type": "stream",
       "stream": "stdout",
       "text": [
        "\n",
        "Getting page: http://yosemite.epa.gov/oeca/webeis.nsf/viEIS01!OpenView&Start=378"
       ]
      },
      {
       "output_type": "stream",
       "stream": "stdout",
       "text": [
        "\n",
        "Getting page: http://yosemite.epa.gov/oeca/webeis.nsf/viEIS01!OpenView&Start=407"
       ]
      },
      {
       "output_type": "stream",
       "stream": "stdout",
       "text": [
        "\n",
        "Getting page: http://yosemite.epa.gov/oeca/webeis.nsf/viEIS01!OpenView&Start=436"
       ]
      },
      {
       "output_type": "stream",
       "stream": "stdout",
       "text": [
        "\n",
        "Getting page: http://yosemite.epa.gov/oeca/webeis.nsf/viEIS01!OpenView&Start=465"
       ]
      },
      {
       "output_type": "stream",
       "stream": "stdout",
       "text": [
        "\n",
        "Getting page: http://yosemite.epa.gov/oeca/webeis.nsf/viEIS01!OpenView&Start=494"
       ]
      },
      {
       "output_type": "stream",
       "stream": "stdout",
       "text": [
        "\n",
        "Getting page: http://yosemite.epa.gov/oeca/webeis.nsf/viEIS01!OpenView&Start=523"
       ]
      },
      {
       "output_type": "stream",
       "stream": "stdout",
       "text": [
        "\n",
        "Getting page: http://yosemite.epa.gov/oeca/webeis.nsf/viEIS01!OpenView&Start=552"
       ]
      },
      {
       "output_type": "stream",
       "stream": "stdout",
       "text": [
        "\n",
        "Getting page: http://yosemite.epa.gov/oeca/webeis.nsf/viEIS01!OpenView&Start=581"
       ]
      },
      {
       "output_type": "stream",
       "stream": "stdout",
       "text": [
        "\n",
        "Getting page: http://yosemite.epa.gov/oeca/webeis.nsf/viEIS01!OpenView&Start=610"
       ]
      },
      {
       "output_type": "stream",
       "stream": "stdout",
       "text": [
        "\n",
        "Getting page: http://yosemite.epa.gov/oeca/webeis.nsf/viEIS01!OpenView&Start=639"
       ]
      },
      {
       "output_type": "stream",
       "stream": "stdout",
       "text": [
        "\n",
        "Getting page: http://yosemite.epa.gov/oeca/webeis.nsf/viEIS01!OpenView&Start=668"
       ]
      },
      {
       "output_type": "stream",
       "stream": "stdout",
       "text": [
        "\n",
        "Getting page: http://yosemite.epa.gov/oeca/webeis.nsf/viEIS01!OpenView&Start=697"
       ]
      },
      {
       "output_type": "stream",
       "stream": "stdout",
       "text": [
        "\n",
        "Getting page: http://yosemite.epa.gov/oeca/webeis.nsf/viEIS01!OpenView&Start=726"
       ]
      },
      {
       "output_type": "stream",
       "stream": "stdout",
       "text": [
        "\n",
        "Getting page: http://yosemite.epa.gov/oeca/webeis.nsf/viEIS01!OpenView&Start=755"
       ]
      },
      {
       "output_type": "stream",
       "stream": "stdout",
       "text": [
        "\n",
        "Getting page: http://yosemite.epa.gov/oeca/webeis.nsf/viEIS01!OpenView&Start=784"
       ]
      },
      {
       "output_type": "stream",
       "stream": "stdout",
       "text": [
        "\n",
        "Getting page: http://yosemite.epa.gov/oeca/webeis.nsf/viEIS01!OpenView&Start=813"
       ]
      },
      {
       "output_type": "stream",
       "stream": "stdout",
       "text": [
        "\n",
        "Getting page: http://yosemite.epa.gov/oeca/webeis.nsf/viEIS01!OpenView&Start=842"
       ]
      },
      {
       "output_type": "stream",
       "stream": "stdout",
       "text": [
        "\n",
        "Getting page: http://yosemite.epa.gov/oeca/webeis.nsf/viEIS01!OpenView&Start=871"
       ]
      },
      {
       "output_type": "stream",
       "stream": "stdout",
       "text": [
        "\n",
        "Getting page: http://yosemite.epa.gov/oeca/webeis.nsf/viEIS01!OpenView&Start=900"
       ]
      },
      {
       "output_type": "stream",
       "stream": "stdout",
       "text": [
        "\n",
        "Getting page: http://yosemite.epa.gov/oeca/webeis.nsf/viEIS01!OpenView&Start=929"
       ]
      },
      {
       "output_type": "stream",
       "stream": "stdout",
       "text": [
        "\n",
        "Getting page: http://yosemite.epa.gov/oeca/webeis.nsf/viEIS01!OpenView&Start=958"
       ]
      },
      {
       "output_type": "stream",
       "stream": "stdout",
       "text": [
        "\n",
        "Getting page: http://yosemite.epa.gov/oeca/webeis.nsf/viEIS01!OpenView&Start=987"
       ]
      },
      {
       "output_type": "stream",
       "stream": "stdout",
       "text": [
        "\n",
        "Getting page: http://yosemite.epa.gov/oeca/webeis.nsf/viEIS01!OpenView&Start=1016"
       ]
      },
      {
       "output_type": "stream",
       "stream": "stdout",
       "text": [
        "\n",
        "Getting page: http://yosemite.epa.gov/oeca/webeis.nsf/viEIS01!OpenView&Start=1045"
       ]
      },
      {
       "output_type": "stream",
       "stream": "stdout",
       "text": [
        "\n",
        "Getting page: http://yosemite.epa.gov/oeca/webeis.nsf/viEIS01!OpenView&Start=1074"
       ]
      },
      {
       "output_type": "stream",
       "stream": "stdout",
       "text": [
        "\n",
        "Getting page: http://yosemite.epa.gov/oeca/webeis.nsf/viEIS01!OpenView&Start=1103"
       ]
      },
      {
       "output_type": "stream",
       "stream": "stdout",
       "text": [
        "\n",
        "Getting page: http://yosemite.epa.gov/oeca/webeis.nsf/viEIS01!OpenView&Start=1132"
       ]
      },
      {
       "output_type": "stream",
       "stream": "stdout",
       "text": [
        "\n",
        "Getting page: http://yosemite.epa.gov/oeca/webeis.nsf/viEIS01!OpenView&Start=1161"
       ]
      },
      {
       "output_type": "stream",
       "stream": "stdout",
       "text": [
        "\n",
        "Getting page: http://yosemite.epa.gov/oeca/webeis.nsf/viEIS01!OpenView&Start=1190"
       ]
      },
      {
       "output_type": "stream",
       "stream": "stdout",
       "text": [
        "\n",
        "Getting page: http://yosemite.epa.gov/oeca/webeis.nsf/viEIS01!OpenView&Start=1219"
       ]
      },
      {
       "output_type": "stream",
       "stream": "stdout",
       "text": [
        "\n",
        "Getting page: http://yosemite.epa.gov/oeca/webeis.nsf/viEIS01!OpenView&Start=1248"
       ]
      },
      {
       "output_type": "stream",
       "stream": "stdout",
       "text": [
        "\n",
        "Getting page: http://yosemite.epa.gov/oeca/webeis.nsf/viEIS01!OpenView&Start=1277"
       ]
      },
      {
       "output_type": "stream",
       "stream": "stdout",
       "text": [
        "\n",
        "Getting page: http://yosemite.epa.gov/oeca/webeis.nsf/viEIS01!OpenView&Start=1306"
       ]
      },
      {
       "output_type": "stream",
       "stream": "stdout",
       "text": [
        "\n",
        "Getting page: http://yosemite.epa.gov/oeca/webeis.nsf/viEIS01!OpenView&Start=1335"
       ]
      },
      {
       "output_type": "stream",
       "stream": "stdout",
       "text": [
        "\n",
        "Getting page: http://yosemite.epa.gov/oeca/webeis.nsf/viEIS01!OpenView&Start=1364"
       ]
      },
      {
       "output_type": "stream",
       "stream": "stdout",
       "text": [
        "\n",
        "Getting page: http://yosemite.epa.gov/oeca/webeis.nsf/viEIS01!OpenView&Start=1393"
       ]
      },
      {
       "output_type": "stream",
       "stream": "stdout",
       "text": [
        "\n",
        "Getting page: http://yosemite.epa.gov/oeca/webeis.nsf/viEIS01!OpenView&Start=1422"
       ]
      },
      {
       "output_type": "stream",
       "stream": "stdout",
       "text": [
        "\n",
        "Getting page: http://yosemite.epa.gov/oeca/webeis.nsf/viEIS01!OpenView&Start=1451"
       ]
      },
      {
       "output_type": "stream",
       "stream": "stdout",
       "text": [
        "\n",
        "Getting page: http://yosemite.epa.gov/oeca/webeis.nsf/viEIS01!OpenView&Start=1480"
       ]
      },
      {
       "output_type": "stream",
       "stream": "stdout",
       "text": [
        "\n",
        "Getting page: http://yosemite.epa.gov/oeca/webeis.nsf/viEIS01!OpenView&Start=1509"
       ]
      },
      {
       "output_type": "stream",
       "stream": "stdout",
       "text": [
        "\n",
        "Getting page: http://yosemite.epa.gov/oeca/webeis.nsf/viEIS01!OpenView&Start=1538"
       ]
      },
      {
       "output_type": "stream",
       "stream": "stdout",
       "text": [
        "\n",
        "Getting page: http://yosemite.epa.gov/oeca/webeis.nsf/viEIS01!OpenView&Start=1567"
       ]
      },
      {
       "output_type": "stream",
       "stream": "stdout",
       "text": [
        "\n",
        "Getting page: http://yosemite.epa.gov/oeca/webeis.nsf/viEIS01!OpenView&Start=1596"
       ]
      },
      {
       "output_type": "stream",
       "stream": "stdout",
       "text": [
        "\n",
        "Getting page: http://yosemite.epa.gov/oeca/webeis.nsf/viEIS01!OpenView&Start=1625"
       ]
      },
      {
       "output_type": "stream",
       "stream": "stdout",
       "text": [
        "\n",
        "Getting page: http://yosemite.epa.gov/oeca/webeis.nsf/viEIS01!OpenView&Start=1654"
       ]
      },
      {
       "output_type": "stream",
       "stream": "stdout",
       "text": [
        "\n",
        "Getting page: http://yosemite.epa.gov/oeca/webeis.nsf/viEIS01!OpenView&Start=1683"
       ]
      },
      {
       "output_type": "stream",
       "stream": "stdout",
       "text": [
        "\n",
        "Getting page: http://yosemite.epa.gov/oeca/webeis.nsf/viEIS01!OpenView&Start=1712"
       ]
      },
      {
       "output_type": "stream",
       "stream": "stdout",
       "text": [
        "\n",
        "Getting page: http://yosemite.epa.gov/oeca/webeis.nsf/viEIS01!OpenView&Start=1741"
       ]
      },
      {
       "output_type": "stream",
       "stream": "stdout",
       "text": [
        "\n",
        "Getting page: http://yosemite.epa.gov/oeca/webeis.nsf/viEIS01!OpenView&Start=1770"
       ]
      },
      {
       "output_type": "stream",
       "stream": "stdout",
       "text": [
        "\n",
        "Getting page: http://yosemite.epa.gov/oeca/webeis.nsf/viEIS01!OpenView&Start=1799"
       ]
      },
      {
       "output_type": "stream",
       "stream": "stdout",
       "text": [
        "\n",
        "Getting page: http://yosemite.epa.gov/oeca/webeis.nsf/viEIS01!OpenView&Start=1828"
       ]
      },
      {
       "output_type": "stream",
       "stream": "stdout",
       "text": [
        "\n",
        "Getting page: http://yosemite.epa.gov/oeca/webeis.nsf/viEIS01!OpenView&Start=1857"
       ]
      },
      {
       "output_type": "stream",
       "stream": "stdout",
       "text": [
        "\n",
        "Getting page: http://yosemite.epa.gov/oeca/webeis.nsf/viEIS01!OpenView&Start=1886"
       ]
      },
      {
       "output_type": "stream",
       "stream": "stdout",
       "text": [
        "\n",
        "Getting page: http://yosemite.epa.gov/oeca/webeis.nsf/viEIS01!OpenView&Start=1915"
       ]
      },
      {
       "output_type": "stream",
       "stream": "stdout",
       "text": [
        "\n",
        "Getting page: http://yosemite.epa.gov/oeca/webeis.nsf/viEIS01!OpenView&Start=1944"
       ]
      },
      {
       "output_type": "stream",
       "stream": "stdout",
       "text": [
        "\n",
        "Getting page: http://yosemite.epa.gov/oeca/webeis.nsf/viEIS01!OpenView&Start=1973"
       ]
      },
      {
       "output_type": "stream",
       "stream": "stdout",
       "text": [
        "\n",
        "Getting page: http://yosemite.epa.gov/oeca/webeis.nsf/viEIS01!OpenView&Start=2002"
       ]
      },
      {
       "output_type": "stream",
       "stream": "stdout",
       "text": [
        "\n",
        "Getting page: http://yosemite.epa.gov/oeca/webeis.nsf/viEIS01!OpenView&Start=2031"
       ]
      },
      {
       "output_type": "stream",
       "stream": "stdout",
       "text": [
        "\n",
        "Getting page: http://yosemite.epa.gov/oeca/webeis.nsf/viEIS01!OpenView&Start=2060"
       ]
      },
      {
       "output_type": "stream",
       "stream": "stdout",
       "text": [
        "\n",
        "Getting page: http://yosemite.epa.gov/oeca/webeis.nsf/viEIS01!OpenView&Start=2089"
       ]
      },
      {
       "output_type": "stream",
       "stream": "stdout",
       "text": [
        "\n",
        "Getting page: http://yosemite.epa.gov/oeca/webeis.nsf/viEIS01!OpenView&Start=2118"
       ]
      },
      {
       "output_type": "stream",
       "stream": "stdout",
       "text": [
        "\n",
        "Getting page: http://yosemite.epa.gov/oeca/webeis.nsf/viEIS01!OpenView&Start=2147"
       ]
      },
      {
       "output_type": "stream",
       "stream": "stdout",
       "text": [
        "\n",
        "Getting page: http://yosemite.epa.gov/oeca/webeis.nsf/viEIS01!OpenView&Start=2176"
       ]
      },
      {
       "output_type": "stream",
       "stream": "stdout",
       "text": [
        "\n",
        "Getting page: http://yosemite.epa.gov/oeca/webeis.nsf/viEIS01!OpenView&Start=2205"
       ]
      },
      {
       "output_type": "stream",
       "stream": "stdout",
       "text": [
        "\n",
        "Getting page: http://yosemite.epa.gov/oeca/webeis.nsf/viEIS01!OpenView&Start=2234"
       ]
      },
      {
       "output_type": "stream",
       "stream": "stdout",
       "text": [
        "\n",
        "Getting page: http://yosemite.epa.gov/oeca/webeis.nsf/viEIS01!OpenView&Start=2263"
       ]
      },
      {
       "output_type": "stream",
       "stream": "stdout",
       "text": [
        "\n",
        "Getting page: http://yosemite.epa.gov/oeca/webeis.nsf/viEIS01!OpenView&Start=2292"
       ]
      },
      {
       "output_type": "stream",
       "stream": "stdout",
       "text": [
        "\n",
        "Getting page: http://yosemite.epa.gov/oeca/webeis.nsf/viEIS01!OpenView&Start=2321"
       ]
      },
      {
       "output_type": "stream",
       "stream": "stdout",
       "text": [
        "\n",
        "Getting page: http://yosemite.epa.gov/oeca/webeis.nsf/viEIS01!OpenView&Start=2350"
       ]
      },
      {
       "output_type": "stream",
       "stream": "stdout",
       "text": [
        "\n",
        "Getting page: http://yosemite.epa.gov/oeca/webeis.nsf/viEIS01!OpenView&Start=2379"
       ]
      },
      {
       "output_type": "stream",
       "stream": "stdout",
       "text": [
        "\n",
        "Getting page: http://yosemite.epa.gov/oeca/webeis.nsf/viEIS01!OpenView&Start=2408"
       ]
      },
      {
       "output_type": "stream",
       "stream": "stdout",
       "text": [
        "\n"
       ]
      },
      {
       "html": [
        "<div style=\"max-height:1000px;max-width:1500px;overflow:auto;\">\n",
        "<table border=\"1\" class=\"dataframe\">\n",
        "  <thead>\n",
        "    <tr style=\"text-align: right;\">\n",
        "      <th></th>\n",
        "      <th>date</th>\n",
        "      <th>agency</th>\n",
        "      <th>state</th>\n",
        "      <th>document_type</th>\n",
        "      <th>title</th>\n",
        "      <th>report_link</th>\n",
        "    </tr>\n",
        "  </thead>\n",
        "  <tbody>\n",
        "    <tr>\n",
        "      <th>0   </th>\n",
        "      <td> 10/31/2014</td>\n",
        "      <td>   BLM</td>\n",
        "      <td> Multi</td>\n",
        "      <td>               Draft EIS</td>\n",
        "      <td> Southeastern States Draft Resource Management ...</td>\n",
        "      <td> http://yosemite.epa.gov/oeca/webeis.nsf/EIS01/...</td>\n",
        "    </tr>\n",
        "    <tr>\n",
        "      <th>1   </th>\n",
        "      <td> 10/31/2014</td>\n",
        "      <td>  FERC</td>\n",
        "      <td>    NY</td>\n",
        "      <td>               Final EIS</td>\n",
        "      <td> Constitution Pipeline and Wright Interconnect ...</td>\n",
        "      <td> http://yosemite.epa.gov/oeca/webeis.nsf/EIS01/...</td>\n",
        "    </tr>\n",
        "    <tr>\n",
        "      <th>2   </th>\n",
        "      <td> 10/31/2014</td>\n",
        "      <td>   USA</td>\n",
        "      <td>    CO</td>\n",
        "      <td>               Draft EIS</td>\n",
        "      <td> Pinon Canyon Maneuver Site (PCMS) Training and...</td>\n",
        "      <td> http://yosemite.epa.gov/oeca/webeis.nsf/EIS01/...</td>\n",
        "    </tr>\n",
        "    <tr>\n",
        "      <th>3   </th>\n",
        "      <td> 10/31/2014</td>\n",
        "      <td> USFWS</td>\n",
        "      <td>    CA</td>\n",
        "      <td>        Final Supplement</td>\n",
        "      <td> Coachella Valley Multiple Species Habitat Cons...</td>\n",
        "      <td> http://yosemite.epa.gov/oeca/webeis.nsf/EIS01/...</td>\n",
        "    </tr>\n",
        "    <tr>\n",
        "      <th>4   </th>\n",
        "      <td> 10/24/2014</td>\n",
        "      <td>  FHWA</td>\n",
        "      <td>    UT</td>\n",
        "      <td>               Draft EIS</td>\n",
        "      <td>     1800 North (SR-37) Transportation Improvement</td>\n",
        "      <td> http://yosemite.epa.gov/oeca/webeis.nsf/EIS01/...</td>\n",
        "    </tr>\n",
        "    <tr>\n",
        "      <th>5   </th>\n",
        "      <td> 10/24/2014</td>\n",
        "      <td>  FHWA</td>\n",
        "      <td>    NY</td>\n",
        "      <td>               Final EIS</td>\n",
        "      <td>  Interstate 87 (I-87)  Exit 4 Access Improvements</td>\n",
        "      <td> http://yosemite.epa.gov/oeca/webeis.nsf/EIS01/...</td>\n",
        "    </tr>\n",
        "    <tr>\n",
        "      <th>6   </th>\n",
        "      <td> 10/24/2014</td>\n",
        "      <td>  NOAA</td>\n",
        "      <td>    WA</td>\n",
        "      <td>               Draft EIS</td>\n",
        "      <td> Harvest Specifications and Management Measures...</td>\n",
        "      <td> http://yosemite.epa.gov/oeca/webeis.nsf/EIS01/...</td>\n",
        "    </tr>\n",
        "    <tr>\n",
        "      <th>7   </th>\n",
        "      <td> 10/24/2014</td>\n",
        "      <td> USACE</td>\n",
        "      <td>    CA</td>\n",
        "      <td>               Draft EIS</td>\n",
        "      <td>                River Islands At Lathrop, Phase 2B</td>\n",
        "      <td> http://yosemite.epa.gov/oeca/webeis.nsf/EIS01/...</td>\n",
        "    </tr>\n",
        "    <tr>\n",
        "      <th>8   </th>\n",
        "      <td> 10/24/2014</td>\n",
        "      <td>   USN</td>\n",
        "      <td>    HI</td>\n",
        "      <td>  Third Draft Supplement</td>\n",
        "      <td> Surveillance Towed Array Sensor System Low Fre...</td>\n",
        "      <td> http://yosemite.epa.gov/oeca/webeis.nsf/EIS01/...</td>\n",
        "    </tr>\n",
        "    <tr>\n",
        "      <th>9   </th>\n",
        "      <td> 10/17/2014</td>\n",
        "      <td>   EPA</td>\n",
        "      <td>    FL</td>\n",
        "      <td>               Final EIS</td>\n",
        "      <td> Designation of an Ocean Dredged Material Dispo...</td>\n",
        "      <td> http://yosemite.epa.gov/oeca/webeis.nsf/EIS01/...</td>\n",
        "    </tr>\n",
        "    <tr>\n",
        "      <th>10  </th>\n",
        "      <td> 10/17/2014</td>\n",
        "      <td>  FERC</td>\n",
        "      <td>    TX</td>\n",
        "      <td>               Final EIS</td>\n",
        "      <td>                        Corpus Christi LNG Project</td>\n",
        "      <td> http://yosemite.epa.gov/oeca/webeis.nsf/EIS01/...</td>\n",
        "    </tr>\n",
        "    <tr>\n",
        "      <th>11  </th>\n",
        "      <td> 10/17/2014</td>\n",
        "      <td>  FHWA</td>\n",
        "      <td>    FL</td>\n",
        "      <td>               Draft EIS</td>\n",
        "      <td>                                   SR 87 Connector</td>\n",
        "      <td> http://yosemite.epa.gov/oeca/webeis.nsf/EIS01/...</td>\n",
        "    </tr>\n",
        "    <tr>\n",
        "      <th>12  </th>\n",
        "      <td> 10/17/2014</td>\n",
        "      <td> USACE</td>\n",
        "      <td>    CA</td>\n",
        "      <td>               Final EIS</td>\n",
        "      <td> Berths 212-224 (YTI) Container Terminal Improv...</td>\n",
        "      <td> http://yosemite.epa.gov/oeca/webeis.nsf/EIS01/...</td>\n",
        "    </tr>\n",
        "    <tr>\n",
        "      <th>13  </th>\n",
        "      <td> 10/10/2014</td>\n",
        "      <td>   BLM</td>\n",
        "      <td>    NV</td>\n",
        "      <td>               Draft EIS</td>\n",
        "      <td> Las Vegas and Pahrump Field Offices Draft Reso...</td>\n",
        "      <td> http://yosemite.epa.gov/oeca/webeis.nsf/EIS01/...</td>\n",
        "    </tr>\n",
        "    <tr>\n",
        "      <th>14  </th>\n",
        "      <td> 10/10/2014</td>\n",
        "      <td>    BR</td>\n",
        "      <td>    CA</td>\n",
        "      <td>               Draft EIS</td>\n",
        "      <td>                         Long-Term Water Transfers</td>\n",
        "      <td> http://yosemite.epa.gov/oeca/webeis.nsf/EIS01/...</td>\n",
        "    </tr>\n",
        "    <tr>\n",
        "      <th>15  </th>\n",
        "      <td> 10/10/2014</td>\n",
        "      <td>   DOE</td>\n",
        "      <td>    TX</td>\n",
        "      <td>               Final EIS</td>\n",
        "      <td> ADOPTION - Freeport LNG Liquefaction Project a...</td>\n",
        "      <td> http://yosemite.epa.gov/oeca/webeis.nsf/EIS01/...</td>\n",
        "    </tr>\n",
        "    <tr>\n",
        "      <th>16  </th>\n",
        "      <td> 10/10/2014</td>\n",
        "      <td>  FHWA</td>\n",
        "      <td>    CA</td>\n",
        "      <td>               Draft EIS</td>\n",
        "      <td>                      High Desert Corridor Project</td>\n",
        "      <td> http://yosemite.epa.gov/oeca/webeis.nsf/EIS01/...</td>\n",
        "    </tr>\n",
        "    <tr>\n",
        "      <th>17  </th>\n",
        "      <td> 10/10/2014</td>\n",
        "      <td>  FHWA</td>\n",
        "      <td>    IL</td>\n",
        "      <td>               Final EIS</td>\n",
        "      <td>          75th Street Corridor Improvement Project</td>\n",
        "      <td> http://yosemite.epa.gov/oeca/webeis.nsf/EIS01/...</td>\n",
        "    </tr>\n",
        "    <tr>\n",
        "      <th>18  </th>\n",
        "      <td> 10/10/2014</td>\n",
        "      <td>  NMFS</td>\n",
        "      <td> Multi</td>\n",
        "      <td>               Draft EIS</td>\n",
        "      <td>        Omnibus Essential Fish Habitat Amendment 2</td>\n",
        "      <td> http://yosemite.epa.gov/oeca/webeis.nsf/EIS01/...</td>\n",
        "    </tr>\n",
        "    <tr>\n",
        "      <th>19  </th>\n",
        "      <td> 10/10/2014</td>\n",
        "      <td>  NOAA</td>\n",
        "      <td> Multi</td>\n",
        "      <td>               Final EIS</td>\n",
        "      <td> ADOPTION - Programmatic- Deepwater Horizon Oil...</td>\n",
        "      <td> http://yosemite.epa.gov/oeca/webeis.nsf/EIS01/...</td>\n",
        "    </tr>\n",
        "    <tr>\n",
        "      <th>20  </th>\n",
        "      <td> 10/10/2014</td>\n",
        "      <td>   NPS</td>\n",
        "      <td>    VA</td>\n",
        "      <td>               Final EIS</td>\n",
        "      <td> Dyke Marsh Wetland Restoration and Long-term M...</td>\n",
        "      <td> http://yosemite.epa.gov/oeca/webeis.nsf/EIS01/...</td>\n",
        "    </tr>\n",
        "    <tr>\n",
        "      <th>21  </th>\n",
        "      <td> 10/10/2014</td>\n",
        "      <td> USACE</td>\n",
        "      <td>    WA</td>\n",
        "      <td>               Draft EIS</td>\n",
        "      <td>      Puget Sound Nearshore Ecosystem Restoration </td>\n",
        "      <td> http://yosemite.epa.gov/oeca/webeis.nsf/EIS01/...</td>\n",
        "    </tr>\n",
        "    <tr>\n",
        "      <th>22  </th>\n",
        "      <td> 10/10/2014</td>\n",
        "      <td> USACE</td>\n",
        "      <td>    SC</td>\n",
        "      <td>               Draft EIS</td>\n",
        "      <td>                         Charleston Harbor Post 45</td>\n",
        "      <td> http://yosemite.epa.gov/oeca/webeis.nsf/EIS01/...</td>\n",
        "    </tr>\n",
        "    <tr>\n",
        "      <th>23  </th>\n",
        "      <td> 10/10/2014</td>\n",
        "      <td>  USFS</td>\n",
        "      <td>    OR</td>\n",
        "      <td>               Draft EIS</td>\n",
        "      <td>             Kahler Dry Forest Restoration Project</td>\n",
        "      <td> http://yosemite.epa.gov/oeca/webeis.nsf/EIS01/...</td>\n",
        "    </tr>\n",
        "    <tr>\n",
        "      <th>24  </th>\n",
        "      <td> 10/10/2014</td>\n",
        "      <td>   USN</td>\n",
        "      <td>    CA</td>\n",
        "      <td>               Draft EIS</td>\n",
        "      <td> Disposal and Reuse of the Former Naval Weapons...</td>\n",
        "      <td> http://yosemite.epa.gov/oeca/webeis.nsf/EIS01/...</td>\n",
        "    </tr>\n",
        "    <tr>\n",
        "      <th>25  </th>\n",
        "      <td> 10/03/2014</td>\n",
        "      <td>   BPA</td>\n",
        "      <td>    OR</td>\n",
        "      <td>               Draft EIS</td>\n",
        "      <td> Walla Walla Basin Spring Chinook Hatchery Program</td>\n",
        "      <td> http://yosemite.epa.gov/oeca/webeis.nsf/EIS01/...</td>\n",
        "    </tr>\n",
        "    <tr>\n",
        "      <th>26  </th>\n",
        "      <td> 10/03/2014</td>\n",
        "      <td>  FHWA</td>\n",
        "      <td>    VA</td>\n",
        "      <td>        Draft Supplement</td>\n",
        "      <td>                                      US Route 460</td>\n",
        "      <td> http://yosemite.epa.gov/oeca/webeis.nsf/EIS01/...</td>\n",
        "    </tr>\n",
        "    <tr>\n",
        "      <th>27  </th>\n",
        "      <td> 10/03/2014</td>\n",
        "      <td>   NPS</td>\n",
        "      <td>    TX</td>\n",
        "      <td>               Final EIS</td>\n",
        "      <td> Lake Meredith National Recreation Area and Ali...</td>\n",
        "      <td> http://yosemite.epa.gov/oeca/webeis.nsf/EIS01/...</td>\n",
        "    </tr>\n",
        "    <tr>\n",
        "      <th>28  </th>\n",
        "      <td> 10/03/2014</td>\n",
        "      <td>   NPS</td>\n",
        "      <td>    TX</td>\n",
        "      <td>               Final EIS</td>\n",
        "      <td> Big Thicket National Preserve Final General Ma...</td>\n",
        "      <td> http://yosemite.epa.gov/oeca/webeis.nsf/EIS01/...</td>\n",
        "    </tr>\n",
        "    <tr>\n",
        "      <th>29  </th>\n",
        "      <td> 10/03/2014</td>\n",
        "      <td>  USFS</td>\n",
        "      <td>    CA</td>\n",
        "      <td>               Draft EIS</td>\n",
        "      <td>                                      Jess Project</td>\n",
        "      <td> http://yosemite.epa.gov/oeca/webeis.nsf/EIS01/...</td>\n",
        "    </tr>\n",
        "    <tr>\n",
        "      <th>...</th>\n",
        "      <td>...</td>\n",
        "      <td>...</td>\n",
        "      <td>...</td>\n",
        "      <td>...</td>\n",
        "      <td>...</td>\n",
        "      <td>...</td>\n",
        "    </tr>\n",
        "    <tr>\n",
        "      <th>2472</th>\n",
        "      <td> 02/20/2004</td>\n",
        "      <td>  USFS</td>\n",
        "      <td>    PR</td>\n",
        "      <td>               Final EIS</td>\n",
        "      <td> Caribbean National Forest, Implementation, Rio...</td>\n",
        "      <td> http://yosemite.epa.gov/oeca/webeis.nsf/EIS01/...</td>\n",
        "    </tr>\n",
        "    <tr>\n",
        "      <th>2473</th>\n",
        "      <td> 02/13/2004</td>\n",
        "      <td>  USFS</td>\n",
        "      <td>    OR</td>\n",
        "      <td>        Final Supplement</td>\n",
        "      <td> Deep Vegetation Management Project, Implementa...</td>\n",
        "      <td> http://yosemite.epa.gov/oeca/webeis.nsf/EIS01/...</td>\n",
        "    </tr>\n",
        "    <tr>\n",
        "      <th>2474</th>\n",
        "      <td> 02/13/2004</td>\n",
        "      <td>  USFS</td>\n",
        "      <td>    AZ</td>\n",
        "      <td>               Draft EIS</td>\n",
        "      <td> Arizona Snowbowl Facilities Improvements, Prop...</td>\n",
        "      <td> http://yosemite.epa.gov/oeca/webeis.nsf/EIS01/...</td>\n",
        "    </tr>\n",
        "    <tr>\n",
        "      <th>2475</th>\n",
        "      <td> 02/13/2004</td>\n",
        "      <td>  USFS</td>\n",
        "      <td>    AK</td>\n",
        "      <td>               Draft EIS</td>\n",
        "      <td> Couverden Timber Sales, Harvesting Timber, NPD...</td>\n",
        "      <td> http://yosemite.epa.gov/oeca/webeis.nsf/EIS01/...</td>\n",
        "    </tr>\n",
        "    <tr>\n",
        "      <th>2476</th>\n",
        "      <td> 02/06/2004</td>\n",
        "      <td> USACE</td>\n",
        "      <td>    IL</td>\n",
        "      <td>               Final EIS</td>\n",
        "      <td> PROGRAMMATIC - East St. Louis and Vicinity, Il...</td>\n",
        "      <td> http://yosemite.epa.gov/oeca/webeis.nsf/EIS01/...</td>\n",
        "    </tr>\n",
        "    <tr>\n",
        "      <th>2477</th>\n",
        "      <td> 02/06/2004</td>\n",
        "      <td> USACE</td>\n",
        "      <td>    WA</td>\n",
        "      <td>               Final EIS</td>\n",
        "      <td> Centralia Flood Damage Reduction Project, Cheh...</td>\n",
        "      <td> http://yosemite.epa.gov/oeca/webeis.nsf/EIS01/...</td>\n",
        "    </tr>\n",
        "    <tr>\n",
        "      <th>2478</th>\n",
        "      <td> 02/06/2004</td>\n",
        "      <td>  USFS</td>\n",
        "      <td>    MN</td>\n",
        "      <td>               Draft EIS</td>\n",
        "      <td> Virginia Forest Management Project Area,  Reso...</td>\n",
        "      <td> http://yosemite.epa.gov/oeca/webeis.nsf/EIS01/...</td>\n",
        "    </tr>\n",
        "    <tr>\n",
        "      <th>2479</th>\n",
        "      <td> 01/30/2004</td>\n",
        "      <td>  USAF</td>\n",
        "      <td>    WV</td>\n",
        "      <td>               Draft EIS</td>\n",
        "      <td> Aircraft Conversion for the 167th Air Wing (16...</td>\n",
        "      <td> http://yosemite.epa.gov/oeca/webeis.nsf/EIS01/...</td>\n",
        "    </tr>\n",
        "    <tr>\n",
        "      <th>2480</th>\n",
        "      <td> 01/30/2004</td>\n",
        "      <td>  USFS</td>\n",
        "      <td>    CO</td>\n",
        "      <td>               Final EIS</td>\n",
        "      <td> North Fork of the South Platte and the South P...</td>\n",
        "      <td> http://yosemite.epa.gov/oeca/webeis.nsf/EIS01/...</td>\n",
        "    </tr>\n",
        "    <tr>\n",
        "      <th>2481</th>\n",
        "      <td> 01/30/2004</td>\n",
        "      <td>  USFS</td>\n",
        "      <td>    GA</td>\n",
        "      <td>               Final EIS</td>\n",
        "      <td> Chattahoochee-Oconee National Forests Revised ...</td>\n",
        "      <td> http://yosemite.epa.gov/oeca/webeis.nsf/EIS01/...</td>\n",
        "    </tr>\n",
        "    <tr>\n",
        "      <th>2482</th>\n",
        "      <td> 01/30/2004</td>\n",
        "      <td>  USFS</td>\n",
        "      <td> Multi</td>\n",
        "      <td>        Final Supplement</td>\n",
        "      <td> Sierra Nevada Forest Plan Amendment, New Infor...</td>\n",
        "      <td> http://yosemite.epa.gov/oeca/webeis.nsf/EIS01/...</td>\n",
        "    </tr>\n",
        "    <tr>\n",
        "      <th>2483</th>\n",
        "      <td> 01/30/2004</td>\n",
        "      <td>  USFS</td>\n",
        "      <td>    WY</td>\n",
        "      <td>               Final EIS</td>\n",
        "      <td> Medicine Bow National Forest, Implementation, ...</td>\n",
        "      <td> http://yosemite.epa.gov/oeca/webeis.nsf/EIS01/...</td>\n",
        "    </tr>\n",
        "    <tr>\n",
        "      <th>2484</th>\n",
        "      <td> 01/30/2004</td>\n",
        "      <td>  USFS</td>\n",
        "      <td> Multi</td>\n",
        "      <td>               Draft EIS</td>\n",
        "      <td> Southern Rockies Canada Lynx Amendment, Incorp...</td>\n",
        "      <td> http://yosemite.epa.gov/oeca/webeis.nsf/EIS01/...</td>\n",
        "    </tr>\n",
        "    <tr>\n",
        "      <th>2485</th>\n",
        "      <td> 01/30/2004</td>\n",
        "      <td>  USFS</td>\n",
        "      <td> Multi</td>\n",
        "      <td>               Final EIS</td>\n",
        "      <td> Jefferson National Forest Revised Land and Res...</td>\n",
        "      <td> http://yosemite.epa.gov/oeca/webeis.nsf/EIS01/...</td>\n",
        "    </tr>\n",
        "    <tr>\n",
        "      <th>2486</th>\n",
        "      <td> 01/30/2004</td>\n",
        "      <td>  USFS</td>\n",
        "      <td>    SC</td>\n",
        "      <td>               Final EIS</td>\n",
        "      <td> Sumter National Forest Revised Land and Resour...</td>\n",
        "      <td> http://yosemite.epa.gov/oeca/webeis.nsf/EIS01/...</td>\n",
        "    </tr>\n",
        "    <tr>\n",
        "      <th>2487</th>\n",
        "      <td> 01/30/2004</td>\n",
        "      <td>  USFS</td>\n",
        "      <td>    AL</td>\n",
        "      <td>               Final EIS</td>\n",
        "      <td> Alabama National Forests Revised Land and Reso...</td>\n",
        "      <td> http://yosemite.epa.gov/oeca/webeis.nsf/EIS01/...</td>\n",
        "    </tr>\n",
        "    <tr>\n",
        "      <th>2488</th>\n",
        "      <td> 01/30/2004</td>\n",
        "      <td>  USFS</td>\n",
        "      <td>    TN</td>\n",
        "      <td>               Final EIS</td>\n",
        "      <td> Cherokee National Forest Revised Land and Reso...</td>\n",
        "      <td> http://yosemite.epa.gov/oeca/webeis.nsf/EIS01/...</td>\n",
        "    </tr>\n",
        "    <tr>\n",
        "      <th>2489</th>\n",
        "      <td> 01/30/2004</td>\n",
        "      <td>   USN</td>\n",
        "      <td>    MS</td>\n",
        "      <td>               Draft EIS</td>\n",
        "      <td> Purchase of Land in Hancock County, Mississipp...</td>\n",
        "      <td> http://yosemite.epa.gov/oeca/webeis.nsf/EIS01/...</td>\n",
        "    </tr>\n",
        "    <tr>\n",
        "      <th>2490</th>\n",
        "      <td> 01/30/2004</td>\n",
        "      <td>   USN</td>\n",
        "      <td>    MS</td>\n",
        "      <td>               Draft EIS</td>\n",
        "      <td> Purchase of Land in Hancock County, Mississipp...</td>\n",
        "      <td> http://yosemite.epa.gov/oeca/webeis.nsf/EIS01/...</td>\n",
        "    </tr>\n",
        "    <tr>\n",
        "      <th>2491</th>\n",
        "      <td> 01/23/2004</td>\n",
        "      <td>  USFS</td>\n",
        "      <td>    OR</td>\n",
        "      <td>        Final Supplement</td>\n",
        "      <td> Port-Orford-Cedar Management Plan, Implementat...</td>\n",
        "      <td> http://yosemite.epa.gov/oeca/webeis.nsf/EIS01/...</td>\n",
        "    </tr>\n",
        "    <tr>\n",
        "      <th>2492</th>\n",
        "      <td> 01/23/2004</td>\n",
        "      <td>  USFS</td>\n",
        "      <td> Multi</td>\n",
        "      <td> Fourth Final Supplement</td>\n",
        "      <td> Northern Spotted Owl Management Plan, Removal ...</td>\n",
        "      <td> http://yosemite.epa.gov/oeca/webeis.nsf/EIS01/...</td>\n",
        "    </tr>\n",
        "    <tr>\n",
        "      <th>2493</th>\n",
        "      <td> 01/23/2004</td>\n",
        "      <td>  USFS</td>\n",
        "      <td>    AK</td>\n",
        "      <td> Second Draft Supplement</td>\n",
        "      <td> Kensington Gold Project, Proposed Modification...</td>\n",
        "      <td> http://yosemite.epa.gov/oeca/webeis.nsf/EIS01/...</td>\n",
        "    </tr>\n",
        "    <tr>\n",
        "      <th>2494</th>\n",
        "      <td> 01/23/2004</td>\n",
        "      <td>  USFS</td>\n",
        "      <td>    AK</td>\n",
        "      <td>               Draft EIS</td>\n",
        "      <td> Commercially Guided Helicopter Skiing on the K...</td>\n",
        "      <td> http://yosemite.epa.gov/oeca/webeis.nsf/EIS01/...</td>\n",
        "    </tr>\n",
        "    <tr>\n",
        "      <th>2495</th>\n",
        "      <td> 01/23/2004</td>\n",
        "      <td>  USFS</td>\n",
        "      <td>    WY</td>\n",
        "      <td>               Draft EIS</td>\n",
        "      <td> Tongue Allotment Management Plan, Proposal to ...</td>\n",
        "      <td> http://yosemite.epa.gov/oeca/webeis.nsf/EIS01/...</td>\n",
        "    </tr>\n",
        "    <tr>\n",
        "      <th>2496</th>\n",
        "      <td> 01/23/2004</td>\n",
        "      <td>  USFS</td>\n",
        "      <td>    PA</td>\n",
        "      <td>               Draft EIS</td>\n",
        "      <td> Spring Creek Project Area (SCPA), Achieve and ...</td>\n",
        "      <td> http://yosemite.epa.gov/oeca/webeis.nsf/EIS01/...</td>\n",
        "    </tr>\n",
        "    <tr>\n",
        "      <th>2497</th>\n",
        "      <td> 01/23/2004</td>\n",
        "      <td> USFWS</td>\n",
        "      <td>    CA</td>\n",
        "      <td>               Draft EIS</td>\n",
        "      <td> South Bay Salt Ponds Initial Stewardship Plan,...</td>\n",
        "      <td> http://yosemite.epa.gov/oeca/webeis.nsf/EIS01/...</td>\n",
        "    </tr>\n",
        "    <tr>\n",
        "      <th>2498</th>\n",
        "      <td> 01/23/2004</td>\n",
        "      <td> USFWS</td>\n",
        "      <td>    CA</td>\n",
        "      <td>               Final EIS</td>\n",
        "      <td> PROGRAMMATIC - San Francisco  Estuary Invasive...</td>\n",
        "      <td> http://yosemite.epa.gov/oeca/webeis.nsf/EIS01/...</td>\n",
        "    </tr>\n",
        "    <tr>\n",
        "      <th>2499</th>\n",
        "      <td> 01/16/2004</td>\n",
        "      <td>  USFS</td>\n",
        "      <td> Multi</td>\n",
        "      <td>               Draft EIS</td>\n",
        "      <td> Northern Rockies Lynx Amendment, Conservation ...</td>\n",
        "      <td> http://yosemite.epa.gov/oeca/webeis.nsf/EIS01/...</td>\n",
        "    </tr>\n",
        "    <tr>\n",
        "      <th>2500</th>\n",
        "      <td> 01/16/2004</td>\n",
        "      <td>  USFS</td>\n",
        "      <td>    CA</td>\n",
        "      <td>               Final EIS</td>\n",
        "      <td> Giant Sequoia National Monument Management Pla...</td>\n",
        "      <td> http://yosemite.epa.gov/oeca/webeis.nsf/EIS01/...</td>\n",
        "    </tr>\n",
        "    <tr>\n",
        "      <th>2501</th>\n",
        "      <td> 01/16/2004</td>\n",
        "      <td>  USFS</td>\n",
        "      <td> Multi</td>\n",
        "      <td>               Draft EIS</td>\n",
        "      <td> East Bridge Cattle (AMP) Allotment Management ...</td>\n",
        "      <td> http://yosemite.epa.gov/oeca/webeis.nsf/EIS01/...</td>\n",
        "    </tr>\n",
        "  </tbody>\n",
        "</table>\n",
        "<p>2502 rows \u00d7 6 columns</p>\n",
        "</div>"
       ],
       "metadata": {},
       "output_type": "pyout",
       "prompt_number": 48,
       "text": [
        "            date agency  state            document_type  \\\n",
        "0     10/31/2014    BLM  Multi                Draft EIS   \n",
        "1     10/31/2014   FERC     NY                Final EIS   \n",
        "2     10/31/2014    USA     CO                Draft EIS   \n",
        "3     10/31/2014  USFWS     CA         Final Supplement   \n",
        "4     10/24/2014   FHWA     UT                Draft EIS   \n",
        "5     10/24/2014   FHWA     NY                Final EIS   \n",
        "6     10/24/2014   NOAA     WA                Draft EIS   \n",
        "7     10/24/2014  USACE     CA                Draft EIS   \n",
        "8     10/24/2014    USN     HI   Third Draft Supplement   \n",
        "9     10/17/2014    EPA     FL                Final EIS   \n",
        "10    10/17/2014   FERC     TX                Final EIS   \n",
        "11    10/17/2014   FHWA     FL                Draft EIS   \n",
        "12    10/17/2014  USACE     CA                Final EIS   \n",
        "13    10/10/2014    BLM     NV                Draft EIS   \n",
        "14    10/10/2014     BR     CA                Draft EIS   \n",
        "15    10/10/2014    DOE     TX                Final EIS   \n",
        "16    10/10/2014   FHWA     CA                Draft EIS   \n",
        "17    10/10/2014   FHWA     IL                Final EIS   \n",
        "18    10/10/2014   NMFS  Multi                Draft EIS   \n",
        "19    10/10/2014   NOAA  Multi                Final EIS   \n",
        "20    10/10/2014    NPS     VA                Final EIS   \n",
        "21    10/10/2014  USACE     WA                Draft EIS   \n",
        "22    10/10/2014  USACE     SC                Draft EIS   \n",
        "23    10/10/2014   USFS     OR                Draft EIS   \n",
        "24    10/10/2014    USN     CA                Draft EIS   \n",
        "25    10/03/2014    BPA     OR                Draft EIS   \n",
        "26    10/03/2014   FHWA     VA         Draft Supplement   \n",
        "27    10/03/2014    NPS     TX                Final EIS   \n",
        "28    10/03/2014    NPS     TX                Final EIS   \n",
        "29    10/03/2014   USFS     CA                Draft EIS   \n",
        "...          ...    ...    ...                      ...   \n",
        "2472  02/20/2004   USFS     PR                Final EIS   \n",
        "2473  02/13/2004   USFS     OR         Final Supplement   \n",
        "2474  02/13/2004   USFS     AZ                Draft EIS   \n",
        "2475  02/13/2004   USFS     AK                Draft EIS   \n",
        "2476  02/06/2004  USACE     IL                Final EIS   \n",
        "2477  02/06/2004  USACE     WA                Final EIS   \n",
        "2478  02/06/2004   USFS     MN                Draft EIS   \n",
        "2479  01/30/2004   USAF     WV                Draft EIS   \n",
        "2480  01/30/2004   USFS     CO                Final EIS   \n",
        "2481  01/30/2004   USFS     GA                Final EIS   \n",
        "2482  01/30/2004   USFS  Multi         Final Supplement   \n",
        "2483  01/30/2004   USFS     WY                Final EIS   \n",
        "2484  01/30/2004   USFS  Multi                Draft EIS   \n",
        "2485  01/30/2004   USFS  Multi                Final EIS   \n",
        "2486  01/30/2004   USFS     SC                Final EIS   \n",
        "2487  01/30/2004   USFS     AL                Final EIS   \n",
        "2488  01/30/2004   USFS     TN                Final EIS   \n",
        "2489  01/30/2004    USN     MS                Draft EIS   \n",
        "2490  01/30/2004    USN     MS                Draft EIS   \n",
        "2491  01/23/2004   USFS     OR         Final Supplement   \n",
        "2492  01/23/2004   USFS  Multi  Fourth Final Supplement   \n",
        "2493  01/23/2004   USFS     AK  Second Draft Supplement   \n",
        "2494  01/23/2004   USFS     AK                Draft EIS   \n",
        "2495  01/23/2004   USFS     WY                Draft EIS   \n",
        "2496  01/23/2004   USFS     PA                Draft EIS   \n",
        "2497  01/23/2004  USFWS     CA                Draft EIS   \n",
        "2498  01/23/2004  USFWS     CA                Final EIS   \n",
        "2499  01/16/2004   USFS  Multi                Draft EIS   \n",
        "2500  01/16/2004   USFS     CA                Final EIS   \n",
        "2501  01/16/2004   USFS  Multi                Draft EIS   \n",
        "\n",
        "                                                  title  \\\n",
        "0     Southeastern States Draft Resource Management ...   \n",
        "1     Constitution Pipeline and Wright Interconnect ...   \n",
        "2     Pinon Canyon Maneuver Site (PCMS) Training and...   \n",
        "3     Coachella Valley Multiple Species Habitat Cons...   \n",
        "4         1800 North (SR-37) Transportation Improvement   \n",
        "5      Interstate 87 (I-87)  Exit 4 Access Improvements   \n",
        "6     Harvest Specifications and Management Measures...   \n",
        "7                    River Islands At Lathrop, Phase 2B   \n",
        "8     Surveillance Towed Array Sensor System Low Fre...   \n",
        "9     Designation of an Ocean Dredged Material Dispo...   \n",
        "10                           Corpus Christi LNG Project   \n",
        "11                                      SR 87 Connector   \n",
        "12    Berths 212-224 (YTI) Container Terminal Improv...   \n",
        "13    Las Vegas and Pahrump Field Offices Draft Reso...   \n",
        "14                            Long-Term Water Transfers   \n",
        "15    ADOPTION - Freeport LNG Liquefaction Project a...   \n",
        "16                         High Desert Corridor Project   \n",
        "17             75th Street Corridor Improvement Project   \n",
        "18           Omnibus Essential Fish Habitat Amendment 2   \n",
        "19    ADOPTION - Programmatic- Deepwater Horizon Oil...   \n",
        "20    Dyke Marsh Wetland Restoration and Long-term M...   \n",
        "21         Puget Sound Nearshore Ecosystem Restoration    \n",
        "22                            Charleston Harbor Post 45   \n",
        "23                Kahler Dry Forest Restoration Project   \n",
        "24    Disposal and Reuse of the Former Naval Weapons...   \n",
        "25    Walla Walla Basin Spring Chinook Hatchery Program   \n",
        "26                                         US Route 460   \n",
        "27    Lake Meredith National Recreation Area and Ali...   \n",
        "28    Big Thicket National Preserve Final General Ma...   \n",
        "29                                         Jess Project   \n",
        "...                                                 ...   \n",
        "2472  Caribbean National Forest, Implementation, Rio...   \n",
        "2473  Deep Vegetation Management Project, Implementa...   \n",
        "2474  Arizona Snowbowl Facilities Improvements, Prop...   \n",
        "2475  Couverden Timber Sales, Harvesting Timber, NPD...   \n",
        "2476  PROGRAMMATIC - East St. Louis and Vicinity, Il...   \n",
        "2477  Centralia Flood Damage Reduction Project, Cheh...   \n",
        "2478  Virginia Forest Management Project Area,  Reso...   \n",
        "2479  Aircraft Conversion for the 167th Air Wing (16...   \n",
        "2480  North Fork of the South Platte and the South P...   \n",
        "2481  Chattahoochee-Oconee National Forests Revised ...   \n",
        "2482  Sierra Nevada Forest Plan Amendment, New Infor...   \n",
        "2483  Medicine Bow National Forest, Implementation, ...   \n",
        "2484  Southern Rockies Canada Lynx Amendment, Incorp...   \n",
        "2485  Jefferson National Forest Revised Land and Res...   \n",
        "2486  Sumter National Forest Revised Land and Resour...   \n",
        "2487  Alabama National Forests Revised Land and Reso...   \n",
        "2488  Cherokee National Forest Revised Land and Reso...   \n",
        "2489  Purchase of Land in Hancock County, Mississipp...   \n",
        "2490  Purchase of Land in Hancock County, Mississipp...   \n",
        "2491  Port-Orford-Cedar Management Plan, Implementat...   \n",
        "2492  Northern Spotted Owl Management Plan, Removal ...   \n",
        "2493  Kensington Gold Project, Proposed Modification...   \n",
        "2494  Commercially Guided Helicopter Skiing on the K...   \n",
        "2495  Tongue Allotment Management Plan, Proposal to ...   \n",
        "2496  Spring Creek Project Area (SCPA), Achieve and ...   \n",
        "2497  South Bay Salt Ponds Initial Stewardship Plan,...   \n",
        "2498  PROGRAMMATIC - San Francisco  Estuary Invasive...   \n",
        "2499  Northern Rockies Lynx Amendment, Conservation ...   \n",
        "2500  Giant Sequoia National Monument Management Pla...   \n",
        "2501  East Bridge Cattle (AMP) Allotment Management ...   \n",
        "\n",
        "                                            report_link  \n",
        "0     http://yosemite.epa.gov/oeca/webeis.nsf/EIS01/...  \n",
        "1     http://yosemite.epa.gov/oeca/webeis.nsf/EIS01/...  \n",
        "2     http://yosemite.epa.gov/oeca/webeis.nsf/EIS01/...  \n",
        "3     http://yosemite.epa.gov/oeca/webeis.nsf/EIS01/...  \n",
        "4     http://yosemite.epa.gov/oeca/webeis.nsf/EIS01/...  \n",
        "5     http://yosemite.epa.gov/oeca/webeis.nsf/EIS01/...  \n",
        "6     http://yosemite.epa.gov/oeca/webeis.nsf/EIS01/...  \n",
        "7     http://yosemite.epa.gov/oeca/webeis.nsf/EIS01/...  \n",
        "8     http://yosemite.epa.gov/oeca/webeis.nsf/EIS01/...  \n",
        "9     http://yosemite.epa.gov/oeca/webeis.nsf/EIS01/...  \n",
        "10    http://yosemite.epa.gov/oeca/webeis.nsf/EIS01/...  \n",
        "11    http://yosemite.epa.gov/oeca/webeis.nsf/EIS01/...  \n",
        "12    http://yosemite.epa.gov/oeca/webeis.nsf/EIS01/...  \n",
        "13    http://yosemite.epa.gov/oeca/webeis.nsf/EIS01/...  \n",
        "14    http://yosemite.epa.gov/oeca/webeis.nsf/EIS01/...  \n",
        "15    http://yosemite.epa.gov/oeca/webeis.nsf/EIS01/...  \n",
        "16    http://yosemite.epa.gov/oeca/webeis.nsf/EIS01/...  \n",
        "17    http://yosemite.epa.gov/oeca/webeis.nsf/EIS01/...  \n",
        "18    http://yosemite.epa.gov/oeca/webeis.nsf/EIS01/...  \n",
        "19    http://yosemite.epa.gov/oeca/webeis.nsf/EIS01/...  \n",
        "20    http://yosemite.epa.gov/oeca/webeis.nsf/EIS01/...  \n",
        "21    http://yosemite.epa.gov/oeca/webeis.nsf/EIS01/...  \n",
        "22    http://yosemite.epa.gov/oeca/webeis.nsf/EIS01/...  \n",
        "23    http://yosemite.epa.gov/oeca/webeis.nsf/EIS01/...  \n",
        "24    http://yosemite.epa.gov/oeca/webeis.nsf/EIS01/...  \n",
        "25    http://yosemite.epa.gov/oeca/webeis.nsf/EIS01/...  \n",
        "26    http://yosemite.epa.gov/oeca/webeis.nsf/EIS01/...  \n",
        "27    http://yosemite.epa.gov/oeca/webeis.nsf/EIS01/...  \n",
        "28    http://yosemite.epa.gov/oeca/webeis.nsf/EIS01/...  \n",
        "29    http://yosemite.epa.gov/oeca/webeis.nsf/EIS01/...  \n",
        "...                                                 ...  \n",
        "2472  http://yosemite.epa.gov/oeca/webeis.nsf/EIS01/...  \n",
        "2473  http://yosemite.epa.gov/oeca/webeis.nsf/EIS01/...  \n",
        "2474  http://yosemite.epa.gov/oeca/webeis.nsf/EIS01/...  \n",
        "2475  http://yosemite.epa.gov/oeca/webeis.nsf/EIS01/...  \n",
        "2476  http://yosemite.epa.gov/oeca/webeis.nsf/EIS01/...  \n",
        "2477  http://yosemite.epa.gov/oeca/webeis.nsf/EIS01/...  \n",
        "2478  http://yosemite.epa.gov/oeca/webeis.nsf/EIS01/...  \n",
        "2479  http://yosemite.epa.gov/oeca/webeis.nsf/EIS01/...  \n",
        "2480  http://yosemite.epa.gov/oeca/webeis.nsf/EIS01/...  \n",
        "2481  http://yosemite.epa.gov/oeca/webeis.nsf/EIS01/...  \n",
        "2482  http://yosemite.epa.gov/oeca/webeis.nsf/EIS01/...  \n",
        "2483  http://yosemite.epa.gov/oeca/webeis.nsf/EIS01/...  \n",
        "2484  http://yosemite.epa.gov/oeca/webeis.nsf/EIS01/...  \n",
        "2485  http://yosemite.epa.gov/oeca/webeis.nsf/EIS01/...  \n",
        "2486  http://yosemite.epa.gov/oeca/webeis.nsf/EIS01/...  \n",
        "2487  http://yosemite.epa.gov/oeca/webeis.nsf/EIS01/...  \n",
        "2488  http://yosemite.epa.gov/oeca/webeis.nsf/EIS01/...  \n",
        "2489  http://yosemite.epa.gov/oeca/webeis.nsf/EIS01/...  \n",
        "2490  http://yosemite.epa.gov/oeca/webeis.nsf/EIS01/...  \n",
        "2491  http://yosemite.epa.gov/oeca/webeis.nsf/EIS01/...  \n",
        "2492  http://yosemite.epa.gov/oeca/webeis.nsf/EIS01/...  \n",
        "2493  http://yosemite.epa.gov/oeca/webeis.nsf/EIS01/...  \n",
        "2494  http://yosemite.epa.gov/oeca/webeis.nsf/EIS01/...  \n",
        "2495  http://yosemite.epa.gov/oeca/webeis.nsf/EIS01/...  \n",
        "2496  http://yosemite.epa.gov/oeca/webeis.nsf/EIS01/...  \n",
        "2497  http://yosemite.epa.gov/oeca/webeis.nsf/EIS01/...  \n",
        "2498  http://yosemite.epa.gov/oeca/webeis.nsf/EIS01/...  \n",
        "2499  http://yosemite.epa.gov/oeca/webeis.nsf/EIS01/...  \n",
        "2500  http://yosemite.epa.gov/oeca/webeis.nsf/EIS01/...  \n",
        "2501  http://yosemite.epa.gov/oeca/webeis.nsf/EIS01/...  \n",
        "\n",
        "[2502 rows x 6 columns]"
       ]
      }
     ],
     "prompt_number": 48
    },
    {
     "cell_type": "code",
     "collapsed": false,
     "input": [
      "df_unique = df.drop_duplicates()"
     ],
     "language": "python",
     "metadata": {},
     "outputs": [],
     "prompt_number": 54
    },
    {
     "cell_type": "code",
     "collapsed": false,
     "input": [
      "df_unique.to_csv('eis_links.csv', encoding='utf-8')"
     ],
     "language": "python",
     "metadata": {},
     "outputs": [],
     "prompt_number": 56
    },
    {
     "cell_type": "code",
     "collapsed": false,
     "input": [
      "df_unique['report_link']"
     ],
     "language": "python",
     "metadata": {},
     "outputs": [
      {
       "metadata": {},
       "output_type": "pyout",
       "prompt_number": 57,
       "text": [
        "0     http://yosemite.epa.gov/oeca/webeis.nsf/EIS01/...\n",
        "1     http://yosemite.epa.gov/oeca/webeis.nsf/EIS01/...\n",
        "2     http://yosemite.epa.gov/oeca/webeis.nsf/EIS01/...\n",
        "3     http://yosemite.epa.gov/oeca/webeis.nsf/EIS01/...\n",
        "4     http://yosemite.epa.gov/oeca/webeis.nsf/EIS01/...\n",
        "5     http://yosemite.epa.gov/oeca/webeis.nsf/EIS01/...\n",
        "6     http://yosemite.epa.gov/oeca/webeis.nsf/EIS01/...\n",
        "7     http://yosemite.epa.gov/oeca/webeis.nsf/EIS01/...\n",
        "8     http://yosemite.epa.gov/oeca/webeis.nsf/EIS01/...\n",
        "9     http://yosemite.epa.gov/oeca/webeis.nsf/EIS01/...\n",
        "10    http://yosemite.epa.gov/oeca/webeis.nsf/EIS01/...\n",
        "11    http://yosemite.epa.gov/oeca/webeis.nsf/EIS01/...\n",
        "12    http://yosemite.epa.gov/oeca/webeis.nsf/EIS01/...\n",
        "13    http://yosemite.epa.gov/oeca/webeis.nsf/EIS01/...\n",
        "14    http://yosemite.epa.gov/oeca/webeis.nsf/EIS01/...\n",
        "...\n",
        "2486    http://yosemite.epa.gov/oeca/webeis.nsf/EIS01/...\n",
        "2487    http://yosemite.epa.gov/oeca/webeis.nsf/EIS01/...\n",
        "2488    http://yosemite.epa.gov/oeca/webeis.nsf/EIS01/...\n",
        "2489    http://yosemite.epa.gov/oeca/webeis.nsf/EIS01/...\n",
        "2491    http://yosemite.epa.gov/oeca/webeis.nsf/EIS01/...\n",
        "2492    http://yosemite.epa.gov/oeca/webeis.nsf/EIS01/...\n",
        "2493    http://yosemite.epa.gov/oeca/webeis.nsf/EIS01/...\n",
        "2494    http://yosemite.epa.gov/oeca/webeis.nsf/EIS01/...\n",
        "2495    http://yosemite.epa.gov/oeca/webeis.nsf/EIS01/...\n",
        "2496    http://yosemite.epa.gov/oeca/webeis.nsf/EIS01/...\n",
        "2497    http://yosemite.epa.gov/oeca/webeis.nsf/EIS01/...\n",
        "2498    http://yosemite.epa.gov/oeca/webeis.nsf/EIS01/...\n",
        "2499    http://yosemite.epa.gov/oeca/webeis.nsf/EIS01/...\n",
        "2500    http://yosemite.epa.gov/oeca/webeis.nsf/EIS01/...\n",
        "2501    http://yosemite.epa.gov/oeca/webeis.nsf/EIS01/...\n",
        "Name: report_link, Length: 2419, dtype: object"
       ]
      }
     ],
     "prompt_number": 57
    },
    {
     "cell_type": "code",
     "collapsed": false,
     "input": [],
     "language": "python",
     "metadata": {},
     "outputs": []
    }
   ],
   "metadata": {}
  }
 ]
}