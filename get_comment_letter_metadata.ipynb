{
 "metadata": {
  "name": "",
  "signature": "sha256:2d7e488aab0e95213cc6c06c75e881e35ffad0214ddfa35476d1876e3521ab92"
 },
 "nbformat": 3,
 "nbformat_minor": 0,
 "worksheets": [
  {
   "cells": [
    {
     "cell_type": "code",
     "collapsed": false,
     "input": [
      "from bs4 import BeautifulSoup as bs\n",
      "import re\n",
      "import urllib2\n",
      "import httplib\n",
      "import csv\n",
      "import json\n",
      "import datetime\n",
      "import pandas as pd\n",
      "import os"
     ],
     "language": "python",
     "metadata": {},
     "outputs": [],
     "prompt_number": 1
    },
    {
     "cell_type": "code",
     "collapsed": false,
     "input": [
      "columns = ['content_length', 'last_modified', 'date_retrieved', 'content_type', 'file_url', 'eis_url', 'eis_number']\n",
      "df = pd.DataFrame(columns=columns)\n",
      "columns2 = ['date', 'eis', 'link', 'error']\n",
      "df_missing_files = pd.DataFrame(columns=columns2)"
     ],
     "language": "python",
     "metadata": {},
     "outputs": [],
     "prompt_number": 3
    },
    {
     "cell_type": "code",
     "collapsed": false,
     "input": [
      "def get_file_metadata():\n",
      "    index = 0\n",
      "    index_missing = 0\n",
      "    with open('reports.csv', mode='r') as infile:\n",
      "        reader = csv.reader(infile)\n",
      "        c = httplib.HTTPConnection('yosemite.epa.gov:80')\n",
      "        for row in reader:\n",
      "            if row[19] != 'comment_letter_links' and row[18] !=0:\n",
      "                links = row[19].split()\n",
      "                for link in links:\n",
      "                    print \"Getting #\" + str(index)+ \": \" + link\n",
      "                    c.request(\"HEAD\", link)\n",
      "                    try:\n",
      "                        r = c.getresponse()\n",
      "                    except Exception, e:\n",
      "                        print \"Error, could not get link: \" + str(e)\n",
      "                        new_missing_row = [row[1], row[7], link, str(e)]\n",
      "                        df_missing_files.loc[index_missing] = new_missing_row\n",
      "                        index_missing +=1\n",
      "                        continue\n",
      "                    if r.status == 200:\n",
      "                        headers = r.getheaders()\n",
      "                    else:\n",
      "                        print \"Error, could not get link: \" + str(r.status)\n",
      "                        new_missing_row = [row[1], row[7], link, str(r.status)]\n",
      "                        df_missing_files.loc[index_missing] = new_missing_row\n",
      "                        index_missing +=1\n",
      "                        continue\n",
      "                    r.read()\n",
      "                    #save headers \n",
      "                    header_names = ['content-length', 'last-modified', 'date', 'content-type']\n",
      "                    header_values = {}\n",
      "                    new_row = []\n",
      "                    for h in headers:\n",
      "                        for n in header_names:\n",
      "                            if n == h[0]:\n",
      "                                header_values[n] = h[1]\n",
      "                    for h in header_names:\n",
      "                        new_row.append(header_values[h])\n",
      "                    new_row.append(link)\n",
      "                    new_row.append(row[6])\n",
      "                    new_row.append(row[7])\n",
      "                    #save row\n",
      "                    for i in range(len(new_row)):  # For every value in our newrow\n",
      "                        if hasattr(new_row[i], 'encode'):\n",
      "                            new_row[i] = new_row[i].encode('utf8')\n",
      "                    df.loc[index] = new_row\n",
      "                    index +=1"
     ],
     "language": "python",
     "metadata": {},
     "outputs": [],
     "prompt_number": 4
    },
    {
     "cell_type": "code",
     "collapsed": false,
     "input": [
      "get_file_metadata()"
     ],
     "language": "python",
     "metadata": {},
     "outputs": [
      {
       "output_type": "stream",
       "stream": "stdout",
       "text": [
        "Getting #0: http://yosemite.epa.gov/oeca/webeis.nsf/%28PDFView%29/20140282/%24file/20140282.PDF\n",
        "Getting #1: http://yosemite.epa.gov/oeca/webeis.nsf/%28PDFView%29/20140285/%24file/20140285.PDF"
       ]
      },
      {
       "output_type": "stream",
       "stream": "stdout",
       "text": [
        "\n",
        "Getting #2: http://yosemite.epa.gov/oeca/webeis.nsf/%28PDFView%29/20140279/%24file/20140279.PDF"
       ]
      },
      {
       "output_type": "stream",
       "stream": "stdout",
       "text": [
        "\n",
        "Getting #3: http://yosemite.epa.gov/oeca/webeis.nsf/%28PDFView%29/20140269/%24file/20140269.PDF\n",
        "Getting #4: http://yosemite.epa.gov/oeca/webeis.nsf/%28PDFView%29/20140268/%24file/20140268.PDF"
       ]
      },
      {
       "output_type": "stream",
       "stream": "stdout",
       "text": [
        "\n",
        "Getting #5: http://yosemite.epa.gov/oeca/webeis.nsf/%28PDFView%29/20140265/%24file/20140265.PDF\n",
        "Getting #6: http://yosemite.epa.gov/oeca/webeis.nsf/%28PDFView%29/20140258/%24file/20140258.PDF"
       ]
      },
      {
       "output_type": "stream",
       "stream": "stdout",
       "text": [
        "\n",
        "Getting #7: http://yosemite.epa.gov/oeca/webeis.nsf/%28PDFView%29/20140263/%24file/20140263.PDF\n",
        "Getting #8: http://yosemite.epa.gov/oeca/webeis.nsf/%28PDFView%29/20140262/%24file/20140262.PDF"
       ]
      },
      {
       "output_type": "stream",
       "stream": "stdout",
       "text": [
        "\n",
        "Getting #9: http://yosemite.epa.gov/oeca/webeis.nsf/%28PDFView%29/20140244/%24file/20140244.PDF\n",
        "Getting #10: http://yosemite.epa.gov/oeca/webeis.nsf/%28PDFView%29/20140253/%24file/20140253.PDF"
       ]
      },
      {
       "output_type": "stream",
       "stream": "stdout",
       "text": [
        "\n",
        "Getting #11: http://yosemite.epa.gov/oeca/webeis.nsf/%28PDFView%29/20140246/%24file/20140246.PDF"
       ]
      },
      {
       "output_type": "stream",
       "stream": "stdout",
       "text": [
        "\n",
        "Getting #12: http://yosemite.epa.gov/oeca/webeis.nsf/%28PDFView%29/20140243/%24file/20140243.PDF\n",
        "Getting #13: http://yosemite.epa.gov/oeca/webeis.nsf/%28PDFView%29/20140233/%24file/20140233.PDF"
       ]
      },
      {
       "output_type": "stream",
       "stream": "stdout",
       "text": [
        "\n",
        "Getting #14: http://yosemite.epa.gov/oeca/webeis.nsf/%28PDFView%29/20140230/%24file/20140230.PDF\n",
        "Getting #15: http://yosemite.epa.gov/oeca/webeis.nsf/%28PDFView%29/20140239/%24file/20140239.PDF"
       ]
      },
      {
       "output_type": "stream",
       "stream": "stdout",
       "text": [
        "\n",
        "Getting #16: http://yosemite.epa.gov/oeca/webeis.nsf/%28PDFView%29/20140232/%24file/20140232.PDF"
       ]
      },
      {
       "output_type": "stream",
       "stream": "stdout",
       "text": [
        "\n",
        "Getting #17: http://yosemite.epa.gov/oeca/webeis.nsf/%28PDFView%29/20140237/%24file/20140237.PDF\n",
        "Getting #18: http://yosemite.epa.gov/oeca/webeis.nsf/%28PDFView%29/20140236/%24file/20140236.PDF"
       ]
      },
      {
       "output_type": "stream",
       "stream": "stdout",
       "text": [
        "\n",
        "Getting #19: http://yosemite.epa.gov/oeca/webeis.nsf/%28PDFView%29/20140240/%24file/20140240.PDF\n",
        "Getting #20: http://yosemite.epa.gov/oeca/webeis.nsf/%28PDFView%29/20140231/%24file/20140231.PDF"
       ]
      },
      {
       "output_type": "stream",
       "stream": "stdout",
       "text": [
        "\n",
        "Getting #21: http://yosemite.epa.gov/oeca/webeis.nsf/%28PDFView%29/20140234/%24file/20140234.PDF"
       ]
      },
      {
       "output_type": "stream",
       "stream": "stdout",
       "text": [
        "\n",
        "Getting #22: http://yosemite.epa.gov/oeca/webeis.nsf/%28PDFView%29/20140228/%24file/20140228.PDF\n",
        "Getting #23: http://yosemite.epa.gov/oeca/webeis.nsf/%28PDFView%29/20140222/%24file/20140222.PDF"
       ]
      },
      {
       "output_type": "stream",
       "stream": "stdout",
       "text": [
        "\n",
        "Getting #24: http://yosemite.epa.gov/oeca/webeis.nsf/%28PDFView%29/20140226/%24file/20140226.PDF"
       ]
      },
      {
       "output_type": "stream",
       "stream": "stdout",
       "text": [
        "\n",
        "Getting #25: http://yosemite.epa.gov/oeca/webeis.nsf/%28PDFView%29/20140211/%24file/20140211.PDF\n",
        "Getting #26: http://yosemite.epa.gov/oeca/webeis.nsf/%28PDFView%29/20140217/%24file/20140217.PDF"
       ]
      },
      {
       "output_type": "stream",
       "stream": "stdout",
       "text": [
        "\n",
        "Getting #27: http://yosemite.epa.gov/oeca/webeis.nsf/%28PDFView%29/20140219/%24file/20140219.PDF\n",
        "Getting #28: http://yosemite.epa.gov/oeca/webeis.nsf/%28PDFView%29/20140215/%24file/20140215.PDF"
       ]
      },
      {
       "output_type": "stream",
       "stream": "stdout",
       "text": [
        "\n",
        "Getting #29: http://yosemite.epa.gov/oeca/webeis.nsf/%28PDFView%29/20140214/%24file/20140214.PDF\n",
        "Getting #30: http://yosemite.epa.gov/oeca/webeis.nsf/%28PDFView%29/20140208/%24file/20140208.PDF"
       ]
      },
      {
       "output_type": "stream",
       "stream": "stdout",
       "text": [
        "\n",
        "Getting #31: http://yosemite.epa.gov/oeca/webeis.nsf/%28PDFView%29/20140202/%24file/20140202.PDF"
       ]
      },
      {
       "output_type": "stream",
       "stream": "stdout",
       "text": [
        "\n",
        "Getting #32: http://yosemite.epa.gov/oeca/webeis.nsf/%28PDFView%29/20140204/%24file/20140204.PDF\n",
        "Getting #33: http://yosemite.epa.gov/oeca/webeis.nsf/%28PDFView%29/20140207/%24file/20140207.PDF"
       ]
      },
      {
       "output_type": "stream",
       "stream": "stdout",
       "text": [
        "\n",
        "Getting #34: http://yosemite.epa.gov/oeca/webeis.nsf/%28PDFView%29/20140209/%24file/20140209.PDF\n",
        "Getting #35: http://yosemite.epa.gov/oeca/webeis.nsf/%28PDFView%29/20140205/%24file/20140205.PDF"
       ]
      },
      {
       "output_type": "stream",
       "stream": "stdout",
       "text": [
        "\n",
        "Getting #36: http://yosemite.epa.gov/oeca/webeis.nsf/%28PDFView%29/20140196/%24file/20140196.PDF"
       ]
      },
      {
       "output_type": "stream",
       "stream": "stdout",
       "text": [
        "\n",
        "Getting #37: http://yosemite.epa.gov/oeca/webeis.nsf/%28PDFView%29/20140197/%24file/20140197.PDF\n",
        "Getting #38: http://yosemite.epa.gov/oeca/webeis.nsf/%28PDFView%29/20140200/%24file/20140200.PDF"
       ]
      },
      {
       "output_type": "stream",
       "stream": "stdout",
       "text": [
        "\n",
        "Getting #39: http://yosemite.epa.gov/oeca/webeis.nsf/%28PDFView%29/20140201/%24file/20140201.PDF"
       ]
      },
      {
       "output_type": "stream",
       "stream": "stdout",
       "text": [
        "\n",
        "Getting #40: http://yosemite.epa.gov/oeca/webeis.nsf/%28PDFView%29/20140199/%24file/20140199.PDF\n",
        "Getting #41: http://yosemite.epa.gov/oeca/webeis.nsf/%28PDFView%29/20140195/%24file/20140195.PDF"
       ]
      },
      {
       "output_type": "stream",
       "stream": "stdout",
       "text": [
        "\n",
        "Getting #42: http://yosemite.epa.gov/oeca/webeis.nsf/%28PDFView%29/20140192/%24file/20140192.PDF"
       ]
      },
      {
       "output_type": "stream",
       "stream": "stdout",
       "text": [
        "\n",
        "Getting #43: http://yosemite.epa.gov/oeca/webeis.nsf/%28PDFView%29/20140191/%24file/20140191.PDF\n",
        "Getting #44: http://yosemite.epa.gov/oeca/webeis.nsf/%28PDFView%29/20140193/%24file/20140193.PDF"
       ]
      },
      {
       "output_type": "stream",
       "stream": "stdout",
       "text": [
        "\n",
        "Getting #45: http://yosemite.epa.gov/oeca/webeis.nsf/%28PDFView%29/20140188/%24file/20140188.PDF"
       ]
      },
      {
       "output_type": "stream",
       "stream": "stdout",
       "text": [
        "\n",
        "Getting #46: http://yosemite.epa.gov/oeca/webeis.nsf/%28PDFView%29/20140187/%24file/20140187.PDF"
       ]
      },
      {
       "output_type": "stream",
       "stream": "stdout",
       "text": [
        "\n",
        "Getting #47: http://yosemite.epa.gov/oeca/webeis.nsf/%28PDFView%29/20140186/%24file/20140186.PDF\n",
        "Getting #48: http://yosemite.epa.gov/oeca/webeis.nsf/%28PDFView%29/20140189/%24file/20140189.PDF"
       ]
      },
      {
       "output_type": "stream",
       "stream": "stdout",
       "text": [
        "\n",
        "Getting #49: http://yosemite.epa.gov/oeca/webeis.nsf/%28PDFView%29/20140190/%24file/20140190.PDF"
       ]
      },
      {
       "output_type": "stream",
       "stream": "stdout",
       "text": [
        "\n",
        "Getting #50: http://yosemite.epa.gov/oeca/webeis.nsf/%28PDFView%29/20140184/%24file/20140184.PDF"
       ]
      },
      {
       "output_type": "stream",
       "stream": "stdout",
       "text": [
        "\n",
        "Getting #51: http://yosemite.epa.gov/oeca/webeis.nsf/%28PDFView%29/20140185/%24file/20140185.PDF"
       ]
      },
      {
       "output_type": "stream",
       "stream": "stdout",
       "text": [
        "\n",
        "Getting #52: http://yosemite.epa.gov/oeca/webeis.nsf/%28PDFView%29/20140183/%24file/20140183.PDF"
       ]
      },
      {
       "output_type": "stream",
       "stream": "stdout",
       "text": [
        "\n",
        "Getting #53: http://yosemite.epa.gov/oeca/webeis.nsf/%28PDFView%29/20140181/%24file/20140181.PDF"
       ]
      },
      {
       "output_type": "stream",
       "stream": "stdout",
       "text": [
        "\n",
        "Getting #54: http://yosemite.epa.gov/oeca/webeis.nsf/%28PDFView%29/20140178/%24file/20140178.PDF\n",
        "Getting #55: http://yosemite.epa.gov/oeca/webeis.nsf/%28PDFView%29/20140180/%24file/20140180.PDF"
       ]
      },
      {
       "output_type": "stream",
       "stream": "stdout",
       "text": [
        "\n",
        "Getting #56: http://yosemite.epa.gov/oeca/webeis.nsf/%28PDFView%29/20140177/%24file/20140177.PDF"
       ]
      },
      {
       "output_type": "stream",
       "stream": "stdout",
       "text": [
        "\n",
        "Getting #57: http://yosemite.epa.gov/oeca/webeis.nsf/%28PDFView%29/20140175/%24file/20140175.PDF"
       ]
      },
      {
       "output_type": "stream",
       "stream": "stdout",
       "text": [
        "\n",
        "Getting #58: http://yosemite.epa.gov/oeca/webeis.nsf/%28PDFView%29/20140172/%24file/20140172.PDF\n",
        "Getting #59: http://yosemite.epa.gov/oeca/webeis.nsf/%28PDFView%29/20140176/%24file/20140176.PDF"
       ]
      },
      {
       "output_type": "stream",
       "stream": "stdout",
       "text": [
        "\n",
        "Getting #60: http://yosemite.epa.gov/oeca/webeis.nsf/%28PDFView%29/20140174/%24file/20140174.PDF"
       ]
      },
      {
       "output_type": "stream",
       "stream": "stdout",
       "text": [
        "\n",
        "Getting #61: http://yosemite.epa.gov/oeca/webeis.nsf/%28PDFView%29/20140171/%24file/20140171.PDF"
       ]
      },
      {
       "output_type": "stream",
       "stream": "stdout",
       "text": [
        "\n",
        "Getting #62: http://yosemite.epa.gov/oeca/webeis.nsf/%28PDFView%29/20140169/%24file/20140169.PDF"
       ]
      },
      {
       "output_type": "stream",
       "stream": "stdout",
       "text": [
        "\n",
        "Getting #63: http://yosemite.epa.gov/oeca/webeis.nsf/%28PDFView%29/20140168/%24file/20140168.PDF"
       ]
      },
      {
       "output_type": "stream",
       "stream": "stdout",
       "text": [
        "\n",
        "Getting #64: http://yosemite.epa.gov/oeca/webeis.nsf/%28PDFView%29/20140167/%24file/20140167.PDF"
       ]
      },
      {
       "output_type": "stream",
       "stream": "stdout",
       "text": [
        "\n",
        "Getting #65: http://yosemite.epa.gov/oeca/webeis.nsf/%28PDFView%29/20140164/%24file/20140164.PDF"
       ]
      },
      {
       "output_type": "stream",
       "stream": "stdout",
       "text": [
        "\n",
        "Getting #66: http://yosemite.epa.gov/oeca/webeis.nsf/%28PDFView%29/20140163/%24file/20140163.PDF"
       ]
      },
      {
       "output_type": "stream",
       "stream": "stdout",
       "text": [
        "\n",
        "Getting #67: http://yosemite.epa.gov/oeca/webeis.nsf/%28PDFView%29/20140166/%24file/20140166.PDF\n",
        "Getting #68: http://yosemite.epa.gov/oeca/webeis.nsf/%28PDFView%29/20140165/%24file/20140165.PDF"
       ]
      },
      {
       "output_type": "stream",
       "stream": "stdout",
       "text": [
        "\n",
        "Getting #69: http://yosemite.epa.gov/oeca/webeis.nsf/%28PDFView%29/20140156/%24file/20140156.PDF"
       ]
      },
      {
       "output_type": "stream",
       "stream": "stdout",
       "text": [
        "\n",
        "Getting #70: http://yosemite.epa.gov/oeca/webeis.nsf/%28PDFView%29/20140161/%24file/20140161.PDF\n",
        "Getting #71: http://yosemite.epa.gov/oeca/webeis.nsf/%28PDFView%29/20140158/%24file/20140158.PDF"
       ]
      },
      {
       "output_type": "stream",
       "stream": "stdout",
       "text": [
        "\n",
        "Getting #72: http://yosemite.epa.gov/oeca/webeis.nsf/%28PDFView%29/20140160/%24file/20140160.PDF\n",
        "Getting #73: http://yosemite.epa.gov/oeca/webeis.nsf/%28PDFView%29/20140154/%24file/20140154.PDF"
       ]
      },
      {
       "output_type": "stream",
       "stream": "stdout",
       "text": [
        "\n",
        "Getting #74: http://yosemite.epa.gov/oeca/webeis.nsf/%28PDFView%29/20140155/%24file/20140155.PDF\n",
        "Getting #75: http://yosemite.epa.gov/oeca/webeis.nsf/%28PDFView%29/20140152/%24file/20140152.PDF"
       ]
      },
      {
       "output_type": "stream",
       "stream": "stdout",
       "text": [
        "\n",
        "Getting #76: http://yosemite.epa.gov/oeca/webeis.nsf/%28PDFView%29/20140150/%24file/20140150.PDF"
       ]
      },
      {
       "output_type": "stream",
       "stream": "stdout",
       "text": [
        "\n",
        "Getting #77: http://yosemite.epa.gov/oeca/webeis.nsf/%28PDFView%29/20140153/%24file/20140153.PDF"
       ]
      },
      {
       "output_type": "stream",
       "stream": "stdout",
       "text": [
        "\n",
        "Getting #78: http://yosemite.epa.gov/oeca/webeis.nsf/%28PDFView%29/20140151/%24file/20140151.PDF"
       ]
      },
      {
       "output_type": "stream",
       "stream": "stdout",
       "text": [
        "\n",
        "Getting #79: http://yosemite.epa.gov/oeca/webeis.nsf/%28PDFView%29/20140146/%24file/20140146.PDF"
       ]
      },
      {
       "output_type": "stream",
       "stream": "stdout",
       "text": [
        "\n",
        "Getting #80: http://yosemite.epa.gov/oeca/webeis.nsf/%28PDFView%29/20140147/%24file/20140147.PDF"
       ]
      },
      {
       "output_type": "stream",
       "stream": "stdout",
       "text": [
        "\n",
        "Getting #81: http://yosemite.epa.gov/oeca/webeis.nsf/%28PDFView%29/20140149/%24file/20140149.PDF"
       ]
      },
      {
       "output_type": "stream",
       "stream": "stdout",
       "text": [
        "\n",
        "Getting #82: http://yosemite.epa.gov/oeca/webeis.nsf/%28PDFView%29/20140137/%24file/20140137.PDF"
       ]
      },
      {
       "output_type": "stream",
       "stream": "stdout",
       "text": [
        "\n",
        "Getting #83: http://yosemite.epa.gov/oeca/webeis.nsf/%28PDFView%29/20140134/%24file/20140134.PDF"
       ]
      },
      {
       "output_type": "stream",
       "stream": "stdout",
       "text": [
        "\n",
        "Getting #84: http://yosemite.epa.gov/oeca/webeis.nsf/%28PDFView%29/20140143/%24file/20140143.PDF\n",
        "Getting #85: http://yosemite.epa.gov/oeca/webeis.nsf/%28PDFView%29/20140138/%24file/20140138.PDF"
       ]
      },
      {
       "output_type": "stream",
       "stream": "stdout",
       "text": [
        "\n",
        "Getting #86: http://yosemite.epa.gov/oeca/webeis.nsf/%28PDFView%29/20140140/%24file/20140140.PDF"
       ]
      },
      {
       "output_type": "stream",
       "stream": "stdout",
       "text": [
        "\n",
        "Getting #87: http://yosemite.epa.gov/oeca/webeis.nsf/%28PDFView%29/20140132/%24file/20140132.PDF\n",
        "Getting #88: http://yosemite.epa.gov/oeca/webeis.nsf/%28PDFView%29/20140136/%24file/20140136.PDF"
       ]
      },
      {
       "output_type": "stream",
       "stream": "stdout",
       "text": [
        "\n",
        "Getting #89: http://yosemite.epa.gov/oeca/webeis.nsf/%28PDFView%29/20140135/%24file/20140135.PDF\n",
        "Getting #90: http://yosemite.epa.gov/oeca/webeis.nsf/%28PDFView%29/20140142/%24file/20140142.PDF"
       ]
      },
      {
       "output_type": "stream",
       "stream": "stdout",
       "text": [
        "\n",
        "Getting #91: http://yosemite.epa.gov/oeca/webeis.nsf/%28PDFView%29/20140139/%24file/20140139.PDF"
       ]
      },
      {
       "output_type": "stream",
       "stream": "stdout",
       "text": [
        "\n",
        "Getting #92: http://yosemite.epa.gov/oeca/webeis.nsf/%28PDFView%29/20140144/%24file/20140144.PDF\n",
        "Getting #93: http://yosemite.epa.gov/oeca/webeis.nsf/%28PDFView%29/20140131/%24file/20140131.PDF"
       ]
      },
      {
       "output_type": "stream",
       "stream": "stdout",
       "text": [
        "\n",
        "Getting #94: http://yosemite.epa.gov/oeca/webeis.nsf/%28PDFView%29/20140130/%24file/20140130.PDF\n",
        "Getting #95: http://yosemite.epa.gov/oeca/webeis.nsf/%28PDFView%29/20140125/%24file/20140125.PDF"
       ]
      },
      {
       "output_type": "stream",
       "stream": "stdout",
       "text": [
        "\n",
        "Getting #96: http://yosemite.epa.gov/oeca/webeis.nsf/%28PDFView%29/20140129/%24file/20140129.PDF"
       ]
      },
      {
       "output_type": "stream",
       "stream": "stdout",
       "text": [
        "\n",
        "Getting #97: http://yosemite.epa.gov/oeca/webeis.nsf/%28PDFView%29/20140128/%24file/20140128.PDF\n",
        "Getting #98: http://yosemite.epa.gov/oeca/webeis.nsf/%28PDFView%29/20140117/%24file/20140117.PDF"
       ]
      },
      {
       "output_type": "stream",
       "stream": "stdout",
       "text": [
        "\n",
        "Getting #99: http://yosemite.epa.gov/oeca/webeis.nsf/%28PDFView%29/20140114/%24file/20140114.PDF"
       ]
      },
      {
       "output_type": "stream",
       "stream": "stdout",
       "text": [
        "\n",
        "Getting #100: http://yosemite.epa.gov/oeca/webeis.nsf/%28PDFView%29/20140121/%24file/20140121.PDF\n",
        "Getting #101: http://yosemite.epa.gov/oeca/webeis.nsf/%28PDFView%29/20140120/%24file/20140120.PDF"
       ]
      },
      {
       "output_type": "stream",
       "stream": "stdout",
       "text": [
        "\n",
        "Getting #102: http://yosemite.epa.gov/oeca/webeis.nsf/%28PDFView%29/20140116/%24file/20140116.PDF"
       ]
      },
      {
       "output_type": "stream",
       "stream": "stdout",
       "text": [
        "\n",
        "Getting #103: http://yosemite.epa.gov/oeca/webeis.nsf/%28PDFView%29/20140124/%24file/20140124.PDF"
       ]
      },
      {
       "output_type": "stream",
       "stream": "stdout",
       "text": [
        "\n",
        "Getting #104: http://yosemite.epa.gov/oeca/webeis.nsf/%28PDFView%29/20140115/%24file/20140115.PDF\n",
        "Getting #105: http://yosemite.epa.gov/oeca/webeis.nsf/%28PDFView%29/20140119/%24file/20140119.PDF"
       ]
      },
      {
       "output_type": "stream",
       "stream": "stdout",
       "text": [
        "\n",
        "Getting #106: http://yosemite.epa.gov/oeca/webeis.nsf/%28PDFView%29/20140122/%24file/20140122.PDF"
       ]
      },
      {
       "output_type": "stream",
       "stream": "stdout",
       "text": [
        "\n",
        "Getting #107: http://yosemite.epa.gov/oeca/webeis.nsf/%28PDFView%29/20140113/%24file/20140113.PDF\n",
        "Getting #108: http://yosemite.epa.gov/oeca/webeis.nsf/%28PDFView%29/20140118/%24file/20140118.PDF"
       ]
      },
      {
       "output_type": "stream",
       "stream": "stdout",
       "text": [
        "\n",
        "Getting #109: http://yosemite.epa.gov/oeca/webeis.nsf/%28PDFView%29/20140111/%24file/20140111.PDF"
       ]
      },
      {
       "output_type": "stream",
       "stream": "stdout",
       "text": [
        "\n",
        "Getting #110: http://yosemite.epa.gov/oeca/webeis.nsf/%28PDFView%29/20140109/%24file/20140109.PDF\n",
        "Getting #111: http://yosemite.epa.gov/oeca/webeis.nsf/%28PDFView%29/20140108/%24file/20140108.PDF"
       ]
      },
      {
       "output_type": "stream",
       "stream": "stdout",
       "text": [
        "\n",
        "Getting #112: http://yosemite.epa.gov/oeca/webeis.nsf/%28PDFView%29/20140107/%24file/20140107.PDF\n",
        "Getting #113: http://yosemite.epa.gov/oeca/webeis.nsf/%28PDFView%29/20140106/%24file/20140106.PDF"
       ]
      },
      {
       "output_type": "stream",
       "stream": "stdout",
       "text": [
        "\n",
        "Getting #114: http://yosemite.epa.gov/oeca/webeis.nsf/%28PDFView%29/20140110/%24file/20140110.PDF\n",
        "Getting #115: http://yosemite.epa.gov/oeca/webeis.nsf/%28PDFView%29/20140100/%24file/20140100.PDF"
       ]
      },
      {
       "output_type": "stream",
       "stream": "stdout",
       "text": [
        "\n",
        "Getting #116: http://yosemite.epa.gov/oeca/webeis.nsf/%28PDFView%29/20140103/%24file/20140103.PDF"
       ]
      },
      {
       "output_type": "stream",
       "stream": "stdout",
       "text": [
        "\n",
        "Getting #117: http://yosemite.epa.gov/oeca/webeis.nsf/%28PDFView%29/20140104/%24file/20140104.PDF"
       ]
      },
      {
       "output_type": "stream",
       "stream": "stdout",
       "text": [
        "\n",
        "Getting #118: http://yosemite.epa.gov/oeca/webeis.nsf/%28PDFView%29/20140105/%24file/20140105.PDF\n",
        "Getting #119: http://yosemite.epa.gov/oeca/webeis.nsf/%28PDFView%29/20140095/%24file/20140095.PDF"
       ]
      },
      {
       "output_type": "stream",
       "stream": "stdout",
       "text": [
        "\n",
        "Getting #120: http://yosemite.epa.gov/oeca/webeis.nsf/%28PDFView%29/20140096/%24file/20140096.PDF\n",
        "Getting #121: http://yosemite.epa.gov/oeca/webeis.nsf/%28PDFView%29/20140097/%24file/20140097.PDF"
       ]
      },
      {
       "output_type": "stream",
       "stream": "stdout",
       "text": [
        "\n",
        "Getting #122: http://yosemite.epa.gov/oeca/webeis.nsf/%28PDFView%29/20140092/%24file/20140092.PDF\n",
        "Getting #123: http://yosemite.epa.gov/oeca/webeis.nsf/%28PDFView%29/20140098/%24file/20140098.PDF"
       ]
      },
      {
       "output_type": "stream",
       "stream": "stdout",
       "text": [
        "\n",
        "Getting #124: http://yosemite.epa.gov/oeca/webeis.nsf/%28PDFView%29/20140094/%24file/20140094.PDF\n",
        "Getting #125: http://yosemite.epa.gov/oeca/webeis.nsf/%28PDFView%29/20140091/%24file/20140091.PDF"
       ]
      },
      {
       "output_type": "stream",
       "stream": "stdout",
       "text": [
        "\n",
        "Getting #126: http://yosemite.epa.gov/oeca/webeis.nsf/%28PDFView%29/20140082/%24file/20140082.PDF"
       ]
      },
      {
       "output_type": "stream",
       "stream": "stdout",
       "text": [
        "\n",
        "Getting #127: http://yosemite.epa.gov/oeca/webeis.nsf/%28PDFView%29/20140078/%24file/20140078.PDF"
       ]
      },
      {
       "output_type": "stream",
       "stream": "stdout",
       "text": [
        "\n",
        "Getting #128: http://yosemite.epa.gov/oeca/webeis.nsf/%28PDFView%29/20140089/%24file/20140089.PDF\n",
        "Getting #129: http://yosemite.epa.gov/oeca/webeis.nsf/%28PDFView%29/20140090/%24file/20140090.PDF"
       ]
      },
      {
       "output_type": "stream",
       "stream": "stdout",
       "text": [
        "\n",
        "Getting #130: http://yosemite.epa.gov/oeca/webeis.nsf/%28PDFView%29/20140088/%24file/20140088.PDF\n",
        "Getting #131: http://yosemite.epa.gov/oeca/webeis.nsf/%28PDFView%29/20140084/%24file/20140084.PDF"
       ]
      },
      {
       "output_type": "stream",
       "stream": "stdout",
       "text": [
        "\n",
        "Getting #132: http://yosemite.epa.gov/oeca/webeis.nsf/%28PDFView%29/20140073/%24file/20140073.PDF\n",
        "Getting #133: http://yosemite.epa.gov/oeca/webeis.nsf/%28PDFView%29/20140087/%24file/20140087.PDF"
       ]
      },
      {
       "output_type": "stream",
       "stream": "stdout",
       "text": [
        "\n",
        "Getting #134: http://yosemite.epa.gov/oeca/webeis.nsf/%28PDFView%29/20140079/%24file/20140079.PDF\n",
        "Getting #135: http://yosemite.epa.gov/oeca/webeis.nsf/%28PDFView%29/20140083/%24file/20140083.PDF"
       ]
      },
      {
       "output_type": "stream",
       "stream": "stdout",
       "text": [
        "\n",
        "Getting #136: http://yosemite.epa.gov/oeca/webeis.nsf/%28PDFView%29/20140080/%24file/20140080.PDF"
       ]
      },
      {
       "output_type": "stream",
       "stream": "stdout",
       "text": [
        "\n",
        "Getting #137: http://yosemite.epa.gov/oeca/webeis.nsf/%28PDFView%29/20140086/%24file/20140086.PDF"
       ]
      },
      {
       "output_type": "stream",
       "stream": "stdout",
       "text": [
        "\n",
        "Getting #138: http://yosemite.epa.gov/oeca/webeis.nsf/%28PDFView%29/20140085/%24file/20140085.PDF\n",
        "Getting #139: http://yosemite.epa.gov/oeca/webeis.nsf/%28PDFView%29/20140077/%24file/20140077.PDF"
       ]
      },
      {
       "output_type": "stream",
       "stream": "stdout",
       "text": [
        "\n",
        "Getting #140: http://yosemite.epa.gov/oeca/webeis.nsf/%28PDFView%29/20140066/%24file/20140066.PDF"
       ]
      },
      {
       "output_type": "stream",
       "stream": "stdout",
       "text": [
        "\n",
        "Getting #141: http://yosemite.epa.gov/oeca/webeis.nsf/%28PDFView%29/20140063/%24file/20140063.PDF"
       ]
      },
      {
       "output_type": "stream",
       "stream": "stdout",
       "text": [
        "\n",
        "Getting #142: http://yosemite.epa.gov/oeca/webeis.nsf/%28PDFView%29/20140070/%24file/20140070.PDF"
       ]
      },
      {
       "output_type": "stream",
       "stream": "stdout",
       "text": [
        "\n",
        "Getting #143: http://yosemite.epa.gov/oeca/webeis.nsf/%28PDFView%29/20140072/%24file/20140072.PDF\n",
        "Getting #144: http://yosemite.epa.gov/oeca/webeis.nsf/%28PDFView%29/20140071/%24file/20140071.PDF"
       ]
      },
      {
       "output_type": "stream",
       "stream": "stdout",
       "text": [
        "\n",
        "Getting #145: http://yosemite.epa.gov/oeca/webeis.nsf/%28PDFView%29/20140069/%24file/20140069.PDF\n",
        "Getting #146: http://yosemite.epa.gov/oeca/webeis.nsf/%28PDFView%29/20140068/%24file/20140068.PDF"
       ]
      },
      {
       "output_type": "stream",
       "stream": "stdout",
       "text": [
        "\n",
        "Getting #147: http://yosemite.epa.gov/oeca/webeis.nsf/%28PDFView%29/20140064/%24file/20140064.PDF"
       ]
      },
      {
       "output_type": "stream",
       "stream": "stdout",
       "text": [
        "\n",
        "Getting #148: http://yosemite.epa.gov/oeca/webeis.nsf/%28PDFView%29/20140065/%24file/20140065.PDF"
       ]
      },
      {
       "output_type": "stream",
       "stream": "stdout",
       "text": [
        "\n",
        "Getting #149: http://yosemite.epa.gov/oeca/webeis.nsf/%28PDFView%29/20140053/%24file/20140053.PDF\n",
        "Getting #150: http://yosemite.epa.gov/oeca/webeis.nsf/%28PDFView%29/20140059/%24file/20140059.PDF"
       ]
      },
      {
       "output_type": "stream",
       "stream": "stdout",
       "text": [
        "\n",
        "Getting #151: http://yosemite.epa.gov/oeca/webeis.nsf/%28PDFView%29/20140055/%24file/20140055.PDF"
       ]
      },
      {
       "output_type": "stream",
       "stream": "stdout",
       "text": [
        "\n",
        "Getting #152: http://yosemite.epa.gov/oeca/webeis.nsf/%28PDFView%29/20140060/%24file/20140060.PDF"
       ]
      },
      {
       "output_type": "stream",
       "stream": "stdout",
       "text": [
        "\n",
        "Getting #153: http://yosemite.epa.gov/oeca/webeis.nsf/%28PDFView%29/20140054/%24file/20140054.PDF"
       ]
      },
      {
       "output_type": "stream",
       "stream": "stdout",
       "text": [
        "\n",
        "Getting #154: http://yosemite.epa.gov/oeca/webeis.nsf/%28PDFView%29/20140051/%24file/20140051.PDF\n",
        "Getting #155: http://yosemite.epa.gov/oeca/webeis.nsf/%28PDFView%29/20140050/%24file/20140050.PDF"
       ]
      },
      {
       "output_type": "stream",
       "stream": "stdout",
       "text": [
        "\n",
        "Getting #156: http://yosemite.epa.gov/oeca/webeis.nsf/%28PDFView%29/20140047/%24file/20140047.PDF"
       ]
      },
      {
       "output_type": "stream",
       "stream": "stdout",
       "text": [
        "\n",
        "Getting #157: http://yosemite.epa.gov/oeca/webeis.nsf/%28PDFView%29/20140049/%24file/20140049.PDF\n",
        "Getting #158: http://yosemite.epa.gov/oeca/webeis.nsf/%28PDFView%29/20140048/%24file/20140048.PDF"
       ]
      },
      {
       "output_type": "stream",
       "stream": "stdout",
       "text": [
        "\n",
        "Getting #159: http://yosemite.epa.gov/oeca/webeis.nsf/%28PDFView%29/20140042/%24file/20140042.PDF\n",
        "Getting #160: http://yosemite.epa.gov/oeca/webeis.nsf/%28PDFView%29/20140040/%24file/20140040.PDF"
       ]
      },
      {
       "output_type": "stream",
       "stream": "stdout",
       "text": [
        "\n",
        "Getting #161: http://yosemite.epa.gov/oeca/webeis.nsf/%28PDFView%29/20140045/%24file/20140045.PDF"
       ]
      },
      {
       "output_type": "stream",
       "stream": "stdout",
       "text": [
        "\n",
        "Getting #162: http://yosemite.epa.gov/oeca/webeis.nsf/%28PDFView%29/20140041/%24file/20140041.PDF\n",
        "Getting #163: http://yosemite.epa.gov/oeca/webeis.nsf/%28PDFView%29/20140044/%24file/20140044.PDF"
       ]
      },
      {
       "output_type": "stream",
       "stream": "stdout",
       "text": [
        "\n",
        "Getting #164: http://yosemite.epa.gov/oeca/webeis.nsf/%28PDFView%29/20140036/%24file/20140036.PDF\n",
        "Getting #165: http://yosemite.epa.gov/oeca/webeis.nsf/%28PDFView%29/20140038/%24file/20140038.PDF"
       ]
      },
      {
       "output_type": "stream",
       "stream": "stdout",
       "text": [
        "\n",
        "Getting #166: http://yosemite.epa.gov/oeca/webeis.nsf/%28PDFView%29/20140029/%24file/20140029.PDF"
       ]
      },
      {
       "output_type": "stream",
       "stream": "stdout",
       "text": [
        "\n",
        "Getting #167: http://yosemite.epa.gov/oeca/webeis.nsf/%28PDFView%29/20140034/%24file/20140034.PDF"
       ]
      },
      {
       "output_type": "stream",
       "stream": "stdout",
       "text": [
        "\n",
        "Getting #168: http://yosemite.epa.gov/oeca/webeis.nsf/%28PDFView%29/20140025/%24file/20140025.PDF"
       ]
      },
      {
       "output_type": "stream",
       "stream": "stdout",
       "text": [
        "\n",
        "Getting #169: http://yosemite.epa.gov/oeca/webeis.nsf/%28PDFView%29/20140033/%24file/20140033.PDF"
       ]
      },
      {
       "output_type": "stream",
       "stream": "stdout",
       "text": [
        "\n",
        "Getting #170: http://yosemite.epa.gov/oeca/webeis.nsf/%28PDFView%29/20140026/%24file/20140026.PDF\n",
        "Getting #171: http://yosemite.epa.gov/oeca/webeis.nsf/%28PDFView%29/20140031/%24file/20140031.PDF"
       ]
      },
      {
       "output_type": "stream",
       "stream": "stdout",
       "text": [
        "\n",
        "Getting #172: http://yosemite.epa.gov/oeca/webeis.nsf/%28PDFView%29/20140027/%24file/20140027.PDF\n",
        "Getting #173: http://yosemite.epa.gov/oeca/webeis.nsf/%28PDFView%29/20140020/%24file/20140020.PDF"
       ]
      },
      {
       "output_type": "stream",
       "stream": "stdout",
       "text": [
        "\n",
        "Getting #174: http://yosemite.epa.gov/oeca/webeis.nsf/%28PDFView%29/20140021/%24file/20140021.PDF"
       ]
      },
      {
       "output_type": "stream",
       "stream": "stdout",
       "text": [
        "\n",
        "Getting #175: http://yosemite.epa.gov/oeca/webeis.nsf/%28PDFView%29/20140023/%24file/20140023.PDF\n",
        "Getting #176: http://yosemite.epa.gov/oeca/webeis.nsf/%28PDFView%29/20140014/%24file/20140014.PDF"
       ]
      },
      {
       "output_type": "stream",
       "stream": "stdout",
       "text": [
        "\n",
        "Getting #177: http://yosemite.epa.gov/oeca/webeis.nsf/%28PDFView%29/20140012/%24file/20140012.PDF\n",
        "Getting #178: http://yosemite.epa.gov/oeca/webeis.nsf/%28PDFView%29/20140015/%24file/20140015.PDF"
       ]
      },
      {
       "output_type": "stream",
       "stream": "stdout",
       "text": [
        "\n",
        "Getting #179: http://yosemite.epa.gov/oeca/webeis.nsf/%28PDFView%29/20140013/%24file/20140013.PDF"
       ]
      },
      {
       "output_type": "stream",
       "stream": "stdout",
       "text": [
        "\n",
        "Getting #180: http://yosemite.epa.gov/oeca/webeis.nsf/%28PDFView%29/20140016/%24file/20140016.PDF"
       ]
      },
      {
       "output_type": "stream",
       "stream": "stdout",
       "text": [
        "\n",
        "Getting #181: http://yosemite.epa.gov/oeca/webeis.nsf/%28PDFView%29/20140017/%24file/20140017.PDF"
       ]
      },
      {
       "output_type": "stream",
       "stream": "stdout",
       "text": [
        "\n",
        "Getting #182: http://yosemite.epa.gov/oeca/webeis.nsf/%28PDFView%29/20140018/%24file/20140018.PDF\n",
        "Getting #183: http://yosemite.epa.gov/oeca/webeis.nsf/%28PDFView%29/20140009/%24file/20140009.PDF"
       ]
      },
      {
       "output_type": "stream",
       "stream": "stdout",
       "text": [
        "\n",
        "Getting #184: http://yosemite.epa.gov/oeca/webeis.nsf/%28PDFView%29/20140010/%24file/20140010.PDF\n",
        "Getting #185: http://yosemite.epa.gov/oeca/webeis.nsf/%28PDFView%29/20140006/%24file/20140006.PDF"
       ]
      },
      {
       "output_type": "stream",
       "stream": "stdout",
       "text": [
        "\n",
        "Getting #186: http://yosemite.epa.gov/oeca/webeis.nsf/%28PDFView%29/20140005/%24file/20140005.PDF"
       ]
      },
      {
       "output_type": "stream",
       "stream": "stdout",
       "text": [
        "\n",
        "Getting #187: http://yosemite.epa.gov/oeca/webeis.nsf/%28PDFView%29/20140011/%24file/20140011.PDF"
       ]
      },
      {
       "output_type": "stream",
       "stream": "stdout",
       "text": [
        "\n",
        "Getting #188: http://yosemite.epa.gov/oeca/webeis.nsf/%28PDFView%29/20140007/%24file/20140007.PDF\n",
        "Getting #189: http://yosemite.epa.gov/oeca/webeis.nsf/%28PDFView%29/20140002/%24file/20140002.PDF"
       ]
      },
      {
       "output_type": "stream",
       "stream": "stdout",
       "text": [
        "\n",
        "Getting #190: http://yosemite.epa.gov/oeca/webeis.nsf/%28PDFView%29/20140004/%24file/20140004.PDF\n",
        "Getting #191: http://yosemite.epa.gov/oeca/webeis.nsf/%28PDFView%29/20140001/%24file/20140001.PDF"
       ]
      },
      {
       "output_type": "stream",
       "stream": "stdout",
       "text": [
        "\n",
        "Getting #192: http://yosemite.epa.gov/oeca/webeis.nsf/%28PDFView%29/20140000/%24file/20140000.PDF\n",
        "Getting #193: http://yosemite.epa.gov/oeca/webeis.nsf/%28PDFView%29/20130384/%24file/20130384.PDF"
       ]
      },
      {
       "output_type": "stream",
       "stream": "stdout",
       "text": [
        "\n",
        "Getting #194: http://yosemite.epa.gov/oeca/webeis.nsf/%28PDFView%29/20130381/%24file/20130381.PDF\n",
        "Getting #195: http://yosemite.epa.gov/oeca/webeis.nsf/%28PDFView%29/20130382/%24file/20130382.PDF"
       ]
      },
      {
       "output_type": "stream",
       "stream": "stdout",
       "text": [
        "\n",
        "Getting #196: http://yosemite.epa.gov/oeca/webeis.nsf/%28PDFView%29/20130376/%24file/20130376.PDF"
       ]
      },
      {
       "output_type": "stream",
       "stream": "stdout",
       "text": [
        "\n",
        "Getting #197: http://yosemite.epa.gov/oeca/webeis.nsf/%28PDFView%29/20130378/%24file/20130378.PDF"
       ]
      },
      {
       "output_type": "stream",
       "stream": "stdout",
       "text": [
        "\n",
        "Getting #198: http://yosemite.epa.gov/oeca/webeis.nsf/%28PDFView%29/20130377/%24file/20130377.PDF\n",
        "Getting #199: http://yosemite.epa.gov/oeca/webeis.nsf/%28PDFView%29/20130375/%24file/20130375.PDF"
       ]
      },
      {
       "output_type": "stream",
       "stream": "stdout",
       "text": [
        "\n",
        "Getting #200: http://yosemite.epa.gov/oeca/webeis.nsf/%28PDFView%29/20130368/%24file/20130368.PDF"
       ]
      },
      {
       "output_type": "stream",
       "stream": "stdout",
       "text": [
        "\n",
        "Getting #201: http://yosemite.epa.gov/oeca/webeis.nsf/%28PDFView%29/20130373/%24file/20130373.PDF"
       ]
      },
      {
       "output_type": "stream",
       "stream": "stdout",
       "text": [
        "\n",
        "Getting #202: http://yosemite.epa.gov/oeca/webeis.nsf/%28PDFView%29/20130372/%24file/20130372.PDF\n",
        "Getting #203: http://yosemite.epa.gov/oeca/webeis.nsf/%28PDFView%29/20130367/%24file/20130367.PDF"
       ]
      },
      {
       "output_type": "stream",
       "stream": "stdout",
       "text": [
        "\n",
        "Getting #204: http://yosemite.epa.gov/oeca/webeis.nsf/%28PDFView%29/20130363/%24file/20130363.PDF"
       ]
      },
      {
       "output_type": "stream",
       "stream": "stdout",
       "text": [
        "\n",
        "Getting #205: http://yosemite.epa.gov/oeca/webeis.nsf/%28PDFView%29/20130356/%24file/20130356.PDF\n",
        "Getting #206: http://yosemite.epa.gov/oeca/webeis.nsf/%28PDFView%29/20130365/%24file/20130365.PDF"
       ]
      },
      {
       "output_type": "stream",
       "stream": "stdout",
       "text": [
        "\n",
        "Getting #207: http://yosemite.epa.gov/oeca/webeis.nsf/%28PDFView%29/20130361/%24file/20130361.PDF"
       ]
      },
      {
       "output_type": "stream",
       "stream": "stdout",
       "text": [
        "\n",
        "Getting #208: http://yosemite.epa.gov/oeca/webeis.nsf/%28PDFView%29/20130366/%24file/20130366.PDF"
       ]
      },
      {
       "output_type": "stream",
       "stream": "stdout",
       "text": [
        "\n",
        "Getting #209: http://yosemite.epa.gov/oeca/webeis.nsf/%28PDFView%29/20130364/%24file/20130364.PDF\n",
        "Getting #210: http://yosemite.epa.gov/oeca/webeis.nsf/%28PDFView%29/20130362/%24file/20130362.PDF"
       ]
      },
      {
       "output_type": "stream",
       "stream": "stdout",
       "text": [
        "\n",
        "Getting #211: http://yosemite.epa.gov/oeca/webeis.nsf/%28PDFView%29/20130351/%24file/20130351.PDF"
       ]
      },
      {
       "output_type": "stream",
       "stream": "stdout",
       "text": [
        "\n",
        "Getting #212: http://yosemite.epa.gov/oeca/webeis.nsf/%28PDFView%29/20130353/%24file/20130353.PDF\n",
        "Getting #213: http://yosemite.epa.gov/oeca/webeis.nsf/%28PDFView%29/20130352/%24file/20130352.PDF"
       ]
      },
      {
       "output_type": "stream",
       "stream": "stdout",
       "text": [
        "\n",
        "Getting #214: http://yosemite.epa.gov/oeca/webeis.nsf/%28PDFView%29/20130339/%24file/20130339.PDF\n",
        "Getting #215: http://yosemite.epa.gov/oeca/webeis.nsf/%28PDFView%29/20130345/%24file/20130345.PDF"
       ]
      },
      {
       "output_type": "stream",
       "stream": "stdout",
       "text": [
        "\n",
        "Getting #216: http://yosemite.epa.gov/oeca/webeis.nsf/%28PDFView%29/20130344/%24file/20130344.PDF"
       ]
      },
      {
       "output_type": "stream",
       "stream": "stdout",
       "text": [
        "\n",
        "Getting #217: http://yosemite.epa.gov/oeca/webeis.nsf/%28PDFView%29/20130343/%24file/20130343.PDF"
       ]
      },
      {
       "output_type": "stream",
       "stream": "stdout",
       "text": [
        "\n",
        "Getting #218: http://yosemite.epa.gov/oeca/webeis.nsf/%28PDFView%29/20130342/%24file/20130342.PDF"
       ]
      },
      {
       "output_type": "stream",
       "stream": "stdout",
       "text": [
        "\n",
        "Getting #219: http://yosemite.epa.gov/oeca/webeis.nsf/%28PDFView%29/20130340/%24file/20130340.PDF\n",
        "Getting #220: http://yosemite.epa.gov/oeca/webeis.nsf/%28PDFView%29/20130346/%24file/20130346.PDF"
       ]
      },
      {
       "output_type": "stream",
       "stream": "stdout",
       "text": [
        "\n",
        "Getting #221: http://yosemite.epa.gov/oeca/webeis.nsf/%28PDFView%29/20130335/%24file/20130335.PDF"
       ]
      },
      {
       "output_type": "stream",
       "stream": "stdout",
       "text": [
        "\n",
        "Getting #222: http://yosemite.epa.gov/oeca/webeis.nsf/%28PDFView%29/20130334/%24file/20130334.PDF"
       ]
      },
      {
       "output_type": "stream",
       "stream": "stdout",
       "text": [
        "\n",
        "Getting #223: http://yosemite.epa.gov/oeca/webeis.nsf/%28PDFView%29/20130332/%24file/20130332.PDF\n",
        "Getting #224: http://yosemite.epa.gov/oeca/webeis.nsf/%28PDFView%29/20130336/%24file/20130336.PDF"
       ]
      },
      {
       "output_type": "stream",
       "stream": "stdout",
       "text": [
        "\n",
        "Getting #225: http://yosemite.epa.gov/oeca/webeis.nsf/%28PDFView%29/20130329/%24file/20130329.PDF\n",
        "Getting #226: http://yosemite.epa.gov/oeca/webeis.nsf/%28PDFView%29/20130337/%24file/20130337.PDF"
       ]
      },
      {
       "output_type": "stream",
       "stream": "stdout",
       "text": [
        "\n",
        "Getting #227: http://yosemite.epa.gov/oeca/webeis.nsf/%28PDFView%29/20130331/%24file/20130331.PDF"
       ]
      },
      {
       "output_type": "stream",
       "stream": "stdout",
       "text": [
        "\n",
        "Getting #228: http://yosemite.epa.gov/oeca/webeis.nsf/%28PDFView%29/20130324/%24file/20130324.PDF\n",
        "Getting #229: http://yosemite.epa.gov/oeca/webeis.nsf/%28PDFView%29/20130322/%24file/20130322.PDF"
       ]
      },
      {
       "output_type": "stream",
       "stream": "stdout",
       "text": [
        "\n",
        "Getting #230: http://yosemite.epa.gov/oeca/webeis.nsf/%28PDFView%29/20130327/%24file/20130327.PDF\n",
        "Getting #231: http://yosemite.epa.gov/oeca/webeis.nsf/%28PDFView%29/20130325/%24file/20130325.PDF"
       ]
      },
      {
       "output_type": "stream",
       "stream": "stdout",
       "text": [
        "\n",
        "Getting #232: http://yosemite.epa.gov/oeca/webeis.nsf/%28PDFView%29/20130328/%24file/20130328.PDF\n",
        "Getting #233: http://yosemite.epa.gov/oeca/webeis.nsf/%28PDFView%29/20130320/%24file/20130320.PDF"
       ]
      },
      {
       "output_type": "stream",
       "stream": "stdout",
       "text": [
        "\n",
        "Getting #234: http://yosemite.epa.gov/oeca/webeis.nsf/%28PDFView%29/20130321/%24file/20130321.PDF"
       ]
      },
      {
       "output_type": "stream",
       "stream": "stdout",
       "text": [
        "\n",
        "Getting #235: http://yosemite.epa.gov/oeca/webeis.nsf/%28PDFView%29/20130326/%24file/20130326.PDF\n",
        "Getting #236: http://yosemite.epa.gov/oeca/webeis.nsf/%28PDFView%29/20130323/%24file/20130323.PDF"
       ]
      },
      {
       "output_type": "stream",
       "stream": "stdout",
       "text": [
        "\n",
        "Getting #237: http://yosemite.epa.gov/oeca/webeis.nsf/%28PDFView%29/20130319/%24file/20130319.PDF\n",
        "Getting #238: http://yosemite.epa.gov/oeca/webeis.nsf/%28PDFView%29/20130307/%24file/20130307.PDF"
       ]
      },
      {
       "output_type": "stream",
       "stream": "stdout",
       "text": [
        "\n",
        "Getting #239: http://yosemite.epa.gov/oeca/webeis.nsf/%28PDFView%29/20130311/%24file/20130311.PDF"
       ]
      },
      {
       "output_type": "stream",
       "stream": "stdout",
       "text": [
        "\n",
        "Getting #240: http://yosemite.epa.gov/oeca/webeis.nsf/%28PDFView%29/20130312/%24file/20130312.PDF\n",
        "Getting #241: http://yosemite.epa.gov/oeca/webeis.nsf/%28PDFView%29/20130310/%24file/20130310.PDF"
       ]
      },
      {
       "output_type": "stream",
       "stream": "stdout",
       "text": [
        "\n",
        "Getting #242: http://yosemite.epa.gov/oeca/webeis.nsf/%28PDFView%29/20130314/%24file/20130314.PDF\n",
        "Getting #243: http://yosemite.epa.gov/oeca/webeis.nsf/%28PDFView%29/20130315/%24file/20130315.PDF"
       ]
      },
      {
       "output_type": "stream",
       "stream": "stdout",
       "text": [
        "\n",
        "Getting #244: http://yosemite.epa.gov/oeca/webeis.nsf/%28PDFView%29/20130317/%24file/20130317.PDF\n",
        "Getting #245: http://yosemite.epa.gov/oeca/webeis.nsf/%28PDFView%29/20130308/%24file/20130308.PDF"
       ]
      },
      {
       "output_type": "stream",
       "stream": "stdout",
       "text": [
        "\n",
        "Getting #246: http://yosemite.epa.gov/oeca/webeis.nsf/%28PDFView%29/20130306/%24file/20130306.PDF"
       ]
      },
      {
       "output_type": "stream",
       "stream": "stdout",
       "text": [
        "\n",
        "Getting #247: http://yosemite.epa.gov/oeca/webeis.nsf/%28PDFView%29/20130313/%24file/20130313.PDF\n",
        "Getting #248: http://yosemite.epa.gov/oeca/webeis.nsf/%28PDFView%29/20130304/%24file/20130304.PDF"
       ]
      },
      {
       "output_type": "stream",
       "stream": "stdout",
       "text": [
        "\n",
        "Getting #249: http://yosemite.epa.gov/oeca/webeis.nsf/%28PDFView%29/20130300/%24file/20130300.PDF\n",
        "Getting #250: http://yosemite.epa.gov/oeca/webeis.nsf/%28PDFView%29/20130301/%24file/20130301.PDF"
       ]
      },
      {
       "output_type": "stream",
       "stream": "stdout",
       "text": [
        "\n",
        "Getting #251: http://yosemite.epa.gov/oeca/webeis.nsf/%28PDFView%29/20130305/%24file/20130305.PDF"
       ]
      },
      {
       "output_type": "stream",
       "stream": "stdout",
       "text": [
        "\n",
        "Getting #252: http://yosemite.epa.gov/oeca/webeis.nsf/%28PDFView%29/20130296/%24file/20130296.PDF"
       ]
      },
      {
       "output_type": "stream",
       "stream": "stdout",
       "text": [
        "\n",
        "Getting #253: http://yosemite.epa.gov/oeca/webeis.nsf/%28PDFView%29/20130293/%24file/20130293.PDF\n",
        "Getting #254: http://yosemite.epa.gov/oeca/webeis.nsf/%28PDFView%29/20130291/%24file/20130291.PDF"
       ]
      },
      {
       "output_type": "stream",
       "stream": "stdout",
       "text": [
        "\n",
        "Getting #255: http://yosemite.epa.gov/oeca/webeis.nsf/%28PDFView%29/20130292/%24file/20130292.PDF"
       ]
      },
      {
       "output_type": "stream",
       "stream": "stdout",
       "text": [
        "\n",
        "Getting #256: http://yosemite.epa.gov/oeca/webeis.nsf/%28PDFView%29/20130290/%24file/20130290.PDF"
       ]
      },
      {
       "output_type": "stream",
       "stream": "stdout",
       "text": [
        "\n",
        "Getting #257: http://yosemite.epa.gov/oeca/webeis.nsf/%28PDFView%29/20130288/%24file/20130288.PDF\n",
        "Getting #258: http://yosemite.epa.gov/oeca/webeis.nsf/%28PDFView%29/20130289/%24file/20130289.PDF"
       ]
      },
      {
       "output_type": "stream",
       "stream": "stdout",
       "text": [
        "\n",
        "Getting #259: http://yosemite.epa.gov/oeca/webeis.nsf/%28PDFView%29/20130294/%24file/20130294.PDF\n",
        "Getting #260: http://yosemite.epa.gov/oeca/webeis.nsf/%28PDFView%29/20130297/%24file/20130297.PDF"
       ]
      },
      {
       "output_type": "stream",
       "stream": "stdout",
       "text": [
        "\n",
        "Getting #261: http://yosemite.epa.gov/oeca/webeis.nsf/%28PDFView%29/20130287/%24file/20130287.PDF"
       ]
      },
      {
       "output_type": "stream",
       "stream": "stdout",
       "text": [
        "\n",
        "Getting #262: http://yosemite.epa.gov/oeca/webeis.nsf/%28PDFView%29/20130279/%24file/20130279.PDF\n",
        "Getting #263: http://yosemite.epa.gov/oeca/webeis.nsf/%28PDFView%29/20130280/%24file/20130280.PDF"
       ]
      },
      {
       "output_type": "stream",
       "stream": "stdout",
       "text": [
        "\n",
        "Getting #264: http://yosemite.epa.gov/oeca/webeis.nsf/%28PDFView%29/20130286/%24file/20130286.PDF"
       ]
      },
      {
       "output_type": "stream",
       "stream": "stdout",
       "text": [
        "\n",
        "Getting #265: http://yosemite.epa.gov/oeca/webeis.nsf/%28PDFView%29/20130285/%24file/20130285.PDF"
       ]
      },
      {
       "output_type": "stream",
       "stream": "stdout",
       "text": [
        "\n",
        "Getting #266: http://yosemite.epa.gov/oeca/webeis.nsf/%28PDFView%29/20130284/%24file/20130284.PDF"
       ]
      },
      {
       "output_type": "stream",
       "stream": "stdout",
       "text": [
        "\n",
        "Getting #267: http://yosemite.epa.gov/oeca/webeis.nsf/%28PDFView%29/20130281/%24file/20130281.PDF"
       ]
      },
      {
       "output_type": "stream",
       "stream": "stdout",
       "text": [
        "\n",
        "Getting #268: http://yosemite.epa.gov/oeca/webeis.nsf/%28PDFView%29/20130283/%24file/20130283.PDF\n",
        "Getting #269: http://yosemite.epa.gov/oeca/webeis.nsf/%28PDFView%29/20130277/%24file/20130277.PDF"
       ]
      },
      {
       "output_type": "stream",
       "stream": "stdout",
       "text": [
        "\n",
        "Getting #270: http://yosemite.epa.gov/oeca/webeis.nsf/%28PDFView%29/20130275/%24file/20130275.PDF\n",
        "Getting #271: http://yosemite.epa.gov/oeca/webeis.nsf/%28PDFView%29/20130274/%24file/20130274.PDF"
       ]
      },
      {
       "output_type": "stream",
       "stream": "stdout",
       "text": [
        "\n",
        "Getting #272: http://yosemite.epa.gov/oeca/webeis.nsf/%28PDFView%29/20130276/%24file/20130276.PDF"
       ]
      },
      {
       "output_type": "stream",
       "stream": "stdout",
       "text": [
        "\n",
        "Getting #273: http://yosemite.epa.gov/oeca/webeis.nsf/%28PDFView%29/20130270/%24file/20130270.PDF"
       ]
      },
      {
       "output_type": "stream",
       "stream": "stdout",
       "text": [
        "\n",
        "Getting #274: http://yosemite.epa.gov/oeca/webeis.nsf/%28PDFView%29/20130264/%24file/20130264.PDF\n",
        "Getting #275: http://yosemite.epa.gov/oeca/webeis.nsf/%28PDFView%29/20130263/%24file/20130263.PDF"
       ]
      },
      {
       "output_type": "stream",
       "stream": "stdout",
       "text": [
        "\n",
        "Getting #276: http://yosemite.epa.gov/oeca/webeis.nsf/%28PDFView%29/20130269/%24file/20130269.PDF"
       ]
      },
      {
       "output_type": "stream",
       "stream": "stdout",
       "text": [
        "\n",
        "Getting #277: http://yosemite.epa.gov/oeca/webeis.nsf/%28PDFView%29/20130267/%24file/20130267.PDF"
       ]
      },
      {
       "output_type": "stream",
       "stream": "stdout",
       "text": [
        "\n",
        "Getting #278: http://yosemite.epa.gov/oeca/webeis.nsf/%28PDFView%29/20130272/%24file/20130272.PDF"
       ]
      },
      {
       "output_type": "stream",
       "stream": "stdout",
       "text": [
        "\n",
        "Getting #279: http://yosemite.epa.gov/oeca/webeis.nsf/%28PDFView%29/20130265/%24file/20130265.PDF"
       ]
      },
      {
       "output_type": "stream",
       "stream": "stdout",
       "text": [
        "\n",
        "Getting #280: http://yosemite.epa.gov/oeca/webeis.nsf/%28PDFView%29/20130266/%24file/20130266.PDF\n",
        "Getting #281: http://yosemite.epa.gov/oeca/webeis.nsf/%28PDFView%29/20130260/%24file/20130260.PDF"
       ]
      },
      {
       "output_type": "stream",
       "stream": "stdout",
       "text": [
        "\n",
        "Getting #282: http://yosemite.epa.gov/oeca/webeis.nsf/%28PDFView%29/20130259/%24file/20130259.PDF\n",
        "Getting #283: http://yosemite.epa.gov/oeca/webeis.nsf/%28PDFView%29/20130261/%24file/20130261.PDF"
       ]
      },
      {
       "output_type": "stream",
       "stream": "stdout",
       "text": [
        "\n",
        "Getting #284: http://yosemite.epa.gov/oeca/webeis.nsf/%28PDFView%29/20130258/%24file/20130258.PDF"
       ]
      },
      {
       "output_type": "stream",
       "stream": "stdout",
       "text": [
        "\n",
        "Getting #285: http://yosemite.epa.gov/oeca/webeis.nsf/%28PDFView%29/20130256/%24file/20130256.PDF\n",
        "Getting #286: http://yosemite.epa.gov/oeca/webeis.nsf/%28PDFView%29/20130255/%24file/20130255.PDF"
       ]
      },
      {
       "output_type": "stream",
       "stream": "stdout",
       "text": [
        "\n",
        "Getting #287: http://yosemite.epa.gov/oeca/webeis.nsf/%28PDFView%29/20130250/%24file/20130250.PDF\n",
        "Getting #288: http://yosemite.epa.gov/oeca/webeis.nsf/%28PDFView%29/20130254/%24file/20130254.PDF"
       ]
      },
      {
       "output_type": "stream",
       "stream": "stdout",
       "text": [
        "\n",
        "Getting #289: http://yosemite.epa.gov/oeca/webeis.nsf/%28PDFView%29/20130251/%24file/20130251.PDF\n",
        "Getting #290: http://yosemite.epa.gov/oeca/webeis.nsf/%28PDFView%29/20130245/%24file/20130245.PDF"
       ]
      },
      {
       "output_type": "stream",
       "stream": "stdout",
       "text": [
        "\n",
        "Getting #291: http://yosemite.epa.gov/oeca/webeis.nsf/%28PDFView%29/20130247/%24file/20130247.PDF"
       ]
      },
      {
       "output_type": "stream",
       "stream": "stdout",
       "text": [
        "\n",
        "Getting #292: http://yosemite.epa.gov/oeca/webeis.nsf/%28PDFView%29/20130249/%24file/20130249.PDF\n",
        "Getting #293: http://yosemite.epa.gov/oeca/webeis.nsf/%28PDFView%29/20130248/%24file/20130248.PDF"
       ]
      },
      {
       "output_type": "stream",
       "stream": "stdout",
       "text": [
        "\n",
        "Getting #294: http://yosemite.epa.gov/oeca/webeis.nsf/%28PDFView%29/20130246/%24file/20130246.PDF"
       ]
      },
      {
       "output_type": "stream",
       "stream": "stdout",
       "text": [
        "\n",
        "Getting #295: http://yosemite.epa.gov/oeca/webeis.nsf/%28PDFView%29/20130239/%24file/20130239.PDF\n",
        "Getting #296: http://yosemite.epa.gov/oeca/webeis.nsf/%28PDFView%29/20130243/%24file/20130243.PDF"
       ]
      },
      {
       "output_type": "stream",
       "stream": "stdout",
       "text": [
        "\n",
        "Getting #297: http://yosemite.epa.gov/oeca/webeis.nsf/%28PDFView%29/20130238/%24file/20130238.PDF\n",
        "Getting #298: http://yosemite.epa.gov/oeca/webeis.nsf/%28PDFView%29/20130241/%24file/20130241.PDF"
       ]
      },
      {
       "output_type": "stream",
       "stream": "stdout",
       "text": [
        "\n",
        "Getting #299: http://yosemite.epa.gov/oeca/webeis.nsf/%28PDFView%29/20130240/%24file/20130240.PDF\n",
        "Getting #300: http://yosemite.epa.gov/oeca/webeis.nsf/%28PDFView%29/20130234/%24file/20130234.PDF"
       ]
      },
      {
       "output_type": "stream",
       "stream": "stdout",
       "text": [
        "\n",
        "Getting #301: http://yosemite.epa.gov/oeca/webeis.nsf/%28PDFView%29/20130235/%24file/20130235.PDF"
       ]
      },
      {
       "output_type": "stream",
       "stream": "stdout",
       "text": [
        "\n",
        "Getting #302: http://yosemite.epa.gov/oeca/webeis.nsf/%28PDFView%29/20130233/%24file/20130233.PDF\n",
        "Getting #303: http://yosemite.epa.gov/oeca/webeis.nsf/%28PDFView%29/20130232/%24file/20130232.PDF"
       ]
      },
      {
       "output_type": "stream",
       "stream": "stdout",
       "text": [
        "\n",
        "Getting #304: http://yosemite.epa.gov/oeca/webeis.nsf/%28PDFView%29/20130227/%24file/20130227.PDF"
       ]
      },
      {
       "output_type": "stream",
       "stream": "stdout",
       "text": [
        "\n",
        "Getting #305: http://yosemite.epa.gov/oeca/webeis.nsf/%28PDFView%29/20130228/%24file/20130228.PDF\n",
        "Getting #306: http://yosemite.epa.gov/oeca/webeis.nsf/%28PDFView%29/20130226/%24file/20130226.PDF"
       ]
      },
      {
       "output_type": "stream",
       "stream": "stdout",
       "text": [
        "\n",
        "Getting #307: http://yosemite.epa.gov/oeca/webeis.nsf/%28PDFView%29/20130221/%24file/20130221.PDF"
       ]
      },
      {
       "output_type": "stream",
       "stream": "stdout",
       "text": [
        "\n",
        "Getting #308: http://yosemite.epa.gov/oeca/webeis.nsf/%28PDFView%29/20130224/%24file/20130224.PDF\n",
        "Getting #309: http://yosemite.epa.gov/oeca/webeis.nsf/%28PDFView%29/20130216/%24file/20130216.PDF"
       ]
      },
      {
       "output_type": "stream",
       "stream": "stdout",
       "text": [
        "\n",
        "Getting #310: http://yosemite.epa.gov/oeca/webeis.nsf/%28PDFView%29/20130217/%24file/20130217.PDF\n",
        "Getting #311: http://yosemite.epa.gov/oeca/webeis.nsf/%28PDFView%29/20130220/%24file/20130220.PDF"
       ]
      },
      {
       "output_type": "stream",
       "stream": "stdout",
       "text": [
        "\n",
        "Getting #312: http://yosemite.epa.gov/oeca/webeis.nsf/%28PDFView%29/20130223/%24file/20130223.PDF\n",
        "Getting #313: http://yosemite.epa.gov/oeca/webeis.nsf/%28PDFView%29/20130213/%24file/20130213.PDF"
       ]
      },
      {
       "output_type": "stream",
       "stream": "stdout",
       "text": [
        "\n",
        "Getting #314: http://yosemite.epa.gov/oeca/webeis.nsf/%28PDFView%29/20130209/%24file/20130209.PDF"
       ]
      },
      {
       "output_type": "stream",
       "stream": "stdout",
       "text": [
        "\n",
        "Getting #315: http://yosemite.epa.gov/oeca/webeis.nsf/%28PDFView%29/20130212/%24file/20130212.PDF\n",
        "Getting #316: http://yosemite.epa.gov/oeca/webeis.nsf/%28PDFView%29/20130210/%24file/20130210.PDF"
       ]
      },
      {
       "output_type": "stream",
       "stream": "stdout",
       "text": [
        "\n",
        "Getting #317: http://yosemite.epa.gov/oeca/webeis.nsf/%28PDFView%29/20130208/%24file/20130208.PDF\n",
        "Getting #318: http://yosemite.epa.gov/oeca/webeis.nsf/%28PDFView%29/20130211/%24file/20130211.PDF"
       ]
      },
      {
       "output_type": "stream",
       "stream": "stdout",
       "text": [
        "\n",
        "Getting #319: http://yosemite.epa.gov/oeca/webeis.nsf/%28PDFView%29/20130199/%24file/20130199.PDF\n",
        "Getting #320: http://yosemite.epa.gov/oeca/webeis.nsf/%28PDFView%29/20130205/%24file/20130205.PDF"
       ]
      },
      {
       "output_type": "stream",
       "stream": "stdout",
       "text": [
        "\n",
        "Getting #321: http://yosemite.epa.gov/oeca/webeis.nsf/%28PDFView%29/20130207/%24file/20130207.PDF"
       ]
      },
      {
       "output_type": "stream",
       "stream": "stdout",
       "text": [
        "\n",
        "Getting #322: http://yosemite.epa.gov/oeca/webeis.nsf/%28PDFView%29/20130204/%24file/20130204.PDF"
       ]
      },
      {
       "output_type": "stream",
       "stream": "stdout",
       "text": [
        "\n",
        "Getting #323: http://yosemite.epa.gov/oeca/webeis.nsf/%28PDFView%29/20130206/%24file/20130206.PDF\n",
        "Getting #324: http://yosemite.epa.gov/oeca/webeis.nsf/%28PDFView%29/20130201/%24file/20130201.PDF"
       ]
      },
      {
       "output_type": "stream",
       "stream": "stdout",
       "text": [
        "\n",
        "Getting #325: http://yosemite.epa.gov/oeca/webeis.nsf/%28PDFView%29/20130198/%24file/20130198.PDF\n",
        "Getting #326: http://yosemite.epa.gov/oeca/webeis.nsf/%28PDFView%29/20130190/%24file/20130190.PDF"
       ]
      },
      {
       "output_type": "stream",
       "stream": "stdout",
       "text": [
        "\n",
        "Getting #327: http://yosemite.epa.gov/oeca/webeis.nsf/%28PDFView%29/20130196/%24file/20130196.PDF\n",
        "Getting #328: http://yosemite.epa.gov/oeca/webeis.nsf/%28PDFView%29/20130197/%24file/20130197.PDF"
       ]
      },
      {
       "output_type": "stream",
       "stream": "stdout",
       "text": [
        "\n",
        "Getting #329: http://yosemite.epa.gov/oeca/webeis.nsf/%28PDFView%29/20130195/%24file/20130195.PDF\n",
        "Getting #330: http://yosemite.epa.gov/oeca/webeis.nsf/%28PDFView%29/20130194/%24file/20130194.PDF"
       ]
      },
      {
       "output_type": "stream",
       "stream": "stdout",
       "text": [
        "\n",
        "Getting #331: http://yosemite.epa.gov/oeca/webeis.nsf/%28PDFView%29/20130186/%24file/20130186.PDF"
       ]
      },
      {
       "output_type": "stream",
       "stream": "stdout",
       "text": [
        "\n",
        "Getting #332: http://yosemite.epa.gov/oeca/webeis.nsf/%28PDFView%29/20130180/%24file/20130180.PDF\n",
        "Getting #333: http://yosemite.epa.gov/oeca/webeis.nsf/%28PDFView%29/20130184/%24file/20130184.PDF"
       ]
      },
      {
       "output_type": "stream",
       "stream": "stdout",
       "text": [
        "\n",
        "Getting #334: http://yosemite.epa.gov/oeca/webeis.nsf/%28PDFView%29/20130185/%24file/20130185.PDF\n",
        "Getting #335: http://yosemite.epa.gov/oeca/webeis.nsf/%28PDFView%29/20130178/%24file/20130178.PDF"
       ]
      },
      {
       "output_type": "stream",
       "stream": "stdout",
       "text": [
        "\n",
        "Getting #336: http://yosemite.epa.gov/oeca/webeis.nsf/%28PDFView%29/20130181/%24file/20130181.PDF"
       ]
      },
      {
       "output_type": "stream",
       "stream": "stdout",
       "text": [
        "\n",
        "Getting #337: http://yosemite.epa.gov/oeca/webeis.nsf/%28PDFView%29/20130176/%24file/20130176.PDF\n",
        "Getting #338: http://yosemite.epa.gov/oeca/webeis.nsf/%28PDFView%29/20130175/%24file/20130175.PDF"
       ]
      },
      {
       "output_type": "stream",
       "stream": "stdout",
       "text": [
        "\n",
        "Getting #339: http://yosemite.epa.gov/oeca/webeis.nsf/%28PDFView%29/20130171/%24file/20130171.PDF\n",
        "Getting #340: http://yosemite.epa.gov/oeca/webeis.nsf/%28PDFView%29/20130172/%24file/20130172.PDF"
       ]
      },
      {
       "output_type": "stream",
       "stream": "stdout",
       "text": [
        "\n",
        "Getting #341: http://yosemite.epa.gov/oeca/webeis.nsf/%28PDFView%29/20130177/%24file/20130177.PDF"
       ]
      },
      {
       "output_type": "stream",
       "stream": "stdout",
       "text": [
        "\n",
        "Getting #342: http://yosemite.epa.gov/oeca/webeis.nsf/%28PDFView%29/20130162/%24file/20130162.PDF\n",
        "Getting #343: http://yosemite.epa.gov/oeca/webeis.nsf/%28PDFView%29/20130168/%24file/20130168.PDF"
       ]
      },
      {
       "output_type": "stream",
       "stream": "stdout",
       "text": [
        "\n",
        "Getting #344: http://yosemite.epa.gov/oeca/webeis.nsf/%28PDFView%29/20130170/%24file/20130170.PDF\n",
        "Getting #345: http://yosemite.epa.gov/oeca/webeis.nsf/%28PDFView%29/20130164/%24file/20130164.PDF"
       ]
      },
      {
       "output_type": "stream",
       "stream": "stdout",
       "text": [
        "\n",
        "Getting #346: http://yosemite.epa.gov/oeca/webeis.nsf/%28PDFView%29/20130160/%24file/20130160.PDF"
       ]
      },
      {
       "output_type": "stream",
       "stream": "stdout",
       "text": [
        "\n",
        "Getting #347: http://yosemite.epa.gov/oeca/webeis.nsf/%28PDFView%29/20130161/%24file/20130161.PDF\n",
        "Getting #348: http://yosemite.epa.gov/oeca/webeis.nsf/%28PDFView%29/20130166/%24file/20130166.PDF"
       ]
      },
      {
       "output_type": "stream",
       "stream": "stdout",
       "text": [
        "\n",
        "Getting #349: http://yosemite.epa.gov/oeca/webeis.nsf/%28PDFView%29/20130152/%24file/20130152.PDF\n",
        "Getting #350: http://yosemite.epa.gov/oeca/webeis.nsf/%28PDFView%29/20130159/%24file/20130159.PDF"
       ]
      },
      {
       "output_type": "stream",
       "stream": "stdout",
       "text": [
        "\n",
        "Getting #351: http://yosemite.epa.gov/oeca/webeis.nsf/%28PDFView%29/20130155/%24file/20130155.PDF"
       ]
      },
      {
       "output_type": "stream",
       "stream": "stdout",
       "text": [
        "\n",
        "Getting #352: http://yosemite.epa.gov/oeca/webeis.nsf/%28PDFView%29/20130140/%24file/20130140.PDF"
       ]
      },
      {
       "output_type": "stream",
       "stream": "stdout",
       "text": [
        "\n",
        "Getting #353: http://yosemite.epa.gov/oeca/webeis.nsf/%28PDFView%29/20130138/%24file/20130138.PDF\n",
        "Getting #354: http://yosemite.epa.gov/oeca/webeis.nsf/%28PDFView%29/20130148/%24file/20130148.PDF"
       ]
      },
      {
       "output_type": "stream",
       "stream": "stdout",
       "text": [
        "\n",
        "Getting #355: http://yosemite.epa.gov/oeca/webeis.nsf/%28PDFView%29/20130143/%24file/20130143.PDF"
       ]
      },
      {
       "output_type": "stream",
       "stream": "stdout",
       "text": [
        "\n",
        "Getting #356: http://yosemite.epa.gov/oeca/webeis.nsf/%28PDFView%29/20130145/%24file/20130145.PDF"
       ]
      },
      {
       "output_type": "stream",
       "stream": "stdout",
       "text": [
        "\n",
        "Getting #357: http://yosemite.epa.gov/oeca/webeis.nsf/%28PDFView%29/20130141/%24file/20130141.PDF"
       ]
      },
      {
       "output_type": "stream",
       "stream": "stdout",
       "text": [
        "\n",
        "Getting #358: http://yosemite.epa.gov/oeca/webeis.nsf/%28PDFView%29/20130139/%24file/20130139.PDF"
       ]
      },
      {
       "output_type": "stream",
       "stream": "stdout",
       "text": [
        "\n",
        "Getting #359: http://yosemite.epa.gov/oeca/webeis.nsf/%28PDFView%29/20130133/%24file/20130133.PDF"
       ]
      },
      {
       "output_type": "stream",
       "stream": "stdout",
       "text": [
        "\n",
        "Getting #360: http://yosemite.epa.gov/oeca/webeis.nsf/%28PDFView%29/20130134/%24file/20130134.PDF"
       ]
      },
      {
       "output_type": "stream",
       "stream": "stdout",
       "text": [
        "\n",
        "Getting #361: http://yosemite.epa.gov/oeca/webeis.nsf/%28PDFView%29/20130131/%24file/20130131.PDF"
       ]
      },
      {
       "output_type": "stream",
       "stream": "stdout",
       "text": [
        "\n",
        "Getting #362: http://yosemite.epa.gov/oeca/webeis.nsf/%28PDFView%29/20130135/%24file/20130135.PDF"
       ]
      },
      {
       "output_type": "stream",
       "stream": "stdout",
       "text": [
        "\n",
        "Getting #363: http://yosemite.epa.gov/oeca/webeis.nsf/%28PDFView%29/20130136/%24file/20130136.PDF\n",
        "Getting #364: http://yosemite.epa.gov/oeca/webeis.nsf/%28PDFView%29/20130137/%24file/20130137.PDF"
       ]
      },
      {
       "output_type": "stream",
       "stream": "stdout",
       "text": [
        "\n",
        "Getting #365: http://yosemite.epa.gov/oeca/webeis.nsf/%28PDFView%29/20130132/%24file/20130132.PDF\n",
        "Getting #366: http://yosemite.epa.gov/oeca/webeis.nsf/%28PDFView%29/20130129/%24file/20130129.PDF"
       ]
      },
      {
       "output_type": "stream",
       "stream": "stdout",
       "text": [
        "\n",
        "Getting #367: http://yosemite.epa.gov/oeca/webeis.nsf/%28PDFView%29/20130130/%24file/20130130.PDF\n",
        "Getting #368: http://yosemite.epa.gov/oeca/webeis.nsf/%28PDFView%29/20130128/%24file/20130128.PDF"
       ]
      },
      {
       "output_type": "stream",
       "stream": "stdout",
       "text": [
        "\n",
        "Getting #369: http://yosemite.epa.gov/oeca/webeis.nsf/%28PDFView%29/20130124/%24file/20130124.PDF"
       ]
      },
      {
       "output_type": "stream",
       "stream": "stdout",
       "text": [
        "\n",
        "Getting #370: http://yosemite.epa.gov/oeca/webeis.nsf/%28PDFView%29/20130112/%24file/20130112.PDF\n",
        "Getting #371: http://yosemite.epa.gov/oeca/webeis.nsf/%28PDFView%29/20130116/%24file/20130116.PDF"
       ]
      },
      {
       "output_type": "stream",
       "stream": "stdout",
       "text": [
        "\n",
        "Getting #372: http://yosemite.epa.gov/oeca/webeis.nsf/%28PDFView%29/20130121/%24file/20130121.PDF\n",
        "Getting #373: http://yosemite.epa.gov/oeca/webeis.nsf/%28PDFView%29/20130117/%24file/20130117.PDF"
       ]
      },
      {
       "output_type": "stream",
       "stream": "stdout",
       "text": [
        "\n",
        "Getting #374: http://yosemite.epa.gov/oeca/webeis.nsf/%28PDFView%29/20130119/%24file/20130119.PDF\n",
        "Getting #375: http://yosemite.epa.gov/oeca/webeis.nsf/%28PDFView%29/20130109/%24file/20130109.PDF"
       ]
      },
      {
       "output_type": "stream",
       "stream": "stdout",
       "text": [
        "\n",
        "Getting #376: http://yosemite.epa.gov/oeca/webeis.nsf/%28PDFView%29/20130101/%24file/20130101.PDF"
       ]
      },
      {
       "output_type": "stream",
       "stream": "stdout",
       "text": [
        "\n",
        "Getting #377: http://yosemite.epa.gov/oeca/webeis.nsf/%28PDFView%29/20130104/%24file/20130104.PDF\n",
        "Getting #378: http://yosemite.epa.gov/oeca/webeis.nsf/%28PDFView%29/20130103/%24file/20130103.PDF"
       ]
      },
      {
       "output_type": "stream",
       "stream": "stdout",
       "text": [
        "\n",
        "Getting #379: http://yosemite.epa.gov/oeca/webeis.nsf/%28PDFView%29/20130100/%24file/20130100.PDF\n",
        "Getting #380: http://yosemite.epa.gov/oeca/webeis.nsf/%28PDFView%29/20130093/%24file/20130093.PDF"
       ]
      },
      {
       "output_type": "stream",
       "stream": "stdout",
       "text": [
        "\n",
        "Getting #381: http://yosemite.epa.gov/oeca/webeis.nsf/%28PDFView%29/20130096/%24file/20130096.PDF"
       ]
      },
      {
       "output_type": "stream",
       "stream": "stdout",
       "text": [
        "\n",
        "Getting #382: http://yosemite.epa.gov/oeca/webeis.nsf/%28PDFView%29/20130092/%24file/20130092.PDF"
       ]
      },
      {
       "output_type": "stream",
       "stream": "stdout",
       "text": [
        "\n",
        "Getting #383: http://yosemite.epa.gov/oeca/webeis.nsf/%28PDFView%29/20130095/%24file/20130095.PDF"
       ]
      },
      {
       "output_type": "stream",
       "stream": "stdout",
       "text": [
        "\n",
        "Getting #384: http://yosemite.epa.gov/oeca/webeis.nsf/%28PDFView%29/20130089/%24file/20130089.PDF"
       ]
      },
      {
       "output_type": "stream",
       "stream": "stdout",
       "text": [
        "\n",
        "Getting #385: http://yosemite.epa.gov/oeca/webeis.nsf/%28PDFView%29/20130091/%24file/20130091.PDF"
       ]
      },
      {
       "output_type": "stream",
       "stream": "stdout",
       "text": [
        "\n",
        "Getting #386: http://yosemite.epa.gov/oeca/webeis.nsf/%28PDFView%29/20130099/%24file/20130099.PDF"
       ]
      },
      {
       "output_type": "stream",
       "stream": "stdout",
       "text": [
        "\n",
        "Getting #387: http://yosemite.epa.gov/oeca/webeis.nsf/%28PDFView%29/20130087/%24file/20130087.PDF\n",
        "Getting #388: http://yosemite.epa.gov/oeca/webeis.nsf/%28PDFView%29/20130080/%24file/20130080.PDF"
       ]
      },
      {
       "output_type": "stream",
       "stream": "stdout",
       "text": [
        "\n",
        "Getting #389: http://yosemite.epa.gov/oeca/webeis.nsf/%28PDFView%29/20130082/%24file/20130082.PDF\n",
        "Getting #390: http://yosemite.epa.gov/oeca/webeis.nsf/%28PDFView%29/20130085/%24file/20130085.PDF"
       ]
      },
      {
       "output_type": "stream",
       "stream": "stdout",
       "text": [
        "\n",
        "Getting #391: http://yosemite.epa.gov/oeca/webeis.nsf/%28PDFView%29/20130081/%24file/20130081.PDF"
       ]
      },
      {
       "output_type": "stream",
       "stream": "stdout",
       "text": [
        "\n",
        "Getting #392: http://yosemite.epa.gov/oeca/webeis.nsf/%28PDFView%29/20130078/%24file/20130078.PDF"
       ]
      },
      {
       "output_type": "stream",
       "stream": "stdout",
       "text": [
        "\n",
        "Getting #393: http://yosemite.epa.gov/oeca/webeis.nsf/%28PDFView%29/20130076/%24file/20130076.PDF\n",
        "Getting #394: http://yosemite.epa.gov/oeca/webeis.nsf/%28PDFView%29/20130065/%24file/20130065.PDF"
       ]
      },
      {
       "output_type": "stream",
       "stream": "stdout",
       "text": [
        "\n",
        "Getting #395: http://yosemite.epa.gov/oeca/webeis.nsf/%28PDFView%29/20130071/%24file/20130071.PDF\n",
        "Getting #396: http://yosemite.epa.gov/oeca/webeis.nsf/%28PDFView%29/20130068/%24file/20130068.PDF"
       ]
      },
      {
       "output_type": "stream",
       "stream": "stdout",
       "text": [
        "\n",
        "Getting #397: http://yosemite.epa.gov/oeca/webeis.nsf/%28PDFView%29/20130064/%24file/20130064.PDF"
       ]
      },
      {
       "output_type": "stream",
       "stream": "stdout",
       "text": [
        "\n",
        "Getting #398: http://yosemite.epa.gov/oeca/webeis.nsf/%28PDFView%29/20130066/%24file/20130066.PDF"
       ]
      },
      {
       "output_type": "stream",
       "stream": "stdout",
       "text": [
        "\n",
        "Getting #399: http://yosemite.epa.gov/oeca/webeis.nsf/%28PDFView%29/20130070/%24file/20130070.PDF\n",
        "Getting #400: http://yosemite.epa.gov/oeca/webeis.nsf/%28PDFView%29/20130067/%24file/20130067.PDF"
       ]
      },
      {
       "output_type": "stream",
       "stream": "stdout",
       "text": [
        "\n",
        "Getting #401: http://yosemite.epa.gov/oeca/webeis.nsf/%28PDFView%29/20130060/%24file/20130060.PDF"
       ]
      },
      {
       "output_type": "stream",
       "stream": "stdout",
       "text": [
        "\n",
        "Getting #402: http://yosemite.epa.gov/oeca/webeis.nsf/%28PDFView%29/20130061/%24file/20130061.PDF"
       ]
      },
      {
       "output_type": "stream",
       "stream": "stdout",
       "text": [
        "\n",
        "Getting #403: http://yosemite.epa.gov/oeca/webeis.nsf/%28PDFView%29/20130062/%24file/20130062.PDF\n",
        "Getting #404: http://yosemite.epa.gov/oeca/webeis.nsf/%28PDFView%29/20130059/%24file/20130059.PDF"
       ]
      },
      {
       "output_type": "stream",
       "stream": "stdout",
       "text": [
        "\n",
        "Getting #405: http://yosemite.epa.gov/oeca/webeis.nsf/%28PDFView%29/20130056/%24file/20130056.PDF\n",
        "Getting #406: http://yosemite.epa.gov/oeca/webeis.nsf/%28PDFView%29/20130055/%24file/20130055.PDF"
       ]
      },
      {
       "output_type": "stream",
       "stream": "stdout",
       "text": [
        "\n",
        "Getting #407: http://yosemite.epa.gov/oeca/webeis.nsf/%28PDFView%29/20130051/%24file/20130051.PDF"
       ]
      },
      {
       "output_type": "stream",
       "stream": "stdout",
       "text": [
        "\n",
        "Getting #408: http://yosemite.epa.gov/oeca/webeis.nsf/%28PDFView%29/20130044/%24file/20130044.PDF\n",
        "Getting #409: http://yosemite.epa.gov/oeca/webeis.nsf/%28PDFView%29/20130045/%24file/20130045.PDF"
       ]
      },
      {
       "output_type": "stream",
       "stream": "stdout",
       "text": [
        "\n",
        "Getting #410: http://yosemite.epa.gov/oeca/webeis.nsf/%28PDFView%29/20130034/%24file/20130034.PDF\n",
        "Getting #411: http://yosemite.epa.gov/oeca/webeis.nsf/%28PDFView%29/20130037/%24file/20130037.PDF"
       ]
      },
      {
       "output_type": "stream",
       "stream": "stdout",
       "text": [
        "\n",
        "Getting #412: http://yosemite.epa.gov/oeca/webeis.nsf/%28PDFView%29/20130035/%24file/20130035.PDF"
       ]
      },
      {
       "output_type": "stream",
       "stream": "stdout",
       "text": [
        "\n",
        "Getting #413: http://yosemite.epa.gov/oeca/webeis.nsf/%28PDFView%29/20130039/%24file/20130039.PDF\n",
        "Getting #414: http://yosemite.epa.gov/oeca/webeis.nsf/%28PDFView%29/20130038/%24file/20130038.PDF"
       ]
      },
      {
       "output_type": "stream",
       "stream": "stdout",
       "text": [
        "\n",
        "Getting #415: http://yosemite.epa.gov/oeca/webeis.nsf/%28PDFView%29/20130040/%24file/20130040.PDF\n",
        "Getting #416: http://yosemite.epa.gov/oeca/webeis.nsf/%28PDFView%29/20130041/%24file/20130041.PDF"
       ]
      },
      {
       "output_type": "stream",
       "stream": "stdout",
       "text": [
        "\n",
        "Getting #417: http://yosemite.epa.gov/oeca/webeis.nsf/%28PDFView%29/20130042/%24file/20130042.PDF"
       ]
      },
      {
       "output_type": "stream",
       "stream": "stdout",
       "text": [
        "\n",
        "Getting #418: http://yosemite.epa.gov/oeca/webeis.nsf/%28PDFView%29/20130032/%24file/20130032.PDF\n",
        "Getting #419: http://yosemite.epa.gov/oeca/webeis.nsf/%28PDFView%29/20130029/%24file/20130029.PDF"
       ]
      },
      {
       "output_type": "stream",
       "stream": "stdout",
       "text": [
        "\n",
        "Getting #420: http://yosemite.epa.gov/oeca/webeis.nsf/%28PDFView%29/20130033/%24file/20130033.PDF\n",
        "Getting #421: http://yosemite.epa.gov/oeca/webeis.nsf/%28PDFView%29/20130028/%24file/20130028.PDF"
       ]
      },
      {
       "output_type": "stream",
       "stream": "stdout",
       "text": [
        "\n",
        "Getting #422: http://yosemite.epa.gov/oeca/webeis.nsf/%28PDFView%29/20130027/%24file/20130027.PDF\n",
        "Getting #423: http://yosemite.epa.gov/oeca/webeis.nsf/%28PDFView%29/20130020/%24file/20130020.PDF"
       ]
      },
      {
       "output_type": "stream",
       "stream": "stdout",
       "text": [
        "\n",
        "Getting #424: http://yosemite.epa.gov/oeca/webeis.nsf/%28PDFView%29/20130021/%24file/20130021.PDF"
       ]
      },
      {
       "output_type": "stream",
       "stream": "stdout",
       "text": [
        "\n",
        "Getting #425: http://yosemite.epa.gov/oeca/webeis.nsf/%28PDFView%29/20130019/%24file/20130019.PDF\n",
        "Getting #426: http://yosemite.epa.gov/oeca/webeis.nsf/%28PDFView%29/20130016/%24file/20130016.PDF"
       ]
      },
      {
       "output_type": "stream",
       "stream": "stdout",
       "text": [
        "\n",
        "Getting #427: http://yosemite.epa.gov/oeca/webeis.nsf/%28PDFView%29/20130012/%24file/20130012.PDF\n",
        "Getting #428: http://yosemite.epa.gov/oeca/webeis.nsf/%28PDFView%29/20130002/%24file/20130002.PDF"
       ]
      },
      {
       "output_type": "stream",
       "stream": "stdout",
       "text": [
        "\n",
        "Getting #429: http://yosemite.epa.gov/oeca/webeis.nsf/%28PDFView%29/20130001/%24file/20130001.PDF\n",
        "Getting #430: http://yosemite.epa.gov/oeca/webeis.nsf/%28PDFView%29/20120405/%24file/20120405.PDF"
       ]
      },
      {
       "output_type": "stream",
       "stream": "stdout",
       "text": [
        "\n",
        "Getting #431: http://yosemite.epa.gov/oeca/webeis.nsf/%28PDFView%29/20120406/%24file/20120406.PDF"
       ]
      },
      {
       "output_type": "stream",
       "stream": "stdout",
       "text": [
        "\n",
        "Getting #432: http://yosemite.epa.gov/oeca/webeis.nsf/%28PDFView%29/20120399/%24file/20120399.PDF\n",
        "Getting #433: http://yosemite.epa.gov/oeca/webeis.nsf/%28PDFView%29/20120400/%24file/20120400.PDF"
       ]
      },
      {
       "output_type": "stream",
       "stream": "stdout",
       "text": [
        "\n",
        "Getting #434: http://yosemite.epa.gov/oeca/webeis.nsf/%28PDFView%29/20120395/%24file/20120395.PDF"
       ]
      },
      {
       "output_type": "stream",
       "stream": "stdout",
       "text": [
        "\n",
        "Getting #435: http://yosemite.epa.gov/oeca/webeis.nsf/%28PDFView%29/20120394/%24file/20120394.PDF\n",
        "Getting #436: http://yosemite.epa.gov/oeca/webeis.nsf/%28PDFView%29/20120387/%24file/20120387.PDF"
       ]
      },
      {
       "output_type": "stream",
       "stream": "stdout",
       "text": [
        "\n",
        "Getting #437: http://yosemite.epa.gov/oeca/webeis.nsf/%28PDFView%29/20120388/%24file/20120388.PDF\n",
        "Getting #438: http://yosemite.epa.gov/oeca/webeis.nsf/%28PDFView%29/20120392/%24file/20120392.PDF"
       ]
      },
      {
       "output_type": "stream",
       "stream": "stdout",
       "text": [
        "\n",
        "Getting #439: http://yosemite.epa.gov/oeca/webeis.nsf/%28PDFView%29/20120390/%24file/20120390.PDF\n",
        "Getting #440: http://yosemite.epa.gov/oeca/webeis.nsf/%28PDFView%29/20120393/%24file/20120393.PDF"
       ]
      },
      {
       "output_type": "stream",
       "stream": "stdout",
       "text": [
        "\n",
        "Getting #441: http://yosemite.epa.gov/oeca/webeis.nsf/%28PDFView%29/20120383/%24file/20120383.PDF"
       ]
      },
      {
       "output_type": "stream",
       "stream": "stdout",
       "text": [
        "\n",
        "Getting #442: http://yosemite.epa.gov/oeca/webeis.nsf/%28PDFView%29/20120378/%24file/20120378.PDF"
       ]
      },
      {
       "output_type": "stream",
       "stream": "stdout",
       "text": [
        "\n",
        "Getting #443: http://yosemite.epa.gov/oeca/webeis.nsf/%28PDFView%29/20120376/%24file/20120376.PDF\n",
        "Getting #444: http://yosemite.epa.gov/oeca/webeis.nsf/%28PDFView%29/20120371/%24file/20120371.PDF"
       ]
      },
      {
       "output_type": "stream",
       "stream": "stdout",
       "text": [
        "\n",
        "Getting #445: http://yosemite.epa.gov/oeca/webeis.nsf/%28PDFView%29/20120368/%24file/20120368.PDF\n",
        "Getting #446: http://yosemite.epa.gov/oeca/webeis.nsf/%28PDFView%29/20120361/%24file/20120361.PDF"
       ]
      },
      {
       "output_type": "stream",
       "stream": "stdout",
       "text": [
        "\n",
        "Getting #447: http://yosemite.epa.gov/oeca/webeis.nsf/%28PDFView%29/20120358/%24file/20120358.PDF\n",
        "Getting #448: http://yosemite.epa.gov/oeca/webeis.nsf/%28PDFView%29/20120359/%24file/20120359.PDF"
       ]
      },
      {
       "output_type": "stream",
       "stream": "stdout",
       "text": [
        "\n",
        "Getting #449: http://yosemite.epa.gov/oeca/webeis.nsf/%28PDFView%29/20120352/%24file/20120352.PDF\n",
        "Getting #450: http://yosemite.epa.gov/oeca/webeis.nsf/%28PDFView%29/20120352/%24file/20120352.PDF"
       ]
      },
      {
       "output_type": "stream",
       "stream": "stdout",
       "text": [
        "\n",
        "Getting #451: http://yosemite.epa.gov/oeca/webeis.nsf/%28PDFView%29/20120346/%24file/20120346.PDF"
       ]
      },
      {
       "output_type": "stream",
       "stream": "stdout",
       "text": [
        "\n",
        "Getting #452: http://yosemite.epa.gov/oeca/webeis.nsf/%28PDFView%29/20120345/%24file/20120345.PDF"
       ]
      },
      {
       "output_type": "stream",
       "stream": "stdout",
       "text": [
        "\n",
        "Getting #453: http://yosemite.epa.gov/oeca/webeis.nsf/%28PDFView%29/20120347/%24file/20120347.PDF"
       ]
      },
      {
       "output_type": "stream",
       "stream": "stdout",
       "text": [
        "\n",
        "Getting #454: http://yosemite.epa.gov/oeca/webeis.nsf/%28PDFView%29/20120348/%24file/20120348.PDF\n",
        "Getting #455: http://yosemite.epa.gov/oeca/webeis.nsf/%28PDFView%29/20120351/%24file/20120351.PDF"
       ]
      },
      {
       "output_type": "stream",
       "stream": "stdout",
       "text": [
        "\n",
        "Getting #456: http://yosemite.epa.gov/oeca/webeis.nsf/%28PDFView%29/20120338/%24file/20120338.PDF"
       ]
      },
      {
       "output_type": "stream",
       "stream": "stdout",
       "text": [
        "\n",
        "Getting #457: http://yosemite.epa.gov/oeca/webeis.nsf/%28PDFView%29/20120339/%24file/20120339.PDF\n",
        "Getting #458: http://yosemite.epa.gov/oeca/webeis.nsf/%28PDFView%29/20120336/%24file/20120336.PDF"
       ]
      },
      {
       "output_type": "stream",
       "stream": "stdout",
       "text": [
        "\n",
        "Getting #459: http://yosemite.epa.gov/oeca/webeis.nsf/%28PDFView%29/20120334/%24file/20120334.PDF\n",
        "Getting #460: http://yosemite.epa.gov/oeca/webeis.nsf/%28PDFView%29/20120335/%24file/20120335.PDF"
       ]
      },
      {
       "output_type": "stream",
       "stream": "stdout",
       "text": [
        "\n",
        "Getting #461: http://yosemite.epa.gov/oeca/webeis.nsf/%28PDFView%29/20120327/%24file/20120327.PDF"
       ]
      },
      {
       "output_type": "stream",
       "stream": "stdout",
       "text": [
        "\n",
        "Getting #462: http://yosemite.epa.gov/oeca/webeis.nsf/%28PDFView%29/20120332/%24file/20120332.PDF\n",
        "Getting #463: http://yosemite.epa.gov/oeca/webeis.nsf/%28PDFView%29/20120330/%24file/20120330.PDF"
       ]
      },
      {
       "output_type": "stream",
       "stream": "stdout",
       "text": [
        "\n",
        "Getting #464: http://yosemite.epa.gov/oeca/webeis.nsf/%28PDFView%29/20120333/%24file/20120333.PDF"
       ]
      },
      {
       "output_type": "stream",
       "stream": "stdout",
       "text": [
        "\n",
        "Getting #465: http://yosemite.epa.gov/oeca/webeis.nsf/%28PDFView%29/20120326/%24file/20120326.PDF\n",
        "Getting #466: http://yosemite.epa.gov/oeca/webeis.nsf/%28PDFView%29/20120319/%24file/20120319.PDF"
       ]
      },
      {
       "output_type": "stream",
       "stream": "stdout",
       "text": [
        "\n",
        "Getting #467: http://yosemite.epa.gov/oeca/webeis.nsf/%28PDFView%29/20120317/%24file/20120317.PDF\n",
        "Getting #468: http://yosemite.epa.gov/oeca/webeis.nsf/%28PDFView%29/20120318/%24file/20120318.PDF"
       ]
      },
      {
       "output_type": "stream",
       "stream": "stdout",
       "text": [
        "\n",
        "Getting #469: http://yosemite.epa.gov/oeca/webeis.nsf/%28PDFView%29/20120324/%24file/20120324.PDF"
       ]
      },
      {
       "output_type": "stream",
       "stream": "stdout",
       "text": [
        "\n",
        "Getting #470: http://yosemite.epa.gov/oeca/webeis.nsf/%28PDFView%29/20120309/%24file/20120309.PDF"
       ]
      },
      {
       "output_type": "stream",
       "stream": "stdout",
       "text": [
        "\n",
        "Getting #471: http://yosemite.epa.gov/oeca/webeis.nsf/%28PDFView%29/20120314/%24file/20120314.PDF"
       ]
      },
      {
       "output_type": "stream",
       "stream": "stdout",
       "text": [
        "\n",
        "Getting #472: http://yosemite.epa.gov/oeca/webeis.nsf/%28PDFView%29/20120307/%24file/20120307.PDF"
       ]
      },
      {
       "output_type": "stream",
       "stream": "stdout",
       "text": [
        "\n",
        "Getting #473: http://yosemite.epa.gov/oeca/webeis.nsf/%28PDFView%29/20120304/%24file/20120304.PDF\n",
        "Getting #474: http://yosemite.epa.gov/oeca/webeis.nsf/%28PDFView%29/20120290/%24file/20120290.PDF"
       ]
      },
      {
       "output_type": "stream",
       "stream": "stdout",
       "text": [
        "\n",
        "Getting #475: http://yosemite.epa.gov/oeca/webeis.nsf/%28PDFView%29/20120295/%24file/20120295.PDF"
       ]
      },
      {
       "output_type": "stream",
       "stream": "stdout",
       "text": [
        "\n",
        "Getting #476: http://yosemite.epa.gov/oeca/webeis.nsf/%28PDFView%29/20120288/%24file/20120288.PDF"
       ]
      },
      {
       "output_type": "stream",
       "stream": "stdout",
       "text": [
        "\n",
        "Getting #477: http://yosemite.epa.gov/oeca/webeis.nsf/%28PDFView%29/20120292/%24file/20120292.PDF\n",
        "Getting #478: http://yosemite.epa.gov/oeca/webeis.nsf/%28PDFView%29/20120294/%24file/20120294.PDF"
       ]
      },
      {
       "output_type": "stream",
       "stream": "stdout",
       "text": [
        "\n",
        "Getting #479: http://yosemite.epa.gov/oeca/webeis.nsf/%28PDFView%29/20120284/%24file/20120284.PDF\n",
        "Getting #480: http://yosemite.epa.gov/oeca/webeis.nsf/%28PDFView%29/20120278/%24file/20120278.PDF"
       ]
      },
      {
       "output_type": "stream",
       "stream": "stdout",
       "text": [
        "\n",
        "Getting #481: http://yosemite.epa.gov/oeca/webeis.nsf/%28PDFView%29/20120279/%24file/20120279.PDF"
       ]
      },
      {
       "output_type": "stream",
       "stream": "stdout",
       "text": [
        "\n",
        "Getting #482: http://yosemite.epa.gov/oeca/webeis.nsf/%28PDFView%29/20120274/%24file/20120274.PDF"
       ]
      },
      {
       "output_type": "stream",
       "stream": "stdout",
       "text": [
        "\n",
        "Getting #483: http://yosemite.epa.gov/oeca/webeis.nsf/%28PDFView%29/20120275/%24file/20120275.PDF"
       ]
      },
      {
       "output_type": "stream",
       "stream": "stdout",
       "text": [
        "\n",
        "Getting #484: http://yosemite.epa.gov/oeca/webeis.nsf/%28PDFView%29/20120271/%24file/20120271.PDF"
       ]
      },
      {
       "output_type": "stream",
       "stream": "stdout",
       "text": [
        "\n",
        "Getting #485: http://yosemite.epa.gov/oeca/webeis.nsf/%28PDFView%29/20120272/%24file/20120272.PDF\n",
        "Getting #486: http://yosemite.epa.gov/oeca/webeis.nsf/%28PDFView%29/20120266/%24file/20120266.PDF"
       ]
      },
      {
       "output_type": "stream",
       "stream": "stdout",
       "text": [
        "\n",
        "Getting #487: http://yosemite.epa.gov/oeca/webeis.nsf/%28PDFView%29/20120267/%24file/20120267.PDF"
       ]
      },
      {
       "output_type": "stream",
       "stream": "stdout",
       "text": [
        "\n",
        "Getting #488: http://yosemite.epa.gov/oeca/webeis.nsf/%28PDFView%29/20120263/%24file/20120263.PDF\n",
        "Getting #489: http://yosemite.epa.gov/oeca/webeis.nsf/%28PDFView%29/20120260/%24file/20120260.PDF"
       ]
      },
      {
       "output_type": "stream",
       "stream": "stdout",
       "text": [
        "\n",
        "Getting #490: http://yosemite.epa.gov/oeca/webeis.nsf/%28PDFView%29/20120258/%24file/20120258.PDF\n",
        "Getting #491: http://yosemite.epa.gov/oeca/webeis.nsf/%28PDFView%29/20120253/%24file/20120253.PDF"
       ]
      },
      {
       "output_type": "stream",
       "stream": "stdout",
       "text": [
        "\n",
        "Getting #492: http://yosemite.epa.gov/oeca/webeis.nsf/%28PDFView%29/20120252/%24file/20120252.PDF\n",
        "Getting #493: http://yosemite.epa.gov/oeca/webeis.nsf/%28PDFView%29/20120255/%24file/20120255.PDF"
       ]
      },
      {
       "output_type": "stream",
       "stream": "stdout",
       "text": [
        "\n",
        "Getting #494: http://yosemite.epa.gov/oeca/webeis.nsf/%28PDFView%29/20120247/%24file/20120247.PDF"
       ]
      },
      {
       "output_type": "stream",
       "stream": "stdout",
       "text": [
        "\n",
        "Getting #495: http://yosemite.epa.gov/oeca/webeis.nsf/%28PDFView%29/20120249/%24file/20120249.PDF\n",
        "Getting #496: http://yosemite.epa.gov/oeca/webeis.nsf/%28PDFView%29/20120241/%24file/20120241.PDF"
       ]
      },
      {
       "output_type": "stream",
       "stream": "stdout",
       "text": [
        "\n",
        "Getting #497: http://yosemite.epa.gov/oeca/webeis.nsf/%28PDFView%29/20120246/%24file/20120246.PDF\n",
        "Getting #498: http://yosemite.epa.gov/oeca/webeis.nsf/%28PDFView%29/20120235/%24file/20120235.PDF"
       ]
      },
      {
       "output_type": "stream",
       "stream": "stdout",
       "text": [
        "\n",
        "Getting #499: http://yosemite.epa.gov/oeca/webeis.nsf/%28PDFView%29/20120239/%24file/20120239.PDF"
       ]
      },
      {
       "output_type": "stream",
       "stream": "stdout",
       "text": [
        "\n",
        "Getting #500: http://yosemite.epa.gov/oeca/webeis.nsf/%28PDFView%29/20120230/%24file/20120230.PDF"
       ]
      },
      {
       "output_type": "stream",
       "stream": "stdout",
       "text": [
        "\n",
        "Getting #501: http://yosemite.epa.gov/oeca/webeis.nsf/%28PDFView%29/20120236/%24file/20120236.PDF"
       ]
      },
      {
       "output_type": "stream",
       "stream": "stdout",
       "text": [
        "\n",
        "Getting #502: http://yosemite.epa.gov/oeca/webeis.nsf/%28PDFView%29/20120226/%24file/20120226.PDF"
       ]
      },
      {
       "output_type": "stream",
       "stream": "stdout",
       "text": [
        "\n",
        "Getting #503: http://yosemite.epa.gov/oeca/webeis.nsf/%28PDFView%29/20120225/%24file/20120225.PDF\n",
        "Getting #504: http://yosemite.epa.gov/oeca/webeis.nsf/%28PDFView%29/20120223/%24file/20120223.PDF"
       ]
      },
      {
       "output_type": "stream",
       "stream": "stdout",
       "text": [
        "\n",
        "Getting #505: http://yosemite.epa.gov/oeca/webeis.nsf/%28PDFView%29/20120223/%24file/20120223.PDF"
       ]
      },
      {
       "output_type": "stream",
       "stream": "stdout",
       "text": [
        "\n",
        "Getting #506: http://yosemite.epa.gov/oeca/webeis.nsf/%28PDFView%29/20120227/%24file/20120227.PDF"
       ]
      },
      {
       "output_type": "stream",
       "stream": "stdout",
       "text": [
        "\n",
        "Getting #507: http://yosemite.epa.gov/oeca/webeis.nsf/%28PDFView%29/20120227/%24file/20120227.PDF\n",
        "Getting #508: http://yosemite.epa.gov/oeca/webeis.nsf/%28PDFView%29/20120212/%24file/20120212.PDF"
       ]
      },
      {
       "output_type": "stream",
       "stream": "stdout",
       "text": [
        "\n",
        "Getting #509: http://yosemite.epa.gov/oeca/webeis.nsf/%28PDFView%29/20120216/%24file/20120216.PDF\n",
        "Getting #510: http://yosemite.epa.gov/oeca/webeis.nsf/%28PDFView%29/20120214/%24file/20120214.PDF"
       ]
      },
      {
       "output_type": "stream",
       "stream": "stdout",
       "text": [
        "\n",
        "Getting #511: http://yosemite.epa.gov/oeca/webeis.nsf/%28PDFView%29/20120221/%24file/20120221.PDF"
       ]
      },
      {
       "output_type": "stream",
       "stream": "stdout",
       "text": [
        "\n",
        "Getting #512: http://yosemite.epa.gov/oeca/webeis.nsf/%28PDFView%29/20120197/%24file/20120197.PDF"
       ]
      },
      {
       "output_type": "stream",
       "stream": "stdout",
       "text": [
        "\n",
        "Getting #513: http://yosemite.epa.gov/oeca/webeis.nsf/%28PDFView%29/20120200/%24file/20120200.PDF\n",
        "Getting #514: http://yosemite.epa.gov/oeca/webeis.nsf/%28PDFView%29/20120208/%24file/20120208.PDF"
       ]
      },
      {
       "output_type": "stream",
       "stream": "stdout",
       "text": [
        "\n",
        "Getting #515: http://yosemite.epa.gov/oeca/webeis.nsf/%28PDFView%29/20120211/%24file/20120211.PDF\n",
        "Getting #516: http://yosemite.epa.gov/oeca/webeis.nsf/%28PDFView%29/20120209/%24file/20120209.PDF"
       ]
      },
      {
       "output_type": "stream",
       "stream": "stdout",
       "text": [
        "\n",
        "Getting #517: http://yosemite.epa.gov/oeca/webeis.nsf/%28PDFView%29/20120191/%24file/20120191.PDF\n",
        "Getting #518: http://yosemite.epa.gov/oeca/webeis.nsf/%28PDFView%29/20120189/%24file/20120189.PDF"
       ]
      },
      {
       "output_type": "stream",
       "stream": "stdout",
       "text": [
        "\n",
        "Getting #519: http://yosemite.epa.gov/oeca/webeis.nsf/%28PDFView%29/20120187/%24file/20120187.PDF\n",
        "Getting #520: http://yosemite.epa.gov/oeca/webeis.nsf/%28PDFView%29/20120188/%24file/20120188.PDF"
       ]
      },
      {
       "output_type": "stream",
       "stream": "stdout",
       "text": [
        "\n",
        "Getting #521: http://yosemite.epa.gov/oeca/webeis.nsf/%28PDFView%29/20120174/%24file/20120174.PDF"
       ]
      },
      {
       "output_type": "stream",
       "stream": "stdout",
       "text": [
        "\n",
        "Getting #522: http://yosemite.epa.gov/oeca/webeis.nsf/%28PDFView%29/20120177/%24file/20120177.PDF"
       ]
      },
      {
       "output_type": "stream",
       "stream": "stdout",
       "text": [
        "\n",
        "Getting #523: http://yosemite.epa.gov/oeca/webeis.nsf/%28PDFView%29/20120175/%24file/20120175.PDF"
       ]
      },
      {
       "output_type": "stream",
       "stream": "stdout",
       "text": [
        "\n",
        "Getting #524: http://yosemite.epa.gov/oeca/webeis.nsf/%28PDFView%29/20120180/%24file/20120180.PDF\n",
        "Getting #525: http://yosemite.epa.gov/oeca/webeis.nsf/%28PDFView%29/20120181/%24file/20120181.PDF"
       ]
      },
      {
       "output_type": "stream",
       "stream": "stdout",
       "text": [
        "\n",
        "Getting #526: http://yosemite.epa.gov/oeca/webeis.nsf/%28PDFView%29/20120166/%24file/20120166.PDF"
       ]
      },
      {
       "output_type": "stream",
       "stream": "stdout",
       "text": [
        "\n",
        "Getting #527: http://yosemite.epa.gov/oeca/webeis.nsf/%28PDFView%29/20120166/%24file/20120166.PDF\n",
        "Getting #528: http://yosemite.epa.gov/oeca/webeis.nsf/%28PDFView%29/20120165/%24file/20120165.PDF"
       ]
      },
      {
       "output_type": "stream",
       "stream": "stdout",
       "text": [
        "\n",
        "Getting #529: http://yosemite.epa.gov/oeca/webeis.nsf/%28PDFView%29/20120167/%24file/20120167.PDF\n",
        "Getting #530: http://yosemite.epa.gov/oeca/webeis.nsf/%28PDFView%29/20120168/%24file/20120168.PDF"
       ]
      },
      {
       "output_type": "stream",
       "stream": "stdout",
       "text": [
        "\n",
        "Getting #531: http://yosemite.epa.gov/oeca/webeis.nsf/%28PDFView%29/20120170/%24file/20120170.PDF"
       ]
      },
      {
       "output_type": "stream",
       "stream": "stdout",
       "text": [
        "\n",
        "Getting #532: http://yosemite.epa.gov/oeca/webeis.nsf/%28PDFView%29/20120158/%24file/20120158.PDF\n",
        "Getting #533: http://yosemite.epa.gov/oeca/webeis.nsf/%28PDFView%29/20120158/%24file/20120158.PDF"
       ]
      },
      {
       "output_type": "stream",
       "stream": "stdout",
       "text": [
        "\n",
        "Getting #534: http://yosemite.epa.gov/oeca/webeis.nsf/%28PDFView%29/20120161/%24file/20120161.PDF\n",
        "Getting #535: http://yosemite.epa.gov/oeca/webeis.nsf/%28PDFView%29/20120160/%24file/20120160.PDF"
       ]
      },
      {
       "output_type": "stream",
       "stream": "stdout",
       "text": [
        "\n",
        "Getting #536: http://yosemite.epa.gov/oeca/webeis.nsf/%28PDFView%29/20120156/%24file/20120156.PDF"
       ]
      },
      {
       "output_type": "stream",
       "stream": "stdout",
       "text": [
        "\n",
        "Getting #537: http://yosemite.epa.gov/oeca/webeis.nsf/%28PDFView%29/20120151/%24file/20120151.PDF\n",
        "Getting #538: http://yosemite.epa.gov/oeca/webeis.nsf/%28PDFView%29/20120148/%24file/20120148.PDF"
       ]
      },
      {
       "output_type": "stream",
       "stream": "stdout",
       "text": [
        "\n",
        "Getting #539: http://yosemite.epa.gov/oeca/webeis.nsf/%28PDFView%29/20120146/%24file/20120146.PDF\n",
        "Getting #540: http://yosemite.epa.gov/oeca/webeis.nsf/%28PDFView%29/20120155/%24file/20120155.PDF"
       ]
      },
      {
       "output_type": "stream",
       "stream": "stdout",
       "text": [
        "\n",
        "Getting #541: http://yosemite.epa.gov/oeca/webeis.nsf/%28PDFView%29/20120154/%24file/20120154.PDF"
       ]
      },
      {
       "output_type": "stream",
       "stream": "stdout",
       "text": [
        "\n",
        "Getting #542: http://yosemite.epa.gov/oeca/webeis.nsf/%28PDFView%29/20120138/%24file/20120138.PDF"
       ]
      },
      {
       "output_type": "stream",
       "stream": "stdout",
       "text": [
        "\n",
        "Getting #543: http://yosemite.epa.gov/oeca/webeis.nsf/%28PDFView%29/20120144/%24file/20120144.PDF"
       ]
      },
      {
       "output_type": "stream",
       "stream": "stdout",
       "text": [
        "\n",
        "Getting #544: http://yosemite.epa.gov/oeca/webeis.nsf/%28PDFView%29/20120140/%24file/20120140.PDF"
       ]
      },
      {
       "output_type": "stream",
       "stream": "stdout",
       "text": [
        "\n",
        "Getting #545: http://yosemite.epa.gov/oeca/webeis.nsf/%28PDFView%29/20120137/%24file/20120137.PDF"
       ]
      },
      {
       "output_type": "stream",
       "stream": "stdout",
       "text": [
        "\n",
        "Getting #546: http://yosemite.epa.gov/oeca/webeis.nsf/%28PDFView%29/20120143/%24file/20120143.PDF"
       ]
      },
      {
       "output_type": "stream",
       "stream": "stdout",
       "text": [
        "\n",
        "Getting #547: http://yosemite.epa.gov/oeca/webeis.nsf/%28PDFView%29/20120142/%24file/20120142.PDF"
       ]
      },
      {
       "output_type": "stream",
       "stream": "stdout",
       "text": [
        "\n",
        "Getting #548: http://yosemite.epa.gov/oeca/webeis.nsf/%28PDFView%29/20120135/%24file/20120135.PDF\n",
        "Getting #549: http://yosemite.epa.gov/oeca/webeis.nsf/%28PDFView%29/20120133/%24file/20120133.PDF"
       ]
      },
      {
       "output_type": "stream",
       "stream": "stdout",
       "text": [
        "\n",
        "Getting #550: http://yosemite.epa.gov/oeca/webeis.nsf/%28PDFView%29/20120118/%24file/20120118.PDF\n",
        "Getting #551: http://yosemite.epa.gov/oeca/webeis.nsf/%28PDFView%29/20120115/%24file/20120115.PDF"
       ]
      },
      {
       "output_type": "stream",
       "stream": "stdout",
       "text": [
        "\n",
        "Getting #552: http://yosemite.epa.gov/oeca/webeis.nsf/%28PDFView%29/20120103/%24file/20120103.PDF\n",
        "Getting #553: http://yosemite.epa.gov/oeca/webeis.nsf/%28PDFView%29/20120105/%24file/20120105.PDF"
       ]
      },
      {
       "output_type": "stream",
       "stream": "stdout",
       "text": [
        "\n",
        "Getting #554: http://yosemite.epa.gov/oeca/webeis.nsf/%28PDFView%29/20120112/%24file/20120112.PDF\n",
        "Getting #555: http://yosemite.epa.gov/oeca/webeis.nsf/%28PDFView%29/20120111/%24file/20120111.PDF"
       ]
      },
      {
       "output_type": "stream",
       "stream": "stdout",
       "text": [
        "\n",
        "Getting #556: http://yosemite.epa.gov/oeca/webeis.nsf/%28PDFView%29/20120110/%24file/20120110.PDF"
       ]
      },
      {
       "output_type": "stream",
       "stream": "stdout",
       "text": [
        "\n",
        "Getting #557: http://yosemite.epa.gov/oeca/webeis.nsf/%28PDFView%29/20120101/%24file/20120101.PDF\n",
        "Getting #558: http://yosemite.epa.gov/oeca/webeis.nsf/%28PDFView%29/20120098/%24file/20120098.PDF"
       ]
      },
      {
       "output_type": "stream",
       "stream": "stdout",
       "text": [
        "\n",
        "Getting #559: http://yosemite.epa.gov/oeca/webeis.nsf/%28PDFView%29/20120102/%24file/20120102.PDF"
       ]
      },
      {
       "output_type": "stream",
       "stream": "stdout",
       "text": [
        "\n",
        "Getting #560: http://yosemite.epa.gov/oeca/webeis.nsf/%28PDFView%29/20120093/%24file/20120093.PDF\n",
        "Getting #561: http://yosemite.epa.gov/oeca/webeis.nsf/%28PDFView%29/20120095/%24file/20120095.PDF"
       ]
      },
      {
       "output_type": "stream",
       "stream": "stdout",
       "text": [
        "\n",
        "Getting #562: http://yosemite.epa.gov/oeca/webeis.nsf/%28PDFView%29/20120086/%24file/20120086.PDF"
       ]
      },
      {
       "output_type": "stream",
       "stream": "stdout",
       "text": [
        "\n",
        "Getting #563: http://yosemite.epa.gov/oeca/webeis.nsf/%28PDFView%29/20120080/%24file/20120080.PDF"
       ]
      },
      {
       "output_type": "stream",
       "stream": "stdout",
       "text": [
        "\n",
        "Getting #564: http://yosemite.epa.gov/oeca/webeis.nsf/%28PDFView%29/20120090/%24file/20120090.PDF\n",
        "Getting #565: http://yosemite.epa.gov/oeca/webeis.nsf/%28PDFView%29/20120084/%24file/20120084.PDF"
       ]
      },
      {
       "output_type": "stream",
       "stream": "stdout",
       "text": [
        "\n",
        "Getting #566: http://yosemite.epa.gov/oeca/webeis.nsf/%28PDFView%29/20120087/%24file/20120087.PDF"
       ]
      },
      {
       "output_type": "stream",
       "stream": "stdout",
       "text": [
        "\n",
        "Getting #567: http://yosemite.epa.gov/oeca/webeis.nsf/%28PDFView%29/20120082/%24file/20120082.PDF"
       ]
      },
      {
       "output_type": "stream",
       "stream": "stdout",
       "text": [
        "\n",
        "Getting #568: http://yosemite.epa.gov/oeca/webeis.nsf/%28PDFView%29/20120081/%24file/20120081.PDF"
       ]
      },
      {
       "output_type": "stream",
       "stream": "stdout",
       "text": [
        "\n",
        "Getting #569: http://yosemite.epa.gov/oeca/webeis.nsf/%28PDFView%29/20120085/%24file/20120085.PDF"
       ]
      },
      {
       "output_type": "stream",
       "stream": "stdout",
       "text": [
        "\n",
        "Getting #570: http://yosemite.epa.gov/oeca/webeis.nsf/%28PDFView%29/20120073/%24file/20120073.PDF"
       ]
      },
      {
       "output_type": "stream",
       "stream": "stdout",
       "text": [
        "\n",
        "Getting #571: http://yosemite.epa.gov/oeca/webeis.nsf/%28PDFView%29/20120079/%24file/20120079.PDF"
       ]
      },
      {
       "output_type": "stream",
       "stream": "stdout",
       "text": [
        "\n",
        "Getting #572: http://yosemite.epa.gov/oeca/webeis.nsf/%28PDFView%29/20120076/%24file/20120076.PDF"
       ]
      },
      {
       "output_type": "stream",
       "stream": "stdout",
       "text": [
        "\n",
        "Getting #573: http://yosemite.epa.gov/oeca/webeis.nsf/%28PDFView%29/20120063/%24file/20120063.PDF\n",
        "Getting #574: http://yosemite.epa.gov/oeca/webeis.nsf/%28PDFView%29/20120064/%24file/20120064.PDF"
       ]
      },
      {
       "output_type": "stream",
       "stream": "stdout",
       "text": [
        "\n",
        "Getting #575: http://yosemite.epa.gov/oeca/webeis.nsf/%28PDFView%29/20120066/%24file/20120066.PDF\n",
        "Getting #576: http://yosemite.epa.gov/oeca/webeis.nsf/%28PDFView%29/20120056/%24file/20120056.PDF"
       ]
      },
      {
       "output_type": "stream",
       "stream": "stdout",
       "text": [
        "\n",
        "Getting #577: http://yosemite.epa.gov/oeca/webeis.nsf/%28PDFView%29/20120060/%24file/20120060.PDF"
       ]
      },
      {
       "output_type": "stream",
       "stream": "stdout",
       "text": [
        "\n",
        "Getting #578: http://yosemite.epa.gov/oeca/webeis.nsf/%28PDFView%29/20120045/%24file/20120045.PDF\n",
        "Getting #579: http://yosemite.epa.gov/oeca/webeis.nsf/%28PDFView%29/20120050/%24file/20120050.PDF"
       ]
      },
      {
       "output_type": "stream",
       "stream": "stdout",
       "text": [
        "\n",
        "Getting #580: http://yosemite.epa.gov/oeca/webeis.nsf/%28PDFView%29/20120043/%24file/20120043.PDF\n",
        "Getting #581: http://yosemite.epa.gov/oeca/webeis.nsf/%28PDFView%29/20120052/%24file/20120052.PDF"
       ]
      },
      {
       "output_type": "stream",
       "stream": "stdout",
       "text": [
        "\n",
        "Getting #582: http://yosemite.epa.gov/oeca/webeis.nsf/%28PDFView%29/20120042/%24file/20120042.PDF"
       ]
      },
      {
       "output_type": "stream",
       "stream": "stdout",
       "text": [
        "\n",
        "Getting #583: http://yosemite.epa.gov/oeca/webeis.nsf/%28PDFView%29/20120039/%24file/20120039.PDF\n",
        "Getting #584: http://yosemite.epa.gov/oeca/webeis.nsf/%28PDFView%29/20120035/%24file/20120035.PDF"
       ]
      },
      {
       "output_type": "stream",
       "stream": "stdout",
       "text": [
        "\n",
        "Getting #585: http://yosemite.epa.gov/oeca/webeis.nsf/%28PDFView%29/20120034/%24file/20120034.PDF\n",
        "Getting #586: http://yosemite.epa.gov/oeca/webeis.nsf/%28PDFView%29/20120028/%24file/20120028.PDF"
       ]
      },
      {
       "output_type": "stream",
       "stream": "stdout",
       "text": [
        "\n",
        "Getting #587: http://yosemite.epa.gov/oeca/webeis.nsf/%28PDFView%29/20120025/%24file/20120025.PDF\n",
        "Getting #588: http://yosemite.epa.gov/oeca/webeis.nsf/%28PDFView%29/20120021/%24file/20120021.PDF"
       ]
      },
      {
       "output_type": "stream",
       "stream": "stdout",
       "text": [
        "\n",
        "Getting #589: http://yosemite.epa.gov/oeca/webeis.nsf/%28PDFView%29/20120013/%24file/20120013.PDF\n",
        "Getting #590: http://yosemite.epa.gov/oeca/webeis.nsf/%28PDFView%29/20120014/%24file/20120014.PDF"
       ]
      },
      {
       "output_type": "stream",
       "stream": "stdout",
       "text": [
        "\n",
        "Getting #591: http://yosemite.epa.gov/oeca/webeis.nsf/%28PDFView%29/20120006/%24file/20120006.PDF"
       ]
      },
      {
       "output_type": "stream",
       "stream": "stdout",
       "text": [
        "\n",
        "Getting #592: http://yosemite.epa.gov/oeca/webeis.nsf/%28PDFView%29/20120012/%24file/20120012.PDF"
       ]
      },
      {
       "output_type": "stream",
       "stream": "stdout",
       "text": [
        "\n",
        "Getting #593: http://yosemite.epa.gov/oeca/webeis.nsf/%28PDFView%29/20120000/%24file/20120000.PDF"
       ]
      },
      {
       "output_type": "stream",
       "stream": "stdout",
       "text": [
        "\n",
        "Getting #594: http://yosemite.epa.gov/oeca/webeis.nsf/%28PDFView%29/20120002/%24file/20120002.PDF\n",
        "Getting #595: http://yosemite.epa.gov/oeca/webeis.nsf/%28PDFView%29/20110439/%24file/20110439.PDF"
       ]
      },
      {
       "output_type": "stream",
       "stream": "stdout",
       "text": [
        "\n",
        "Getting #596: http://yosemite.epa.gov/oeca/webeis.nsf/%28PDFView%29/20110441/%24file/20110441.PDF"
       ]
      },
      {
       "output_type": "stream",
       "stream": "stdout",
       "text": [
        "\n",
        "Getting #597: http://yosemite.epa.gov/oeca/webeis.nsf/%28PDFView%29/20110440/%24file/20110440.PDF\n",
        "Getting #598: http://yosemite.epa.gov/oeca/webeis.nsf/%28PDFView%29/20110432/%24file/20110432.PDF"
       ]
      },
      {
       "output_type": "stream",
       "stream": "stdout",
       "text": [
        "\n",
        "Getting #599: http://yosemite.epa.gov/oeca/webeis.nsf/%28PDFView%29/20110437/%24file/20110437.PDF\n",
        "Getting #600: http://yosemite.epa.gov/oeca/webeis.nsf/%28PDFView%29/20110438/%24file/20110438.PDF"
       ]
      },
      {
       "output_type": "stream",
       "stream": "stdout",
       "text": [
        "\n",
        "Getting #601: http://yosemite.epa.gov/oeca/webeis.nsf/%28PDFView%29/20110431/%24file/20110431.PDF"
       ]
      },
      {
       "output_type": "stream",
       "stream": "stdout",
       "text": [
        "\n",
        "Getting #602: http://yosemite.epa.gov/oeca/webeis.nsf/%28PDFView%29/20110433/%24file/20110433.PDF\n",
        "Getting #603: http://yosemite.epa.gov/oeca/webeis.nsf/%28PDFView%29/20110426/%24file/20110426.PDF"
       ]
      },
      {
       "output_type": "stream",
       "stream": "stdout",
       "text": [
        "\n",
        "Getting #604: http://yosemite.epa.gov/oeca/webeis.nsf/%28PDFView%29/20110411/%24file/20110411.PDF\n",
        "Getting #605: http://yosemite.epa.gov/oeca/webeis.nsf/%28PDFView%29/20110402/%24file/20110402.PDF"
       ]
      },
      {
       "output_type": "stream",
       "stream": "stdout",
       "text": [
        "\n",
        "Getting #606: http://yosemite.epa.gov/oeca/webeis.nsf/%28PDFView%29/20110408/%24file/20110408.PDF"
       ]
      },
      {
       "output_type": "stream",
       "stream": "stdout",
       "text": [
        "\n",
        "Getting #607: http://yosemite.epa.gov/oeca/webeis.nsf/%28PDFView%29/20110403/%24file/20110403.PDF\n",
        "Getting #608: http://yosemite.epa.gov/oeca/webeis.nsf/%28PDFView%29/20110405/%24file/20110405.PDF"
       ]
      },
      {
       "output_type": "stream",
       "stream": "stdout",
       "text": [
        "\n",
        "Getting #609: http://yosemite.epa.gov/oeca/webeis.nsf/%28PDFView%29/20110407/%24file/20110407.PDF"
       ]
      },
      {
       "output_type": "stream",
       "stream": "stdout",
       "text": [
        "\n",
        "Getting #610: http://yosemite.epa.gov/oeca/webeis.nsf/%28PDFView%29/20110397/%24file/20110397.PDF\n",
        "Getting #611: http://yosemite.epa.gov/oeca/webeis.nsf/%28PDFView%29/20110383/%24file/20110383.PDF"
       ]
      },
      {
       "output_type": "stream",
       "stream": "stdout",
       "text": [
        "\n",
        "Getting #612: http://yosemite.epa.gov/oeca/webeis.nsf/%28PDFView%29/20110392/%24file/20110392.PDF\n",
        "Getting #613: http://yosemite.epa.gov/oeca/webeis.nsf/%28PDFView%29/20110386/%24file/20110386.PDF"
       ]
      },
      {
       "output_type": "stream",
       "stream": "stdout",
       "text": [
        "\n",
        "Getting #614: http://yosemite.epa.gov/oeca/webeis.nsf/%28PDFView%29/20110375/%24file/20110375.PDF\n",
        "Getting #615: http://yosemite.epa.gov/oeca/webeis.nsf/%28PDFView%29/20110379/%24file/20110379.PDF"
       ]
      },
      {
       "output_type": "stream",
       "stream": "stdout",
       "text": [
        "\n",
        "Getting #616: http://yosemite.epa.gov/oeca/webeis.nsf/%28PDFView%29/20110381/%24file/20110381.PDF"
       ]
      },
      {
       "output_type": "stream",
       "stream": "stdout",
       "text": [
        "\n",
        "Getting #617: http://yosemite.epa.gov/oeca/webeis.nsf/%28PDFView%29/20110369/%24file/20110369.PDF"
       ]
      },
      {
       "output_type": "stream",
       "stream": "stdout",
       "text": [
        "\n",
        "Getting #618: http://yosemite.epa.gov/oeca/webeis.nsf/%28PDFView%29/20110360/%24file/20110360.PDF\n",
        "Getting #619: http://yosemite.epa.gov/oeca/webeis.nsf/%28PDFView%29/20110358/%24file/20110358.PDF"
       ]
      },
      {
       "output_type": "stream",
       "stream": "stdout",
       "text": [
        "\n",
        "Getting #620: http://yosemite.epa.gov/oeca/webeis.nsf/%28PDFView%29/20110366/%24file/20110366.PDF"
       ]
      },
      {
       "output_type": "stream",
       "stream": "stdout",
       "text": [
        "\n",
        "Getting #621: http://yosemite.epa.gov/oeca/webeis.nsf/%28PDFView%29/20110350/%24file/20110350.PDF"
       ]
      },
      {
       "output_type": "stream",
       "stream": "stdout",
       "text": [
        "\n",
        "Getting #622: http://yosemite.epa.gov/oeca/webeis.nsf/%28PDFView%29/20110353/%24file/20110353.PDF\n",
        "Getting #623: http://yosemite.epa.gov/oeca/webeis.nsf/%28PDFView%29/20110336/%24file/20110336.PDF"
       ]
      },
      {
       "output_type": "stream",
       "stream": "stdout",
       "text": [
        "\n",
        "Getting #624: http://yosemite.epa.gov/oeca/webeis.nsf/%28PDFView%29/20110332/%24file/20110332.PDF\n",
        "Getting #625: http://yosemite.epa.gov/oeca/webeis.nsf/%28PDFView%29/20110339/%24file/20110339.PDF"
       ]
      },
      {
       "output_type": "stream",
       "stream": "stdout",
       "text": [
        "\n",
        "Getting #626: http://yosemite.epa.gov/oeca/webeis.nsf/%28PDFView%29/20110326/%24file/20110326.PDF"
       ]
      },
      {
       "output_type": "stream",
       "stream": "stdout",
       "text": [
        "\n",
        "Getting #627: http://yosemite.epa.gov/oeca/webeis.nsf/%28PDFView%29/20110330/%24file/20110330.PDF"
       ]
      },
      {
       "output_type": "stream",
       "stream": "stdout",
       "text": [
        "\n",
        "Getting #628: http://yosemite.epa.gov/oeca/webeis.nsf/%28PDFView%29/20110322/%24file/20110322.PDF\n",
        "Getting #629: http://yosemite.epa.gov/oeca/webeis.nsf/%28PDFView%29/20110317/%24file/20110317.PDF"
       ]
      },
      {
       "output_type": "stream",
       "stream": "stdout",
       "text": [
        "\n",
        "Getting #630: http://yosemite.epa.gov/oeca/webeis.nsf/%28PDFView%29/20110315/%24file/20110315.PDF"
       ]
      },
      {
       "output_type": "stream",
       "stream": "stdout",
       "text": [
        "\n",
        "Getting #631: http://yosemite.epa.gov/oeca/webeis.nsf/%28PDFView%29/20110323/%24file/20110323.PDF"
       ]
      },
      {
       "output_type": "stream",
       "stream": "stdout",
       "text": [
        "\n",
        "Getting #632: http://yosemite.epa.gov/oeca/webeis.nsf/%28PDFView%29/20110308/%24file/20110308.PDF"
       ]
      },
      {
       "output_type": "stream",
       "stream": "stdout",
       "text": [
        "\n",
        "Getting #633: http://yosemite.epa.gov/oeca/webeis.nsf/%28PDFView%29/20110301/%24file/20110301.PDF\n",
        "Getting #634: http://yosemite.epa.gov/oeca/webeis.nsf/%28PDFView%29/20110300/%24file/20110300.PDF"
       ]
      },
      {
       "output_type": "stream",
       "stream": "stdout",
       "text": [
        "\n",
        "Getting #635: http://yosemite.epa.gov/oeca/webeis.nsf/%28PDFView%29/20110289/%24file/20110289.PDF\n",
        "Getting #636: http://yosemite.epa.gov/oeca/webeis.nsf/%28PDFView%29/20110285/%24file/20110285.PDF"
       ]
      },
      {
       "output_type": "stream",
       "stream": "stdout",
       "text": [
        "\n",
        "Getting #637: http://yosemite.epa.gov/oeca/webeis.nsf/%28PDFView%29/20110284/%24file/20110284.PDF\n",
        "Getting #638: http://yosemite.epa.gov/oeca/webeis.nsf/%28PDFView%29/20110288/%24file/20110288.PDF"
       ]
      },
      {
       "output_type": "stream",
       "stream": "stdout",
       "text": [
        "\n",
        "Getting #639: http://yosemite.epa.gov/oeca/webeis.nsf/%28PDFView%29/20110277/%24file/20110277.PDF\n",
        "Getting #640: http://yosemite.epa.gov/oeca/webeis.nsf/%28PDFView%29/20110274/%24file/20110274.PDF"
       ]
      },
      {
       "output_type": "stream",
       "stream": "stdout",
       "text": [
        "\n",
        "Getting #641: http://yosemite.epa.gov/oeca/webeis.nsf/%28PDFView%29/20110272/%24file/20110272.PDF"
       ]
      },
      {
       "output_type": "stream",
       "stream": "stdout",
       "text": [
        "\n",
        "Getting #642: http://yosemite.epa.gov/oeca/webeis.nsf/%28PDFView%29/20110275/%24file/20110275.PDF\n",
        "Getting #643: http://yosemite.epa.gov/oeca/webeis.nsf/%28PDFView%29/20110267/%24file/20110267.PDF"
       ]
      },
      {
       "output_type": "stream",
       "stream": "stdout",
       "text": [
        "\n",
        "Getting #644: http://yosemite.epa.gov/oeca/webeis.nsf/%28PDFView%29/20110261/%24file/20110261.PDF"
       ]
      },
      {
       "output_type": "stream",
       "stream": "stdout",
       "text": [
        "\n",
        "Getting #645: http://yosemite.epa.gov/oeca/webeis.nsf/%28PDFView%29/20110269/%24file/20110269.PDF"
       ]
      },
      {
       "output_type": "stream",
       "stream": "stdout",
       "text": [
        "\n",
        "Getting #646: http://yosemite.epa.gov/oeca/webeis.nsf/%28PDFView%29/20110251/%24file/20110251.PDF"
       ]
      },
      {
       "output_type": "stream",
       "stream": "stdout",
       "text": [
        "\n",
        "Getting #647: http://yosemite.epa.gov/oeca/webeis.nsf/%28PDFView%29/20110255/%24file/20110255.PDF"
       ]
      },
      {
       "output_type": "stream",
       "stream": "stdout",
       "text": [
        "\n",
        "Getting #648: http://yosemite.epa.gov/oeca/webeis.nsf/%28PDFView%29/20110249/%24file/20110249.PDF"
       ]
      },
      {
       "output_type": "stream",
       "stream": "stdout",
       "text": [
        "\n",
        "Getting #649: http://yosemite.epa.gov/oeca/webeis.nsf/%28PDFView%29/20110254/%24file/20110254.PDF"
       ]
      },
      {
       "output_type": "stream",
       "stream": "stdout",
       "text": [
        "\n",
        "Getting #650: http://yosemite.epa.gov/oeca/webeis.nsf/%28PDFView%29/20110248/%24file/20110248.PDF"
       ]
      },
      {
       "output_type": "stream",
       "stream": "stdout",
       "text": [
        "\n",
        "Getting #651: http://yosemite.epa.gov/oeca/webeis.nsf/%28PDFView%29/20110229/%24file/20110229.PDF"
       ]
      },
      {
       "output_type": "stream",
       "stream": "stdout",
       "text": [
        "\n",
        "Getting #652: http://yosemite.epa.gov/oeca/webeis.nsf/%28PDFView%29/20110230/%24file/20110230.PDF"
       ]
      },
      {
       "output_type": "stream",
       "stream": "stdout",
       "text": [
        "\n",
        "Getting #653: http://yosemite.epa.gov/oeca/webeis.nsf/%28PDFView%29/20110226/%24file/20110226.PDF\n",
        "Getting #654: http://yosemite.epa.gov/oeca/webeis.nsf/%28PDFView%29/20110227/%24file/20110227.PDF"
       ]
      },
      {
       "output_type": "stream",
       "stream": "stdout",
       "text": [
        "\n",
        "Getting #655: http://yosemite.epa.gov/oeca/webeis.nsf/%28PDFView%29/20110224/%24file/20110224.PDF\n",
        "Getting #656: http://yosemite.epa.gov/oeca/webeis.nsf/%28PDFView%29/20110211/%24file/20110211.PDF"
       ]
      },
      {
       "output_type": "stream",
       "stream": "stdout",
       "text": [
        "\n",
        "Getting #657: http://yosemite.epa.gov/oeca/webeis.nsf/%28PDFView%29/20110214/%24file/20110214.PDF"
       ]
      },
      {
       "output_type": "stream",
       "stream": "stdout",
       "text": [
        "\n",
        "Getting #658: http://yosemite.epa.gov/oeca/webeis.nsf/%28PDFView%29/20110205/%24file/20110205.PDF"
       ]
      },
      {
       "output_type": "stream",
       "stream": "stdout",
       "text": [
        "\n",
        "Getting #659: http://yosemite.epa.gov/oeca/webeis.nsf/%28PDFView%29/20110209/%24file/20110209.PDF"
       ]
      },
      {
       "output_type": "stream",
       "stream": "stdout",
       "text": [
        "\n",
        "Getting #660: http://yosemite.epa.gov/oeca/webeis.nsf/%28PDFView%29/20110194/%24file/20110194.PDF"
       ]
      },
      {
       "output_type": "stream",
       "stream": "stdout",
       "text": [
        "\n",
        "Getting #661: http://yosemite.epa.gov/oeca/webeis.nsf/%28PDFView%29/20110193/%24file/20110193.PDF"
       ]
      },
      {
       "output_type": "stream",
       "stream": "stdout",
       "text": [
        "\n",
        "Getting #662: http://yosemite.epa.gov/oeca/webeis.nsf/%28PDFView%29/20110189/%24file/20110189.PDF\n",
        "Getting #663: http://yosemite.epa.gov/oeca/webeis.nsf/%28PDFView%29/20110192/%24file/20110192.PDF"
       ]
      },
      {
       "output_type": "stream",
       "stream": "stdout",
       "text": [
        "\n",
        "Getting #664: http://yosemite.epa.gov/oeca/webeis.nsf/%28PDFView%29/20110179/%24file/20110179.PDF"
       ]
      },
      {
       "output_type": "stream",
       "stream": "stdout",
       "text": [
        "\n",
        "Getting #665: http://yosemite.epa.gov/oeca/webeis.nsf/%28PDFView%29/20110182/%24file/20110182.PDF"
       ]
      },
      {
       "output_type": "stream",
       "stream": "stdout",
       "text": [
        "\n",
        "Getting #666: http://yosemite.epa.gov/oeca/webeis.nsf/%28PDFView%29/20110170/%24file/20110170.PDF"
       ]
      },
      {
       "output_type": "stream",
       "stream": "stdout",
       "text": [
        "\n",
        "Getting #667: http://yosemite.epa.gov/oeca/webeis.nsf/%28PDFView%29/20110174/%24file/20110174.PDF"
       ]
      },
      {
       "output_type": "stream",
       "stream": "stdout",
       "text": [
        "\n",
        "Getting #668: http://yosemite.epa.gov/oeca/webeis.nsf/%28PDFView%29/20110171/%24file/20110171.PDF"
       ]
      },
      {
       "output_type": "stream",
       "stream": "stdout",
       "text": [
        "\n",
        "Getting #669: http://yosemite.epa.gov/oeca/webeis.nsf/%28PDFView%29/20110168/%24file/20110168.PDF"
       ]
      },
      {
       "output_type": "stream",
       "stream": "stdout",
       "text": [
        "\n",
        "Getting #670: http://yosemite.epa.gov/oeca/webeis.nsf/%28PDFView%29/20110167/%24file/20110167.PDF"
       ]
      },
      {
       "output_type": "stream",
       "stream": "stdout",
       "text": [
        "\n",
        "Getting #671: http://yosemite.epa.gov/oeca/webeis.nsf/%28PDFView%29/20110175/%24file/20110175.PDF"
       ]
      },
      {
       "output_type": "stream",
       "stream": "stdout",
       "text": [
        "\n",
        "Getting #672: http://yosemite.epa.gov/oeca/webeis.nsf/%28PDFView%29/20110159/%24file/20110159.PDF"
       ]
      },
      {
       "output_type": "stream",
       "stream": "stdout",
       "text": [
        "\n",
        "Getting #673: http://yosemite.epa.gov/oeca/webeis.nsf/%28PDFView%29/20110166/%24file/20110166.PDF\n",
        "Getting #674: http://yosemite.epa.gov/oeca/webeis.nsf/%28PDFView%29/20110163/%24file/20110163.PDF"
       ]
      },
      {
       "output_type": "stream",
       "stream": "stdout",
       "text": [
        "\n",
        "Getting #675: http://yosemite.epa.gov/oeca/webeis.nsf/%28PDFView%29/20110165/%24file/20110165.PDF\n",
        "Getting #676: http://yosemite.epa.gov/oeca/webeis.nsf/%28PDFView%29/20110148/%24file/20110148.PDF"
       ]
      },
      {
       "output_type": "stream",
       "stream": "stdout",
       "text": [
        "\n",
        "Getting #677: http://yosemite.epa.gov/oeca/webeis.nsf/%28PDFView%29/20110149/%24file/20110149.PDF"
       ]
      },
      {
       "output_type": "stream",
       "stream": "stdout",
       "text": [
        "\n",
        "Getting #678: http://yosemite.epa.gov/oeca/webeis.nsf/%28PDFView%29/20110144/%24file/20110144.PDF\n",
        "Getting #679: http://yosemite.epa.gov/oeca/webeis.nsf/%28PDFView%29/20110141/%24file/20110141.PDF"
       ]
      },
      {
       "output_type": "stream",
       "stream": "stdout",
       "text": [
        "\n",
        "Getting #680: http://yosemite.epa.gov/oeca/webeis.nsf/%28PDFView%29/20110140/%24file/20110140.PDF"
       ]
      },
      {
       "output_type": "stream",
       "stream": "stdout",
       "text": [
        "\n",
        "Getting #681: http://yosemite.epa.gov/oeca/webeis.nsf/%28PDFView%29/20110138/%24file/20110138.PDF"
       ]
      },
      {
       "output_type": "stream",
       "stream": "stdout",
       "text": [
        "\n",
        "Getting #682: http://yosemite.epa.gov/oeca/webeis.nsf/%28PDFView%29/20110134/%24file/20110134.PDF"
       ]
      },
      {
       "output_type": "stream",
       "stream": "stdout",
       "text": [
        "\n",
        "Getting #683: http://yosemite.epa.gov/oeca/webeis.nsf/%28PDFView%29/20110137/%24file/20110137.PDF\n",
        "Getting #684: http://yosemite.epa.gov/oeca/webeis.nsf/%28PDFView%29/20110129/%24file/20110129.PDF"
       ]
      },
      {
       "output_type": "stream",
       "stream": "stdout",
       "text": [
        "\n",
        "Getting #685: http://yosemite.epa.gov/oeca/webeis.nsf/%28PDFView%29/20110128/%24file/20110128.PDF"
       ]
      },
      {
       "output_type": "stream",
       "stream": "stdout",
       "text": [
        "\n",
        "Getting #686: http://yosemite.epa.gov/oeca/webeis.nsf/%28PDFView%29/20110132/%24file/20110132.PDF"
       ]
      },
      {
       "output_type": "stream",
       "stream": "stdout",
       "text": [
        "\n",
        "Getting #687: http://yosemite.epa.gov/oeca/webeis.nsf/%28PDFView%29/20110108/%24file/20110108.PDF\n",
        "Getting #688: http://yosemite.epa.gov/oeca/webeis.nsf/%28PDFView%29/20110119/%24file/20110119.PDF"
       ]
      },
      {
       "output_type": "stream",
       "stream": "stdout",
       "text": [
        "\n",
        "Getting #689: http://yosemite.epa.gov/oeca/webeis.nsf/%28PDFView%29/20110109/%24file/20110109.PDF"
       ]
      },
      {
       "output_type": "stream",
       "stream": "stdout",
       "text": [
        "\n",
        "Getting #690: http://yosemite.epa.gov/oeca/webeis.nsf/%28PDFView%29/20110098/%24file/20110098.PDF"
       ]
      },
      {
       "output_type": "stream",
       "stream": "stdout",
       "text": [
        "\n",
        "Getting #691: http://yosemite.epa.gov/oeca/webeis.nsf/%28PDFView%29/20110095/%24file/20110095.PDF"
       ]
      },
      {
       "output_type": "stream",
       "stream": "stdout",
       "text": [
        "\n",
        "Getting #692: http://yosemite.epa.gov/oeca/webeis.nsf/%28PDFView%29/20110094/%24file/20110094.PDF"
       ]
      },
      {
       "output_type": "stream",
       "stream": "stdout",
       "text": [
        "\n",
        "Getting #693: http://yosemite.epa.gov/oeca/webeis.nsf/%28PDFView%29/20110090/%24file/20110090.PDF\n",
        "Getting #694: http://yosemite.epa.gov/oeca/webeis.nsf/%28PDFView%29/20110084/%24file/20110084.PDF"
       ]
      },
      {
       "output_type": "stream",
       "stream": "stdout",
       "text": [
        "\n",
        "Getting #695: http://yosemite.epa.gov/oeca/webeis.nsf/%28PDFView%29/20110080/%24file/20110080.PDF"
       ]
      },
      {
       "output_type": "stream",
       "stream": "stdout",
       "text": [
        "\n",
        "Getting #696: http://yosemite.epa.gov/oeca/webeis.nsf/%28PDFView%29/20110068/%24file/20110068.PDF"
       ]
      },
      {
       "output_type": "stream",
       "stream": "stdout",
       "text": [
        "\n",
        "Getting #697: http://yosemite.epa.gov/oeca/webeis.nsf/%28PDFView%29/20110074/%24file/20110074.PDF\n",
        "Getting #698: http://yosemite.epa.gov/oeca/webeis.nsf/%28PDFView%29/20110062/%24file/20110062.PDF"
       ]
      },
      {
       "output_type": "stream",
       "stream": "stdout",
       "text": [
        "\n",
        "Getting #699: http://yosemite.epa.gov/oeca/webeis.nsf/%28PDFView%29/20110057/%24file/20110057.PDF\n",
        "Getting #700: http://yosemite.epa.gov/oeca/webeis.nsf/%28PDFView%29/20110063/%24file/20110063.PDF"
       ]
      },
      {
       "output_type": "stream",
       "stream": "stdout",
       "text": [
        "\n",
        "Getting #701: http://yosemite.epa.gov/oeca/webeis.nsf/%28PDFView%29/20110061/%24file/20110061.PDF"
       ]
      },
      {
       "output_type": "stream",
       "stream": "stdout",
       "text": [
        "\n",
        "Getting #702: http://yosemite.epa.gov/oeca/webeis.nsf/%28PDFView%29/20110050/%24file/20110050.PDF\n",
        "Getting #703: http://yosemite.epa.gov/oeca/webeis.nsf/%28PDFView%29/20110052/%24file/20110052.PDF"
       ]
      },
      {
       "output_type": "stream",
       "stream": "stdout",
       "text": [
        "\n",
        "Getting #704: http://yosemite.epa.gov/oeca/webeis.nsf/%28PDFView%29/20110046/%24file/20110046.PDF"
       ]
      },
      {
       "output_type": "stream",
       "stream": "stdout",
       "text": [
        "\n",
        "Getting #705: http://yosemite.epa.gov/oeca/webeis.nsf/%28PDFView%29/20110049/%24file/20110049.PDF\n",
        "Getting #706: http://yosemite.epa.gov/oeca/webeis.nsf/%28PDFView%29/20110047/%24file/20110047.PDF"
       ]
      },
      {
       "output_type": "stream",
       "stream": "stdout",
       "text": [
        "\n",
        "Getting #707: http://yosemite.epa.gov/oeca/webeis.nsf/%28PDFView%29/20110051/%24file/20110051.PDF\n",
        "Getting #708: http://yosemite.epa.gov/oeca/webeis.nsf/%28PDFView%29/20110039/%24file/20110039.PDF"
       ]
      },
      {
       "output_type": "stream",
       "stream": "stdout",
       "text": [
        "\n",
        "Getting #709: http://yosemite.epa.gov/oeca/webeis.nsf/%28PDFView%29/20110042/%24file/20110042.PDF"
       ]
      },
      {
       "output_type": "stream",
       "stream": "stdout",
       "text": [
        "\n",
        "Getting #710: http://yosemite.epa.gov/oeca/webeis.nsf/%28PDFView%29/20110043/%24file/20110043.PDF"
       ]
      },
      {
       "output_type": "stream",
       "stream": "stdout",
       "text": [
        "\n",
        "Getting #711: http://yosemite.epa.gov/oeca/webeis.nsf/%28PDFView%29/20110035/%24file/20110035.PDF"
       ]
      },
      {
       "output_type": "stream",
       "stream": "stdout",
       "text": [
        "\n",
        "Getting #712: http://yosemite.epa.gov/oeca/webeis.nsf/%28PDFView%29/20110028/%24file/20110028.PDF"
       ]
      },
      {
       "output_type": "stream",
       "stream": "stdout",
       "text": [
        "\n",
        "Getting #713: http://yosemite.epa.gov/oeca/webeis.nsf/%28PDFView%29/20110030/%24file/20110030.PDF\n",
        "Getting #714: http://yosemite.epa.gov/oeca/webeis.nsf/%28PDFView%29/20110026/%24file/20110026.PDF"
       ]
      },
      {
       "output_type": "stream",
       "stream": "stdout",
       "text": [
        "\n",
        "Getting #715: http://yosemite.epa.gov/oeca/webeis.nsf/%28PDFView%29/20110020/%24file/20110020.PDF"
       ]
      },
      {
       "output_type": "stream",
       "stream": "stdout",
       "text": [
        "\n",
        "Getting #716: http://yosemite.epa.gov/oeca/webeis.nsf/%28PDFView%29/20110024/%24file/20110024.PDF"
       ]
      },
      {
       "output_type": "stream",
       "stream": "stdout",
       "text": [
        "\n",
        "Getting #717: http://yosemite.epa.gov/oeca/webeis.nsf/%28PDFView%29/20110022/%24file/20110022.PDF\n",
        "Getting #718: http://yosemite.epa.gov/oeca/webeis.nsf/%28PDFView%29/20110014/%24file/20110014.PDF"
       ]
      },
      {
       "output_type": "stream",
       "stream": "stdout",
       "text": [
        "\n",
        "Getting #719: http://yosemite.epa.gov/oeca/webeis.nsf/%28PDFView%29/20110015/%24file/20110015.PDF"
       ]
      },
      {
       "output_type": "stream",
       "stream": "stdout",
       "text": [
        "\n",
        "Getting #720: http://yosemite.epa.gov/oeca/webeis.nsf/%28PDFView%29/20110000/%24file/20110000.PDF"
       ]
      },
      {
       "output_type": "stream",
       "stream": "stdout",
       "text": [
        "\n",
        "Getting #721: http://yosemite.epa.gov/oeca/webeis.nsf/%28PDFView%29/20110010/%24file/20110010.PDF"
       ]
      },
      {
       "output_type": "stream",
       "stream": "stdout",
       "text": [
        "\n",
        "Getting #722: http://yosemite.epa.gov/oeca/webeis.nsf/%28PDFView%29/20100482/%24file/20100482.PDF"
       ]
      },
      {
       "output_type": "stream",
       "stream": "stdout",
       "text": [
        "\n",
        "Getting #723: http://yosemite.epa.gov/oeca/webeis.nsf/%28PDFView%29/20100479/%24file/20100479.PDF"
       ]
      },
      {
       "output_type": "stream",
       "stream": "stdout",
       "text": [
        "\n",
        "Getting #724: http://yosemite.epa.gov/oeca/webeis.nsf/%28PDFView%29/20100472/%24file/20100472.PDF"
       ]
      },
      {
       "output_type": "stream",
       "stream": "stdout",
       "text": [
        "\n",
        "Getting #725: http://yosemite.epa.gov/oeca/webeis.nsf/%28PDFView%29/20100480/%24file/20100480.PDF"
       ]
      },
      {
       "output_type": "stream",
       "stream": "stdout",
       "text": [
        "\n",
        "Getting #726: http://yosemite.epa.gov/oeca/webeis.nsf/%28PDFView%29/20100477/%24file/20100477.PDF"
       ]
      },
      {
       "output_type": "stream",
       "stream": "stdout",
       "text": [
        "\n",
        "Getting #727: http://yosemite.epa.gov/oeca/webeis.nsf/%28PDFView%29/20100466/%24file/20100466.PDF"
       ]
      },
      {
       "output_type": "stream",
       "stream": "stdout",
       "text": [
        "\n",
        "Getting #728: http://yosemite.epa.gov/oeca/webeis.nsf/%28PDFView%29/20100462/%24file/20100462.PDF"
       ]
      },
      {
       "output_type": "stream",
       "stream": "stdout",
       "text": [
        "\n",
        "Getting #729: http://yosemite.epa.gov/oeca/webeis.nsf/%28PDFView%29/20100453/%24file/20100453.PDF\n",
        "Getting #730: http://yosemite.epa.gov/oeca/webeis.nsf/%28PDFView%29/20100454/%24file/20100454.PDF"
       ]
      },
      {
       "output_type": "stream",
       "stream": "stdout",
       "text": [
        "\n",
        "Getting #731: http://yosemite.epa.gov/oeca/webeis.nsf/%28PDFView%29/20100449/%24file/20100449.PDF"
       ]
      },
      {
       "output_type": "stream",
       "stream": "stdout",
       "text": [
        "\n",
        "Getting #732: http://yosemite.epa.gov/oeca/webeis.nsf/%28PDFView%29/20100450/%24file/20100450.PDF"
       ]
      },
      {
       "output_type": "stream",
       "stream": "stdout",
       "text": [
        "\n",
        "Getting #733: http://yosemite.epa.gov/oeca/webeis.nsf/%28PDFView%29/20100451/%24file/20100451.PDF"
       ]
      },
      {
       "output_type": "stream",
       "stream": "stdout",
       "text": [
        "\n",
        "Getting #734: http://yosemite.epa.gov/oeca/webeis.nsf/%28PDFView%29/20100448/%24file/20100448.PDF"
       ]
      },
      {
       "output_type": "stream",
       "stream": "stdout",
       "text": [
        "\n",
        "Getting #735: http://yosemite.epa.gov/oeca/webeis.nsf/%28PDFView%29/20100440/%24file/20100440.PDF"
       ]
      },
      {
       "output_type": "stream",
       "stream": "stdout",
       "text": [
        "\n",
        "Getting #736: http://yosemite.epa.gov/oeca/webeis.nsf/%28PDFView%29/20100439/%24file/20100439.PDF"
       ]
      },
      {
       "output_type": "stream",
       "stream": "stdout",
       "text": [
        "\n",
        "Getting #737: http://yosemite.epa.gov/oeca/webeis.nsf/%28PDFView%29/20100431/%24file/20100431.PDF"
       ]
      },
      {
       "output_type": "stream",
       "stream": "stdout",
       "text": [
        "\n",
        "Getting #738: http://yosemite.epa.gov/oeca/webeis.nsf/%28PDFView%29/20100433/%24file/20100433.PDF\n",
        "Getting #739: http://yosemite.epa.gov/oeca/webeis.nsf/%28PDFView%29/20100425/%24file/20100425.PDF"
       ]
      },
      {
       "output_type": "stream",
       "stream": "stdout",
       "text": [
        "\n",
        "Getting #740: http://yosemite.epa.gov/oeca/webeis.nsf/%28PDFView%29/20100421/%24file/20100421.PDF"
       ]
      },
      {
       "output_type": "stream",
       "stream": "stdout",
       "text": [
        "\n",
        "Getting #741: http://yosemite.epa.gov/oeca/webeis.nsf/%28PDFView%29/20100414/%24file/20100414.PDF"
       ]
      },
      {
       "output_type": "stream",
       "stream": "stdout",
       "text": [
        "\n",
        "Getting #742: http://yosemite.epa.gov/oeca/webeis.nsf/%28PDFView%29/20100420/%24file/20100420.PDF"
       ]
      },
      {
       "output_type": "stream",
       "stream": "stdout",
       "text": [
        "\n",
        "Getting #743: http://yosemite.epa.gov/oeca/webeis.nsf/%28PDFView%29/20100412/%24file/20100412.PDF"
       ]
      },
      {
       "output_type": "stream",
       "stream": "stdout",
       "text": [
        "\n",
        "Getting #744: http://yosemite.epa.gov/oeca/webeis.nsf/%28PDFView%29/20100411/%24file/20100411.PDF"
       ]
      },
      {
       "output_type": "stream",
       "stream": "stdout",
       "text": [
        "\n",
        "Getting #745: http://yosemite.epa.gov/oeca/webeis.nsf/%28PDFView%29/20100410/%24file/20100410.PDF"
       ]
      },
      {
       "output_type": "stream",
       "stream": "stdout",
       "text": [
        "\n",
        "Getting #746: http://yosemite.epa.gov/oeca/webeis.nsf/%28PDFView%29/20100417/%24file/20100417.PDF"
       ]
      },
      {
       "output_type": "stream",
       "stream": "stdout",
       "text": [
        "\n",
        "Getting #747: http://yosemite.epa.gov/oeca/webeis.nsf/%28PDFView%29/20100418/%24file/20100418.PDF\n",
        "Getting #748: http://yosemite.epa.gov/oeca/webeis.nsf/%28PDFView%29/20100416/%24file/20100416.PDF"
       ]
      },
      {
       "output_type": "stream",
       "stream": "stdout",
       "text": [
        "\n",
        "Getting #749: http://yosemite.epa.gov/oeca/webeis.nsf/%28PDFView%29/20100405/%24file/20100405.PDF\n",
        "Getting #750: http://yosemite.epa.gov/oeca/webeis.nsf/%28PDFView%29/20100404/%24file/20100404.PDF"
       ]
      },
      {
       "output_type": "stream",
       "stream": "stdout",
       "text": [
        "\n",
        "Getting #751: http://yosemite.epa.gov/oeca/webeis.nsf/%28PDFView%29/20100396/%24file/20100396.PDF"
       ]
      },
      {
       "output_type": "stream",
       "stream": "stdout",
       "text": [
        "\n",
        "Getting #752: http://yosemite.epa.gov/oeca/webeis.nsf/%28PDFView%29/20100391/%24file/20100391.PDF"
       ]
      },
      {
       "output_type": "stream",
       "stream": "stdout",
       "text": [
        "\n",
        "Getting #753: http://yosemite.epa.gov/oeca/webeis.nsf/%28PDFView%29/20100398/%24file/20100398.PDF\n",
        "Getting #754: http://yosemite.epa.gov/oeca/webeis.nsf/%28PDFView%29/20100387/%24file/20100387.PDF"
       ]
      },
      {
       "output_type": "stream",
       "stream": "stdout",
       "text": [
        "\n",
        "Getting #755: http://yosemite.epa.gov/oeca/webeis.nsf/%28PDFView%29/20100381/%24file/20100381.PDF\n",
        "Getting #756: http://yosemite.epa.gov/oeca/webeis.nsf/%28PDFView%29/20100384/%24file/20100384.PDF"
       ]
      },
      {
       "output_type": "stream",
       "stream": "stdout",
       "text": [
        "\n",
        "Getting #757: http://yosemite.epa.gov/oeca/webeis.nsf/%28PDFView%29/20100376/%24file/20100376.PDF"
       ]
      },
      {
       "output_type": "stream",
       "stream": "stdout",
       "text": [
        "\n",
        "Getting #758: http://yosemite.epa.gov/oeca/webeis.nsf/%28PDFView%29/20100378/%24file/20100378.PDF"
       ]
      },
      {
       "output_type": "stream",
       "stream": "stdout",
       "text": [
        "\n",
        "Getting #759: http://yosemite.epa.gov/oeca/webeis.nsf/%28PDFView%29/20100377/%24file/20100377.PDF"
       ]
      },
      {
       "output_type": "stream",
       "stream": "stdout",
       "text": [
        "\n",
        "Getting #760: http://yosemite.epa.gov/oeca/webeis.nsf/%28PDFView%29/20100374/%24file/20100374.PDF"
       ]
      },
      {
       "output_type": "stream",
       "stream": "stdout",
       "text": [
        "\n",
        "Getting #761: http://yosemite.epa.gov/oeca/webeis.nsf/%28PDFView%29/20100371/%24file/20100371.PDF"
       ]
      },
      {
       "output_type": "stream",
       "stream": "stdout",
       "text": [
        "\n",
        "Getting #762: http://yosemite.epa.gov/oeca/webeis.nsf/%28PDFView%29/20100367/%24file/20100367.PDF"
       ]
      },
      {
       "output_type": "stream",
       "stream": "stdout",
       "text": [
        "\n",
        "Getting #763: http://yosemite.epa.gov/oeca/webeis.nsf/%28PDFView%29/20100368/%24file/20100368.PDF"
       ]
      },
      {
       "output_type": "stream",
       "stream": "stdout",
       "text": [
        "\n",
        "Getting #764: http://yosemite.epa.gov/oeca/webeis.nsf/%28PDFView%29/20100361/%24file/20100361.PDF"
       ]
      },
      {
       "output_type": "stream",
       "stream": "stdout",
       "text": [
        "\n",
        "Getting #765: http://yosemite.epa.gov/oeca/webeis.nsf/%28PDFView%29/20100362/%24file/20100362.PDF"
       ]
      },
      {
       "output_type": "stream",
       "stream": "stdout",
       "text": [
        "\n",
        "Getting #766: http://yosemite.epa.gov/oeca/webeis.nsf/%28PDFView%29/20100360/%24file/20100360.PDF"
       ]
      },
      {
       "output_type": "stream",
       "stream": "stdout",
       "text": [
        "\n",
        "Getting #767: http://yosemite.epa.gov/oeca/webeis.nsf/%28PDFView%29/20100366/%24file/20100366.PDF\n",
        "Getting #768: http://yosemite.epa.gov/oeca/webeis.nsf/%28PDFView%29/20100364/%24file/20100364.PDF"
       ]
      },
      {
       "output_type": "stream",
       "stream": "stdout",
       "text": [
        "\n",
        "Getting #769: http://yosemite.epa.gov/oeca/webeis.nsf/%28PDFView%29/20100356/%24file/20100356.PDF\n",
        "Getting #770: http://yosemite.epa.gov/oeca/webeis.nsf/%28PDFView%29/20100358/%24file/20100358.PDF"
       ]
      },
      {
       "output_type": "stream",
       "stream": "stdout",
       "text": [
        "\n",
        "Getting #771: http://yosemite.epa.gov/oeca/webeis.nsf/%28PDFView%29/20100357/%24file/20100357.PDF"
       ]
      },
      {
       "output_type": "stream",
       "stream": "stdout",
       "text": [
        "\n",
        "Getting #772: http://yosemite.epa.gov/oeca/webeis.nsf/%28PDFView%29/20100322/%24file/20100322.PDF"
       ]
      },
      {
       "output_type": "stream",
       "stream": "stdout",
       "text": [
        "\n",
        "Getting #773: http://yosemite.epa.gov/oeca/webeis.nsf/%28PDFView%29/20100313/%24file/20100313.PDF\n",
        "Getting #774: http://yosemite.epa.gov/oeca/webeis.nsf/%28PDFView%29/20100308/%24file/20100308.PDF"
       ]
      },
      {
       "output_type": "stream",
       "stream": "stdout",
       "text": [
        "\n",
        "Getting #775: http://yosemite.epa.gov/oeca/webeis.nsf/%28PDFView%29/20100304/%24file/20100304.PDF"
       ]
      },
      {
       "output_type": "stream",
       "stream": "stdout",
       "text": [
        "\n",
        "Getting #776: http://yosemite.epa.gov/oeca/webeis.nsf/%28PDFView%29/20100315/%24file/20100315.PDF"
       ]
      },
      {
       "output_type": "stream",
       "stream": "stdout",
       "text": [
        "\n",
        "Getting #777: http://yosemite.epa.gov/oeca/webeis.nsf/%28PDFView%29/20100289/%24file/20100289.PDF"
       ]
      },
      {
       "output_type": "stream",
       "stream": "stdout",
       "text": [
        "\n",
        "Getting #778: http://yosemite.epa.gov/oeca/webeis.nsf/%28PDFView%29/20100283/%24file/20100283.PDF\n",
        "Getting #779: http://yosemite.epa.gov/oeca/webeis.nsf/%28PDFView%29/20100291/%24file/20100291.PDF"
       ]
      },
      {
       "output_type": "stream",
       "stream": "stdout",
       "text": [
        "\n",
        "Getting #780: http://yosemite.epa.gov/oeca/webeis.nsf/%28PDFView%29/20100284/%24file/20100284.PDF\n",
        "Getting #781: http://yosemite.epa.gov/oeca/webeis.nsf/%28PDFView%29/20100298/%24file/20100298.PDF"
       ]
      },
      {
       "output_type": "stream",
       "stream": "stdout",
       "text": [
        "\n",
        "Getting #782: http://yosemite.epa.gov/oeca/webeis.nsf/%28PDFView%29/20100294/%24file/20100294.PDF"
       ]
      },
      {
       "output_type": "stream",
       "stream": "stdout",
       "text": [
        "\n",
        "Getting #783: http://yosemite.epa.gov/oeca/webeis.nsf/%28PDFView%29/20100293/%24file/20100293.PDF"
       ]
      },
      {
       "output_type": "stream",
       "stream": "stdout",
       "text": [
        "\n",
        "Getting #784: http://yosemite.epa.gov/oeca/webeis.nsf/%28PDFView%29/20100285/%24file/20100285.PDF"
       ]
      },
      {
       "output_type": "stream",
       "stream": "stdout",
       "text": [
        "\n",
        "Getting #785: http://yosemite.epa.gov/oeca/webeis.nsf/%28PDFView%29/20100279/%24file/20100279.PDF"
       ]
      },
      {
       "output_type": "stream",
       "stream": "stdout",
       "text": [
        "\n",
        "Getting #786: http://yosemite.epa.gov/oeca/webeis.nsf/%28PDFView%29/20100282/%24file/20100282.PDF"
       ]
      },
      {
       "output_type": "stream",
       "stream": "stdout",
       "text": [
        "\n",
        "Getting #787: http://yosemite.epa.gov/oeca/webeis.nsf/%28PDFView%29/20100271/%24file/20100271.PDF"
       ]
      },
      {
       "output_type": "stream",
       "stream": "stdout",
       "text": [
        "\n",
        "Getting #788: http://yosemite.epa.gov/oeca/webeis.nsf/%28PDFView%29/20100262/%24file/20100262.PDF"
       ]
      },
      {
       "output_type": "stream",
       "stream": "stdout",
       "text": [
        "\n",
        "Getting #789: http://yosemite.epa.gov/oeca/webeis.nsf/%28PDFView%29/20100270/%24file/20100270.PDF"
       ]
      },
      {
       "output_type": "stream",
       "stream": "stdout",
       "text": [
        "\n",
        "Getting #790: http://yosemite.epa.gov/oeca/webeis.nsf/%28PDFView%29/20100269/%24file/20100269.PDF"
       ]
      },
      {
       "output_type": "stream",
       "stream": "stdout",
       "text": [
        "\n",
        "Getting #791: http://yosemite.epa.gov/oeca/webeis.nsf/%28PDFView%29/20100269/%24file/20100269.PDF"
       ]
      },
      {
       "output_type": "stream",
       "stream": "stdout",
       "text": [
        "\n",
        "Getting #792: http://yosemite.epa.gov/oeca/webeis.nsf/%28PDFView%29/20100266/%24file/20100266.PDF\n",
        "Getting #793: http://yosemite.epa.gov/oeca/webeis.nsf/%28PDFView%29/20100264/%24file/20100264.PDF"
       ]
      },
      {
       "output_type": "stream",
       "stream": "stdout",
       "text": [
        "\n",
        "Getting #794: http://yosemite.epa.gov/oeca/webeis.nsf/%28PDFView%29/20100254/%24file/20100254.PDF"
       ]
      },
      {
       "output_type": "stream",
       "stream": "stdout",
       "text": [
        "\n",
        "Getting #795: http://yosemite.epa.gov/oeca/webeis.nsf/%28PDFView%29/20100261/%24file/20100261.PDF"
       ]
      },
      {
       "output_type": "stream",
       "stream": "stdout",
       "text": [
        "\n",
        "Getting #796: http://yosemite.epa.gov/oeca/webeis.nsf/%28PDFView%29/20100247/%24file/20100247.PDF"
       ]
      },
      {
       "output_type": "stream",
       "stream": "stdout",
       "text": [
        "\n",
        "Getting #797: http://yosemite.epa.gov/oeca/webeis.nsf/%28PDFView%29/20100244/%24file/20100244.PDF"
       ]
      },
      {
       "output_type": "stream",
       "stream": "stdout",
       "text": [
        "\n",
        "Getting #798: http://yosemite.epa.gov/oeca/webeis.nsf/%28PDFView%29/20100248/%24file/20100248.PDF"
       ]
      },
      {
       "output_type": "stream",
       "stream": "stdout",
       "text": [
        "\n",
        "Getting #799: http://yosemite.epa.gov/oeca/webeis.nsf/%28PDFView%29/20100250/%24file/20100250.PDF"
       ]
      },
      {
       "output_type": "stream",
       "stream": "stdout",
       "text": [
        "\n",
        "Getting #800: http://yosemite.epa.gov/oeca/webeis.nsf/%28PDFView%29/20100245/%24file/20100245.PDF"
       ]
      },
      {
       "output_type": "stream",
       "stream": "stdout",
       "text": [
        "\n",
        "Getting #801: http://yosemite.epa.gov/oeca/webeis.nsf/%28PDFView%29/20100240/%24file/20100240.PDF"
       ]
      },
      {
       "output_type": "stream",
       "stream": "stdout",
       "text": [
        "\n",
        "Getting #802: http://yosemite.epa.gov/oeca/webeis.nsf/%28PDFView%29/20100234/%24file/20100234.PDF"
       ]
      },
      {
       "output_type": "stream",
       "stream": "stdout",
       "text": [
        "\n",
        "Getting #803: http://yosemite.epa.gov/oeca/webeis.nsf/%28PDFView%29/20100233/%24file/20100233.PDF"
       ]
      },
      {
       "output_type": "stream",
       "stream": "stdout",
       "text": [
        "\n",
        "Getting #804: http://yosemite.epa.gov/oeca/webeis.nsf/%28PDFView%29/20100226/%24file/20100226.PDF"
       ]
      },
      {
       "output_type": "stream",
       "stream": "stdout",
       "text": [
        "\n",
        "Getting #805: http://yosemite.epa.gov/oeca/webeis.nsf/%28PDFView%29/20100217/%24file/20100217.PDF"
       ]
      },
      {
       "output_type": "stream",
       "stream": "stdout",
       "text": [
        "\n",
        "Getting #806: http://yosemite.epa.gov/oeca/webeis.nsf/%28PDFView%29/20100222/%24file/20100222.PDF"
       ]
      },
      {
       "output_type": "stream",
       "stream": "stdout",
       "text": [
        "\n",
        "Getting #807: http://yosemite.epa.gov/oeca/webeis.nsf/%28PDFView%29/20100219/%24file/20100219.PDF"
       ]
      },
      {
       "output_type": "stream",
       "stream": "stdout",
       "text": [
        "\n",
        "Getting #808: http://yosemite.epa.gov/oeca/webeis.nsf/%28PDFView%29/20100216/%24file/20100216.PDF"
       ]
      },
      {
       "output_type": "stream",
       "stream": "stdout",
       "text": [
        "\n",
        "Getting #809: http://yosemite.epa.gov/oeca/webeis.nsf/%28PDFView%29/20100215/%24file/20100215.PDF\n",
        "Getting #810: http://yosemite.epa.gov/oeca/webeis.nsf/%28PDFView%29/20100205/%24file/20100205.PDF"
       ]
      },
      {
       "output_type": "stream",
       "stream": "stdout",
       "text": [
        "\n",
        "Getting #811: http://yosemite.epa.gov/oeca/webeis.nsf/%28PDFView%29/20100207/%24file/20100207.PDF"
       ]
      },
      {
       "output_type": "stream",
       "stream": "stdout",
       "text": [
        "\n",
        "Getting #812: http://yosemite.epa.gov/oeca/webeis.nsf/%28PDFView%29/20100203/%24file/20100203.PDF"
       ]
      },
      {
       "output_type": "stream",
       "stream": "stdout",
       "text": [
        "\n",
        "Getting #813: http://yosemite.epa.gov/oeca/webeis.nsf/%28PDFView%29/20100202/%24file/20100202.PDF\n",
        "Getting #814: http://yosemite.epa.gov/oeca/webeis.nsf/%28PDFView%29/20100204/%24file/20100204.PDF"
       ]
      },
      {
       "output_type": "stream",
       "stream": "stdout",
       "text": [
        "\n",
        "Getting #815: http://yosemite.epa.gov/oeca/webeis.nsf/%28PDFView%29/20100185/%24file/20100185.PDF"
       ]
      },
      {
       "output_type": "stream",
       "stream": "stdout",
       "text": [
        "\n",
        "Getting #816: http://yosemite.epa.gov/oeca/webeis.nsf/%28PDFView%29/20100190/%24file/20100190.PDF"
       ]
      },
      {
       "output_type": "stream",
       "stream": "stdout",
       "text": [
        "\n",
        "Getting #817: http://yosemite.epa.gov/oeca/webeis.nsf/%28PDFView%29/20100194/%24file/20100194.PDF"
       ]
      },
      {
       "output_type": "stream",
       "stream": "stdout",
       "text": [
        "\n",
        "Getting #818: http://yosemite.epa.gov/oeca/webeis.nsf/%28PDFView%29/20100197/%24file/20100197.PDF\n",
        "Getting #819: http://yosemite.epa.gov/oeca/webeis.nsf/%28PDFView%29/20100199/%24file/20100199.PDF"
       ]
      },
      {
       "output_type": "stream",
       "stream": "stdout",
       "text": [
        "\n",
        "Getting #820: http://yosemite.epa.gov/oeca/webeis.nsf/%28PDFView%29/20100200/%24file/20100200.PDF\n",
        "Getting #821: http://yosemite.epa.gov/oeca/webeis.nsf/%28PDFView%29/20100180/%24file/20100180.PDF"
       ]
      },
      {
       "output_type": "stream",
       "stream": "stdout",
       "text": [
        "\n",
        "Getting #822: http://yosemite.epa.gov/oeca/webeis.nsf/%28PDFView%29/20100178/%24file/20100178.PDF"
       ]
      },
      {
       "output_type": "stream",
       "stream": "stdout",
       "text": [
        "\n",
        "Getting #823: http://yosemite.epa.gov/oeca/webeis.nsf/%28PDFView%29/20100183/%24file/20100183.PDF"
       ]
      },
      {
       "output_type": "stream",
       "stream": "stdout",
       "text": [
        "\n",
        "Getting #824: http://yosemite.epa.gov/oeca/webeis.nsf/%28PDFView%29/20100182/%24file/20100182.PDF"
       ]
      },
      {
       "output_type": "stream",
       "stream": "stdout",
       "text": [
        "\n",
        "Getting #825: http://yosemite.epa.gov/oeca/webeis.nsf/%28PDFView%29/20100177/%24file/20100177.PDF"
       ]
      },
      {
       "output_type": "stream",
       "stream": "stdout",
       "text": [
        "\n",
        "Getting #826: http://yosemite.epa.gov/oeca/webeis.nsf/%28PDFView%29/20100174/%24file/20100174.PDF"
       ]
      },
      {
       "output_type": "stream",
       "stream": "stdout",
       "text": [
        "\n",
        "Getting #827: http://yosemite.epa.gov/oeca/webeis.nsf/%28PDFView%29/20100175/%24file/20100175.PDF\n",
        "Getting #828: http://yosemite.epa.gov/oeca/webeis.nsf/%28PDFView%29/20100176/%24file/20100176.PDF"
       ]
      },
      {
       "output_type": "stream",
       "stream": "stdout",
       "text": [
        "\n",
        "Getting #829: http://yosemite.epa.gov/oeca/webeis.nsf/%28PDFView%29/20100172/%24file/20100172.PDF\n",
        "Getting #830: http://yosemite.epa.gov/oeca/webeis.nsf/%28PDFView%29/20100157/%24file/20100157.PDF"
       ]
      },
      {
       "output_type": "stream",
       "stream": "stdout",
       "text": [
        "\n",
        "Getting #831: http://yosemite.epa.gov/oeca/webeis.nsf/%28PDFView%29/20100165/%24file/20100165.PDF"
       ]
      },
      {
       "output_type": "stream",
       "stream": "stdout",
       "text": [
        "\n",
        "Getting #832: http://yosemite.epa.gov/oeca/webeis.nsf/%28PDFView%29/20100158/%24file/20100158.PDF\n",
        "Getting #833: http://yosemite.epa.gov/oeca/webeis.nsf/%28PDFView%29/20100162/%24file/20100162.PDF"
       ]
      },
      {
       "output_type": "stream",
       "stream": "stdout",
       "text": [
        "\n",
        "Getting #834: http://yosemite.epa.gov/oeca/webeis.nsf/%28PDFView%29/20100155/%24file/20100155.PDF\n",
        "Getting #835: http://yosemite.epa.gov/oeca/webeis.nsf/%28PDFView%29/20100152/%24file/20100152.PDF"
       ]
      },
      {
       "output_type": "stream",
       "stream": "stdout",
       "text": [
        "\n",
        "Getting #836: http://yosemite.epa.gov/oeca/webeis.nsf/%28PDFView%29/20100150/%24file/20100150.PDF"
       ]
      },
      {
       "output_type": "stream",
       "stream": "stdout",
       "text": [
        "\n",
        "Getting #837: http://yosemite.epa.gov/oeca/webeis.nsf/%28PDFView%29/20100151/%24file/20100151.PDF"
       ]
      },
      {
       "output_type": "stream",
       "stream": "stdout",
       "text": [
        "\n",
        "Getting #838: http://yosemite.epa.gov/oeca/webeis.nsf/%28PDFView%29/20100148/%24file/20100148.PDF"
       ]
      },
      {
       "output_type": "stream",
       "stream": "stdout",
       "text": [
        "\n",
        "Getting #839: http://yosemite.epa.gov/oeca/webeis.nsf/%28PDFView%29/20100136/%24file/20100136.PDF\n",
        "Getting #840: http://yosemite.epa.gov/oeca/webeis.nsf/%28PDFView%29/20100139/%24file/20100139.PDF"
       ]
      },
      {
       "output_type": "stream",
       "stream": "stdout",
       "text": [
        "\n",
        "Getting #841: http://yosemite.epa.gov/oeca/webeis.nsf/%28PDFView%29/20100137/%24file/20100137.PDF"
       ]
      },
      {
       "output_type": "stream",
       "stream": "stdout",
       "text": [
        "\n",
        "Getting #842: http://yosemite.epa.gov/oeca/webeis.nsf/%28PDFView%29/20100142/%24file/20100142.PDF"
       ]
      },
      {
       "output_type": "stream",
       "stream": "stdout",
       "text": [
        "\n",
        "Getting #843: http://yosemite.epa.gov/oeca/webeis.nsf/%28PDFView%29/20100122/%24file/20100122.PDF"
       ]
      },
      {
       "output_type": "stream",
       "stream": "stdout",
       "text": [
        "\n",
        "Getting #844: http://yosemite.epa.gov/oeca/webeis.nsf/%28PDFView%29/20100118/%24file/20100118.PDF\n",
        "Getting #845: http://yosemite.epa.gov/oeca/webeis.nsf/%28PDFView%29/20100114/%24file/20100114.PDF"
       ]
      },
      {
       "output_type": "stream",
       "stream": "stdout",
       "text": [
        "\n",
        "Getting #846: http://yosemite.epa.gov/oeca/webeis.nsf/%28PDFView%29/20100117/%24file/20100117.PDF"
       ]
      },
      {
       "output_type": "stream",
       "stream": "stdout",
       "text": [
        "\n",
        "Getting #847: http://yosemite.epa.gov/oeca/webeis.nsf/%28PDFView%29/20100112/%24file/20100112.PDF"
       ]
      },
      {
       "output_type": "stream",
       "stream": "stdout",
       "text": [
        "\n",
        "Getting #848: http://yosemite.epa.gov/oeca/webeis.nsf/%28PDFView%29/20100104/%24file/20100104.PDF\n",
        "Getting #849: http://yosemite.epa.gov/oeca/webeis.nsf/%28PDFView%29/20100092/%24file/20100092.PDF"
       ]
      },
      {
       "output_type": "stream",
       "stream": "stdout",
       "text": [
        "\n",
        "Getting #850: http://yosemite.epa.gov/oeca/webeis.nsf/%28PDFView%29/20100090/%24file/20100090.PDF"
       ]
      },
      {
       "output_type": "stream",
       "stream": "stdout",
       "text": [
        "\n",
        "Getting #851: http://yosemite.epa.gov/oeca/webeis.nsf/%28PDFView%29/20100088/%24file/20100088.PDF"
       ]
      },
      {
       "output_type": "stream",
       "stream": "stdout",
       "text": [
        "\n",
        "Getting #852: http://yosemite.epa.gov/oeca/webeis.nsf/%28PDFView%29/20100091/%24file/20100091.PDF"
       ]
      },
      {
       "output_type": "stream",
       "stream": "stdout",
       "text": [
        "\n",
        "Getting #853: http://yosemite.epa.gov/oeca/webeis.nsf/%28PDFView%29/20100087/%24file/20100087.PDF\n",
        "Getting #854: http://yosemite.epa.gov/oeca/webeis.nsf/%28PDFView%29/20100078/%24file/20100078.PDF"
       ]
      },
      {
       "output_type": "stream",
       "stream": "stdout",
       "text": [
        "\n",
        "Getting #855: http://yosemite.epa.gov/oeca/webeis.nsf/%28PDFView%29/20100084/%24file/20100084.PDF"
       ]
      },
      {
       "output_type": "stream",
       "stream": "stdout",
       "text": [
        "\n",
        "Getting #856: http://yosemite.epa.gov/oeca/webeis.nsf/%28PDFView%29/20100082/%24file/20100082.PDF"
       ]
      },
      {
       "output_type": "stream",
       "stream": "stdout",
       "text": [
        "\n",
        "Getting #857: http://yosemite.epa.gov/oeca/webeis.nsf/%28PDFView%29/20100080/%24file/20100080.PDF\n",
        "Getting #858: http://yosemite.epa.gov/oeca/webeis.nsf/%28PDFView%29/20100081/%24file/20100081.PDF"
       ]
      },
      {
       "output_type": "stream",
       "stream": "stdout",
       "text": [
        "\n",
        "Getting #859: http://yosemite.epa.gov/oeca/webeis.nsf/%28PDFView%29/20100077/%24file/20100077.PDF"
       ]
      },
      {
       "output_type": "stream",
       "stream": "stdout",
       "text": [
        "\n",
        "Getting #860: http://yosemite.epa.gov/oeca/webeis.nsf/%28PDFView%29/20100063/%24file/20100063.PDF\n",
        "Getting #861: http://yosemite.epa.gov/oeca/webeis.nsf/%28PDFView%29/20100070/%24file/20100070.PDF"
       ]
      },
      {
       "output_type": "stream",
       "stream": "stdout",
       "text": [
        "\n",
        "Getting #862: http://yosemite.epa.gov/oeca/webeis.nsf/%28PDFView%29/20100064/%24file/20100064.PDF\n",
        "Getting #863: http://yosemite.epa.gov/oeca/webeis.nsf/%28PDFView%29/20100065/%24file/20100065.PDF"
       ]
      },
      {
       "output_type": "stream",
       "stream": "stdout",
       "text": [
        "\n",
        "Getting #864: http://yosemite.epa.gov/oeca/webeis.nsf/%28PDFView%29/20100062/%24file/20100062.PDF\n",
        "Getting #865: http://yosemite.epa.gov/oeca/webeis.nsf/%28PDFView%29/20100059/%24file/20100059.PDF"
       ]
      },
      {
       "output_type": "stream",
       "stream": "stdout",
       "text": [
        "\n",
        "Getting #866: http://yosemite.epa.gov/oeca/webeis.nsf/%28PDFView%29/20100051/%24file/20100051.PDF"
       ]
      },
      {
       "output_type": "stream",
       "stream": "stdout",
       "text": [
        "\n",
        "Getting #867: http://yosemite.epa.gov/oeca/webeis.nsf/%28PDFView%29/20100052/%24file/20100052.PDF"
       ]
      },
      {
       "output_type": "stream",
       "stream": "stdout",
       "text": [
        "\n",
        "Getting #868: http://yosemite.epa.gov/oeca/webeis.nsf/%28PDFView%29/20100056/%24file/20100056.PDF\n",
        "Getting #869: http://yosemite.epa.gov/oeca/webeis.nsf/%28PDFView%29/20100047/%24file/20100047.PDF"
       ]
      },
      {
       "output_type": "stream",
       "stream": "stdout",
       "text": [
        "\n",
        "Getting #870: http://yosemite.epa.gov/oeca/webeis.nsf/%28PDFView%29/20100042/%24file/20100042.PDF"
       ]
      },
      {
       "output_type": "stream",
       "stream": "stdout",
       "text": [
        "\n",
        "Getting #871: http://yosemite.epa.gov/oeca/webeis.nsf/%28PDFView%29/20100035/%24file/20100035.PDF"
       ]
      },
      {
       "output_type": "stream",
       "stream": "stdout",
       "text": [
        "\n",
        "Getting #872: http://yosemite.epa.gov/oeca/webeis.nsf/%28PDFView%29/20100044/%24file/20100044.PDF"
       ]
      },
      {
       "output_type": "stream",
       "stream": "stdout",
       "text": [
        "\n",
        "Getting #873: http://yosemite.epa.gov/oeca/webeis.nsf/%28PDFView%29/20100037/%24file/20100037.PDF"
       ]
      },
      {
       "output_type": "stream",
       "stream": "stdout",
       "text": [
        "\n",
        "Getting #874: http://yosemite.epa.gov/oeca/webeis.nsf/%28PDFView%29/20100034/%24file/20100034.PDF"
       ]
      },
      {
       "output_type": "stream",
       "stream": "stdout",
       "text": [
        "\n",
        "Getting #875: http://yosemite.epa.gov/oeca/webeis.nsf/%28PDFView%29/20100027/%24file/20100027.PDF"
       ]
      },
      {
       "output_type": "stream",
       "stream": "stdout",
       "text": [
        "\n",
        "Getting #876: http://yosemite.epa.gov/oeca/webeis.nsf/%28PDFView%29/20100024/%24file/20100024.PDF"
       ]
      },
      {
       "output_type": "stream",
       "stream": "stdout",
       "text": [
        "\n",
        "Getting #877: http://yosemite.epa.gov/oeca/webeis.nsf/%28PDFView%29/20100028/%24file/20100028.PDF"
       ]
      },
      {
       "output_type": "stream",
       "stream": "stdout",
       "text": [
        "\n",
        "Getting #878: http://yosemite.epa.gov/oeca/webeis.nsf/%28PDFView%29/20100030/%24file/20100030.PDF\n",
        "Getting #879: http://yosemite.epa.gov/oeca/webeis.nsf/%28PDFView%29/20100023/%24file/20100023.PDF"
       ]
      },
      {
       "output_type": "stream",
       "stream": "stdout",
       "text": [
        "\n",
        "Getting #880: http://yosemite.epa.gov/oeca/webeis.nsf/%28PDFView%29/20100006/%24file/20100006.PDF\n",
        "Getting #881: http://yosemite.epa.gov/oeca/webeis.nsf/%28PDFView%29/20100011/%24file/20100011.PDF"
       ]
      },
      {
       "output_type": "stream",
       "stream": "stdout",
       "text": [
        "\n",
        "Getting #882: http://yosemite.epa.gov/oeca/webeis.nsf/%28PDFView%29/20100012/%24file/20100012.PDF\n",
        "Getting #883: http://yosemite.epa.gov/oeca/webeis.nsf/%28PDFView%29/20100016/%24file/20100016.PDF"
       ]
      },
      {
       "output_type": "stream",
       "stream": "stdout",
       "text": [
        "\n",
        "Getting #884: http://yosemite.epa.gov/oeca/webeis.nsf/%28PDFView%29/20100003/%24file/20100003.PDF\n",
        "Getting #885: http://yosemite.epa.gov/oeca/webeis.nsf/%28PDFView%29/20100002/%24file/20100002.PDF"
       ]
      },
      {
       "output_type": "stream",
       "stream": "stdout",
       "text": [
        "\n",
        "Getting #886: http://yosemite.epa.gov/oeca/webeis.nsf/%28PDFView%29/20090449/%24file/20090449.PDF"
       ]
      },
      {
       "output_type": "stream",
       "stream": "stdout",
       "text": [
        "\n",
        "Getting #887: http://yosemite.epa.gov/oeca/webeis.nsf/%28PDFView%29/20090442/%24file/20090442.PDF"
       ]
      },
      {
       "output_type": "stream",
       "stream": "stdout",
       "text": [
        "\n",
        "Getting #888: http://yosemite.epa.gov/oeca/webeis.nsf/%28PDFView%29/20090446/%24file/20090446.PDF"
       ]
      },
      {
       "output_type": "stream",
       "stream": "stdout",
       "text": [
        "\n",
        "Getting #889: http://yosemite.epa.gov/oeca/webeis.nsf/%28PDFView%29/20090440/%24file/20090440.PDF\n",
        "Getting #890: http://yosemite.epa.gov/oeca/webeis.nsf/%28PDFView%29/20090445/%24file/20090445.PDF"
       ]
      },
      {
       "output_type": "stream",
       "stream": "stdout",
       "text": [
        "\n",
        "Getting #891: http://yosemite.epa.gov/oeca/webeis.nsf/%28PDFView%29/20090437/%24file/20090437.PDF"
       ]
      },
      {
       "output_type": "stream",
       "stream": "stdout",
       "text": [
        "\n",
        "Getting #892: http://yosemite.epa.gov/oeca/webeis.nsf/%28PDFView%29/20090436/%24file/20090436.PDF"
       ]
      },
      {
       "output_type": "stream",
       "stream": "stdout",
       "text": [
        "\n",
        "Getting #893: http://yosemite.epa.gov/oeca/webeis.nsf/%28PDFView%29/20090430/%24file/20090430.PDF\n",
        "Getting #894: http://yosemite.epa.gov/oeca/webeis.nsf/%28PDFView%29/20090433/%24file/20090433.PDF"
       ]
      },
      {
       "output_type": "stream",
       "stream": "stdout",
       "text": [
        "\n",
        "Getting #895: http://yosemite.epa.gov/oeca/webeis.nsf/%28PDFView%29/20090418/%24file/20090418.PDF"
       ]
      },
      {
       "output_type": "stream",
       "stream": "stdout",
       "text": [
        "\n",
        "Getting #896: http://yosemite.epa.gov/oeca/webeis.nsf/%28PDFView%29/20090414/%24file/20090414.PDF"
       ]
      },
      {
       "output_type": "stream",
       "stream": "stdout",
       "text": [
        "\n",
        "Getting #897: http://yosemite.epa.gov/oeca/webeis.nsf/%28PDFView%29/20090413/%24file/20090413.PDF"
       ]
      },
      {
       "output_type": "stream",
       "stream": "stdout",
       "text": [
        "\n",
        "Getting #898: http://yosemite.epa.gov/oeca/webeis.nsf/%28PDFView%29/20090416/%24file/20090416.PDF"
       ]
      },
      {
       "output_type": "stream",
       "stream": "stdout",
       "text": [
        "\n",
        "Getting #899: http://yosemite.epa.gov/oeca/webeis.nsf/%28PDFView%29/20090424/%24file/20090424.PDF\n",
        "Getting #900: http://yosemite.epa.gov/oeca/webeis.nsf/%28PDFView%29/20090406/%24file/20090406.PDF"
       ]
      },
      {
       "output_type": "stream",
       "stream": "stdout",
       "text": [
        "\n",
        "Getting #901: http://yosemite.epa.gov/oeca/webeis.nsf/%28PDFView%29/20090412/%24file/20090412.PDF"
       ]
      },
      {
       "output_type": "stream",
       "stream": "stdout",
       "text": [
        "\n",
        "Getting #902: http://yosemite.epa.gov/oeca/webeis.nsf/%28PDFView%29/20090400/%24file/20090400.PDF\n",
        "Getting #903: http://yosemite.epa.gov/oeca/webeis.nsf/%28PDFView%29/20090405/%24file/20090405.PDF"
       ]
      },
      {
       "output_type": "stream",
       "stream": "stdout",
       "text": [
        "\n",
        "Getting #904: http://yosemite.epa.gov/oeca/webeis.nsf/%28PDFView%29/20090397/%24file/20090397.PDF\n",
        "Getting #905: http://yosemite.epa.gov/oeca/webeis.nsf/%28PDFView%29/20090396/%24file/20090396.PDF"
       ]
      },
      {
       "output_type": "stream",
       "stream": "stdout",
       "text": [
        "\n",
        "Getting #906: http://yosemite.epa.gov/oeca/webeis.nsf/%28PDFView%29/20090391/%24file/20090391.PDF"
       ]
      },
      {
       "output_type": "stream",
       "stream": "stdout",
       "text": [
        "\n",
        "Getting #907: http://yosemite.epa.gov/oeca/webeis.nsf/%28PDFView%29/20090394/%24file/20090394.PDF"
       ]
      },
      {
       "output_type": "stream",
       "stream": "stdout",
       "text": [
        "\n",
        "Getting #908: http://yosemite.epa.gov/oeca/webeis.nsf/%28PDFView%29/20090389/%24file/20090389.PDF\n",
        "Getting #909: http://yosemite.epa.gov/oeca/webeis.nsf/%28PDFView%29/20090378/%24file/20090378.PDF"
       ]
      },
      {
       "output_type": "stream",
       "stream": "stdout",
       "text": [
        "\n",
        "Getting #910: http://yosemite.epa.gov/oeca/webeis.nsf/%28PDFView%29/20090376/%24file/20090376.PDF"
       ]
      },
      {
       "output_type": "stream",
       "stream": "stdout",
       "text": [
        "\n",
        "Getting #911: http://yosemite.epa.gov/oeca/webeis.nsf/%28PDFView%29/20090375/%24file/20090375.PDF"
       ]
      },
      {
       "output_type": "stream",
       "stream": "stdout",
       "text": [
        "\n",
        "Getting #912: http://yosemite.epa.gov/oeca/webeis.nsf/%28PDFView%29/20090365/%24file/20090365.PDF"
       ]
      },
      {
       "output_type": "stream",
       "stream": "stdout",
       "text": [
        "\n",
        "Getting #913: http://yosemite.epa.gov/oeca/webeis.nsf/%28PDFView%29/20090356/%24file/20090356.PDF"
       ]
      },
      {
       "output_type": "stream",
       "stream": "stdout",
       "text": [
        "\n",
        "Getting #914: http://yosemite.epa.gov/oeca/webeis.nsf/%28PDFView%29/20090355/%24file/20090355.PDF"
       ]
      },
      {
       "output_type": "stream",
       "stream": "stdout",
       "text": [
        "\n",
        "Getting #915: http://yosemite.epa.gov/oeca/webeis.nsf/%28PDFView%29/20090353/%24file/20090353.PDF"
       ]
      },
      {
       "output_type": "stream",
       "stream": "stdout",
       "text": [
        "\n",
        "Getting #916: http://yosemite.epa.gov/oeca/webeis.nsf/%28PDFView%29/20090351/%24file/20090351.PDF"
       ]
      },
      {
       "output_type": "stream",
       "stream": "stdout",
       "text": [
        "\n",
        "Getting #917: http://yosemite.epa.gov/oeca/webeis.nsf/%28PDFView%29/20090349/%24file/20090349.PDF\n",
        "Getting #918: http://yosemite.epa.gov/oeca/webeis.nsf/%28PDFView%29/20090354/%24file/20090354.PDF"
       ]
      },
      {
       "output_type": "stream",
       "stream": "stdout",
       "text": [
        "\n",
        "Getting #919: http://yosemite.epa.gov/oeca/webeis.nsf/%28PDFView%29/20090342/%24file/20090342.PDF\n",
        "Getting #920: http://yosemite.epa.gov/oeca/webeis.nsf/%28PDFView%29/20090343/%24file/20090343.PDF"
       ]
      },
      {
       "output_type": "stream",
       "stream": "stdout",
       "text": [
        "\n",
        "Getting #921: http://yosemite.epa.gov/oeca/webeis.nsf/%28PDFView%29/20090347/%24file/20090347.PDF"
       ]
      },
      {
       "output_type": "stream",
       "stream": "stdout",
       "text": [
        "\n",
        "Getting #922: http://yosemite.epa.gov/oeca/webeis.nsf/%28PDFView%29/20090345/%24file/20090345.PDF"
       ]
      },
      {
       "output_type": "stream",
       "stream": "stdout",
       "text": [
        "\n",
        "Getting #923: http://yosemite.epa.gov/oeca/webeis.nsf/%28PDFView%29/20090344/%24file/20090344.PDF"
       ]
      },
      {
       "output_type": "stream",
       "stream": "stdout",
       "text": [
        "\n",
        "Getting #924: http://yosemite.epa.gov/oeca/webeis.nsf/%28PDFView%29/20090335/%24file/20090335.PDF"
       ]
      },
      {
       "output_type": "stream",
       "stream": "stdout",
       "text": [
        "\n",
        "Getting #925: http://yosemite.epa.gov/oeca/webeis.nsf/%28PDFView%29/20090339/%24file/20090339.PDF"
       ]
      },
      {
       "output_type": "stream",
       "stream": "stdout",
       "text": [
        "\n",
        "Getting #926: http://yosemite.epa.gov/oeca/webeis.nsf/%28PDFView%29/20090332/%24file/20090332.PDF"
       ]
      },
      {
       "output_type": "stream",
       "stream": "stdout",
       "text": [
        "\n",
        "Getting #927: http://yosemite.epa.gov/oeca/webeis.nsf/%28PDFView%29/20090331/%24file/20090331.PDF"
       ]
      },
      {
       "output_type": "stream",
       "stream": "stdout",
       "text": [
        "\n",
        "Getting #928: http://yosemite.epa.gov/oeca/webeis.nsf/%28PDFView%29/20090324/%24file/20090324.PDF"
       ]
      },
      {
       "output_type": "stream",
       "stream": "stdout",
       "text": [
        "\n",
        "Getting #929: http://yosemite.epa.gov/oeca/webeis.nsf/%28PDFView%29/20090326/%24file/20090326.PDF"
       ]
      },
      {
       "output_type": "stream",
       "stream": "stdout",
       "text": [
        "\n",
        "Getting #930: http://yosemite.epa.gov/oeca/webeis.nsf/%28PDFView%29/20090320/%24file/20090320.PDF"
       ]
      },
      {
       "output_type": "stream",
       "stream": "stdout",
       "text": [
        "\n",
        "Getting #931: http://yosemite.epa.gov/oeca/webeis.nsf/%28PDFView%29/20090313/%24file/20090313.PDF"
       ]
      },
      {
       "output_type": "stream",
       "stream": "stdout",
       "text": [
        "\n",
        "Getting #932: http://yosemite.epa.gov/oeca/webeis.nsf/%28PDFView%29/20090310/%24file/20090310.PDF"
       ]
      },
      {
       "output_type": "stream",
       "stream": "stdout",
       "text": [
        "\n",
        "Getting #933: http://yosemite.epa.gov/oeca/webeis.nsf/%28PDFView%29/20090303/%24file/20090303.PDF"
       ]
      },
      {
       "output_type": "stream",
       "stream": "stdout",
       "text": [
        "\n",
        "Getting #934: http://yosemite.epa.gov/oeca/webeis.nsf/%28PDFView%29/20090308/%24file/20090308.PDF"
       ]
      },
      {
       "output_type": "stream",
       "stream": "stdout",
       "text": [
        "\n",
        "Getting #935: http://yosemite.epa.gov/oeca/webeis.nsf/%28PDFView%29/20090296/%24file/20090296.PDF\n",
        "Getting #936: http://yosemite.epa.gov/oeca/webeis.nsf/%28PDFView%29/20090288/%24file/20090288.PDF"
       ]
      },
      {
       "output_type": "stream",
       "stream": "stdout",
       "text": [
        "\n",
        "Getting #937: http://yosemite.epa.gov/oeca/webeis.nsf/%28PDFView%29/20090287/%24file/20090287.PDF\n",
        "Getting #938: http://yosemite.epa.gov/oeca/webeis.nsf/%28PDFView%29/20090291/%24file/20090291.PDF"
       ]
      },
      {
       "output_type": "stream",
       "stream": "stdout",
       "text": [
        "\n",
        "Getting #939: http://yosemite.epa.gov/oeca/webeis.nsf/%28PDFView%29/20090276/%24file/20090276.PDF\n",
        "Getting #940: http://yosemite.epa.gov/oeca/webeis.nsf/%28PDFView%29/20090270/%24file/20090270.PDF"
       ]
      },
      {
       "output_type": "stream",
       "stream": "stdout",
       "text": [
        "\n",
        "Getting #941: http://yosemite.epa.gov/oeca/webeis.nsf/%28PDFView%29/20090272/%24file/20090272.PDF"
       ]
      },
      {
       "output_type": "stream",
       "stream": "stdout",
       "text": [
        "\n",
        "Getting #942: http://yosemite.epa.gov/oeca/webeis.nsf/%28PDFView%29/20090267/%24file/20090267.PDF\n",
        "Getting #943: http://yosemite.epa.gov/oeca/webeis.nsf/%28PDFView%29/20090265/%24file/20090265.PDF"
       ]
      },
      {
       "output_type": "stream",
       "stream": "stdout",
       "text": [
        "\n",
        "Getting #944: http://yosemite.epa.gov/oeca/webeis.nsf/%28PDFView%29/20090253/%24file/20090253.PDF"
       ]
      },
      {
       "output_type": "stream",
       "stream": "stdout",
       "text": [
        "\n",
        "Getting #945: http://yosemite.epa.gov/oeca/webeis.nsf/%28PDFView%29/20090259/%24file/20090259.PDF\n",
        "Getting #946: http://yosemite.epa.gov/oeca/webeis.nsf/%28PDFView%29/20090254/%24file/20090254.PDF"
       ]
      },
      {
       "output_type": "stream",
       "stream": "stdout",
       "text": [
        "\n",
        "Getting #947: http://yosemite.epa.gov/oeca/webeis.nsf/%28PDFView%29/20090248/%24file/20090248.PDF"
       ]
      },
      {
       "output_type": "stream",
       "stream": "stdout",
       "text": [
        "\n",
        "Getting #948: http://yosemite.epa.gov/oeca/webeis.nsf/%28PDFView%29/20090246/%24file/20090246.PDF\n",
        "Getting #949: http://yosemite.epa.gov/oeca/webeis.nsf/%28PDFView%29/20090239/%24file/20090239.PDF"
       ]
      },
      {
       "output_type": "stream",
       "stream": "stdout",
       "text": [
        "\n",
        "Getting #950: http://yosemite.epa.gov/oeca/webeis.nsf/%28PDFView%29/20090235/%24file/20090235.PDF\n",
        "Getting #951: http://yosemite.epa.gov/oeca/webeis.nsf/%28PDFView%29/20090237/%24file/20090237.PDF"
       ]
      },
      {
       "output_type": "stream",
       "stream": "stdout",
       "text": [
        "\n",
        "Getting #952: http://yosemite.epa.gov/oeca/webeis.nsf/%28PDFView%29/20090238/%24file/20090238.PDF"
       ]
      },
      {
       "output_type": "stream",
       "stream": "stdout",
       "text": [
        "\n",
        "Getting #953: http://yosemite.epa.gov/oeca/webeis.nsf/%28PDFView%29/20090227/%24file/20090227.PDF\n",
        "Getting #954: http://yosemite.epa.gov/oeca/webeis.nsf/%28PDFView%29/20090228/%24file/20090228.PDF"
       ]
      },
      {
       "output_type": "stream",
       "stream": "stdout",
       "text": [
        "\n",
        "Getting #955: http://yosemite.epa.gov/oeca/webeis.nsf/%28PDFView%29/20090224/%24file/20090224.PDF"
       ]
      },
      {
       "output_type": "stream",
       "stream": "stdout",
       "text": [
        "\n",
        "Getting #956: http://yosemite.epa.gov/oeca/webeis.nsf/%28PDFView%29/20090223/%24file/20090223.PDF"
       ]
      },
      {
       "output_type": "stream",
       "stream": "stdout",
       "text": [
        "\n",
        "Getting #957: http://yosemite.epa.gov/oeca/webeis.nsf/%28PDFView%29/20090225/%24file/20090225.PDF\n",
        "Getting #958: http://yosemite.epa.gov/oeca/webeis.nsf/%28PDFView%29/20090216/%24file/20090216.PDF"
       ]
      },
      {
       "output_type": "stream",
       "stream": "stdout",
       "text": [
        "\n",
        "Getting #959: http://yosemite.epa.gov/oeca/webeis.nsf/%28PDFView%29/20090217/%24file/20090217.PDF\n",
        "Getting #960: http://yosemite.epa.gov/oeca/webeis.nsf/%28PDFView%29/20090221/%24file/20090221.PDF"
       ]
      },
      {
       "output_type": "stream",
       "stream": "stdout",
       "text": [
        "\n",
        "Getting #961: http://yosemite.epa.gov/oeca/webeis.nsf/%28PDFView%29/20090215/%24file/20090215.PDF"
       ]
      },
      {
       "output_type": "stream",
       "stream": "stdout",
       "text": [
        "\n",
        "Getting #962: http://yosemite.epa.gov/oeca/webeis.nsf/%28PDFView%29/20090214/%24file/20090214.PDF"
       ]
      },
      {
       "output_type": "stream",
       "stream": "stdout",
       "text": [
        "\n",
        "Getting #963: http://yosemite.epa.gov/oeca/webeis.nsf/%28PDFView%29/20090199/%24file/20090199.PDF"
       ]
      },
      {
       "output_type": "stream",
       "stream": "stdout",
       "text": [
        "\n",
        "Getting #964: http://yosemite.epa.gov/oeca/webeis.nsf/%28PDFView%29/20090204/%24file/20090204.PDF"
       ]
      },
      {
       "output_type": "stream",
       "stream": "stdout",
       "text": [
        "\n",
        "Getting #965: http://yosemite.epa.gov/oeca/webeis.nsf/%28PDFView%29/20090202/%24file/20090202.PDF\n",
        "Getting #966: http://yosemite.epa.gov/oeca/webeis.nsf/%28PDFView%29/20090198/%24file/20090198.PDF"
       ]
      },
      {
       "output_type": "stream",
       "stream": "stdout",
       "text": [
        "\n",
        "Getting #967: http://yosemite.epa.gov/oeca/webeis.nsf/%28PDFView%29/20090213/%24file/20090213.PDF"
       ]
      },
      {
       "output_type": "stream",
       "stream": "stdout",
       "text": [
        "\n",
        "Getting #968: http://yosemite.epa.gov/oeca/webeis.nsf/%28PDFView%29/20090197/%24file/20090197.PDF"
       ]
      },
      {
       "output_type": "stream",
       "stream": "stdout",
       "text": [
        "\n",
        "Getting #969: http://yosemite.epa.gov/oeca/webeis.nsf/%28PDFView%29/20090194/%24file/20090194.PDF"
       ]
      },
      {
       "output_type": "stream",
       "stream": "stdout",
       "text": [
        "\n",
        "Getting #970: http://yosemite.epa.gov/oeca/webeis.nsf/%28PDFView%29/20090188/%24file/20090188.PDF\n",
        "Getting #971: http://yosemite.epa.gov/oeca/webeis.nsf/%28PDFView%29/20090189/%24file/20090189.PDF"
       ]
      },
      {
       "output_type": "stream",
       "stream": "stdout",
       "text": [
        "\n",
        "Getting #972: http://yosemite.epa.gov/oeca/webeis.nsf/%28PDFView%29/20090193/%24file/20090193.PDF"
       ]
      },
      {
       "output_type": "stream",
       "stream": "stdout",
       "text": [
        "\n",
        "Getting #973: http://yosemite.epa.gov/oeca/webeis.nsf/%28PDFView%29/20090190/%24file/20090190.PDF"
       ]
      },
      {
       "output_type": "stream",
       "stream": "stdout",
       "text": [
        "\n",
        "Getting #974: http://yosemite.epa.gov/oeca/webeis.nsf/%28PDFView%29/20090185/%24file/20090185.PDF"
       ]
      },
      {
       "output_type": "stream",
       "stream": "stdout",
       "text": [
        "\n",
        "Getting #975: http://yosemite.epa.gov/oeca/webeis.nsf/%28PDFView%29/20090187/%24file/20090187.PDF"
       ]
      },
      {
       "output_type": "stream",
       "stream": "stdout",
       "text": [
        "\n",
        "Getting #976: http://yosemite.epa.gov/oeca/webeis.nsf/%28PDFView%29/20090179/%24file/20090179.PDF"
       ]
      },
      {
       "output_type": "stream",
       "stream": "stdout",
       "text": [
        "\n",
        "Getting #977: http://yosemite.epa.gov/oeca/webeis.nsf/%28PDFView%29/20090181/%24file/20090181.PDF"
       ]
      },
      {
       "output_type": "stream",
       "stream": "stdout",
       "text": [
        "\n",
        "Getting #978: http://yosemite.epa.gov/oeca/webeis.nsf/%28PDFView%29/20090177/%24file/20090177.PDF"
       ]
      },
      {
       "output_type": "stream",
       "stream": "stdout",
       "text": [
        "\n",
        "Getting #979: http://yosemite.epa.gov/oeca/webeis.nsf/%28PDFView%29/20090173/%24file/20090173.PDF"
       ]
      },
      {
       "output_type": "stream",
       "stream": "stdout",
       "text": [
        "\n",
        "Getting #980: http://yosemite.epa.gov/oeca/webeis.nsf/%28PDFView%29/20090168/%24file/20090168.PDF"
       ]
      },
      {
       "output_type": "stream",
       "stream": "stdout",
       "text": [
        "\n",
        "Getting #981: http://yosemite.epa.gov/oeca/webeis.nsf/%28PDFView%29/20090166/%24file/20090166.PDF"
       ]
      },
      {
       "output_type": "stream",
       "stream": "stdout",
       "text": [
        "\n",
        "Getting #982: http://yosemite.epa.gov/oeca/webeis.nsf/%28PDFView%29/20090157/%24file/20090157.PDF\n",
        "Getting #983: http://yosemite.epa.gov/oeca/webeis.nsf/%28PDFView%29/20090165/%24file/20090165.PDF"
       ]
      },
      {
       "output_type": "stream",
       "stream": "stdout",
       "text": [
        "\n",
        "Getting #984: http://yosemite.epa.gov/oeca/webeis.nsf/%28PDFView%29/20090161/%24file/20090161.PDF"
       ]
      },
      {
       "output_type": "stream",
       "stream": "stdout",
       "text": [
        "\n",
        "Getting #985: http://yosemite.epa.gov/oeca/webeis.nsf/%28PDFView%29/20090160/%24file/20090160.PDF"
       ]
      },
      {
       "output_type": "stream",
       "stream": "stdout",
       "text": [
        "\n",
        "Getting #986: http://yosemite.epa.gov/oeca/webeis.nsf/%28PDFView%29/20090153/%24file/20090153.PDF"
       ]
      },
      {
       "output_type": "stream",
       "stream": "stdout",
       "text": [
        "\n",
        "Getting #987: http://yosemite.epa.gov/oeca/webeis.nsf/%28PDFView%29/20090162/%24file/20090162.PDF"
       ]
      },
      {
       "output_type": "stream",
       "stream": "stdout",
       "text": [
        "\n",
        "Getting #988: http://yosemite.epa.gov/oeca/webeis.nsf/%28PDFView%29/20090138/%24file/20090138.PDF\n",
        "Getting #989: http://yosemite.epa.gov/oeca/webeis.nsf/%28PDFView%29/20090148/%24file/20090148.PDF"
       ]
      },
      {
       "output_type": "stream",
       "stream": "stdout",
       "text": [
        "\n",
        "Getting #990: http://yosemite.epa.gov/oeca/webeis.nsf/%28PDFView%29/20090137/%24file/20090137.PDF"
       ]
      },
      {
       "output_type": "stream",
       "stream": "stdout",
       "text": [
        "\n",
        "Getting #991: http://yosemite.epa.gov/oeca/webeis.nsf/%28PDFView%29/20090139/%24file/20090139.PDF"
       ]
      },
      {
       "output_type": "stream",
       "stream": "stdout",
       "text": [
        "\n",
        "Getting #992: http://yosemite.epa.gov/oeca/webeis.nsf/%28PDFView%29/20090131/%24file/20090131.PDF"
       ]
      },
      {
       "output_type": "stream",
       "stream": "stdout",
       "text": [
        "\n",
        "Getting #993: http://yosemite.epa.gov/oeca/webeis.nsf/%28PDFView%29/20090128/%24file/20090128.PDF\n",
        "Getting #994: http://yosemite.epa.gov/oeca/webeis.nsf/%28PDFView%29/20090120/%24file/20090120.PDF"
       ]
      },
      {
       "output_type": "stream",
       "stream": "stdout",
       "text": [
        "\n",
        "Getting #995: http://yosemite.epa.gov/oeca/webeis.nsf/%28PDFView%29/20090117/%24file/20090117.PDF"
       ]
      },
      {
       "output_type": "stream",
       "stream": "stdout",
       "text": [
        "\n",
        "Getting #996: http://yosemite.epa.gov/oeca/webeis.nsf/%28PDFView%29/20090118/%24file/20090118.PDF"
       ]
      },
      {
       "output_type": "stream",
       "stream": "stdout",
       "text": [
        "\n",
        "Getting #997: http://yosemite.epa.gov/oeca/webeis.nsf/%28PDFView%29/20090125/%24file/20090125.PDF"
       ]
      },
      {
       "output_type": "stream",
       "stream": "stdout",
       "text": [
        "\n",
        "Getting #998: http://yosemite.epa.gov/oeca/webeis.nsf/%28PDFView%29/20090121/%24file/20090121.PDF\n",
        "Getting #999: http://yosemite.epa.gov/oeca/webeis.nsf/%28PDFView%29/20090114/%24file/20090114.PDF"
       ]
      },
      {
       "output_type": "stream",
       "stream": "stdout",
       "text": [
        "\n",
        "Getting #1000: http://yosemite.epa.gov/oeca/webeis.nsf/%28PDFView%29/20090116/%24file/20090116.PDF\n",
        "Getting #1001: http://yosemite.epa.gov/oeca/webeis.nsf/%28PDFView%29/20090113/%24file/20090113.PDF"
       ]
      },
      {
       "output_type": "stream",
       "stream": "stdout",
       "text": [
        "\n",
        "Getting #1002: http://yosemite.epa.gov/oeca/webeis.nsf/%28PDFView%29/20090115/%24file/20090115.PDF"
       ]
      },
      {
       "output_type": "stream",
       "stream": "stdout",
       "text": [
        "\n",
        "Getting #1003: http://yosemite.epa.gov/oeca/webeis.nsf/%28PDFView%29/20090111/%24file/20090111.PDF\n",
        "Getting #1004: http://yosemite.epa.gov/oeca/webeis.nsf/%28PDFView%29/20090105/%24file/20090105.PDF"
       ]
      },
      {
       "output_type": "stream",
       "stream": "stdout",
       "text": [
        "\n",
        "Getting #1005: http://yosemite.epa.gov/oeca/webeis.nsf/%28PDFView%29/20090109/%24file/20090109.PDF\n",
        "Getting #1006: http://yosemite.epa.gov/oeca/webeis.nsf/%28PDFView%29/20090106/%24file/20090106.PDF"
       ]
      },
      {
       "output_type": "stream",
       "stream": "stdout",
       "text": [
        "\n",
        "Getting #1007: http://yosemite.epa.gov/oeca/webeis.nsf/%28PDFView%29/20090101/%24file/20090101.PDF"
       ]
      },
      {
       "output_type": "stream",
       "stream": "stdout",
       "text": [
        "\n",
        "Getting #1008: http://yosemite.epa.gov/oeca/webeis.nsf/%28PDFView%29/20090108/%24file/20090108.PDF"
       ]
      },
      {
       "output_type": "stream",
       "stream": "stdout",
       "text": [
        "\n",
        "Getting #1009: http://yosemite.epa.gov/oeca/webeis.nsf/%28PDFView%29/20090094/%24file/20090094.PDF\n",
        "Getting #1010: http://yosemite.epa.gov/oeca/webeis.nsf/%28PDFView%29/20090089/%24file/20090089.PDF"
       ]
      },
      {
       "output_type": "stream",
       "stream": "stdout",
       "text": [
        "\n",
        "Getting #1011: http://yosemite.epa.gov/oeca/webeis.nsf/%28PDFView%29/20090079/%24file/20090079.PDF"
       ]
      },
      {
       "output_type": "stream",
       "stream": "stdout",
       "text": [
        "\n",
        "Getting #1012: http://yosemite.epa.gov/oeca/webeis.nsf/%28PDFView%29/20090081/%24file/20090081.PDF"
       ]
      },
      {
       "output_type": "stream",
       "stream": "stdout",
       "text": [
        "\n",
        "Getting #1013: http://yosemite.epa.gov/oeca/webeis.nsf/%28PDFView%29/20090082/%24file/20090082.PDF\n",
        "Getting #1014: http://yosemite.epa.gov/oeca/webeis.nsf/%28PDFView%29/20090083/%24file/20090083.PDF"
       ]
      },
      {
       "output_type": "stream",
       "stream": "stdout",
       "text": [
        "\n",
        "Getting #1015: http://yosemite.epa.gov/oeca/webeis.nsf/%28PDFView%29/20090068/%24file/20090068.PDF\n",
        "Getting #1016: http://yosemite.epa.gov/oeca/webeis.nsf/%28PDFView%29/20090070/%24file/20090070.PDF"
       ]
      },
      {
       "output_type": "stream",
       "stream": "stdout",
       "text": [
        "\n",
        "Getting #1017: http://yosemite.epa.gov/oeca/webeis.nsf/%28PDFView%29/20090069/%24file/20090069.PDF"
       ]
      },
      {
       "output_type": "stream",
       "stream": "stdout",
       "text": [
        "\n",
        "Getting #1018: http://yosemite.epa.gov/oeca/webeis.nsf/%28PDFView%29/20090066/%24file/20090066.PDF\n",
        "Getting #1019: http://yosemite.epa.gov/oeca/webeis.nsf/%28PDFView%29/20090076/%24file/20090076.PDF"
       ]
      },
      {
       "output_type": "stream",
       "stream": "stdout",
       "text": [
        "\n",
        "Getting #1020: http://yosemite.epa.gov/oeca/webeis.nsf/%28PDFView%29/20090072/%24file/20090072.PDF\n",
        "Getting #1021: http://yosemite.epa.gov/oeca/webeis.nsf/%28PDFView%29/20090073/%24file/20090073.PDF"
       ]
      },
      {
       "output_type": "stream",
       "stream": "stdout",
       "text": [
        "\n",
        "Getting #1022: http://yosemite.epa.gov/oeca/webeis.nsf/%28PDFView%29/20090060/%24file/20090060.PDF"
       ]
      },
      {
       "output_type": "stream",
       "stream": "stdout",
       "text": [
        "\n",
        "Getting #1023: http://yosemite.epa.gov/oeca/webeis.nsf/%28PDFView%29/20090065/%24file/20090065.PDF"
       ]
      },
      {
       "output_type": "stream",
       "stream": "stdout",
       "text": [
        "\n",
        "Getting #1024: http://yosemite.epa.gov/oeca/webeis.nsf/%28PDFView%29/20090061/%24file/20090061.PDF\n",
        "Getting #1025: http://yosemite.epa.gov/oeca/webeis.nsf/%28PDFView%29/20090053/%24file/20090053.PDF"
       ]
      },
      {
       "output_type": "stream",
       "stream": "stdout",
       "text": [
        "\n",
        "Getting #1026: http://yosemite.epa.gov/oeca/webeis.nsf/%28PDFView%29/20090057/%24file/20090057.PDF"
       ]
      },
      {
       "output_type": "stream",
       "stream": "stdout",
       "text": [
        "\n",
        "Getting #1027: http://yosemite.epa.gov/oeca/webeis.nsf/%28PDFView%29/20090055/%24file/20090055.PDF"
       ]
      },
      {
       "output_type": "stream",
       "stream": "stdout",
       "text": [
        "\n",
        "Getting #1028: http://yosemite.epa.gov/oeca/webeis.nsf/%28PDFView%29/20090054/%24file/20090054.PDF"
       ]
      },
      {
       "output_type": "stream",
       "stream": "stdout",
       "text": [
        "\n",
        "Getting #1029: http://yosemite.epa.gov/oeca/webeis.nsf/%28PDFView%29/20090049/%24file/20090049.PDF"
       ]
      },
      {
       "output_type": "stream",
       "stream": "stdout",
       "text": [
        "\n",
        "Getting #1030: http://yosemite.epa.gov/oeca/webeis.nsf/%28PDFView%29/20090047/%24file/20090047.PDF"
       ]
      },
      {
       "output_type": "stream",
       "stream": "stdout",
       "text": [
        "\n",
        "Getting #1031: http://yosemite.epa.gov/oeca/webeis.nsf/%28PDFView%29/20090048/%24file/20090048.PDF"
       ]
      },
      {
       "output_type": "stream",
       "stream": "stdout",
       "text": [
        "\n",
        "Getting #1032: http://yosemite.epa.gov/oeca/webeis.nsf/%28PDFView%29/20090040/%24file/20090040.PDF"
       ]
      },
      {
       "output_type": "stream",
       "stream": "stdout",
       "text": [
        "\n",
        "Getting #1033: http://yosemite.epa.gov/oeca/webeis.nsf/%28PDFView%29/20090043/%24file/20090043.PDF\n",
        "Getting #1034: http://yosemite.epa.gov/oeca/webeis.nsf/%28PDFView%29/20090039/%24file/20090039.PDF"
       ]
      },
      {
       "output_type": "stream",
       "stream": "stdout",
       "text": [
        "\n",
        "Getting #1035: http://yosemite.epa.gov/oeca/webeis.nsf/%28PDFView%29/20090042/%24file/20090042.PDF"
       ]
      },
      {
       "output_type": "stream",
       "stream": "stdout",
       "text": [
        "\n",
        "Getting #1036: http://yosemite.epa.gov/oeca/webeis.nsf/%28PDFView%29/20090036/%24file/20090036.PDF"
       ]
      },
      {
       "output_type": "stream",
       "stream": "stdout",
       "text": [
        "\n",
        "Getting #1037: http://yosemite.epa.gov/oeca/webeis.nsf/%28PDFView%29/20090045/%24file/20090045.PDF"
       ]
      },
      {
       "output_type": "stream",
       "stream": "stdout",
       "text": [
        "\n",
        "Getting #1038: http://yosemite.epa.gov/oeca/webeis.nsf/%28PDFView%29/20090021/%24file/20090021.PDF"
       ]
      },
      {
       "output_type": "stream",
       "stream": "stdout",
       "text": [
        "\n",
        "Getting #1039: http://yosemite.epa.gov/oeca/webeis.nsf/%28PDFView%29/20090020/%24file/20090020.PDF"
       ]
      },
      {
       "output_type": "stream",
       "stream": "stdout",
       "text": [
        "\n",
        "Getting #1040: http://yosemite.epa.gov/oeca/webeis.nsf/%28PDFView%29/20090023/%24file/20090023.PDF"
       ]
      },
      {
       "output_type": "stream",
       "stream": "stdout",
       "text": [
        "\n",
        "Getting #1041: http://yosemite.epa.gov/oeca/webeis.nsf/%28PDFView%29/20090022/%24file/20090022.PDF"
       ]
      },
      {
       "output_type": "stream",
       "stream": "stdout",
       "text": [
        "\n",
        "Getting #1042: http://yosemite.epa.gov/oeca/webeis.nsf/%28PDFView%29/20090018/%24file/20090018.PDF"
       ]
      },
      {
       "output_type": "stream",
       "stream": "stdout",
       "text": [
        "\n",
        "Getting #1043: http://yosemite.epa.gov/oeca/webeis.nsf/%28PDFView%29/20090017/%24file/20090017.PDF\n",
        "Getting #1044: http://yosemite.epa.gov/oeca/webeis.nsf/%28PDFView%29/20090013/%24file/20090013.PDF"
       ]
      },
      {
       "output_type": "stream",
       "stream": "stdout",
       "text": [
        "\n",
        "Getting #1045: http://yosemite.epa.gov/oeca/webeis.nsf/%28PDFView%29/20090011/%24file/20090011.PDF"
       ]
      },
      {
       "output_type": "stream",
       "stream": "stdout",
       "text": [
        "\n",
        "Getting #1046: http://yosemite.epa.gov/oeca/webeis.nsf/%28PDFView%29/20090002/%24file/20090002.PDF"
       ]
      },
      {
       "output_type": "stream",
       "stream": "stdout",
       "text": [
        "\n",
        "Getting #1047: http://yosemite.epa.gov/oeca/webeis.nsf/%28PDFView%29/20080540/%24file/20080540.PDF\n",
        "Getting #1048: http://yosemite.epa.gov/oeca/webeis.nsf/%28PDFView%29/20080542/%24file/20080542.PDF"
       ]
      },
      {
       "output_type": "stream",
       "stream": "stdout",
       "text": [
        "\n",
        "Getting #1049: http://yosemite.epa.gov/oeca/webeis.nsf/%28PDFView%29/20080541/%24file/20080541.PDF"
       ]
      },
      {
       "output_type": "stream",
       "stream": "stdout",
       "text": [
        "\n",
        "Getting #1050: http://yosemite.epa.gov/oeca/webeis.nsf/%28PDFView%29/20080532/%24file/20080532.PDF"
       ]
      },
      {
       "output_type": "stream",
       "stream": "stdout",
       "text": [
        "\n",
        "Getting #1051: http://yosemite.epa.gov/oeca/webeis.nsf/%28PDFView%29/20080533/%24file/20080533.PDF"
       ]
      },
      {
       "output_type": "stream",
       "stream": "stdout",
       "text": [
        "\n",
        "Getting #1052: http://yosemite.epa.gov/oeca/webeis.nsf/%28PDFView%29/20080527/%24file/20080527.PDF"
       ]
      },
      {
       "output_type": "stream",
       "stream": "stdout",
       "text": [
        "\n",
        "Getting #1053: http://yosemite.epa.gov/oeca/webeis.nsf/%28PDFView%29/20080531/%24file/20080531.PDF\n",
        "Getting #1054: http://yosemite.epa.gov/oeca/webeis.nsf/%28PDFView%29/20080528/%24file/20080528.PDF"
       ]
      },
      {
       "output_type": "stream",
       "stream": "stdout",
       "text": [
        "\n",
        "Getting #1055: http://yosemite.epa.gov/oeca/webeis.nsf/%28PDFView%29/20080520/%24file/20080520.PDF"
       ]
      },
      {
       "output_type": "stream",
       "stream": "stdout",
       "text": [
        "\n",
        "Getting #1056: http://yosemite.epa.gov/oeca/webeis.nsf/%28PDFView%29/20080513/%24file/20080513.PDF"
       ]
      },
      {
       "output_type": "stream",
       "stream": "stdout",
       "text": [
        "\n",
        "Getting #1057: http://yosemite.epa.gov/oeca/webeis.nsf/%28PDFView%29/20080508/%24file/20080508.PDF"
       ]
      },
      {
       "output_type": "stream",
       "stream": "stdout",
       "text": [
        "\n",
        "Getting #1058: http://yosemite.epa.gov/oeca/webeis.nsf/%28PDFView%29/20080494/%24file/20080494.PDF\n",
        "Getting #1059: http://yosemite.epa.gov/oeca/webeis.nsf/%28PDFView%29/20080486/%24file/20080486.PDF"
       ]
      },
      {
       "output_type": "stream",
       "stream": "stdout",
       "text": [
        "\n",
        "Getting #1060: http://yosemite.epa.gov/oeca/webeis.nsf/%28PDFView%29/20080487/%24file/20080487.PDF"
       ]
      },
      {
       "output_type": "stream",
       "stream": "stdout",
       "text": [
        "\n",
        "Getting #1061: http://yosemite.epa.gov/oeca/webeis.nsf/%28PDFView%29/20080491/%24file/20080491.PDF"
       ]
      },
      {
       "output_type": "stream",
       "stream": "stdout",
       "text": [
        "\n",
        "Getting #1062: http://yosemite.epa.gov/oeca/webeis.nsf/%28PDFView%29/20080485/%24file/20080485.PDF\n",
        "Getting #1063: http://yosemite.epa.gov/oeca/webeis.nsf/%28PDFView%29/20080495/%24file/20080495.PDF"
       ]
      },
      {
       "output_type": "stream",
       "stream": "stdout",
       "text": [
        "\n",
        "Getting #1064: http://yosemite.epa.gov/oeca/webeis.nsf/%28PDFView%29/20080480/%24file/20080480.PDF"
       ]
      },
      {
       "output_type": "stream",
       "stream": "stdout",
       "text": [
        "\n",
        "Getting #1065: http://yosemite.epa.gov/oeca/webeis.nsf/%28PDFView%29/20080467/%24file/20080467.PDF"
       ]
      },
      {
       "output_type": "stream",
       "stream": "stdout",
       "text": [
        "\n",
        "Getting #1066: http://yosemite.epa.gov/oeca/webeis.nsf/%28PDFView%29/20080465/%24file/20080465.PDF"
       ]
      },
      {
       "output_type": "stream",
       "stream": "stdout",
       "text": [
        "\n",
        "Getting #1067: http://yosemite.epa.gov/oeca/webeis.nsf/%28PDFView%29/20080466/%24file/20080466.PDF\n",
        "Getting #1068: http://yosemite.epa.gov/oeca/webeis.nsf/%28PDFView%29/20080473/%24file/20080473.PDF"
       ]
      },
      {
       "output_type": "stream",
       "stream": "stdout",
       "text": [
        "\n",
        "Getting #1069: http://yosemite.epa.gov/oeca/webeis.nsf/%28PDFView%29/20080456/%24file/20080456.PDF\n",
        "Getting #1070: http://yosemite.epa.gov/oeca/webeis.nsf/%28PDFView%29/20080455/%24file/20080455.PDF"
       ]
      },
      {
       "output_type": "stream",
       "stream": "stdout",
       "text": [
        "\n",
        "Getting #1071: http://yosemite.epa.gov/oeca/webeis.nsf/%28PDFView%29/20080440/%24file/20080440.PDF"
       ]
      },
      {
       "output_type": "stream",
       "stream": "stdout",
       "text": [
        "\n",
        "Getting #1072: http://yosemite.epa.gov/oeca/webeis.nsf/%28PDFView%29/20080451/%24file/20080451.PDF"
       ]
      },
      {
       "output_type": "stream",
       "stream": "stdout",
       "text": [
        "\n",
        "Getting #1073: http://yosemite.epa.gov/oeca/webeis.nsf/%28PDFView%29/20080442/%24file/20080442.PDF\n",
        "Getting #1074: http://yosemite.epa.gov/oeca/webeis.nsf/%28PDFView%29/20080447/%24file/20080447.PDF"
       ]
      },
      {
       "output_type": "stream",
       "stream": "stdout",
       "text": [
        "\n",
        "Getting #1075: http://yosemite.epa.gov/oeca/webeis.nsf/%28PDFView%29/20080449/%24file/20080449.PDF\n",
        "Getting #1076: http://yosemite.epa.gov/oeca/webeis.nsf/%28PDFView%29/20080427/%24file/20080427.PDF"
       ]
      },
      {
       "output_type": "stream",
       "stream": "stdout",
       "text": [
        "\n",
        "Getting #1077: http://yosemite.epa.gov/oeca/webeis.nsf/%28PDFView%29/20080418/%24file/20080418.PDF"
       ]
      },
      {
       "output_type": "stream",
       "stream": "stdout",
       "text": [
        "\n",
        "Getting #1078: http://yosemite.epa.gov/oeca/webeis.nsf/%28PDFView%29/20080411/%24file/20080411.PDF\n",
        "Getting #1079: http://yosemite.epa.gov/oeca/webeis.nsf/%28PDFView%29/20080408/%24file/20080408.PDF"
       ]
      },
      {
       "output_type": "stream",
       "stream": "stdout",
       "text": [
        "\n",
        "Getting #1080: http://yosemite.epa.gov/oeca/webeis.nsf/%28PDFView%29/20080402/%24file/20080402.PDF\n",
        "Getting #1081: http://yosemite.epa.gov/oeca/webeis.nsf/%28PDFView%29/20080407/%24file/20080407.PDF"
       ]
      },
      {
       "output_type": "stream",
       "stream": "stdout",
       "text": [
        "\n",
        "Getting #1082: http://yosemite.epa.gov/oeca/webeis.nsf/%28PDFView%29/20080386/%24file/20080386.PDF"
       ]
      },
      {
       "output_type": "stream",
       "stream": "stdout",
       "text": [
        "\n",
        "Getting #1083: http://yosemite.epa.gov/oeca/webeis.nsf/%28PDFView%29/20080397/%24file/20080397.PDF"
       ]
      },
      {
       "output_type": "stream",
       "stream": "stdout",
       "text": [
        "\n",
        "Getting #1084: http://yosemite.epa.gov/oeca/webeis.nsf/%28PDFView%29/20080388/%24file/20080388.PDF"
       ]
      },
      {
       "output_type": "stream",
       "stream": "stdout",
       "text": [
        "\n",
        "Getting #1085: http://yosemite.epa.gov/oeca/webeis.nsf/%28PDFView%29/20080383/%24file/20080383.PDF"
       ]
      },
      {
       "output_type": "stream",
       "stream": "stdout",
       "text": [
        "\n",
        "Getting #1086: http://yosemite.epa.gov/oeca/webeis.nsf/%28PDFView%29/20080389/%24file/20080389.PDF"
       ]
      },
      {
       "output_type": "stream",
       "stream": "stdout",
       "text": [
        "\n",
        "Getting #1087: http://yosemite.epa.gov/oeca/webeis.nsf/%28PDFView%29/20080380/%24file/20080380.PDF\n",
        "Getting #1088: http://yosemite.epa.gov/oeca/webeis.nsf/%28PDFView%29/20080378/%24file/20080378.PDF"
       ]
      },
      {
       "output_type": "stream",
       "stream": "stdout",
       "text": [
        "\n",
        "Getting #1089: http://yosemite.epa.gov/oeca/webeis.nsf/%28PDFView%29/20080377/%24file/20080377.PDF"
       ]
      },
      {
       "output_type": "stream",
       "stream": "stdout",
       "text": [
        "\n",
        "Getting #1090: http://yosemite.epa.gov/oeca/webeis.nsf/%28PDFView%29/20080368/%24file/20080368.PDF\n",
        "Getting #1091: http://yosemite.epa.gov/oeca/webeis.nsf/%28PDFView%29/20080372/%24file/20080372.PDF"
       ]
      },
      {
       "output_type": "stream",
       "stream": "stdout",
       "text": [
        "\n",
        "Getting #1092: http://yosemite.epa.gov/oeca/webeis.nsf/%28PDFView%29/20080366/%24file/20080366.PDF"
       ]
      },
      {
       "output_type": "stream",
       "stream": "stdout",
       "text": [
        "\n",
        "Getting #1093: http://yosemite.epa.gov/oeca/webeis.nsf/%28PDFView%29/20080363/%24file/20080363.PDF"
       ]
      },
      {
       "output_type": "stream",
       "stream": "stdout",
       "text": [
        "\n",
        "Getting #1094: http://yosemite.epa.gov/oeca/webeis.nsf/%28PDFView%29/20080362/%24file/20080362.PDF\n",
        "Getting #1095: http://yosemite.epa.gov/oeca/webeis.nsf/%28PDFView%29/20080356/%24file/20080356.PDF"
       ]
      },
      {
       "output_type": "stream",
       "stream": "stdout",
       "text": [
        "\n",
        "Getting #1096: http://yosemite.epa.gov/oeca/webeis.nsf/%28PDFView%29/20080353/%24file/20080353.PDF"
       ]
      },
      {
       "output_type": "stream",
       "stream": "stdout",
       "text": [
        "\n",
        "Getting #1097: http://yosemite.epa.gov/oeca/webeis.nsf/%28PDFView%29/20080349/%24file/20080349.PDF"
       ]
      },
      {
       "output_type": "stream",
       "stream": "stdout",
       "text": [
        "\n",
        "Getting #1098: http://yosemite.epa.gov/oeca/webeis.nsf/%28PDFView%29/20080345/%24file/20080345.PDF\n",
        "Getting #1099: http://yosemite.epa.gov/oeca/webeis.nsf/%28PDFView%29/20080348/%24file/20080348.PDF"
       ]
      },
      {
       "output_type": "stream",
       "stream": "stdout",
       "text": [
        "\n",
        "Getting #1100: http://yosemite.epa.gov/oeca/webeis.nsf/%28PDFView%29/20080346/%24file/20080346.PDF\n",
        "Getting #1101: http://yosemite.epa.gov/oeca/webeis.nsf/%28PDFView%29/20080336/%24file/20080336.PDF"
       ]
      },
      {
       "output_type": "stream",
       "stream": "stdout",
       "text": [
        "\n",
        "Getting #1102: http://yosemite.epa.gov/oeca/webeis.nsf/%28PDFView%29/20080341/%24file/20080341.PDF"
       ]
      },
      {
       "output_type": "stream",
       "stream": "stdout",
       "text": [
        "\n",
        "Getting #1103: http://yosemite.epa.gov/oeca/webeis.nsf/%28PDFView%29/20080323/%24file/20080323.PDF\n",
        "Getting #1104: http://yosemite.epa.gov/oeca/webeis.nsf/%28PDFView%29/20080313/%24file/20080313.PDF"
       ]
      },
      {
       "output_type": "stream",
       "stream": "stdout",
       "text": [
        "\n",
        "Getting #1105: http://yosemite.epa.gov/oeca/webeis.nsf/%28PDFView%29/20080307/%24file/20080307.PDF"
       ]
      },
      {
       "output_type": "stream",
       "stream": "stdout",
       "text": [
        "\n",
        "Getting #1106: http://yosemite.epa.gov/oeca/webeis.nsf/%28PDFView%29/20080305/%24file/20080305.PDF"
       ]
      },
      {
       "output_type": "stream",
       "stream": "stdout",
       "text": [
        "\n",
        "Getting #1107: http://yosemite.epa.gov/oeca/webeis.nsf/%28PDFView%29/20080286/%24file/20080286.PDF\n",
        "Getting #1108: http://yosemite.epa.gov/oeca/webeis.nsf/%28PDFView%29/20080291/%24file/20080291.PDF"
       ]
      },
      {
       "output_type": "stream",
       "stream": "stdout",
       "text": [
        "\n",
        "Getting #1109: http://yosemite.epa.gov/oeca/webeis.nsf/%28PDFView%29/20080281/%24file/20080281.PDF"
       ]
      },
      {
       "output_type": "stream",
       "stream": "stdout",
       "text": [
        "\n",
        "Getting #1110: http://yosemite.epa.gov/oeca/webeis.nsf/%28PDFView%29/20080283/%24file/20080283.PDF\n",
        "Getting #1111: http://yosemite.epa.gov/oeca/webeis.nsf/%28PDFView%29/20080274/%24file/20080274.PDF"
       ]
      },
      {
       "output_type": "stream",
       "stream": "stdout",
       "text": [
        "\n",
        "Getting #1112: http://yosemite.epa.gov/oeca/webeis.nsf/%28PDFView%29/20080259/%24file/20080259.PDF"
       ]
      },
      {
       "output_type": "stream",
       "stream": "stdout",
       "text": [
        "\n",
        "Getting #1113: http://yosemite.epa.gov/oeca/webeis.nsf/%28PDFView%29/20080260/%24file/20080260.PDF"
       ]
      },
      {
       "output_type": "stream",
       "stream": "stdout",
       "text": [
        "\n",
        "Getting #1114: http://yosemite.epa.gov/oeca/webeis.nsf/%28PDFView%29/20080262/%24file/20080262.PDF"
       ]
      },
      {
       "output_type": "stream",
       "stream": "stdout",
       "text": [
        "\n",
        "Getting #1115: http://yosemite.epa.gov/oeca/webeis.nsf/%28PDFView%29/20080255/%24file/20080255.PDF"
       ]
      },
      {
       "output_type": "stream",
       "stream": "stdout",
       "text": [
        "\n",
        "Getting #1116: http://yosemite.epa.gov/oeca/webeis.nsf/%28PDFView%29/20080251/%24file/20080251.PDF"
       ]
      },
      {
       "output_type": "stream",
       "stream": "stdout",
       "text": [
        "\n",
        "Getting #1117: http://yosemite.epa.gov/oeca/webeis.nsf/%28PDFView%29/20080248/%24file/20080248.PDF"
       ]
      },
      {
       "output_type": "stream",
       "stream": "stdout",
       "text": [
        "\n",
        "Getting #1118: http://yosemite.epa.gov/oeca/webeis.nsf/%28PDFView%29/20080241/%24file/20080241.PDF\n",
        "Getting #1119: http://yosemite.epa.gov/oeca/webeis.nsf/%28PDFView%29/20080243/%24file/20080243.PDF"
       ]
      },
      {
       "output_type": "stream",
       "stream": "stdout",
       "text": [
        "\n",
        "Getting #1120: http://yosemite.epa.gov/oeca/webeis.nsf/%28PDFView%29/20080239/%24file/20080239.PDF\n",
        "Getting #1121: http://yosemite.epa.gov/oeca/webeis.nsf/%28PDFView%29/20080234/%24file/20080234.PDF"
       ]
      },
      {
       "output_type": "stream",
       "stream": "stdout",
       "text": [
        "\n",
        "Getting #1122: http://yosemite.epa.gov/oeca/webeis.nsf/%28PDFView%29/20080238/%24file/20080238.PDF\n",
        "Getting #1123: http://yosemite.epa.gov/oeca/webeis.nsf/%28PDFView%29/20080230/%24file/20080230.PDF"
       ]
      },
      {
       "output_type": "stream",
       "stream": "stdout",
       "text": [
        "\n",
        "Getting #1124: http://yosemite.epa.gov/oeca/webeis.nsf/%28PDFView%29/20080229/%24file/20080229.PDF"
       ]
      },
      {
       "output_type": "stream",
       "stream": "stdout",
       "text": [
        "\n",
        "Getting #1125: http://yosemite.epa.gov/oeca/webeis.nsf/%28PDFView%29/20080228/%24file/20080228.PDF\n",
        "Getting #1126: http://yosemite.epa.gov/oeca/webeis.nsf/%28PDFView%29/20080217/%24file/20080217.PDF"
       ]
      },
      {
       "output_type": "stream",
       "stream": "stdout",
       "text": [
        "\n",
        "Getting #1127: http://yosemite.epa.gov/oeca/webeis.nsf/%28PDFView%29/20080222/%24file/20080222.PDF"
       ]
      },
      {
       "output_type": "stream",
       "stream": "stdout",
       "text": [
        "\n",
        "Getting #1128: http://yosemite.epa.gov/oeca/webeis.nsf/%28PDFView%29/20080223/%24file/20080223.PDF\n",
        "Getting #1129: http://yosemite.epa.gov/oeca/webeis.nsf/%28PDFView%29/20080225/%24file/20080225.PDF"
       ]
      },
      {
       "output_type": "stream",
       "stream": "stdout",
       "text": [
        "\n",
        "Getting #1130: http://yosemite.epa.gov/oeca/webeis.nsf/%28PDFView%29/20080221/%24file/20080221.PDF"
       ]
      },
      {
       "output_type": "stream",
       "stream": "stdout",
       "text": [
        "\n",
        "Getting #1131: http://yosemite.epa.gov/oeca/webeis.nsf/%28PDFView%29/20080218/%24file/20080218.PDF"
       ]
      },
      {
       "output_type": "stream",
       "stream": "stdout",
       "text": [
        "\n",
        "Getting #1132: http://yosemite.epa.gov/oeca/webeis.nsf/%28PDFView%29/20080215/%24file/20080215.PDF\n",
        "Getting #1133: http://yosemite.epa.gov/oeca/webeis.nsf/%28PDFView%29/20080213/%24file/20080213.PDF"
       ]
      },
      {
       "output_type": "stream",
       "stream": "stdout",
       "text": [
        "\n",
        "Getting #1134: http://yosemite.epa.gov/oeca/webeis.nsf/%28PDFView%29/20080214/%24file/20080214.PDF"
       ]
      },
      {
       "output_type": "stream",
       "stream": "stdout",
       "text": [
        "\n",
        "Getting #1135: http://yosemite.epa.gov/oeca/webeis.nsf/%28PDFView%29/20080209/%24file/20080209.PDF"
       ]
      },
      {
       "output_type": "stream",
       "stream": "stdout",
       "text": [
        "\n",
        "Getting #1136: http://yosemite.epa.gov/oeca/webeis.nsf/%28PDFView%29/20080207/%24file/20080207.PDF"
       ]
      },
      {
       "output_type": "stream",
       "stream": "stdout",
       "text": [
        "\n",
        "Getting #1137: http://yosemite.epa.gov/oeca/webeis.nsf/%28PDFView%29/20080203/%24file/20080203.PDF\n",
        "Getting #1138: http://yosemite.epa.gov/oeca/webeis.nsf/%28PDFView%29/20080193/%24file/20080193.PDF"
       ]
      },
      {
       "output_type": "stream",
       "stream": "stdout",
       "text": [
        "\n",
        "Getting #1139: http://yosemite.epa.gov/oeca/webeis.nsf/%28PDFView%29/20080200/%24file/20080200.PDF\n",
        "Getting #1140: http://yosemite.epa.gov/oeca/webeis.nsf/%28PDFView%29/20080194/%24file/20080194.PDF"
       ]
      },
      {
       "output_type": "stream",
       "stream": "stdout",
       "text": [
        "\n",
        "Getting #1141: http://yosemite.epa.gov/oeca/webeis.nsf/%28PDFView%29/20080192/%24file/20080192.PDF"
       ]
      },
      {
       "output_type": "stream",
       "stream": "stdout",
       "text": [
        "\n",
        "Getting #1142: http://yosemite.epa.gov/oeca/webeis.nsf/%28PDFView%29/20080191/%24file/20080191.PDF"
       ]
      },
      {
       "output_type": "stream",
       "stream": "stdout",
       "text": [
        "\n",
        "Getting #1143: http://yosemite.epa.gov/oeca/webeis.nsf/%28PDFView%29/20080169/%24file/20080169.PDF\n",
        "Getting #1144: http://yosemite.epa.gov/oeca/webeis.nsf/%28PDFView%29/20080167/%24file/20080167.PDF"
       ]
      },
      {
       "output_type": "stream",
       "stream": "stdout",
       "text": [
        "\n",
        "Getting #1145: http://yosemite.epa.gov/oeca/webeis.nsf/%28PDFView%29/20080172/%24file/20080172.PDF\n",
        "Getting #1146: http://yosemite.epa.gov/oeca/webeis.nsf/%28PDFView%29/20080175/%24file/20080175.PDF"
       ]
      },
      {
       "output_type": "stream",
       "stream": "stdout",
       "text": [
        "\n",
        "Getting #1147: http://yosemite.epa.gov/oeca/webeis.nsf/%28PDFView%29/20080166/%24file/20080166.PDF"
       ]
      },
      {
       "output_type": "stream",
       "stream": "stdout",
       "text": [
        "\n",
        "Getting #1148: http://yosemite.epa.gov/oeca/webeis.nsf/%28PDFView%29/20080174/%24file/20080174.PDF"
       ]
      },
      {
       "output_type": "stream",
       "stream": "stdout",
       "text": [
        "\n",
        "Getting #1149: http://yosemite.epa.gov/oeca/webeis.nsf/%28PDFView%29/20080168/%24file/20080168.PDF\n",
        "Getting #1150: http://yosemite.epa.gov/oeca/webeis.nsf/%28PDFView%29/20080170/%24file/20080170.PDF"
       ]
      },
      {
       "output_type": "stream",
       "stream": "stdout",
       "text": [
        "\n",
        "Getting #1151: http://yosemite.epa.gov/oeca/webeis.nsf/%28PDFView%29/20080176/%24file/20080176.PDF"
       ]
      },
      {
       "output_type": "stream",
       "stream": "stdout",
       "text": [
        "\n",
        "Getting #1152: http://yosemite.epa.gov/oeca/webeis.nsf/%28PDFView%29/20080177/%24file/20080177.PDF"
       ]
      },
      {
       "output_type": "stream",
       "stream": "stdout",
       "text": [
        "\n",
        "Getting #1153: http://yosemite.epa.gov/oeca/webeis.nsf/%28PDFView%29/20080155/%24file/20080155.PDF\n",
        "Getting #1154: http://yosemite.epa.gov/oeca/webeis.nsf/%28PDFView%29/20080160/%24file/20080160.PDF"
       ]
      },
      {
       "output_type": "stream",
       "stream": "stdout",
       "text": [
        "\n",
        "Getting #1155: http://yosemite.epa.gov/oeca/webeis.nsf/%28PDFView%29/20080147/%24file/20080147.PDF"
       ]
      },
      {
       "output_type": "stream",
       "stream": "stdout",
       "text": [
        "\n",
        "Getting #1156: http://yosemite.epa.gov/oeca/webeis.nsf/%28PDFView%29/20080151/%24file/20080151.PDF"
       ]
      },
      {
       "output_type": "stream",
       "stream": "stdout",
       "text": [
        "\n",
        "Getting #1157: http://yosemite.epa.gov/oeca/webeis.nsf/%28PDFView%29/20080148/%24file/20080148.PDF"
       ]
      },
      {
       "output_type": "stream",
       "stream": "stdout",
       "text": [
        "\n",
        "Getting #1158: http://yosemite.epa.gov/oeca/webeis.nsf/%28PDFView%29/20080137/%24file/20080137.PDF"
       ]
      },
      {
       "output_type": "stream",
       "stream": "stdout",
       "text": [
        "\n",
        "Getting #1159: http://yosemite.epa.gov/oeca/webeis.nsf/%28PDFView%29/20080130/%24file/20080130.PDF"
       ]
      },
      {
       "output_type": "stream",
       "stream": "stdout",
       "text": [
        "\n",
        "Getting #1160: http://yosemite.epa.gov/oeca/webeis.nsf/%28PDFView%29/20080131/%24file/20080131.PDF\n",
        "Getting #1161: http://yosemite.epa.gov/oeca/webeis.nsf/%28PDFView%29/20080126/%24file/20080126.PDF"
       ]
      },
      {
       "output_type": "stream",
       "stream": "stdout",
       "text": [
        "\n",
        "Getting #1162: http://yosemite.epa.gov/oeca/webeis.nsf/%28PDFView%29/20080132/%24file/20080132.PDF"
       ]
      },
      {
       "output_type": "stream",
       "stream": "stdout",
       "text": [
        "\n",
        "Getting #1163: http://yosemite.epa.gov/oeca/webeis.nsf/%28PDFView%29/20080122/%24file/20080122.PDF\n",
        "Getting #1164: http://yosemite.epa.gov/oeca/webeis.nsf/%28PDFView%29/20080117/%24file/20080117.PDF"
       ]
      },
      {
       "output_type": "stream",
       "stream": "stdout",
       "text": [
        "\n",
        "Getting #1165: http://yosemite.epa.gov/oeca/webeis.nsf/%28PDFView%29/20080119/%24file/20080119.PDF\n",
        "Getting #1166: http://yosemite.epa.gov/oeca/webeis.nsf/%28PDFView%29/20080124/%24file/20080124.PDF"
       ]
      },
      {
       "output_type": "stream",
       "stream": "stdout",
       "text": [
        "\n",
        "Getting #1167: http://yosemite.epa.gov/oeca/webeis.nsf/%28PDFView%29/20080106/%24file/20080106.PDF"
       ]
      },
      {
       "output_type": "stream",
       "stream": "stdout",
       "text": [
        "\n",
        "Getting #1168: http://yosemite.epa.gov/oeca/webeis.nsf/%28PDFView%29/20080109/%24file/20080109.PDF\n",
        "Getting #1169: http://yosemite.epa.gov/oeca/webeis.nsf/%28PDFView%29/20080105/%24file/20080105.PDF"
       ]
      },
      {
       "output_type": "stream",
       "stream": "stdout",
       "text": [
        "\n",
        "Getting #1170: http://yosemite.epa.gov/oeca/webeis.nsf/%28PDFView%29/20080094/%24file/20080094.PDF\n",
        "Getting #1171: http://yosemite.epa.gov/oeca/webeis.nsf/%28PDFView%29/20080091/%24file/20080091.PDF"
       ]
      },
      {
       "output_type": "stream",
       "stream": "stdout",
       "text": [
        "\n",
        "Getting #1172: http://yosemite.epa.gov/oeca/webeis.nsf/%28PDFView%29/20080100/%24file/20080100.PDF"
       ]
      },
      {
       "output_type": "stream",
       "stream": "stdout",
       "text": [
        "\n",
        "Getting #1173: http://yosemite.epa.gov/oeca/webeis.nsf/%28PDFView%29/20080080/%24file/20080080.PDF\n",
        "Getting #1174: http://yosemite.epa.gov/oeca/webeis.nsf/%28PDFView%29/20080082/%24file/20080082.PDF"
       ]
      },
      {
       "output_type": "stream",
       "stream": "stdout",
       "text": [
        "\n",
        "Getting #1175: http://yosemite.epa.gov/oeca/webeis.nsf/%28PDFView%29/20080084/%24file/20080084.PDF"
       ]
      },
      {
       "output_type": "stream",
       "stream": "stdout",
       "text": [
        "\n",
        "Getting #1176: http://yosemite.epa.gov/oeca/webeis.nsf/%28PDFView%29/20080083/%24file/20080083.PDF"
       ]
      },
      {
       "output_type": "stream",
       "stream": "stdout",
       "text": [
        "\n",
        "Getting #1177: http://yosemite.epa.gov/oeca/webeis.nsf/%28PDFView%29/20080075/%24file/20080075.PDF\n",
        "Getting #1178: http://yosemite.epa.gov/oeca/webeis.nsf/%28PDFView%29/20080076/%24file/20080076.PDF"
       ]
      },
      {
       "output_type": "stream",
       "stream": "stdout",
       "text": [
        "\n",
        "Getting #1179: http://yosemite.epa.gov/oeca/webeis.nsf/%28PDFView%29/20080078/%24file/20080078.PDF"
       ]
      },
      {
       "output_type": "stream",
       "stream": "stdout",
       "text": [
        "\n",
        "Getting #1180: http://yosemite.epa.gov/oeca/webeis.nsf/%28PDFView%29/20080079/%24file/20080079.PDF"
       ]
      },
      {
       "output_type": "stream",
       "stream": "stdout",
       "text": [
        "\n",
        "Getting #1181: http://yosemite.epa.gov/oeca/webeis.nsf/%28PDFView%29/20080060/%24file/20080060.PDF"
       ]
      },
      {
       "output_type": "stream",
       "stream": "stdout",
       "text": [
        "\n",
        "Getting #1182: http://yosemite.epa.gov/oeca/webeis.nsf/%28PDFView%29/20080059/%24file/20080059.PDF"
       ]
      },
      {
       "output_type": "stream",
       "stream": "stdout",
       "text": [
        "\n",
        "Getting #1183: http://yosemite.epa.gov/oeca/webeis.nsf/%28PDFView%29/20080057/%24file/20080057.PDF"
       ]
      },
      {
       "output_type": "stream",
       "stream": "stdout",
       "text": [
        "\n",
        "Getting #1184: http://yosemite.epa.gov/oeca/webeis.nsf/%28PDFView%29/20080061/%24file/20080061.PDF\n",
        "Getting #1185: http://yosemite.epa.gov/oeca/webeis.nsf/%28PDFView%29/20080063/%24file/20080063.PDF"
       ]
      },
      {
       "output_type": "stream",
       "stream": "stdout",
       "text": [
        "\n",
        "Getting #1186: http://yosemite.epa.gov/oeca/webeis.nsf/%28PDFView%29/20080056/%24file/20080056.PDF"
       ]
      },
      {
       "output_type": "stream",
       "stream": "stdout",
       "text": [
        "\n",
        "Getting #1187: http://yosemite.epa.gov/oeca/webeis.nsf/%28PDFView%29/20080055/%24file/20080055.PDF\n",
        "Getting #1188: http://yosemite.epa.gov/oeca/webeis.nsf/%28PDFView%29/20080051/%24file/20080051.PDF"
       ]
      },
      {
       "output_type": "stream",
       "stream": "stdout",
       "text": [
        "\n",
        "Getting #1189: http://yosemite.epa.gov/oeca/webeis.nsf/%28PDFView%29/20080047/%24file/20080047.PDF\n",
        "Getting #1190: http://yosemite.epa.gov/oeca/webeis.nsf/%28PDFView%29/20080046/%24file/20080046.PDF"
       ]
      },
      {
       "output_type": "stream",
       "stream": "stdout",
       "text": [
        "\n",
        "Getting #1191: http://yosemite.epa.gov/oeca/webeis.nsf/%28PDFView%29/20080042/%24file/20080042.PDF"
       ]
      },
      {
       "output_type": "stream",
       "stream": "stdout",
       "text": [
        "\n",
        "Getting #1192: http://yosemite.epa.gov/oeca/webeis.nsf/%28PDFView%29/20080037/%24file/20080037.PDF\n",
        "Getting #1193: http://yosemite.epa.gov/oeca/webeis.nsf/%28PDFView%29/20080031/%24file/20080031.PDF"
       ]
      },
      {
       "output_type": "stream",
       "stream": "stdout",
       "text": [
        "\n",
        "Getting #1194: http://yosemite.epa.gov/oeca/webeis.nsf/%28PDFView%29/20080032/%24file/20080032.PDF"
       ]
      },
      {
       "output_type": "stream",
       "stream": "stdout",
       "text": [
        "\n",
        "Getting #1195: http://yosemite.epa.gov/oeca/webeis.nsf/%28PDFView%29/20080021/%24file/20080021.PDF\n",
        "Getting #1196: http://yosemite.epa.gov/oeca/webeis.nsf/%28PDFView%29/20070543/%24file/20070543.PDF"
       ]
      },
      {
       "output_type": "stream",
       "stream": "stdout",
       "text": [
        "\n",
        "Getting #1197: http://yosemite.epa.gov/oeca/webeis.nsf/%28PDFView%29/20070528/%24file/20070528.PDF\n",
        "Getting #1198: http://yosemite.epa.gov/oeca/webeis.nsf/%28PDFView%29/20070526/%24file/20070526.PDF"
       ]
      },
      {
       "output_type": "stream",
       "stream": "stdout",
       "text": [
        "\n",
        "Getting #1199: http://yosemite.epa.gov/oeca/webeis.nsf/%28PDFView%29/20070534/%24file/20070534.PDF\n",
        "Getting #1200: http://yosemite.epa.gov/oeca/webeis.nsf/%28PDFView%29/20070514/%24file/20070514.PDF"
       ]
      },
      {
       "output_type": "stream",
       "stream": "stdout",
       "text": [
        "\n",
        "Getting #1201: http://yosemite.epa.gov/oeca/webeis.nsf/%28PDFView%29/20070508/%24file/20070508.PDF"
       ]
      },
      {
       "output_type": "stream",
       "stream": "stdout",
       "text": [
        "\n",
        "Getting #1202: http://yosemite.epa.gov/oeca/webeis.nsf/%28PDFView%29/20070500/%24file/20070500.PDF"
       ]
      },
      {
       "output_type": "stream",
       "stream": "stdout",
       "text": [
        "\n",
        "Getting #1203: http://yosemite.epa.gov/oeca/webeis.nsf/%28PDFView%29/20070503/%24file/20070503.PDF"
       ]
      },
      {
       "output_type": "stream",
       "stream": "stdout",
       "text": [
        "\n",
        "Getting #1204: http://yosemite.epa.gov/oeca/webeis.nsf/%28PDFView%29/20070487/%24file/20070487.PDF\n",
        "Getting #1205: http://yosemite.epa.gov/oeca/webeis.nsf/%28PDFView%29/20070481/%24file/20070481.PDF"
       ]
      },
      {
       "output_type": "stream",
       "stream": "stdout",
       "text": [
        "\n",
        "Getting #1206: http://yosemite.epa.gov/oeca/webeis.nsf/%28PDFView%29/20070480/%24file/20070480.PDF"
       ]
      },
      {
       "output_type": "stream",
       "stream": "stdout",
       "text": [
        "\n",
        "Getting #1207: http://yosemite.epa.gov/oeca/webeis.nsf/%28PDFView%29/20070491/%24file/20070491.PDF"
       ]
      },
      {
       "output_type": "stream",
       "stream": "stdout",
       "text": [
        "\n",
        "Getting #1208: http://yosemite.epa.gov/oeca/webeis.nsf/%28PDFView%29/20070485/%24file/20070485.PDF"
       ]
      },
      {
       "output_type": "stream",
       "stream": "stdout",
       "text": [
        "\n",
        "Getting #1209: http://yosemite.epa.gov/oeca/webeis.nsf/%28PDFView%29/20070493/%24file/20070493.PDF\n",
        "Getting #1210: http://yosemite.epa.gov/oeca/webeis.nsf/%28PDFView%29/20070478/%24file/20070478.PDF"
       ]
      },
      {
       "output_type": "stream",
       "stream": "stdout",
       "text": [
        "\n",
        "Getting #1211: http://yosemite.epa.gov/oeca/webeis.nsf/%28PDFView%29/20070463/%24file/20070463.PDF"
       ]
      },
      {
       "output_type": "stream",
       "stream": "stdout",
       "text": [
        "\n",
        "Getting #1212: http://yosemite.epa.gov/oeca/webeis.nsf/%28PDFView%29/20070455/%24file/20070455.PDF\n",
        "Getting #1213: http://yosemite.epa.gov/oeca/webeis.nsf/%28PDFView%29/20070451/%24file/20070451.PDF"
       ]
      },
      {
       "output_type": "stream",
       "stream": "stdout",
       "text": [
        "\n",
        "Getting #1214: http://yosemite.epa.gov/oeca/webeis.nsf/%28PDFView%29/20070428/%24file/20070428.PDF\n",
        "Getting #1215: http://yosemite.epa.gov/oeca/webeis.nsf/%28PDFView%29/20070423/%24file/20070423.PDF"
       ]
      },
      {
       "output_type": "stream",
       "stream": "stdout",
       "text": [
        "\n",
        "Getting #1216: http://yosemite.epa.gov/oeca/webeis.nsf/%28PDFView%29/20070413/%24file/20070413.PDF"
       ]
      },
      {
       "output_type": "stream",
       "stream": "stdout",
       "text": [
        "\n",
        "Getting #1217: http://yosemite.epa.gov/oeca/webeis.nsf/%28PDFView%29/20070427/%24file/20070427.PDF\n",
        "Getting #1218: http://yosemite.epa.gov/oeca/webeis.nsf/%28PDFView%29/20070414/%24file/20070414.PDF"
       ]
      },
      {
       "output_type": "stream",
       "stream": "stdout",
       "text": [
        "\n",
        "Getting #1219: http://yosemite.epa.gov/oeca/webeis.nsf/%28PDFView%29/20070420/%24file/20070420.PDF\n",
        "Getting #1220: http://yosemite.epa.gov/oeca/webeis.nsf/%28PDFView%29/20070405/%24file/20070405.PDF"
       ]
      },
      {
       "output_type": "stream",
       "stream": "stdout",
       "text": [
        "\n",
        "Getting #1221: http://yosemite.epa.gov/oeca/webeis.nsf/%28PDFView%29/20070407/%24file/20070407.PDF"
       ]
      },
      {
       "output_type": "stream",
       "stream": "stdout",
       "text": [
        "\n",
        "Getting #1222: http://yosemite.epa.gov/oeca/webeis.nsf/%28PDFView%29/20070408/%24file/20070408.PDF"
       ]
      },
      {
       "output_type": "stream",
       "stream": "stdout",
       "text": [
        "\n",
        "Getting #1223: http://yosemite.epa.gov/oeca/webeis.nsf/%28PDFView%29/20070406/%24file/20070406.PDF\n",
        "Getting #1224: http://yosemite.epa.gov/oeca/webeis.nsf/%28PDFView%29/20070396/%24file/20070396.PDF"
       ]
      },
      {
       "output_type": "stream",
       "stream": "stdout",
       "text": [
        "\n",
        "Getting #1225: http://yosemite.epa.gov/oeca/webeis.nsf/%28PDFView%29/20070397/%24file/20070397.PDF\n",
        "Getting #1226: http://yosemite.epa.gov/oeca/webeis.nsf/%28PDFView%29/20070390/%24file/20070390.PDF"
       ]
      },
      {
       "output_type": "stream",
       "stream": "stdout",
       "text": [
        "\n",
        "Getting #1227: http://yosemite.epa.gov/oeca/webeis.nsf/%28PDFView%29/20070392/%24file/20070392.PDF\n",
        "Getting #1228: http://yosemite.epa.gov/oeca/webeis.nsf/%28PDFView%29/20070393/%24file/20070393.PDF"
       ]
      },
      {
       "output_type": "stream",
       "stream": "stdout",
       "text": [
        "\n",
        "Getting #1229: http://yosemite.epa.gov/oeca/webeis.nsf/%28PDFView%29/20070382/%24file/20070382.PDF"
       ]
      },
      {
       "output_type": "stream",
       "stream": "stdout",
       "text": [
        "\n",
        "Getting #1230: http://yosemite.epa.gov/oeca/webeis.nsf/%28PDFView%29/20070379/%24file/20070379.PDF"
       ]
      },
      {
       "output_type": "stream",
       "stream": "stdout",
       "text": [
        "\n",
        "Getting #1231: http://yosemite.epa.gov/oeca/webeis.nsf/%28PDFView%29/20070380/%24file/20070380.PDF"
       ]
      },
      {
       "output_type": "stream",
       "stream": "stdout",
       "text": [
        "\n",
        "Getting #1232: http://yosemite.epa.gov/oeca/webeis.nsf/%28PDFView%29/20070387/%24file/20070387.PDF"
       ]
      },
      {
       "output_type": "stream",
       "stream": "stdout",
       "text": [
        "\n",
        "Getting #1233: http://yosemite.epa.gov/oeca/webeis.nsf/%28PDFView%29/20070381/%24file/20070381.PDF\n",
        "Getting #1234: http://yosemite.epa.gov/oeca/webeis.nsf/%28PDFView%29/20070375/%24file/20070375.PDF"
       ]
      },
      {
       "output_type": "stream",
       "stream": "stdout",
       "text": [
        "\n",
        "Getting #1235: http://yosemite.epa.gov/oeca/webeis.nsf/%28PDFView%29/20070378/%24file/20070378.PDF\n",
        "Getting #1236: http://yosemite.epa.gov/oeca/webeis.nsf/%28PDFView%29/20070367/%24file/20070367.PDF"
       ]
      },
      {
       "output_type": "stream",
       "stream": "stdout",
       "text": [
        "\n",
        "Getting #1237: http://yosemite.epa.gov/oeca/webeis.nsf/%28PDFView%29/20070370/%24file/20070370.PDF"
       ]
      },
      {
       "output_type": "stream",
       "stream": "stdout",
       "text": [
        "\n",
        "Getting #1238: http://yosemite.epa.gov/oeca/webeis.nsf/%28PDFView%29/20070363/%24file/20070363.PDF"
       ]
      },
      {
       "output_type": "stream",
       "stream": "stdout",
       "text": [
        "\n",
        "Getting #1239: http://yosemite.epa.gov/oeca/webeis.nsf/%28PDFView%29/20070346/%24file/20070346.PDF\n",
        "Getting #1240: http://yosemite.epa.gov/oeca/webeis.nsf/%28PDFView%29/20070352/%24file/20070352.PDF"
       ]
      },
      {
       "output_type": "stream",
       "stream": "stdout",
       "text": [
        "\n",
        "Getting #1241: http://yosemite.epa.gov/oeca/webeis.nsf/%28PDFView%29/20070339/%24file/20070339.PDF"
       ]
      },
      {
       "output_type": "stream",
       "stream": "stdout",
       "text": [
        "\n",
        "Getting #1242: http://yosemite.epa.gov/oeca/webeis.nsf/%28PDFView%29/20070333/%24file/20070333.PDF\n",
        "Getting #1243: http://yosemite.epa.gov/oeca/webeis.nsf/%28PDFView%29/20070311/%24file/20070311.PDF"
       ]
      },
      {
       "output_type": "stream",
       "stream": "stdout",
       "text": [
        "\n",
        "Getting #1244: http://yosemite.epa.gov/oeca/webeis.nsf/%28PDFView%29/20070310/%24file/20070310.PDF"
       ]
      },
      {
       "output_type": "stream",
       "stream": "stdout",
       "text": [
        "\n",
        "Getting #1245: http://yosemite.epa.gov/oeca/webeis.nsf/%28PDFView%29/20070312/%24file/20070312.PDF\n",
        "Getting #1246: http://yosemite.epa.gov/oeca/webeis.nsf/%28PDFView%29/20070297/%24file/20070297.PDF"
       ]
      },
      {
       "output_type": "stream",
       "stream": "stdout",
       "text": [
        "\n",
        "Getting #1247: http://yosemite.epa.gov/oeca/webeis.nsf/%28PDFView%29/20070298/%24file/20070298.PDF\n",
        "Getting #1248: http://yosemite.epa.gov/oeca/webeis.nsf/%28PDFView%29/20070296/%24file/20070296.PDF"
       ]
      },
      {
       "output_type": "stream",
       "stream": "stdout",
       "text": [
        "\n",
        "Getting #1249: http://yosemite.epa.gov/oeca/webeis.nsf/%28PDFView%29/20070295/%24file/20070295.PDF\n",
        "Getting #1250: http://yosemite.epa.gov/oeca/webeis.nsf/%28PDFView%29/20070299/%24file/20070299.PDF"
       ]
      },
      {
       "output_type": "stream",
       "stream": "stdout",
       "text": [
        "\n",
        "Getting #1251: http://yosemite.epa.gov/oeca/webeis.nsf/%28PDFView%29/20070304/%24file/20070304.PDF"
       ]
      },
      {
       "output_type": "stream",
       "stream": "stdout",
       "text": [
        "\n",
        "Getting #1252: http://yosemite.epa.gov/oeca/webeis.nsf/%28PDFView%29/20070285/%24file/20070285.PDF"
       ]
      },
      {
       "output_type": "stream",
       "stream": "stdout",
       "text": [
        "\n",
        "Getting #1253: http://yosemite.epa.gov/oeca/webeis.nsf/%28PDFView%29/20070281/%24file/20070281.PDF"
       ]
      },
      {
       "output_type": "stream",
       "stream": "stdout",
       "text": [
        "\n",
        "Getting #1254: http://yosemite.epa.gov/oeca/webeis.nsf/%28PDFView%29/20070282/%24file/20070282.PDF"
       ]
      },
      {
       "output_type": "stream",
       "stream": "stdout",
       "text": [
        "\n",
        "Getting #1255: http://yosemite.epa.gov/oeca/webeis.nsf/%28PDFView%29/20070293/%24file/20070293.PDF"
       ]
      },
      {
       "output_type": "stream",
       "stream": "stdout",
       "text": [
        "\n",
        "Getting #1256: http://yosemite.epa.gov/oeca/webeis.nsf/%28PDFView%29/20070289/%24file/20070289.PDF"
       ]
      },
      {
       "output_type": "stream",
       "stream": "stdout",
       "text": [
        "\n",
        "Getting #1257: http://yosemite.epa.gov/oeca/webeis.nsf/%28PDFView%29/20070284/%24file/20070284.PDF\n",
        "Getting #1258: http://yosemite.epa.gov/oeca/webeis.nsf/%28PDFView%29/20070274/%24file/20070274.PDF"
       ]
      },
      {
       "output_type": "stream",
       "stream": "stdout",
       "text": [
        "\n",
        "Getting #1259: http://yosemite.epa.gov/oeca/webeis.nsf/%28PDFView%29/20070276/%24file/20070276.PDF\n",
        "Getting #1260: http://yosemite.epa.gov/oeca/webeis.nsf/%28PDFView%29/20070271/%24file/20070271.PDF"
       ]
      },
      {
       "output_type": "stream",
       "stream": "stdout",
       "text": [
        "\n",
        "Getting #1261: http://yosemite.epa.gov/oeca/webeis.nsf/%28PDFView%29/20070279/%24file/20070279.PDF"
       ]
      },
      {
       "output_type": "stream",
       "stream": "stdout",
       "text": [
        "\n",
        "Getting #1262: http://yosemite.epa.gov/oeca/webeis.nsf/%28PDFView%29/20070265/%24file/20070265.PDF"
       ]
      },
      {
       "output_type": "stream",
       "stream": "stdout",
       "text": [
        "\n",
        "Getting #1263: http://yosemite.epa.gov/oeca/webeis.nsf/%28PDFView%29/20070266/%24file/20070266.PDF"
       ]
      },
      {
       "output_type": "stream",
       "stream": "stdout",
       "text": [
        "\n",
        "Getting #1264: http://yosemite.epa.gov/oeca/webeis.nsf/%28PDFView%29/20070260/%24file/20070260.PDF\n",
        "Getting #1265: http://yosemite.epa.gov/oeca/webeis.nsf/%28PDFView%29/20070263/%24file/20070263.PDF"
       ]
      },
      {
       "output_type": "stream",
       "stream": "stdout",
       "text": [
        "\n",
        "Getting #1266: http://yosemite.epa.gov/oeca/webeis.nsf/%28PDFView%29/20070258/%24file/20070258.PDF"
       ]
      },
      {
       "output_type": "stream",
       "stream": "stdout",
       "text": [
        "\n",
        "Getting #1267: http://yosemite.epa.gov/oeca/webeis.nsf/%28PDFView%29/20070249/%24file/20070249.PDF"
       ]
      },
      {
       "output_type": "stream",
       "stream": "stdout",
       "text": [
        "\n",
        "Getting #1268: http://yosemite.epa.gov/oeca/webeis.nsf/%28PDFView%29/20070256/%24file/20070256.PDF\n",
        "Getting #1269: http://yosemite.epa.gov/oeca/webeis.nsf/%28PDFView%29/20070248/%24file/20070248.PDF"
       ]
      },
      {
       "output_type": "stream",
       "stream": "stdout",
       "text": [
        "\n",
        "Getting #1270: http://yosemite.epa.gov/oeca/webeis.nsf/%28PDFView%29/20070242/%24file/20070242.PDF\n",
        "Getting #1271: http://yosemite.epa.gov/oeca/webeis.nsf/%28PDFView%29/20070240/%24file/20070240.PDF"
       ]
      },
      {
       "output_type": "stream",
       "stream": "stdout",
       "text": [
        "\n",
        "Getting #1272: http://yosemite.epa.gov/oeca/webeis.nsf/%28PDFView%29/20070238/%24file/20070238.PDF"
       ]
      },
      {
       "output_type": "stream",
       "stream": "stdout",
       "text": [
        "\n",
        "Getting #1273: http://yosemite.epa.gov/oeca/webeis.nsf/%28PDFView%29/20070239/%24file/20070239.PDF"
       ]
      },
      {
       "output_type": "stream",
       "stream": "stdout",
       "text": [
        "\n",
        "Getting #1274: http://yosemite.epa.gov/oeca/webeis.nsf/%28PDFView%29/20070225/%24file/20070225.PDF"
       ]
      },
      {
       "output_type": "stream",
       "stream": "stdout",
       "text": [
        "\n",
        "Getting #1275: http://yosemite.epa.gov/oeca/webeis.nsf/%28PDFView%29/20070226/%24file/20070226.PDF\n",
        "Getting #1276: http://yosemite.epa.gov/oeca/webeis.nsf/%28PDFView%29/20070229/%24file/20070229.PDF"
       ]
      },
      {
       "output_type": "stream",
       "stream": "stdout",
       "text": [
        "\n",
        "Getting #1277: http://yosemite.epa.gov/oeca/webeis.nsf/%28PDFView%29/20070219/%24file/20070219.PDF"
       ]
      },
      {
       "output_type": "stream",
       "stream": "stdout",
       "text": [
        "\n",
        "Getting #1278: http://yosemite.epa.gov/oeca/webeis.nsf/%28PDFView%29/20070211/%24file/20070211.PDF"
       ]
      },
      {
       "output_type": "stream",
       "stream": "stdout",
       "text": [
        "\n",
        "Getting #1279: http://yosemite.epa.gov/oeca/webeis.nsf/%28PDFView%29/20070205/%24file/20070205.PDF\n",
        "Getting #1280: http://yosemite.epa.gov/oeca/webeis.nsf/%28PDFView%29/20070207/%24file/20070207.PDF"
       ]
      },
      {
       "output_type": "stream",
       "stream": "stdout",
       "text": [
        "\n",
        "Getting #1281: http://yosemite.epa.gov/oeca/webeis.nsf/%28PDFView%29/20070216/%24file/20070216.PDF"
       ]
      },
      {
       "output_type": "stream",
       "stream": "stdout",
       "text": [
        "\n",
        "Getting #1282: http://yosemite.epa.gov/oeca/webeis.nsf/%28PDFView%29/20070200/%24file/20070200.PDF\n",
        "Getting #1283: http://yosemite.epa.gov/oeca/webeis.nsf/%28PDFView%29/20070202/%24file/20070202.PDF"
       ]
      },
      {
       "output_type": "stream",
       "stream": "stdout",
       "text": [
        "\n",
        "Getting #1284: http://yosemite.epa.gov/oeca/webeis.nsf/%28PDFView%29/20070195/%24file/20070195.PDF\n",
        "Getting #1285: http://yosemite.epa.gov/oeca/webeis.nsf/%28PDFView%29/20070194/%24file/20070194.PDF"
       ]
      },
      {
       "output_type": "stream",
       "stream": "stdout",
       "text": [
        "\n",
        "Getting #1286: http://yosemite.epa.gov/oeca/webeis.nsf/%28PDFView%29/20070203/%24file/20070203.PDF"
       ]
      },
      {
       "output_type": "stream",
       "stream": "stdout",
       "text": [
        "\n",
        "Getting #1287: http://yosemite.epa.gov/oeca/webeis.nsf/%28PDFView%29/20070196/%24file/20070196.PDF"
       ]
      },
      {
       "output_type": "stream",
       "stream": "stdout",
       "text": [
        "\n",
        "Getting #1288: http://yosemite.epa.gov/oeca/webeis.nsf/%28PDFView%29/20070197/%24file/20070197.PDF\n",
        "Getting #1289: http://yosemite.epa.gov/oeca/webeis.nsf/%28PDFView%29/20070184/%24file/20070184.PDF"
       ]
      },
      {
       "output_type": "stream",
       "stream": "stdout",
       "text": [
        "\n",
        "Getting #1290: http://yosemite.epa.gov/oeca/webeis.nsf/%28PDFView%29/20070190/%24file/20070190.PDF\n",
        "Getting #1291: http://yosemite.epa.gov/oeca/webeis.nsf/%28PDFView%29/20070177/%24file/20070177.PDF"
       ]
      },
      {
       "output_type": "stream",
       "stream": "stdout",
       "text": [
        "\n",
        "Getting #1292: http://yosemite.epa.gov/oeca/webeis.nsf/%28PDFView%29/20070178/%24file/20070178.PDF\n",
        "Getting #1293: http://yosemite.epa.gov/oeca/webeis.nsf/%28PDFView%29/20070176/%24file/20070176.PDF"
       ]
      },
      {
       "output_type": "stream",
       "stream": "stdout",
       "text": [
        "\n",
        "Getting #1294: http://yosemite.epa.gov/oeca/webeis.nsf/%28PDFView%29/20070179/%24file/20070179.PDF"
       ]
      },
      {
       "output_type": "stream",
       "stream": "stdout",
       "text": [
        "\n",
        "Getting #1295: http://yosemite.epa.gov/oeca/webeis.nsf/%28PDFView%29/20070164/%24file/20070164.PDF\n",
        "Getting #1296: http://yosemite.epa.gov/oeca/webeis.nsf/%28PDFView%29/20070166/%24file/20070166.PDF"
       ]
      },
      {
       "output_type": "stream",
       "stream": "stdout",
       "text": [
        "\n",
        "Getting #1297: http://yosemite.epa.gov/oeca/webeis.nsf/%28PDFView%29/20070167/%24file/20070167.PDF\n",
        "Getting #1298: http://yosemite.epa.gov/oeca/webeis.nsf/%28PDFView%29/20070145/%24file/20070145.PDF"
       ]
      },
      {
       "output_type": "stream",
       "stream": "stdout",
       "text": [
        "\n",
        "Getting #1299: http://yosemite.epa.gov/oeca/webeis.nsf/%28PDFView%29/20070141/%24file/20070141.PDF"
       ]
      },
      {
       "output_type": "stream",
       "stream": "stdout",
       "text": [
        "\n",
        "Getting #1300: http://yosemite.epa.gov/oeca/webeis.nsf/%28PDFView%29/20070137/%24file/20070137.PDF\n",
        "Getting #1301: http://yosemite.epa.gov/oeca/webeis.nsf/%28PDFView%29/20070135/%24file/20070135.PDF"
       ]
      },
      {
       "output_type": "stream",
       "stream": "stdout",
       "text": [
        "\n",
        "Getting #1302: http://yosemite.epa.gov/oeca/webeis.nsf/%28PDFView%29/20070132/%24file/20070132.PDF\n",
        "Getting #1303: http://yosemite.epa.gov/oeca/webeis.nsf/%28PDFView%29/20070126/%24file/20070126.PDF"
       ]
      },
      {
       "output_type": "stream",
       "stream": "stdout",
       "text": [
        "\n",
        "Getting #1304: http://yosemite.epa.gov/oeca/webeis.nsf/%28PDFView%29/20070108/%24file/20070108.PDF"
       ]
      },
      {
       "output_type": "stream",
       "stream": "stdout",
       "text": [
        "\n",
        "Getting #1305: http://yosemite.epa.gov/oeca/webeis.nsf/%28PDFView%29/20070116/%24file/20070116.PDF"
       ]
      },
      {
       "output_type": "stream",
       "stream": "stdout",
       "text": [
        "\n",
        "Getting #1306: http://yosemite.epa.gov/oeca/webeis.nsf/%28PDFView%29/20070117/%24file/20070117.PDF"
       ]
      },
      {
       "output_type": "stream",
       "stream": "stdout",
       "text": [
        "\n",
        "Getting #1307: http://yosemite.epa.gov/oeca/webeis.nsf/%28PDFView%29/20070093/%24file/20070093.PDF\n",
        "Getting #1308: http://yosemite.epa.gov/oeca/webeis.nsf/%28PDFView%29/20070095/%24file/20070095.PDF"
       ]
      },
      {
       "output_type": "stream",
       "stream": "stdout",
       "text": [
        "\n",
        "Getting #1309: http://yosemite.epa.gov/oeca/webeis.nsf/%28PDFView%29/20070098/%24file/20070098.PDF\n",
        "Getting #1310: http://yosemite.epa.gov/oeca/webeis.nsf/%28PDFView%29/20070079/%24file/20070079.PDF"
       ]
      },
      {
       "output_type": "stream",
       "stream": "stdout",
       "text": [
        "\n",
        "Getting #1311: http://yosemite.epa.gov/oeca/webeis.nsf/%28PDFView%29/20070077/%24file/20070077.PDF"
       ]
      },
      {
       "output_type": "stream",
       "stream": "stdout",
       "text": [
        "\n",
        "Getting #1312: http://yosemite.epa.gov/oeca/webeis.nsf/%28PDFView%29/20070083/%24file/20070083.PDF"
       ]
      },
      {
       "output_type": "stream",
       "stream": "stdout",
       "text": [
        "\n",
        "Getting #1313: http://yosemite.epa.gov/oeca/webeis.nsf/%28PDFView%29/20070085/%24file/20070085.PDF"
       ]
      },
      {
       "output_type": "stream",
       "stream": "stdout",
       "text": [
        "\n",
        "Getting #1314: http://yosemite.epa.gov/oeca/webeis.nsf/%28PDFView%29/20070067/%24file/20070067.PDF\n",
        "Getting #1315: http://yosemite.epa.gov/oeca/webeis.nsf/%28PDFView%29/20070053/%24file/20070053.PDF"
       ]
      },
      {
       "output_type": "stream",
       "stream": "stdout",
       "text": [
        "\n",
        "Getting #1316: http://yosemite.epa.gov/oeca/webeis.nsf/%28PDFView%29/20070055/%24file/20070055.PDF"
       ]
      },
      {
       "output_type": "stream",
       "stream": "stdout",
       "text": [
        "\n",
        "Getting #1317: http://yosemite.epa.gov/oeca/webeis.nsf/%28PDFView%29/20070044/%24file/20070044.PDF\n",
        "Getting #1318: http://yosemite.epa.gov/oeca/webeis.nsf/%28PDFView%29/20070032/%24file/20070032.PDF"
       ]
      },
      {
       "output_type": "stream",
       "stream": "stdout",
       "text": [
        "\n",
        "Getting #1319: http://yosemite.epa.gov/oeca/webeis.nsf/%28PDFView%29/20070036/%24file/20070036.PDF"
       ]
      },
      {
       "output_type": "stream",
       "stream": "stdout",
       "text": [
        "\n",
        "Getting #1320: http://yosemite.epa.gov/oeca/webeis.nsf/%28PDFView%29/20070003/%24file/20070003.PDF"
       ]
      },
      {
       "output_type": "stream",
       "stream": "stdout",
       "text": [
        "\n",
        "Getting #1321: http://yosemite.epa.gov/oeca/webeis.nsf/%28PDFView%29/20060539/%24file/20060539.PDF"
       ]
      },
      {
       "output_type": "stream",
       "stream": "stdout",
       "text": [
        "\n",
        "Getting #1322: http://yosemite.epa.gov/oeca/webeis.nsf/%28PDFView%29/20060385/%24file/20060385.PDF\n",
        "Getting #1323: http://yosemite.epa.gov/oeca/webeis.nsf/%28PDFView%29/20060270/%24file/20060270.PDF"
       ]
      },
      {
       "output_type": "stream",
       "stream": "stdout",
       "text": [
        "\n",
        "Getting #1324: http://yosemite.epa.gov/oeca/webeis.nsf/%28PDFView%29/20060271/%24file/20060271.PDF"
       ]
      },
      {
       "output_type": "stream",
       "stream": "stdout",
       "text": [
        "\n",
        "Getting #1325: http://yosemite.epa.gov/oeca/webeis.nsf/%28PDFView%29/20060253/%24file/20060253.PDF\n",
        "Getting #1326: http://yosemite.epa.gov/oeca/webeis.nsf/%28PDFView%29/20060178/%24file/20060178.PDF"
       ]
      },
      {
       "output_type": "stream",
       "stream": "stdout",
       "text": [
        "\n",
        "Getting #1327: http://yosemite.epa.gov/oeca/webeis.nsf/%28PDFView%29/20060172/%24file/20060172.PDF\n",
        "Getting #1328: http://yosemite.epa.gov/oeca/webeis.nsf/%28PDFView%29/20060164/%24file/20060164.PDF"
       ]
      },
      {
       "output_type": "stream",
       "stream": "stdout",
       "text": [
        "\n",
        "Getting #1329: http://yosemite.epa.gov/oeca/webeis.nsf/%28PDFView%29/20060123/%24file/20060123.PDF\n",
        "Getting #1330: http://yosemite.epa.gov/oeca/webeis.nsf/%28PDFView%29/20060084/%24file/20060084.PDF"
       ]
      },
      {
       "output_type": "stream",
       "stream": "stdout",
       "text": [
        "\n",
        "Getting #1331: http://yosemite.epa.gov/oeca/webeis.nsf/%28PDFView%29/20060075/%24file/20060075.PDF"
       ]
      },
      {
       "output_type": "stream",
       "stream": "stdout",
       "text": [
        "\n",
        "Getting #1332: http://yosemite.epa.gov/oeca/webeis.nsf/%28PDFView%29/20060062/%24file/20060062.PDF"
       ]
      },
      {
       "output_type": "stream",
       "stream": "stdout",
       "text": [
        "\n",
        "Getting #1333: http://yosemite.epa.gov/oeca/webeis.nsf/%28PDFView%29/20130165/%24file/20130165.PDF"
       ]
      },
      {
       "output_type": "stream",
       "stream": "stdout",
       "text": [
        "\n"
       ]
      }
     ],
     "prompt_number": 5
    },
    {
     "cell_type": "code",
     "collapsed": false,
     "input": [
      "df.to_csv('comment_letters_metadata.csv', encoding='utf-8')\n",
      "df_missing_files.shape[0]"
     ],
     "language": "python",
     "metadata": {},
     "outputs": [
      {
       "metadata": {},
       "output_type": "pyout",
       "prompt_number": 6,
       "text": [
        "0"
       ]
      }
     ],
     "prompt_number": 6
    },
    {
     "cell_type": "code",
     "collapsed": false,
     "input": [
      "size = df['content_length'].astype(int).sum()"
     ],
     "language": "python",
     "metadata": {},
     "outputs": [],
     "prompt_number": 7
    },
    {
     "cell_type": "code",
     "collapsed": false,
     "input": [
      "size/1000000"
     ],
     "language": "python",
     "metadata": {},
     "outputs": [
      {
       "metadata": {},
       "output_type": "pyout",
       "prompt_number": 8,
       "text": [
        "957"
       ]
      }
     ],
     "prompt_number": 8
    },
    {
     "cell_type": "code",
     "collapsed": false,
     "input": [],
     "language": "python",
     "metadata": {},
     "outputs": []
    }
   ],
   "metadata": {}
  }
 ]
}