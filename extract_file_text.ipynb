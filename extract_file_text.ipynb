{
 "metadata": {
  "name": "",
  "signature": "sha256:c45338ace857f38a3805a7d595464926624ccda7da7278ef493f5a7b8ad0efe3"
 },
 "nbformat": 3,
 "nbformat_minor": 0,
 "worksheets": [
  {
   "cells": [
    {
     "cell_type": "code",
     "collapsed": false,
     "input": [
      "#PDF Miner\n",
      "from pdfminer.pdfinterp import PDFResourceManager, PDFPageInterpreter\n",
      "from pdfminer.converter import TextConverter\n",
      "from pdfminer.layout import LAParams\n",
      "from pdfminer.pdfpage import PDFPage\n",
      "from cStringIO import StringIO\n",
      "\n",
      "#S3\n",
      "from boto.s3.connection import S3Connection\n",
      "from boto.s3.key import Key\n",
      "\n",
      "#pandas\n",
      "import pandas as pd\n",
      "\n",
      "#misc\n",
      "import urllib2\n",
      "import json\n",
      "import csv\n",
      "import re\n",
      "import os\n",
      "import subprocess"
     ],
     "language": "python",
     "metadata": {},
     "outputs": [],
     "prompt_number": 2
    },
    {
     "cell_type": "code",
     "collapsed": false,
     "input": [
      "json_data=open('k.json')\n",
      "keys = json.load(json_data)\n",
      "json_data.close()\n",
      "conn = S3Connection(keys['aws_key'], keys['aws_secret'])\n",
      "bucket = conn.get_bucket('epaeis')\n",
      "bucket.list()"
     ],
     "language": "python",
     "metadata": {},
     "outputs": [
      {
       "metadata": {},
       "output_type": "pyout",
       "prompt_number": 3,
       "text": [
        "<boto.s3.bucketlistresultset.BucketListResultSet at 0x104c45b50>"
       ]
      }
     ],
     "prompt_number": 3
    },
    {
     "cell_type": "code",
     "collapsed": false,
     "input": [
      "columns = ['eis', 'link', 'error']\n",
      "df_missing_files = pd.DataFrame(columns=columns)"
     ],
     "language": "python",
     "metadata": {},
     "outputs": [],
     "prompt_number": 4
    },
    {
     "cell_type": "code",
     "collapsed": false,
     "input": [
      "def convert_pdf_to_txt(path):\n",
      "    rsrcmgr = PDFResourceManager()\n",
      "    retstr = StringIO()\n",
      "    codec = 'utf-8'\n",
      "    laparams = LAParams()\n",
      "    device = TextConverter(rsrcmgr, retstr, codec=codec, laparams=laparams)\n",
      "    fp = file(path, 'rb')\n",
      "    interpreter = PDFPageInterpreter(rsrcmgr, device)\n",
      "    password = \"\"\n",
      "    maxpages = 0\n",
      "    caching = True\n",
      "    pagenos=set()\n",
      "    for page in PDFPage.get_pages(fp, pagenos, maxpages=maxpages, password=password,caching=caching, check_extractable=True):\n",
      "        interpreter.process_page(page)\n",
      "    fp.close()\n",
      "    device.close()\n",
      "    str = retstr.getvalue()\n",
      "    retstr.close()\n",
      "    return str"
     ],
     "language": "python",
     "metadata": {},
     "outputs": [],
     "prompt_number": 5
    },
    {
     "cell_type": "code",
     "collapsed": false,
     "input": [
      "def url_to_filename(url, date, eis):\n",
      "    file_name = urllib2.unquote(url)\n",
      "    file_name = file_name[file_name.index('$file')+6:].replace(\".pdf\",\"\").replace(\".PDF\", \"\")\n",
      "    file_name = re.sub(r'([^\\s\\w])+', '', file_name).replace(\" \", \"-\").lower() + \".pdf\"\n",
      "    file_name = date.replace(\"/\", \"-\") + \"/\" + eis + \"/\" + file_name\n",
      "    return file_name"
     ],
     "language": "python",
     "metadata": {},
     "outputs": [],
     "prompt_number": 11
    },
    {
     "cell_type": "code",
     "collapsed": false,
     "input": [
      "l = 'http://yosemite.epa.gov/oeca/webeis.nsf/%28PDFView%29/20130001/%24file/20130001.PDF'\n",
      "file_name = url_to_filename(l, '01/11/2013', '20130001')\n",
      "key = bucket.get_key(file_name)\n",
      "print file_name"
     ],
     "language": "python",
     "metadata": {},
     "outputs": [
      {
       "output_type": "stream",
       "stream": "stdout",
       "text": [
        "01-11-2013/20130001/20130001.pdf\n"
       ]
      }
     ],
     "prompt_number": 12
    },
    {
     "cell_type": "code",
     "collapsed": false,
     "input": [
      "l = 'http://yosemite.epa.gov/oeca/webeis.nsf/%28PDFView%29/20130001/%24file/20130001.PDF'\n",
      "file_name = url_to_filename(l, '01/11/2013', '20130001')\n",
      "if bucket.get_key(key.name.replace(\".pdf\", \".txt\")):\n",
      "    print \"Text file exists\"\n",
      "else:\n",
      "    key = bucket.get_key(file_name)\n",
      "    res = key.get_contents_to_filename('myfile.pdf')\n",
      "    #file_text = convert_pdf_to_txt('myfile.pdf')\n",
      "    subprocess.check_output(['pdftotext', \"myfile.pdf\"])\n",
      "    os.remove('myfile.pdf')\n",
      "    #file_text = open(key.name.replace(\".pdf\", \".txt\"))\n",
      "    new_key = Key(bucket)\n",
      "    new_key.key = key.name.replace(\".pdf\", \".txt\")\n",
      "    f = open(\"myfile.txt\", mode='r'))\n",
      "    new_key.set_contents_from_file(f)\n",
      "    f.close()\n",
      "    os.remove(\"myfile.txt\")"
     ],
     "language": "python",
     "metadata": {},
     "outputs": [],
     "prompt_number": 15
    },
    {
     "cell_type": "code",
     "collapsed": false,
     "input": [
      "#old version with PDFMiner\n",
      "l = 'http://yosemite.epa.gov/oeca/webeis.nsf/%28EISDocs%29/20140244/%24file/Appendix%20B.pdf'\n",
      "file_name = url_to_filename(l, '9/5/14', '20140244')\n",
      "if bucket.get_key(key.name.replace(\".pdf\", \".txt\")):\n",
      "    print \"Text file exists\"\n",
      "else:\n",
      "    key = bucket.get_key(file_name)\n",
      "    res = key.get_contents_to_filename('myfile.pdf')\n",
      "    %time file_text = convert_pdf_to_txt('myfile.pdf')\n",
      "    #subprocess.check_output(['pdftotext', \"myfile.pdf\"])\n",
      "    os.remove('myfile.pdf')\n",
      "    #file_text = open(key.name.replace(\".pdf\", \".txt\"))\n",
      "    new_key = Key(bucket)\n",
      "    new_key.key = key.name.replace(\".pdf\", \".txt\")\n",
      "    #f = open(\"myfile.txt\", mode='r'))\n",
      "    new_key.set_contents_from_string(file_text)\n",
      "    #f.close()\n",
      "    #os.remove(\"myfile.txt\")"
     ],
     "language": "python",
     "metadata": {},
     "outputs": [
      {
       "output_type": "stream",
       "stream": "stdout",
       "text": [
        "Text file exists\n"
       ]
      }
     ],
     "prompt_number": 17
    },
    {
     "cell_type": "code",
     "collapsed": false,
     "input": [],
     "language": "python",
     "metadata": {},
     "outputs": []
    },
    {
     "cell_type": "code",
     "collapsed": false,
     "input": [
      "text_file = open(\"Output.txt\", \"w\")\n",
      "text_file.write(\"Purchase Amount: %s\" % TotalAmount)\n",
      "text_file.close()"
     ],
     "language": "python",
     "metadata": {},
     "outputs": []
    },
    {
     "cell_type": "code",
     "collapsed": false,
     "input": [
      "def convert_files():\n",
      "    index_missing = 0\n",
      "    with open('reports.csv', mode='r') as infile:\n",
      "        reader = csv.reader(infile)\n",
      "        for row in reader:\n",
      "            if row[21] != 'list_of_links' and row[20] !=0:\n",
      "                links = row[21].split()\n",
      "                for link in links:\n",
      "                    try:\n",
      "                        file_name = url_to_filename(link, row[1], row[7])\n",
      "                        print \"Processing: \" + file_name\n",
      "                        if bucket.get_key(file_name):\n",
      "                            key = bucket.get_key(file_name)\n",
      "                            if not bucket.get_key(key.name.replace(\".pdf\", \".txt\")):\n",
      "                                res = key.get_contents_to_filename('myfile.pdf')\n",
      "                                subprocess.check_output(['pdftotext', \"myfile.pdf\"])\n",
      "                                os.remove('myfile.pdf')\n",
      "                                new_key = Key(bucket)\n",
      "                                new_key.key = key.name.replace(\".pdf\", \".txt\")\n",
      "                                f = open(\"myfile.txt\", mode='r'))\n",
      "                                new_key.set_contents_from_file(f)\n",
      "                                f.close()\n",
      "                                os.remove(\"myfile.txt\")\n",
      "                            else:\n",
      "                                print \"Text file already exists\"\n",
      "                        else:\n",
      "                            print \"File not found in S3: \" + row[7] + \": \" + file_name\n",
      "                            new_missing_row = [row[7], link, 'Not found in S3']\n",
      "                            df_missing_files.loc[index_missing] = new_missing_row\n",
      "                            index_missing +=1\n",
      "                    except Exception, e:\n",
      "                        print \"Error: \" + str(e)\n",
      "                        new_missing_row = [row[7], link, str(e)]\n",
      "                        df_missing_files.loc[index_missing] = new_missing_row\n",
      "                        index_missing +=1"
     ],
     "language": "python",
     "metadata": {},
     "outputs": [],
     "prompt_number": 71
    },
    {
     "cell_type": "code",
     "collapsed": false,
     "input": [
      "convert_files()"
     ],
     "language": "python",
     "metadata": {},
     "outputs": []
    },
    {
     "cell_type": "code",
     "collapsed": false,
     "input": [
      "if df_missing_files.shape[0]:\n",
      "    df_missing_files.to_csv('missing_files_to_save.csv', encoding='utf-8')"
     ],
     "language": "python",
     "metadata": {},
     "outputs": []
    }
   ],
   "metadata": {}
  }
 ]
}