{
 "metadata": {
  "name": "",
  "signature": "sha256:ee0d844b51cd5c6654104acc4e4fb171f7e595e137c15b69ae23ffc78a9cc77c"
 },
 "nbformat": 3,
 "nbformat_minor": 0,
 "worksheets": [
  {
   "cells": [
    {
     "cell_type": "code",
     "collapsed": false,
     "input": [
      "from bs4 import BeautifulSoup as bs\n",
      "import re\n",
      "import urllib2\n",
      "import httplib\n",
      "import csv\n",
      "import json\n",
      "import datetime\n",
      "import pandas as pd\n",
      "import os\n",
      "from boto.s3.connection import S3Connection\n",
      "from boto.s3.key import Key"
     ],
     "language": "python",
     "metadata": {},
     "outputs": [],
     "prompt_number": 1
    },
    {
     "cell_type": "code",
     "collapsed": false,
     "input": [
      "json_data=open('k.json')\n",
      "keys = json.load(json_data)\n",
      "json_data.close()"
     ],
     "language": "python",
     "metadata": {},
     "outputs": [],
     "prompt_number": 2
    },
    {
     "cell_type": "code",
     "collapsed": false,
     "input": [
      "conn = S3Connection(keys['aws_key'], keys['aws_secret'])\n",
      "bucket = conn.get_bucket('epaeis')\n",
      "bucket.list()"
     ],
     "language": "python",
     "metadata": {},
     "outputs": [
      {
       "metadata": {},
       "output_type": "pyout",
       "prompt_number": 3,
       "text": [
        "<boto.s3.bucketlistresultset.BucketListResultSet at 0x10c912d50>"
       ]
      }
     ],
     "prompt_number": 3
    },
    {
     "cell_type": "code",
     "collapsed": false,
     "input": [
      "columns = ['date', 'eis', 'link', 'error']\n",
      "df_missing_files = pd.DataFrame(columns=columns)"
     ],
     "language": "python",
     "metadata": {},
     "outputs": [],
     "prompt_number": 4
    },
    {
     "cell_type": "code",
     "collapsed": false,
     "input": [
      "def save_files():\n",
      "    index_missing = 0\n",
      "    with open('reports.csv', mode='r') as infile:\n",
      "        reader = csv.reader(infile)\n",
      "        for row in reader:\n",
      "            if row[21] != 'list_of_links' and row[20] !=0:\n",
      "                print \"Getting links for: \" + row[5]\n",
      "                links = row[21].split()\n",
      "                for link in links:\n",
      "                    try:\n",
      "                        k = Key(bucket)\n",
      "                        file_name = urllib2.unquote(link)\n",
      "                        file_name = file_name[file_name.index('$file')+6:].replace(\".pdf\",\"\")\n",
      "                        file_name = re.sub(r'([^\\s\\w])+', '', file_name).replace(\" \", \"-\").lower() + \".pdf\"\n",
      "                        file_name = row[1].replace(\"/\", \"-\") + \"/\" + row[7] + \"/\" + file_name\n",
      "                        print \"Saving: \" + file_name\n",
      "                        if bucket.get_key(file_name):\n",
      "                            print \"File exists, skipping\"\n",
      "                        else:\n",
      "                            f = urllib2.urlopen(link)\n",
      "                            data = f.read()\n",
      "                            f.close()\n",
      "                            k = bucket.new_key(file_name)\n",
      "                            k.set_contents_from_string(data)\n",
      "                    except Exception, e:\n",
      "                        print \"Could not get because: \" + str(e)\n",
      "                        new_missing_row = [row[1], row[7], link, str(e)]\n",
      "                        df_missing_files.loc[index_missing] = new_missing_row\n",
      "                        index_missing +=1"
     ],
     "language": "python",
     "metadata": {},
     "outputs": [],
     "prompt_number": 5
    },
    {
     "cell_type": "code",
     "collapsed": false,
     "input": [
      "save_files()"
     ],
     "language": "python",
     "metadata": {},
     "outputs": [
      {
       "output_type": "stream",
       "stream": "stdout",
       "text": [
        "Saving: 10-31-2014/20140311/southeastern-states-draft-resource-management-plan-and-environmental-impact-statement.pdf\n",
        "File exists, skipping"
       ]
      },
      {
       "output_type": "stream",
       "stream": "stdout",
       "text": [
        "\n",
        "Saving: 10-31-2014/20140312/constitution_feis_vol-1_environmental-analysis.pdf\n",
        "File exists, skipping\n",
        "Saving: 10-31-2014/20140312/constitution_feis_vol-2_appendices-ar.pdf\n",
        "File exists, skipping\n",
        "Saving: 10-31-2014/20140312/constitution_feis_vol-3_appendix_s_part_1_index.pdf\n",
        "File exists, skipping"
       ]
      },
      {
       "output_type": "stream",
       "stream": "stdout",
       "text": [
        "\n",
        "Saving: 10-31-2014/20140312/constitution_feis_vol-3_appendix_s_part_2_fasalanat.pdf\n",
        "File exists, skipping"
       ]
      },
      {
       "output_type": "stream",
       "stream": "stdout",
       "text": [
        "\n",
        "Saving: 10-31-2014/20140312/constitution_feis_vol-3_appendix_s_part_3_co141.pdf\n",
        "File exists, skipping\n",
        "Saving: 10-31-2014/20140312/constitution_feis_vol-3_appendix_s_part_4_co4264.pdf\n",
        "File exists, skipping\n",
        "Saving: 10-31-2014/20140312/constitution_feis_vol-3_appendix_s_part_5_co6576.pdf\n",
        "File exists, skipping"
       ]
      },
      {
       "output_type": "stream",
       "stream": "stdout",
       "text": [
        "\n",
        "Saving: 10-31-2014/20140312/constitution_feis_vol-3_appendix_s_part_6_ind1199.pdf\n",
        "File exists, skipping\n",
        "Saving: 10-31-2014/20140312/constitution_feis_vol-3_appendix_s_part_7_ind200291.pdf\n",
        "File exists, skipping\n",
        "Saving: 10-31-2014/20140312/constitution_feis_vol-3_appendix_s_part_8_ind292374.pdf\n",
        "File exists, skipping"
       ]
      },
      {
       "output_type": "stream",
       "stream": "stdout",
       "text": [
        "\n",
        "Saving: 10-31-2014/20140312/constitution_feis_vol-3_appendix_s_part_9_ind375522.pdf\n",
        "File exists, skipping\n",
        "Saving: 10-31-2014/20140312/constitution_feis_vol-3_appendix_s_part_10_ind523706.pdf\n",
        "File exists, skipping\n",
        "Saving: 10-31-2014/20140312/constitution_feis_vol-3_appendix_s_part_11_ind707774.pdf\n",
        "File exists, skipping"
       ]
      },
      {
       "output_type": "stream",
       "stream": "stdout",
       "text": [
        "\n",
        "Saving: 10-31-2014/20140312/constitution_feis_vol-3_appendix_s_part_12_pm14_ap1.pdf\n",
        "File exists, skipping\n",
        "Saving: 10-31-2014/20140313/pinon-canyon-maneuver-site-pcms-training-and-operations-draft-environmental-impact-statement.pdf\n",
        "File exists, skipping\n",
        "Saving: 10-31-2014/20140310/final-seirseis-cvmshcp-major-amendment--32014_a.pdf\n",
        "File exists, skipping"
       ]
      },
      {
       "output_type": "stream",
       "stream": "stdout",
       "text": [
        "\n",
        "Saving: 10-24-2014/20140307/main-report.pdf\n",
        "File exists, skipping\n",
        "Saving: 10-24-2014/20140307/appendix-a.pdf\n",
        "File exists, skipping\n",
        "Saving: 10-24-2014/20140307/appendix-b.pdf\n",
        "File exists, skipping"
       ]
      },
      {
       "output_type": "stream",
       "stream": "stdout",
       "text": [
        "\n",
        "Saving: 10-24-2014/20140307/appendix-c.pdf\n",
        "File exists, skipping\n",
        "Saving: 10-24-2014/20140307/appendix-d.pdf\n",
        "File exists, skipping\n",
        "Saving: 10-24-2014/20140307/appendix-e.pdf\n",
        "File exists, skipping"
       ]
      },
      {
       "output_type": "stream",
       "stream": "stdout",
       "text": [
        "\n",
        "Saving: 10-24-2014/20140307/appendix-f.pdf\n",
        "File exists, skipping\n",
        "Saving: 10-24-2014/20140307/appendix-g.pdf\n",
        "File exists, skipping\n",
        "Saving: 10-24-2014/20140307/appendix-h.pdf\n",
        "File exists, skipping"
       ]
      },
      {
       "output_type": "stream",
       "stream": "stdout",
       "text": [
        "\n",
        "Saving: 10-24-2014/20140307/appendix-i.pdf\n",
        "File exists, skipping\n",
        "Saving: 10-24-2014/20140307/appendix-j.pdf\n",
        "File exists, skipping\n",
        "Saving: 10-24-2014/20140307/appendix-k.pdf\n",
        "File exists, skipping"
       ]
      },
      {
       "output_type": "stream",
       "stream": "stdout",
       "text": [
        "\n",
        "Saving: 10-24-2014/20140307/appendix-l.pdf\n",
        "File exists, skipping\n",
        "Saving: 10-24-2014/20140307/appendix-m.pdf\n",
        "File exists, skipping\n",
        "Saving: 10-24-2014/20140307/appendix-n.pdf\n",
        "File exists, skipping"
       ]
      },
      {
       "output_type": "stream",
       "stream": "stdout",
       "text": [
        "\n",
        "Saving: 10-24-2014/20140307/appendix-o.pdf\n",
        "File exists, skipping\n",
        "Saving: 10-24-2014/20140307/appendix-p.pdf\n",
        "File exists, skipping\n",
        "Saving: 10-24-2014/20140305/1800-north-deis-and-section-4f-volume-1--chapters.pdf\n",
        "File exists, skipping"
       ]
      },
      {
       "output_type": "stream",
       "stream": "stdout",
       "text": [
        "\n",
        "Saving: 10-24-2014/20140305/1800-north-deis-and-section-4f-volume-2--figures.pdf\n",
        "File exists, skipping\n",
        "Saving: 10-24-2014/20140305/1800-north-deis-appendix-a--technical-reports--section-1.pdf\n",
        "File exists, skipping\n",
        "Saving: 10-24-2014/20140305/1800-north-deis-appendix-a--technical-reports--section-2.pdf\n",
        "File exists, skipping"
       ]
      },
      {
       "output_type": "stream",
       "stream": "stdout",
       "text": [
        "\n",
        "Saving: 10-24-2014/20140309/harvest-specifications-and-management-measures-for-20152016-and-biennial-periods-thereafter.pdf\n",
        "File exists, skipping\n",
        "Saving: 10-24-2014/20140306/riverisland_deis_vol1_chapters_oct2014.pdf\n",
        "File exists, skipping\n",
        "Saving: 10-24-2014/20140306/riverislands_deis_vol2_appendices_oct2014.pdf\n",
        "File exists, skipping"
       ]
      },
      {
       "output_type": "stream",
       "stream": "stdout",
       "text": [
        "\n",
        "Saving: 10-24-2014/20140308/draft_seissoeis_for_surtass_lfa_sonar.pdf\n",
        "File exists, skipping\n",
        "Saving: 10-17-2014/20140303/feis-for-designation-of-an-odmds-offshore-of-jacksonville.pdf\n",
        "File exists, skipping\n",
        "Saving: 10-17-2014/20140302/corpus-christi-final-environmental-impact-statement.pdf\n",
        "File exists, skipping"
       ]
      },
      {
       "output_type": "stream",
       "stream": "stdout",
       "text": [
        "\n",
        "Saving: 10-17-2014/20140301/20141006_deis-signed-cover-for-public-avail_sr87-conn.pdf\n",
        "File exists, skipping\n",
        "Saving: 10-17-2014/20140301/sr-87-connector-eis.pdf\n",
        "File exists, skipping"
       ]
      },
      {
       "output_type": "stream",
       "stream": "stdout",
       "text": [
        "\n",
        "Saving: 10-17-2014/20140301/sr-87-connector-eis-appendix-a-correspondence.pdf\n",
        "File exists, skipping\n",
        "Saving: 10-17-2014/20140301/sr-87-connector-eis-appendix-b-etdm-summary-report.pdf\n",
        "File exists, skipping\n",
        "Saving: 10-17-2014/20140301/sr-87-connector-eis-appendix-c-planning-consistency.pdf\n",
        "File exists, skipping"
       ]
      },
      {
       "output_type": "stream",
       "stream": "stdout",
       "text": [
        "\n",
        "Saving: 10-17-2014/20140301/sr-87-connector-eis-appendix-d-concept-planspart-1.pdf\n",
        "File exists, skipping\n",
        "Saving: 10-17-2014/20140301/sr-87-connector-eis-appendix-d-concept-planspart-2.pdf\n",
        "File exists, skipping\n",
        "Saving: 10-17-2014/20140301/sr-87-connector-eis-appendix-e-wetland-exhibit.pdf\n",
        "File exists, skipping"
       ]
      },
      {
       "output_type": "stream",
       "stream": "stdout",
       "text": [
        "\n",
        "Saving: 10-17-2014/20140301/sr-87-connector-eis-appendix-f-floodplain-exhibit.pdf\n",
        "File exists, skipping\n",
        "Saving: 10-17-2014/20140301/sr-87-connector-eis-appendix-g-wildlife-exhibit.pdf\n",
        "File exists, skipping\n",
        "Saving: 10-17-2014/20140301/sr-87-connector-eis-appendix-h-prime-farmland-review.pdf\n",
        "File exists, skipping"
       ]
      },
      {
       "output_type": "stream",
       "stream": "stdout",
       "text": [
        "\n",
        "Saving: 10-17-2014/20140301/sr-87-connector-eis-appendix-i-biological-opinion-excerpt-comments.pdf\n",
        "File exists, skipping\n",
        "Saving: 10-17-2014/20140301/sr-87-connector-eis-appendix-j-public-involvement.pdf\n",
        "File exists, skipping\n",
        "Saving: 10-17-2014/20140301/sr-87-connector-access-management-plan-appendix1.pdf\n",
        "File exists, skipping"
       ]
      },
      {
       "output_type": "stream",
       "stream": "stdout",
       "text": [
        "\n",
        "Saving: 10-17-2014/20140301/sr-87-connector-access-management-plan-appendix2.pdf\n",
        "File exists, skipping\n",
        "Saving: 10-17-2014/20140301/sr-87-connector-access-management-plan.pdf\n",
        "File exists, skipping"
       ]
      },
      {
       "output_type": "stream",
       "stream": "stdout",
       "text": [
        "\n",
        "Saving: 10-17-2014/20140301/sr-87-connector-bridges-over-clear-creek-bridge-development-report.pdf\n",
        "File exists, skipping"
       ]
      },
      {
       "output_type": "stream",
       "stream": "stdout",
       "text": [
        "\n",
        "Saving: 10-17-2014/20140301/sr-87-connector-northbound-and-southbound-bridges-over-the-blackwater-river-bdr.pdf\n",
        "File exists, skipping\n",
        "Saving: 10-17-2014/20140301/uscg-blackwater-river-bridge-questionnaire.pdf\n",
        "File exists, skipping\n",
        "Saving: 10-17-2014/20140301/uscg-clear-creek-bridge-questionnaire.pdf\n",
        "File exists, skipping"
       ]
      },
      {
       "output_type": "stream",
       "stream": "stdout",
       "text": [
        "\n",
        "Saving: 10-17-2014/20140301/uscg-exemption-letter--blackwater-river.pdf\n",
        "File exists, skipping\n",
        "Saving: 10-17-2014/20140301/uscg-exemption-letter--clear-creek.pdf\n",
        "File exists, skipping\n",
        "Saving: 10-17-2014/20140301/sr-87-connector-bhr--technical-memorandum.pdf\n",
        "File exists, skipping"
       ]
      },
      {
       "output_type": "stream",
       "stream": "stdout",
       "text": [
        "\n",
        "Saving: 10-17-2014/20140301/sr-87-connector-corridor-report.pdf\n",
        "File exists, skipping\n",
        "Saving: 10-17-2014/20140301/sr-87--connector-geotechnical-bridge-investigation-report-blackwater.pdf\n",
        "File exists, skipping"
       ]
      },
      {
       "output_type": "stream",
       "stream": "stdout",
       "text": [
        "\n",
        "Saving: 10-17-2014/20140301/sr-87--connector-geotechnical-bridge-investigation-report-clear-creek.pdf\n",
        "File exists, skipping\n",
        "Saving: 10-17-2014/20140301/sr-87-connector-lhr.pdf\n",
        "File exists, skipping\n",
        "Saving: 10-17-2014/20140301/sr-87-connector-lhr-appendix-a--b.pdf\n",
        "File exists, skipping"
       ]
      },
      {
       "output_type": "stream",
       "stream": "stdout",
       "text": [
        "\n",
        "Saving: 10-17-2014/20140301/sr-87-connector-lhr-appendix-c-part-1.pdf\n",
        "File exists, skipping\n",
        "Saving: 10-17-2014/20140301/sr-87-connector-lhr-appendix-c-part-2.pdf\n",
        "File exists, skipping\n",
        "Saving: 10-17-2014/20140301/sr-87-connector-lhr-appendix-c-part-3.pdf\n",
        "File exists, skipping"
       ]
      },
      {
       "output_type": "stream",
       "stream": "stdout",
       "text": [
        "\n",
        "Saving: 10-17-2014/20140301/sr-87-connector-lhr-appendix-d.pdf\n",
        "File exists, skipping\n",
        "Saving: 10-17-2014/20140301/sr-87-connector-per-chapt-16.pdf\n",
        "File exists, skipping\n",
        "Saving: 10-17-2014/20140301/sr-87-connector-per-chapt-7-part-1.pdf\n",
        "File exists, skipping"
       ]
      },
      {
       "output_type": "stream",
       "stream": "stdout",
       "text": [
        "\n",
        "Saving: 10-17-2014/20140301/sr-87-connector-per-chapt-7-part-2.pdf\n",
        "File exists, skipping\n",
        "Saving: 10-17-2014/20140301/sr-87-connector-per-chapt-7-part-3-chapt-8.pdf\n",
        "File exists, skipping\n",
        "Saving: 10-17-2014/20140301/sr-87-connector-pond-siting-report.pdf\n",
        "File exists, skipping"
       ]
      },
      {
       "output_type": "stream",
       "stream": "stdout",
       "text": [
        "\n",
        "Saving: 10-17-2014/20140301/sr-87-connector-pond-siting-report-appendix-ac-d-part-1.pdf\n",
        "File exists, skipping\n",
        "Saving: 10-17-2014/20140301/sr-87-connector-pond-siting-report-appendix-d-part-2.pdf\n",
        "File exists, skipping\n",
        "Saving: 10-17-2014/20140301/sr-87-connector-pond-siting-report-appendix-d-part-3.pdf\n",
        "File exists, skipping"
       ]
      },
      {
       "output_type": "stream",
       "stream": "stdout",
       "text": [
        "\n",
        "Saving: 10-17-2014/20140301/sr-87-connector-pond-siting-report-appendix-d-part-4-ei.pdf\n",
        "File exists, skipping\n",
        "Saving: 10-17-2014/20140301/sr-87-connector-design-traffic-technical-memorandum.pdf\n",
        "File exists, skipping\n",
        "Saving: 10-17-2014/20140301/sr-87-connector-preliminary-traffic-report.pdf\n",
        "File exists, skipping"
       ]
      },
      {
       "output_type": "stream",
       "stream": "stdout",
       "text": [
        "\n",
        "Saving: 10-17-2014/20140301/sr-87-connector-ve-report.pdf\n",
        "File exists, skipping"
       ]
      },
      {
       "output_type": "stream",
       "stream": "stdout",
       "text": [
        "\n",
        "Saving: 10-17-2014/20140301/sr-87-connector-air-quality-technical-memorandum.pdf\n",
        "File exists, skipping\n",
        "Saving: 10-17-2014/20140301/sr-87-connector-contamination-screening-evaluation-report.pdf\n",
        "File exists, skipping\n",
        "Saving: 10-17-2014/20140301/sr-87-connector-cras-.pdf\n",
        "File exists, skipping"
       ]
      },
      {
       "output_type": "stream",
       "stream": "stdout",
       "text": [
        "\n",
        "Saving: 10-17-2014/20140301/sr-87-connector-csrp.pdf\n",
        "File exists, skipping\n",
        "Saving: 10-17-2014/20140301/sr-87-connector-doa-sr-87.pdf\n",
        "File exists, skipping\n",
        "Saving: 10-17-2014/20140301/sr-87-connector-esa-biological-assessment.pdf\n",
        "File exists, skipping"
       ]
      },
      {
       "output_type": "stream",
       "stream": "stdout",
       "text": [
        "\n",
        "Saving: 10-17-2014/20140301/sr-87-connector-esbar.pdf\n",
        "File exists, skipping\n",
        "Saving: 10-17-2014/20140301/sr-87-connector-noise-study-report.pdf\n",
        "File exists, skipping\n",
        "Saving: 10-17-2014/20140301/sr-87-connector-wer.pdf\n",
        "File exists, skipping"
       ]
      },
      {
       "output_type": "stream",
       "stream": "stdout",
       "text": [
        "\n",
        "Saving: 10-17-2014/20140301/sr-87-connector-pip.pdf\n",
        "File exists, skipping\n",
        "Saving: 10-17-2014/20140301/sr-87-connector-public-involvement-summary.pdf\n",
        "File exists, skipping\n",
        "Saving: 10-17-2014/20140304/yti_feis-feir_100314.pdf\n",
        "File exists, skipping"
       ]
      },
      {
       "output_type": "stream",
       "stream": "stdout",
       "text": [
        "\n",
        "Saving: 10-17-2014/20140304/__cover.pdf\n",
        "File exists, skipping"
       ]
      },
      {
       "output_type": "stream",
       "stream": "stdout",
       "text": [
        "\n",
        "Saving: 10-17-2014/20140304/__title_page.pdf\n",
        "File exists, skipping\n",
        "Saving: 10-17-2014/20140304/_contents.pdf\n",
        "File exists, skipping\n",
        "Saving: 10-17-2014/20140304/_executive-summary.pdf\n",
        "File exists, skipping"
       ]
      },
      {
       "output_type": "stream",
       "stream": "stdout",
       "text": [
        "\n",
        "Saving: 10-17-2014/20140304/chapter-1_introduction.pdf\n",
        "File exists, skipping\n",
        "Saving: 10-17-2014/20140304/chapter-2_project-description.pdf\n",
        "File exists, skipping\n",
        "Saving: 10-17-2014/20140304/chapter-3_environmental-analysis.pdf\n",
        "File exists, skipping"
       ]
      },
      {
       "output_type": "stream",
       "stream": "stdout",
       "text": [
        "\n",
        "Saving: 10-17-2014/20140304/chapter-4_cumulativeanalysis.pdf\n",
        "File exists, skipping\n",
        "Saving: 10-17-2014/20140304/chapter-5_environmental-justice.pdf\n",
        "File exists, skipping\n",
        "Saving: 10-17-2014/20140304/chapter-6_comparison-of-alternatives.pdf\n",
        "File exists, skipping"
       ]
      },
      {
       "output_type": "stream",
       "stream": "stdout",
       "text": [
        "\n",
        "Saving: 10-17-2014/20140304/chapter-7_socioeconomics.pdf\n",
        "File exists, skipping\n",
        "Saving: 10-17-2014/20140304/chapter-8_growth-inducing-impacts.pdf\n",
        "File exists, skipping\n",
        "Saving: 10-17-2014/20140304/chapter-9_significant-and-irreversible-impacts.pdf\n",
        "File exists, skipping"
       ]
      },
      {
       "output_type": "stream",
       "stream": "stdout",
       "text": [
        "\n",
        "Saving: 10-17-2014/20140304/chapter-10_references.pdf\n",
        "File exists, skipping\n",
        "Saving: 10-17-2014/20140304/chapter_11_list_of_preparers_and_contributors.pdf\n",
        "File exists, skipping\n",
        "Saving: 10-17-2014/20140304/chapter-12_acronymns-and-abbreviations.pdf\n",
        "File exists, skipping"
       ]
      },
      {
       "output_type": "stream",
       "stream": "stdout",
       "text": [
        "\n",
        "Saving: 10-17-2014/20140304/section-31_aesthetics-and-visual-resources.pdf\n",
        "File exists, skipping\n",
        "Saving: 10-17-2014/20140304/section-32_air-quality-and-meteorology.pdf\n",
        "File exists, skipping\n",
        "Saving: 10-17-2014/20140304/section-33_biological-resources.pdf\n",
        "File exists, skipping"
       ]
      },
      {
       "output_type": "stream",
       "stream": "stdout",
       "text": [
        "\n",
        "Saving: 10-17-2014/20140304/section-34_cultural-resources.pdf\n",
        "File exists, skipping\n",
        "Saving: 10-17-2014/20140304/section-38_groundwater-and-soils.pdf\n",
        "File exists, skipping\n",
        "Saving: 10-17-2014/20140304/section-39_hazards-and-hazardous-materials.pdf\n",
        "File exists, skipping"
       ]
      },
      {
       "output_type": "stream",
       "stream": "stdout",
       "text": [
        "\n",
        "Saving: 10-17-2014/20140304/section-310_land-use.pdf\n",
        "File exists, skipping\n",
        "Saving: 10-17-2014/20140304/section-311_marine-transportation.pdf\n",
        "File exists, skipping\n",
        "Saving: 10-17-2014/20140304/section-312_noise.pdf\n",
        "File exists, skipping"
       ]
      },
      {
       "output_type": "stream",
       "stream": "stdout",
       "text": [
        "\n",
        "Saving: 10-17-2014/20140304/section-313_public-services.pdf\n",
        "File exists, skipping\n",
        "Saving: 10-17-2014/20140304/section-314_utilities-and-service-systems.pdf\n",
        "File exists, skipping\n",
        "Saving: 10-17-2014/20140304/section-315_waterquality_sediments_oceanography.pdf\n",
        "File exists, skipping"
       ]
      },
      {
       "output_type": "stream",
       "stream": "stdout",
       "text": [
        "\n",
        "Saving: 10-17-2014/20140304/appendices_cover_title_contents.pdf\n",
        "File exists, skipping\n",
        "Saving: 10-17-2014/20140304/appendix_a_noi_nop_is_scopingcomments.pdf\n",
        "File exists, skipping\n",
        "Saving: 10-17-2014/20140304/appendix_b_airqualityappendices.pdf\n",
        "File exists, skipping"
       ]
      },
      {
       "output_type": "stream",
       "stream": "stdout",
       "text": [
        "\n",
        "Saving: 10-17-2014/20140304/appendix_c_biologicalresourcesappendices.pdf\n",
        "File exists, skipping\n",
        "Saving: 10-17-2014/20140304/appendix_d_groundtransportationappendices.pdf\n",
        "File exists, skipping\n",
        "Saving: 10-17-2014/20140304/appendix_e_regulatoryrecordsdatabasereport.pdf\n",
        "File exists, skipping"
       ]
      },
      {
       "output_type": "stream",
       "stream": "stdout",
       "text": [
        "\n",
        "Saving: 10-17-2014/20140304/appendix_f_sedimentcharacterizationreport.pdf\n",
        "File exists, skipping\n",
        "Saving: 10-10-2014/20140300/las-vegas-and-pahrump-field-offices-draft-rmp_eis-fall-2014.pdf\n",
        "File exists, skipping"
       ]
      },
      {
       "output_type": "stream",
       "stream": "stdout",
       "text": [
        "\n",
        "Saving: 10-10-2014/20140290/longterm-water-transfers-draft-eiseir-main-body.pdf\n",
        "File exists, skipping\n",
        "Saving: 10-10-2014/20140290/longterm-water-transfers-draft-eiseir-appendices.pdf\n",
        "File exists, skipping\n",
        "Saving: 10-10-2014/20140291/hdc-draft-eireis_vol-1.pdf\n",
        "File exists, skipping"
       ]
      },
      {
       "output_type": "stream",
       "stream": "stdout",
       "text": [
        "\n",
        "Saving: 10-10-2014/20140291/hdc-draft-eireis_vol-2app-a-to-m.pdf\n",
        "File exists, skipping\n",
        "Saving: 10-10-2014/20140291/hdc-draft-eireis_vol-2app-nlist-of-techstudies.pdf\n",
        "File exists, skipping\n",
        "Saving: 10-10-2014/20140296/75th-st-cip-feis--signed-cover-page.pdf\n",
        "File exists, skipping"
       ]
      },
      {
       "output_type": "stream",
       "stream": "stdout",
       "text": [
        "\n",
        "Saving: 10-10-2014/20140296/75th-st-cip-feis--signed-rod.pdf\n",
        "File exists, skipping\n",
        "Saving: 10-10-2014/20140296/75th-st-cip-feis--table-of-contents.pdf\n",
        "File exists, skipping\n",
        "Saving: 10-10-2014/20140296/75th-st-cip-feis--chapter-1--purpose-and-need.pdf\n",
        "File exists, skipping"
       ]
      },
      {
       "output_type": "stream",
       "stream": "stdout",
       "text": [
        "\n",
        "Saving: 10-10-2014/20140296/75th-st-cip-feis--chapter-2--alternatives.pdf\n",
        "File exists, skipping\n",
        "Saving: 10-10-2014/20140296/75th-st-cip-feis--chapter-3--environmental-resources-impacts-and-mitigation.pdf\n",
        "File exists, skipping\n",
        "Saving: 10-10-2014/20140296/75th-st-cip-feis--chapter-4--comments-and-coordination.pdf\n",
        "File exists, skipping"
       ]
      },
      {
       "output_type": "stream",
       "stream": "stdout",
       "text": [
        "\n",
        "Saving: 10-10-2014/20140296/75th-st-cip-feis--chapter-5--eis-distribution-list.pdf\n",
        "File exists, skipping\n",
        "Saving: 10-10-2014/20140296/75th-st-cip-feis--chapter-6--list-of-preparers.pdf\n",
        "File exists, skipping\n",
        "Saving: 10-10-2014/20140296/75th-st-cip-feis--chapter-7--index.pdf\n",
        "File exists, skipping"
       ]
      },
      {
       "output_type": "stream",
       "stream": "stdout",
       "text": [
        "\n",
        "Saving: 10-10-2014/20140296/75th-st-cip-feis--appendix-a--viaducts.pdf\n",
        "File exists, skipping\n",
        "Saving: 10-10-2014/20140296/75th-st-cip-feis--appendix-b--socioeconomics-and-environmental-justice.pdf\n",
        "File exists, skipping\n",
        "Saving: 10-10-2014/20140296/75th-st-cip-feis--appendix-c--c0-public-involvement-and-agency-coordination--intro.pdf\n",
        "File exists, skipping"
       ]
      },
      {
       "output_type": "stream",
       "stream": "stdout",
       "text": [
        "\n",
        "Saving: 10-10-2014/20140296/75th-st-cip-feis--appendix-c--c1-stakeholder-involvement-plan.pdf\n",
        "File exists, skipping\n",
        "Saving: 10-10-2014/20140296/75th-st-cip-feis--appendix-c--c2-public-meetings-part-1--june-public-meetings-summary.pdf\n",
        "File exists, skipping\n",
        "Saving: 10-10-2014/20140296/75th-st-cip-feis--appendix-c--c2-public-meetings-part-2--oct-public-meeting-summary.pdf\n",
        "File exists, skipping"
       ]
      },
      {
       "output_type": "stream",
       "stream": "stdout",
       "text": [
        "\n",
        "Saving: 10-10-2014/20140296/75th-st-cip-feis--appendix-c--c2-public-meetings-part-3--oct-public-meeting-presentation.pdf\n",
        "File exists, skipping\n",
        "Saving: 10-10-2014/20140296/75th-st-cip-feis--appendix-c--c2-public-meetings-part-4--oct-public-meeting-exhibits.pdf\n",
        "File exists, skipping\n",
        "Saving: 10-10-2014/20140296/75th-st-cip-feis--appendix-c--c2-public-meetings-part-5--oct-public-meetings-exhibits.pdf\n",
        "File exists, skipping"
       ]
      },
      {
       "output_type": "stream",
       "stream": "stdout",
       "text": [
        "\n",
        "Saving: 10-10-2014/20140296/75th-st-cip-feis--appendix-c--c2-public-meetings-part-6--oct-public-meeting-comments.pdf\n",
        "File exists, skipping\n",
        "Saving: 10-10-2014/20140296/75th-st-cip-feis--appendix-c--c3-other-pi-activities-and-c4-project-brochures.pdf\n",
        "File exists, skipping\n",
        "Saving: 10-10-2014/20140296/75th-st-cip-feis--appendix-c--c5-fact-sheets-and-c6-project-emails-and-comments.pdf\n",
        "File exists, skipping"
       ]
      },
      {
       "output_type": "stream",
       "stream": "stdout",
       "text": [
        "\n",
        "Saving: 10-10-2014/20140296/75th-st-cip-feis--appendix-c--c7-notice-of-intent-and-c8-cooperating-and-participating-agencies.pdf\n",
        "File exists, skipping\n",
        "Saving: 10-10-2014/20140296/75th-st-cip-feis--appendix-c--c9-nepa-404-meeting-minutes-and-c10-other-agency-coord.pdf\n",
        "File exists, skipping\n",
        "Saving: 10-10-2014/20140296/75th-st-cip-feis--appendix-c--c11-cag-meeting-minutes.pdf\n",
        "File exists, skipping"
       ]
      },
      {
       "output_type": "stream",
       "stream": "stdout",
       "text": [
        "\n",
        "Saving: 10-10-2014/20140296/75th-st-cip-feis--appendix-d--air-quality.pdf\n",
        "File exists, skipping\n",
        "Saving: 10-10-2014/20140296/75th-st-cip-feis--appendix-e--noise.pdf\n",
        "File exists, skipping\n",
        "Saving: 10-10-2014/20140296/75th-st-cip-feis--appendix-f--vibration.pdf\n",
        "File exists, skipping"
       ]
      },
      {
       "output_type": "stream",
       "stream": "stdout",
       "text": [
        "\n",
        "Saving: 10-10-2014/20140296/75th-st-cip-feis--appendix-g--section-106-documentation.pdf\n",
        "File exists, skipping\n",
        "Saving: 10-10-2014/20140296/75th-st-cip-feis--appendix-h--environmental-resources-documentation.pdf\n",
        "File exists, skipping\n",
        "Saving: 10-10-2014/20140296/75th-st-cip-feis--appendix-i--section-4f-documentation.pdf\n",
        "File exists, skipping"
       ]
      },
      {
       "output_type": "stream",
       "stream": "stdout",
       "text": [
        "\n",
        "Saving: 10-10-2014/20140296/75th-st-cip-feis--appendix-j--j0-comments-and-coordination--intro.pdf\n",
        "File exists, skipping\n",
        "Saving: 10-10-2014/20140296/75th-st-cip-feis--appendix-j--j1-public-hearing-material_noa_notices_brochures.pdf\n",
        "File exists, skipping\n",
        "Saving: 10-10-2014/20140296/75th-st-cip-feis--appendix-j--j2-public-comments.pdf\n",
        "File exists, skipping"
       ]
      },
      {
       "output_type": "stream",
       "stream": "stdout",
       "text": [
        "\n",
        "Saving: 10-10-2014/20140296/75th-st-cip-feis--appendix-j--j3-agency-comments.pdf\n",
        "File exists, skipping\n",
        "Saving: 10-10-2014/20140293/141001_oa2-eis-vol1_summary-and-affected-environment.pdf\n",
        "File exists, skipping"
       ]
      },
      {
       "output_type": "stream",
       "stream": "stdout",
       "text": [
        "\n",
        "Saving: 10-10-2014/20140293/141001_oa2-eis-vol2_efh-and-hapc.pdf\n",
        "File exists, skipping\n",
        "Saving: 10-10-2014/20140293/141001_oa2-eis-vol3_spatial-management-alts-and-impacts.pdf\n",
        "File exists, skipping\n",
        "Saving: 10-10-2014/20140293/141001_oa2-eis-vol4_practicability-and-cumulative-effects.pdf\n",
        "File exists, skipping"
       ]
      },
      {
       "output_type": "stream",
       "stream": "stdout",
       "text": [
        "\n",
        "Saving: 10-10-2014/20140293/141001_oa2-eis-vol5_appendices.pdf\n",
        "File exists, skipping\n",
        "Saving: 10-10-2014/20140295/dyke-marsh-wetland-restoration-and-longterm-management-plan-final-eis.pdf\n",
        "File exists, skipping\n",
        "Saving: 10-10-2014/20140298/pugetsoundnearshoreecosystemrestoration_draftfeasibilityreporteis.pdf\n",
        "File exists, skipping"
       ]
      },
      {
       "output_type": "stream",
       "stream": "stdout",
       "text": [
        "\n",
        "Saving: 10-10-2014/20140298/psnerp_freis_appendix-a--restoration-site-fact-sheets.pdf\n",
        "File exists, skipping\n",
        "Saving: 10-10-2014/20140298/psnerp_freis_appendix-b--engineering.pdf\n",
        "File exists, skipping\n",
        "Saving: 10-10-2014/20140298/psnerp_freis_appendix-c--real-estate-plan.pdf\n",
        "File exists, skipping"
       ]
      },
      {
       "output_type": "stream",
       "stream": "stdout",
       "text": [
        "\n",
        "Saving: 10-10-2014/20140298/psnerp_freis_appendix-d--cultural-resources-plan.pdf\n",
        "File exists, skipping"
       ]
      },
      {
       "output_type": "stream",
       "stream": "stdout",
       "text": [
        "\n",
        "Saving: 10-10-2014/20140298/psnerp_freis_appendix-e--monitoring-framework.pdf\n",
        "File exists, skipping\n",
        "Saving: 10-10-2014/20140298/psnerp_freis_appendix-f--supplemental-information-on-affected-environment.pdf\n",
        "File exists, skipping\n",
        "Saving: 10-10-2014/20140298/psnerp_freis_appendix-g--ecosystem-output-model.pdf\n",
        "File exists, skipping"
       ]
      },
      {
       "output_type": "stream",
       "stream": "stdout",
       "text": [
        "\n",
        "Saving: 10-10-2014/20140298/psnerp_freis_appendix-h--public-review-comments.pdf\n",
        "File exists, skipping\n",
        "Saving: 10-10-2014/20140298/psnerp_freis_appendix-i--economics.pdf\n",
        "File exists, skipping\n",
        "Saving: 10-10-2014/20140298/psnerp_freis_appendix-j--environmental-compliance-documents-thru-october2014.pdf\n",
        "File exists, skipping"
       ]
      },
      {
       "output_type": "stream",
       "stream": "stdout",
       "text": [
        "\n",
        "Saving: 10-10-2014/20140294/charleston-harbor-draft-feasibility-report-and-eis.pdf\n",
        "File exists, skipping\n",
        "Saving: 10-10-2014/20140294/appendix-a-engineering.pdf\n",
        "File exists, skipping\n",
        "Saving: 10-10-2014/20140294/appendix-bgeotechnical.pdf\n",
        "File exists, skipping"
       ]
      },
      {
       "output_type": "stream",
       "stream": "stdout",
       "text": [
        "\n",
        "Saving: 10-10-2014/20140294/appendix-b-page-139.pdf\n",
        "File exists, skipping\n",
        "Saving: 10-10-2014/20140294/appendix-b-pages-141142-.pdf\n",
        "File exists, skipping\n",
        "Saving: 10-10-2014/20140294/appendix-b-pages-143144.pdf\n",
        "File exists, skipping"
       ]
      },
      {
       "output_type": "stream",
       "stream": "stdout",
       "text": [
        "\n",
        "Saving: 10-10-2014/20140294/appendix-b-pages-145151.pdf\n",
        "File exists, skipping\n",
        "Saving: 10-10-2014/20140294/appendix-c--economic-appendix.pdf\n",
        "File exists, skipping"
       ]
      },
      {
       "output_type": "stream",
       "stream": "stdout",
       "text": [
        "\n",
        "Saving: 10-10-2014/20140294/appendix-d--cost-engineering-82814.pdf\n",
        "File exists, skipping\n",
        "Saving: 10-10-2014/20140294/appendix-e--real-estate-revised-28-august-2014--.pdf\n",
        "File exists, skipping\n",
        "Saving: 10-10-2014/20140294/appendix-f--biological-assessment_final.pdf\n",
        "File exists, skipping"
       ]
      },
      {
       "output_type": "stream",
       "stream": "stdout",
       "text": [
        "\n",
        "Saving: 10-10-2014/20140294/appendix-g--noise-assessment.pdf\n",
        "File exists, skipping\n",
        "Saving: 10-10-2014/20140294/appendix-h--essential-fish-habitat-assessment.pdf\n",
        "File exists, skipping\n",
        "Saving: 10-10-2014/20140294/appendix-i--hardbottom-habitat.pdf\n",
        "File exists, skipping"
       ]
      },
      {
       "output_type": "stream",
       "stream": "stdout",
       "text": [
        "\n",
        "Saving: 10-10-2014/20140294/appendix-j--section-103-sediment-evaluation.pdf\n",
        "File exists, skipping\n",
        "Saving: 10-10-2014/20140294/appendix-k--fishery-habitat-impact-assessment.pdf\n",
        "File exists, skipping\n",
        "Saving: 10-10-2014/20140294/appendix-l--wetland-impact-assessment.pdf\n",
        "File exists, skipping"
       ]
      },
      {
       "output_type": "stream",
       "stream": "stdout",
       "text": [
        "\n",
        "Saving: 10-10-2014/20140294/appendix-m1--404b1-evaluation--upland-disposal.pdf\n",
        "File exists, skipping\n",
        "Saving: 10-10-2014/20140294/appendix-m2--404b1-nearshore.pdf\n",
        "File exists, skipping\n",
        "Saving: 10-10-2014/20140294/appendix-n--air-emission-inventory.pdf\n",
        "File exists, skipping"
       ]
      },
      {
       "output_type": "stream",
       "stream": "stdout",
       "text": [
        "\n",
        "Saving: 10-10-2014/20140294/appendix-o--cumulative-impacts-analysis.pdf\n",
        "File exists, skipping\n",
        "Saving: 10-10-2014/20140294/appendix-p--mitigation-monitoring-adaptive-management.pdf\n",
        "File exists, skipping\n",
        "Saving: 10-10-2014/20140294/appendix-q--correspondence.pdf\n",
        "File exists, skipping"
       ]
      },
      {
       "output_type": "stream",
       "stream": "stdout",
       "text": [
        "\n",
        "Saving: 10-10-2014/20140297/01-kahler-draft-eis_cover_toc.pdf\n",
        "File exists, skipping\n",
        "Saving: 10-10-2014/20140297/02-kahler-draft-eis_chapter-1.pdf\n",
        "File exists, skipping\n",
        "Saving: 10-10-2014/20140297/03-kahler-draft-eis_chapter-2.pdf\n",
        "File exists, skipping"
       ]
      },
      {
       "output_type": "stream",
       "stream": "stdout",
       "text": [
        "\n",
        "Saving: 10-10-2014/20140297/04-kahler-draft-eis_chapter-3.pdf\n",
        "File exists, skipping\n",
        "Saving: 10-10-2014/20140297/05-kahler-draft-eis_chapter-4.pdf\n",
        "File exists, skipping\n",
        "Saving: 10-10-2014/20140297/06-kahler-draft-eis_chapter-5-to-7.pdf\n",
        "File exists, skipping\n",
        "Saving: 10-10-2014/20140297/07-kahler-draft-eis_appedices-a-to-j.pdf\n",
        "File exists, skipping"
       ]
      },
      {
       "output_type": "stream",
       "stream": "stdout",
       "text": [
        "\n",
        "Saving: 10-10-2014/20140297/08-kahler-draft-eis_appedices-k-to-m.pdf\n",
        "File exists, skipping\n",
        "Saving: 10-10-2014/20140289/concord-deis-reduced.pdf\n",
        "File exists, skipping\n",
        "Saving: 10-03-2014/20140288/walla-walla-basin-spring-chinook-hatchery-program-deis.pdf\n",
        "File exists, skipping\n",
        "Saving: 10-03-2014/20140284/route-460-vol-i-draft-seis-chapters-18-text.pdf\n",
        "File exists, skipping"
       ]
      },
      {
       "output_type": "stream",
       "stream": "stdout",
       "text": [
        "\n",
        "Saving: 10-03-2014/20140284/route-460-vol-ii-draft-seis--chapter-2-alternatives-figures.pdf\n",
        "File exists, skipping\n",
        "Saving: 10-03-2014/20140284/route-460-vol-ii-draft-seis--chapter-3-affected-environment-and-environmental-consequences-figures--figures-311-to-336.pdf\n",
        "File exists, skipping\n",
        "Saving: 10-03-2014/20140284/route-460-vol-ii-draft-seis--chapter-3-affected-environment-and-environmental-consequences-figures--figures-341-to-346.pdf\n",
        "File exists, skipping"
       ]
      },
      {
       "output_type": "stream",
       "stream": "stdout",
       "text": [
        "\n",
        "Saving: 10-03-2014/20140284/route-460-vol-ii-draft-seis--chapter-3-affected-environment-and-environmental-consequences-figures--figures-347-to-3416.pdf\n",
        "File exists, skipping\n",
        "Saving: 10-03-2014/20140284/route-460-vol-ii-draft-seis--chapter-3-affected-environment-and-environmental-consequences-figures--figures-3417-to-3421.pdf\n",
        "File exists, skipping\n",
        "Saving: 10-03-2014/20140284/route-460-vol-ii-draft-seis--chapter-3-affected-environment-and-environmental-consequences-figures--figures-3422-to-3428.pdf\n",
        "File exists, skipping"
       ]
      },
      {
       "output_type": "stream",
       "stream": "stdout",
       "text": [
        "\n",
        "Saving: 10-03-2014/20140284/route-460-vol-ii-draft-seis--chapter-3-affected-environment-and-environmental-consequences-figures--figures-3429-to-381.pdf\n",
        "File exists, skipping\n",
        "Saving: 10-03-2014/20140284/route-460-vol-ii-draft-seis--chapter-4-indirect-and-cumulative-effects-figures.pdf\n",
        "File exists, skipping\n",
        "Saving: 10-03-2014/20140284/route-460-vol-i-draft-seis-appendix-a--draft-section-4f-evaluation.pdf\n",
        "File exists, skipping\n",
        "Saving: 10-03-2014/20140284/route-460-vol-i-draft-seis-appendices-b-through-d.pdf\n",
        "File exists, skipping"
       ]
      },
      {
       "output_type": "stream",
       "stream": "stdout",
       "text": [
        "\n",
        "Saving: 10-03-2014/20140282/big_thicket_national_preserve_finalgeneral_management_plan_environmental_impact_statement_aug_2014_for_epafedregpepc.pdf\n",
        "Saving: 10-03-2014/20140283/lamralfl_abbreviated_finalgmpeis_july_2014_for_epafedregpepc.pdf"
       ]
      },
      {
       "output_type": "stream",
       "stream": "stdout",
       "text": [
        "\n",
        "File exists, skipping\n",
        "Saving: 10-03-2014/20140286/jess-project-draft-environmental-impact-statement.pdf\n",
        "File exists, skipping\n",
        "Saving: 10-03-2014/20140287/mtbakersnoqualmieinvasiveplanttreatmentdeis.pdf\n",
        "File exists, skipping"
       ]
      },
      {
       "output_type": "stream",
       "stream": "stdout",
       "text": [
        "\n",
        "Saving: 10-03-2014/20140285/_calpeco_coverttlpg.pdf\n",
        "Saving: 10-03-2014/20140285/000_calpeco_toc.pdf"
       ]
      },
      {
       "output_type": "stream",
       "stream": "stdout",
       "text": [
        "\n",
        "Saving: 10-03-2014/20140285/00_calpeco_foreword.pdf"
       ]
      },
      {
       "output_type": "stream",
       "stream": "stdout",
       "text": [
        "\n",
        "Saving: 10-03-2014/20140285/01_calpeco_exec_summary.pdf"
       ]
      },
      {
       "output_type": "stream",
       "stream": "stdout",
       "text": [
        "\n",
        "Saving: 10-03-2014/20140285/01_calpeco_intro.pdf"
       ]
      },
      {
       "output_type": "stream",
       "stream": "stdout",
       "text": [
        "\n",
        "Saving: 10-03-2014/20140285/02_calpeco_purp_need.pdf"
       ]
      },
      {
       "output_type": "stream",
       "stream": "stdout",
       "text": [
        "\n",
        "Saving: 10-03-2014/20140285/03_calpeco_alternatives.pdf"
       ]
      },
      {
       "output_type": "stream",
       "stream": "stdout",
       "text": [
        "\n",
        "Saving: 10-03-2014/20140285/41_calpeco_intro.pdf"
       ]
      },
      {
       "output_type": "stream",
       "stream": "stdout",
       "text": [
        "\n",
        "Saving: 10-03-2014/20140285/42_calpeco_landuse.pdf"
       ]
      },
      {
       "output_type": "stream",
       "stream": "stdout",
       "text": [
        "\n",
        "Saving: 10-03-2014/20140285/43_calpeco_forestry.pdf"
       ]
      },
      {
       "output_type": "stream",
       "stream": "stdout",
       "text": [
        "\n",
        "Saving: 10-03-2014/20140285/44_calpeco_scenic.pdf"
       ]
      },
      {
       "output_type": "stream",
       "stream": "stdout",
       "text": [
        "\n",
        "Saving: 09-26-2014/20140276/cle_elum_pool_raise_deis.pdf"
       ]
      },
      {
       "output_type": "stream",
       "stream": "stdout",
       "text": [
        "\n",
        "File exists, skipping\n",
        "Saving: 09-26-2014/20140279/contra-loma-final-rmp-eis-and-appendices.pdf\n",
        "Saving: 09-26-2014/20140275/smfeis_ch_00_front-matter.pdf"
       ]
      },
      {
       "output_type": "stream",
       "stream": "stdout",
       "text": [
        "\n",
        "File exists, skipping\n",
        "Saving: 09-26-2014/20140275/smfeis_ch_0_summary.pdf\n",
        "File exists, skipping\n",
        "Saving: 09-26-2014/20140275/smfeis_ch_1_purpose-and-need.pdf\n",
        "File exists, skipping"
       ]
      },
      {
       "output_type": "stream",
       "stream": "stdout",
       "text": [
        "\n",
        "Saving: 09-26-2014/20140275/smfeis_ch_2_gric-coordination.pdf\n",
        "File exists, skipping\n",
        "Saving: 09-26-2014/20140275/smfeis_ch_3_alternatives-1-of-3.pdf\n",
        "File exists, skipping"
       ]
      },
      {
       "output_type": "stream",
       "stream": "stdout",
       "text": [
        "\n",
        "Saving: 09-26-2014/20140275/smfeis_ch_3_alternatives-2-fo-3.pdf\n",
        "File exists, skipping\n",
        "Saving: 09-26-2014/20140275/smfeis_ch_3_alternatives-3-of-3.pdf\n",
        "File exists, skipping\n",
        "Saving: 09-26-2014/20140275/smfeis_ch_4_affected-environmentalenvironmental-consequencesmitigation-1-of-2.pdf\n",
        "File exists, skipping"
       ]
      },
      {
       "output_type": "stream",
       "stream": "stdout",
       "text": [
        "\n",
        "Saving: 09-26-2014/20140275/smfeis_ch_4_affected-environmentalenvironmental-consequencesmitigation-2-of-2.pdf\n",
        "File exists, skipping\n",
        "Saving: 09-26-2014/20140275/smfeis_ch_5_section-4f-evaluation.pdf\n",
        "File exists, skipping\n",
        "Saving: 09-26-2014/20140275/smfeis_ch_6_coordination.pdf\n",
        "File exists, skipping"
       ]
      },
      {
       "output_type": "stream",
       "stream": "stdout",
       "text": [
        "\n",
        "Saving: 09-26-2014/20140275/smfeis_ch_x_back-matter.pdf\n",
        "File exists, skipping\n",
        "Saving: 09-26-2014/20140275/smfeis_vol-2_appendix-1-1-of-18.pdf\n",
        "File exists, skipping\n",
        "Saving: 09-26-2014/20140275/smfeis_vol-2_appendix-1-2-of-18.pdf\n",
        "File exists, skipping"
       ]
      },
      {
       "output_type": "stream",
       "stream": "stdout",
       "text": [
        "\n",
        "Saving: 09-26-2014/20140275/smfeis_vol-2_appendix-1-3-of-18.pdf\n",
        "File exists, skipping\n",
        "Saving: 09-26-2014/20140275/smfeis_vol-2_appendix-1-4-of-18.pdf\n",
        "File exists, skipping\n",
        "Saving: 09-26-2014/20140275/smfeis_vol-2_appendix-1-5-of-18.pdf\n",
        "File exists, skipping"
       ]
      },
      {
       "output_type": "stream",
       "stream": "stdout",
       "text": [
        "\n",
        "Saving: 09-26-2014/20140275/smfeis_vol-2_appendix-1-6-of-18.pdf\n",
        "File exists, skipping\n",
        "Saving: 09-26-2014/20140275/smfeis_vol-2_appendix-1-7-of-18.pdf\n",
        "File exists, skipping\n",
        "Saving: 09-26-2014/20140275/smfeis_vol-2_appendix-1-8-of-18.pdf\n",
        "File exists, skipping"
       ]
      },
      {
       "output_type": "stream",
       "stream": "stdout",
       "text": [
        "\n",
        "Saving: 09-26-2014/20140275/smfeis_vol-2_appendix-1-9-of-18.pdf\n",
        "File exists, skipping\n",
        "Saving: 09-26-2014/20140275/smfeis_vol-2_appendix-1-10-of-18.pdf\n",
        "File exists, skipping\n",
        "Saving: 09-26-2014/20140275/smfeis_vol-2_appendix-1-11-of-18.pdf\n",
        "File exists, skipping"
       ]
      },
      {
       "output_type": "stream",
       "stream": "stdout",
       "text": [
        "\n",
        "Saving: 09-26-2014/20140275/smfeis_vol-2_appendix-1-12-of-18.pdf\n",
        "File exists, skipping\n",
        "Saving: 09-26-2014/20140275/smfeis_vol-2_appendix-1-13-of-18.pdf\n",
        "File exists, skipping\n",
        "Saving: 09-26-2014/20140275/smfeis_vol-2_appendix-1-14-of-18.pdf\n",
        "File exists, skipping"
       ]
      },
      {
       "output_type": "stream",
       "stream": "stdout",
       "text": [
        "\n",
        "Saving: 09-26-2014/20140275/smfeis_vol-2_appendix-1-15-of-18.pdf\n",
        "File exists, skipping\n",
        "Saving: 09-26-2014/20140275/smfeis_vol-2_appendix-1-16-of-18.pdf\n",
        "File exists, skipping\n",
        "Saving: 09-26-2014/20140275/smfeis_vol-2_appendix-1-17-of-18.pdf\n",
        "File exists, skipping"
       ]
      },
      {
       "output_type": "stream",
       "stream": "stdout",
       "text": [
        "\n",
        "Saving: 09-26-2014/20140275/smfeis_vol-2_appendix-1-18-of-18.pdf\n",
        "File exists, skipping\n",
        "Saving: 09-26-2014/20140275/smfeis_vol-2_appendix-2-1-of-7.pdf\n",
        "File exists, skipping\n",
        "Saving: 09-26-2014/20140275/smfeis_vol-2_appendix-2-2-fo-7.pdf\n",
        "File exists, skipping"
       ]
      },
      {
       "output_type": "stream",
       "stream": "stdout",
       "text": [
        "\n",
        "Saving: 09-26-2014/20140275/smfeis_vol-2_appendix-2-3-fo-7.pdf\n",
        "File exists, skipping\n",
        "Saving: 09-26-2014/20140275/smfeis_vol-2_appendix-2-4-of-7.pdf\n",
        "File exists, skipping\n",
        "Saving: 09-26-2014/20140275/smfeis_vol-2_appendix-2-5-of-7.pdf\n",
        "File exists, skipping"
       ]
      },
      {
       "output_type": "stream",
       "stream": "stdout",
       "text": [
        "\n",
        "Saving: 09-26-2014/20140275/smfeis_vol-2_appendix-2-6-of-7.pdf\n",
        "File exists, skipping\n",
        "Saving: 09-26-2014/20140275/smfeis_vol-2_appendix-2-7-of-7.pdf\n",
        "File exists, skipping\n",
        "Saving: 09-26-2014/20140275/smfeis_vol-2_appendix-3.pdf\n",
        "File exists, skipping"
       ]
      },
      {
       "output_type": "stream",
       "stream": "stdout",
       "text": [
        "\n",
        "Saving: 09-26-2014/20140275/smfeis_vol-2_appendix-4--1-of-3.pdf\n",
        "File exists, skipping\n",
        "Saving: 09-26-2014/20140275/smfeis_vol-2_appendix-4--2-of-3.pdf\n",
        "File exists, skipping\n",
        "Saving: 09-26-2014/20140275/smfeis_vol-2_appendix-4--3-of-3.pdf\n",
        "File exists, skipping"
       ]
      },
      {
       "output_type": "stream",
       "stream": "stdout",
       "text": [
        "\n",
        "Saving: 09-26-2014/20140275/smfeis_vol-2_appendix-5--1-of-2.pdf\n",
        "File exists, skipping\n",
        "Saving: 09-26-2014/20140275/smfeis_vol-2_appendix-5--2-of-2.pdf\n",
        "File exists, skipping\n",
        "Saving: 09-26-2014/20140275/smfeis_vol-2_appendix-6-1-of-4.pdf\n",
        "File exists, skipping"
       ]
      },
      {
       "output_type": "stream",
       "stream": "stdout",
       "text": [
        "\n",
        "Saving: 09-26-2014/20140275/smfeis_vol-2_appendix-6-2-of-4.pdf\n",
        "File exists, skipping\n",
        "Saving: 09-26-2014/20140275/smfeis_vol-2_appendix-6-3-of-4.pdf\n",
        "File exists, skipping\n",
        "Saving: 09-26-2014/20140275/smfeis_vol-2_appendix-6-4-of-4.pdf\n",
        "File exists, skipping"
       ]
      },
      {
       "output_type": "stream",
       "stream": "stdout",
       "text": [
        "\n",
        "Saving: 09-26-2014/20140275/smfeis_vol-3_comment-response_01_agency.pdf\n",
        "File exists, skipping\n",
        "Saving: 09-26-2014/20140275/smfeis_vol-3_comment-response_02_special-interest-groups-1-of-3.pdf\n",
        "File exists, skipping\n",
        "Saving: 09-26-2014/20140275/smfeis_vol-3_comment-response_03_special-interest-groups-2-of-3.pdf\n",
        "File exists, skipping"
       ]
      },
      {
       "output_type": "stream",
       "stream": "stdout",
       "text": [
        "\n",
        "Saving: 09-26-2014/20140275/smfeis_vol-3_comment-response_04_special-interest-groups-3-of-3.pdf\n",
        "File exists, skipping\n",
        "Saving: 09-26-2014/20140275/smfeis_vol-3_comment-response_05_businessform-letterpetition.pdf\n",
        "File exists, skipping\n",
        "Saving: 09-26-2014/20140275/smfeis_vol-3_comment-response_06_citizen-a-to-c.pdf\n",
        "File exists, skipping"
       ]
      },
      {
       "output_type": "stream",
       "stream": "stdout",
       "text": [
        "\n",
        "Saving: 09-26-2014/20140275/smfeis_vol-3_comment-response_07_citizen-d-to-g.pdf\n",
        "File exists, skipping\n",
        "Saving: 09-26-2014/20140275/smfeis_vol-3_comment-response_08_citizen-h-to-l.pdf\n",
        "File exists, skipping"
       ]
      },
      {
       "output_type": "stream",
       "stream": "stdout",
       "text": [
        "\n",
        "Saving: 09-26-2014/20140275/smfeis_vol-3_comment-response_09_citizen-m-to-q.pdf\n",
        "File exists, skipping\n",
        "Saving: 09-26-2014/20140275/smfeis_vol-3_comment-response_10_citizen-r-to-s.pdf\n",
        "File exists, skipping\n",
        "Saving: 09-26-2014/20140275/smfeis_vol-3_comment-response_11_citizen-t-to-v.pdf\n",
        "File exists, skipping"
       ]
      },
      {
       "output_type": "stream",
       "stream": "stdout",
       "text": [
        "\n",
        "Saving: 09-26-2014/20140275/smfeis_vol-3_comment-response_12_citizen-w-to-z.pdf\n",
        "File exists, skipping\n",
        "Saving: 09-26-2014/20140275/smfeis_vol-3_comment-response_13_citizen-anonymous--after-deadline.pdf\n",
        "File exists, skipping\n",
        "Saving: 09-26-2014/20140274/signature-pagetoc_091714.pdf\n",
        "File exists, skipping"
       ]
      },
      {
       "output_type": "stream",
       "stream": "stdout",
       "text": [
        "\n",
        "Saving: 09-26-2014/20140274/summary_091714.pdf\n",
        "File exists, skipping\n",
        "Saving: 09-26-2014/20140274/10-purpose-and-need_091714.pdf\n",
        "File exists, skipping\n",
        "Saving: 09-26-2014/20140274/20-alternatives_091714.pdf\n",
        "File exists, skipping"
       ]
      },
      {
       "output_type": "stream",
       "stream": "stdout",
       "text": [
        "\n",
        "Saving: 09-26-2014/20140274/301-introduction-091714.pdf\n",
        "File exists, skipping\n",
        "Saving: 09-26-2014/20140274/302-social-and-economic_091714.pdf\n",
        "File exists, skipping\n",
        "Saving: 09-26-2014/20140274/303-agricultural_091714.pdf\n",
        "File exists, skipping"
       ]
      },
      {
       "output_type": "stream",
       "stream": "stdout",
       "text": [
        "\n",
        "Saving: 09-26-2014/20140274/304-cultural-resources_091714.pdf\n",
        "File exists, skipping\n",
        "Saving: 09-26-2014/20140274/305-air-quality_091714.pdf\n",
        "File exists, skipping\n",
        "Saving: 09-26-2014/20140274/306-noise_091714.pdf\n",
        "File exists, skipping"
       ]
      },
      {
       "output_type": "stream",
       "stream": "stdout",
       "text": [
        "\n",
        "Saving: 09-26-2014/20140274/307-energy_091714.pdf\n",
        "File exists, skipping\n",
        "Saving: 09-26-2014/20140274/308-natural-resources_091714.pdf\n",
        "File exists, skipping\n",
        "Saving: 09-26-2014/20140274/309-water-resources_091714.pdf\n",
        "File exists, skipping"
       ]
      },
      {
       "output_type": "stream",
       "stream": "stdout",
       "text": [
        "\n",
        "Saving: 09-26-2014/20140274/310-groundwater-resources_091714.pdf\n",
        "File exists, skipping\n",
        "Saving: 09-26-2014/20140274/311-floodplains_091714.pdf\n",
        "File exists, skipping\n",
        "Saving: 09-26-2014/20140274/312-wetlands-091714.pdf\n",
        "File exists, skipping"
       ]
      },
      {
       "output_type": "stream",
       "stream": "stdout",
       "text": [
        "\n",
        "Saving: 09-26-2014/20140274/313-specialhaz-waste_091714.pdf\n",
        "File exists, skipping\n",
        "Saving: 09-26-2014/20140274/314-special-lands_091714.pdf\n",
        "File exists, skipping\n",
        "Saving: 09-26-2014/20140274/315-permits-and-certs_091714.pdf\n",
        "File exists, skipping"
       ]
      },
      {
       "output_type": "stream",
       "stream": "stdout",
       "text": [
        "\n",
        "Saving: 09-26-2014/20140274/316-mineral-resources_091714.pdf\n",
        "File exists, skipping"
       ]
      },
      {
       "output_type": "stream",
       "stream": "stdout",
       "text": [
        "\n",
        "Saving: 09-26-2014/20140274/317-visual-resources_091714.pdf\n",
        "File exists, skipping\n",
        "Saving: 09-26-2014/20140274/318-indirect-and-cumulative_091714.pdf\n",
        "File exists, skipping\n",
        "Saving: 09-26-2014/20140274/319_il53-design-options_091714.pdf\n",
        "File exists, skipping"
       ]
      },
      {
       "output_type": "stream",
       "stream": "stdout",
       "text": [
        "\n",
        "Saving: 09-26-2014/20140274/320-construction-impacts_091714.pdf\n",
        "File exists, skipping\n",
        "Saving: 09-26-2014/20140274/321-relationship-between-shortterm-and-longterm_091714.pdf\n",
        "File exists, skipping\n",
        "Saving: 09-26-2014/20140274/322-irreversibleirretrievable-commitments_091714.pdf\n",
        "File exists, skipping"
       ]
      },
      {
       "output_type": "stream",
       "stream": "stdout",
       "text": [
        "\n",
        "Saving: 09-26-2014/20140274/323-mitigation-commitment-summary_091714.pdf\n",
        "File exists, skipping\n",
        "Saving: 09-26-2014/20140274/map-set-complete_091714.pdf\n",
        "File exists, skipping\n",
        "Saving: 09-26-2014/20140274/40-section-4f-evaluation_091714.pdf\n",
        "File exists, skipping"
       ]
      },
      {
       "output_type": "stream",
       "stream": "stdout",
       "text": [
        "\n",
        "Saving: 09-26-2014/20140274/50-identification-of-the-preferred-alternative_091714.pdf\n",
        "File exists, skipping\n",
        "Saving: 09-26-2014/20140274/60-comments-and-coordination_091714.pdf\n",
        "File exists, skipping\n",
        "Saving: 09-26-2014/20140274/70-list-of-preparers_091714.pdf\n",
        "File exists, skipping"
       ]
      },
      {
       "output_type": "stream",
       "stream": "stdout",
       "text": [
        "\n",
        "Saving: 09-26-2014/20140274/80-list-of-feis-recipients_091714.pdf\n",
        "File exists, skipping\n",
        "Saving: 09-26-2014/20140274/references_091714.pdf\n",
        "File exists, skipping\n",
        "Saving: 09-26-2014/20140274/index_091714.pdf\n",
        "File exists, skipping"
       ]
      },
      {
       "output_type": "stream",
       "stream": "stdout",
       "text": [
        "\n",
        "Saving: 09-26-2014/20140281/full-draft-seis-without-figures.pdf\n",
        "File exists, skipping\n",
        "Saving: 09-26-2014/20140281/full-draft-seis-figures-only.pdf\n",
        "File exists, skipping\n",
        "Saving: 09-26-2014/20140281/appendix-aa--traffic-forecast-report.pdf\n",
        "File exists, skipping"
       ]
      },
      {
       "output_type": "stream",
       "stream": "stdout",
       "text": [
        "\n",
        "Saving: 09-26-2014/20140281/appendix-bb--lynn-canal-revenues--expenditures.pdf\n",
        "File exists, skipping\n",
        "Saving: 09-26-2014/20140281/appendix-cc--alternative-1b-memo.pdf\n",
        "File exists, skipping"
       ]
      },
      {
       "output_type": "stream",
       "stream": "stdout",
       "text": [
        "\n",
        "Saving: 09-26-2014/20140281/appendix-dd--land-use-report.pdf\n",
        "File exists, skipping\n",
        "Saving: 09-26-2014/20140281/appendix-ee--socioecon-effects-tech-report.pdf\n",
        "File exists, skipping\n",
        "Saving: 09-26-2014/20140281/appendix-ff--user-benefit-analyses.pdf\n",
        "File exists, skipping"
       ]
      },
      {
       "output_type": "stream",
       "stream": "stdout",
       "text": [
        "\n",
        "Saving: 09-26-2014/20140281/appendix-gg--marine-segments-tech-report.pdf\n",
        "File exists, skipping\n",
        "Saving: 09-26-2014/20140281/appendix-hh--preliminary-bridge-report.pdf\n",
        "File exists, skipping\n",
        "Saving: 09-26-2014/20140281/appendix-z-cover-intro--contents.pdf\n",
        "File exists, skipping"
       ]
      },
      {
       "output_type": "stream",
       "stream": "stdout",
       "text": [
        "\n",
        "Saving: 09-26-2014/20140281/appendix-z-update-to-d1--tech-alignment-rept.pdf\n",
        "File exists, skipping\n",
        "Saving: 09-26-2014/20140281/appendix-z-update-to-d2--tech-alignment-rept.pdf\n",
        "File exists, skipping\n",
        "Saving: 09-26-2014/20140281/appendix-z-update-to-g--visual-resources-tech-rprt.pdf\n",
        "File exists, skipping"
       ]
      },
      {
       "output_type": "stream",
       "stream": "stdout",
       "text": [
        "\n",
        "Saving: 09-26-2014/20140281/appendix-z-update-to-j--avalanche-tech-rept.pdf\n",
        "File exists, skipping\n",
        "Saving: 09-26-2014/20140281/appendix-z-update-to-k--water-quality-rept.pdf\n",
        "File exists, skipping\n",
        "Saving: 09-26-2014/20140281/appendix-z-update-to-l--noise-technical-report.pdf\n",
        "File exists, skipping"
       ]
      },
      {
       "output_type": "stream",
       "stream": "stdout",
       "text": [
        "\n",
        "Saving: 09-26-2014/20140281/appendix-z-update-to-m--isa-tech-report.pdf\n",
        "File exists, skipping\n",
        "Saving: 09-26-2014/20140281/appendix-z-update-to-n--efh-assessment.pdf\n",
        "File exists, skipping\n",
        "Saving: 09-26-2014/20140281/appendix-z-update-to-o--wetlands-tech-rept.pdf\n",
        "File exists, skipping"
       ]
      },
      {
       "output_type": "stream",
       "stream": "stdout",
       "text": [
        "\n",
        "Saving: 09-26-2014/20140281/appendix-z-update-to-p---anad--res-fish-tech-rept.pdf\n",
        "File exists, skipping\n",
        "Saving: 09-26-2014/20140281/appendix-z-update-to-q--wildlife-tech-rept.pdf\n",
        "File exists, skipping\n",
        "Saving: 09-26-2014/20140281/appendix-z-update-to-r--bald-eagle-tech-rept.pdf\n",
        "File exists, skipping"
       ]
      },
      {
       "output_type": "stream",
       "stream": "stdout",
       "text": [
        "\n",
        "Saving: 09-26-2014/20140281/appendix-z-update-to-s--steller-sea-lion-tech-rept.pdf\n",
        "File exists, skipping\n",
        "Saving: 09-26-2014/20140281/appendix-z-update-to-t--air-quality-modeling-memo.pdf\n",
        "File exists, skipping"
       ]
      },
      {
       "output_type": "stream",
       "stream": "stdout",
       "text": [
        "\n",
        "Saving: 09-26-2014/20140281/appendix-z-update-to-x--section-404.pdf\n",
        "File exists, skipping\n",
        "Saving: 09-26-2014/20140280/aaf-orlando-to-miami-deis-signed.pdf\n",
        "File exists, skipping\n",
        "Saving: 09-26-2014/20140280/11a1_2013fonsi.pdf\n",
        "File exists, skipping"
       ]
      },
      {
       "output_type": "stream",
       "stream": "stdout",
       "text": [
        "\n",
        "Saving: 09-26-2014/20140280/11a2_2013fonsiexhibits.pdf\n",
        "File exists, skipping\n",
        "Saving: 09-26-2014/20140280/33a_ft_lauderdale_station_reevaluation.pdf\n",
        "File exists, skipping\n",
        "Saving: 09-26-2014/20140280/33b1_alternativea_mco_segment_planset.pdf\n",
        "File exists, skipping"
       ]
      },
      {
       "output_type": "stream",
       "stream": "stdout",
       "text": [
        "\n",
        "Saving: 09-26-2014/20140280/33b2_alternativea_ew_corridor_oocea_portion_planset.pdf\n",
        "File exists, skipping\n",
        "Saving: 09-26-2014/20140280/33b3_alternativea_ew_corridor_fdot_portion_planset.pdf\n",
        "File exists, skipping\n",
        "Saving: 09-26-2014/20140280/33b4_alternativea_ns_corridor_trackchart.pdf\n",
        "File exists, skipping"
       ]
      },
      {
       "output_type": "stream",
       "stream": "stdout",
       "text": [
        "\n",
        "Saving: 09-26-2014/20140280/33c_gradecrossingdetails.pdf\n",
        "File exists, skipping\n",
        "Saving: 09-26-2014/20140280/33d_alternativec_ew_corridor_oocea_portion_planset.pdf\n",
        "File exists, skipping\n",
        "Saving: 09-26-2014/20140280/33e_alternativee_ew_corridor_oocea_portion_planset.pdf\n",
        "File exists, skipping"
       ]
      },
      {
       "output_type": "stream",
       "stream": "stdout",
       "text": [
        "\n",
        "Saving: 09-26-2014/20140280/33f_ridershipandrevenuestudysummary.pdf\n",
        "File exists, skipping\n",
        "Saving: 09-26-2014/20140280/411a_existinglandusemaps.pdf\n",
        "File exists, skipping\n",
        "Saving: 09-26-2014/20140280/413a-uscg_cooperatingagency_acceptance_080213.pdf\n",
        "File exists, skipping"
       ]
      },
      {
       "output_type": "stream",
       "stream": "stdout",
       "text": [
        "\n",
        "Saving: 09-26-2014/20140280/413b-uscg_jurisdictionaldeterminations20130501.pdf\n",
        "File exists, skipping"
       ]
      },
      {
       "output_type": "stream",
       "stream": "stdout",
       "text": [
        "\n",
        "Saving: 09-26-2014/20140280/413c-navigation-discipline-report.pdf\n",
        "File exists, skipping\n",
        "Saving: 09-26-2014/20140280/413d_addendumtonavigationdisciplinereport.pdf\n",
        "File exists, skipping\n",
        "Saving: 09-26-2014/20140280/424a_potentiallycontaminatedsites_aerial_photographs.pdf\n",
        "File exists, skipping"
       ]
      },
      {
       "output_type": "stream",
       "stream": "stdout",
       "text": [
        "\n",
        "Saving: 09-26-2014/20140280/431a_uscgmeetingnotesregardingbridgesandnav08122013.pdf\n",
        "File exists, skipping\n",
        "Saving: 09-26-2014/20140280/433a1_uplandplantspecies.pdf\n",
        "File exists, skipping\n",
        "Saving: 09-26-2014/20140280/433a2_wetlandplantspecies.pdf\n",
        "File exists, skipping"
       ]
      },
      {
       "output_type": "stream",
       "stream": "stdout",
       "text": [
        "\n",
        "Saving: 09-26-2014/20140280/433alocationofimpactedwetlandsalongewcorridor.pdf\n",
        "File exists, skipping"
       ]
      },
      {
       "output_type": "stream",
       "stream": "stdout",
       "text": [
        "\n",
        "Saving: 09-26-2014/20140280/435a_essentialfishhabitatassessment.pdf\n",
        "File exists, skipping\n",
        "Saving: 09-26-2014/20140280/436a_rarespeciessurveys.pdf\n",
        "File exists, skipping\n",
        "Saving: 09-26-2014/20140280/436b_rarespeciesconsultationareas.pdf\n",
        "File exists, skipping"
       ]
      },
      {
       "output_type": "stream",
       "stream": "stdout",
       "text": [
        "\n",
        "Saving: 09-26-2014/20140280/442a_minoritypopulations.pdf\n",
        "File exists, skipping\n",
        "Saving: 09-26-2014/20140280/442b_povertypopulations.pdf\n",
        "File exists, skipping\n",
        "Saving: 09-26-2014/20140280/445a1_nhpasection106consultation_march2013meetingminutes.pdf\n",
        "File exists, skipping"
       ]
      },
      {
       "output_type": "stream",
       "stream": "stdout",
       "text": [
        "\n",
        "Saving: 09-26-2014/20140280/445a2_nhpasection106consultation_july2013meetingminutes.pdf\n",
        "File exists, skipping\n",
        "Saving: 09-26-2014/20140280/445a3_nhpasection106consultation_october2013letter.pdf\n",
        "File exists, skipping\n",
        "Saving: 09-26-2014/20140280/445a4_thpo0011849-response.pdf\n",
        "File exists, skipping"
       ]
      },
      {
       "output_type": "stream",
       "stream": "stdout",
       "text": [
        "\n",
        "Saving: 09-26-2014/20140280/445a5_culturalresources_fdot_2013letter.pdf\n",
        "File exists, skipping\n",
        "Saving: 09-26-2014/20140280/445b1_culturalresourcesproximatetomcoandvmf.pdf\n",
        "File exists, skipping\n",
        "Saving: 09-26-2014/20140280/445b2_culturalresourcesproximatetotheewcorridor.pdf\n",
        "File exists, skipping"
       ]
      },
      {
       "output_type": "stream",
       "stream": "stdout",
       "text": [
        "\n",
        "Saving: 09-26-2014/20140280/445b3_culturalresourcesproximatetothenscorridorpart1.pdf\n",
        "File exists, skipping\n",
        "Saving: 09-26-2014/20140280/445b3_culturalresourcesproximatetothenscorridor2part2.pdf\n",
        "File exists, skipping\n",
        "Saving: 09-26-2014/20140280/446arecreationresourcesby_county.pdf\n",
        "File exists, skipping"
       ]
      },
      {
       "output_type": "stream",
       "stream": "stdout",
       "text": [
        "\n",
        "Saving: 09-26-2014/20140280/522a1_noise_and_vibration_contours_vmf.pdf\n",
        "File exists, skipping\n",
        "Saving: 09-26-2014/20140280/522a2_noise_and_vibration_contours_mco_segment.pdf\n",
        "File exists, skipping"
       ]
      },
      {
       "output_type": "stream",
       "stream": "stdout",
       "text": [
        "\n",
        "Saving: 09-26-2014/20140280/522a3_noise_and_vibration_contours_nsandew_corridors.pdf\n",
        "File exists, skipping\n",
        "Saving: 09-26-2014/20140280/522b_noiseimpacttables.pdf\n",
        "File exists, skipping\n",
        "Saving: 09-26-2014/20140280/522c_vibrationimpacttables.pdf\n",
        "File exists, skipping"
       ]
      },
      {
       "output_type": "stream",
       "stream": "stdout",
       "text": [
        "\n",
        "Saving: 09-26-2014/20140280/523a_farmlandsoils_nrcs_form.pdf\n",
        "File exists, skipping\n",
        "Saving: 09-26-2014/20140280/524a_riskevaluationsummarytable.pdf\n",
        "File exists, skipping\n",
        "Saving: 09-26-2014/20140280/531a_bridge_crossing_maps.pdf\n",
        "File exists, skipping"
       ]
      },
      {
       "output_type": "stream",
       "stream": "stdout",
       "text": [
        "\n",
        "Saving: 09-26-2014/20140280/534a_floodplains.pdf\n",
        "File exists, skipping\n",
        "Saving: 09-26-2014/20140280/536a1_esasection7coordinationmaterials.pdf\n",
        "File exists, skipping\n",
        "Saving: 09-26-2014/20140280/536b1_esasection7consultation_20130918.pdf\n",
        "File exists, skipping"
       ]
      },
      {
       "output_type": "stream",
       "stream": "stdout",
       "text": [
        "\n",
        "Saving: 09-26-2014/20140280/536b2_esasection7consultation_20130919.pdf\n",
        "File exists, skipping\n",
        "Saving: 09-26-2014/20140280/536b3_esasection7consultation_20130924.pdf\n",
        "File exists, skipping\n",
        "Saving: 09-26-2014/20140280/536b4_esasection7consultation_20131028.pdf\n",
        "File exists, skipping"
       ]
      },
      {
       "output_type": "stream",
       "stream": "stdout",
       "text": [
        "\n",
        "Saving: 09-26-2014/20140280/536b5_esasection7consultation_20131101.pdf\n",
        "File exists, skipping\n",
        "Saving: 09-26-2014/20140280/536b6_esa_section7consultation_20140129.pdf\n",
        "File exists, skipping\n",
        "Saving: 09-26-2014/20140280/81a_federal_register_noi_20130415.pdf\n",
        "File exists, skipping"
       ]
      },
      {
       "output_type": "stream",
       "stream": "stdout",
       "text": [
        "\n",
        "Saving: 09-26-2014/20140280/81b_scopingreport.pdf\n",
        "File exists, skipping\n",
        "Saving: 09-26-2014/20140273/como-fhp-deis--cover-letter.pdf\n",
        "File exists, skipping\n",
        "Saving: 09-26-2014/20140273/como-fhp-deis--chapter-1-purpose-and-need.pdf\n",
        "File exists, skipping"
       ]
      },
      {
       "output_type": "stream",
       "stream": "stdout",
       "text": [
        "\n",
        "Saving: 09-26-2014/20140273/como-fhp-deis--chapter-2-alternatives.pdf\n",
        "File exists, skipping\n",
        "Saving: 09-26-2014/20140273/como-fhp-deis--chapter-31-silviculture.pdf\n",
        "File exists, skipping\n",
        "Saving: 09-26-2014/20140273/como-fhp-deis--chapter-32-fire-and-fuels.pdf\n",
        "File exists, skipping"
       ]
      },
      {
       "output_type": "stream",
       "stream": "stdout",
       "text": [
        "\n",
        "Saving: 09-26-2014/20140273/como-fhp-deis--chapter-33-wildlife.pdf\n",
        "File exists, skipping\n",
        "Saving: 09-26-2014/20140273/como-fhp-deis--chapter-34-scenery.pdf\n",
        "File exists, skipping\n",
        "Saving: 09-26-2014/20140273/como-fhp-deis--chapter-35-recreation.pdf\n",
        "File exists, skipping"
       ]
      },
      {
       "output_type": "stream",
       "stream": "stdout",
       "text": [
        "\n",
        "Saving: 09-26-2014/20140273/como-fhp-deis--chapter-36-soils.pdf\n",
        "File exists, skipping\n",
        "Saving: 09-26-2014/20140273/como-fhp-deis--chapter-37-hydrology.pdf\n",
        "File exists, skipping"
       ]
      },
      {
       "output_type": "stream",
       "stream": "stdout",
       "text": [
        "\n",
        "Saving: 09-26-2014/20140273/como-fhp-deis--chapter-38-fisheries.pdf\n",
        "File exists, skipping\n",
        "Saving: 09-26-2014/20140273/como-fhp-deis--chapter-39-rare-plants.pdf\n",
        "File exists, skipping\n",
        "Saving: 09-26-2014/20140273/como-fhp-deis--chapter-310-invasive-plants.pdf\n",
        "File exists, skipping"
       ]
      },
      {
       "output_type": "stream",
       "stream": "stdout",
       "text": [
        "\n",
        "Saving: 09-26-2014/20140273/como-fhp-deis--chapter-311-transportation.pdf\n",
        "File exists, skipping\n",
        "Saving: 09-26-2014/20140273/como-fhp-deis--chapter-312-roadless-areas.pdf\n",
        "File exists, skipping\n",
        "Saving: 09-26-2014/20140273/como-fhp-deis--chapter-313-heritage.pdf\n",
        "File exists, skipping"
       ]
      },
      {
       "output_type": "stream",
       "stream": "stdout",
       "text": [
        "\n",
        "Saving: 09-26-2014/20140273/como-fhp-deis--chapter-314-air-quality.pdf\n",
        "File exists, skipping\n",
        "Saving: 09-26-2014/20140273/como-fhp-deis--chapter-315-economics.pdf\n",
        "File exists, skipping\n",
        "Saving: 09-26-2014/20140273/como-fhp-deis--appendices.pdf\n",
        "File exists, skipping"
       ]
      },
      {
       "output_type": "stream",
       "stream": "stdout",
       "text": [
        "\n",
        "Saving: 09-26-2014/20140272/fseistemproads.pdf\n",
        "File exists, skipping\n",
        "Saving: 09-26-2014/20140277/grlafeis.pdf\n",
        "File exists, skipping\n",
        "Saving: 09-26-2014/20140277/map1grlavicinity11x17030812.pdf\n",
        "File exists, skipping"
       ]
      },
      {
       "output_type": "stream",
       "stream": "stdout",
       "text": [
        "\n",
        "Saving: 09-26-2014/20140277/map2grlasummarya2rl11x1781114.pdf\n",
        "File exists, skipping\n",
        "Saving: 09-26-2014/20140277/map3grlasummarya2rlzoom11x1781114.pdf\n",
        "File exists, skipping"
       ]
      },
      {
       "output_type": "stream",
       "stream": "stdout",
       "text": [
        "\n",
        "Saving: 09-26-2014/20140277/map4grlacomsummarya2wnc11x178414.pdf\n",
        "File exists, skipping\n",
        "Saving: 09-26-2014/20140277/map53rl11x1781114.pdf\n",
        "File exists, skipping"
       ]
      },
      {
       "output_type": "stream",
       "stream": "stdout",
       "text": [
        "\n",
        "Saving: 09-26-2014/20140277/map63rl11x1781114zoom.pdf\n",
        "File exists, skipping\n",
        "Saving: 09-26-2014/20140277/map7grlacomsummarya3wnc11x17082114.pdf\n",
        "File exists, skipping\n",
        "Saving: 09-26-2014/20140277/map8comsummarya4rl11x1781114.pdf\n",
        "File exists, skipping"
       ]
      },
      {
       "output_type": "stream",
       "stream": "stdout",
       "text": [
        "\n",
        "Saving: 09-26-2014/20140277/map9summarya4rl11x17081114zoom.pdf\n",
        "File exists, skipping\n",
        "Saving: 09-26-2014/20140277/map10grlacomsummarya4wnc11x17082114.pdf\n",
        "File exists, skipping\n",
        "Saving: 09-26-2014/20140277/map16fishdistrl08291411x17.pdf\n",
        "File exists, skipping"
       ]
      },
      {
       "output_type": "stream",
       "stream": "stdout",
       "text": [
        "\n",
        "Saving: 09-26-2014/20140277/map17fishdistwmc08291411x17.pdf\n",
        "File exists, skipping\n",
        "Saving: 09-26-2014/20140277/map20grlarlpretreatcovrl11x17021814.pdf\n",
        "File exists, skipping\n",
        "Saving: 09-26-2014/20140277/map21grlarlpretreatcovwnc11x17021814.pdf\n",
        "File exists, skipping"
       ]
      },
      {
       "output_type": "stream",
       "stream": "stdout",
       "text": [
        "\n",
        "Saving: 09-26-2014/20140277/map23grlarlposttreatcovwncalt211x17.pdf\n",
        "File exists, skipping\n",
        "Saving: 09-26-2014/20140277/map24grlarlposttreatcovrlalt311x17.pdf\n",
        "File exists, skipping\n",
        "Saving: 09-26-2014/20140277/map28grlalynx11x1722514exist.pdf\n",
        "File exists, skipping"
       ]
      },
      {
       "output_type": "stream",
       "stream": "stdout",
       "text": [
        "\n",
        "Saving: 09-26-2014/20140277/map30grlalynx11x1722514alt3.pdf\n",
        "File exists, skipping\n",
        "Saving: 09-26-2014/20140277/map44grlaeausec11x17pre.pdf\n",
        "File exists, skipping"
       ]
      },
      {
       "output_type": "stream",
       "stream": "stdout",
       "text": [
        "\n",
        "Saving: 09-26-2014/20140277/map45grlaeausec11x17duralt2.pdf\n",
        "File exists, skipping\n",
        "Saving: 09-26-2014/20140277/map49rangepasturemitigationredlodgecr11x17.pdf\n",
        "File exists, skipping\n",
        "Saving: 09-26-2014/20140277/map50rangepasturemitigationhogancr11x17.pdf\n",
        "File exists, skipping"
       ]
      },
      {
       "output_type": "stream",
       "stream": "stdout",
       "text": [
        "\n",
        "Saving: 09-26-2014/20140277/map51weedriskassessmentredlodgecr11x17.pdf\n",
        "File exists, skipping\n",
        "Saving: 09-26-2014/20140277/map52weedriskassessmentwfrc11x17.pdf\n",
        "File exists, skipping\n",
        "Saving: 09-26-2014/20140277/map54grlaroads14aug12rlalt3_54.pdf\n",
        "File exists, skipping"
       ]
      },
      {
       "output_type": "stream",
       "stream": "stdout",
       "text": [
        "\n",
        "Saving: 09-26-2014/20140277/map56roadswncalt2.pdf\n",
        "File exists, skipping\n",
        "Saving: 09-26-2014/20140277/map59grlaroadsstatealt3.pdf\n",
        "File exists, skipping\n",
        "Saving: 09-26-2014/20140277/map62grlapfatreatmentsalt3.pdf\n",
        "File exists, skipping"
       ]
      },
      {
       "output_type": "stream",
       "stream": "stdout",
       "text": [
        "\n",
        "Saving: 09-26-2014/20140277/map68grlacomsummarya3rl11x178414.pdf\n",
        "File exists, skipping\n",
        "Saving: 09-26-2014/20140277/map69grlacomsummarya3rl11x178414zoom.pdf\n",
        "File exists, skipping\n",
        "Saving: 09-26-2014/20140277/map71grlalynxec11x178414.pdf\n",
        "File exists, skipping"
       ]
      },
      {
       "output_type": "stream",
       "stream": "stdout",
       "text": [
        "\n",
        "Saving: 09-26-2014/20140277/map72grlalynxalt3mod1x178414.pdf\n",
        "File exists, skipping\n",
        "Saving: 09-26-2014/20140277/map73grlalynxalt2wnc11x178514.pdf\n",
        "File exists, skipping\n",
        "Saving: 09-26-2014/20140277/map74grlaimpwetwnc11x17.pdf\n",
        "File exists, skipping"
       ]
      },
      {
       "output_type": "stream",
       "stream": "stdout",
       "text": [
        "\n",
        "Saving: 09-26-2014/20140277/map75impwetrl11x17.pdf\n",
        "File exists, skipping\n",
        "Saving: 09-26-2014/20140277/map76grizzlysecpre8714.pdf\n",
        "File exists, skipping\n",
        "Saving: 09-26-2014/20140277/map77grizzlysecdur8714.pdf\n",
        "File exists, skipping"
       ]
      },
      {
       "output_type": "stream",
       "stream": "stdout",
       "text": [
        "\n",
        "Saving: 09-26-2014/20140277/map78grizzlysecpost8714.pdf\n",
        "File exists, skipping\n",
        "Saving: 09-26-2014/20140277/map79roaddenpre8814.pdf\n",
        "File exists, skipping\n",
        "Saving: 09-26-2014/20140277/map80roaddendur8814.pdf\n",
        "File exists, skipping"
       ]
      },
      {
       "output_type": "stream",
       "stream": "stdout",
       "text": [
        "\n",
        "Saving: 09-26-2014/20140277/map81roaddenpost8814.pdf\n",
        "File exists, skipping\n",
        "Saving: 09-26-2014/20140277/map90grlaelktcov0511x1781514.pdf\n",
        "File exists, skipping\n",
        "Saving: 09-26-2014/20140277/map91grlaelkcovdist082114.pdf\n",
        "File exists, skipping"
       ]
      },
      {
       "output_type": "stream",
       "stream": "stdout",
       "text": [
        "\n",
        "Saving: 09-26-2014/20140277/map92grizzlyobsmap82814.pdf\n",
        "File exists, skipping\n",
        "Saving: 09-26-2014/20140277/map93fishsurveyrl082914.pdf\n",
        "File exists, skipping\n",
        "Saving: 09-26-2014/20140277/map94fishsurveywnc082914.pdf\n",
        "File exists, skipping"
       ]
      },
      {
       "output_type": "stream",
       "stream": "stdout",
       "text": [
        "\n",
        "Saving: 09-26-2014/20140277/appendixbfirefuels.pdf\n",
        "File exists, skipping\n",
        "Saving: 09-26-2014/20140277/appendixcforestvegetationtable.pdf\n",
        "File exists, skipping\n",
        "Saving: 09-26-2014/20140277/appendixd_soilwaterbmps.pdf\n",
        "File exists, skipping"
       ]
      },
      {
       "output_type": "stream",
       "stream": "stdout",
       "text": [
        "\n",
        "Saving: 09-26-2014/20140277/appendixetransportation.pdf\n",
        "File exists, skipping\n",
        "Saving: 09-26-2014/20140277/appendixfweeds.pdf\n",
        "File exists, skipping\n",
        "Saving: 09-26-2014/20140277/indexglossaryliteraturecited.pdf\n",
        "File exists, skipping"
       ]
      },
      {
       "output_type": "stream",
       "stream": "stdout",
       "text": [
        "\n",
        "Saving: 09-19-2014/20140269/boem2014655-reduced-size.pdf\n",
        "Saving: 09-19-2014/20140271/west_waukesha_bypass_feis_1_of_2.pdf"
       ]
      },
      {
       "output_type": "stream",
       "stream": "stdout",
       "text": [
        "\n",
        "File exists, skipping"
       ]
      },
      {
       "output_type": "stream",
       "stream": "stdout",
       "text": [
        "\n",
        "Saving: 09-19-2014/20140271/west_waukesha_bypass_feis_2_of_2.pdf\n",
        "File exists, skipping\n",
        "Saving: 09-19-2014/20140271/supplemental_information_1_of_7.pdf\n",
        "File exists, skipping\n",
        "Saving: 09-19-2014/20140271/supplemental_information_2_of_7.pdf\n",
        "File exists, skipping"
       ]
      },
      {
       "output_type": "stream",
       "stream": "stdout",
       "text": [
        "\n",
        "Saving: 09-19-2014/20140271/supplemental_information_3_of_7.pdf\n",
        "File exists, skipping\n",
        "Saving: 09-19-2014/20140271/supplemental_information_4_of_7.pdf\n",
        "File exists, skipping\n",
        "Saving: 09-19-2014/20140271/supplemental_information_5_of_7.pdf\n",
        "File exists, skipping"
       ]
      },
      {
       "output_type": "stream",
       "stream": "stdout",
       "text": [
        "\n",
        "Saving: 09-19-2014/20140271/supplemental_information_6_of_7.pdf\n",
        "File exists, skipping\n",
        "Saving: 09-19-2014/20140271/supplemental_information_7_of_7.pdf\n",
        "File exists, skipping\n",
        "Saving: 09-19-2014/20140264/sdeis-us-30--fap-309-from-il-136-to-il-40-whiteside-county-illinois.pdf\n",
        "File exists, skipping"
       ]
      },
      {
       "output_type": "stream",
       "stream": "stdout",
       "text": [
        "\n",
        "Saving: 09-19-2014/20140264/us-30-sdeis-il-part-1--public-involvement-report.pdf\n",
        "File exists, skipping\n",
        "Saving: 09-19-2014/20140264/us-30-sdeis-il-part-2--public-involvement-report.pdf\n",
        "File exists, skipping\n",
        "Saving: 09-19-2014/20140264/us-30-sdeis-il-part-3--public-involvement-report.pdf\n",
        "File exists, skipping"
       ]
      },
      {
       "output_type": "stream",
       "stream": "stdout",
       "text": [
        "\n",
        "Saving: 09-19-2014/20140264/us-30-sdeis-il-part-4--public-involvement-report.pdf\n",
        "File exists, skipping\n",
        "Saving: 09-19-2014/20140266/executive-summary-and-table-of-contents.pdf\n",
        "File exists, skipping"
       ]
      },
      {
       "output_type": "stream",
       "stream": "stdout",
       "text": [
        "\n",
        "Saving: 09-19-2014/20140266/chapter-1-purpose-and-need.pdf\n",
        "File exists, skipping\n",
        "Saving: 09-19-2014/20140266/chapter-2-alternatives-considered.pdf\n",
        "File exists, skipping\n",
        "Saving: 09-19-2014/20140266/chapter-3-accepted-environment-and-environmental-consequences.pdf\n",
        "File exists, skipping"
       ]
      },
      {
       "output_type": "stream",
       "stream": "stdout",
       "text": [
        "\n",
        "Saving: 09-19-2014/20140266/chapter-4-public-involvement-and-agency-coordination.pdf\n",
        "File exists, skipping\n",
        "Saving: 09-19-2014/20140266/chapter-5-next-steps.pdf\n",
        "File exists, skipping\n",
        "Saving: 09-19-2014/20140266/chapter-6-list-of-preparers.pdf\n",
        "File exists, skipping"
       ]
      },
      {
       "output_type": "stream",
       "stream": "stdout",
       "text": [
        "\n",
        "Saving: 09-19-2014/20140266/chapter-7-references.pdf\n",
        "File exists, skipping\n",
        "Saving: 09-19-2014/20140266/chapter-8-distribution-of-the-tier-1-draft-eis.pdf\n",
        "File exists, skipping\n",
        "Saving: 09-19-2014/20140266/index.pdf\n",
        "File exists, skipping"
       ]
      },
      {
       "output_type": "stream",
       "stream": "stdout",
       "text": [
        "\n",
        "Saving: 09-19-2014/20140266/appendix-a-level-1-alternatives-screening-summaries.pdf\n",
        "File exists, skipping\n",
        "Saving: 09-19-2014/20140266/appendix-b-no-build-list.pdf\n",
        "File exists, skipping\n",
        "Saving: 09-19-2014/20140266/appendix-c-preliminary-full--buildout-train-schedule.pdf\n",
        "File exists, skipping"
       ]
      },
      {
       "output_type": "stream",
       "stream": "stdout",
       "text": [
        "\n",
        "Saving: 09-19-2014/20140266/appendix-d-mapbook-part-1-of-4.pdf\n",
        "File exists, skipping\n",
        "Saving: 09-19-2014/20140266/appendix-d-mapbook-part-2-of-4.pdf\n",
        "File exists, skipping\n",
        "Saving: 09-19-2014/20140266/appendix-d-mapbook-part-3-of-4.pdf\n",
        "File exists, skipping"
       ]
      },
      {
       "output_type": "stream",
       "stream": "stdout",
       "text": [
        "\n",
        "Saving: 09-19-2014/20140266/appendix-d-mapbook-part-4-of-4.pdf\n",
        "File exists, skipping\n",
        "Saving: 09-19-2014/20140266/appendix-e-ridership-and-revenue-forecasts-and-operating-and-maintenance-costs.pdf\n",
        "File exists, skipping\n",
        "Saving: 09-19-2014/20140266/appendix-f-demographic-information.pdf\n",
        "File exists, skipping"
       ]
      },
      {
       "output_type": "stream",
       "stream": "stdout",
       "text": [
        "\n",
        "Saving: 09-19-2014/20140266/appendix-g-emissions-calculations-and-fuel.pdf\n",
        "File exists, skipping\n",
        "Saving: 09-19-2014/20140266/appendix-h-hazardous-materials-reports.pdf\n",
        "File exists, skipping\n",
        "Saving: 09-19-2014/20140266/appendix-i-water-resources-data.pdf\n",
        "File exists, skipping"
       ]
      },
      {
       "output_type": "stream",
       "stream": "stdout",
       "text": [
        "\n",
        "Saving: 09-19-2014/20140266/appendix-j-threatened-and-endangered-species-list.pdf\n",
        "File exists, skipping\n",
        "Saving: 09-19-2014/20140266/appendix-k-public-meeting-summaries.pdf\n",
        "File exists, skipping\n",
        "Saving: 09-19-2014/20140266/signature-page-signed.pdf\n",
        "File exists, skipping"
       ]
      },
      {
       "output_type": "stream",
       "stream": "stdout",
       "text": [
        "\n",
        "Saving: 09-19-2014/20140270/nureg2157-volumes-1-and-2-generic-environmental-impact-statement-for-continued-storage-of-spent-nuclear-fuel.pdf\n",
        "File exists, skipping\n",
        "Saving: 09-19-2014/20140268/fpeis_removal-and-disposal-of-sediment-and-restoration-of-water-storage-at-john-redmond-reservoir-kansas.pdf\n",
        "Saving: 09-19-2014/20140265/final-environmental-impact-statement--oregon-dunes-nra-management-area-10c-designated-routes-project.pdf"
       ]
      },
      {
       "output_type": "stream",
       "stream": "stdout",
       "text": [
        "\n",
        "File exists, skipping\n",
        "Saving: 09-19-2014/20140265/feis--appendix-a--part-1.pdf\n",
        "File exists, skipping\n",
        "Saving: 09-19-2014/20140265/feis--appendix-a--part-2.pdf\n",
        "File exists, skipping"
       ]
      },
      {
       "output_type": "stream",
       "stream": "stdout",
       "text": [
        "\n",
        "Saving: 09-19-2014/20140265/draft-record-of-decision--oregon-dunes-nra-management-area-10c-designated-routes-project.pdf\n",
        "File exists, skipping\n",
        "Saving: 09-19-2014/20140267/estes-to-flatiron-transmission-lines-rebuild-project-larimer-county-colorado-doe-eis-0483-september-2014.pdf\n",
        "File exists, skipping\n",
        "Saving: 09-12-2014/20140260/usjbrsi_draft_eis_appendix3_attachment7part1of5_august2014.pdf\n",
        "File exists, skipping"
       ]
      },
      {
       "output_type": "stream",
       "stream": "stdout",
       "text": [
        "\n",
        "Saving: 09-12-2014/20140260/usjbrsi_draft_eis_appendix3_attachment7part2of5_august2014.pdf\n",
        "File exists, skipping\n",
        "Saving: 09-12-2014/20140260/usjbrsi_draft_eis_appendix3_attachment7part3of5_august2014.pdf\n",
        "File exists, skipping\n",
        "Saving: 09-12-2014/20140260/usjbrsi_draft_eis_appendix3_attachment7part4of5_august2014.pdf\n",
        "File exists, skipping"
       ]
      },
      {
       "output_type": "stream",
       "stream": "stdout",
       "text": [
        "\n",
        "Saving: 09-12-2014/20140260/usjbrsi_draft_eis_appendix3_attachment7part5of5_august2014.pdf\n",
        "File exists, skipping\n",
        "Saving: 09-12-2014/20140260/usjbrsi_draft_eis_appendix3_attachments16_august2014.pdf\n",
        "File exists, skipping\n",
        "Saving: 09-12-2014/20140260/usjrbsi_draft_eis_appendices12_august2014.pdf\n",
        "File exists, skipping"
       ]
      },
      {
       "output_type": "stream",
       "stream": "stdout",
       "text": [
        "\n",
        "Saving: 09-12-2014/20140260/usjrbsi_draft_eis_august2014.pdf\n",
        "File exists, skipping\n",
        "Saving: 09-12-2014/20140261/final-environmental-impact-satement-to-inform-columbia-river-basin-hatchery-operations-and-the-funding-of-mitchell-act-hatchery-programs_full_090214_enepa.pdf\n",
        "File exists, skipping\n",
        "Saving: 09-12-2014/20140258/part-1-indu_srmp_final_eis_august_2014_for_cd4.pdf\n",
        "Saving: 09-12-2014/20140258/part-2-indu_srmp_final_eis_august_2014_for_cd3.pdf"
       ]
      },
      {
       "output_type": "stream",
       "stream": "stdout",
       "text": [
        "\n",
        "Saving: 09-12-2014/20140259/nureg-1437-sup-49_vol-1.pdf"
       ]
      },
      {
       "output_type": "stream",
       "stream": "stdout",
       "text": [
        "\n",
        "File exists, skipping\n",
        "Saving: 09-12-2014/20140259/nureg-1437-sup-49_vol-2-_part-1-of-3.pdf\n",
        "File exists, skipping\n",
        "Saving: 09-12-2014/20140259/nureg-1437-sup-49_vol-2_part-2-of-3.pdf\n",
        "File exists, skipping"
       ]
      },
      {
       "output_type": "stream",
       "stream": "stdout",
       "text": [
        "\n",
        "Saving: 09-12-2014/20140259/nureg-1437-sup-49_vol-2_part-3-of-3.pdf\n",
        "File exists, skipping\n",
        "Saving: 09-12-2014/20140257/deis--fort-belvoir-real-property-master-plan-update-and-shortterm-projects-volume-i.pdf\n",
        "File exists, skipping\n",
        "Saving: 09-12-2014/20140257/deis--fort-belvoir-real-property-master-plan-update-and-shortterm-projects-volume-ii--appendices-a--c.pdf\n",
        "File exists, skipping"
       ]
      },
      {
       "output_type": "stream",
       "stream": "stdout",
       "text": [
        "\n",
        "Saving: 09-12-2014/20140257/deis--fort-belvoir-real-property-master-plan-update-and-shortterm-projects-volume-ii--appendices-d--h.pdf\n",
        "File exists, skipping\n",
        "Saving: 09-12-2014/20140255/ogden_ranger_district_travel_plan_revision_draft_seis_2014_09.pdf\n",
        "File exists, skipping\n",
        "Saving: 09-12-2014/20140256/finalenvironmentalimpactstatement_newspecialusepermitsforrecreationresidencesonthesaffordrangerdistrictcoronadonationalforest.pdf\n",
        "File exists, skipping"
       ]
      },
      {
       "output_type": "stream",
       "stream": "stdout",
       "text": [
        "\n",
        "Saving: 09-12-2014/20140256/draftrecordofdecision_newspecialusepermitsforrecreationresidencesonthesaffordrangerdistrictcoronadonationalforest.pdf\n",
        "File exists, skipping\n",
        "Saving: 09-12-2014/20140263/chester-county-deis.pdf\n",
        "Saving: 09-12-2014/20140262/29august2014_saddlelakesdeis_final.pdf"
       ]
      },
      {
       "output_type": "stream",
       "stream": "stdout",
       "text": [
        "\n"
       ]
      },
      {
       "ename": "KeyboardInterrupt",
       "evalue": "",
       "output_type": "pyerr",
       "traceback": [
        "\u001b[0;31m---------------------------------------------------------------------------\u001b[0m\n\u001b[0;31mKeyboardInterrupt\u001b[0m                         Traceback (most recent call last)",
        "\u001b[0;32m<ipython-input-6-43246e265945>\u001b[0m in \u001b[0;36m<module>\u001b[0;34m()\u001b[0m\n\u001b[0;32m----> 1\u001b[0;31m \u001b[0msave_files\u001b[0m\u001b[0;34m(\u001b[0m\u001b[0;34m)\u001b[0m\u001b[0;34m\u001b[0m\u001b[0m\n\u001b[0m",
        "\u001b[0;32m<ipython-input-5-4f434951705b>\u001b[0m in \u001b[0;36msave_files\u001b[0;34m()\u001b[0m\n\u001b[1;32m     21\u001b[0m                             \u001b[0mf\u001b[0m\u001b[0;34m.\u001b[0m\u001b[0mclose\u001b[0m\u001b[0;34m(\u001b[0m\u001b[0;34m)\u001b[0m\u001b[0;34m\u001b[0m\u001b[0m\n\u001b[1;32m     22\u001b[0m                             \u001b[0mk\u001b[0m \u001b[0;34m=\u001b[0m \u001b[0mbucket\u001b[0m\u001b[0;34m.\u001b[0m\u001b[0mnew_key\u001b[0m\u001b[0;34m(\u001b[0m\u001b[0mfile_name\u001b[0m\u001b[0;34m)\u001b[0m\u001b[0;34m\u001b[0m\u001b[0m\n\u001b[0;32m---> 23\u001b[0;31m                             \u001b[0mk\u001b[0m\u001b[0;34m.\u001b[0m\u001b[0mset_contents_from_string\u001b[0m\u001b[0;34m(\u001b[0m\u001b[0mdata\u001b[0m\u001b[0;34m)\u001b[0m\u001b[0;34m\u001b[0m\u001b[0m\n\u001b[0m\u001b[1;32m     24\u001b[0m                     \u001b[0;32mexcept\u001b[0m \u001b[0mException\u001b[0m\u001b[0;34m,\u001b[0m \u001b[0me\u001b[0m\u001b[0;34m:\u001b[0m\u001b[0;34m\u001b[0m\u001b[0m\n\u001b[1;32m     25\u001b[0m                         \u001b[0;32mprint\u001b[0m \u001b[0;34m\"Could not get because: \"\u001b[0m \u001b[0;34m+\u001b[0m \u001b[0mstr\u001b[0m\u001b[0;34m(\u001b[0m\u001b[0me\u001b[0m\u001b[0;34m)\u001b[0m\u001b[0;34m\u001b[0m\u001b[0m\n",
        "\u001b[0;32m/Library/Python/2.7/site-packages/boto/s3/key.pyc\u001b[0m in \u001b[0;36mset_contents_from_string\u001b[0;34m(self, string_data, headers, replace, cb, num_cb, policy, md5, reduced_redundancy, encrypt_key)\u001b[0m\n\u001b[1;32m   1422\u001b[0m         r = self.set_contents_from_file(fp, headers, replace, cb, num_cb,\n\u001b[1;32m   1423\u001b[0m                                         \u001b[0mpolicy\u001b[0m\u001b[0;34m,\u001b[0m \u001b[0mmd5\u001b[0m\u001b[0;34m,\u001b[0m \u001b[0mreduced_redundancy\u001b[0m\u001b[0;34m,\u001b[0m\u001b[0;34m\u001b[0m\u001b[0m\n\u001b[0;32m-> 1424\u001b[0;31m                                         encrypt_key=encrypt_key)\n\u001b[0m\u001b[1;32m   1425\u001b[0m         \u001b[0mfp\u001b[0m\u001b[0;34m.\u001b[0m\u001b[0mclose\u001b[0m\u001b[0;34m(\u001b[0m\u001b[0;34m)\u001b[0m\u001b[0;34m\u001b[0m\u001b[0m\n\u001b[1;32m   1426\u001b[0m         \u001b[0;32mreturn\u001b[0m \u001b[0mr\u001b[0m\u001b[0;34m\u001b[0m\u001b[0m\n",
        "\u001b[0;32m/Library/Python/2.7/site-packages/boto/s3/key.pyc\u001b[0m in \u001b[0;36mset_contents_from_file\u001b[0;34m(self, fp, headers, replace, cb, num_cb, policy, md5, reduced_redundancy, query_args, encrypt_key, size, rewind)\u001b[0m\n\u001b[1;32m   1289\u001b[0m             self.send_file(fp, headers=headers, cb=cb, num_cb=num_cb,\n\u001b[1;32m   1290\u001b[0m                            \u001b[0mquery_args\u001b[0m\u001b[0;34m=\u001b[0m\u001b[0mquery_args\u001b[0m\u001b[0;34m,\u001b[0m\u001b[0;34m\u001b[0m\u001b[0m\n\u001b[0;32m-> 1291\u001b[0;31m                            chunked_transfer=chunked_transfer, size=size)\n\u001b[0m\u001b[1;32m   1292\u001b[0m             \u001b[0;31m# return number of bytes written.\u001b[0m\u001b[0;34m\u001b[0m\u001b[0;34m\u001b[0m\u001b[0m\n\u001b[1;32m   1293\u001b[0m             \u001b[0;32mreturn\u001b[0m \u001b[0mself\u001b[0m\u001b[0;34m.\u001b[0m\u001b[0msize\u001b[0m\u001b[0;34m\u001b[0m\u001b[0m\n",
        "\u001b[0;32m/Library/Python/2.7/site-packages/boto/s3/key.pyc\u001b[0m in \u001b[0;36msend_file\u001b[0;34m(self, fp, headers, cb, num_cb, query_args, chunked_transfer, size)\u001b[0m\n\u001b[1;32m    746\u001b[0m         self._send_file_internal(fp, headers=headers, cb=cb, num_cb=num_cb,\n\u001b[1;32m    747\u001b[0m                                  \u001b[0mquery_args\u001b[0m\u001b[0;34m=\u001b[0m\u001b[0mquery_args\u001b[0m\u001b[0;34m,\u001b[0m\u001b[0;34m\u001b[0m\u001b[0m\n\u001b[0;32m--> 748\u001b[0;31m                                  chunked_transfer=chunked_transfer, size=size)\n\u001b[0m\u001b[1;32m    749\u001b[0m \u001b[0;34m\u001b[0m\u001b[0m\n\u001b[1;32m    750\u001b[0m     def _send_file_internal(self, fp, headers=None, cb=None, num_cb=10,\n",
        "\u001b[0;32m/Library/Python/2.7/site-packages/boto/s3/key.pyc\u001b[0m in \u001b[0;36m_send_file_internal\u001b[0;34m(self, fp, headers, cb, num_cb, query_args, chunked_transfer, size, hash_algs)\u001b[0m\n\u001b[1;32m    947\u001b[0m             \u001b[0mheaders\u001b[0m\u001b[0;34m,\u001b[0m\u001b[0;34m\u001b[0m\u001b[0m\n\u001b[1;32m    948\u001b[0m             \u001b[0msender\u001b[0m\u001b[0;34m=\u001b[0m\u001b[0msender\u001b[0m\u001b[0;34m,\u001b[0m\u001b[0;34m\u001b[0m\u001b[0m\n\u001b[0;32m--> 949\u001b[0;31m             \u001b[0mquery_args\u001b[0m\u001b[0;34m=\u001b[0m\u001b[0mquery_args\u001b[0m\u001b[0;34m\u001b[0m\u001b[0m\n\u001b[0m\u001b[1;32m    950\u001b[0m         )\n\u001b[1;32m    951\u001b[0m         \u001b[0mself\u001b[0m\u001b[0;34m.\u001b[0m\u001b[0mhandle_version_headers\u001b[0m\u001b[0;34m(\u001b[0m\u001b[0mresp\u001b[0m\u001b[0;34m,\u001b[0m \u001b[0mforce\u001b[0m\u001b[0;34m=\u001b[0m\u001b[0mTrue\u001b[0m\u001b[0;34m)\u001b[0m\u001b[0;34m\u001b[0m\u001b[0m\n",
        "\u001b[0;32m/Library/Python/2.7/site-packages/boto/s3/connection.pyc\u001b[0m in \u001b[0;36mmake_request\u001b[0;34m(self, method, bucket, key, headers, data, query_args, sender, override_num_retries, retry_handler)\u001b[0m\n\u001b[1;32m    662\u001b[0m             \u001b[0mdata\u001b[0m\u001b[0;34m,\u001b[0m \u001b[0mhost\u001b[0m\u001b[0;34m,\u001b[0m \u001b[0mauth_path\u001b[0m\u001b[0;34m,\u001b[0m \u001b[0msender\u001b[0m\u001b[0;34m,\u001b[0m\u001b[0;34m\u001b[0m\u001b[0m\n\u001b[1;32m    663\u001b[0m             \u001b[0moverride_num_retries\u001b[0m\u001b[0;34m=\u001b[0m\u001b[0moverride_num_retries\u001b[0m\u001b[0;34m,\u001b[0m\u001b[0;34m\u001b[0m\u001b[0m\n\u001b[0;32m--> 664\u001b[0;31m             \u001b[0mretry_handler\u001b[0m\u001b[0;34m=\u001b[0m\u001b[0mretry_handler\u001b[0m\u001b[0;34m\u001b[0m\u001b[0m\n\u001b[0m\u001b[1;32m    665\u001b[0m         )\n",
        "\u001b[0;32m/Library/Python/2.7/site-packages/boto/connection.pyc\u001b[0m in \u001b[0;36mmake_request\u001b[0;34m(self, method, path, headers, data, host, auth_path, sender, override_num_retries, params, retry_handler)\u001b[0m\n\u001b[1;32m   1066\u001b[0m                                                     params, headers, data, host)\n\u001b[1;32m   1067\u001b[0m         return self._mexe(http_request, sender, override_num_retries,\n\u001b[0;32m-> 1068\u001b[0;31m                           retry_handler=retry_handler)\n\u001b[0m\u001b[1;32m   1069\u001b[0m \u001b[0;34m\u001b[0m\u001b[0m\n\u001b[1;32m   1070\u001b[0m     \u001b[0;32mdef\u001b[0m \u001b[0mclose\u001b[0m\u001b[0;34m(\u001b[0m\u001b[0mself\u001b[0m\u001b[0;34m)\u001b[0m\u001b[0;34m:\u001b[0m\u001b[0;34m\u001b[0m\u001b[0m\n",
        "\u001b[0;32m/Library/Python/2.7/site-packages/boto/connection.pyc\u001b[0m in \u001b[0;36m_mexe\u001b[0;34m(self, request, sender, override_num_retries, retry_handler)\u001b[0m\n\u001b[1;32m   1014\u001b[0m                 connection = self.new_http_connection(request.host, request.port,\n\u001b[1;32m   1015\u001b[0m                                                       self.is_secure)\n\u001b[0;32m-> 1016\u001b[0;31m             \u001b[0mtime\u001b[0m\u001b[0;34m.\u001b[0m\u001b[0msleep\u001b[0m\u001b[0;34m(\u001b[0m\u001b[0mnext_sleep\u001b[0m\u001b[0;34m)\u001b[0m\u001b[0;34m\u001b[0m\u001b[0m\n\u001b[0m\u001b[1;32m   1017\u001b[0m             \u001b[0mi\u001b[0m \u001b[0;34m+=\u001b[0m \u001b[0;36m1\u001b[0m\u001b[0;34m\u001b[0m\u001b[0m\n\u001b[1;32m   1018\u001b[0m         \u001b[0;31m# If we made it here, it's because we have exhausted our retries\u001b[0m\u001b[0;34m\u001b[0m\u001b[0;34m\u001b[0m\u001b[0m\n",
        "\u001b[0;31mKeyboardInterrupt\u001b[0m: "
       ]
      }
     ],
     "prompt_number": 6
    },
    {
     "cell_type": "code",
     "collapsed": false,
     "input": [
      "if df_missing_files.shape[0]:\n",
      "    df_missing_files.to_csv('missing_files_to_save.csv', encoding='utf-8')"
     ],
     "language": "python",
     "metadata": {},
     "outputs": []
    }
   ],
   "metadata": {}
  }
 ]
}