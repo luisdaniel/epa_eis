{
 "metadata": {
  "name": "",
  "signature": "sha256:f1cf0e373fab83cffa6efb891e0e0e78dc9d1da33bf111a42e0ac6964615778a"
 },
 "nbformat": 3,
 "nbformat_minor": 0,
 "worksheets": [
  {
   "cells": [
    {
     "cell_type": "code",
     "collapsed": false,
     "input": [
      "from bs4 import BeautifulSoup as bs\n",
      "import re\n",
      "import urllib2\n",
      "import csv\n",
      "import json\n",
      "import datetime\n",
      "import pandas as pd"
     ],
     "language": "python",
     "metadata": {},
     "outputs": [],
     "prompt_number": 1
    },
    {
     "cell_type": "code",
     "collapsed": false,
     "input": [
      "columns = ['eis_number', 'file_link', 'file_title']\n",
      "df = pd.DataFrame(columns=columns)"
     ],
     "language": "python",
     "metadata": {},
     "outputs": [],
     "prompt_number": 2
    },
    {
     "cell_type": "code",
     "collapsed": false,
     "input": [
      "#test\n",
      "url = 'http://yosemite.epa.gov/oeca/webeis.nsf/EIS01/9F1351654AE8BA1485257C82002113CF'\n",
      "#url_2 = 'http://yosemite.epa.gov/oeca/webeis.nsf/EIS01/C3B3CE406F34789F85257D8700216C98'\n",
      "page = urllib2.urlopen(url).read()\n",
      "soup = bs(page)\n",
      "table = soup.findAll('td')\n",
      "check_row = table[30]\n",
      "comment_letter_links = []\n",
      "document_links = []\n",
      "exclude_links = ['http://www.epa.gov/epahome/pdf.html',\n",
      "                 'http://www.epa.gov/compliance/contact/nepa.html#commentform']\n",
      "if check_row.find(text=re.compile(r'\\bComment\\sLetter\\(s\\)')):\n",
      "    base_file_url = 'http://yosemite.epa.gov/oeca/webeis.nsf/'\n",
      "    links = table[30].findAll('a')\n",
      "    for link in links:\n",
      "        if link['href'] not in exclude_links:\n",
      "            comment_letter_links.append(base_file_url + urllib2.quote(link['href'].encode('utf8').replace('?OpenElement', '').replace('../','')))\n",
      "    links = table[31].findAll('a')\n",
      "    for link in links:\n",
      "        document_links.append(base_file_url + urllib2.quote(link['href'].encode('utf8').replace('?OpenElement', '').replace('../','')))\n",
      "else: \n",
      "    links = table[30].findAll('a')\n",
      "    for link in links:\n",
      "        document_links.append(base_file_url + urllib2.quote(link['href'].encode('utf8').replace('?OpenElement', '').replace('../','')))"
     ],
     "language": "python",
     "metadata": {},
     "outputs": [],
     "prompt_number": 5
    },
    {
     "cell_type": "code",
     "collapsed": false,
     "input": [
      "#1 - date\n",
      "#2 - agency\n",
      "#3 - state\n",
      "#4 - document_type\n",
      "#5 - title\n",
      "#6 - report_link\n",
      "#\"\"\"'eis_number', 'federal_register_date', 'contact_name', 'comment_due_review_date', 'contact_phone', \n",
      "#           'amended_notice_date', 'amended_notice', 'supplemental_info', 'website', 'comment_letter_date', 'comment_letter',\n",
      "#           'rating', 'num_files', 'list_of_links'\"\"\"\n",
      "\n",
      "\n",
      "#EPA server won't let you get all the URL's. Had to split it in two. \n",
      "index = 0\n",
      "with open('eis_links.csv', mode='r') as infile:\n",
      "    reader = csv.reader(infile)\n",
      "    for row in reader:\n",
      "        if row[6] != 'report_link': #only used when split in parts\n",
      "            print \"Getting # \" + str(index) + \": \" + row[6]\n",
      "            try:\n",
      "                page = urllib2.urlopen(row[6]).read()\n",
      "            except Exception, e:\n",
      "                print \"Error, could not get page: \" + str(e)\n",
      "            soup = bs(page)\n",
      "            table = soup.findAll('td')\n",
      "            eis_number = table[3].text\n",
      "            #sometimes you have comment letters which changes the order of the table rows\n",
      "            check_row = table[30]\n",
      "            documents = []\n",
      "            if check_row.find(text=re.compile(r'\\bComment\\sLetter\\(s\\)')):\n",
      "                base_file_url = 'http://yosemite.epa.gov/oeca/webeis.nsf/'\n",
      "                links = table[31].findAll('a')\n",
      "            else:\n",
      "                links = table[30].findAll('a')\n",
      "            for link in links:\n",
      "                link_formatted = base_file_url + urllib2.quote(link['href'].encode('utf8').replace('?OpenElement', '').replace('../',''))\n",
      "                documents.append({\n",
      "                    \"link\":link_formatted,\n",
      "                    \"title\":link.getText()})\n",
      "            for doc in documents:\n",
      "                new_row = [eis_number, doc['link'], doc['title']]\n",
      "                for i in range(len(new_row)):  # For every value in our newrow\n",
      "                    if hasattr(new_row[i], 'encode'):\n",
      "                        new_row[i] = new_row[i].encode('utf8')\n",
      "                df.loc[index] = new_row\n",
      "                index +=1"
     ],
     "language": "python",
     "metadata": {},
     "outputs": [
      {
       "output_type": "stream",
       "stream": "stdout",
       "text": [
        "Getting # 0: http://yosemite.epa.gov/oeca/webeis.nsf/EIS01/7F2D1B6C6C77E3A485257D8900217FF3\n",
        "Getting # 4: http://yosemite.epa.gov/oeca/webeis.nsf/EIS01/0EF9666B4C77B44185257D890021817C"
       ]
      },
      {
       "output_type": "stream",
       "stream": "stdout",
       "text": [
        "\n",
        "Getting # 7: http://yosemite.epa.gov/oeca/webeis.nsf/EIS01/78A5B07316EC8A0085257D890021877C"
       ]
      },
      {
       "output_type": "stream",
       "stream": "stdout",
       "text": [
        "\n",
        "Getting # 77: http://yosemite.epa.gov/oeca/webeis.nsf/EIS01/24147790839A0C6985257D8900217B61"
       ]
      },
      {
       "output_type": "stream",
       "stream": "stdout",
       "text": [
        "\n",
        "Getting # 89: http://yosemite.epa.gov/oeca/webeis.nsf/EIS01/DACDDE400DF2E1FC85257D89002181FD"
       ]
      },
      {
       "output_type": "stream",
       "stream": "stdout",
       "text": [
        "\n",
        "Getting # 100: http://yosemite.epa.gov/oeca/webeis.nsf/EIS01/0D2468ADE872F53F85257D89002185C3"
       ]
      },
      {
       "output_type": "stream",
       "stream": "stdout",
       "text": [
        "\n",
        "Getting # 101: http://yosemite.epa.gov/oeca/webeis.nsf/EIS01/2E94E9CD15437C6185257D89002185F0"
       ]
      },
      {
       "output_type": "stream",
       "stream": "stdout",
       "text": [
        "\n",
        "Getting # 104: http://yosemite.epa.gov/oeca/webeis.nsf/EIS01/413CF7C3534AE28F85257D8900216E03"
       ]
      },
      {
       "output_type": "stream",
       "stream": "stdout",
       "text": [
        "\n",
        "Getting # 105: http://yosemite.epa.gov/oeca/webeis.nsf/EIS01/B5D02060EC12B09785257D8900217445"
       ]
      },
      {
       "output_type": "stream",
       "stream": "stdout",
       "text": [
        "\n",
        "Getting # 119: http://yosemite.epa.gov/oeca/webeis.nsf/EIS01/7FE94F408670132085257D8900217AC0"
       ]
      },
      {
       "output_type": "stream",
       "stream": "stdout",
       "text": [
        "\n",
        "Getting # 120: http://yosemite.epa.gov/oeca/webeis.nsf/EIS01/7DB2B09C94FB5A4F85257D8900216D80"
       ]
      },
      {
       "output_type": "stream",
       "stream": "stdout",
       "text": [
        "\n",
        "Getting # 121: http://yosemite.epa.gov/oeca/webeis.nsf/EIS01/4AFF49098F382F4985257D8900216885"
       ]
      },
      {
       "output_type": "stream",
       "stream": "stdout",
       "text": [
        "\n",
        "Getting # 138: http://yosemite.epa.gov/oeca/webeis.nsf/EIS01/537619448BC6ED9785257D890021606F"
       ]
      },
      {
       "output_type": "stream",
       "stream": "stdout",
       "text": [
        "\n",
        "Getting # 142: http://yosemite.epa.gov/oeca/webeis.nsf/EIS01/C759E8FB481FD53285257D8900216CD3"
       ]
      },
      {
       "output_type": "stream",
       "stream": "stdout",
       "text": [
        "\n",
        "Getting # 143: http://yosemite.epa.gov/oeca/webeis.nsf/EIS01/D73A4700E637DBBE85257D890021647C"
       ]
      },
      {
       "output_type": "stream",
       "stream": "stdout",
       "text": [
        "\n",
        "Getting # 145: http://yosemite.epa.gov/oeca/webeis.nsf/EIS01/297A34DDE148FD4F85257D85002168F2"
       ]
      },
      {
       "output_type": "stream",
       "stream": "stdout",
       "text": [
        "\n",
        "Getting # 146: http://yosemite.epa.gov/oeca/webeis.nsf/EIS01/0E715D9B94A7FA9285257D7F001BE36A"
       ]
      },
      {
       "output_type": "stream",
       "stream": "stdout",
       "text": [
        "\n",
        "Getting # 147: http://yosemite.epa.gov/oeca/webeis.nsf/EIS01/0264A51DD6E89B3B85257D85002158D6"
       ]
      },
      {
       "output_type": "stream",
       "stream": "stdout",
       "text": [
        "\n",
        "Getting # 148: http://yosemite.epa.gov/oeca/webeis.nsf/EIS01/E021C974F73BA1F285257D81001BDE85"
       ]
      },
      {
       "output_type": "stream",
       "stream": "stdout",
       "text": [
        "\n",
        "Getting # 203: http://yosemite.epa.gov/oeca/webeis.nsf/EIS01/472579361C2F50FB85257D8900215A26"
       ]
      },
      {
       "output_type": "stream",
       "stream": "stdout",
       "text": [
        "\n",
        "Getting # 239: http://yosemite.epa.gov/oeca/webeis.nsf/EIS01/DB54D98227CC192D85257D80001BCC6C"
       ]
      },
      {
       "output_type": "stream",
       "stream": "stdout",
       "text": [
        "\n",
        "Getting # 240: http://yosemite.epa.gov/oeca/webeis.nsf/EIS01/3D9B2654804F75FA85257D77001BD24C"
       ]
      },
      {
       "output_type": "stream",
       "stream": "stdout",
       "text": [
        "\n",
        "Getting # 242: http://yosemite.epa.gov/oeca/webeis.nsf/EIS01/6C3E8CA40A07CAB185257D8900215729"
       ]
      },
      {
       "output_type": "stream",
       "stream": "stdout",
       "text": [
        "\n",
        "Getting # 242: http://yosemite.epa.gov/oeca/webeis.nsf/EIS01/AE5250268C2D4ECF85257D7A001BC6DB"
       ]
      },
      {
       "output_type": "stream",
       "stream": "stdout",
       "text": [
        "\n",
        "Getting # 245: http://yosemite.epa.gov/oeca/webeis.nsf/EIS01/E485963C62BF50C685257D7A001BCADC"
       ]
      },
      {
       "output_type": "stream",
       "stream": "stdout",
       "text": [
        "\n",
        "Getting # 280: http://yosemite.epa.gov/oeca/webeis.nsf/EIS01/90CB4CDD8234964285257D78001BCCA1"
       ]
      },
      {
       "output_type": "stream",
       "stream": "stdout",
       "text": [
        "\n",
        "Getting # 285: http://yosemite.epa.gov/oeca/webeis.nsf/EIS01/31FA9A5362849D8885257D79001BC69E"
       ]
      },
      {
       "output_type": "stream",
       "stream": "stdout",
       "text": [
        "\n",
        "Getting # 285: http://yosemite.epa.gov/oeca/webeis.nsf/EIS01/7472D2FA306D3FFB85257D89002156C5"
       ]
      },
      {
       "output_type": "stream",
       "stream": "stdout",
       "text": [
        "\n",
        "Getting # 286: http://yosemite.epa.gov/oeca/webeis.nsf/EIS01/B685ED53C0EF7CF585257D7A001BCF95"
       ]
      },
      {
       "output_type": "stream",
       "stream": "stdout",
       "text": [
        "\n",
        "Getting # 297: http://yosemite.epa.gov/oeca/webeis.nsf/EIS01/D67112AD6022594585257D79001BC98A"
       ]
      },
      {
       "output_type": "stream",
       "stream": "stdout",
       "text": [
        "\n",
        "Getting # 320: http://yosemite.epa.gov/oeca/webeis.nsf/EIS01/D5BD315995FDEB8C85257D8600216BC6"
       ]
      },
      {
       "output_type": "stream",
       "stream": "stdout",
       "text": [
        "\n",
        "Getting # 328: http://yosemite.epa.gov/oeca/webeis.nsf/EIS01/3CC86DCA5D057EAC85257D80001BCA22"
       ]
      },
      {
       "output_type": "stream",
       "stream": "stdout",
       "text": [
        "\n",
        "Getting # 329: http://yosemite.epa.gov/oeca/webeis.nsf/EIS01/CC2AC09461AC994585257D7A001BC422"
       ]
      },
      {
       "output_type": "stream",
       "stream": "stdout",
       "text": [
        "\n",
        "Getting # 330: http://yosemite.epa.gov/oeca/webeis.nsf/EIS01/1BCC5EFB7B9F407485257D71001BE1FA"
       ]
      },
      {
       "output_type": "stream",
       "stream": "stdout",
       "text": [
        "\n",
        "Getting # 341: http://yosemite.epa.gov/oeca/webeis.nsf/EIS01/084A85050965C1EF85257D89002153A5"
       ]
      },
      {
       "output_type": "stream",
       "stream": "stdout",
       "text": [
        "\n",
        "Getting # 342: http://yosemite.epa.gov/oeca/webeis.nsf/EIS01/BFCEDD07597F049985257D8900215310"
       ]
      },
      {
       "output_type": "stream",
       "stream": "stdout",
       "text": [
        "\n",
        "Getting # 343: http://yosemite.epa.gov/oeca/webeis.nsf/EIS01/5241381B4094E22285257D71001BE971"
       ]
      },
      {
       "output_type": "stream",
       "stream": "stdout",
       "text": [
        "\n",
        "Getting # 344: http://yosemite.epa.gov/oeca/webeis.nsf/EIS01/75803A8944BBBD5E85257D8600216A8A"
       ]
      },
      {
       "output_type": "stream",
       "stream": "stdout",
       "text": [
        "\n",
        "Getting # 345: http://yosemite.epa.gov/oeca/webeis.nsf/EIS01/4D9C32732F83819F85257D8900215503"
       ]
      },
      {
       "output_type": "stream",
       "stream": "stdout",
       "text": [
        "\n",
        "Getting # 356: http://yosemite.epa.gov/oeca/webeis.nsf/EIS01/450D162BEC03B09385257D6B001C1CFD"
       ]
      },
      {
       "output_type": "stream",
       "stream": "stdout",
       "text": [
        "\n",
        "Getting # 356: http://yosemite.epa.gov/oeca/webeis.nsf/EIS01/DCF93B7EDB12061A85257D7A001BB471"
       ]
      },
      {
       "output_type": "stream",
       "stream": "stdout",
       "text": [
        "\n",
        "Getting # 357: http://yosemite.epa.gov/oeca/webeis.nsf/EIS01/02D15E6E2E90EB9A85257D8900214959"
       ]
      },
      {
       "output_type": "stream",
       "stream": "stdout",
       "text": [
        "\n",
        "Getting # 358: http://yosemite.epa.gov/oeca/webeis.nsf/EIS01/A59D186E2C447E4D85257D6D001C075B"
       ]
      },
      {
       "output_type": "stream",
       "stream": "stdout",
       "text": [
        "\n",
        "Getting # 418: http://yosemite.epa.gov/oeca/webeis.nsf/EIS01/BB64C0A4C28010BE85257D6D001BF9BB"
       ]
      },
      {
       "output_type": "stream",
       "stream": "stdout",
       "text": [
        "\n",
        "Getting # 453: http://yosemite.epa.gov/oeca/webeis.nsf/EIS01/4F16308C1201219785257D8900214D8F"
       ]
      },
      {
       "output_type": "stream",
       "stream": "stdout",
       "text": [
        "\n",
        "Getting # 479: http://yosemite.epa.gov/oeca/webeis.nsf/EIS01/DA6CF60CABB621D785257D81001BC238"
       ]
      },
      {
       "output_type": "stream",
       "stream": "stdout",
       "text": [
        "\n",
        "Getting # 534: http://yosemite.epa.gov/oeca/webeis.nsf/EIS01/70D140AFDAD6909C85257D6A001C1CD8"
       ]
      },
      {
       "output_type": "stream",
       "stream": "stdout",
       "text": [
        "\n",
        "Getting # 553: http://yosemite.epa.gov/oeca/webeis.nsf/EIS01/442A2EC4E6A0EF7185257D77001BBE13"
       ]
      },
      {
       "output_type": "stream",
       "stream": "stdout",
       "text": [
        "\n",
        "Getting # 554: http://yosemite.epa.gov/oeca/webeis.nsf/EIS01/6629073C2CB3F6F085257D7B001BADFC"
       ]
      },
      {
       "output_type": "stream",
       "stream": "stdout",
       "text": [
        "\n",
        "Getting # 607: http://yosemite.epa.gov/oeca/webeis.nsf/EIS01/CBE75358579D917185257D8900214868"
       ]
      },
      {
       "output_type": "stream",
       "stream": "stdout",
       "text": [
        "\n",
        "Getting # 608: http://yosemite.epa.gov/oeca/webeis.nsf/EIS01/95C04A25FD14EB7985257D6A001C17B8"
       ]
      },
      {
       "output_type": "stream",
       "stream": "stdout",
       "text": [
        "\n",
        "Getting # 617: http://yosemite.epa.gov/oeca/webeis.nsf/EIS01/857789DA78DE1C5C85257D8900214499"
       ]
      },
      {
       "output_type": "stream",
       "stream": "stdout",
       "text": [
        "\n",
        "Getting # 622: http://yosemite.epa.gov/oeca/webeis.nsf/EIS01/A0C95309F5904B9885257D6A001C0FFC"
       ]
      },
      {
       "output_type": "stream",
       "stream": "stdout",
       "text": [
        "\n",
        "Getting # 647: http://yosemite.epa.gov/oeca/webeis.nsf/EIS01/0EED6C94E505EA5D85257D890021490F"
       ]
      },
      {
       "output_type": "stream",
       "stream": "stdout",
       "text": [
        "\n",
        "Getting # 648: http://yosemite.epa.gov/oeca/webeis.nsf/EIS01/5E206B99E461CE8A85257D82001BCF36"
       ]
      },
      {
       "output_type": "stream",
       "stream": "stdout",
       "text": [
        "\n",
        "Getting # 649: http://yosemite.epa.gov/oeca/webeis.nsf/EIS01/838170168EB3305985257D89002147AB"
       ]
      },
      {
       "output_type": "stream",
       "stream": "stdout",
       "text": [
        "\n",
        "Getting # 653: http://yosemite.epa.gov/oeca/webeis.nsf/EIS01/819BBBD5CAE43E7385257D77001BBC83"
       ]
      },
      {
       "output_type": "stream",
       "stream": "stdout",
       "text": [
        "\n",
        "Getting # 654: http://yosemite.epa.gov/oeca/webeis.nsf/EIS01/65D6442E6A6108D485257D8900213BE4"
       ]
      },
      {
       "output_type": "stream",
       "stream": "stdout",
       "text": [
        "\n",
        "Getting # 662: http://yosemite.epa.gov/oeca/webeis.nsf/EIS01/6C6273A729D0CA7B85257D66001BF92B"
       ]
      },
      {
       "output_type": "stream",
       "stream": "stdout",
       "text": [
        "\n",
        "Getting # 663: http://yosemite.epa.gov/oeca/webeis.nsf/EIS01/B7BFAE67ED9D03A885257D73001BB3EA"
       ]
      },
      {
       "output_type": "stream",
       "stream": "stdout",
       "text": [
        "\n",
        "Getting # 665: http://yosemite.epa.gov/oeca/webeis.nsf/EIS01/ACEA90FDDF94304B85257D5C001BB341"
       ]
      },
      {
       "output_type": "stream",
       "stream": "stdout",
       "text": [
        "\n",
        "Getting # 669: http://yosemite.epa.gov/oeca/webeis.nsf/EIS01/1AD34457CA8B9B0E85257D5C001BAC77"
       ]
      },
      {
       "output_type": "stream",
       "stream": "stdout",
       "text": [
        "\n",
        "Getting # 672: http://yosemite.epa.gov/oeca/webeis.nsf/EIS01/6FCA72EC58E07F7185257D65001C031F"
       ]
      },
      {
       "output_type": "stream",
       "stream": "stdout",
       "text": [
        "\n",
        "Getting # 673: http://yosemite.epa.gov/oeca/webeis.nsf/EIS01/25937E6073C0B0CF85257D69001C016A"
       ]
      },
      {
       "output_type": "stream",
       "stream": "stdout",
       "text": [
        "\n",
        "Getting # 675: http://yosemite.epa.gov/oeca/webeis.nsf/EIS01/16025EBB40A5507085257D74001BC05D"
       ]
      },
      {
       "output_type": "stream",
       "stream": "stdout",
       "text": [
        "\n",
        "Getting # 676: http://yosemite.epa.gov/oeca/webeis.nsf/EIS01/054F74DF2F4B810285257D8900214074"
       ]
      },
      {
       "output_type": "stream",
       "stream": "stdout",
       "text": [
        "\n",
        "Getting # 677: http://yosemite.epa.gov/oeca/webeis.nsf/EIS01/5A59FF6A16C8E92885257D7A001BA2D7"
       ]
      },
      {
       "output_type": "stream",
       "stream": "stdout",
       "text": [
        "\n",
        "Getting # 687: http://yosemite.epa.gov/oeca/webeis.nsf/EIS01/31926621A7AC0C4B85257D54001BB279"
       ]
      },
      {
       "output_type": "stream",
       "stream": "stdout",
       "text": [
        "\n",
        "Getting # 688: http://yosemite.epa.gov/oeca/webeis.nsf/EIS01/E8FAC6F249EB745085257D54001BB89E"
       ]
      },
      {
       "output_type": "stream",
       "stream": "stdout",
       "text": [
        "\n",
        "Getting # 689: http://yosemite.epa.gov/oeca/webeis.nsf/EIS01/43172FED98210D2785257D7A001BA914"
       ]
      },
      {
       "output_type": "stream",
       "stream": "stdout",
       "text": [
        "\n",
        "Getting # 691: http://yosemite.epa.gov/oeca/webeis.nsf/EIS01/013CCCBCB2666E6385257D81001BB64E"
       ]
      },
      {
       "output_type": "stream",
       "stream": "stdout",
       "text": [
        "\n",
        "Getting # 694: http://yosemite.epa.gov/oeca/webeis.nsf/EIS01/1AF7CFDE0E2CC40F85257D890021373F"
       ]
      },
      {
       "output_type": "stream",
       "stream": "stdout",
       "text": [
        "\n",
        "Getting # 694: http://yosemite.epa.gov/oeca/webeis.nsf/EIS01/B11B299B8E0EC5B985257D8900213762"
       ]
      },
      {
       "output_type": "stream",
       "stream": "stdout",
       "text": [
        "\n",
        "Getting # 695: http://yosemite.epa.gov/oeca/webeis.nsf/EIS01/DCA8E742452F40FE85257D5D001BC0A8"
       ]
      },
      {
       "output_type": "stream",
       "stream": "stdout",
       "text": [
        "\n",
        "Getting # 699: http://yosemite.epa.gov/oeca/webeis.nsf/EIS01/8BFD19AB27F472F085257D81001BB866"
       ]
      },
      {
       "output_type": "stream",
       "stream": "stdout",
       "text": [
        "\n",
        "Getting # 713: http://yosemite.epa.gov/oeca/webeis.nsf/EIS01/0F68D4FB3D4F4C2785257D89002135F8"
       ]
      },
      {
       "output_type": "stream",
       "stream": "stdout",
       "text": [
        "\n",
        "Getting # 715: http://yosemite.epa.gov/oeca/webeis.nsf/EIS01/8977EDBCA7E9BBE785257D55001BB148"
       ]
      },
      {
       "output_type": "stream",
       "stream": "stdout",
       "text": [
        "\n",
        "Getting # 716: http://yosemite.epa.gov/oeca/webeis.nsf/EIS01/012DF6253E0FC1D285257D5E001BDA80"
       ]
      },
      {
       "output_type": "stream",
       "stream": "stdout",
       "text": [
        "\n",
        "Getting # 725: http://yosemite.epa.gov/oeca/webeis.nsf/EIS01/852B2467B93FB81B85257D62001BDAC9"
       ]
      },
      {
       "output_type": "stream",
       "stream": "stdout",
       "text": [
        "\n",
        "Getting # 728: http://yosemite.epa.gov/oeca/webeis.nsf/EIS01/5E36E50B11F52EB285257D890021332E"
       ]
      },
      {
       "output_type": "stream",
       "stream": "stdout",
       "text": [
        "\n",
        "Getting # 751: http://yosemite.epa.gov/oeca/webeis.nsf/EIS01/79BB1007DA317E9E85257D78001BA2A0"
       ]
      },
      {
       "output_type": "stream",
       "stream": "stdout",
       "text": [
        "\n",
        "Getting # 752: http://yosemite.epa.gov/oeca/webeis.nsf/EIS01/4A6577A28F27D36485257D7A001B9E96"
       ]
      },
      {
       "output_type": "stream",
       "stream": "stdout",
       "text": [
        "\n",
        "Getting # 752: http://yosemite.epa.gov/oeca/webeis.nsf/EIS01/72C19CF5BC6E217285257D88002137CD"
       ]
      },
      {
       "output_type": "stream",
       "stream": "stdout",
       "text": [
        "\n",
        "Getting # 793: http://yosemite.epa.gov/oeca/webeis.nsf/EIS01/F235360D1E5609AF85257D71001BC32C"
       ]
      },
      {
       "output_type": "stream",
       "stream": "stdout",
       "text": [
        "\n",
        "Getting # 794: http://yosemite.epa.gov/oeca/webeis.nsf/EIS01/45501EE9A826924785257D4E001BE947"
       ]
      },
      {
       "output_type": "stream",
       "stream": "stdout",
       "text": [
        "\n",
        "Getting # 796: http://yosemite.epa.gov/oeca/webeis.nsf/EIS01/93FDDED53D86686B85257D48001BF2F4"
       ]
      },
      {
       "output_type": "stream",
       "stream": "stdout",
       "text": [
        "\n",
        "Getting # 799: http://yosemite.epa.gov/oeca/webeis.nsf/EIS01/978C84D04EF920D885257D8900212C0A"
       ]
      },
      {
       "output_type": "stream",
       "stream": "stdout",
       "text": [
        "\n",
        "Getting # 815: http://yosemite.epa.gov/oeca/webeis.nsf/EIS01/9B9095E9282B4C3C85257D89002130EF"
       ]
      },
      {
       "output_type": "stream",
       "stream": "stdout",
       "text": [
        "\n",
        "Getting # 816: http://yosemite.epa.gov/oeca/webeis.nsf/EIS01/D679C83ADBA6F49E85257D6A001BF1BE"
       ]
      },
      {
       "output_type": "stream",
       "stream": "stdout",
       "text": [
        "\n",
        "Getting # 818: http://yosemite.epa.gov/oeca/webeis.nsf/EIS01/D6C6C87151EF479C85257D64001BE548"
       ]
      },
      {
       "output_type": "stream",
       "stream": "stdout",
       "text": [
        "\n",
        "Getting # 818: http://yosemite.epa.gov/oeca/webeis.nsf/EIS01/B669DE6C24C71F2785257D890021280D"
       ]
      },
      {
       "output_type": "stream",
       "stream": "stdout",
       "text": [
        "\n",
        "Getting # 819: http://yosemite.epa.gov/oeca/webeis.nsf/EIS01/1152665D9A86EF7F85257D6B001BE494"
       ]
      },
      {
       "output_type": "stream",
       "stream": "stdout",
       "text": [
        "\n",
        "Getting # 819: http://yosemite.epa.gov/oeca/webeis.nsf/EIS01/EE9BE16FD761502785257D65001BDD34"
       ]
      },
      {
       "output_type": "stream",
       "stream": "stdout",
       "text": [
        "\n",
        "Getting # 825: http://yosemite.epa.gov/oeca/webeis.nsf/EIS01/5C1354DFB4EA51F885257D3F001BA786"
       ]
      },
      {
       "output_type": "stream",
       "stream": "stdout",
       "text": [
        "\n",
        "Getting # 828: http://yosemite.epa.gov/oeca/webeis.nsf/EIS01/955FDB004606FDDC85257D78001BA207"
       ]
      },
      {
       "output_type": "stream",
       "stream": "stdout",
       "text": [
        "\n",
        "Getting # 829: http://yosemite.epa.gov/oeca/webeis.nsf/EIS01/A0FBAE194D1488B685257D70001BDBD0"
       ]
      },
      {
       "output_type": "stream",
       "stream": "stdout",
       "text": [
        "\n",
        "Getting # 840: http://yosemite.epa.gov/oeca/webeis.nsf/EIS01/5374162FBF6C9B8E85257D78001BA158"
       ]
      },
      {
       "output_type": "stream",
       "stream": "stdout",
       "text": [
        "\n",
        "Getting # 841: http://yosemite.epa.gov/oeca/webeis.nsf/EIS01/A571ED513120202E85257D63001BC82E"
       ]
      },
      {
       "output_type": "stream",
       "stream": "stdout",
       "text": [
        "\n",
        "Getting # 842: http://yosemite.epa.gov/oeca/webeis.nsf/EIS01/8B603C2F0FA98A1485257D4D001BCD3A"
       ]
      },
      {
       "output_type": "stream",
       "stream": "stdout",
       "text": [
        "\n",
        "Getting # 843: http://yosemite.epa.gov/oeca/webeis.nsf/EIS01/4B4D4EA708B2CEFA85257D890021277B"
       ]
      },
      {
       "output_type": "stream",
       "stream": "stdout",
       "text": [
        "\n",
        "Getting # 844: http://yosemite.epa.gov/oeca/webeis.nsf/EIS01/B7F7CD710250C82B85257D3B001BA81E"
       ]
      },
      {
       "output_type": "stream",
       "stream": "stdout",
       "text": [
        "\n",
        "Getting # 844: http://yosemite.epa.gov/oeca/webeis.nsf/EIS01/49A3340C6B491F7585257D38001BCD31"
       ]
      },
      {
       "output_type": "stream",
       "stream": "stdout",
       "text": [
        "\n",
        "Getting # 844: http://yosemite.epa.gov/oeca/webeis.nsf/EIS01/1AB6004E68EDE86B85257D81001B946B"
       ]
      },
      {
       "output_type": "stream",
       "stream": "stdout",
       "text": [
        "\n",
        "Getting # 845: http://yosemite.epa.gov/oeca/webeis.nsf/EIS01/3A17C451082E039585257D38001BB6BD"
       ]
      },
      {
       "output_type": "stream",
       "stream": "stdout",
       "text": [
        "\n",
        "Getting # 850: http://yosemite.epa.gov/oeca/webeis.nsf/EIS01/0BA3372692DB7EFC85257D6A001BE0DD"
       ]
      },
      {
       "output_type": "stream",
       "stream": "stdout",
       "text": [
        "\n",
        "Getting # 869: http://yosemite.epa.gov/oeca/webeis.nsf/EIS01/F3E7771C7C7F2E8285257D6C001BBABB"
       ]
      },
      {
       "output_type": "stream",
       "stream": "stdout",
       "text": [
        "\n",
        "Getting # 871: http://yosemite.epa.gov/oeca/webeis.nsf/EIS01/BD1149BE46C503DE85257D79001B9ABA"
       ]
      },
      {
       "output_type": "stream",
       "stream": "stdout",
       "text": [
        "\n",
        "Getting # 872: http://yosemite.epa.gov/oeca/webeis.nsf/EIS01/A8C7CBB9A737997285257D4E001BE79C"
       ]
      },
      {
       "output_type": "stream",
       "stream": "stdout",
       "text": [
        "\n",
        "Getting # 875: http://yosemite.epa.gov/oeca/webeis.nsf/EIS01/625C561F30D5F30F85257D8900211AED"
       ]
      },
      {
       "output_type": "stream",
       "stream": "stdout",
       "text": [
        "\n",
        "Getting # 913: http://yosemite.epa.gov/oeca/webeis.nsf/EIS01/AB2AB246C419A2EB85257D70001BD27A"
       ]
      },
      {
       "output_type": "stream",
       "stream": "stdout",
       "text": [
        "\n",
        "Getting # 940: http://yosemite.epa.gov/oeca/webeis.nsf/EIS01/837FE83DEB95C53185257D8900210EE2"
       ]
      },
      {
       "output_type": "stream",
       "stream": "stdout",
       "text": [
        "\n",
        "Getting # 944: http://yosemite.epa.gov/oeca/webeis.nsf/EIS01/62A70290EDA881EB85257D65001BCD53"
       ]
      },
      {
       "output_type": "stream",
       "stream": "stdout",
       "text": [
        "\n",
        "Getting # 992: http://yosemite.epa.gov/oeca/webeis.nsf/EIS01/D00C6462B9C4044185257D5D001B97FE"
       ]
      },
      {
       "output_type": "stream",
       "stream": "stdout",
       "text": [
        "\n",
        "Getting # 994: http://yosemite.epa.gov/oeca/webeis.nsf/EIS01/109B6F095DADBB7885257D6C001BB64D"
       ]
      },
      {
       "output_type": "stream",
       "stream": "stdout",
       "text": [
        "\n",
        "Getting # 995: http://yosemite.epa.gov/oeca/webeis.nsf/EIS01/0AF5E412B2B3A1C985257D50001BC596"
       ]
      },
      {
       "output_type": "stream",
       "stream": "stdout",
       "text": [
        "\n",
        "Getting # 998: http://yosemite.epa.gov/oeca/webeis.nsf/EIS01/2CF3E944F7CA512B85257D55001B9164"
       ]
      },
      {
       "output_type": "stream",
       "stream": "stdout",
       "text": [
        "\n",
        "Getting # 1027: http://yosemite.epa.gov/oeca/webeis.nsf/EIS01/8906DA0543ED71A385257D80001B9628"
       ]
      },
      {
       "output_type": "stream",
       "stream": "stdout",
       "text": [
        "\n",
        "Getting # 1027: http://yosemite.epa.gov/oeca/webeis.nsf/EIS01/56198DAC264AF17685257D3F001B9E48"
       ]
      },
      {
       "output_type": "stream",
       "stream": "stdout",
       "text": [
        "\n",
        "Getting # 1029: http://yosemite.epa.gov/oeca/webeis.nsf/EIS01/29436BD86ED0CC3385257D6A001BDBDB"
       ]
      },
      {
       "output_type": "stream",
       "stream": "stdout",
       "text": [
        "\n",
        "Getting # 1031: http://yosemite.epa.gov/oeca/webeis.nsf/EIS01/14B740A1717129D685257D5D001B8F10"
       ]
      },
      {
       "output_type": "stream",
       "stream": "stdout",
       "text": [
        "\n",
        "Getting # 1032: http://yosemite.epa.gov/oeca/webeis.nsf/EIS01/F8D2F0EE6862358C85257D71001BC146"
       ]
      },
      {
       "output_type": "stream",
       "stream": "stdout",
       "text": [
        "\n",
        "Getting # 1033: http://yosemite.epa.gov/oeca/webeis.nsf/EIS01/D27F6ED36F49A07E85257D66001BC992"
       ]
      },
      {
       "output_type": "stream",
       "stream": "stdout",
       "text": [
        "\n",
        "Getting # 1035: http://yosemite.epa.gov/oeca/webeis.nsf/EIS01/667E38DEA7BAC82E85257D4E001BCC70"
       ]
      },
      {
       "output_type": "stream",
       "stream": "stdout",
       "text": [
        "\n",
        "Getting # 1039: http://yosemite.epa.gov/oeca/webeis.nsf/EIS01/FB4AA832AC4C398E85257D6C001BB595"
       ]
      },
      {
       "output_type": "stream",
       "stream": "stdout",
       "text": [
        "\n",
        "Getting # 1040: http://yosemite.epa.gov/oeca/webeis.nsf/EIS01/F7C42A52FB6A494985257D65001BC95E"
       ]
      },
      {
       "output_type": "stream",
       "stream": "stdout",
       "text": [
        "\n",
        "Getting # 1042: http://yosemite.epa.gov/oeca/webeis.nsf/EIS01/131909B71656974B85257D46001BC0C0"
       ]
      },
      {
       "output_type": "stream",
       "stream": "stdout",
       "text": [
        "\n",
        "Getting # 1044: http://yosemite.epa.gov/oeca/webeis.nsf/EIS01/2BC35D2D79DA172485257D69001BCA8F"
       ]
      },
      {
       "output_type": "stream",
       "stream": "stdout",
       "text": [
        "\n",
        "Getting # 1045: http://yosemite.epa.gov/oeca/webeis.nsf/EIS01/577A5E0437A3EDA385257D42001BC03A"
       ]
      },
      {
       "output_type": "stream",
       "stream": "stdout",
       "text": [
        "\n",
        "Getting # 1046: http://yosemite.epa.gov/oeca/webeis.nsf/EIS01/5B71CC64648D3A7485257D6D001BC98C"
       ]
      },
      {
       "output_type": "stream",
       "stream": "stdout",
       "text": [
        "\n",
        "Getting # 1055: http://yosemite.epa.gov/oeca/webeis.nsf/EIS01/238D31D02AD490BE85257D4A001BCA7A"
       ]
      },
      {
       "output_type": "stream",
       "stream": "stdout",
       "text": [
        "\n",
        "Getting # 1057: http://yosemite.epa.gov/oeca/webeis.nsf/EIS01/10346F80A94A126D85257D3B001B9DD5"
       ]
      },
      {
       "output_type": "stream",
       "stream": "stdout",
       "text": [
        "\n",
        "Getting # 1058: http://yosemite.epa.gov/oeca/webeis.nsf/EIS01/EB435436D0A2EA4185257D4D001BACEC"
       ]
      },
      {
       "output_type": "stream",
       "stream": "stdout",
       "text": [
        "\n",
        "Getting # 1061: http://yosemite.epa.gov/oeca/webeis.nsf/EIS01/508A3EA0BB19EED185257D3F001B9AEA"
       ]
      },
      {
       "output_type": "stream",
       "stream": "stdout",
       "text": [
        "\n",
        "Getting # 1061: http://yosemite.epa.gov/oeca/webeis.nsf/EIS01/41CD53E6E79EA47385257D5F001BAA74"
       ]
      },
      {
       "output_type": "stream",
       "stream": "stdout",
       "text": [
        "\n",
        "Getting # 1064: http://yosemite.epa.gov/oeca/webeis.nsf/EIS01/54AFAF76136ED57C85257D81001B9417"
       ]
      },
      {
       "output_type": "stream",
       "stream": "stdout",
       "text": [
        "\n",
        "Getting # 1066: http://yosemite.epa.gov/oeca/webeis.nsf/EIS01/D8E3D8FFF486D56585257D3A001B9B5C"
       ]
      },
      {
       "output_type": "stream",
       "stream": "stdout",
       "text": [
        "\n",
        "Getting # 1072: http://yosemite.epa.gov/oeca/webeis.nsf/EIS01/AA0AFD522F10A13F85257D46001BBC78"
       ]
      },
      {
       "output_type": "stream",
       "stream": "stdout",
       "text": [
        "\n",
        "Getting # 1073: http://yosemite.epa.gov/oeca/webeis.nsf/EIS01/070BD530C977D45085257D69001BC94D"
       ]
      },
      {
       "output_type": "stream",
       "stream": "stdout",
       "text": [
        "\n",
        "Getting # 1074: http://yosemite.epa.gov/oeca/webeis.nsf/EIS01/B84F41D79318582985257D7A001B9C3F"
       ]
      },
      {
       "output_type": "stream",
       "stream": "stdout",
       "text": [
        "\n",
        "Getting # 1077: http://yosemite.epa.gov/oeca/webeis.nsf/EIS01/00F3140977C4202985257D79001B989A"
       ]
      },
      {
       "output_type": "stream",
       "stream": "stdout",
       "text": [
        "\n",
        "Getting # 1098: http://yosemite.epa.gov/oeca/webeis.nsf/EIS01/01F07219F29E395D85257D71001BBAC1"
       ]
      },
      {
       "output_type": "stream",
       "stream": "stdout",
       "text": [
        "\n",
        "Getting # 1100: http://yosemite.epa.gov/oeca/webeis.nsf/EIS01/BB63F571417892F385257D51001B8874"
       ]
      },
      {
       "output_type": "stream",
       "stream": "stdout",
       "text": [
        "\n",
        "Getting # 1100: http://yosemite.epa.gov/oeca/webeis.nsf/EIS01/984046DEDA9981FC85257D8500210F0A"
       ]
      },
      {
       "output_type": "stream",
       "stream": "stdout",
       "text": [
        "\n",
        "Getting # 1103: http://yosemite.epa.gov/oeca/webeis.nsf/EIS01/346CC67B594CD11885257D2D001BB6ED"
       ]
      },
      {
       "output_type": "stream",
       "stream": "stdout",
       "text": [
        "\n",
        "Getting # 1112: http://yosemite.epa.gov/oeca/webeis.nsf/EIS01/1D1D956916B8ABAC85257D3A001B984D"
       ]
      },
      {
       "output_type": "stream",
       "stream": "stdout",
       "text": [
        "\n",
        "Getting # 1113: http://yosemite.epa.gov/oeca/webeis.nsf/EIS01/07E7DEE1B50B883885257D4D001BAC62"
       ]
      },
      {
       "output_type": "stream",
       "stream": "stdout",
       "text": [
        "\n",
        "Getting # 1114: http://yosemite.epa.gov/oeca/webeis.nsf/EIS01/8DF5DCBFA4301B0785257D71001BB81D"
       ]
      },
      {
       "output_type": "stream",
       "stream": "stdout",
       "text": [
        "\n",
        "Getting # 1118: http://yosemite.epa.gov/oeca/webeis.nsf/EIS01/8D3691DEE3F883AA85257D4A001BC5CD"
       ]
      },
      {
       "output_type": "stream",
       "stream": "stdout",
       "text": [
        "\n",
        "Getting # 1121: http://yosemite.epa.gov/oeca/webeis.nsf/EIS01/694FB0C23CEE85B085257D3C001B9687"
       ]
      },
      {
       "output_type": "stream",
       "stream": "stdout",
       "text": [
        "\n",
        "Getting # 1121: http://yosemite.epa.gov/oeca/webeis.nsf/EIS01/ACB1A3C1B3F7276585257D70001BC4A0"
       ]
      },
      {
       "output_type": "stream",
       "stream": "stdout",
       "text": [
        "\n",
        "Getting # 1122: http://yosemite.epa.gov/oeca/webeis.nsf/EIS01/4CC63B0E7039DBA385257D6B001BCE64"
       ]
      },
      {
       "output_type": "stream",
       "stream": "stdout",
       "text": [
        "\n",
        "Getting # 1126: http://yosemite.epa.gov/oeca/webeis.nsf/EIS01/2F2AC5734399297885257D39001B9A3D"
       ]
      },
      {
       "output_type": "stream",
       "stream": "stdout",
       "text": [
        "\n",
        "Getting # 1131: http://yosemite.epa.gov/oeca/webeis.nsf/EIS01/930223D38757C30785257D25001BBA38"
       ]
      },
      {
       "output_type": "stream",
       "stream": "stdout",
       "text": [
        "\n",
        "Getting # 1132: http://yosemite.epa.gov/oeca/webeis.nsf/EIS01/CC158AB586BBD84785257D31001BAB87"
       ]
      },
      {
       "output_type": "stream",
       "stream": "stdout",
       "text": [
        "\n",
        "Getting # 1132: http://yosemite.epa.gov/oeca/webeis.nsf/EIS01/9A8E8F4DFABEE0ED85257D6B001BCD04"
       ]
      },
      {
       "output_type": "stream",
       "stream": "stdout",
       "text": [
        "\n",
        "Getting # 1135: http://yosemite.epa.gov/oeca/webeis.nsf/EIS01/A87DF148EE7FB5F485257D1D001B9B8D"
       ]
      },
      {
       "output_type": "stream",
       "stream": "stdout",
       "text": [
        "\n",
        "Getting # 1135: http://yosemite.epa.gov/oeca/webeis.nsf/EIS01/5D3308DCE962F70485257D32001B8593"
       ]
      },
      {
       "output_type": "stream",
       "stream": "stdout",
       "text": [
        "\n",
        "Getting # 1136: http://yosemite.epa.gov/oeca/webeis.nsf/EIS01/EE1D7E320F2FA5B785257D3B001B9A0B"
       ]
      },
      {
       "output_type": "stream",
       "stream": "stdout",
       "text": [
        "\n",
        "Getting # 1142: http://yosemite.epa.gov/oeca/webeis.nsf/EIS01/5B801B23379D0D1C85257D4D001BAB3A"
       ]
      },
      {
       "output_type": "stream",
       "stream": "stdout",
       "text": [
        "\n",
        "Getting # 1146: http://yosemite.epa.gov/oeca/webeis.nsf/EIS01/F46247DDA3744FF185257D38001B9367"
       ]
      },
      {
       "output_type": "stream",
       "stream": "stdout",
       "text": [
        "\n",
        "Getting # 1146: http://yosemite.epa.gov/oeca/webeis.nsf/EIS01/E902B1DF0164F75185257D47001BB59B"
       ]
      },
      {
       "output_type": "stream",
       "stream": "stdout",
       "text": [
        "\n",
        "Getting # 1150: http://yosemite.epa.gov/oeca/webeis.nsf/EIS01/527A4400BAC6212B85257D09001BCE03"
       ]
      },
      {
       "output_type": "stream",
       "stream": "stdout",
       "text": [
        "\n",
        "Getting # 1152: http://yosemite.epa.gov/oeca/webeis.nsf/EIS01/1C024FF9F1A1B3BB85257D11001BC46F"
       ]
      },
      {
       "output_type": "stream",
       "stream": "stdout",
       "text": [
        "\n",
        "Getting # 1154: http://yosemite.epa.gov/oeca/webeis.nsf/EIS01/B5E2AA8369482F2885257D16001BA45B"
       ]
      },
      {
       "output_type": "stream",
       "stream": "stdout",
       "text": [
        "\n",
        "Getting # 1155: http://yosemite.epa.gov/oeca/webeis.nsf/EIS01/299F6389D2A8018E85257D03001BEB85"
       ]
      },
      {
       "output_type": "stream",
       "stream": "stdout",
       "text": [
        "\n",
        "Getting # 1155: http://yosemite.epa.gov/oeca/webeis.nsf/EIS01/1B4227257537CE2F85257D34001B8663"
       ]
      },
      {
       "output_type": "stream",
       "stream": "stdout",
       "text": [
        "\n",
        "Getting # 1155: http://yosemite.epa.gov/oeca/webeis.nsf/EIS01/C0EAB4B0AD4E297785257D50001BC25F"
       ]
      },
      {
       "output_type": "stream",
       "stream": "stdout",
       "text": [
        "\n",
        "Getting # 1159: http://yosemite.epa.gov/oeca/webeis.nsf/EIS01/057D6DD91A04360385257D7A001B96AA"
       ]
      },
      {
       "output_type": "stream",
       "stream": "stdout",
       "text": [
        "\n",
        "Getting # 1168: http://yosemite.epa.gov/oeca/webeis.nsf/EIS01/B64A76B0550F7BBE85257D11001BC3E5"
       ]
      },
      {
       "output_type": "stream",
       "stream": "stdout",
       "text": [
        "\n",
        "Getting # 1171: http://yosemite.epa.gov/oeca/webeis.nsf/EIS01/92B5E917D8F5DFFA85257D5C001B7E72"
       ]
      },
      {
       "output_type": "stream",
       "stream": "stdout",
       "text": [
        "\n",
        "Getting # 1172: http://yosemite.epa.gov/oeca/webeis.nsf/EIS01/E613133F7AE1339E85257D42001BB481"
       ]
      },
      {
       "output_type": "stream",
       "stream": "stdout",
       "text": [
        "\n",
        "Getting # 1172: http://yosemite.epa.gov/oeca/webeis.nsf/EIS01/AE1C77105708824F85257D6B001BCC34"
       ]
      },
      {
       "output_type": "stream",
       "stream": "stdout",
       "text": [
        "\n",
        "Getting # 1172: http://yosemite.epa.gov/oeca/webeis.nsf/EIS01/274B17E841708C0685257D1D001B8F05"
       ]
      },
      {
       "output_type": "stream",
       "stream": "stdout",
       "text": [
        "\n",
        "Getting # 1173: http://yosemite.epa.gov/oeca/webeis.nsf/EIS01/0F52E15F53BD87D785257D03001BE7F4"
       ]
      },
      {
       "output_type": "stream",
       "stream": "stdout",
       "text": [
        "\n",
        "Getting # 1175: http://yosemite.epa.gov/oeca/webeis.nsf/EIS01/77372C6C38E999A385257D09001BCBFC"
       ]
      },
      {
       "output_type": "stream",
       "stream": "stdout",
       "text": [
        "\n",
        "Getting # 1175: http://yosemite.epa.gov/oeca/webeis.nsf/EIS01/ECB5937CDFE76A9585257D3C001B92CA"
       ]
      },
      {
       "output_type": "stream",
       "stream": "stdout",
       "text": [
        "\n",
        "Getting # 1186: http://yosemite.epa.gov/oeca/webeis.nsf/EIS01/70325D3113AE868685257D3B001B9375"
       ]
      },
      {
       "output_type": "stream",
       "stream": "stdout",
       "text": [
        "\n",
        "Getting # 1189: http://yosemite.epa.gov/oeca/webeis.nsf/EIS01/139AF58B2169E74D85257D17001BA004"
       ]
      },
      {
       "output_type": "stream",
       "stream": "stdout",
       "text": [
        "\n",
        "Getting # 1190: http://yosemite.epa.gov/oeca/webeis.nsf/EIS01/FB71FD0DD299B40885257D6B001BC91B"
       ]
      },
      {
       "output_type": "stream",
       "stream": "stdout",
       "text": [
        "\n",
        "Getting # 1193: http://yosemite.epa.gov/oeca/webeis.nsf/EIS01/0BF7030A98B5184985257D11001BBC5B"
       ]
      },
      {
       "output_type": "stream",
       "stream": "stdout",
       "text": [
        "\n",
        "Getting # 1194: http://yosemite.epa.gov/oeca/webeis.nsf/EIS01/AC955E0EEA4FE69185257D6B001BC48A"
       ]
      },
      {
       "output_type": "stream",
       "stream": "stdout",
       "text": [
        "\n",
        "Getting # 1204: http://yosemite.epa.gov/oeca/webeis.nsf/EIS01/DFE3C68D24448AED85257D8900210D26"
       ]
      },
      {
       "output_type": "stream",
       "stream": "stdout",
       "text": [
        "\n",
        "Getting # 1204: http://yosemite.epa.gov/oeca/webeis.nsf/EIS01/ABB7ED629377067485257D18001BA12F"
       ]
      },
      {
       "output_type": "stream",
       "stream": "stdout",
       "text": [
        "\n",
        "Getting # 1211: http://yosemite.epa.gov/oeca/webeis.nsf/EIS01/D3A2D198F5B24DE785257D0A001BC0E9"
       ]
      },
      {
       "output_type": "stream",
       "stream": "stdout",
       "text": [
        "\n",
        "Getting # 1212: http://yosemite.epa.gov/oeca/webeis.nsf/EIS01/B009FF97DDCA1FF985257D1D001B8DAB"
       ]
      },
      {
       "output_type": "stream",
       "stream": "stdout",
       "text": [
        "\n",
        "Getting # 1213: http://yosemite.epa.gov/oeca/webeis.nsf/EIS01/C81F5D4021629CE785257D11001BBDF3"
       ]
      },
      {
       "output_type": "stream",
       "stream": "stdout",
       "text": [
        "\n",
        "Getting # 1260: http://yosemite.epa.gov/oeca/webeis.nsf/EIS01/838BDA74B1CA92AB85257D0F001BCF00"
       ]
      },
      {
       "output_type": "stream",
       "stream": "stdout",
       "text": [
        "\n",
        "Getting # 1263: http://yosemite.epa.gov/oeca/webeis.nsf/EIS01/E2E763E936C3705D85257D71001BB014"
       ]
      },
      {
       "output_type": "stream",
       "stream": "stdout",
       "text": [
        "\n",
        "Getting # 1264: http://yosemite.epa.gov/oeca/webeis.nsf/EIS01/BD9D5733FCE5B7B185257D77001B9AE5"
       ]
      },
      {
       "output_type": "stream",
       "stream": "stdout",
       "text": [
        "\n",
        "Getting # 1266: http://yosemite.epa.gov/oeca/webeis.nsf/EIS01/EDFD31162EF965E285257D09001BC10A"
       ]
      },
      {
       "output_type": "stream",
       "stream": "stdout",
       "text": [
        "\n",
        "Getting # 1266: http://yosemite.epa.gov/oeca/webeis.nsf/EIS01/6ABEC2AC0469085F85257D1C001B9729"
       ]
      },
      {
       "output_type": "stream",
       "stream": "stdout",
       "text": [
        "\n",
        "Getting # 1268: http://yosemite.epa.gov/oeca/webeis.nsf/EIS01/37C50EE0482BD7FC85257CFD001BCA69"
       ]
      },
      {
       "output_type": "stream",
       "stream": "stdout",
       "text": [
        "\n",
        "Getting # 1274: http://yosemite.epa.gov/oeca/webeis.nsf/EIS01/20AD60F1C232FF2785257CED001BC65B"
       ]
      },
      {
       "output_type": "stream",
       "stream": "stdout",
       "text": [
        "\n",
        "Getting # 1276: http://yosemite.epa.gov/oeca/webeis.nsf/EIS01/8EBB16C49E6FA1F385257D0F001BC22D"
       ]
      },
      {
       "output_type": "stream",
       "stream": "stdout",
       "text": [
        "\n",
        "Getting # 1307: http://yosemite.epa.gov/oeca/webeis.nsf/EIS01/1F2F913B5D064FBB85257CFD001BCC7E"
       ]
      },
      {
       "output_type": "stream",
       "stream": "stdout",
       "text": [
        "\n",
        "Getting # 1308: http://yosemite.epa.gov/oeca/webeis.nsf/EIS01/CCDBB340C070945B85257CED001BC4A7"
       ]
      },
      {
       "output_type": "stream",
       "stream": "stdout",
       "text": [
        "\n",
        "Getting # 1310: http://yosemite.epa.gov/oeca/webeis.nsf/EIS01/4782015E8E8458E585257CEB001B9F8A"
       ]
      },
      {
       "output_type": "stream",
       "stream": "stdout",
       "text": [
        "\n",
        "Getting # 1313: http://yosemite.epa.gov/oeca/webeis.nsf/EIS01/68288E0CE7AFE64E85257D00001BC216"
       ]
      },
      {
       "output_type": "stream",
       "stream": "stdout",
       "text": [
        "\n",
        "Getting # 1352: http://yosemite.epa.gov/oeca/webeis.nsf/EIS01/197F8BB3486EAFA885257D48001BB2DB"
       ]
      },
      {
       "output_type": "stream",
       "stream": "stdout",
       "text": [
        "\n",
        "Getting # 1355: http://yosemite.epa.gov/oeca/webeis.nsf/EIS01/AC63907745F90D1185257D41001B94CE"
       ]
      },
      {
       "output_type": "stream",
       "stream": "stdout",
       "text": [
        "\n",
        "Getting # 1356: http://yosemite.epa.gov/oeca/webeis.nsf/EIS01/714B96BAB843C61B85257CFB001BBC78"
       ]
      },
      {
       "output_type": "stream",
       "stream": "stdout",
       "text": [
        "\n",
        "Getting # 1356: http://yosemite.epa.gov/oeca/webeis.nsf/EIS01/F6FF286F1BA9AAE885257CFB001BB475"
       ]
      },
      {
       "output_type": "stream",
       "stream": "stdout",
       "text": [
        "\n",
        "Getting # 1356: http://yosemite.epa.gov/oeca/webeis.nsf/EIS01/0E696C5AC43968CA85257CFD001BC76A"
       ]
      },
      {
       "output_type": "stream",
       "stream": "stdout",
       "text": [
        "\n",
        "Getting # 1359: http://yosemite.epa.gov/oeca/webeis.nsf/EIS01/039C78449D92509B85257D71001BAE04"
       ]
      },
      {
       "output_type": "stream",
       "stream": "stdout",
       "text": [
        "\n",
        "Getting # 1359: http://yosemite.epa.gov/oeca/webeis.nsf/EIS01/CCA0178EE3D3D61685257D57001B83D4"
       ]
      },
      {
       "output_type": "stream",
       "stream": "stdout",
       "text": [
        "\n",
        "Getting # 1388: http://yosemite.epa.gov/oeca/webeis.nsf/EIS01/7F5BA413DCBE062585257D04001BB8DC"
       ]
      },
      {
       "output_type": "stream",
       "stream": "stdout",
       "text": [
        "\n",
        "Getting # 1388: http://yosemite.epa.gov/oeca/webeis.nsf/EIS01/684BD2B46EB413A185257D7A001B91E7"
       ]
      },
      {
       "output_type": "stream",
       "stream": "stdout",
       "text": [
        "\n",
        "Getting # 1390: http://yosemite.epa.gov/oeca/webeis.nsf/EIS01/E45954207A2D39A785257D1F001B8C65"
       ]
      },
      {
       "output_type": "stream",
       "stream": "stdout",
       "text": [
        "\n",
        "Getting # 1390: http://yosemite.epa.gov/oeca/webeis.nsf/EIS01/4DE777F4A55EE24A85257D11001BACA2"
       ]
      },
      {
       "output_type": "stream",
       "stream": "stdout",
       "text": [
        "\n",
        "Getting # 1397: http://yosemite.epa.gov/oeca/webeis.nsf/EIS01/77134292A75BD2B885257CEF001BC20C"
       ]
      },
      {
       "output_type": "stream",
       "stream": "stdout",
       "text": [
        "\n",
        "Getting # 1400: http://yosemite.epa.gov/oeca/webeis.nsf/EIS01/2425339E7CC3DC7485257D03001BBDD4"
       ]
      },
      {
       "output_type": "stream",
       "stream": "stdout",
       "text": [
        "\n",
        "Getting # 1424: http://yosemite.epa.gov/oeca/webeis.nsf/EIS01/BB4876B6DFCF061485257CE1001BB618"
       ]
      },
      {
       "output_type": "stream",
       "stream": "stdout",
       "text": [
        "\n",
        "Getting # 1426: http://yosemite.epa.gov/oeca/webeis.nsf/EIS01/B1C7D0936C9A20B385257D6B001BBFF0"
       ]
      },
      {
       "output_type": "stream",
       "stream": "stdout",
       "text": [
        "\n",
        "Getting # 1427: http://yosemite.epa.gov/oeca/webeis.nsf/EIS01/7AA845A487CFACC685257CF4001BB217"
       ]
      },
      {
       "output_type": "stream",
       "stream": "stdout",
       "text": [
        "\n",
        "Getting # 1429: http://yosemite.epa.gov/oeca/webeis.nsf/EIS01/7C3CD22B85970EC185257D03001BC4D9"
       ]
      },
      {
       "output_type": "stream",
       "stream": "stdout",
       "text": [
        "\n",
        "Getting # 1430: http://yosemite.epa.gov/oeca/webeis.nsf/EIS01/7241FB075261E09585257D15001B9FAF"
       ]
      },
      {
       "output_type": "stream",
       "stream": "stdout",
       "text": [
        "\n",
        "Getting # 1489: http://yosemite.epa.gov/oeca/webeis.nsf/EIS01/75F314C27D9370D685257CDA001BBFE2"
       ]
      },
      {
       "output_type": "stream",
       "stream": "stdout",
       "text": [
        "\n",
        "Getting # 1493: http://yosemite.epa.gov/oeca/webeis.nsf/EIS01/E636EA7BB464EE8485257CC3001BFA0C"
       ]
      },
      {
       "output_type": "stream",
       "stream": "stdout",
       "text": [
        "\n",
        "Getting # 1496: http://yosemite.epa.gov/oeca/webeis.nsf/EIS01/AB9470FDF9E6281085257D15001BA634"
       ]
      },
      {
       "output_type": "stream",
       "stream": "stdout",
       "text": [
        "\n",
        "Getting # 1512: http://yosemite.epa.gov/oeca/webeis.nsf/EIS01/CF6E7CD7D1650CD885257D11001BAA28"
       ]
      },
      {
       "output_type": "stream",
       "stream": "stdout",
       "text": [
        "\n",
        "Getting # 1513: http://yosemite.epa.gov/oeca/webeis.nsf/EIS01/4845D243B9FFC52885257D3C001B8EB0"
       ]
      },
      {
       "output_type": "stream",
       "stream": "stdout",
       "text": [
        "\n",
        "Getting # 1516: http://yosemite.epa.gov/oeca/webeis.nsf/EIS01/19A9C0D650E0242385257D03001BA305"
       ]
      },
      {
       "output_type": "stream",
       "stream": "stdout",
       "text": [
        "\n",
        "Getting # 1526: http://yosemite.epa.gov/oeca/webeis.nsf/EIS01/0F4D558B126B8E7685257D71001BA978"
       ]
      },
      {
       "output_type": "stream",
       "stream": "stdout",
       "text": [
        "\n",
        "Getting # 1536: http://yosemite.epa.gov/oeca/webeis.nsf/EIS01/79BDE0B774638C5685257D70001BB31E"
       ]
      },
      {
       "output_type": "stream",
       "stream": "stdout",
       "text": [
        "\n",
        "Getting # 1567: http://yosemite.epa.gov/oeca/webeis.nsf/EIS01/7DB827064674DD7785257D23001B8690"
       ]
      },
      {
       "output_type": "stream",
       "stream": "stdout",
       "text": [
        "\n",
        "Getting # 1569: http://yosemite.epa.gov/oeca/webeis.nsf/EIS01/7C18A81D3C7852CD85257CB3001BDB5A"
       ]
      },
      {
       "output_type": "stream",
       "stream": "stdout",
       "text": [
        "\n",
        "Getting # 1574: http://yosemite.epa.gov/oeca/webeis.nsf/EIS01/5183D068E61B603F85257CD6001BC586"
       ]
      },
      {
       "output_type": "stream",
       "stream": "stdout",
       "text": [
        "\n",
        "Getting # 1577: http://yosemite.epa.gov/oeca/webeis.nsf/EIS01/2A177581ABC98E9285257CE5001B9043"
       ]
      },
      {
       "output_type": "stream",
       "stream": "stdout",
       "text": [
        "\n",
        "Getting # 1579: http://yosemite.epa.gov/oeca/webeis.nsf/EIS01/35F9A3A0240417AC85257D04001B9B27"
       ]
      },
      {
       "output_type": "stream",
       "stream": "stdout",
       "text": [
        "\n",
        "Getting # 1602: http://yosemite.epa.gov/oeca/webeis.nsf/EIS01/3866F0577C73B5C385257D0E001B9454"
       ]
      },
      {
       "output_type": "stream",
       "stream": "stdout",
       "text": [
        "\n",
        "Getting # 1603: http://yosemite.epa.gov/oeca/webeis.nsf/EIS01/0B9F795209347BA585257CE4001BA4D6"
       ]
      },
      {
       "output_type": "stream",
       "stream": "stdout",
       "text": [
        "\n",
        "Getting # 1699: http://yosemite.epa.gov/oeca/webeis.nsf/EIS01/3C72F2656B99AFAC85257D0E001B92FE"
       ]
      },
      {
       "output_type": "stream",
       "stream": "stdout",
       "text": [
        "\n",
        "Getting # 1718: http://yosemite.epa.gov/oeca/webeis.nsf/EIS01/0261FC5F969409B485257D70001BAE51"
       ]
      },
      {
       "output_type": "stream",
       "stream": "stdout",
       "text": [
        "\n",
        "Getting # 1718: http://yosemite.epa.gov/oeca/webeis.nsf/EIS01/7113448876EE18C385257CE5001B8EBA"
       ]
      },
      {
       "output_type": "stream",
       "stream": "stdout",
       "text": [
        "\n",
        "Getting # 1719: http://yosemite.epa.gov/oeca/webeis.nsf/EIS01/A79A2F0D40F3D11485257D71001BA757"
       ]
      },
      {
       "output_type": "stream",
       "stream": "stdout",
       "text": [
        "\n",
        "Getting # 1720: http://yosemite.epa.gov/oeca/webeis.nsf/EIS01/1CAFCA2C223D53D485257D04001B98A8"
       ]
      },
      {
       "output_type": "stream",
       "stream": "stdout",
       "text": [
        "\n",
        "Getting # 1724: http://yosemite.epa.gov/oeca/webeis.nsf/EIS01/D5A7ABA12CEF1EBC85257D71001BA685"
       ]
      },
      {
       "output_type": "stream",
       "stream": "stdout",
       "text": [
        "\n",
        "Getting # 1725: http://yosemite.epa.gov/oeca/webeis.nsf/EIS01/F693BE9921E8A95985257D09001B923E"
       ]
      },
      {
       "output_type": "stream",
       "stream": "stdout",
       "text": [
        "\n",
        "Getting # 1745: http://yosemite.epa.gov/oeca/webeis.nsf/EIS01/F0806231EDC4C01885257D6B001BB395"
       ]
      },
      {
       "output_type": "stream",
       "stream": "stdout",
       "text": [
        "\n",
        "Getting # 1775: http://yosemite.epa.gov/oeca/webeis.nsf/EIS01/69BFFBA456A15EA785257CF9001BB4A2"
       ]
      },
      {
       "output_type": "stream",
       "stream": "stdout",
       "text": [
        "\n",
        "Getting # 1778: http://yosemite.epa.gov/oeca/webeis.nsf/EIS01/36352B1DE4FC38D985257CE1001BADE2"
       ]
      },
      {
       "output_type": "stream",
       "stream": "stdout",
       "text": [
        "\n",
        "Getting # 1804: http://yosemite.epa.gov/oeca/webeis.nsf/EIS01/8E51AA61FB877A4785257CC9001BD3D9"
       ]
      },
      {
       "output_type": "stream",
       "stream": "stdout",
       "text": [
        "\n",
        "Getting # 1808: http://yosemite.epa.gov/oeca/webeis.nsf/EIS01/34D768D09CE3A70885257CCB001BDE71"
       ]
      },
      {
       "output_type": "stream",
       "stream": "stdout",
       "text": [
        "\n",
        "Getting # 1809: http://yosemite.epa.gov/oeca/webeis.nsf/EIS01/8A38E459BCA5147D85257CCA001BDF21"
       ]
      },
      {
       "output_type": "stream",
       "stream": "stdout",
       "text": [
        "\n",
        "Getting # 1810: http://yosemite.epa.gov/oeca/webeis.nsf/EIS01/3EC71CD63C4AB8F085257CD6001BB47D"
       ]
      },
      {
       "output_type": "stream",
       "stream": "stdout",
       "text": [
        "\n",
        "Getting # 1812: http://yosemite.epa.gov/oeca/webeis.nsf/EIS01/4A0338E027634CCD85257CE0001BAFFD"
       ]
      },
      {
       "output_type": "stream",
       "stream": "stdout",
       "text": [
        "\n",
        "Getting # 1815: http://yosemite.epa.gov/oeca/webeis.nsf/EIS01/DA8A62F072E582CF85257CE6001B9B5C"
       ]
      },
      {
       "output_type": "stream",
       "stream": "stdout",
       "text": [
        "\n",
        "Getting # 1816: http://yosemite.epa.gov/oeca/webeis.nsf/EIS01/CB773F83DF24C05185257D6B001BB0A0"
       ]
      },
      {
       "output_type": "stream",
       "stream": "stdout",
       "text": [
        "\n",
        "Getting # 1817: http://yosemite.epa.gov/oeca/webeis.nsf/EIS01/55CC8F0102CDC7B085257CD9001BAE25"
       ]
      },
      {
       "output_type": "stream",
       "stream": "stdout",
       "text": [
        "\n",
        "Getting # 1817: http://yosemite.epa.gov/oeca/webeis.nsf/EIS01/2C60D047D6E6AC1C85257D6B001BAC7C"
       ]
      },
      {
       "output_type": "stream",
       "stream": "stdout",
       "text": [
        "\n",
        "Getting # 1830: http://yosemite.epa.gov/oeca/webeis.nsf/EIS01/04FC12CD35900B6085257CD6001BB1EB"
       ]
      },
      {
       "output_type": "stream",
       "stream": "stdout",
       "text": [
        "\n",
        "Getting # 1835: http://yosemite.epa.gov/oeca/webeis.nsf/EIS01/B5DA33EA72CCDE5985257CBA001BBB71"
       ]
      },
      {
       "output_type": "stream",
       "stream": "stdout",
       "text": [
        "\n",
        "Getting # 1837: http://yosemite.epa.gov/oeca/webeis.nsf/EIS01/C351C2CA86E8D08E85257CC4001BF260"
       ]
      },
      {
       "output_type": "stream",
       "stream": "stdout",
       "text": [
        "\n",
        "Getting # 1838: http://yosemite.epa.gov/oeca/webeis.nsf/EIS01/948ADF41100AB17585257D8500210C9D"
       ]
      },
      {
       "output_type": "stream",
       "stream": "stdout",
       "text": [
        "\n",
        "Getting # 1839: http://yosemite.epa.gov/oeca/webeis.nsf/EIS01/D1041B7C878898CD85257D0F001B9D43"
       ]
      },
      {
       "output_type": "stream",
       "stream": "stdout",
       "text": [
        "\n",
        "Getting # 1840: http://yosemite.epa.gov/oeca/webeis.nsf/EIS01/8D8AB480E1DF440E85257D15001B947F"
       ]
      },
      {
       "output_type": "stream",
       "stream": "stdout",
       "text": [
        "\n",
        "Getting # 1841: http://yosemite.epa.gov/oeca/webeis.nsf/EIS01/AE1953BD14AF6E4D85257D1C001B8E8B"
       ]
      },
      {
       "output_type": "stream",
       "stream": "stdout",
       "text": [
        "\n",
        "Getting # 1842: http://yosemite.epa.gov/oeca/webeis.nsf/EIS01/E263AC7F52FD4E1B85257D4A001BB487"
       ]
      },
      {
       "output_type": "stream",
       "stream": "stdout",
       "text": [
        "\n",
        "Getting # 1845: http://yosemite.epa.gov/oeca/webeis.nsf/EIS01/3BB8AEA2EAAF2C8785257D71001BA53A"
       ]
      },
      {
       "output_type": "stream",
       "stream": "stdout",
       "text": [
        "\n",
        "Getting # 1847: http://yosemite.epa.gov/oeca/webeis.nsf/EIS01/ACA6966BDF26962E85257CBC001BB6E2"
       ]
      },
      {
       "output_type": "stream",
       "stream": "stdout",
       "text": [
        "\n",
        "Getting # 1847: http://yosemite.epa.gov/oeca/webeis.nsf/EIS01/BB0DC5FAA3FC6BCA85257D15001B90DA"
       ]
      },
      {
       "output_type": "stream",
       "stream": "stdout",
       "text": [
        "\n",
        "Getting # 1853: http://yosemite.epa.gov/oeca/webeis.nsf/EIS01/38158D0B1E27D1FA85257CD7001BBEAB"
       ]
      },
      {
       "output_type": "stream",
       "stream": "stdout",
       "text": [
        "\n",
        "Getting # 1917: http://yosemite.epa.gov/oeca/webeis.nsf/EIS01/A4798B1978E20A3085257CD6001BAED6"
       ]
      },
      {
       "output_type": "stream",
       "stream": "stdout",
       "text": [
        "\n",
        "Getting # 1919: http://yosemite.epa.gov/oeca/webeis.nsf/EIS01/613C78322327C5E985257CCA001BCC5C"
       ]
      },
      {
       "output_type": "stream",
       "stream": "stdout",
       "text": [
        "\n",
        "Getting # 1958: http://yosemite.epa.gov/oeca/webeis.nsf/EIS01/7436334D60CC8BE385257CF3001BB926"
       ]
      },
      {
       "output_type": "stream",
       "stream": "stdout",
       "text": [
        "\n",
        "Getting # 1958: http://yosemite.epa.gov/oeca/webeis.nsf/EIS01/6CE801B6A4156B7785257CAD001BBF51"
       ]
      },
      {
       "output_type": "stream",
       "stream": "stdout",
       "text": [
        "\n",
        "Getting # 1962: http://yosemite.epa.gov/oeca/webeis.nsf/EIS01/DE336A621C813ED085257CCB001BCFB4"
       ]
      },
      {
       "output_type": "stream",
       "stream": "stdout",
       "text": [
        "\n",
        "Getting # 1964: http://yosemite.epa.gov/oeca/webeis.nsf/EIS01/4832A4C9D224296785257CD6001BACB6"
       ]
      },
      {
       "output_type": "stream",
       "stream": "stdout",
       "text": [
        "\n",
        "Getting # 1965: http://yosemite.epa.gov/oeca/webeis.nsf/EIS01/C2A63D445CA8F1B385257CAE001BBBD3"
       ]
      },
      {
       "output_type": "stream",
       "stream": "stdout",
       "text": [
        "\n",
        "Getting # 1973: http://yosemite.epa.gov/oeca/webeis.nsf/EIS01/E4938311D7E3279F85257D0F001B9253"
       ]
      },
      {
       "output_type": "stream",
       "stream": "stdout",
       "text": [
        "\n",
        "Getting # 1975: http://yosemite.epa.gov/oeca/webeis.nsf/EIS01/C593FF037A95C6B785257CCA001BAEDB"
       ]
      },
      {
       "output_type": "stream",
       "stream": "stdout",
       "text": [
        "\n",
        "Getting # 1978: http://yosemite.epa.gov/oeca/webeis.nsf/EIS01/72077C8975B1A72285257CCB001BB1EF"
       ]
      },
      {
       "output_type": "stream",
       "stream": "stdout",
       "text": [
        "\n",
        "Getting # 1993: http://yosemite.epa.gov/oeca/webeis.nsf/EIS01/4354B8C86266200985257CD1001BA021"
       ]
      },
      {
       "output_type": "stream",
       "stream": "stdout",
       "text": [
        "\n",
        "Getting # 1997: http://yosemite.epa.gov/oeca/webeis.nsf/EIS01/C2B7430DC863255C85257D1C001B8E36"
       ]
      },
      {
       "output_type": "stream",
       "stream": "stdout",
       "text": [
        "\n",
        "Getting # 1998: http://yosemite.epa.gov/oeca/webeis.nsf/EIS01/CBDD45C77896B08085257D77001B975E"
       ]
      },
      {
       "output_type": "stream",
       "stream": "stdout",
       "text": [
        "\n",
        "Getting # 1999: http://yosemite.epa.gov/oeca/webeis.nsf/EIS01/CCE0FF83C7CE8F6285257CC5001BBA97"
       ]
      },
      {
       "output_type": "stream",
       "stream": "stdout",
       "text": [
        "\n",
        "Getting # 2000: http://yosemite.epa.gov/oeca/webeis.nsf/EIS01/D9AA72242C77135085257CD2001B9818"
       ]
      },
      {
       "output_type": "stream",
       "stream": "stdout",
       "text": [
        "\n",
        "Getting # 2003: http://yosemite.epa.gov/oeca/webeis.nsf/EIS01/8FD1ED22D71669BB85257CFA001BB3B5"
       ]
      },
      {
       "output_type": "stream",
       "stream": "stdout",
       "text": [
        "\n",
        "Getting # 2060: http://yosemite.epa.gov/oeca/webeis.nsf/EIS01/07E3FBEFF73BEF9785257D18001B951E"
       ]
      },
      {
       "output_type": "stream",
       "stream": "stdout",
       "text": [
        "\n",
        "Getting # 2061: http://yosemite.epa.gov/oeca/webeis.nsf/EIS01/5ABEBD5390C1ADFC85257CC4001BCEA2"
       ]
      },
      {
       "output_type": "stream",
       "stream": "stdout",
       "text": [
        "\n",
        "Getting # 2062: http://yosemite.epa.gov/oeca/webeis.nsf/EIS01/7E0A18B83ABCBDE985257D8900210C3A"
       ]
      },
      {
       "output_type": "stream",
       "stream": "stdout",
       "text": [
        "\n",
        "Getting # 2066: http://yosemite.epa.gov/oeca/webeis.nsf/EIS01/7FD5481354E79E7D85257CFA001BAE77"
       ]
      },
      {
       "output_type": "stream",
       "stream": "stdout",
       "text": [
        "\n",
        "Getting # 2071: http://yosemite.epa.gov/oeca/webeis.nsf/EIS01/76CC9CD250B3EC9385257CB3001BBB1A"
       ]
      },
      {
       "output_type": "stream",
       "stream": "stdout",
       "text": [
        "\n",
        "Getting # 2073: http://yosemite.epa.gov/oeca/webeis.nsf/EIS01/21340533A9EE442C85257D18001B9101"
       ]
      },
      {
       "output_type": "stream",
       "stream": "stdout",
       "text": [
        "\n",
        "Getting # 2088: http://yosemite.epa.gov/oeca/webeis.nsf/EIS01/CB099ABC0272741685257CCA001BA096"
       ]
      },
      {
       "output_type": "stream",
       "stream": "stdout",
       "text": [
        "\n",
        "Getting # 2091: http://yosemite.epa.gov/oeca/webeis.nsf/EIS01/4B32F77D104EC6FB85257CAF001BA571"
       ]
      },
      {
       "output_type": "stream",
       "stream": "stdout",
       "text": [
        "\n",
        "Getting # 2096: http://yosemite.epa.gov/oeca/webeis.nsf/EIS01/10E7611371D9FB1885257CBB001BA5C5"
       ]
      },
      {
       "output_type": "stream",
       "stream": "stdout",
       "text": [
        "\n",
        "Getting # 2099: http://yosemite.epa.gov/oeca/webeis.nsf/EIS01/74FE2A36E33F89C985257C8900215A93"
       ]
      },
      {
       "output_type": "stream",
       "stream": "stdout",
       "text": [
        "\n",
        "Getting # 2190: http://yosemite.epa.gov/oeca/webeis.nsf/EIS01/CD77207ED7647B7885257CBA001BAC08"
       ]
      },
      {
       "output_type": "stream",
       "stream": "stdout",
       "text": [
        "\n",
        "Getting # 2193: http://yosemite.epa.gov/oeca/webeis.nsf/EIS01/395ED52CC3ED7E8285257CA9001BB627"
       ]
      },
      {
       "output_type": "stream",
       "stream": "stdout",
       "text": [
        "\n",
        "Getting # 2194: http://yosemite.epa.gov/oeca/webeis.nsf/EIS01/DCFB774A6D00081985257CC5001BB4B0"
       ]
      },
      {
       "output_type": "stream",
       "stream": "stdout",
       "text": [
        "\n",
        "Getting # 2196: http://yosemite.epa.gov/oeca/webeis.nsf/EIS01/D90C0B77CA94734D85257CA7001BC386"
       ]
      },
      {
       "output_type": "stream",
       "stream": "stdout",
       "text": [
        "\n",
        "Getting # 2210: http://yosemite.epa.gov/oeca/webeis.nsf/EIS01/D49397DFD26CE03085257CD1001B9925"
       ]
      },
      {
       "output_type": "stream",
       "stream": "stdout",
       "text": [
        "\n",
        "Getting # 2212: http://yosemite.epa.gov/oeca/webeis.nsf/EIS01/3E85802941DE248A85257CC9001BA585"
       ]
      },
      {
       "output_type": "stream",
       "stream": "stdout",
       "text": [
        "\n",
        "Getting # 2215: http://yosemite.epa.gov/oeca/webeis.nsf/EIS01/7624A75692AD728E85257CCB001BA51B"
       ]
      },
      {
       "output_type": "stream",
       "stream": "stdout",
       "text": [
        "\n",
        "Getting # 2218: http://yosemite.epa.gov/oeca/webeis.nsf/EIS01/7F5DEEFECD0E349B85257D1C001B8D8C"
       ]
      },
      {
       "output_type": "stream",
       "stream": "stdout",
       "text": [
        "\n",
        "Getting # 2219: http://yosemite.epa.gov/oeca/webeis.nsf/EIS01/446E920D6870F68D85257D15001B879E"
       ]
      },
      {
       "output_type": "stream",
       "stream": "stdout",
       "text": [
        "\n",
        "Getting # 2221: http://yosemite.epa.gov/oeca/webeis.nsf/EIS01/4BC2491525BBA71085257D18001B8C4F"
       ]
      },
      {
       "output_type": "stream",
       "stream": "stdout",
       "text": [
        "\n",
        "Getting # 2226: http://yosemite.epa.gov/oeca/webeis.nsf/EIS01/51ECEC23AF65A9AE85257C8C002165CC"
       ]
      },
      {
       "output_type": "stream",
       "stream": "stdout",
       "text": [
        "\n",
        "Getting # 2227: http://yosemite.epa.gov/oeca/webeis.nsf/EIS01/DBF42558711C65F885257CAE001BA9B1"
       ]
      },
      {
       "output_type": "stream",
       "stream": "stdout",
       "text": [
        "\n",
        "Getting # 2228: http://yosemite.epa.gov/oeca/webeis.nsf/EIS01/EBA9EE27905A6A6E85257CEF001BB1EB"
       ]
      },
      {
       "output_type": "stream",
       "stream": "stdout",
       "text": [
        "\n",
        "Getting # 2228: http://yosemite.epa.gov/oeca/webeis.nsf/EIS01/9E1663D6534CC11085257D31001BA23D"
       ]
      },
      {
       "output_type": "stream",
       "stream": "stdout",
       "text": [
        "\n",
        "Getting # 2229: http://yosemite.epa.gov/oeca/webeis.nsf/EIS01/F7B8F767E3EE8EE085257CC4001BB60D"
       ]
      },
      {
       "output_type": "stream",
       "stream": "stdout",
       "text": [
        "\n",
        "Getting # 2303: http://yosemite.epa.gov/oeca/webeis.nsf/EIS01/04BB876EB23C0D2085257CF3001BAEDD"
       ]
      },
      {
       "output_type": "stream",
       "stream": "stdout",
       "text": [
        "\n",
        "Getting # 2306: http://yosemite.epa.gov/oeca/webeis.nsf/EIS01/7A7A22501D898E0C85257C9F001BABD4"
       ]
      },
      {
       "output_type": "stream",
       "stream": "stdout",
       "text": [
        "\n",
        "Getting # 2307: http://yosemite.epa.gov/oeca/webeis.nsf/EIS01/ED00189BCFE5EE1685257CA9001BAFF0"
       ]
      },
      {
       "output_type": "stream",
       "stream": "stdout",
       "text": [
        "\n",
        "Getting # 2314: http://yosemite.epa.gov/oeca/webeis.nsf/EIS01/8EADE5E399B7610185257CEE001BA9FC"
       ]
      },
      {
       "output_type": "stream",
       "stream": "stdout",
       "text": [
        "\n",
        "Getting # 2317: http://yosemite.epa.gov/oeca/webeis.nsf/EIS01/06EEF0BA8285BAEE85257C98001BAC7D"
       ]
      },
      {
       "output_type": "stream",
       "stream": "stdout",
       "text": [
        "\n",
        "Getting # 2318: http://yosemite.epa.gov/oeca/webeis.nsf/EIS01/2AC7585B8BCB09F685257CA5001BB61D"
       ]
      },
      {
       "output_type": "stream",
       "stream": "stdout",
       "text": [
        "\n",
        "Getting # 2320: http://yosemite.epa.gov/oeca/webeis.nsf/EIS01/E1718237D843BC5E85257D6B001BA942"
       ]
      },
      {
       "output_type": "stream",
       "stream": "stdout",
       "text": [
        "\n",
        "Getting # 2321: http://yosemite.epa.gov/oeca/webeis.nsf/EIS01/10FC2B4C5FFAA78185257D70001BAA81"
       ]
      },
      {
       "output_type": "stream",
       "stream": "stdout",
       "text": [
        "\n",
        "Getting # 2324: http://yosemite.epa.gov/oeca/webeis.nsf/EIS01/16693E6E0FA9BC7185257CAE001BA50E"
       ]
      },
      {
       "output_type": "stream",
       "stream": "stdout",
       "text": [
        "\n",
        "Getting # 2325: http://yosemite.epa.gov/oeca/webeis.nsf/EIS01/BBD85857B6FE53BB85257CAE001BA41A"
       ]
      },
      {
       "output_type": "stream",
       "stream": "stdout",
       "text": [
        "\n",
        "Getting # 2326: http://yosemite.epa.gov/oeca/webeis.nsf/EIS01/51F8448E8EB5131985257CD1001B941E"
       ]
      },
      {
       "output_type": "stream",
       "stream": "stdout",
       "text": [
        "\n",
        "Getting # 2327: http://yosemite.epa.gov/oeca/webeis.nsf/EIS01/F7BDB9502C31669385257C98001BAAE0"
       ]
      },
      {
       "output_type": "stream",
       "stream": "stdout",
       "text": [
        "\n",
        "Getting # 2329: http://yosemite.epa.gov/oeca/webeis.nsf/EIS01/D59CC2D97BBBDC3785257CC5001BA66B"
       ]
      },
      {
       "output_type": "stream",
       "stream": "stdout",
       "text": [
        "\n",
        "Getting # 2332: http://yosemite.epa.gov/oeca/webeis.nsf/EIS01/A16A8CF1EFF0C0EE85257CCB001B9C0C"
       ]
      },
      {
       "output_type": "stream",
       "stream": "stdout",
       "text": [
        "\n",
        "Getting # 2336: http://yosemite.epa.gov/oeca/webeis.nsf/EIS01/A8F2E46A97D476F985257C840021576E"
       ]
      },
      {
       "output_type": "stream",
       "stream": "stdout",
       "text": [
        "\n",
        "Getting # 2339: http://yosemite.epa.gov/oeca/webeis.nsf/EIS01/32F816924410370785257D6B001BA67F"
       ]
      },
      {
       "output_type": "stream",
       "stream": "stdout",
       "text": [
        "\n",
        "Getting # 2340: http://yosemite.epa.gov/oeca/webeis.nsf/EIS01/2CB1B8ADDCB51F4E85257CA7001BB680"
       ]
      },
      {
       "output_type": "stream",
       "stream": "stdout",
       "text": [
        "\n",
        "Getting # 2342: http://yosemite.epa.gov/oeca/webeis.nsf/EIS01/4D39A35E8F754F8A85257C9F001BA59E"
       ]
      },
      {
       "output_type": "stream",
       "stream": "stdout",
       "text": [
        "\n",
        "Getting # 2344: http://yosemite.epa.gov/oeca/webeis.nsf/EIS01/346F53452F2048C085257C82002138D2"
       ]
      },
      {
       "output_type": "stream",
       "stream": "stdout",
       "text": [
        "\n",
        "Getting # 2346: http://yosemite.epa.gov/oeca/webeis.nsf/EIS01/9FAC78BF98FFA17F85257CE7001B8EEE"
       ]
      },
      {
       "output_type": "stream",
       "stream": "stdout",
       "text": [
        "\n",
        "Getting # 2346: http://yosemite.epa.gov/oeca/webeis.nsf/EIS01/96773FCBF12FD8D085257D71001B9E55"
       ]
      },
      {
       "output_type": "stream",
       "stream": "stdout",
       "text": [
        "\n",
        "Getting # 2385: http://yosemite.epa.gov/oeca/webeis.nsf/EIS01/29422B0CFD0EAFB385257D1C001B8CA2"
       ]
      },
      {
       "output_type": "stream",
       "stream": "stdout",
       "text": [
        "\n",
        "Getting # 2387: http://yosemite.epa.gov/oeca/webeis.nsf/EIS01/05531C3128BCC88285257D02001B8307"
       ]
      },
      {
       "output_type": "stream",
       "stream": "stdout",
       "text": [
        "\n",
        "Getting # 2387: http://yosemite.epa.gov/oeca/webeis.nsf/EIS01/56F27975941A201485257CEF001BB049"
       ]
      },
      {
       "output_type": "stream",
       "stream": "stdout",
       "text": [
        "\n",
        "Getting # 2387: http://yosemite.epa.gov/oeca/webeis.nsf/EIS01/763D61C1C75EAF2685257D77001B9739"
       ]
      },
      {
       "output_type": "stream",
       "stream": "stdout",
       "text": [
        "\n",
        "Getting # 2388: http://yosemite.epa.gov/oeca/webeis.nsf/EIS01/0478C2F319D1165D85257D02001B8303"
       ]
      },
      {
       "output_type": "stream",
       "stream": "stdout",
       "text": [
        "\n",
        "Getting # 2388: http://yosemite.epa.gov/oeca/webeis.nsf/EIS01/D45A8EA8CDEA66DD85257C6200218AAA"
       ]
      },
      {
       "output_type": "stream",
       "stream": "stdout",
       "text": [
        "\n",
        "Getting # 2388: http://yosemite.epa.gov/oeca/webeis.nsf/EIS01/C734016030BCF1E385257D8500210A71"
       ]
      },
      {
       "output_type": "stream",
       "stream": "stdout",
       "text": [
        "\n",
        "Getting # 2389: http://yosemite.epa.gov/oeca/webeis.nsf/EIS01/785780B097507C1485257CC9001B99E6"
       ]
      },
      {
       "output_type": "stream",
       "stream": "stdout",
       "text": [
        "\n",
        "Getting # 2391: http://yosemite.epa.gov/oeca/webeis.nsf/EIS01/1F4545358096B6E785257CEF001BAFBD"
       ]
      },
      {
       "output_type": "stream",
       "stream": "stdout",
       "text": [
        "\n",
        "Getting # 2391: http://yosemite.epa.gov/oeca/webeis.nsf/EIS01/D76843CECA93B76185257D02001B82F3"
       ]
      },
      {
       "output_type": "stream",
       "stream": "stdout",
       "text": [
        "\n",
        "Getting # 2391: http://yosemite.epa.gov/oeca/webeis.nsf/EIS01/64A57450FB65E61985257C7700213234"
       ]
      },
      {
       "output_type": "stream",
       "stream": "stdout",
       "text": [
        "\n",
        "Getting # 2392: http://yosemite.epa.gov/oeca/webeis.nsf/EIS01/F512C07C0440E32B85257C9A001B9587"
       ]
      },
      {
       "output_type": "stream",
       "stream": "stdout",
       "text": [
        "\n",
        "Getting # 2393: http://yosemite.epa.gov/oeca/webeis.nsf/EIS01/A722CA2AC23EAAFC85257C84002152FB"
       ]
      },
      {
       "output_type": "stream",
       "stream": "stdout",
       "text": [
        "\n",
        "Getting # 2393: http://yosemite.epa.gov/oeca/webeis.nsf/EIS01/30F34B8DA32EB3CC85257C8C00215BBB"
       ]
      },
      {
       "output_type": "stream",
       "stream": "stdout",
       "text": [
        "\n",
        "Getting # 2394: http://yosemite.epa.gov/oeca/webeis.nsf/EIS01/A44AD5D5FD11C8E085257C9400211E52"
       ]
      },
      {
       "output_type": "stream",
       "stream": "stdout",
       "text": [
        "\n",
        "Getting # 2396: http://yosemite.epa.gov/oeca/webeis.nsf/EIS01/809CCF6321077E7B85257D02001B82F8"
       ]
      },
      {
       "output_type": "stream",
       "stream": "stdout",
       "text": [
        "\n",
        "Getting # 2396: http://yosemite.epa.gov/oeca/webeis.nsf/EIS01/77E9A8017762FCC085257D03001B833E"
       ]
      },
      {
       "output_type": "stream",
       "stream": "stdout",
       "text": [
        "\n",
        "Getting # 2413: http://yosemite.epa.gov/oeca/webeis.nsf/EIS01/87C9B93F716451D785257D82001B8FBA"
       ]
      },
      {
       "output_type": "stream",
       "stream": "stdout",
       "text": [
        "\n",
        "Getting # 2417: http://yosemite.epa.gov/oeca/webeis.nsf/EIS01/BA16B8A89733CE5585257D82001B8C97"
       ]
      },
      {
       "output_type": "stream",
       "stream": "stdout",
       "text": [
        "\n",
        "Getting # 2418: http://yosemite.epa.gov/oeca/webeis.nsf/EIS01/4395D38E403F487085257C6F00210FAD"
       ]
      },
      {
       "output_type": "stream",
       "stream": "stdout",
       "text": [
        "\n",
        "Getting # 2439: http://yosemite.epa.gov/oeca/webeis.nsf/EIS01/5201C147F525D7F985257D50001BA4F3"
       ]
      },
      {
       "output_type": "stream",
       "stream": "stdout",
       "text": [
        "\n",
        "Getting # 2627: http://yosemite.epa.gov/oeca/webeis.nsf/EIS01/42ED669A01E5D2D785257CC8001B9EAE"
       ]
      },
      {
       "output_type": "stream",
       "stream": "stdout",
       "text": [
        "\n",
        "Getting # 2643: http://yosemite.epa.gov/oeca/webeis.nsf/EIS01/26F1B2DD86E4771D85257D77001B962C"
       ]
      },
      {
       "output_type": "stream",
       "stream": "stdout",
       "text": [
        "\n",
        "Getting # 2645: http://yosemite.epa.gov/oeca/webeis.nsf/EIS01/2D94665FD3614B8B85257C6300214D08"
       ]
      },
      {
       "output_type": "stream",
       "stream": "stdout",
       "text": [
        "\n",
        "Getting # 2648: http://yosemite.epa.gov/oeca/webeis.nsf/EIS01/F15018D993A0701B85257C7D00212AE2"
       ]
      },
      {
       "output_type": "stream",
       "stream": "stdout",
       "text": [
        "\n",
        "Getting # 2648: http://yosemite.epa.gov/oeca/webeis.nsf/EIS01/84FAE8A0B201F4FF85257CA9001B9C97"
       ]
      },
      {
       "output_type": "stream",
       "stream": "stdout",
       "text": [
        "\n",
        "Getting # 2651: http://yosemite.epa.gov/oeca/webeis.nsf/EIS01/ED8C750B5272BEE085257CA9001B9CED"
       ]
      },
      {
       "output_type": "stream",
       "stream": "stdout",
       "text": [
        "\n",
        "Getting # 2651: http://yosemite.epa.gov/oeca/webeis.nsf/EIS01/336C955384EF671B85257C46002141DD"
       ]
      },
      {
       "output_type": "stream",
       "stream": "stdout",
       "text": [
        "\n",
        "Getting # 2653: http://yosemite.epa.gov/oeca/webeis.nsf/EIS01/8FE9DFE636C56B4E85257C5800211015"
       ]
      },
      {
       "output_type": "stream",
       "stream": "stdout",
       "text": [
        "\n",
        "Getting # 2666: http://yosemite.epa.gov/oeca/webeis.nsf/EIS01/3194757DE2BF01F285257C9F001B9585"
       ]
      },
      {
       "output_type": "stream",
       "stream": "stdout",
       "text": [
        "\n",
        "Getting # 2669: http://yosemite.epa.gov/oeca/webeis.nsf/EIS01/618E17915D86C13B85257C6E002120D1"
       ]
      },
      {
       "output_type": "stream",
       "stream": "stdout",
       "text": [
        "\n",
        "Getting # 2701: http://yosemite.epa.gov/oeca/webeis.nsf/EIS01/EF23A20A8D3ADF3485257CBA001B8496"
       ]
      },
      {
       "output_type": "stream",
       "stream": "stdout",
       "text": [
        "\n",
        "Getting # 2724: http://yosemite.epa.gov/oeca/webeis.nsf/EIS01/1E5F16A7F468069D85257D77001B8A26"
       ]
      },
      {
       "output_type": "stream",
       "stream": "stdout",
       "text": [
        "\n",
        "Getting # 2725: http://yosemite.epa.gov/oeca/webeis.nsf/EIS01/128B1631E2274A0285257D77001B8D8F"
       ]
      },
      {
       "output_type": "stream",
       "stream": "stdout",
       "text": [
        "\n",
        "Getting # 2818: http://yosemite.epa.gov/oeca/webeis.nsf/EIS01/63F7B397E0E8356C85257C4600213CA0"
       ]
      },
      {
       "output_type": "stream",
       "stream": "stdout",
       "text": [
        "\n",
        "Getting # 2819: http://yosemite.epa.gov/oeca/webeis.nsf/EIS01/6768B2468A193FA785257C820021327C"
       ]
      },
      {
       "output_type": "stream",
       "stream": "stdout",
       "text": [
        "\n",
        "Getting # 2819: http://yosemite.epa.gov/oeca/webeis.nsf/EIS01/234C7DB1953DA61085257C98001B94F4"
       ]
      },
      {
       "output_type": "stream",
       "stream": "stdout",
       "text": [
        "\n",
        "Getting # 2833: http://yosemite.epa.gov/oeca/webeis.nsf/EIS01/A6B115ED5E23060E85257D6B001B949B"
       ]
      },
      {
       "output_type": "stream",
       "stream": "stdout",
       "text": [
        "\n",
        "Getting # 2835: http://yosemite.epa.gov/oeca/webeis.nsf/EIS01/9BAC196CC53AFD8585257C6E002115DD"
       ]
      },
      {
       "output_type": "stream",
       "stream": "stdout",
       "text": [
        "\n",
        "Getting # 2839: http://yosemite.epa.gov/oeca/webeis.nsf/EIS01/E731C0D8E1100E3885257C99001B8B96"
       ]
      },
      {
       "output_type": "stream",
       "stream": "stdout",
       "text": [
        "\n",
        "Getting # 2839: http://yosemite.epa.gov/oeca/webeis.nsf/EIS01/6356C3429354483585257C68008029C9"
       ]
      },
      {
       "output_type": "stream",
       "stream": "stdout",
       "text": [
        "\n",
        "Getting # 2840: http://yosemite.epa.gov/oeca/webeis.nsf/EIS01/1F777E1E5E382D7C85257C5300211A50"
       ]
      },
      {
       "output_type": "stream",
       "stream": "stdout",
       "text": [
        "\n",
        "Getting # 2846: http://yosemite.epa.gov/oeca/webeis.nsf/EIS01/29D5AEE003D8DB6385257C9300211E32"
       ]
      },
      {
       "output_type": "stream",
       "stream": "stdout",
       "text": [
        "\n",
        "Getting # 2851: http://yosemite.epa.gov/oeca/webeis.nsf/EIS01/BF2D7E7DAF04EF7685257CB3001B8C84"
       ]
      },
      {
       "output_type": "stream",
       "stream": "stdout",
       "text": [
        "\n",
        "Getting # 2855: http://yosemite.epa.gov/oeca/webeis.nsf/EIS01/C32080887755931D85257D6A001B9855"
       ]
      },
      {
       "output_type": "stream",
       "stream": "stdout",
       "text": [
        "\n",
        "Getting # 2857: http://yosemite.epa.gov/oeca/webeis.nsf/EIS01/004F0163A86ADA3C85257D77001B89EF"
       ]
      },
      {
       "output_type": "stream",
       "stream": "stdout",
       "text": [
        "\n",
        "Getting # 2857: http://yosemite.epa.gov/oeca/webeis.nsf/EIS01/201E156E77A5EFA385257CE4001B9F45"
       ]
      },
      {
       "output_type": "stream",
       "stream": "stdout",
       "text": [
        "\n",
        "Getting # 2870: http://yosemite.epa.gov/oeca/webeis.nsf/EIS01/B09B032B2389031C85257C68008026B4"
       ]
      },
      {
       "output_type": "stream",
       "stream": "stdout",
       "text": [
        "\n",
        "Getting # 2880: http://yosemite.epa.gov/oeca/webeis.nsf/EIS01/F3CF09FFCDD291CB85257CC9001B95DC"
       ]
      },
      {
       "output_type": "stream",
       "stream": "stdout",
       "text": [
        "\n",
        "Getting # 2884: http://yosemite.epa.gov/oeca/webeis.nsf/EIS01/CD6ECA6407A06D8685257D6B001B90DB"
       ]
      },
      {
       "output_type": "stream",
       "stream": "stdout",
       "text": [
        "\n",
        "Getting # 2889: http://yosemite.epa.gov/oeca/webeis.nsf/EIS01/760AAD49FA0FD7E585257CA1001B9428"
       ]
      },
      {
       "output_type": "stream",
       "stream": "stdout",
       "text": [
        "\n",
        "Getting # 2892: http://yosemite.epa.gov/oeca/webeis.nsf/EIS01/983830D0B0C8D3B285257C7800212D5F"
       ]
      },
      {
       "output_type": "stream",
       "stream": "stdout",
       "text": [
        "\n",
        "Getting # 2892: http://yosemite.epa.gov/oeca/webeis.nsf/EIS01/25F268C3E6B9EA8385257C5B00212B68"
       ]
      },
      {
       "output_type": "stream",
       "stream": "stdout",
       "text": [
        "\n",
        "Getting # 2892: http://yosemite.epa.gov/oeca/webeis.nsf/EIS01/488762C1EDF1BA0485257D6B001B92DA"
       ]
      },
      {
       "output_type": "stream",
       "stream": "stdout",
       "text": [
        "\n",
        "Getting # 2898: http://yosemite.epa.gov/oeca/webeis.nsf/EIS01/2B5B67D9D090F92F85257C540021124A"
       ]
      },
      {
       "output_type": "stream",
       "stream": "stdout",
       "text": [
        "\n",
        "Getting # 2899: http://yosemite.epa.gov/oeca/webeis.nsf/EIS01/FA8BEF3C7ACFD11285257CBB001B817D"
       ]
      },
      {
       "output_type": "stream",
       "stream": "stdout",
       "text": [
        "\n",
        "Getting # 2899: http://yosemite.epa.gov/oeca/webeis.nsf/EIS01/613AB4CF23D8E14F85257C8500211E07"
       ]
      },
      {
       "output_type": "stream",
       "stream": "stdout",
       "text": [
        "\n",
        "Getting # 2900: http://yosemite.epa.gov/oeca/webeis.nsf/EIS01/C3C9CEBD26ABDA0285257C9100211847"
       ]
      },
      {
       "output_type": "stream",
       "stream": "stdout",
       "text": [
        "\n",
        "Getting # 2900: http://yosemite.epa.gov/oeca/webeis.nsf/EIS01/1769F5232C6DCD0685257C4E002123CD"
       ]
      },
      {
       "output_type": "stream",
       "stream": "stdout",
       "text": [
        "\n",
        "Getting # 2900: http://yosemite.epa.gov/oeca/webeis.nsf/EIS01/D4A49CA1E308F02585257C4D00210EF6"
       ]
      },
      {
       "output_type": "stream",
       "stream": "stdout",
       "text": [
        "\n",
        "Getting # 2902: http://yosemite.epa.gov/oeca/webeis.nsf/EIS01/2847F1AD8E6EE86D85257C4C0021206A"
       ]
      },
      {
       "output_type": "stream",
       "stream": "stdout",
       "text": [
        "\n",
        "Getting # 2903: http://yosemite.epa.gov/oeca/webeis.nsf/EIS01/37CB5BC6AFFF003D85257C630021207E"
       ]
      },
      {
       "output_type": "stream",
       "stream": "stdout",
       "text": [
        "\n",
        "Getting # 2913: http://yosemite.epa.gov/oeca/webeis.nsf/EIS01/B5C769B96303D3BB85257C6200211AF0"
       ]
      },
      {
       "output_type": "stream",
       "stream": "stdout",
       "text": [
        "\n",
        "Getting # 2914: http://yosemite.epa.gov/oeca/webeis.nsf/EIS01/CF62A7F83EC1E4C685257C3500214ACA"
       ]
      },
      {
       "output_type": "stream",
       "stream": "stdout",
       "text": [
        "\n",
        "Getting # 2915: http://yosemite.epa.gov/oeca/webeis.nsf/EIS01/2FC924B179CE377A85257C7C00213DC2"
       ]
      },
      {
       "output_type": "stream",
       "stream": "stdout",
       "text": [
        "\n",
        "Getting # 2916: http://yosemite.epa.gov/oeca/webeis.nsf/EIS01/C8885841B9F9947285257C77002128DE"
       ]
      },
      {
       "output_type": "stream",
       "stream": "stdout",
       "text": [
        "\n",
        "Getting # 2927: http://yosemite.epa.gov/oeca/webeis.nsf/EIS01/BAC19DF16B05969085257C7C00213765"
       ]
      },
      {
       "output_type": "stream",
       "stream": "stdout",
       "text": [
        "\n",
        "Getting # 2954: http://yosemite.epa.gov/oeca/webeis.nsf/EIS01/DFF420AD0B25D5F885257C7D002126DB"
       ]
      },
      {
       "output_type": "stream",
       "stream": "stdout",
       "text": [
        "\n",
        "Getting # 2957: http://yosemite.epa.gov/oeca/webeis.nsf/EIS01/06DDA925664AEF2E85257C8C002121AE"
       ]
      },
      {
       "output_type": "stream",
       "stream": "stdout",
       "text": [
        "\n",
        "Getting # 3049: http://yosemite.epa.gov/oeca/webeis.nsf/EIS01/C6BCFC57DD5AE82185257C5F00210C99"
       ]
      },
      {
       "output_type": "stream",
       "stream": "stdout",
       "text": [
        "\n",
        "Getting # 3052: http://yosemite.epa.gov/oeca/webeis.nsf/EIS01/27C043E66D01847085257C7C00213C3C"
       ]
      },
      {
       "output_type": "stream",
       "stream": "stdout",
       "text": [
        "\n",
        "Getting # 3056: http://yosemite.epa.gov/oeca/webeis.nsf/EIS01/E6827A9FC86DD82085257C53002113F8"
       ]
      },
      {
       "output_type": "stream",
       "stream": "stdout",
       "text": [
        "\n",
        "Getting # 3057: http://yosemite.epa.gov/oeca/webeis.nsf/EIS01/793C3A44EBB0A66F85257C43002156F5"
       ]
      },
      {
       "output_type": "stream",
       "stream": "stdout",
       "text": [
        "\n",
        "Getting # 3070: http://yosemite.epa.gov/oeca/webeis.nsf/EIS01/07E15B4E84C0A13285257C7700212FE9"
       ]
      },
      {
       "output_type": "stream",
       "stream": "stdout",
       "text": [
        "\n",
        "Getting # 3073: http://yosemite.epa.gov/oeca/webeis.nsf/EIS01/714FD0E72CCBC61685257C9A001B8E50"
       ]
      },
      {
       "output_type": "stream",
       "stream": "stdout",
       "text": [
        "\n",
        "Getting # 3074: http://yosemite.epa.gov/oeca/webeis.nsf/EIS01/0988C8ECB50EFDC385257C4C00211B1D"
       ]
      },
      {
       "output_type": "stream",
       "stream": "stdout",
       "text": [
        "\n",
        "Getting # 3078: http://yosemite.epa.gov/oeca/webeis.nsf/EIS01/6653EACF7EFDC31C85257CE7001B8E79"
       ]
      },
      {
       "output_type": "stream",
       "stream": "stdout",
       "text": [
        "\n",
        "Getting # 3079: http://yosemite.epa.gov/oeca/webeis.nsf/EIS01/E56B878CF2659BF385257D71001B9191"
       ]
      },
      {
       "output_type": "stream",
       "stream": "stdout",
       "text": [
        "\n",
        "Getting # 3080: http://yosemite.epa.gov/oeca/webeis.nsf/EIS01/B675E2D7B22348EB85257C51002116F9"
       ]
      },
      {
       "output_type": "stream",
       "stream": "stdout",
       "text": [
        "\n",
        "Getting # 3105: http://yosemite.epa.gov/oeca/webeis.nsf/EIS01/54CA62684C128FB785257C3500213C16"
       ]
      },
      {
       "output_type": "stream",
       "stream": "stdout",
       "text": [
        "\n",
        "Getting # 3107: http://yosemite.epa.gov/oeca/webeis.nsf/EIS01/9A816070051D8DFD85257C4B00211AD4"
       ]
      },
      {
       "output_type": "stream",
       "stream": "stdout",
       "text": [
        "\n",
        "Getting # 3107: http://yosemite.epa.gov/oeca/webeis.nsf/EIS01/C03E1CCA94F550CB85257C4C00211476"
       ]
      },
      {
       "output_type": "stream",
       "stream": "stdout",
       "text": [
        "\n",
        "Getting # 3109: http://yosemite.epa.gov/oeca/webeis.nsf/EIS01/8EE5D69A492D117185257C270021669F"
       ]
      },
      {
       "output_type": "stream",
       "stream": "stdout",
       "text": [
        "\n",
        "Getting # 3129: http://yosemite.epa.gov/oeca/webeis.nsf/EIS01/D06C9302CA2E86A385257C7D002119A1"
       ]
      },
      {
       "output_type": "stream",
       "stream": "stdout",
       "text": [
        "\n",
        "Getting # 3130: http://yosemite.epa.gov/oeca/webeis.nsf/EIS01/9C30AFCF0830770385257C5B002118E0"
       ]
      },
      {
       "output_type": "stream",
       "stream": "stdout",
       "text": [
        "\n",
        "Getting # 3133: http://yosemite.epa.gov/oeca/webeis.nsf/EIS01/A3D83448B6309C6085257C380021691D"
       ]
      },
      {
       "output_type": "stream",
       "stream": "stdout",
       "text": [
        "\n",
        "Getting # 3135: http://yosemite.epa.gov/oeca/webeis.nsf/EIS01/9D56774AB13F0C0A85257D6B001B8C5A"
       ]
      },
      {
       "output_type": "stream",
       "stream": "stdout",
       "text": [
        "\n",
        "Getting # 3137: http://yosemite.epa.gov/oeca/webeis.nsf/EIS01/B5110C86D41D5A0285257C5400210911"
       ]
      },
      {
       "output_type": "stream",
       "stream": "stdout",
       "text": [
        "\n",
        "Getting # 3137: http://yosemite.epa.gov/oeca/webeis.nsf/EIS01/757B06E1A7CA8EAE85257C15001C2B04"
       ]
      },
      {
       "output_type": "stream",
       "stream": "stdout",
       "text": [
        "\n",
        "Getting # 3137: http://yosemite.epa.gov/oeca/webeis.nsf/EIS01/89568D22490326C385257C15001C2AFE"
       ]
      },
      {
       "output_type": "stream",
       "stream": "stdout",
       "text": [
        "\n",
        "Getting # 3137: http://yosemite.epa.gov/oeca/webeis.nsf/EIS01/17AFCA1E9760AF8C85257C37002158D1"
       ]
      },
      {
       "output_type": "stream",
       "stream": "stdout",
       "text": [
        "\n",
        "Getting # 3137: http://yosemite.epa.gov/oeca/webeis.nsf/EIS01/E294D4E2561949F785257C3D002169A3"
       ]
      },
      {
       "output_type": "stream",
       "stream": "stdout",
       "text": [
        "\n",
        "Getting # 3150: http://yosemite.epa.gov/oeca/webeis.nsf/EIS01/64743EBF51E6493285257CE4001B9396"
       ]
      },
      {
       "output_type": "stream",
       "stream": "stdout",
       "text": [
        "\n",
        "Getting # 3180: http://yosemite.epa.gov/oeca/webeis.nsf/EIS01/30713941BD65127685257D71001B9096"
       ]
      },
      {
       "output_type": "stream",
       "stream": "stdout",
       "text": [
        "\n",
        "Getting # 3182: http://yosemite.epa.gov/oeca/webeis.nsf/EIS01/0B45B3D61BB8637685257C2200219791"
       ]
      },
      {
       "output_type": "stream",
       "stream": "stdout",
       "text": [
        "\n",
        "Getting # 3197: http://yosemite.epa.gov/oeca/webeis.nsf/EIS01/DBF673569E0C2B2185257C44002155CF"
       ]
      },
      {
       "output_type": "stream",
       "stream": "stdout",
       "text": [
        "\n",
        "Getting # 3197: http://yosemite.epa.gov/oeca/webeis.nsf/EIS01/A21E836BB312710585257C760021266C"
       ]
      },
      {
       "output_type": "stream",
       "stream": "stdout",
       "text": [
        "\n",
        "Getting # 3198: http://yosemite.epa.gov/oeca/webeis.nsf/EIS01/C0A7C35613CF06A385257C3E00215A68"
       ]
      },
      {
       "output_type": "stream",
       "stream": "stdout",
       "text": [
        "\n",
        "Getting # 3199: http://yosemite.epa.gov/oeca/webeis.nsf/EIS01/B801ACB0D4360C3585257D6B001B8BB5"
       ]
      },
      {
       "output_type": "stream",
       "stream": "stdout",
       "text": [
        "\n",
        "Getting # 3200: http://yosemite.epa.gov/oeca/webeis.nsf/EIS01/8F3D0BBD3D562D8285257C5500210E28"
       ]
      },
      {
       "output_type": "stream",
       "stream": "stdout",
       "text": [
        "\n",
        "Getting # 3201: http://yosemite.epa.gov/oeca/webeis.nsf/EIS01/5EFE54632E62524885257C9400211669"
       ]
      },
      {
       "output_type": "stream",
       "stream": "stdout",
       "text": [
        "\n",
        "Getting # 3202: http://yosemite.epa.gov/oeca/webeis.nsf/EIS01/05C5BC9025AC4E6B85257C3E00215F7C"
       ]
      },
      {
       "output_type": "stream",
       "stream": "stdout",
       "text": [
        "\n",
        "Getting # 3203: http://yosemite.epa.gov/oeca/webeis.nsf/EIS01/77C93BA6B72CA0F585257C43002149BD"
       ]
      },
      {
       "output_type": "stream",
       "stream": "stdout",
       "text": [
        "\n",
        "Getting # 3204: http://yosemite.epa.gov/oeca/webeis.nsf/EIS01/A2E71D4CA2F7DAC485257CAE001B8F93"
       ]
      },
      {
       "output_type": "stream",
       "stream": "stdout",
       "text": [
        "\n",
        "Getting # 3208: http://yosemite.epa.gov/oeca/webeis.nsf/EIS01/66771DAAC0AE93AC85257C4400215469"
       ]
      },
      {
       "output_type": "stream",
       "stream": "stdout",
       "text": [
        "\n",
        "Getting # 3219: http://yosemite.epa.gov/oeca/webeis.nsf/EIS01/B9A9FF1AABA6A21785257C3D00215F7A"
       ]
      },
      {
       "output_type": "stream",
       "stream": "stdout",
       "text": [
        "\n",
        "Getting # 3236: http://yosemite.epa.gov/oeca/webeis.nsf/EIS01/5CFFD0CD7C0B798185257C4400214ED5"
       ]
      },
      {
       "output_type": "stream",
       "stream": "stdout",
       "text": [
        "\n",
        "Getting # 3240: http://yosemite.epa.gov/oeca/webeis.nsf/EIS01/9FC1F1F8E7118AA485257C5B00211794"
       ]
      },
      {
       "output_type": "stream",
       "stream": "stdout",
       "text": [
        "\n",
        "Getting # 3250: http://yosemite.epa.gov/oeca/webeis.nsf/EIS01/E814A55B95E7C31985257C1B0021800D"
       ]
      },
      {
       "output_type": "stream",
       "stream": "stdout",
       "text": [
        "\n",
        "Getting # 3252: http://yosemite.epa.gov/oeca/webeis.nsf/EIS01/F2642131CDD040B785257C45002137E2"
       ]
      },
      {
       "output_type": "stream",
       "stream": "stdout",
       "text": [
        "\n",
        "Getting # 3254: http://yosemite.epa.gov/oeca/webeis.nsf/EIS01/0DE8C91B9A48120285257C4700211483"
       ]
      },
      {
       "output_type": "stream",
       "stream": "stdout",
       "text": [
        "\n",
        "Getting # 3302: http://yosemite.epa.gov/oeca/webeis.nsf/EIS01/0EA8B5B224DD793685257C4400212A34"
       ]
      },
      {
       "output_type": "stream",
       "stream": "stdout",
       "text": [
        "\n",
        "Getting # 3326: http://yosemite.epa.gov/oeca/webeis.nsf/EIS01/7EEF9BD2CFCCCD0885257C30002178D3"
       ]
      },
      {
       "output_type": "stream",
       "stream": "stdout",
       "text": [
        "\n",
        "Getting # 3343: http://yosemite.epa.gov/oeca/webeis.nsf/EIS01/1E14C06571BD2EDE85257C3700214C9F"
       ]
      },
      {
       "output_type": "stream",
       "stream": "stdout",
       "text": [
        "\n",
        "Getting # 3387: http://yosemite.epa.gov/oeca/webeis.nsf/EIS01/78961F5540BEB87685257D62001B7F87"
       ]
      },
      {
       "output_type": "stream",
       "stream": "stdout",
       "text": [
        "\n",
        "Getting # 3388: http://yosemite.epa.gov/oeca/webeis.nsf/EIS01/82D275895C89331485257C3900214283"
       ]
      },
      {
       "output_type": "stream",
       "stream": "stdout",
       "text": [
        "\n",
        "Getting # 3389: http://yosemite.epa.gov/oeca/webeis.nsf/EIS01/2352CE9B88A5A7BA85257D0E001B7FDF"
       ]
      },
      {
       "output_type": "stream",
       "stream": "stdout",
       "text": [
        "\n",
        "Getting # 3390: http://yosemite.epa.gov/oeca/webeis.nsf/EIS01/C48D67721D68291085257D71001B9017"
       ]
      },
      {
       "output_type": "stream",
       "stream": "stdout",
       "text": [
        "\n",
        "Getting # 3392: http://yosemite.epa.gov/oeca/webeis.nsf/EIS01/5A5207ED5652536A85257C2700215BD2"
       ]
      },
      {
       "output_type": "stream",
       "stream": "stdout",
       "text": [
        "\n",
        "Getting # 3410: http://yosemite.epa.gov/oeca/webeis.nsf/EIS01/B3EF11DC685AA86D85257D07001B8490"
       ]
      },
      {
       "output_type": "stream",
       "stream": "stdout",
       "text": [
        "\n",
        "Getting # 3412: http://yosemite.epa.gov/oeca/webeis.nsf/EIS01/13C9ADF24738BBDD85257C30002176B5"
       ]
      },
      {
       "output_type": "stream",
       "stream": "stdout",
       "text": [
        "\n",
        "Getting # 3414: http://yosemite.epa.gov/oeca/webeis.nsf/EIS01/1C7B273594EAF3F185257C15001BDD15"
       ]
      },
      {
       "output_type": "stream",
       "stream": "stdout",
       "text": [
        "\n",
        "Getting # 3447: http://yosemite.epa.gov/oeca/webeis.nsf/EIS01/45E55E86C299FD6285257C22002157B7"
       ]
      },
      {
       "output_type": "stream",
       "stream": "stdout",
       "text": [
        "\n",
        "Getting # 3504: http://yosemite.epa.gov/oeca/webeis.nsf/EIS01/558D1B18964E918F85257C760021256D"
       ]
      },
      {
       "output_type": "stream",
       "stream": "stdout",
       "text": [
        "\n",
        "Getting # 3506: http://yosemite.epa.gov/oeca/webeis.nsf/EIS01/1C7B921A1A34F35B85257C2200216361"
       ]
      },
      {
       "output_type": "stream",
       "stream": "stdout",
       "text": [
        "\n",
        "Getting # 3506: http://yosemite.epa.gov/oeca/webeis.nsf/EIS01/19D37BB1CBEE34D585257C05001B9E22"
       ]
      },
      {
       "output_type": "stream",
       "stream": "stdout",
       "text": [
        "\n",
        "Getting # 3537: http://yosemite.epa.gov/oeca/webeis.nsf/EIS01/339FB8217A5EB12985257C2700215311"
       ]
      },
      {
       "output_type": "stream",
       "stream": "stdout",
       "text": [
        "\n",
        "Getting # 3539: http://yosemite.epa.gov/oeca/webeis.nsf/EIS01/E555BF2912F7A1B685257C4A00210A61"
       ]
      },
      {
       "output_type": "stream",
       "stream": "stdout",
       "text": [
        "\n",
        "Getting # 3540: http://yosemite.epa.gov/oeca/webeis.nsf/EIS01/5FE2D115CF0E40FD85257C4500210D9C"
       ]
      },
      {
       "output_type": "stream",
       "stream": "stdout",
       "text": [
        "\n",
        "Getting # 3566: http://yosemite.epa.gov/oeca/webeis.nsf/EIS01/5E3F5143CCEC2BC385257C24002160B5"
       ]
      },
      {
       "output_type": "stream",
       "stream": "stdout",
       "text": [
        "\n",
        "Getting # 3567: http://yosemite.epa.gov/oeca/webeis.nsf/EIS01/0F8CF1D06A19256385257C9F001B8B79"
       ]
      },
      {
       "output_type": "stream",
       "stream": "stdout",
       "text": [
        "\n",
        "Getting # 3586: http://yosemite.epa.gov/oeca/webeis.nsf/EIS01/861FA7D6B18A512685257C01001BDAFD"
       ]
      },
      {
       "output_type": "stream",
       "stream": "stdout",
       "text": [
        "\n",
        "Getting # 3591: http://yosemite.epa.gov/oeca/webeis.nsf/EIS01/D7008BB9FFBBA7A985257C01001BD93D"
       ]
      },
      {
       "output_type": "stream",
       "stream": "stdout",
       "text": [
        "\n",
        "Getting # 3598: http://yosemite.epa.gov/oeca/webeis.nsf/EIS01/A642D7DF38FC4E4685257C7C002120DF"
       ]
      },
      {
       "output_type": "stream",
       "stream": "stdout",
       "text": [
        "\n",
        "Getting # 3605: http://yosemite.epa.gov/oeca/webeis.nsf/EIS01/7F85D8316EE8209485257D77001B87A7"
       ]
      },
      {
       "output_type": "stream",
       "stream": "stdout",
       "text": [
        "\n",
        "Getting # 3618: http://yosemite.epa.gov/oeca/webeis.nsf/EIS01/28A70ACC453EF93285257C1D00215200"
       ]
      },
      {
       "output_type": "stream",
       "stream": "stdout",
       "text": [
        "\n",
        "Getting # 3619: http://yosemite.epa.gov/oeca/webeis.nsf/EIS01/5BA7FE06CB0265C185257C01001BCAF6"
       ]
      },
      {
       "output_type": "stream",
       "stream": "stdout",
       "text": [
        "\n",
        "Getting # 3636: http://yosemite.epa.gov/oeca/webeis.nsf/EIS01/0192D82E988464EA85257C57002109DA"
       ]
      },
      {
       "output_type": "stream",
       "stream": "stdout",
       "text": [
        "\n",
        "Getting # 3637: http://yosemite.epa.gov/oeca/webeis.nsf/EIS01/0B865EDF2C6C1C9E85257C3000217553"
       ]
      },
      {
       "output_type": "stream",
       "stream": "stdout",
       "text": [
        "\n",
        "Getting # 3637: http://yosemite.epa.gov/oeca/webeis.nsf/EIS01/89BD6A943B9D9F9C85257C6200210D85"
       ]
      },
      {
       "output_type": "stream",
       "stream": "stdout",
       "text": [
        "\n",
        "Getting # 3653: http://yosemite.epa.gov/oeca/webeis.nsf/EIS01/00DDAEA5F8F0278985257C27002150D1"
       ]
      },
      {
       "output_type": "stream",
       "stream": "stdout",
       "text": [
        "\n",
        "Getting # 3662: http://yosemite.epa.gov/oeca/webeis.nsf/EIS01/3B6793C9982A4D8185257C2900216C50"
       ]
      },
      {
       "output_type": "stream",
       "stream": "stdout",
       "text": [
        "\n",
        "Getting # 3675: http://yosemite.epa.gov/oeca/webeis.nsf/EIS01/9531671F953AA80F85257BF7001BEB81"
       ]
      },
      {
       "output_type": "stream",
       "stream": "stdout",
       "text": [
        "\n",
        "Getting # 3679: http://yosemite.epa.gov/oeca/webeis.nsf/EIS01/2A4055BD56C0129285257C00001BCBA6"
       ]
      },
      {
       "output_type": "stream",
       "stream": "stdout",
       "text": [
        "\n",
        "Getting # 3680: http://yosemite.epa.gov/oeca/webeis.nsf/EIS01/CEB3D9B67E8E3D0D85257C00001BCA93"
       ]
      },
      {
       "output_type": "stream",
       "stream": "stdout",
       "text": [
        "\n",
        "Getting # 3688: http://yosemite.epa.gov/oeca/webeis.nsf/EIS01/07653F40CF89B15F85257C3700213738"
       ]
      },
      {
       "output_type": "stream",
       "stream": "stdout",
       "text": [
        "\n",
        "Getting # 3689: http://yosemite.epa.gov/oeca/webeis.nsf/EIS01/0E8CBAB6A751E5FC85257C2700214C73"
       ]
      },
      {
       "output_type": "stream",
       "stream": "stdout",
       "text": [
        "\n",
        "Getting # 3690: http://yosemite.epa.gov/oeca/webeis.nsf/EIS01/5E7DD8E6832A477E85257BF8001BE5C3"
       ]
      },
      {
       "output_type": "stream",
       "stream": "stdout",
       "text": [
        "\n",
        "Getting # 3692: http://yosemite.epa.gov/oeca/webeis.nsf/EIS01/2255A864E613899085257C3C00211999"
       ]
      },
      {
       "output_type": "stream",
       "stream": "stdout",
       "text": [
        "\n",
        "Getting # 3692: http://yosemite.epa.gov/oeca/webeis.nsf/EIS01/AB01CE1579DA5AD785257C2200213FE4"
       ]
      },
      {
       "output_type": "stream",
       "stream": "stdout",
       "text": [
        "\n",
        "Getting # 3696: http://yosemite.epa.gov/oeca/webeis.nsf/EIS01/2E2E2263DF1F707085257C3700213626"
       ]
      },
      {
       "output_type": "stream",
       "stream": "stdout",
       "text": [
        "\n",
        "Getting # 3698: http://yosemite.epa.gov/oeca/webeis.nsf/EIS01/463B0430BF5EA29885257C3800213943"
       ]
      },
      {
       "output_type": "stream",
       "stream": "stdout",
       "text": [
        "\n",
        "Getting # 3709: http://yosemite.epa.gov/oeca/webeis.nsf/EIS01/7784E6DDE47F04F385257BEB001E7CCB"
       ]
      },
      {
       "output_type": "stream",
       "stream": "stdout",
       "text": [
        "\n",
        "Getting # 3710: http://yosemite.epa.gov/oeca/webeis.nsf/EIS01/B5C2806FF05B4A1785257C3E002124A9"
       ]
      },
      {
       "output_type": "stream",
       "stream": "stdout",
       "text": [
        "\n",
        "Getting # 3715: http://yosemite.epa.gov/oeca/webeis.nsf/EIS01/EDC4AAA6EB785FE885257C7F00212C56"
       ]
      },
      {
       "output_type": "stream",
       "stream": "stdout",
       "text": [
        "\n",
        "Getting # 3716: http://yosemite.epa.gov/oeca/webeis.nsf/EIS01/5BAD59207A66F85585257BFE001BCAC9"
       ]
      },
      {
       "output_type": "stream",
       "stream": "stdout",
       "text": [
        "\n",
        "Getting # 3728: http://yosemite.epa.gov/oeca/webeis.nsf/EIS01/A421AD705957579485257C00001BB9AC"
       ]
      },
      {
       "output_type": "stream",
       "stream": "stdout",
       "text": [
        "\n",
        "Getting # 3729: http://yosemite.epa.gov/oeca/webeis.nsf/EIS01/C93CAF475F2DB42885257BFF001BB341"
       ]
      },
      {
       "output_type": "stream",
       "stream": "stdout",
       "text": [
        "\n",
        "Getting # 3729: http://yosemite.epa.gov/oeca/webeis.nsf/EIS01/6EEB7C696E091B8585257C2300215347"
       ]
      },
      {
       "output_type": "stream",
       "stream": "stdout",
       "text": [
        "\n",
        "Getting # 3730: http://yosemite.epa.gov/oeca/webeis.nsf/EIS01/2FABDF895772F77B85257D71001B88A5"
       ]
      },
      {
       "output_type": "stream",
       "stream": "stdout",
       "text": [
        "\n",
        "Getting # 3738: http://yosemite.epa.gov/oeca/webeis.nsf/EIS01/4822E2947AF3780585257BF8001BCD53"
       ]
      },
      {
       "output_type": "stream",
       "stream": "stdout",
       "text": [
        "\n",
        "Getting # 3739: http://yosemite.epa.gov/oeca/webeis.nsf/EIS01/0EEC4CFE57102B0C85257BEB001E71BF"
       ]
      },
      {
       "output_type": "stream",
       "stream": "stdout",
       "text": [
        "\n",
        "Getting # 3740: http://yosemite.epa.gov/oeca/webeis.nsf/EIS01/3010BC9855A950A285257C01001BA6BD"
       ]
      },
      {
       "output_type": "stream",
       "stream": "stdout",
       "text": [
        "\n",
        "Getting # 3741: http://yosemite.epa.gov/oeca/webeis.nsf/EIS01/7E9D631C9C2EDCFD85257C01001BACED"
       ]
      },
      {
       "output_type": "stream",
       "stream": "stdout",
       "text": [
        "\n",
        "Getting # 3749: http://yosemite.epa.gov/oeca/webeis.nsf/EIS01/2F4B308140695DDD85257C3000215EBD"
       ]
      },
      {
       "output_type": "stream",
       "stream": "stdout",
       "text": [
        "\n",
        "Getting # 3750: http://yosemite.epa.gov/oeca/webeis.nsf/EIS01/DA60FB5FBC0956BC85257D31001B8036"
       ]
      },
      {
       "output_type": "stream",
       "stream": "stdout",
       "text": [
        "\n",
        "Getting # 3751: http://yosemite.epa.gov/oeca/webeis.nsf/EIS01/D9310D1A0DF723AC85257C2000213065"
       ]
      },
      {
       "output_type": "stream",
       "stream": "stdout",
       "text": [
        "\n",
        "Getting # 3751: http://yosemite.epa.gov/oeca/webeis.nsf/EIS01/36318161E4BCAC1D85257C6800801A4D"
       ]
      },
      {
       "output_type": "stream",
       "stream": "stdout",
       "text": [
        "\n",
        "Getting # 3753: http://yosemite.epa.gov/oeca/webeis.nsf/EIS01/E017133118AAF41A85257C3000215C78"
       ]
      },
      {
       "output_type": "stream",
       "stream": "stdout",
       "text": [
        "\n",
        "Getting # 3757: http://yosemite.epa.gov/oeca/webeis.nsf/EIS01/2F1F0EE3565A56F485257D39001B8F43"
       ]
      },
      {
       "output_type": "stream",
       "stream": "stdout",
       "text": [
        "\n",
        "Getting # 3773: http://yosemite.epa.gov/oeca/webeis.nsf/EIS01/DFF8BC5A4576F6B385257C290021617C"
       ]
      },
      {
       "output_type": "stream",
       "stream": "stdout",
       "text": [
        "\n",
        "Getting # 3790: http://yosemite.epa.gov/oeca/webeis.nsf/EIS01/4208CC6E953A286785257C01001BA0EC"
       ]
      },
      {
       "output_type": "stream",
       "stream": "stdout",
       "text": [
        "\n",
        "Getting # 3792: http://yosemite.epa.gov/oeca/webeis.nsf/EIS01/5918A1ACBB2324C285257BEB001E5910"
       ]
      },
      {
       "output_type": "stream",
       "stream": "stdout",
       "text": [
        "\n",
        "Getting # 3816: http://yosemite.epa.gov/oeca/webeis.nsf/EIS01/3BE19953D11A2E0185257BEB001E4CC0"
       ]
      },
      {
       "output_type": "stream",
       "stream": "stdout",
       "text": [
        "\n",
        "Getting # 3857: http://yosemite.epa.gov/oeca/webeis.nsf/EIS01/DF2B6718CBDC38EA85257BEB001E5288"
       ]
      },
      {
       "output_type": "stream",
       "stream": "stdout",
       "text": [
        "\n",
        "Getting # 3859: http://yosemite.epa.gov/oeca/webeis.nsf/EIS01/72DC3F24F7988ABD85257C6E00210318"
       ]
      },
      {
       "output_type": "stream",
       "stream": "stdout",
       "text": [
        "\n",
        "Getting # 3860: http://yosemite.epa.gov/oeca/webeis.nsf/EIS01/D833C543328E2A4685257C360021195A"
       ]
      },
      {
       "output_type": "stream",
       "stream": "stdout",
       "text": [
        "\n",
        "Getting # 3861: http://yosemite.epa.gov/oeca/webeis.nsf/EIS01/8C0086A6DC4A54E585257C7D00211780"
       ]
      },
      {
       "output_type": "stream",
       "stream": "stdout",
       "text": [
        "\n",
        "Getting # 3861: http://yosemite.epa.gov/oeca/webeis.nsf/EIS01/B1DEB4624AAD2E4D85257C2400213FCC"
       ]
      },
      {
       "output_type": "stream",
       "stream": "stdout",
       "text": [
        "\n",
        "Getting # 3883: http://yosemite.epa.gov/oeca/webeis.nsf/EIS01/FC46F54EF4B12F1585257BEB001E44F2"
       ]
      },
      {
       "output_type": "stream",
       "stream": "stdout",
       "text": [
        "\n",
        "Getting # 3885: http://yosemite.epa.gov/oeca/webeis.nsf/EIS01/D02DB4634E35EECD85257C98001B8C79"
       ]
      },
      {
       "output_type": "stream",
       "stream": "stdout",
       "text": [
        "\n",
        "Getting # 3914: http://yosemite.epa.gov/oeca/webeis.nsf/EIS01/669845FC163CBA8285257C2800215692"
       ]
      },
      {
       "output_type": "stream",
       "stream": "stdout",
       "text": [
        "\n",
        "Getting # 3914: http://yosemite.epa.gov/oeca/webeis.nsf/EIS01/E98A053E5CF18DA285257C77002120BF"
       ]
      },
      {
       "output_type": "stream",
       "stream": "stdout",
       "text": [
        "\n",
        "Getting # 3914: http://yosemite.epa.gov/oeca/webeis.nsf/EIS01/5EF8B812950E671F85257C430021111F"
       ]
      },
      {
       "output_type": "stream",
       "stream": "stdout",
       "text": [
        "\n",
        "Getting # 3955: http://yosemite.epa.gov/oeca/webeis.nsf/EIS01/C56FBC6B0D73857A85257C8B00210AC6"
       ]
      },
      {
       "output_type": "stream",
       "stream": "stdout",
       "text": [
        "\n",
        "Getting # 3964: http://yosemite.epa.gov/oeca/webeis.nsf/EIS01/5275D2DFA534EBC885257C01001B98BB"
       ]
      },
      {
       "output_type": "stream",
       "stream": "stdout",
       "text": [
        "\n",
        "Getting # 3966: http://yosemite.epa.gov/oeca/webeis.nsf/EIS01/AB708A616B1ABB5085257C30002159BC"
       ]
      },
      {
       "output_type": "stream",
       "stream": "stdout",
       "text": [
        "\n",
        "Getting # 3967: http://yosemite.epa.gov/oeca/webeis.nsf/EIS01/D89777BAE4C5829685257BEB001E13CF"
       ]
      },
      {
       "output_type": "stream",
       "stream": "stdout",
       "text": [
        "\n",
        "Getting # 3979: http://yosemite.epa.gov/oeca/webeis.nsf/EIS01/4997D5C67057A85485257BEB001E21E4"
       ]
      },
      {
       "output_type": "stream",
       "stream": "stdout",
       "text": [
        "\n",
        "Getting # 3983: http://yosemite.epa.gov/oeca/webeis.nsf/EIS01/1C91329D910A9CED85257C3500211B86"
       ]
      },
      {
       "output_type": "stream",
       "stream": "stdout",
       "text": [
        "\n",
        "Getting # 3983: http://yosemite.epa.gov/oeca/webeis.nsf/EIS01/0553D8F408BCE48285257C2400213801"
       ]
      },
      {
       "output_type": "stream",
       "stream": "stdout",
       "text": [
        "\n",
        "Getting # 3984: http://yosemite.epa.gov/oeca/webeis.nsf/EIS01/BC2F72A11054FD6885257C32002144E6"
       ]
      },
      {
       "output_type": "stream",
       "stream": "stdout",
       "text": [
        "\n",
        "Getting # 3986: http://yosemite.epa.gov/oeca/webeis.nsf/EIS01/00B7A8B08C7044A385257C3E002115C9"
       ]
      },
      {
       "output_type": "stream",
       "stream": "stdout",
       "text": [
        "\n",
        "Getting # 3991: http://yosemite.epa.gov/oeca/webeis.nsf/EIS01/B8B3493E96BB01E985257C24002138B3"
       ]
      },
      {
       "output_type": "stream",
       "stream": "stdout",
       "text": [
        "\n",
        "Getting # 3991: http://yosemite.epa.gov/oeca/webeis.nsf/EIS01/B04BCD1B90A159B585257C240021366C"
       ]
      },
      {
       "output_type": "stream",
       "stream": "stdout",
       "text": [
        "\n",
        "Getting # 4047: http://yosemite.epa.gov/oeca/webeis.nsf/EIS01/9F1351654AE8BA1485257C82002113CF"
       ]
      },
      {
       "output_type": "stream",
       "stream": "stdout",
       "text": [
        "\n",
        "Getting # 4078: http://yosemite.epa.gov/oeca/webeis.nsf/EIS01/0872DE7100F3BDF185257BEB001E0068"
       ]
      },
      {
       "output_type": "stream",
       "stream": "stdout",
       "text": [
        "\n",
        "Getting # 4087: http://yosemite.epa.gov/oeca/webeis.nsf/EIS01/294B7771B0BAF34885257BEB001E08E1"
       ]
      },
      {
       "output_type": "stream",
       "stream": "stdout",
       "text": [
        "\n",
        "Getting # 4157: http://yosemite.epa.gov/oeca/webeis.nsf/EIS01/C0CDE9BCD30BC36885257BEB001DF91D"
       ]
      },
      {
       "output_type": "stream",
       "stream": "stdout",
       "text": [
        "\n",
        "Getting # 4170: http://yosemite.epa.gov/oeca/webeis.nsf/EIS01/20922EBA9A14C07E85257BEB001DE418"
       ]
      },
      {
       "output_type": "stream",
       "stream": "stdout",
       "text": [
        "\n",
        "Getting # 4171: http://yosemite.epa.gov/oeca/webeis.nsf/EIS01/46E43217736D6D3585257CD6001B9797"
       ]
      },
      {
       "output_type": "stream",
       "stream": "stdout",
       "text": [
        "\n",
        "Getting # 4172: http://yosemite.epa.gov/oeca/webeis.nsf/EIS01/E35C0A63892D4F5E85257BEB001DFCF5"
       ]
      },
      {
       "output_type": "stream",
       "stream": "stdout",
       "text": [
        "\n",
        "Getting # 4180: http://yosemite.epa.gov/oeca/webeis.nsf/EIS01/1FB1B9BF701E0D7F85257BEB001DD63F"
       ]
      },
      {
       "output_type": "stream",
       "stream": "stdout",
       "text": [
        "\n",
        "Getting # 4181: http://yosemite.epa.gov/oeca/webeis.nsf/EIS01/C6DD850D97D9F3F785257C39002111C2"
       ]
      },
      {
       "output_type": "stream",
       "stream": "stdout",
       "text": [
        "\n",
        "Getting # 4185: http://yosemite.epa.gov/oeca/webeis.nsf/EIS01/560B337017ECE3F685257BEB001DDEA9"
       ]
      },
      {
       "output_type": "stream",
       "stream": "stdout",
       "text": [
        "\n",
        "Getting # 4187: http://yosemite.epa.gov/oeca/webeis.nsf/EIS01/215242F53458D82285257C680080148E"
       ]
      },
      {
       "output_type": "stream",
       "stream": "stdout",
       "text": [
        "\n",
        "Getting # 4188: http://yosemite.epa.gov/oeca/webeis.nsf/EIS01/6BE9EB5C833B7D0D85257C6200210228"
       ]
      },
      {
       "output_type": "stream",
       "stream": "stdout",
       "text": [
        "\n",
        "Getting # 4189: http://yosemite.epa.gov/oeca/webeis.nsf/EIS01/93EABB8CC15C2CB585257C2200212462"
       ]
      },
      {
       "output_type": "stream",
       "stream": "stdout",
       "text": [
        "\n",
        "Getting # 4191: http://yosemite.epa.gov/oeca/webeis.nsf/EIS01/7FFB078F3C693CB185257D1D001B802A"
       ]
      },
      {
       "output_type": "stream",
       "stream": "stdout",
       "text": [
        "\n",
        "Getting # 4191: http://yosemite.epa.gov/oeca/webeis.nsf/EIS01/09676A463901CCA085257BEB001DB36A"
       ]
      },
      {
       "output_type": "stream",
       "stream": "stdout",
       "text": [
        "\n",
        "Getting # 4197: http://yosemite.epa.gov/oeca/webeis.nsf/EIS01/E43C9FDBD6F495AD85257BEB001DB743"
       ]
      },
      {
       "output_type": "stream",
       "stream": "stdout",
       "text": [
        "\n",
        "Getting # 4202: http://yosemite.epa.gov/oeca/webeis.nsf/EIS01/93236B6228BC5DBF85257BEB001DB8B3"
       ]
      },
      {
       "output_type": "stream",
       "stream": "stdout",
       "text": [
        "\n",
        "Getting # 4204: http://yosemite.epa.gov/oeca/webeis.nsf/EIS01/B1171BCB9DEFEC1785257BEB001DB10B"
       ]
      },
      {
       "output_type": "stream",
       "stream": "stdout",
       "text": [
        "\n",
        "Getting # 4205: http://yosemite.epa.gov/oeca/webeis.nsf/EIS01/55F31CB2CFB4AA9585257BEB001DAFBE"
       ]
      },
      {
       "output_type": "stream",
       "stream": "stdout",
       "text": [
        "\n",
        "Getting # 4206: http://yosemite.epa.gov/oeca/webeis.nsf/EIS01/76AEC66F2EDD434885257C2400213411"
       ]
      },
      {
       "output_type": "stream",
       "stream": "stdout",
       "text": [
        "\n",
        "Getting # 4206: http://yosemite.epa.gov/oeca/webeis.nsf/EIS01/EFC806B2B6DFD3C185257C290021404E"
       ]
      },
      {
       "output_type": "stream",
       "stream": "stdout",
       "text": [
        "\n",
        "Getting # 4207: http://yosemite.epa.gov/oeca/webeis.nsf/EIS01/663487DBE6D597EA85257C380021103B"
       ]
      },
      {
       "output_type": "stream",
       "stream": "stdout",
       "text": [
        "\n",
        "Getting # 4207: http://yosemite.epa.gov/oeca/webeis.nsf/EIS01/4F7E3702CDA3A76085257C35002110C0"
       ]
      },
      {
       "output_type": "stream",
       "stream": "stdout",
       "text": [
        "\n",
        "Getting # 4212: http://yosemite.epa.gov/oeca/webeis.nsf/EIS01/9413A0D5D5D2178485257BEB001DAE1A"
       ]
      },
      {
       "output_type": "stream",
       "stream": "stdout",
       "text": [
        "\n",
        "Getting # 4212: http://yosemite.epa.gov/oeca/webeis.nsf/EIS01/E72583A5B17D2C7D85257C1B00211828"
       ]
      },
      {
       "output_type": "stream",
       "stream": "stdout",
       "text": [
        "\n",
        "Getting # 4213: http://yosemite.epa.gov/oeca/webeis.nsf/EIS01/E59A84120B14948785257BEB001DA773"
       ]
      },
      {
       "output_type": "stream",
       "stream": "stdout",
       "text": [
        "\n",
        "Getting # 4214: http://yosemite.epa.gov/oeca/webeis.nsf/EIS01/BDF9E71999E37B3E85257C3700210E83"
       ]
      },
      {
       "output_type": "stream",
       "stream": "stdout",
       "text": [
        "\n",
        "Getting # 4215: http://yosemite.epa.gov/oeca/webeis.nsf/EIS01/08C0724F24813F4E85257C24002133F5"
       ]
      },
      {
       "output_type": "stream",
       "stream": "stdout",
       "text": [
        "\n",
        "Getting # 4215: http://yosemite.epa.gov/oeca/webeis.nsf/EIS01/8D1204C9D4BD271185257BEB001DA652"
       ]
      },
      {
       "output_type": "stream",
       "stream": "stdout",
       "text": [
        "\n",
        "Getting # 4217: http://yosemite.epa.gov/oeca/webeis.nsf/EIS01/844826C3F2950E0885257C3300211681"
       ]
      },
      {
       "output_type": "stream",
       "stream": "stdout",
       "text": [
        "\n",
        "Getting # 4219: http://yosemite.epa.gov/oeca/webeis.nsf/EIS01/DD4E21FD02FC110E85257C2700212E2D"
       ]
      },
      {
       "output_type": "stream",
       "stream": "stdout",
       "text": [
        "\n",
        "Getting # 4220: http://yosemite.epa.gov/oeca/webeis.nsf/EIS01/1C397DD885B4B93685257C3000213014"
       ]
      },
      {
       "output_type": "stream",
       "stream": "stdout",
       "text": [
        "\n",
        "Getting # 4222: http://yosemite.epa.gov/oeca/webeis.nsf/EIS01/5764500C297FC6AA85257C3500210DAA"
       ]
      },
      {
       "output_type": "stream",
       "stream": "stdout",
       "text": [
        "\n",
        "Getting # 4223: http://yosemite.epa.gov/oeca/webeis.nsf/EIS01/F47ABBBA54DD8ED585257C3E00211392"
       ]
      },
      {
       "output_type": "stream",
       "stream": "stdout",
       "text": [
        "\n",
        "Getting # 4224: http://yosemite.epa.gov/oeca/webeis.nsf/EIS01/F5325DB2198729FC85257BEB001D991D"
       ]
      },
      {
       "output_type": "stream",
       "stream": "stdout",
       "text": [
        "\n",
        "Getting # 4247: http://yosemite.epa.gov/oeca/webeis.nsf/EIS01/AA883D8C7589AABA85257BEB001D9D4B"
       ]
      },
      {
       "output_type": "stream",
       "stream": "stdout",
       "text": [
        "\n",
        "Getting # 4250: http://yosemite.epa.gov/oeca/webeis.nsf/EIS01/E63B38C3B226DF9185257C6D0020FD3E"
       ]
      },
      {
       "output_type": "stream",
       "stream": "stdout",
       "text": [
        "\n",
        "Getting # 4252: http://yosemite.epa.gov/oeca/webeis.nsf/EIS01/EE7074C36751A8BB85257BEB001D88E2"
       ]
      },
      {
       "output_type": "stream",
       "stream": "stdout",
       "text": [
        "\n",
        "Getting # 4253: http://yosemite.epa.gov/oeca/webeis.nsf/EIS01/446CC9765B1618F585257C2A00211FF3"
       ]
      },
      {
       "output_type": "stream",
       "stream": "stdout",
       "text": [
        "\n",
        "Getting # 4254: http://yosemite.epa.gov/oeca/webeis.nsf/EIS01/9239B944BE36D96485257C3000212B69"
       ]
      },
      {
       "output_type": "stream",
       "stream": "stdout",
       "text": [
        "\n",
        "Getting # 4262: http://yosemite.epa.gov/oeca/webeis.nsf/EIS01/93C1F703D775363685257C19002121F7"
       ]
      },
      {
       "output_type": "stream",
       "stream": "stdout",
       "text": [
        "\n",
        "Getting # 4264: http://yosemite.epa.gov/oeca/webeis.nsf/EIS01/AE7ED198D274C58B85257C2400212E08"
       ]
      },
      {
       "output_type": "stream",
       "stream": "stdout",
       "text": [
        "\n",
        "Getting # 4265: http://yosemite.epa.gov/oeca/webeis.nsf/EIS01/7CDD7D053CFFD1FA85257C2200211E57"
       ]
      },
      {
       "output_type": "stream",
       "stream": "stdout",
       "text": [
        "\n",
        "Getting # 4268: http://yosemite.epa.gov/oeca/webeis.nsf/EIS01/A0BBDE989E1BCF2585257CEB001B893F"
       ]
      },
      {
       "output_type": "stream",
       "stream": "stdout",
       "text": [
        "\n",
        "Getting # 4279: http://yosemite.epa.gov/oeca/webeis.nsf/EIS01/907BA6453389F30D85257BEB001D5FF3"
       ]
      },
      {
       "output_type": "stream",
       "stream": "stdout",
       "text": [
        "\n",
        "Getting # 4279: http://yosemite.epa.gov/oeca/webeis.nsf/EIS01/C193BB77405FC95585257BEB001D6206"
       ]
      },
      {
       "output_type": "stream",
       "stream": "stdout",
       "text": [
        "\n",
        "Getting # 4282: http://yosemite.epa.gov/oeca/webeis.nsf/EIS01/1D94DC08CD63327885257C690077E8CE"
       ]
      },
      {
       "output_type": "stream",
       "stream": "stdout",
       "text": [
        "\n",
        "Getting # 4283: http://yosemite.epa.gov/oeca/webeis.nsf/EIS01/A0A5B2ED92D87B9E85257BEB001D60E7"
       ]
      },
      {
       "output_type": "stream",
       "stream": "stdout",
       "text": [
        "\n",
        "Getting # 4284: http://yosemite.epa.gov/oeca/webeis.nsf/EIS01/E92159E702E84EF285257BEB001D64DE"
       ]
      },
      {
       "output_type": "stream",
       "stream": "stdout",
       "text": [
        "\n",
        "Getting # 4303: http://yosemite.epa.gov/oeca/webeis.nsf/EIS01/04BD01E228BE0CFE85257D0E001B7FAA"
       ]
      },
      {
       "output_type": "stream",
       "stream": "stdout",
       "text": [
        "\n",
        "Getting # 4304: http://yosemite.epa.gov/oeca/webeis.nsf/EIS01/5FCECAA0A09D2DDA85257BEB001D602D"
       ]
      },
      {
       "output_type": "stream",
       "stream": "stdout",
       "text": [
        "\n",
        "Getting # 4305: http://yosemite.epa.gov/oeca/webeis.nsf/EIS01/E3558F7E5B604FE185257BEB001D6B90"
       ]
      },
      {
       "output_type": "stream",
       "stream": "stdout",
       "text": [
        "\n",
        "Getting # 4321: http://yosemite.epa.gov/oeca/webeis.nsf/EIS01/86EFAE8ABB91326085257D77001B85D8"
       ]
      },
      {
       "output_type": "stream",
       "stream": "stdout",
       "text": [
        "\n",
        "Getting # 4337: http://yosemite.epa.gov/oeca/webeis.nsf/EIS01/B30A604672060ABA85257BEB001D5D2E"
       ]
      },
      {
       "output_type": "stream",
       "stream": "stdout",
       "text": [
        "\n",
        "Getting # 4339: http://yosemite.epa.gov/oeca/webeis.nsf/EIS01/0C548DD1FF7D562485257C2A00211EA2"
       ]
      },
      {
       "output_type": "stream",
       "stream": "stdout",
       "text": [
        "\n",
        "Getting # 4341: http://yosemite.epa.gov/oeca/webeis.nsf/EIS01/18E1F8A028074ECD85257CEB001B88D3"
       ]
      },
      {
       "output_type": "stream",
       "stream": "stdout",
       "text": [
        "\n",
        "Getting # 4342: http://yosemite.epa.gov/oeca/webeis.nsf/EIS01/AA685E2EBBD948A785257BEB001D5D10"
       ]
      },
      {
       "output_type": "stream",
       "stream": "stdout",
       "text": [
        "\n",
        "Getting # 4342: http://yosemite.epa.gov/oeca/webeis.nsf/EIS01/96B7D870DD81414085257C620020FEBF"
       ]
      },
      {
       "output_type": "stream",
       "stream": "stdout",
       "text": [
        "\n",
        "Getting # 4343: http://yosemite.epa.gov/oeca/webeis.nsf/EIS01/781D2F8FEBF8C71985257BEB001D5AB2"
       ]
      },
      {
       "output_type": "stream",
       "stream": "stdout",
       "text": [
        "\n",
        "Getting # 4345: http://yosemite.epa.gov/oeca/webeis.nsf/EIS01/1BAEFEEB73B322DF85257BEB001D4D94"
       ]
      },
      {
       "output_type": "stream",
       "stream": "stdout",
       "text": [
        "\n",
        "Getting # 4359: http://yosemite.epa.gov/oeca/webeis.nsf/EIS01/B84521742DDEBD8385257BEB001D4ADE"
       ]
      },
      {
       "output_type": "stream",
       "stream": "stdout",
       "text": [
        "\n",
        "Getting # 4360: http://yosemite.epa.gov/oeca/webeis.nsf/EIS01/09C3581F8A29EDEE85257C2400212178"
       ]
      },
      {
       "output_type": "stream",
       "stream": "stdout",
       "text": [
        "\n",
        "Getting # 4375: http://yosemite.epa.gov/oeca/webeis.nsf/EIS01/4AAA913DD9BB9F2885257C2A00211E34"
       ]
      },
      {
       "output_type": "stream",
       "stream": "stdout",
       "text": [
        "\n",
        "Getting # 4375: http://yosemite.epa.gov/oeca/webeis.nsf/EIS01/15366B43692FF09E85257BEB001D40F6"
       ]
      },
      {
       "output_type": "stream",
       "stream": "stdout",
       "text": [
        "\n",
        "Getting # 4382: http://yosemite.epa.gov/oeca/webeis.nsf/EIS01/A51DDFE8FB2AC5CE85257BEB001D3E0B"
       ]
      },
      {
       "output_type": "stream",
       "stream": "stdout",
       "text": [
        "\n",
        "Getting # 4383: http://yosemite.epa.gov/oeca/webeis.nsf/EIS01/9A66CF8BD8821B9585257BEB001D3F74"
       ]
      },
      {
       "output_type": "stream",
       "stream": "stdout",
       "text": [
        "\n",
        "Getting # 4383: http://yosemite.epa.gov/oeca/webeis.nsf/EIS01/078724ACED82615B85257BEB001D4569"
       ]
      },
      {
       "output_type": "stream",
       "stream": "stdout",
       "text": [
        "\n",
        "Getting # 4384: http://yosemite.epa.gov/oeca/webeis.nsf/EIS01/26D3468F9607AAED85257BEB001D3FA2"
       ]
      },
      {
       "output_type": "stream",
       "stream": "stdout",
       "text": [
        "\n",
        "Getting # 4385: http://yosemite.epa.gov/oeca/webeis.nsf/EIS01/C796D38EC574D4E085257CF3001B8B51"
       ]
      },
      {
       "output_type": "stream",
       "stream": "stdout",
       "text": [
        "\n",
        "Getting # 4386: http://yosemite.epa.gov/oeca/webeis.nsf/EIS01/135EDAEF6DC914F685257BEB001D3B01"
       ]
      },
      {
       "output_type": "stream",
       "stream": "stdout",
       "text": [
        "\n",
        "Getting # 4387: http://yosemite.epa.gov/oeca/webeis.nsf/EIS01/6A654FE7DB23A62385257C3500210CE8"
       ]
      },
      {
       "output_type": "stream",
       "stream": "stdout",
       "text": [
        "\n",
        "Getting # 4400: http://yosemite.epa.gov/oeca/webeis.nsf/EIS01/110F372DD19B344F85257C2200211A1F"
       ]
      },
      {
       "output_type": "stream",
       "stream": "stdout",
       "text": [
        "\n",
        "Getting # 4402: http://yosemite.epa.gov/oeca/webeis.nsf/EIS01/69ACC5B6F2BC72CB85257BEB001D3A38"
       ]
      },
      {
       "output_type": "stream",
       "stream": "stdout",
       "text": [
        "\n",
        "Getting # 4403: http://yosemite.epa.gov/oeca/webeis.nsf/EIS01/BBCA2B53D4AE2A5285257C5E0021039F"
       ]
      },
      {
       "output_type": "stream",
       "stream": "stdout",
       "text": [
        "\n",
        "Getting # 4410: http://yosemite.epa.gov/oeca/webeis.nsf/EIS01/480E01B7122A204C85257D70001B82F9"
       ]
      },
      {
       "output_type": "stream",
       "stream": "stdout",
       "text": [
        "\n",
        "Getting # 4411: http://yosemite.epa.gov/oeca/webeis.nsf/EIS01/2DF0A6F73F0944EB85257BEB001D29F7"
       ]
      },
      {
       "output_type": "stream",
       "stream": "stdout",
       "text": [
        "\n",
        "Getting # 4436: http://yosemite.epa.gov/oeca/webeis.nsf/EIS01/C67A2FB9A7B62D2585257C22002119D3"
       ]
      },
      {
       "output_type": "stream",
       "stream": "stdout",
       "text": [
        "\n",
        "Getting # 4437: http://yosemite.epa.gov/oeca/webeis.nsf/EIS01/330685F29FB727A385257C3000212451"
       ]
      },
      {
       "output_type": "stream",
       "stream": "stdout",
       "text": [
        "\n",
        "Getting # 4450: http://yosemite.epa.gov/oeca/webeis.nsf/EIS01/771832398C099CC585257BEB001D242F"
       ]
      },
      {
       "output_type": "stream",
       "stream": "stdout",
       "text": [
        "\n",
        "Getting # 4450: http://yosemite.epa.gov/oeca/webeis.nsf/EIS01/1719859DFF28F77185257BEB001D20CD"
       ]
      },
      {
       "output_type": "stream",
       "stream": "stdout",
       "text": [
        "\n",
        "Getting # 4451: http://yosemite.epa.gov/oeca/webeis.nsf/EIS01/8BC578EE07258BC785257C2400211CB6"
       ]
      },
      {
       "output_type": "stream",
       "stream": "stdout",
       "text": [
        "\n",
        "Getting # 4451: http://yosemite.epa.gov/oeca/webeis.nsf/EIS01/F1039591993C764485257C04001B9686"
       ]
      },
      {
       "output_type": "stream",
       "stream": "stdout",
       "text": [
        "\n",
        "Getting # 4451: http://yosemite.epa.gov/oeca/webeis.nsf/EIS01/2E0BC61BAEA6257D85257D8900210B08"
       ]
      },
      {
       "output_type": "stream",
       "stream": "stdout",
       "text": [
        "\n",
        "Getting # 4452: http://yosemite.epa.gov/oeca/webeis.nsf/EIS01/9B52AA0D534DB17985257BEB001D1E3A"
       ]
      },
      {
       "output_type": "stream",
       "stream": "stdout",
       "text": [
        "\n",
        "Getting # 4452: http://yosemite.epa.gov/oeca/webeis.nsf/EIS01/D18216F0C06BEA5485257BEB001D1DA7"
       ]
      },
      {
       "output_type": "stream",
       "stream": "stdout",
       "text": [
        "\n",
        "Getting # 4453: http://yosemite.epa.gov/oeca/webeis.nsf/EIS01/1C08184E5AC5232785257BEB001D1EB2"
       ]
      },
      {
       "output_type": "stream",
       "stream": "stdout",
       "text": [
        "\n",
        "Getting # 4468: http://yosemite.epa.gov/oeca/webeis.nsf/EIS01/6F7908051D69752585257BEB001D1FCD"
       ]
      },
      {
       "output_type": "stream",
       "stream": "stdout",
       "text": [
        "\n",
        "Getting # 4469: http://yosemite.epa.gov/oeca/webeis.nsf/EIS01/A3B5ADB2669AB7A785257BEB001D2015"
       ]
      },
      {
       "output_type": "stream",
       "stream": "stdout",
       "text": [
        "\n",
        "Getting # 4470: http://yosemite.epa.gov/oeca/webeis.nsf/EIS01/6A715F2DF6499C3885257C3200211ADA"
       ]
      },
      {
       "output_type": "stream",
       "stream": "stdout",
       "text": [
        "\n",
        "Getting # 4476: http://yosemite.epa.gov/oeca/webeis.nsf/EIS01/352ECD345B3D8F9B85257C2200211977"
       ]
      },
      {
       "output_type": "stream",
       "stream": "stdout",
       "text": [
        "\n",
        "Getting # 4477: http://yosemite.epa.gov/oeca/webeis.nsf/EIS01/0E97994CC52CDA0785257BEB001D1C59"
       ]
      },
      {
       "output_type": "stream",
       "stream": "stdout",
       "text": [
        "\n",
        "Getting # 4477: http://yosemite.epa.gov/oeca/webeis.nsf/EIS01/22AE7FFB7E1358E985257BEB001D14F5"
       ]
      },
      {
       "output_type": "stream",
       "stream": "stdout",
       "text": [
        "\n",
        "Getting # 4479: http://yosemite.epa.gov/oeca/webeis.nsf/EIS01/5D67E1215483EAB085257BEB001D1608"
       ]
      },
      {
       "output_type": "stream",
       "stream": "stdout",
       "text": [
        "\n",
        "Getting # 4482: http://yosemite.epa.gov/oeca/webeis.nsf/EIS01/CEC08DEE5408F8CF85257BEB001D0F52"
       ]
      },
      {
       "output_type": "stream",
       "stream": "stdout",
       "text": [
        "\n",
        "Getting # 4482: http://yosemite.epa.gov/oeca/webeis.nsf/EIS01/D1E7B7C6CF31DFA285257BEB001D11B7"
       ]
      },
      {
       "output_type": "stream",
       "stream": "stdout",
       "text": [
        "\n",
        "Getting # 4502: http://yosemite.epa.gov/oeca/webeis.nsf/EIS01/FB028D90D165F6C785257C1900211D65"
       ]
      },
      {
       "output_type": "stream",
       "stream": "stdout",
       "text": [
        "\n",
        "Getting # 4502: http://yosemite.epa.gov/oeca/webeis.nsf/EIS01/659BEEC89C5871E985257D02001B7F86"
       ]
      },
      {
       "output_type": "stream",
       "stream": "stdout",
       "text": [
        "\n",
        "Getting # 4502: http://yosemite.epa.gov/oeca/webeis.nsf/EIS01/767F2218D4B5810185257BEB001D0B2A"
       ]
      },
      {
       "output_type": "stream",
       "stream": "stdout",
       "text": [
        "\n",
        "Getting # 4512: http://yosemite.epa.gov/oeca/webeis.nsf/EIS01/E87FDC57AAD8F06A85257BEB001D0A83"
       ]
      },
      {
       "output_type": "stream",
       "stream": "stdout",
       "text": [
        "\n",
        "Getting # 4513: http://yosemite.epa.gov/oeca/webeis.nsf/EIS01/19F1C8387DBDD4E085257CEF001B8BD5"
       ]
      },
      {
       "output_type": "stream",
       "stream": "stdout",
       "text": [
        "\n",
        "Getting # 4513: http://yosemite.epa.gov/oeca/webeis.nsf/EIS01/054A06F574D4E27385257BEB001D09BE"
       ]
      },
      {
       "output_type": "stream",
       "stream": "stdout",
       "text": [
        "\n",
        "Getting # 4515: http://yosemite.epa.gov/oeca/webeis.nsf/EIS01/60EC53B5395D9C0985257BEB001D0996"
       ]
      },
      {
       "output_type": "stream",
       "stream": "stdout",
       "text": [
        "\n",
        "Getting # 4515: http://yosemite.epa.gov/oeca/webeis.nsf/EIS01/C2F5C0EB3A8EA41385257B0000211B1B"
       ]
      },
      {
       "output_type": "stream",
       "stream": "stdout",
       "text": [
        "\n",
        "Getting # 4515: http://yosemite.epa.gov/oeca/webeis.nsf/EIS01/F0EECA5B88A4FB6685257B0000211B0A"
       ]
      },
      {
       "output_type": "stream",
       "stream": "stdout",
       "text": [
        "\n",
        "Getting # 4515: http://yosemite.epa.gov/oeca/webeis.nsf/EIS01/53452FAAEC83BA7A85257BEB001D097D"
       ]
      },
      {
       "output_type": "stream",
       "stream": "stdout",
       "text": [
        "\n",
        "Getting # 4515: http://yosemite.epa.gov/oeca/webeis.nsf/EIS01/5D183A6191BE872C85257BEB001D0975"
       ]
      },
      {
       "output_type": "stream",
       "stream": "stdout",
       "text": [
        "\n",
        "Getting # 4515: http://yosemite.epa.gov/oeca/webeis.nsf/EIS01/F6C35196CBF798D085257B0000211AFF"
       ]
      },
      {
       "output_type": "stream",
       "stream": "stdout",
       "text": [
        "\n",
        "Getting # 4515: http://yosemite.epa.gov/oeca/webeis.nsf/EIS01/69E5AD7E994320C085257C01001B95B6"
       ]
      },
      {
       "output_type": "stream",
       "stream": "stdout",
       "text": [
        "\n",
        "Getting # 4515: http://yosemite.epa.gov/oeca/webeis.nsf/EIS01/F1D2020346EA926D85257B0000211AF7"
       ]
      },
      {
       "output_type": "stream",
       "stream": "stdout",
       "text": [
        "\n",
        "Getting # 4515: http://yosemite.epa.gov/oeca/webeis.nsf/EIS01/B8B6C1CA2826903985257B0000211B02"
       ]
      },
      {
       "output_type": "stream",
       "stream": "stdout",
       "text": [
        "\n",
        "Getting # 4515: http://yosemite.epa.gov/oeca/webeis.nsf/EIS01/0879A298E479AC6F85257C9100210ACD"
       ]
      },
      {
       "output_type": "stream",
       "stream": "stdout",
       "text": [
        "\n",
        "Getting # 4515: http://yosemite.epa.gov/oeca/webeis.nsf/EIS01/FFAEF728860B32F985257AFB002107E3"
       ]
      },
      {
       "output_type": "stream",
       "stream": "stdout",
       "text": [
        "\n",
        "Getting # 4515: http://yosemite.epa.gov/oeca/webeis.nsf/EIS01/15CD1C3EBBA9AAEC85257BEB001D0612"
       ]
      },
      {
       "output_type": "stream",
       "stream": "stdout",
       "text": [
        "\n",
        "Getting # 4525: http://yosemite.epa.gov/oeca/webeis.nsf/EIS01/AD9F2BDBF436116485257AFB002107E6"
       ]
      },
      {
       "output_type": "stream",
       "stream": "stdout",
       "text": [
        "\n",
        "Getting # 4525: http://yosemite.epa.gov/oeca/webeis.nsf/EIS01/C938F37DAB816DBA85257BEB001D082B"
       ]
      },
      {
       "output_type": "stream",
       "stream": "stdout",
       "text": [
        "\n",
        "Getting # 4527: http://yosemite.epa.gov/oeca/webeis.nsf/EIS01/DCF5C7BB7D191B0785257AF0002114F8"
       ]
      },
      {
       "output_type": "stream",
       "stream": "stdout",
       "text": [
        "\n",
        "Getting # 4527: http://yosemite.epa.gov/oeca/webeis.nsf/EIS01/AA2DB9267E435FBC85257BEB001CF8D6"
       ]
      },
      {
       "output_type": "stream",
       "stream": "stdout",
       "text": [
        "\n",
        "Getting # 4529: http://yosemite.epa.gov/oeca/webeis.nsf/EIS01/DF2F3C3429E7FC6D85257BEB001CFB74"
       ]
      },
      {
       "output_type": "stream",
       "stream": "stdout",
       "text": [
        "\n",
        "Getting # 4544: http://yosemite.epa.gov/oeca/webeis.nsf/EIS01/F7EE384A3395CD9985257C2400211C32"
       ]
      },
      {
       "output_type": "stream",
       "stream": "stdout",
       "text": [
        "\n",
        "Getting # 4545: http://yosemite.epa.gov/oeca/webeis.nsf/EIS01/A7218611E2ED92EE85257BEB001CF3AF"
       ]
      },
      {
       "output_type": "stream",
       "stream": "stdout",
       "text": [
        "\n",
        "Getting # 4546: http://yosemite.epa.gov/oeca/webeis.nsf/EIS01/B8F6DE054FEB2AE785257BEB001CF353"
       ]
      },
      {
       "output_type": "stream",
       "stream": "stdout",
       "text": [
        "\n",
        "Getting # 4547: http://yosemite.epa.gov/oeca/webeis.nsf/EIS01/C42B9B6EFB271B4D85257AFB0021069E"
       ]
      },
      {
       "output_type": "stream",
       "stream": "stdout",
       "text": [
        "\n",
        "Getting # 4547: http://yosemite.epa.gov/oeca/webeis.nsf/EIS01/26F27F169BB0F59B85257C04001B95E7"
       ]
      },
      {
       "output_type": "stream",
       "stream": "stdout",
       "text": [
        "\n",
        "Getting # 4548: http://yosemite.epa.gov/oeca/webeis.nsf/EIS01/0C54141D6C18B16A85257C22002115F6"
       ]
      },
      {
       "output_type": "stream",
       "stream": "stdout",
       "text": [
        "\n",
        "Getting # 4553: http://yosemite.epa.gov/oeca/webeis.nsf/EIS01/905CC5321EBC9B8B85257BEB001CF195"
       ]
      },
      {
       "output_type": "stream",
       "stream": "stdout",
       "text": [
        "\n",
        "Getting # 4558: http://yosemite.epa.gov/oeca/webeis.nsf/EIS01/BE839E7FEB2FB98585257AE900210C41"
       ]
      },
      {
       "output_type": "stream",
       "stream": "stdout",
       "text": [
        "\n",
        "Getting # 4558: http://yosemite.epa.gov/oeca/webeis.nsf/EIS01/9A41D38DFA0344F885257BEB001CEC11"
       ]
      },
      {
       "output_type": "stream",
       "stream": "stdout",
       "text": [
        "\n",
        "Getting # 4560: http://yosemite.epa.gov/oeca/webeis.nsf/EIS01/C320D5DDD64E9F9585257BEB001CECA7"
       ]
      },
      {
       "output_type": "stream",
       "stream": "stdout",
       "text": [
        "\n",
        "Getting # 4561: http://yosemite.epa.gov/oeca/webeis.nsf/EIS01/D13997A1901463E585257AFB00210697"
       ]
      },
      {
       "output_type": "stream",
       "stream": "stdout",
       "text": [
        "\n",
        "Getting # 4561: http://yosemite.epa.gov/oeca/webeis.nsf/EIS01/49882E269E23BCEF85257BEB001CF2E5"
       ]
      },
      {
       "output_type": "stream",
       "stream": "stdout",
       "text": [
        "\n",
        "Getting # 4562: http://yosemite.epa.gov/oeca/webeis.nsf/EIS01/FA2486CA8C6BB19A85257B0000211AC8"
       ]
      },
      {
       "output_type": "stream",
       "stream": "stdout",
       "text": [
        "\n",
        "Getting # 4562: http://yosemite.epa.gov/oeca/webeis.nsf/EIS01/47AD6AFA8304576885257C2900212115"
       ]
      },
      {
       "output_type": "stream",
       "stream": "stdout",
       "text": [
        "\n",
        "Getting # 4578: http://yosemite.epa.gov/oeca/webeis.nsf/EIS01/588B0422B93E73DD85257BEB001CB22E"
       ]
      },
      {
       "output_type": "stream",
       "stream": "stdout",
       "text": [
        "\n",
        "Getting # 4600: http://yosemite.epa.gov/oeca/webeis.nsf/EIS01/323E4D4AC66E1E9E85257BEB001CAF29"
       ]
      },
      {
       "output_type": "stream",
       "stream": "stdout",
       "text": [
        "\n",
        "Getting # 4601: http://yosemite.epa.gov/oeca/webeis.nsf/EIS01/AF9195C88023DE0C85257BEB001CABC4"
       ]
      },
      {
       "output_type": "stream",
       "stream": "stdout",
       "text": [
        "\n",
        "Getting # 4603: http://yosemite.epa.gov/oeca/webeis.nsf/EIS01/24DA4C403A9B282585257C3200211763"
       ]
      },
      {
       "output_type": "stream",
       "stream": "stdout",
       "text": [
        "\n",
        "Getting # 4604: http://yosemite.epa.gov/oeca/webeis.nsf/EIS01/C6F7CF0D1A6F1D4385257C220021087C"
       ]
      },
      {
       "output_type": "stream",
       "stream": "stdout",
       "text": [
        "\n",
        "Getting # 4609: http://yosemite.epa.gov/oeca/webeis.nsf/EIS01/D5FD8B86A01AC54F85257AEE00211284"
       ]
      },
      {
       "output_type": "stream",
       "stream": "stdout",
       "text": [
        "\n",
        "Getting # 4609: http://yosemite.epa.gov/oeca/webeis.nsf/EIS01/BDF30F72BDD566EB85257AFA0021076A"
       ]
      },
      {
       "output_type": "stream",
       "stream": "stdout",
       "text": [
        "\n",
        "Getting # 4609: http://yosemite.epa.gov/oeca/webeis.nsf/EIS01/DBCD66D14A1CEEA385257AFD00210E6F"
       ]
      },
      {
       "output_type": "stream",
       "stream": "stdout",
       "text": [
        "\n",
        "Getting # 4609: http://yosemite.epa.gov/oeca/webeis.nsf/EIS01/018879E86C70B94885257C2900211CD6"
       ]
      },
      {
       "output_type": "stream",
       "stream": "stdout",
       "text": [
        "\n",
        "Getting # 4609: http://yosemite.epa.gov/oeca/webeis.nsf/EIS01/DD0F261C9376EB1F85257B0000211AAF"
       ]
      },
      {
       "output_type": "stream",
       "stream": "stdout",
       "text": [
        "\n",
        "Getting # 4609: http://yosemite.epa.gov/oeca/webeis.nsf/EIS01/DAC57F2EF57B955585257C3200211573"
       ]
      },
      {
       "output_type": "stream",
       "stream": "stdout",
       "text": [
        "\n",
        "Getting # 4613: http://yosemite.epa.gov/oeca/webeis.nsf/EIS01/8E06592E3B869EF585257BEB001C7CE3"
       ]
      },
      {
       "output_type": "stream",
       "stream": "stdout",
       "text": [
        "\n",
        "Getting # 4614: http://yosemite.epa.gov/oeca/webeis.nsf/EIS01/DC8362E928C498E185257B0000210229"
       ]
      },
      {
       "output_type": "stream",
       "stream": "stdout",
       "text": [
        "\n",
        "Getting # 4615: http://yosemite.epa.gov/oeca/webeis.nsf/EIS01/A31458D52ECD667085257BEB001C8F2C"
       ]
      },
      {
       "output_type": "stream",
       "stream": "stdout",
       "text": [
        "\n",
        "Getting # 4617: http://yosemite.epa.gov/oeca/webeis.nsf/EIS01/A504A187397229A585257C4A00210886"
       ]
      },
      {
       "output_type": "stream",
       "stream": "stdout",
       "text": [
        "\n",
        "Getting # 4618: http://yosemite.epa.gov/oeca/webeis.nsf/EIS01/42D0A8E62962B74E85257BEB001C7789"
       ]
      },
      {
       "output_type": "stream",
       "stream": "stdout",
       "text": [
        "\n",
        "Getting # 4619: http://yosemite.epa.gov/oeca/webeis.nsf/EIS01/3D372D5643BE31D085257BEB001C7739"
       ]
      },
      {
       "output_type": "stream",
       "stream": "stdout",
       "text": [
        "\n",
        "Getting # 4620: http://yosemite.epa.gov/oeca/webeis.nsf/EIS01/B216A709B914D23985257BEB001C77EE"
       ]
      },
      {
       "output_type": "stream",
       "stream": "stdout",
       "text": [
        "\n",
        "Getting # 4621: http://yosemite.epa.gov/oeca/webeis.nsf/EIS01/CDDD020C19B47E3985257BEB001C7814"
       ]
      },
      {
       "output_type": "stream",
       "stream": "stdout",
       "text": [
        "\n",
        "Getting # 4622: http://yosemite.epa.gov/oeca/webeis.nsf/EIS01/6B3530E412CDD01985257BEB001C7BF4"
       ]
      },
      {
       "output_type": "stream",
       "stream": "stdout",
       "text": [
        "\n",
        "Getting # 4624: http://yosemite.epa.gov/oeca/webeis.nsf/EIS01/A063644248B9948285257C3500210B41"
       ]
      },
      {
       "output_type": "stream",
       "stream": "stdout",
       "text": [
        "\n",
        "Getting # 4636: http://yosemite.epa.gov/oeca/webeis.nsf/EIS01/44D89FA3C786E65285257BEB001C69DA"
       ]
      },
      {
       "output_type": "stream",
       "stream": "stdout",
       "text": [
        "\n",
        "Getting # 4639: http://yosemite.epa.gov/oeca/webeis.nsf/EIS01/532F5A67B7C2021A85257BEB001C6C28"
       ]
      },
      {
       "output_type": "stream",
       "stream": "stdout",
       "text": [
        "\n",
        "Getting # 4642: http://yosemite.epa.gov/oeca/webeis.nsf/EIS01/63EA6A81AA08DEE185257BEB001C6239"
       ]
      },
      {
       "output_type": "stream",
       "stream": "stdout",
       "text": [
        "\n",
        "Getting # 4656: http://yosemite.epa.gov/oeca/webeis.nsf/EIS01/087EFA68620B8F2285257BEB001C565D"
       ]
      },
      {
       "output_type": "stream",
       "stream": "stdout",
       "text": [
        "\n",
        "Getting # 4656: http://yosemite.epa.gov/oeca/webeis.nsf/EIS01/2D4C4880303BFD1885257BEB001C6F92"
       ]
      },
      {
       "output_type": "stream",
       "stream": "stdout",
       "text": [
        "\n",
        "Getting # 4663: http://yosemite.epa.gov/oeca/webeis.nsf/EIS01/B44CEF7D8780278785257BEB001C59DA"
       ]
      },
      {
       "output_type": "stream",
       "stream": "stdout",
       "text": [
        "\n",
        "Getting # 4677: http://yosemite.epa.gov/oeca/webeis.nsf/EIS01/1D7FBB9612F6A43A85257C300021148A"
       ]
      },
      {
       "output_type": "stream",
       "stream": "stdout",
       "text": [
        "\n",
        "Getting # 4680: http://yosemite.epa.gov/oeca/webeis.nsf/EIS01/32C3F2642C2FB37B85257BEB001C5540"
       ]
      },
      {
       "output_type": "stream",
       "stream": "stdout",
       "text": [
        "\n",
        "Getting # 4681: http://yosemite.epa.gov/oeca/webeis.nsf/EIS01/53B540AA7215EDD985257BEB001C5399"
       ]
      },
      {
       "output_type": "stream",
       "stream": "stdout",
       "text": [
        "\n",
        "Getting # 4684: http://yosemite.epa.gov/oeca/webeis.nsf/EIS01/59BB3566E1BFBD7685257BEB001C55F6"
       ]
      },
      {
       "output_type": "stream",
       "stream": "stdout",
       "text": [
        "\n",
        "Getting # 4688: http://yosemite.epa.gov/oeca/webeis.nsf/EIS01/828B807FEBE81F4085257C05001B9DC9"
       ]
      },
      {
       "output_type": "stream",
       "stream": "stdout",
       "text": [
        "\n",
        "Getting # 4690: http://yosemite.epa.gov/oeca/webeis.nsf/EIS01/39C768736C7BFE8885257C300021109A"
       ]
      },
      {
       "output_type": "stream",
       "stream": "stdout",
       "text": [
        "\n",
        "Getting # 4697: http://yosemite.epa.gov/oeca/webeis.nsf/EIS01/E0390AD2B0069EC185257C1900211634"
       ]
      },
      {
       "output_type": "stream",
       "stream": "stdout",
       "text": [
        "\n",
        "Getting # 4699: http://yosemite.epa.gov/oeca/webeis.nsf/EIS01/21168F098DA0883A85257BEB001C393B"
       ]
      },
      {
       "output_type": "stream",
       "stream": "stdout",
       "text": [
        "\n",
        "Getting # 4700: http://yosemite.epa.gov/oeca/webeis.nsf/EIS01/6B2552046B99810685257BEB001C3B86"
       ]
      },
      {
       "output_type": "stream",
       "stream": "stdout",
       "text": [
        "\n",
        "Getting # 4701: http://yosemite.epa.gov/oeca/webeis.nsf/EIS01/BFFBDCB57C3F966F85257BEB001C4AB6"
       ]
      },
      {
       "output_type": "stream",
       "stream": "stdout",
       "text": [
        "\n",
        "Getting # 4702: http://yosemite.epa.gov/oeca/webeis.nsf/EIS01/333A1FD2E0259A5E85257C22002105B2"
       ]
      },
      {
       "output_type": "stream",
       "stream": "stdout",
       "text": [
        "\n",
        "Getting # 4702: http://yosemite.epa.gov/oeca/webeis.nsf/EIS01/87159243443E4C6685257C2300211290"
       ]
      },
      {
       "output_type": "stream",
       "stream": "stdout",
       "text": [
        "\n",
        "Getting # 4707: http://yosemite.epa.gov/oeca/webeis.nsf/EIS01/74D5064EFF61673985257BEB001C3663"
       ]
      },
      {
       "output_type": "stream",
       "stream": "stdout",
       "text": [
        "\n",
        "Getting # 4713: http://yosemite.epa.gov/oeca/webeis.nsf/EIS01/50D36B015F389E7485257BEB001C2F5B"
       ]
      },
      {
       "output_type": "stream",
       "stream": "stdout",
       "text": [
        "\n",
        "Getting # 4713: http://yosemite.epa.gov/oeca/webeis.nsf/EIS01/B2B151140EB537BE85257BEB001C2F4D"
       ]
      },
      {
       "output_type": "stream",
       "stream": "stdout",
       "text": [
        "\n",
        "Getting # 4713: http://yosemite.epa.gov/oeca/webeis.nsf/EIS01/F65120FBBA15A0CE85257BEB001C2F4B"
       ]
      },
      {
       "output_type": "stream",
       "stream": "stdout",
       "text": [
        "\n",
        "Getting # 4713: http://yosemite.epa.gov/oeca/webeis.nsf/EIS01/29640883DE3B269B85257C3800210FCE"
       ]
      },
      {
       "output_type": "stream",
       "stream": "stdout",
       "text": [
        "\n",
        "Getting # 4713: http://yosemite.epa.gov/oeca/webeis.nsf/EIS01/1594CE789F21368B85257BEB001C2F13"
       ]
      },
      {
       "output_type": "stream",
       "stream": "stdout",
       "text": [
        "\n",
        "Getting # 4713: http://yosemite.epa.gov/oeca/webeis.nsf/EIS01/1BAED77D54C8C2AE85257BEB001C2F1F"
       ]
      },
      {
       "output_type": "stream",
       "stream": "stdout",
       "text": [
        "\n",
        "Getting # 4714: http://yosemite.epa.gov/oeca/webeis.nsf/EIS01/05F85BAC054BEF0B85257BEB001C2EAF"
       ]
      },
      {
       "output_type": "stream",
       "stream": "stdout",
       "text": [
        "\n",
        "Getting # 4714: http://yosemite.epa.gov/oeca/webeis.nsf/EIS01/379B19276FF9079885257BEB001C2EF4"
       ]
      },
      {
       "output_type": "stream",
       "stream": "stdout",
       "text": [
        "\n",
        "Getting # 4714: http://yosemite.epa.gov/oeca/webeis.nsf/EIS01/61EFB7DB64E3841B85257BEB001C2EE9"
       ]
      },
      {
       "output_type": "stream",
       "stream": "stdout",
       "text": [
        "\n",
        "Getting # 4714: http://yosemite.epa.gov/oeca/webeis.nsf/EIS01/77074EF97DF3FA0485257BEB001C2EA5"
       ]
      },
      {
       "output_type": "stream",
       "stream": "stdout",
       "text": [
        "\n",
        "Getting # 4714: http://yosemite.epa.gov/oeca/webeis.nsf/EIS01/CA6A784B8DC12F6785257BEB001C2ED3"
       ]
      },
      {
       "output_type": "stream",
       "stream": "stdout",
       "text": [
        "\n",
        "Getting # 4714: http://yosemite.epa.gov/oeca/webeis.nsf/EIS01/F069D36929E2D28E85257BEB001C2EAD"
       ]
      },
      {
       "output_type": "stream",
       "stream": "stdout",
       "text": [
        "\n",
        "Getting # 4714: http://yosemite.epa.gov/oeca/webeis.nsf/EIS01/BC8FA8CF44F3383F85257BEB001C2EEC"
       ]
      },
      {
       "output_type": "stream",
       "stream": "stdout",
       "text": [
        "\n",
        "Getting # 4714: http://yosemite.epa.gov/oeca/webeis.nsf/EIS01/BD10883C18DC2ABE85257C1B00210490"
       ]
      },
      {
       "output_type": "stream",
       "stream": "stdout",
       "text": [
        "\n",
        "Getting # 4714: http://yosemite.epa.gov/oeca/webeis.nsf/EIS01/9B4C1F2329C0AE2985257C23002111F8"
       ]
      },
      {
       "output_type": "stream",
       "stream": "stdout",
       "text": [
        "\n",
        "Getting # 4714: http://yosemite.epa.gov/oeca/webeis.nsf/EIS01/3857BD160B3C0A4F85257BEB001C2E80"
       ]
      },
      {
       "output_type": "stream",
       "stream": "stdout",
       "text": [
        "\n",
        "Getting # 4714: http://yosemite.epa.gov/oeca/webeis.nsf/EIS01/30AC175CE725FDAB85257BEB001C2E70"
       ]
      },
      {
       "output_type": "stream",
       "stream": "stdout",
       "text": [
        "\n",
        "Getting # 4714: http://yosemite.epa.gov/oeca/webeis.nsf/EIS01/0673422648DB201A85257BEB001C2E57"
       ]
      },
      {
       "output_type": "stream",
       "stream": "stdout",
       "text": [
        "\n",
        "Getting # 4714: http://yosemite.epa.gov/oeca/webeis.nsf/EIS01/8E1CA82819D286CC85257BEB001C2E5E"
       ]
      },
      {
       "output_type": "stream",
       "stream": "stdout",
       "text": [
        "\n",
        "Getting # 4714: http://yosemite.epa.gov/oeca/webeis.nsf/EIS01/6D12E650F597A38D85257BEB001C2E38"
       ]
      },
      {
       "output_type": "stream",
       "stream": "stdout",
       "text": [
        "\n",
        "Getting # 4714: http://yosemite.epa.gov/oeca/webeis.nsf/EIS01/B39CCD2657A0493A85257BEB001C2E46"
       ]
      },
      {
       "output_type": "stream",
       "stream": "stdout",
       "text": [
        "\n",
        "Getting # 4714: http://yosemite.epa.gov/oeca/webeis.nsf/EIS01/39A8EF6F0D447C5085257BEB001C2E0F"
       ]
      },
      {
       "output_type": "stream",
       "stream": "stdout",
       "text": [
        "\n",
        "Getting # 4714: http://yosemite.epa.gov/oeca/webeis.nsf/EIS01/CC8A6A30AC101B9285257C2700210B92"
       ]
      },
      {
       "output_type": "stream",
       "stream": "stdout",
       "text": [
        "\n",
        "Getting # 4715: http://yosemite.epa.gov/oeca/webeis.nsf/EIS01/922FB7633521763E85257BEB001C2E1E"
       ]
      },
      {
       "output_type": "stream",
       "stream": "stdout",
       "text": [
        "\n",
        "Getting # 4715: http://yosemite.epa.gov/oeca/webeis.nsf/EIS01/0285C1343C2C39C185257C3800210F9C"
       ]
      },
      {
       "output_type": "stream",
       "stream": "stdout",
       "text": [
        "\n",
        "Getting # 4715: http://yosemite.epa.gov/oeca/webeis.nsf/EIS01/6A441B871422770785257BEB001C2DAB"
       ]
      },
      {
       "output_type": "stream",
       "stream": "stdout",
       "text": [
        "\n",
        "Getting # 4715: http://yosemite.epa.gov/oeca/webeis.nsf/EIS01/F59569DE5AB2A25B85257BEB001C2DE4"
       ]
      },
      {
       "output_type": "stream",
       "stream": "stdout",
       "text": [
        "\n",
        "Getting # 4715: http://yosemite.epa.gov/oeca/webeis.nsf/EIS01/1170F33658017B0B85257BEB001C2DA1"
       ]
      },
      {
       "output_type": "stream",
       "stream": "stdout",
       "text": [
        "\n",
        "Getting # 4715: http://yosemite.epa.gov/oeca/webeis.nsf/EIS01/179B1FD618DE64D285257BEB001C2D94"
       ]
      },
      {
       "output_type": "stream",
       "stream": "stdout",
       "text": [
        "\n",
        "Getting # 4715: http://yosemite.epa.gov/oeca/webeis.nsf/EIS01/D34A087467C493DF85257BEB001C2D8C"
       ]
      },
      {
       "output_type": "stream",
       "stream": "stdout",
       "text": [
        "\n",
        "Getting # 4715: http://yosemite.epa.gov/oeca/webeis.nsf/EIS01/C7EA6838060D720885257C2900210F38"
       ]
      },
      {
       "output_type": "stream",
       "stream": "stdout",
       "text": [
        "\n",
        "Getting # 4715: http://yosemite.epa.gov/oeca/webeis.nsf/EIS01/7E46A880874C97BA85257BEB001C2D3D"
       ]
      },
      {
       "output_type": "stream",
       "stream": "stdout",
       "text": [
        "\n",
        "Getting # 4715: http://yosemite.epa.gov/oeca/webeis.nsf/EIS01/79391D585D05E7A885257BEB001C2D30"
       ]
      },
      {
       "output_type": "stream",
       "stream": "stdout",
       "text": [
        "\n",
        "Getting # 4715: http://yosemite.epa.gov/oeca/webeis.nsf/EIS01/EC6A767EEEEB817485257BEB001C2D62"
       ]
      },
      {
       "output_type": "stream",
       "stream": "stdout",
       "text": [
        "\n",
        "Getting # 4715: http://yosemite.epa.gov/oeca/webeis.nsf/EIS01/5834448A96D3E7B885257BEB001C2D0C"
       ]
      },
      {
       "output_type": "stream",
       "stream": "stdout",
       "text": [
        "\n",
        "Getting # 4716: http://yosemite.epa.gov/oeca/webeis.nsf/EIS01/DA7B6B0A6886DF9D85257BEB001C2D07"
       ]
      },
      {
       "output_type": "stream",
       "stream": "stdout",
       "text": [
        "\n",
        "Getting # 4716: http://yosemite.epa.gov/oeca/webeis.nsf/EIS01/1CA0A03AC8078BF585257BEB001C2D12"
       ]
      },
      {
       "output_type": "stream",
       "stream": "stdout",
       "text": [
        "\n",
        "Getting # 4716: http://yosemite.epa.gov/oeca/webeis.nsf/EIS01/7724756198B3B46585257BEB001C2CE0"
       ]
      },
      {
       "output_type": "stream",
       "stream": "stdout",
       "text": [
        "\n",
        "Getting # 4716: http://yosemite.epa.gov/oeca/webeis.nsf/EIS01/83C6FDDC9F078D2085257BEB001C2CFE"
       ]
      },
      {
       "output_type": "stream",
       "stream": "stdout",
       "text": [
        "\n",
        "Getting # 4716: http://yosemite.epa.gov/oeca/webeis.nsf/EIS01/D39D2C9E45CAF6B885257C23002111C0"
       ]
      },
      {
       "output_type": "stream",
       "stream": "stdout",
       "text": [
        "\n",
        "Getting # 4716: http://yosemite.epa.gov/oeca/webeis.nsf/EIS01/7467E6D5E994EC1D85257BEB001C2CC9"
       ]
      },
      {
       "output_type": "stream",
       "stream": "stdout",
       "text": [
        "\n",
        "Getting # 4716: http://yosemite.epa.gov/oeca/webeis.nsf/EIS01/782DB6B0EA71B63F85257BEB001C2C7F"
       ]
      },
      {
       "output_type": "stream",
       "stream": "stdout",
       "text": [
        "\n",
        "Getting # 4716: http://yosemite.epa.gov/oeca/webeis.nsf/EIS01/873F755E9771CCE985257BEB001C2CC0"
       ]
      },
      {
       "output_type": "stream",
       "stream": "stdout",
       "text": [
        "\n",
        "Getting # 4716: http://yosemite.epa.gov/oeca/webeis.nsf/EIS01/98B08F2F7B6304D785257BEB001C2C8F"
       ]
      },
      {
       "output_type": "stream",
       "stream": "stdout",
       "text": [
        "\n",
        "Getting # 4717: http://yosemite.epa.gov/oeca/webeis.nsf/EIS01/1FA239FD6487A84E85257B43001B8458"
       ]
      },
      {
       "output_type": "stream",
       "stream": "stdout",
       "text": [
        "\n",
        "Getting # 4717: http://yosemite.epa.gov/oeca/webeis.nsf/EIS01/D631B861AA0FD0EE85257BEB001C2940"
       ]
      },
      {
       "output_type": "stream",
       "stream": "stdout",
       "text": [
        "\n",
        "Getting # 4717: http://yosemite.epa.gov/oeca/webeis.nsf/EIS01/D77CAA4D1966C3D485257BEB001C28E6"
       ]
      },
      {
       "output_type": "stream",
       "stream": "stdout",
       "text": [
        "\n",
        "Getting # 4719: http://yosemite.epa.gov/oeca/webeis.nsf/EIS01/2016F80C830E8BE785257BBA001B8DC6"
       ]
      },
      {
       "output_type": "stream",
       "stream": "stdout",
       "text": [
        "\n",
        "Getting # 4719: http://yosemite.epa.gov/oeca/webeis.nsf/EIS01/CDD5CDCC99194DFD85257BEB001C2875"
       ]
      },
      {
       "output_type": "stream",
       "stream": "stdout",
       "text": [
        "\n",
        "Getting # 4719: http://yosemite.epa.gov/oeca/webeis.nsf/EIS01/63219D1A632A4BD285257B3D001B854D"
       ]
      },
      {
       "output_type": "stream",
       "stream": "stdout",
       "text": [
        "\n",
        "Getting # 4721: http://yosemite.epa.gov/oeca/webeis.nsf/EIS01/99937377D9D657AC85257BEB001C2AC7"
       ]
      },
      {
       "output_type": "stream",
       "stream": "stdout",
       "text": [
        "\n",
        "Getting # 4723: http://yosemite.epa.gov/oeca/webeis.nsf/EIS01/49A8B9863C9039C385257BC0001B90F6"
       ]
      },
      {
       "output_type": "stream",
       "stream": "stdout",
       "text": [
        "\n",
        "Getting # 4723: http://yosemite.epa.gov/oeca/webeis.nsf/EIS01/09DF6CE64A92E0B585257BBA001B8C9D"
       ]
      },
      {
       "output_type": "stream",
       "stream": "stdout",
       "text": [
        "\n",
        "Getting # 4725: http://yosemite.epa.gov/oeca/webeis.nsf/EIS01/54D778820067A24985257BBB001B8C9E"
       ]
      },
      {
       "output_type": "stream",
       "stream": "stdout",
       "text": [
        "\n",
        "Getting # 4725: http://yosemite.epa.gov/oeca/webeis.nsf/EIS01/20FBE432B7B226DE85257BEB001C27AC"
       ]
      },
      {
       "output_type": "stream",
       "stream": "stdout",
       "text": [
        "\n",
        "Getting # 4725: http://yosemite.epa.gov/oeca/webeis.nsf/EIS01/7F90789BD9615ABC85257BEB001C2778"
       ]
      },
      {
       "output_type": "stream",
       "stream": "stdout",
       "text": [
        "\n",
        "Getting # 4726: http://yosemite.epa.gov/oeca/webeis.nsf/EIS01/2C82313E2343F03F85257BEB001C2450"
       ]
      },
      {
       "output_type": "stream",
       "stream": "stdout",
       "text": [
        "\n",
        "Getting # 4726: http://yosemite.epa.gov/oeca/webeis.nsf/EIS01/D6B0B21DABF614E685257BEB001C2428"
       ]
      },
      {
       "output_type": "stream",
       "stream": "stdout",
       "text": [
        "\n",
        "Getting # 4726: http://yosemite.epa.gov/oeca/webeis.nsf/EIS01/031462F109284A8185257BEB001C23A3"
       ]
      },
      {
       "output_type": "stream",
       "stream": "stdout",
       "text": [
        "\n",
        "Getting # 4726: http://yosemite.epa.gov/oeca/webeis.nsf/EIS01/3B445366704BEC1385257BEB001C241E"
       ]
      },
      {
       "output_type": "stream",
       "stream": "stdout",
       "text": [
        "\n",
        "Getting # 4726: http://yosemite.epa.gov/oeca/webeis.nsf/EIS01/F347CA98BA66E55C85257BEB001C24CF"
       ]
      },
      {
       "output_type": "stream",
       "stream": "stdout",
       "text": [
        "\n",
        "Getting # 4727: http://yosemite.epa.gov/oeca/webeis.nsf/EIS01/68DD23A8B6CC105985257BEB001C26A0"
       ]
      },
      {
       "output_type": "stream",
       "stream": "stdout",
       "text": [
        "\n",
        "Getting # 4727: http://yosemite.epa.gov/oeca/webeis.nsf/EIS01/D84BF56BF137301885257BEB001C25FE"
       ]
      },
      {
       "output_type": "stream",
       "stream": "stdout",
       "text": [
        "\n",
        "Getting # 4728: http://yosemite.epa.gov/oeca/webeis.nsf/EIS01/113614444B44FA4885257BEB001C202E"
       ]
      },
      {
       "output_type": "stream",
       "stream": "stdout",
       "text": [
        "\n",
        "Getting # 4757: http://yosemite.epa.gov/oeca/webeis.nsf/EIS01/C3A43BF995F8676285257BEB001C1E8D"
       ]
      },
      {
       "output_type": "stream",
       "stream": "stdout",
       "text": [
        "\n",
        "Getting # 4757: http://yosemite.epa.gov/oeca/webeis.nsf/EIS01/A3DE91DBD87A1C0585257BEB001C14A2"
       ]
      },
      {
       "output_type": "stream",
       "stream": "stdout",
       "text": [
        "\n",
        "Getting # 4771: http://yosemite.epa.gov/oeca/webeis.nsf/EIS01/7F9B403BC534642385257BEB001C1E79"
       ]
      },
      {
       "output_type": "stream",
       "stream": "stdout",
       "text": [
        "\n",
        "Getting # 4771: http://yosemite.epa.gov/oeca/webeis.nsf/EIS01/842CE8F2C10F433785257BEB001C1E7E"
       ]
      },
      {
       "output_type": "stream",
       "stream": "stdout",
       "text": [
        "\n",
        "Getting # 4771: http://yosemite.epa.gov/oeca/webeis.nsf/EIS01/D4194B23A1289FD685257C20002103E8"
       ]
      },
      {
       "output_type": "stream",
       "stream": "stdout",
       "text": [
        "\n",
        "Getting # 4771: http://yosemite.epa.gov/oeca/webeis.nsf/EIS01/6BE3CDC449CD824D85257BEB001C02BE"
       ]
      },
      {
       "output_type": "stream",
       "stream": "stdout",
       "text": [
        "\n",
        "Getting # 4771: http://yosemite.epa.gov/oeca/webeis.nsf/EIS01/E94071A3F424E80485257BEB001C023B"
       ]
      },
      {
       "output_type": "stream",
       "stream": "stdout",
       "text": [
        "\n",
        "Getting # 4773: http://yosemite.epa.gov/oeca/webeis.nsf/EIS01/D239D109D24B3B4785257BEB001C0A26"
       ]
      },
      {
       "output_type": "stream",
       "stream": "stdout",
       "text": [
        "\n",
        "Getting # 4775: http://yosemite.epa.gov/oeca/webeis.nsf/EIS01/E0FFD1CF19B0498D85257BEB001C02BB"
       ]
      },
      {
       "output_type": "stream",
       "stream": "stdout",
       "text": [
        "\n",
        "Getting # 4775: http://yosemite.epa.gov/oeca/webeis.nsf/EIS01/127A6644C611D37585257BEB001C0CB6"
       ]
      },
      {
       "output_type": "stream",
       "stream": "stdout",
       "text": [
        "\n",
        "Getting # 4777: http://yosemite.epa.gov/oeca/webeis.nsf/EIS01/217DF1809D972E5B85257C3600210351"
       ]
      },
      {
       "output_type": "stream",
       "stream": "stdout",
       "text": [
        "\n",
        "Getting # 4777: http://yosemite.epa.gov/oeca/webeis.nsf/EIS01/F2122FFF9B3C9AC385257C3500210A74"
       ]
      },
      {
       "output_type": "stream",
       "stream": "stdout",
       "text": [
        "\n",
        "Getting # 4777: http://yosemite.epa.gov/oeca/webeis.nsf/EIS01/425652893AE70C9F85257BEB001C00F0"
       ]
      },
      {
       "output_type": "stream",
       "stream": "stdout",
       "text": [
        "\n",
        "Getting # 4777: http://yosemite.epa.gov/oeca/webeis.nsf/EIS01/22B765E76CC7D17C85257BEB001C0191"
       ]
      },
      {
       "output_type": "stream",
       "stream": "stdout",
       "text": [
        "\n",
        "Getting # 4779: http://yosemite.epa.gov/oeca/webeis.nsf/EIS01/2DA5DD4A7912774585257BEB001C0101"
       ]
      },
      {
       "output_type": "stream",
       "stream": "stdout",
       "text": [
        "\n",
        "Getting # 4779: http://yosemite.epa.gov/oeca/webeis.nsf/EIS01/74E60E96EC3EDB8885257BEB001C012D"
       ]
      },
      {
       "output_type": "stream",
       "stream": "stdout",
       "text": [
        "\n",
        "Getting # 4782: http://yosemite.epa.gov/oeca/webeis.nsf/EIS01/C16650A4BB4017FC85257BEB001C01C4"
       ]
      },
      {
       "output_type": "stream",
       "stream": "stdout",
       "text": [
        "\n",
        "Getting # 4782: http://yosemite.epa.gov/oeca/webeis.nsf/EIS01/21A01948A3991F9C85257B2F001B8C4F"
       ]
      },
      {
       "output_type": "stream",
       "stream": "stdout",
       "text": [
        "\n",
        "Getting # 4791: http://yosemite.epa.gov/oeca/webeis.nsf/EIS01/1F0489E6251B0C4A85257BEB001BFCAF"
       ]
      },
      {
       "output_type": "stream",
       "stream": "stdout",
       "text": [
        "\n",
        "Getting # 4800: http://yosemite.epa.gov/oeca/webeis.nsf/EIS01/88730B5DE31E154885257BEB001C00DD"
       ]
      },
      {
       "output_type": "stream",
       "stream": "stdout",
       "text": [
        "\n",
        "Getting # 4800: http://yosemite.epa.gov/oeca/webeis.nsf/EIS01/AFE754AD6A4F641185257BEB001C0098"
       ]
      },
      {
       "output_type": "stream",
       "stream": "stdout",
       "text": [
        "\n",
        "Getting # 4801: http://yosemite.epa.gov/oeca/webeis.nsf/EIS01/270553B5729E104385257BEB001BFA36"
       ]
      },
      {
       "output_type": "stream",
       "stream": "stdout",
       "text": [
        "\n",
        "Getting # 4802: http://yosemite.epa.gov/oeca/webeis.nsf/EIS01/3BCF0C5CD3E1AEDF85257BEB001BFACA"
       ]
      },
      {
       "output_type": "stream",
       "stream": "stdout",
       "text": [
        "\n",
        "Getting # 4802: http://yosemite.epa.gov/oeca/webeis.nsf/EIS01/4522A0BB12BDAE4485257BEB001BFAA6"
       ]
      },
      {
       "output_type": "stream",
       "stream": "stdout",
       "text": [
        "\n",
        "Getting # 4802: http://yosemite.epa.gov/oeca/webeis.nsf/EIS01/3D721251EAF1A4C285257BEB001BFA66"
       ]
      },
      {
       "output_type": "stream",
       "stream": "stdout",
       "text": [
        "\n",
        "Getting # 4803: http://yosemite.epa.gov/oeca/webeis.nsf/EIS01/69DEFE8C834A5B9285257BEB001BFA0D"
       ]
      },
      {
       "output_type": "stream",
       "stream": "stdout",
       "text": [
        "\n",
        "Getting # 4804: http://yosemite.epa.gov/oeca/webeis.nsf/EIS01/EB216FE90B12D91D85257BEB001BFAC2"
       ]
      },
      {
       "output_type": "stream",
       "stream": "stdout",
       "text": [
        "\n",
        "Getting # 4804: http://yosemite.epa.gov/oeca/webeis.nsf/EIS01/A683016424FDBB0685257BEB001BFABC"
       ]
      },
      {
       "output_type": "stream",
       "stream": "stdout",
       "text": [
        "\n",
        "Getting # 4804: http://yosemite.epa.gov/oeca/webeis.nsf/EIS01/3DD2728D4C365DC285257BEB001BF94A"
       ]
      },
      {
       "output_type": "stream",
       "stream": "stdout",
       "text": [
        "\n",
        "Getting # 4804: http://yosemite.epa.gov/oeca/webeis.nsf/EIS01/AE6B2F0784A2204085257BEB001BFA01"
       ]
      },
      {
       "output_type": "stream",
       "stream": "stdout",
       "text": [
        "\n",
        "Getting # 4804: http://yosemite.epa.gov/oeca/webeis.nsf/EIS01/F018E62FC5CA23BA85257BEB001BF96B"
       ]
      },
      {
       "output_type": "stream",
       "stream": "stdout",
       "text": [
        "\n",
        "Getting # 4804: http://yosemite.epa.gov/oeca/webeis.nsf/EIS01/2770B65A932A168385257BEB001BF939"
       ]
      },
      {
       "output_type": "stream",
       "stream": "stdout",
       "text": [
        "\n",
        "Getting # 4804: http://yosemite.epa.gov/oeca/webeis.nsf/EIS01/E781ED54AC14DBC585257BEB001BF9B3"
       ]
      },
      {
       "output_type": "stream",
       "stream": "stdout",
       "text": [
        "\n",
        "Getting # 4806: http://yosemite.epa.gov/oeca/webeis.nsf/EIS01/90DFA22A78FA435285257BEB001BF9FC"
       ]
      },
      {
       "output_type": "stream",
       "stream": "stdout",
       "text": [
        "\n",
        "Getting # 4806: http://yosemite.epa.gov/oeca/webeis.nsf/EIS01/BEDC7FF2E5270F9285257BEB001BF9F3"
       ]
      },
      {
       "output_type": "stream",
       "stream": "stdout",
       "text": [
        "\n",
        "Getting # 4806: http://yosemite.epa.gov/oeca/webeis.nsf/EIS01/12F0F47AC0D1FC1185257BEB001BF8DB"
       ]
      },
      {
       "output_type": "stream",
       "stream": "stdout",
       "text": [
        "\n",
        "Getting # 4808: http://yosemite.epa.gov/oeca/webeis.nsf/EIS01/7FD2FAE65A49E55885257BEB001BF8BC"
       ]
      },
      {
       "output_type": "stream",
       "stream": "stdout",
       "text": [
        "\n",
        "Getting # 4808: http://yosemite.epa.gov/oeca/webeis.nsf/EIS01/84D2519BE2405A6685257BEB001BF8CD"
       ]
      },
      {
       "output_type": "stream",
       "stream": "stdout",
       "text": [
        "\n",
        "Getting # 4808: http://yosemite.epa.gov/oeca/webeis.nsf/EIS01/B31ECE2E25BAC6C785257B5F001B9461"
       ]
      },
      {
       "output_type": "stream",
       "stream": "stdout",
       "text": [
        "\n",
        "Getting # 4808: http://yosemite.epa.gov/oeca/webeis.nsf/EIS01/131B432466C7AA6D85257BEB001BF853"
       ]
      },
      {
       "output_type": "stream",
       "stream": "stdout",
       "text": [
        "\n",
        "Getting # 4808: http://yosemite.epa.gov/oeca/webeis.nsf/EIS01/323E9E88A28B69E185257BEB001BF8A4"
       ]
      },
      {
       "output_type": "stream",
       "stream": "stdout",
       "text": [
        "\n",
        "Getting # 4808: http://yosemite.epa.gov/oeca/webeis.nsf/EIS01/51E62E7AB259EC3885257BEB001BF8A7"
       ]
      },
      {
       "output_type": "stream",
       "stream": "stdout",
       "text": [
        "\n",
        "Getting # 4808: http://yosemite.epa.gov/oeca/webeis.nsf/EIS01/8AFA87C8833DD68885257BEB001BF850"
       ]
      },
      {
       "output_type": "stream",
       "stream": "stdout",
       "text": [
        "\n",
        "Getting # 4808: http://yosemite.epa.gov/oeca/webeis.nsf/EIS01/DA55B03DA7E5082E85257BEB001BF84D"
       ]
      },
      {
       "output_type": "stream",
       "stream": "stdout",
       "text": [
        "\n",
        "Getting # 4808: http://yosemite.epa.gov/oeca/webeis.nsf/EIS01/DEF50C7C2461440F85257BEB001BF7E6"
       ]
      },
      {
       "output_type": "stream",
       "stream": "stdout",
       "text": [
        "\n",
        "Getting # 4808: http://yosemite.epa.gov/oeca/webeis.nsf/EIS01/3D5A38394E3D425885257BEB001BF7F8"
       ]
      },
      {
       "output_type": "stream",
       "stream": "stdout",
       "text": [
        "\n",
        "Getting # 4808: http://yosemite.epa.gov/oeca/webeis.nsf/EIS01/3D832770407A69AC85257BEB001BF83C"
       ]
      },
      {
       "output_type": "stream",
       "stream": "stdout",
       "text": [
        "\n",
        "Getting # 4808: http://yosemite.epa.gov/oeca/webeis.nsf/EIS01/C440AA8F713BFEBF85257BEB001BF834"
       ]
      },
      {
       "output_type": "stream",
       "stream": "stdout",
       "text": [
        "\n",
        "Getting # 4808: http://yosemite.epa.gov/oeca/webeis.nsf/EIS01/575A91361CFDD88A85257BEB001BF824"
       ]
      },
      {
       "output_type": "stream",
       "stream": "stdout",
       "text": [
        "\n",
        "Getting # 4808: http://yosemite.epa.gov/oeca/webeis.nsf/EIS01/1FDE8F564ED1967785257BEB001BF76C"
       ]
      },
      {
       "output_type": "stream",
       "stream": "stdout",
       "text": [
        "\n",
        "Getting # 4808: http://yosemite.epa.gov/oeca/webeis.nsf/EIS01/C731310AE45AED5285257BEB001BF751"
       ]
      },
      {
       "output_type": "stream",
       "stream": "stdout",
       "text": [
        "\n",
        "Getting # 4808: http://yosemite.epa.gov/oeca/webeis.nsf/EIS01/1F770931C9BCA35885257BEB001BF786"
       ]
      },
      {
       "output_type": "stream",
       "stream": "stdout",
       "text": [
        "\n",
        "Getting # 4810: http://yosemite.epa.gov/oeca/webeis.nsf/EIS01/32CEBB9C4D33A61A85257BEB001BF72F"
       ]
      },
      {
       "output_type": "stream",
       "stream": "stdout",
       "text": [
        "\n",
        "Getting # 4810: http://yosemite.epa.gov/oeca/webeis.nsf/EIS01/71F36B310C3E412F85257BEB001BF73A"
       ]
      },
      {
       "output_type": "stream",
       "stream": "stdout",
       "text": [
        "\n",
        "Getting # 4810: http://yosemite.epa.gov/oeca/webeis.nsf/EIS01/CD02E85B5D6BF8BF85257B2D001B8458"
       ]
      },
      {
       "output_type": "stream",
       "stream": "stdout",
       "text": [
        "\n",
        "Getting # 4810: http://yosemite.epa.gov/oeca/webeis.nsf/EIS01/23726836830BD02085257BEB001BF727"
       ]
      },
      {
       "output_type": "stream",
       "stream": "stdout",
       "text": [
        "\n",
        "Getting # 4810: http://yosemite.epa.gov/oeca/webeis.nsf/EIS01/52378835D3929BB485257BEB001BF694"
       ]
      },
      {
       "output_type": "stream",
       "stream": "stdout",
       "text": [
        "\n",
        "Getting # 4810: http://yosemite.epa.gov/oeca/webeis.nsf/EIS01/054D9F5C9F47EE4185257BEB001BF71C"
       ]
      },
      {
       "output_type": "stream",
       "stream": "stdout",
       "text": [
        "\n",
        "Getting # 4810: http://yosemite.epa.gov/oeca/webeis.nsf/EIS01/4DEB6009791EE63485257BEB001BF6A5"
       ]
      },
      {
       "output_type": "stream",
       "stream": "stdout",
       "text": [
        "\n",
        "Getting # 4811: http://yosemite.epa.gov/oeca/webeis.nsf/EIS01/85C28D0788C6E45985257BEB001BF6FE"
       ]
      },
      {
       "output_type": "stream",
       "stream": "stdout",
       "text": [
        "\n",
        "Getting # 4811: http://yosemite.epa.gov/oeca/webeis.nsf/EIS01/9743EF48E92F1A4185257BEB001BF69E"
       ]
      },
      {
       "output_type": "stream",
       "stream": "stdout",
       "text": [
        "\n",
        "Getting # 4811: http://yosemite.epa.gov/oeca/webeis.nsf/EIS01/A4EF39DEF45C479885257BEB001BF716"
       ]
      },
      {
       "output_type": "stream",
       "stream": "stdout",
       "text": [
        "\n",
        "Getting # 4811: http://yosemite.epa.gov/oeca/webeis.nsf/EIS01/0B5C2DE38C87BAFD85257BEB001BF699"
       ]
      },
      {
       "output_type": "stream",
       "stream": "stdout",
       "text": [
        "\n",
        "Getting # 4811: http://yosemite.epa.gov/oeca/webeis.nsf/EIS01/224D68112795B14285257BEB001BF6DF"
       ]
      },
      {
       "output_type": "stream",
       "stream": "stdout",
       "text": [
        "\n",
        "Getting # 4811: http://yosemite.epa.gov/oeca/webeis.nsf/EIS01/6CE186D09C2DBDE085257BEB001BF608"
       ]
      },
      {
       "output_type": "stream",
       "stream": "stdout",
       "text": [
        "\n",
        "Getting # 4811: http://yosemite.epa.gov/oeca/webeis.nsf/EIS01/8FC2700C21568FA285257BEB001BF5E0"
       ]
      },
      {
       "output_type": "stream",
       "stream": "stdout",
       "text": [
        "\n",
        "Getting # 4811: http://yosemite.epa.gov/oeca/webeis.nsf/EIS01/975635A6B873513585257BEB001BF621"
       ]
      },
      {
       "output_type": "stream",
       "stream": "stdout",
       "text": [
        "\n",
        "Getting # 4813: http://yosemite.epa.gov/oeca/webeis.nsf/EIS01/82710887F7DB2A6D85257BEB001BF68B"
       ]
      },
      {
       "output_type": "stream",
       "stream": "stdout",
       "text": [
        "\n",
        "Getting # 4813: http://yosemite.epa.gov/oeca/webeis.nsf/EIS01/04CD2ADB7EEA07CE85257BEB001BF5DA"
       ]
      },
      {
       "output_type": "stream",
       "stream": "stdout",
       "text": [
        "\n",
        "Getting # 4813: http://yosemite.epa.gov/oeca/webeis.nsf/EIS01/03B9A9395E859BC285257BEB001BF5AA"
       ]
      },
      {
       "output_type": "stream",
       "stream": "stdout",
       "text": [
        "\n",
        "Getting # 4813: http://yosemite.epa.gov/oeca/webeis.nsf/EIS01/2D20F03C08FA520485257BEB001BF5B0"
       ]
      },
      {
       "output_type": "stream",
       "stream": "stdout",
       "text": [
        "\n",
        "Getting # 4813: http://yosemite.epa.gov/oeca/webeis.nsf/EIS01/16274CD9F5634B9885257BEB001BF5CC"
       ]
      },
      {
       "output_type": "stream",
       "stream": "stdout",
       "text": [
        "\n",
        "Getting # 4813: http://yosemite.epa.gov/oeca/webeis.nsf/EIS01/2D3527C8A6B2885185257BEB001BF56D"
       ]
      },
      {
       "output_type": "stream",
       "stream": "stdout",
       "text": [
        "\n",
        "Getting # 4813: http://yosemite.epa.gov/oeca/webeis.nsf/EIS01/FAF9C50DB672FDB285257BEB001BF587"
       ]
      },
      {
       "output_type": "stream",
       "stream": "stdout",
       "text": [
        "\n",
        "Getting # 4813: http://yosemite.epa.gov/oeca/webeis.nsf/EIS01/5B60C792C793703985257BEB001BF58B"
       ]
      },
      {
       "output_type": "stream",
       "stream": "stdout",
       "text": [
        "\n",
        "Getting # 4813: http://yosemite.epa.gov/oeca/webeis.nsf/EIS01/FDA0C071CE1D9CA085257BEB001BF514"
       ]
      },
      {
       "output_type": "stream",
       "stream": "stdout",
       "text": [
        "\n",
        "Getting # 4813: http://yosemite.epa.gov/oeca/webeis.nsf/EIS01/353811140C78DF6F85257BEB001BF53E"
       ]
      },
      {
       "output_type": "stream",
       "stream": "stdout",
       "text": [
        "\n",
        "Getting # 4813: http://yosemite.epa.gov/oeca/webeis.nsf/EIS01/F8172A87B8D2E52385257BEB001BF501"
       ]
      },
      {
       "output_type": "stream",
       "stream": "stdout",
       "text": [
        "\n",
        "Getting # 4813: http://yosemite.epa.gov/oeca/webeis.nsf/EIS01/FCEEA438157DADE885257BEB001BF54A"
       ]
      },
      {
       "output_type": "stream",
       "stream": "stdout",
       "text": [
        "\n",
        "Getting # 4813: http://yosemite.epa.gov/oeca/webeis.nsf/EIS01/C120B5F10F2D664385257BEB001BF48A"
       ]
      },
      {
       "output_type": "stream",
       "stream": "stdout",
       "text": [
        "\n",
        "Getting # 4815: http://yosemite.epa.gov/oeca/webeis.nsf/EIS01/B2B5AD06868FB8CF85257BEB001BF40D"
       ]
      },
      {
       "output_type": "stream",
       "stream": "stdout",
       "text": [
        "\n",
        "Getting # 4816: http://yosemite.epa.gov/oeca/webeis.nsf/EIS01/C41FAF4582B46D0485257BEB001BF3D8"
       ]
      },
      {
       "output_type": "stream",
       "stream": "stdout",
       "text": [
        "\n",
        "Getting # 4816: http://yosemite.epa.gov/oeca/webeis.nsf/EIS01/D962FDD8EAA2A47585257BEB001BF3D5"
       ]
      },
      {
       "output_type": "stream",
       "stream": "stdout",
       "text": [
        "\n",
        "Getting # 4816: http://yosemite.epa.gov/oeca/webeis.nsf/EIS01/B8F627FEFB27469585257BEB001BF3C7"
       ]
      },
      {
       "output_type": "stream",
       "stream": "stdout",
       "text": [
        "\n",
        "Getting # 4816: http://yosemite.epa.gov/oeca/webeis.nsf/EIS01/E39BACA076FEC18885257BEB001BF3C1"
       ]
      },
      {
       "output_type": "stream",
       "stream": "stdout",
       "text": [
        "\n",
        "Getting # 4816: http://yosemite.epa.gov/oeca/webeis.nsf/EIS01/9612448624958D8885257C320021113D"
       ]
      },
      {
       "output_type": "stream",
       "stream": "stdout",
       "text": [
        "\n",
        "Getting # 4816: http://yosemite.epa.gov/oeca/webeis.nsf/EIS01/A4396B1D7647D53285257BEB001BF382"
       ]
      },
      {
       "output_type": "stream",
       "stream": "stdout",
       "text": [
        "\n",
        "Getting # 4816: http://yosemite.epa.gov/oeca/webeis.nsf/EIS01/D41B6D206D760AA585257BEB001BF37E"
       ]
      },
      {
       "output_type": "stream",
       "stream": "stdout",
       "text": [
        "\n",
        "Getting # 4816: http://yosemite.epa.gov/oeca/webeis.nsf/EIS01/0B07E49E6843031985257BEB001BF373"
       ]
      },
      {
       "output_type": "stream",
       "stream": "stdout",
       "text": [
        "\n",
        "Getting # 4816: http://yosemite.epa.gov/oeca/webeis.nsf/EIS01/5877D47745BD1F3A85257BEB001BF32F"
       ]
      },
      {
       "output_type": "stream",
       "stream": "stdout",
       "text": [
        "\n",
        "Getting # 4816: http://yosemite.epa.gov/oeca/webeis.nsf/EIS01/A129EA7F6881DC2385257BEB001BF337"
       ]
      },
      {
       "output_type": "stream",
       "stream": "stdout",
       "text": [
        "\n",
        "Getting # 4816: http://yosemite.epa.gov/oeca/webeis.nsf/EIS01/71083352FA181F3885257BEB001BF2FF"
       ]
      },
      {
       "output_type": "stream",
       "stream": "stdout",
       "text": [
        "\n",
        "Getting # 4816: http://yosemite.epa.gov/oeca/webeis.nsf/EIS01/4D6FC0CB0F40768A85257BEB001BF328"
       ]
      },
      {
       "output_type": "stream",
       "stream": "stdout",
       "text": [
        "\n",
        "Getting # 4816: http://yosemite.epa.gov/oeca/webeis.nsf/EIS01/532F02D467E171EA85257BEB001BF320"
       ]
      },
      {
       "output_type": "stream",
       "stream": "stdout",
       "text": [
        "\n",
        "Getting # 4816: http://yosemite.epa.gov/oeca/webeis.nsf/EIS01/795C4E79EE6F0FB185257BEB001BF30A"
       ]
      },
      {
       "output_type": "stream",
       "stream": "stdout",
       "text": [
        "\n",
        "Getting # 4816: http://yosemite.epa.gov/oeca/webeis.nsf/EIS01/9099ABFA64BD864785257BEB001BF2D0"
       ]
      },
      {
       "output_type": "stream",
       "stream": "stdout",
       "text": [
        "\n",
        "Getting # 4816: http://yosemite.epa.gov/oeca/webeis.nsf/EIS01/D0C355BA1817FEEA85257BEB001BF2E4"
       ]
      },
      {
       "output_type": "stream",
       "stream": "stdout",
       "text": [
        "\n",
        "Getting # 4816: http://yosemite.epa.gov/oeca/webeis.nsf/EIS01/E1654E9675D2DDEA85257AFB0020FC79"
       ]
      },
      {
       "output_type": "stream",
       "stream": "stdout",
       "text": [
        "\n",
        "Getting # 4816: http://yosemite.epa.gov/oeca/webeis.nsf/EIS01/B5D11446121B9EA885257BEB001BF2B6"
       ]
      },
      {
       "output_type": "stream",
       "stream": "stdout",
       "text": [
        "\n",
        "Getting # 4816: http://yosemite.epa.gov/oeca/webeis.nsf/EIS01/13012756EA3DDCA785257BEB001BF2C2"
       ]
      },
      {
       "output_type": "stream",
       "stream": "stdout",
       "text": [
        "\n",
        "Getting # 4816: http://yosemite.epa.gov/oeca/webeis.nsf/EIS01/69B9786687D0271785257BEB001BF2BD"
       ]
      },
      {
       "output_type": "stream",
       "stream": "stdout",
       "text": [
        "\n",
        "Getting # 4816: http://yosemite.epa.gov/oeca/webeis.nsf/EIS01/BDDF0268A5FC593B85257BEB001BF2CB"
       ]
      },
      {
       "output_type": "stream",
       "stream": "stdout",
       "text": [
        "\n",
        "Getting # 4816: http://yosemite.epa.gov/oeca/webeis.nsf/EIS01/E8D3952A2E1EC88585257BEB001BF264"
       ]
      },
      {
       "output_type": "stream",
       "stream": "stdout",
       "text": [
        "\n",
        "Getting # 4816: http://yosemite.epa.gov/oeca/webeis.nsf/EIS01/2F1FEE374B432F6585257BEB001BF2A0"
       ]
      },
      {
       "output_type": "stream",
       "stream": "stdout",
       "text": [
        "\n",
        "Getting # 4816: http://yosemite.epa.gov/oeca/webeis.nsf/EIS01/884D2285F6C0699F85257BEB001BF2AF"
       ]
      },
      {
       "output_type": "stream",
       "stream": "stdout",
       "text": [
        "\n",
        "Getting # 4816: http://yosemite.epa.gov/oeca/webeis.nsf/EIS01/CE09B7250DFFF5EE85257BEB001BF258"
       ]
      },
      {
       "output_type": "stream",
       "stream": "stdout",
       "text": [
        "\n",
        "Getting # 4816: http://yosemite.epa.gov/oeca/webeis.nsf/EIS01/D41BD6AF13A860D985257BEB001BF26C"
       ]
      },
      {
       "output_type": "stream",
       "stream": "stdout",
       "text": [
        "\n",
        "Getting # 4816: http://yosemite.epa.gov/oeca/webeis.nsf/EIS01/9B05DFFB0EC3F59485257BEB001BF235"
       ]
      },
      {
       "output_type": "stream",
       "stream": "stdout",
       "text": [
        "\n",
        "Getting # 4816: http://yosemite.epa.gov/oeca/webeis.nsf/EIS01/703A111A2005B9B085257BEB001BF1DB"
       ]
      },
      {
       "output_type": "stream",
       "stream": "stdout",
       "text": [
        "\n",
        "Getting # 4816: http://yosemite.epa.gov/oeca/webeis.nsf/EIS01/B4166BAB1B28170685257BEB001BF1F1"
       ]
      },
      {
       "output_type": "stream",
       "stream": "stdout",
       "text": [
        "\n",
        "Getting # 4816: http://yosemite.epa.gov/oeca/webeis.nsf/EIS01/14BF8ACBAF142B3C85257BEB001BF1B1"
       ]
      },
      {
       "output_type": "stream",
       "stream": "stdout",
       "text": [
        "\n",
        "Getting # 4816: http://yosemite.epa.gov/oeca/webeis.nsf/EIS01/37F70D8FE5189D6185257BEB001BF1BC"
       ]
      },
      {
       "output_type": "stream",
       "stream": "stdout",
       "text": [
        "\n",
        "Getting # 4816: http://yosemite.epa.gov/oeca/webeis.nsf/EIS01/E7D56FD43313467685257BEB001BF175"
       ]
      },
      {
       "output_type": "stream",
       "stream": "stdout",
       "text": [
        "\n",
        "Getting # 4816: http://yosemite.epa.gov/oeca/webeis.nsf/EIS01/51CF0252DC96B85B85257BEB001BF1A4"
       ]
      },
      {
       "output_type": "stream",
       "stream": "stdout",
       "text": [
        "\n",
        "Getting # 4816: http://yosemite.epa.gov/oeca/webeis.nsf/EIS01/69AFB8BC29BFB4C785257BEB001BF17B"
       ]
      },
      {
       "output_type": "stream",
       "stream": "stdout",
       "text": [
        "\n",
        "Getting # 4816: http://yosemite.epa.gov/oeca/webeis.nsf/EIS01/A530623D1EAD3CEF85257BEB001BF190"
       ]
      },
      {
       "output_type": "stream",
       "stream": "stdout",
       "text": [
        "\n",
        "Getting # 4816: http://yosemite.epa.gov/oeca/webeis.nsf/EIS01/F75C381B1603D22B85257BEB001BF19C"
       ]
      },
      {
       "output_type": "stream",
       "stream": "stdout",
       "text": [
        "\n",
        "Getting # 4816: http://yosemite.epa.gov/oeca/webeis.nsf/EIS01/982F8128BE49261885257BEB001BF199"
       ]
      },
      {
       "output_type": "stream",
       "stream": "stdout",
       "text": [
        "\n",
        "Getting # 4816: http://yosemite.epa.gov/oeca/webeis.nsf/EIS01/A41860117019D04C85257BEB001BF134"
       ]
      },
      {
       "output_type": "stream",
       "stream": "stdout",
       "text": [
        "\n",
        "Getting # 4816: http://yosemite.epa.gov/oeca/webeis.nsf/EIS01/5BB80622E5BAA7AA85257BEB001BF0AC"
       ]
      },
      {
       "output_type": "stream",
       "stream": "stdout",
       "text": [
        "\n",
        "Getting # 4816: http://yosemite.epa.gov/oeca/webeis.nsf/EIS01/752B1A1830BE2D4785257BEB001BF102"
       ]
      },
      {
       "output_type": "stream",
       "stream": "stdout",
       "text": [
        "\n",
        "Getting # 4816: http://yosemite.epa.gov/oeca/webeis.nsf/EIS01/A5A62EC8AF544AA985257BEB001BF0C3"
       ]
      },
      {
       "output_type": "stream",
       "stream": "stdout",
       "text": [
        "\n",
        "Getting # 4816: http://yosemite.epa.gov/oeca/webeis.nsf/EIS01/2AA41342618B17C285257BEB001BF06D"
       ]
      },
      {
       "output_type": "stream",
       "stream": "stdout",
       "text": [
        "\n",
        "Getting # 4816: http://yosemite.epa.gov/oeca/webeis.nsf/EIS01/B8F1DCBF3930F0D485257BEB001BF070"
       ]
      },
      {
       "output_type": "stream",
       "stream": "stdout",
       "text": [
        "\n",
        "Getting # 4816: http://yosemite.epa.gov/oeca/webeis.nsf/EIS01/D0A34F057FC887F385257BEB001BF085"
       ]
      },
      {
       "output_type": "stream",
       "stream": "stdout",
       "text": [
        "\n",
        "Getting # 4816: http://yosemite.epa.gov/oeca/webeis.nsf/EIS01/494F703B30A7C02B85257BEB001BF094"
       ]
      },
      {
       "output_type": "stream",
       "stream": "stdout",
       "text": [
        "\n",
        "Getting # 4816: http://yosemite.epa.gov/oeca/webeis.nsf/EIS01/F36134D6AD25F20E85257BEB001BF03E"
       ]
      },
      {
       "output_type": "stream",
       "stream": "stdout",
       "text": [
        "\n",
        "Getting # 4816: http://yosemite.epa.gov/oeca/webeis.nsf/EIS01/5DDAF67D33DFF5E085257BEB001BEFD2"
       ]
      },
      {
       "output_type": "stream",
       "stream": "stdout",
       "text": [
        "\n",
        "Getting # 4816: http://yosemite.epa.gov/oeca/webeis.nsf/EIS01/716BD69E88A9F69E85257BEB001BEFC1"
       ]
      },
      {
       "output_type": "stream",
       "stream": "stdout",
       "text": [
        "\n",
        "Getting # 4816: http://yosemite.epa.gov/oeca/webeis.nsf/EIS01/ACDD5CA6DF36611085257BEB001BF019"
       ]
      },
      {
       "output_type": "stream",
       "stream": "stdout",
       "text": [
        "\n",
        "Getting # 4816: http://yosemite.epa.gov/oeca/webeis.nsf/EIS01/6F643ED3C3F50BA385257BEB001BEF30"
       ]
      },
      {
       "output_type": "stream",
       "stream": "stdout",
       "text": [
        "\n",
        "Getting # 4816: http://yosemite.epa.gov/oeca/webeis.nsf/EIS01/704292E5F661AA9785257BEB001BEF32"
       ]
      },
      {
       "output_type": "stream",
       "stream": "stdout",
       "text": [
        "\n",
        "Getting # 4816: http://yosemite.epa.gov/oeca/webeis.nsf/EIS01/AC4089D631AEC03685257BEB001BEF81"
       ]
      },
      {
       "output_type": "stream",
       "stream": "stdout",
       "text": [
        "\n",
        "Getting # 4816: http://yosemite.epa.gov/oeca/webeis.nsf/EIS01/DD76249F5BDFC8FC85257BEB001BEF27"
       ]
      },
      {
       "output_type": "stream",
       "stream": "stdout",
       "text": [
        "\n",
        "Getting # 4816: http://yosemite.epa.gov/oeca/webeis.nsf/EIS01/75739C5D9595F33285257BEB001BEEE3"
       ]
      },
      {
       "output_type": "stream",
       "stream": "stdout",
       "text": [
        "\n",
        "Getting # 4816: http://yosemite.epa.gov/oeca/webeis.nsf/EIS01/1DE53E15ED1673FE85257BEB001BEEE5"
       ]
      },
      {
       "output_type": "stream",
       "stream": "stdout",
       "text": [
        "\n",
        "Getting # 4816: http://yosemite.epa.gov/oeca/webeis.nsf/EIS01/CD73844604FCBD8185257BEB001BEEC1"
       ]
      },
      {
       "output_type": "stream",
       "stream": "stdout",
       "text": [
        "\n",
        "Getting # 4816: http://yosemite.epa.gov/oeca/webeis.nsf/EIS01/F962959152D4C4CC85257BEB001BEEEE"
       ]
      },
      {
       "output_type": "stream",
       "stream": "stdout",
       "text": [
        "\n",
        "Getting # 4816: http://yosemite.epa.gov/oeca/webeis.nsf/EIS01/1F7556C688CE4E5085257C01001B93A4"
       ]
      },
      {
       "output_type": "stream",
       "stream": "stdout",
       "text": [
        "\n",
        "Getting # 4816: http://yosemite.epa.gov/oeca/webeis.nsf/EIS01/DC73422716CFFC8085257BEB001BEEB8"
       ]
      },
      {
       "output_type": "stream",
       "stream": "stdout",
       "text": [
        "\n",
        "Getting # 4816: http://yosemite.epa.gov/oeca/webeis.nsf/EIS01/FF49FA36EE944DBA85257BEB001BEE76"
       ]
      },
      {
       "output_type": "stream",
       "stream": "stdout",
       "text": [
        "\n",
        "Getting # 4816: http://yosemite.epa.gov/oeca/webeis.nsf/EIS01/98EED742AA233C2285257BEB001BEE5D"
       ]
      },
      {
       "output_type": "stream",
       "stream": "stdout",
       "text": [
        "\n",
        "Getting # 4816: http://yosemite.epa.gov/oeca/webeis.nsf/EIS01/A66E4F63CE0306D385257BEB001BEE4C"
       ]
      },
      {
       "output_type": "stream",
       "stream": "stdout",
       "text": [
        "\n",
        "Getting # 4816: http://yosemite.epa.gov/oeca/webeis.nsf/EIS01/EA9021C837E25B4D85257BEB001BEE89"
       ]
      },
      {
       "output_type": "stream",
       "stream": "stdout",
       "text": [
        "\n",
        "Getting # 4816: http://yosemite.epa.gov/oeca/webeis.nsf/EIS01/68BF88B61D9E5C0885257BEB001BEE07"
       ]
      },
      {
       "output_type": "stream",
       "stream": "stdout",
       "text": [
        "\n",
        "Getting # 4816: http://yosemite.epa.gov/oeca/webeis.nsf/EIS01/EC809E7914FD84AE85257BEB001BEDE9"
       ]
      },
      {
       "output_type": "stream",
       "stream": "stdout",
       "text": [
        "\n",
        "Getting # 4816: http://yosemite.epa.gov/oeca/webeis.nsf/EIS01/A86A90AC2452C8CA85257BEB001BEDC9"
       ]
      },
      {
       "output_type": "stream",
       "stream": "stdout",
       "text": [
        "\n",
        "Getting # 4816: http://yosemite.epa.gov/oeca/webeis.nsf/EIS01/2C42BD457336DF6B85257BEB001BEDC2"
       ]
      },
      {
       "output_type": "stream",
       "stream": "stdout",
       "text": [
        "\n",
        "Getting # 4816: http://yosemite.epa.gov/oeca/webeis.nsf/EIS01/845D951ABF9037DA85257BEB001BED70"
       ]
      },
      {
       "output_type": "stream",
       "stream": "stdout",
       "text": [
        "\n",
        "Getting # 4816: http://yosemite.epa.gov/oeca/webeis.nsf/EIS01/968DAB4F7026957185257BEB001BED45"
       ]
      },
      {
       "output_type": "stream",
       "stream": "stdout",
       "text": [
        "\n",
        "Getting # 4816: http://yosemite.epa.gov/oeca/webeis.nsf/EIS01/02D695E4307DE36A85257BEB001BED3E"
       ]
      },
      {
       "output_type": "stream",
       "stream": "stdout",
       "text": [
        "\n",
        "Getting # 4816: http://yosemite.epa.gov/oeca/webeis.nsf/EIS01/3D854FF27E14312485257BEB001BED69"
       ]
      },
      {
       "output_type": "stream",
       "stream": "stdout",
       "text": [
        "\n",
        "Getting # 4816: http://yosemite.epa.gov/oeca/webeis.nsf/EIS01/C144760162C1BFF085257C3600210328"
       ]
      },
      {
       "output_type": "stream",
       "stream": "stdout",
       "text": [
        "\n",
        "Getting # 4816: http://yosemite.epa.gov/oeca/webeis.nsf/EIS01/F01562B573307CE385257BEB001BECD8"
       ]
      },
      {
       "output_type": "stream",
       "stream": "stdout",
       "text": [
        "\n",
        "Getting # 4816: http://yosemite.epa.gov/oeca/webeis.nsf/EIS01/ADA0116EDA356E1185257BEB001BECCA"
       ]
      },
      {
       "output_type": "stream",
       "stream": "stdout",
       "text": [
        "\n",
        "Getting # 4816: http://yosemite.epa.gov/oeca/webeis.nsf/EIS01/BBDA415D5F57C64085257BEB001BECDE"
       ]
      },
      {
       "output_type": "stream",
       "stream": "stdout",
       "text": [
        "\n",
        "Getting # 4816: http://yosemite.epa.gov/oeca/webeis.nsf/EIS01/5BC0FC1D979234D985257BEB001BECB2"
       ]
      },
      {
       "output_type": "stream",
       "stream": "stdout",
       "text": [
        "\n",
        "Getting # 4816: http://yosemite.epa.gov/oeca/webeis.nsf/EIS01/EE7070BF196401EC85257BEB001BEC8D"
       ]
      },
      {
       "output_type": "stream",
       "stream": "stdout",
       "text": [
        "\n",
        "Getting # 4816: http://yosemite.epa.gov/oeca/webeis.nsf/EIS01/B590028B024BDB1385257BEB001BECB7"
       ]
      },
      {
       "output_type": "stream",
       "stream": "stdout",
       "text": [
        "\n",
        "Getting # 4816: http://yosemite.epa.gov/oeca/webeis.nsf/EIS01/8A1FB1C897D28A6585257BEB001BEC37"
       ]
      },
      {
       "output_type": "stream",
       "stream": "stdout",
       "text": [
        "\n",
        "Getting # 4816: http://yosemite.epa.gov/oeca/webeis.nsf/EIS01/D950FA84E2C2721F85257BEB001BEC50"
       ]
      },
      {
       "output_type": "stream",
       "stream": "stdout",
       "text": [
        "\n",
        "Getting # 4816: http://yosemite.epa.gov/oeca/webeis.nsf/EIS01/DC4FE90697880AA185257BEB001BEC31"
       ]
      },
      {
       "output_type": "stream",
       "stream": "stdout",
       "text": [
        "\n",
        "Getting # 4816: http://yosemite.epa.gov/oeca/webeis.nsf/EIS01/BDCFF14CED0D282F85257BEB001BEC45"
       ]
      },
      {
       "output_type": "stream",
       "stream": "stdout",
       "text": [
        "\n",
        "Getting # 4816: http://yosemite.epa.gov/oeca/webeis.nsf/EIS01/811D931B3C3FE6F385257BEB001BEC2B"
       ]
      },
      {
       "output_type": "stream",
       "stream": "stdout",
       "text": [
        "\n",
        "Getting # 4816: http://yosemite.epa.gov/oeca/webeis.nsf/EIS01/866D521A8AE07CF585257BEB001BEC2C"
       ]
      },
      {
       "output_type": "stream",
       "stream": "stdout",
       "text": [
        "\n",
        "Getting # 4816: http://yosemite.epa.gov/oeca/webeis.nsf/EIS01/08A946B330812B0785257BEB001BEB90"
       ]
      },
      {
       "output_type": "stream",
       "stream": "stdout",
       "text": [
        "\n",
        "Getting # 4816: http://yosemite.epa.gov/oeca/webeis.nsf/EIS01/6CB90D83CDF39D7585257BEB001BEB9C"
       ]
      },
      {
       "output_type": "stream",
       "stream": "stdout",
       "text": [
        "\n",
        "Getting # 4816: http://yosemite.epa.gov/oeca/webeis.nsf/EIS01/AB6937FD867B3D4585257BEB001BEB7F"
       ]
      },
      {
       "output_type": "stream",
       "stream": "stdout",
       "text": [
        "\n",
        "Getting # 4816: http://yosemite.epa.gov/oeca/webeis.nsf/EIS01/9B902342B2129CEB85257BEB001BEB83"
       ]
      },
      {
       "output_type": "stream",
       "stream": "stdout",
       "text": [
        "\n",
        "Getting # 4816: http://yosemite.epa.gov/oeca/webeis.nsf/EIS01/53D66B4136F0E34E85257BEB001BEB78"
       ]
      },
      {
       "output_type": "stream",
       "stream": "stdout",
       "text": [
        "\n",
        "Getting # 4816: http://yosemite.epa.gov/oeca/webeis.nsf/EIS01/9F3255C7F7421B8085257BEB001BEB1B"
       ]
      },
      {
       "output_type": "stream",
       "stream": "stdout",
       "text": [
        "\n",
        "Getting # 4816: http://yosemite.epa.gov/oeca/webeis.nsf/EIS01/B3908D33419BD7B685257BEB001BEB2C"
       ]
      },
      {
       "output_type": "stream",
       "stream": "stdout",
       "text": [
        "\n",
        "Getting # 4816: http://yosemite.epa.gov/oeca/webeis.nsf/EIS01/DE2338FE03E1F2B685257BEB001BEB18"
       ]
      },
      {
       "output_type": "stream",
       "stream": "stdout",
       "text": [
        "\n",
        "Getting # 4816: http://yosemite.epa.gov/oeca/webeis.nsf/EIS01/125E2CAB6582AB4985257BEB001BEAFF"
       ]
      },
      {
       "output_type": "stream",
       "stream": "stdout",
       "text": [
        "\n",
        "Getting # 4816: http://yosemite.epa.gov/oeca/webeis.nsf/EIS01/7615107682613C8A85257BEB001BEB10"
       ]
      },
      {
       "output_type": "stream",
       "stream": "stdout",
       "text": [
        "\n",
        "Getting # 4816: http://yosemite.epa.gov/oeca/webeis.nsf/EIS01/8E3202EA00AE604B85257BEB001BEA9F"
       ]
      },
      {
       "output_type": "stream",
       "stream": "stdout",
       "text": [
        "\n",
        "Getting # 4816: http://yosemite.epa.gov/oeca/webeis.nsf/EIS01/9E6458D779F5F45F85257BEB001BEA99"
       ]
      },
      {
       "output_type": "stream",
       "stream": "stdout",
       "text": [
        "\n",
        "Getting # 4816: http://yosemite.epa.gov/oeca/webeis.nsf/EIS01/7DB8B0E54132158985257BEB001BEA7B"
       ]
      },
      {
       "output_type": "stream",
       "stream": "stdout",
       "text": [
        "\n",
        "Getting # 4816: http://yosemite.epa.gov/oeca/webeis.nsf/EIS01/8459D64918E8BC9585257BEB001BEA8C"
       ]
      },
      {
       "output_type": "stream",
       "stream": "stdout",
       "text": [
        "\n",
        "Getting # 4816: http://yosemite.epa.gov/oeca/webeis.nsf/EIS01/08B1ADBF61FEBED285257BEB001BEA0F"
       ]
      },
      {
       "output_type": "stream",
       "stream": "stdout",
       "text": [
        "\n",
        "Getting # 4816: http://yosemite.epa.gov/oeca/webeis.nsf/EIS01/54AD60727D360B2285257BEB001BEA43"
       ]
      },
      {
       "output_type": "stream",
       "stream": "stdout",
       "text": [
        "\n",
        "Getting # 4816: http://yosemite.epa.gov/oeca/webeis.nsf/EIS01/C0A106292E03128985257BEB001BE9D7"
       ]
      },
      {
       "output_type": "stream",
       "stream": "stdout",
       "text": [
        "\n",
        "Getting # 4816: http://yosemite.epa.gov/oeca/webeis.nsf/EIS01/01B25751E96EC33A85257BEB001BE9EF"
       ]
      },
      {
       "output_type": "stream",
       "stream": "stdout",
       "text": [
        "\n",
        "Getting # 4816: http://yosemite.epa.gov/oeca/webeis.nsf/EIS01/3220EF96E0A520F985257BEB001BE9DF"
       ]
      },
      {
       "output_type": "stream",
       "stream": "stdout",
       "text": [
        "\n",
        "Getting # 4816: http://yosemite.epa.gov/oeca/webeis.nsf/EIS01/7AB7EE0E6C1A7ADE85257BEB001BE9B5"
       ]
      },
      {
       "output_type": "stream",
       "stream": "stdout",
       "text": [
        "\n",
        "Getting # 4816: http://yosemite.epa.gov/oeca/webeis.nsf/EIS01/CB5D3A2159FF3A4785257BEB001BE9E5"
       ]
      },
      {
       "output_type": "stream",
       "stream": "stdout",
       "text": [
        "\n",
        "Getting # 4816: http://yosemite.epa.gov/oeca/webeis.nsf/EIS01/FBFD93C900EAFEF785257BEB001BE9B0"
       ]
      },
      {
       "output_type": "stream",
       "stream": "stdout",
       "text": [
        "\n",
        "Getting # 4816: http://yosemite.epa.gov/oeca/webeis.nsf/EIS01/A2800522F84D9AF585257BEB001BE9F3"
       ]
      },
      {
       "output_type": "stream",
       "stream": "stdout",
       "text": [
        "\n",
        "Getting # 4816: http://yosemite.epa.gov/oeca/webeis.nsf/EIS01/1F45D11B3716CFFD85257BEB001BE994"
       ]
      },
      {
       "output_type": "stream",
       "stream": "stdout",
       "text": [
        "\n",
        "Getting # 4816: http://yosemite.epa.gov/oeca/webeis.nsf/EIS01/7E66452E3C049ED385257BEB001BE986"
       ]
      },
      {
       "output_type": "stream",
       "stream": "stdout",
       "text": [
        "\n",
        "Getting # 4816: http://yosemite.epa.gov/oeca/webeis.nsf/EIS01/8589B338CAFA616485257BEB001BE9AB"
       ]
      },
      {
       "output_type": "stream",
       "stream": "stdout",
       "text": [
        "\n",
        "Getting # 4816: http://yosemite.epa.gov/oeca/webeis.nsf/EIS01/AE020D4D8D69D8E585257BEB001BE99F"
       ]
      },
      {
       "output_type": "stream",
       "stream": "stdout",
       "text": [
        "\n",
        "Getting # 4816: http://yosemite.epa.gov/oeca/webeis.nsf/EIS01/C19F3C9E8C70B57185257BEB001BE9A7"
       ]
      },
      {
       "output_type": "stream",
       "stream": "stdout",
       "text": [
        "\n",
        "Getting # 4816: http://yosemite.epa.gov/oeca/webeis.nsf/EIS01/FFEC1999B420642F85257BEB001BE954"
       ]
      },
      {
       "output_type": "stream",
       "stream": "stdout",
       "text": [
        "\n",
        "Getting # 4816: http://yosemite.epa.gov/oeca/webeis.nsf/EIS01/46DCF57D094EEDD085257BEB001BE965"
       ]
      },
      {
       "output_type": "stream",
       "stream": "stdout",
       "text": [
        "\n",
        "Getting # 4816: http://yosemite.epa.gov/oeca/webeis.nsf/EIS01/12AC261DD63E34DB85257BEB001BE95A"
       ]
      },
      {
       "output_type": "stream",
       "stream": "stdout",
       "text": [
        "\n",
        "Getting # 4816: http://yosemite.epa.gov/oeca/webeis.nsf/EIS01/20835B4AB31B115185257BEB001BE93D"
       ]
      },
      {
       "output_type": "stream",
       "stream": "stdout",
       "text": [
        "\n",
        "Getting # 4816: http://yosemite.epa.gov/oeca/webeis.nsf/EIS01/3A70CF98077EF4A385257BEB001BE938"
       ]
      },
      {
       "output_type": "stream",
       "stream": "stdout",
       "text": [
        "\n",
        "Getting # 4816: http://yosemite.epa.gov/oeca/webeis.nsf/EIS01/4D9D2625167F28F185257BEB001BE911"
       ]
      },
      {
       "output_type": "stream",
       "stream": "stdout",
       "text": [
        "\n",
        "Getting # 4816: http://yosemite.epa.gov/oeca/webeis.nsf/EIS01/8DF0710C576C7EDE85257BEB001BE90C"
       ]
      },
      {
       "output_type": "stream",
       "stream": "stdout",
       "text": [
        "\n",
        "Getting # 4816: http://yosemite.epa.gov/oeca/webeis.nsf/EIS01/E5F774DEC72C5B0685257BEB001BE903"
       ]
      },
      {
       "output_type": "stream",
       "stream": "stdout",
       "text": [
        "\n",
        "Getting # 4816: http://yosemite.epa.gov/oeca/webeis.nsf/EIS01/12DBF2AB1D7456D785257BEB001BE8EE"
       ]
      },
      {
       "output_type": "stream",
       "stream": "stdout",
       "text": [
        "\n",
        "Getting # 4816: http://yosemite.epa.gov/oeca/webeis.nsf/EIS01/1460A012E3FCC07A85257BEB001BE8ED"
       ]
      },
      {
       "output_type": "stream",
       "stream": "stdout",
       "text": [
        "\n",
        "Getting # 4816: http://yosemite.epa.gov/oeca/webeis.nsf/EIS01/307663E2F622FD8E85257BEB001BE8E3"
       ]
      },
      {
       "output_type": "stream",
       "stream": "stdout",
       "text": [
        "\n",
        "Getting # 4816: http://yosemite.epa.gov/oeca/webeis.nsf/EIS01/61FE00150A2C0C2785257BEB001BE8F2"
       ]
      },
      {
       "output_type": "stream",
       "stream": "stdout",
       "text": [
        "\n",
        "Getting # 4816: http://yosemite.epa.gov/oeca/webeis.nsf/EIS01/817B3A66FE98027285257BEB001BE907"
       ]
      },
      {
       "output_type": "stream",
       "stream": "stdout",
       "text": [
        "\n",
        "Getting # 4816: http://yosemite.epa.gov/oeca/webeis.nsf/EIS01/42F0AF158003B2EF85257BEB001BE8C6"
       ]
      },
      {
       "output_type": "stream",
       "stream": "stdout",
       "text": [
        "\n",
        "Getting # 4816: http://yosemite.epa.gov/oeca/webeis.nsf/EIS01/CC51F009166ADCAF85257BEB001BE8AB"
       ]
      },
      {
       "output_type": "stream",
       "stream": "stdout",
       "text": [
        "\n",
        "Getting # 4816: http://yosemite.epa.gov/oeca/webeis.nsf/EIS01/BDA73213FC96D1D485257BEB001BE8D9"
       ]
      },
      {
       "output_type": "stream",
       "stream": "stdout",
       "text": [
        "\n",
        "Getting # 4816: http://yosemite.epa.gov/oeca/webeis.nsf/EIS01/53A405DE87C1645185257BEB001BE820"
       ]
      },
      {
       "output_type": "stream",
       "stream": "stdout",
       "text": [
        "\n",
        "Getting # 4816: http://yosemite.epa.gov/oeca/webeis.nsf/EIS01/C11258DC9070747185257BEB001BE85A"
       ]
      },
      {
       "output_type": "stream",
       "stream": "stdout",
       "text": [
        "\n",
        "Getting # 4816: http://yosemite.epa.gov/oeca/webeis.nsf/EIS01/D247F76BF3428E4885257BEB001BE822"
       ]
      },
      {
       "output_type": "stream",
       "stream": "stdout",
       "text": [
        "\n",
        "Getting # 4816: http://yosemite.epa.gov/oeca/webeis.nsf/EIS01/19624FB4F44731E385257BEB001BE80F"
       ]
      },
      {
       "output_type": "stream",
       "stream": "stdout",
       "text": [
        "\n",
        "Getting # 4816: http://yosemite.epa.gov/oeca/webeis.nsf/EIS01/47824D5FC41A930185257BEB001BE7FF"
       ]
      },
      {
       "output_type": "stream",
       "stream": "stdout",
       "text": [
        "\n",
        "Getting # 4816: http://yosemite.epa.gov/oeca/webeis.nsf/EIS01/3D5447111C274EA185257BEB001BE7ED"
       ]
      },
      {
       "output_type": "stream",
       "stream": "stdout",
       "text": [
        "\n",
        "Getting # 4816: http://yosemite.epa.gov/oeca/webeis.nsf/EIS01/C3742657363274F085257BEB001BE801"
       ]
      },
      {
       "output_type": "stream",
       "stream": "stdout",
       "text": [
        "\n",
        "Getting # 4816: http://yosemite.epa.gov/oeca/webeis.nsf/EIS01/ED283EE225DAA6D585257BEB001BE790"
       ]
      },
      {
       "output_type": "stream",
       "stream": "stdout",
       "text": [
        "\n",
        "Getting # 4816: http://yosemite.epa.gov/oeca/webeis.nsf/EIS01/78AE9175452A21E085257BEB001BE787"
       ]
      },
      {
       "output_type": "stream",
       "stream": "stdout",
       "text": [
        "\n",
        "Getting # 4816: http://yosemite.epa.gov/oeca/webeis.nsf/EIS01/BE0628B105750D0585257BEB001BE765"
       ]
      },
      {
       "output_type": "stream",
       "stream": "stdout",
       "text": [
        "\n",
        "Getting # 4816: http://yosemite.epa.gov/oeca/webeis.nsf/EIS01/0E177F8A65E1A61285257BEB001BE736"
       ]
      },
      {
       "output_type": "stream",
       "stream": "stdout",
       "text": [
        "\n",
        "Getting # 4816: http://yosemite.epa.gov/oeca/webeis.nsf/EIS01/1315D5C348906F6E85257BEB001BE6E0"
       ]
      },
      {
       "output_type": "stream",
       "stream": "stdout",
       "text": [
        "\n",
        "Getting # 4816: http://yosemite.epa.gov/oeca/webeis.nsf/EIS01/3783D13AA3D3CA6385257BEB001BE733"
       ]
      },
      {
       "output_type": "stream",
       "stream": "stdout",
       "text": [
        "\n",
        "Getting # 4816: http://yosemite.epa.gov/oeca/webeis.nsf/EIS01/ECC778594C984B9F85257BEB001BE6E5"
       ]
      },
      {
       "output_type": "stream",
       "stream": "stdout",
       "text": [
        "\n",
        "Getting # 4816: http://yosemite.epa.gov/oeca/webeis.nsf/EIS01/CD7CC78F71FD7CD685257BEB001BE726"
       ]
      },
      {
       "output_type": "stream",
       "stream": "stdout",
       "text": [
        "\n",
        "Getting # 4816: http://yosemite.epa.gov/oeca/webeis.nsf/EIS01/4C4F7F000DA47BB585257BEB001BE6AF"
       ]
      },
      {
       "output_type": "stream",
       "stream": "stdout",
       "text": [
        "\n",
        "Getting # 4816: http://yosemite.epa.gov/oeca/webeis.nsf/EIS01/6B5AFE1280062B8985257BEB001BE6B3"
       ]
      },
      {
       "output_type": "stream",
       "stream": "stdout",
       "text": [
        "\n",
        "Getting # 4816: http://yosemite.epa.gov/oeca/webeis.nsf/EIS01/B6D49DC506A7482E85257BEB001BE6B6"
       ]
      },
      {
       "output_type": "stream",
       "stream": "stdout",
       "text": [
        "\n",
        "Getting # 4816: http://yosemite.epa.gov/oeca/webeis.nsf/EIS01/D0548C8FCB3D3DA285257BEB001BE6DA"
       ]
      },
      {
       "output_type": "stream",
       "stream": "stdout",
       "text": [
        "\n",
        "Getting # 4816: http://yosemite.epa.gov/oeca/webeis.nsf/EIS01/BDA417108389CF8C85257BEB001BE688"
       ]
      },
      {
       "output_type": "stream",
       "stream": "stdout",
       "text": [
        "\n",
        "Getting # 4816: http://yosemite.epa.gov/oeca/webeis.nsf/EIS01/FD72750B0C5D4D0085257BEB001BE67A"
       ]
      },
      {
       "output_type": "stream",
       "stream": "stdout",
       "text": [
        "\n",
        "Getting # 4816: http://yosemite.epa.gov/oeca/webeis.nsf/EIS01/1414ADCC0B9A671D85257BEB001BE67F"
       ]
      },
      {
       "output_type": "stream",
       "stream": "stdout",
       "text": [
        "\n",
        "Getting # 4816: http://yosemite.epa.gov/oeca/webeis.nsf/EIS01/3F091600262B613885257BEB001BE690"
       ]
      },
      {
       "output_type": "stream",
       "stream": "stdout",
       "text": [
        "\n",
        "Getting # 4816: http://yosemite.epa.gov/oeca/webeis.nsf/EIS01/86297617F3DE737385257BEB001BE685"
       ]
      },
      {
       "output_type": "stream",
       "stream": "stdout",
       "text": [
        "\n",
        "Getting # 4816: http://yosemite.epa.gov/oeca/webeis.nsf/EIS01/B1673ECBA6DBFDCF85257BEB001BE645"
       ]
      },
      {
       "output_type": "stream",
       "stream": "stdout",
       "text": [
        "\n",
        "Getting # 4816: http://yosemite.epa.gov/oeca/webeis.nsf/EIS01/6623D154B22E670685257BEB001BE650"
       ]
      },
      {
       "output_type": "stream",
       "stream": "stdout",
       "text": [
        "\n",
        "Getting # 4816: http://yosemite.epa.gov/oeca/webeis.nsf/EIS01/9919D6A46937F9BB85257BEB001BE60E"
       ]
      },
      {
       "output_type": "stream",
       "stream": "stdout",
       "text": [
        "\n",
        "Getting # 4816: http://yosemite.epa.gov/oeca/webeis.nsf/EIS01/9F8910279A784A4F85257BEB001BE634"
       ]
      },
      {
       "output_type": "stream",
       "stream": "stdout",
       "text": [
        "\n",
        "Getting # 4816: http://yosemite.epa.gov/oeca/webeis.nsf/EIS01/4141BFE0A565D1F985257BEB001BE619"
       ]
      },
      {
       "output_type": "stream",
       "stream": "stdout",
       "text": [
        "\n",
        "Getting # 4816: http://yosemite.epa.gov/oeca/webeis.nsf/EIS01/F123D31A7A9C972785257BEB001BE648"
       ]
      },
      {
       "output_type": "stream",
       "stream": "stdout",
       "text": [
        "\n",
        "Getting # 4816: http://yosemite.epa.gov/oeca/webeis.nsf/EIS01/E14B43F2F71CC24F85257BEB001BE5D6"
       ]
      },
      {
       "output_type": "stream",
       "stream": "stdout",
       "text": [
        "\n",
        "Getting # 4816: http://yosemite.epa.gov/oeca/webeis.nsf/EIS01/4F8D5D083D78AD9185257BEB001BE5EC"
       ]
      },
      {
       "output_type": "stream",
       "stream": "stdout",
       "text": [
        "\n",
        "Getting # 4816: http://yosemite.epa.gov/oeca/webeis.nsf/EIS01/A3F87C9539F29F0885257BEB001BE5F2"
       ]
      },
      {
       "output_type": "stream",
       "stream": "stdout",
       "text": [
        "\n",
        "Getting # 4816: http://yosemite.epa.gov/oeca/webeis.nsf/EIS01/7037A9868B01872685257BEB001BE5B9"
       ]
      },
      {
       "output_type": "stream",
       "stream": "stdout",
       "text": [
        "\n",
        "Getting # 4816: http://yosemite.epa.gov/oeca/webeis.nsf/EIS01/91855ECAF86ECB4E85257BEB001BE5C0"
       ]
      },
      {
       "output_type": "stream",
       "stream": "stdout",
       "text": [
        "\n",
        "Getting # 4816: http://yosemite.epa.gov/oeca/webeis.nsf/EIS01/B5EDB1F388EF2F0485257BEB001BE599"
       ]
      },
      {
       "output_type": "stream",
       "stream": "stdout",
       "text": [
        "\n",
        "Getting # 4816: http://yosemite.epa.gov/oeca/webeis.nsf/EIS01/B4E9C0A37C761C6485257BEB001BE58D"
       ]
      },
      {
       "output_type": "stream",
       "stream": "stdout",
       "text": [
        "\n",
        "Getting # 4816: http://yosemite.epa.gov/oeca/webeis.nsf/EIS01/9E3829ABCC6987F785257BEB001BE56E"
       ]
      },
      {
       "output_type": "stream",
       "stream": "stdout",
       "text": [
        "\n",
        "Getting # 4816: http://yosemite.epa.gov/oeca/webeis.nsf/EIS01/7548032049A25B9C85257CA5001B8B53"
       ]
      },
      {
       "output_type": "stream",
       "stream": "stdout",
       "text": [
        "\n",
        "Getting # 4816: http://yosemite.epa.gov/oeca/webeis.nsf/EIS01/408F474831066C1B85257BEB001BE563"
       ]
      },
      {
       "output_type": "stream",
       "stream": "stdout",
       "text": [
        "\n",
        "Getting # 4816: http://yosemite.epa.gov/oeca/webeis.nsf/EIS01/B53DC2BA536639F285257BEB001BE54E"
       ]
      },
      {
       "output_type": "stream",
       "stream": "stdout",
       "text": [
        "\n",
        "Getting # 4816: http://yosemite.epa.gov/oeca/webeis.nsf/EIS01/1045995ECD69AF6585257BEB001BE51B"
       ]
      },
      {
       "output_type": "stream",
       "stream": "stdout",
       "text": [
        "\n",
        "Getting # 4816: http://yosemite.epa.gov/oeca/webeis.nsf/EIS01/C3D41E3734657A0085257BEB001BE51F"
       ]
      },
      {
       "output_type": "stream",
       "stream": "stdout",
       "text": [
        "\n",
        "Getting # 4816: http://yosemite.epa.gov/oeca/webeis.nsf/EIS01/07D5DE007A14B53485257BEB001BE4BF"
       ]
      },
      {
       "output_type": "stream",
       "stream": "stdout",
       "text": [
        "\n",
        "Getting # 4816: http://yosemite.epa.gov/oeca/webeis.nsf/EIS01/B065192F717BE19285257BEB001BE50A"
       ]
      },
      {
       "output_type": "stream",
       "stream": "stdout",
       "text": [
        "\n",
        "Getting # 4816: http://yosemite.epa.gov/oeca/webeis.nsf/EIS01/CD95250C700F6C1685257BEB001BE4AC"
       ]
      },
      {
       "output_type": "stream",
       "stream": "stdout",
       "text": [
        "\n",
        "Getting # 4816: http://yosemite.epa.gov/oeca/webeis.nsf/EIS01/D73E03E5D5C8B16B85257BEB001BE4BB"
       ]
      },
      {
       "output_type": "stream",
       "stream": "stdout",
       "text": [
        "\n",
        "Getting # 4816: http://yosemite.epa.gov/oeca/webeis.nsf/EIS01/D939721B6F76C5C085257BEB001BE4B7"
       ]
      },
      {
       "output_type": "stream",
       "stream": "stdout",
       "text": [
        "\n",
        "Getting # 4816: http://yosemite.epa.gov/oeca/webeis.nsf/EIS01/847A00B64B59BE7C85257BEB001BE496"
       ]
      },
      {
       "output_type": "stream",
       "stream": "stdout",
       "text": [
        "\n",
        "Getting # 4816: http://yosemite.epa.gov/oeca/webeis.nsf/EIS01/7B12F0873B28579285257BEB001BE462"
       ]
      },
      {
       "output_type": "stream",
       "stream": "stdout",
       "text": [
        "\n",
        "Getting # 4816: http://yosemite.epa.gov/oeca/webeis.nsf/EIS01/49DA012073929E5A85257BEB001BE49C"
       ]
      },
      {
       "output_type": "stream",
       "stream": "stdout",
       "text": [
        "\n",
        "Getting # 4816: http://yosemite.epa.gov/oeca/webeis.nsf/EIS01/6201A0B740950CB885257BEB001BE48D"
       ]
      },
      {
       "output_type": "stream",
       "stream": "stdout",
       "text": [
        "\n",
        "Getting # 4816: http://yosemite.epa.gov/oeca/webeis.nsf/EIS01/F8CC468C2B8B4F5485257C3600210300"
       ]
      },
      {
       "output_type": "stream",
       "stream": "stdout",
       "text": [
        "\n",
        "Getting # 4816: http://yosemite.epa.gov/oeca/webeis.nsf/EIS01/CDB8EDD345878D5485257BEB001BE419"
       ]
      },
      {
       "output_type": "stream",
       "stream": "stdout",
       "text": [
        "\n",
        "Getting # 4816: http://yosemite.epa.gov/oeca/webeis.nsf/EIS01/81FFF409B935BF3F85257BEB001BE416"
       ]
      },
      {
       "output_type": "stream",
       "stream": "stdout",
       "text": [
        "\n",
        "Getting # 4816: http://yosemite.epa.gov/oeca/webeis.nsf/EIS01/E410674B6010A37785257BEB001BE3DE"
       ]
      },
      {
       "output_type": "stream",
       "stream": "stdout",
       "text": [
        "\n",
        "Getting # 4816: http://yosemite.epa.gov/oeca/webeis.nsf/EIS01/EA08151A98F930F685257BEB001BE3E7"
       ]
      },
      {
       "output_type": "stream",
       "stream": "stdout",
       "text": [
        "\n",
        "Getting # 4816: http://yosemite.epa.gov/oeca/webeis.nsf/EIS01/9AB54E8DF09A4A6C85257BEB001BE3C6"
       ]
      },
      {
       "output_type": "stream",
       "stream": "stdout",
       "text": [
        "\n",
        "Getting # 4816: http://yosemite.epa.gov/oeca/webeis.nsf/EIS01/E1B08BBFFE4C672B85257BEB001BE3CE"
       ]
      },
      {
       "output_type": "stream",
       "stream": "stdout",
       "text": [
        "\n",
        "Getting # 4816: http://yosemite.epa.gov/oeca/webeis.nsf/EIS01/B4248B99E15D4EB385257BEB001BE3D4"
       ]
      },
      {
       "output_type": "stream",
       "stream": "stdout",
       "text": [
        "\n",
        "Getting # 4816: http://yosemite.epa.gov/oeca/webeis.nsf/EIS01/8B2A14163388014785257BEB001BE3BE"
       ]
      },
      {
       "output_type": "stream",
       "stream": "stdout",
       "text": [
        "\n",
        "Getting # 4816: http://yosemite.epa.gov/oeca/webeis.nsf/EIS01/181925F80917280285257BEB001BE378"
       ]
      },
      {
       "output_type": "stream",
       "stream": "stdout",
       "text": [
        "\n",
        "Getting # 4816: http://yosemite.epa.gov/oeca/webeis.nsf/EIS01/9D31E471EC45232A85257BEB001BE370"
       ]
      },
      {
       "output_type": "stream",
       "stream": "stdout",
       "text": [
        "\n",
        "Getting # 4816: http://yosemite.epa.gov/oeca/webeis.nsf/EIS01/82F09EED6AAB700985257BEB001BE32D"
       ]
      },
      {
       "output_type": "stream",
       "stream": "stdout",
       "text": [
        "\n",
        "Getting # 4816: http://yosemite.epa.gov/oeca/webeis.nsf/EIS01/FE4CE2E03071841B85257BEB001BE343"
       ]
      },
      {
       "output_type": "stream",
       "stream": "stdout",
       "text": [
        "\n",
        "Getting # 4816: http://yosemite.epa.gov/oeca/webeis.nsf/EIS01/707403F628E3A70085257BEB001BE301"
       ]
      },
      {
       "output_type": "stream",
       "stream": "stdout",
       "text": [
        "\n",
        "Getting # 4816: http://yosemite.epa.gov/oeca/webeis.nsf/EIS01/8BF82B5BF72207EF85257BEB001BE2EE"
       ]
      },
      {
       "output_type": "stream",
       "stream": "stdout",
       "text": [
        "\n",
        "Getting # 4816: http://yosemite.epa.gov/oeca/webeis.nsf/EIS01/0D335E1F2C96F72685257BEB001BE2E7"
       ]
      },
      {
       "output_type": "stream",
       "stream": "stdout",
       "text": [
        "\n",
        "Getting # 4816: http://yosemite.epa.gov/oeca/webeis.nsf/EIS01/06F7E4452502F20185257BEB001BE2C6"
       ]
      },
      {
       "output_type": "stream",
       "stream": "stdout",
       "text": [
        "\n",
        "Getting # 4816: http://yosemite.epa.gov/oeca/webeis.nsf/EIS01/2228ACC182E9786985257BEB001BE2B9"
       ]
      },
      {
       "output_type": "stream",
       "stream": "stdout",
       "text": [
        "\n",
        "Getting # 4816: http://yosemite.epa.gov/oeca/webeis.nsf/EIS01/E4F096CDC23CFFD985257BEB001BE2B6"
       ]
      },
      {
       "output_type": "stream",
       "stream": "stdout",
       "text": [
        "\n",
        "Getting # 4816: http://yosemite.epa.gov/oeca/webeis.nsf/EIS01/F138DF3C349BB56A85257BEB001BE2AE"
       ]
      },
      {
       "output_type": "stream",
       "stream": "stdout",
       "text": [
        "\n",
        "Getting # 4816: http://yosemite.epa.gov/oeca/webeis.nsf/EIS01/50B86FE2006BA8B085257BEB001BE2D9"
       ]
      },
      {
       "output_type": "stream",
       "stream": "stdout",
       "text": [
        "\n",
        "Getting # 4816: http://yosemite.epa.gov/oeca/webeis.nsf/EIS01/C38222CD024ECC8585257BEB001BE2DD"
       ]
      },
      {
       "output_type": "stream",
       "stream": "stdout",
       "text": [
        "\n",
        "Getting # 4816: http://yosemite.epa.gov/oeca/webeis.nsf/EIS01/F55CE265ABA1E96F85257BEB001BE2CF"
       ]
      },
      {
       "output_type": "stream",
       "stream": "stdout",
       "text": [
        "\n",
        "Getting # 4816: http://yosemite.epa.gov/oeca/webeis.nsf/EIS01/E3684F5BCEC17E7485257BEB001BE294"
       ]
      },
      {
       "output_type": "stream",
       "stream": "stdout",
       "text": [
        "\n",
        "Getting # 4816: http://yosemite.epa.gov/oeca/webeis.nsf/EIS01/828EDDA6D595D7B685257BEB001BE28F"
       ]
      },
      {
       "output_type": "stream",
       "stream": "stdout",
       "text": [
        "\n",
        "Getting # 4816: http://yosemite.epa.gov/oeca/webeis.nsf/EIS01/8A3B2ADA2722D9AF85257BEB001BE28A"
       ]
      },
      {
       "output_type": "stream",
       "stream": "stdout",
       "text": [
        "\n",
        "Getting # 4816: http://yosemite.epa.gov/oeca/webeis.nsf/EIS01/B418ABC45D0658C985257BEB001BE283"
       ]
      },
      {
       "output_type": "stream",
       "stream": "stdout",
       "text": [
        "\n",
        "Getting # 4816: http://yosemite.epa.gov/oeca/webeis.nsf/EIS01/ACB7D5FCEF91BB0A85257BEB001BE262"
       ]
      },
      {
       "output_type": "stream",
       "stream": "stdout",
       "text": [
        "\n",
        "Getting # 4816: http://yosemite.epa.gov/oeca/webeis.nsf/EIS01/D1C51E3F2170B55385257BEB001BE246"
       ]
      },
      {
       "output_type": "stream",
       "stream": "stdout",
       "text": [
        "\n",
        "Getting # 4816: http://yosemite.epa.gov/oeca/webeis.nsf/EIS01/E4E3FD5A5AFB9BFE85257BEB001BE26B"
       ]
      },
      {
       "output_type": "stream",
       "stream": "stdout",
       "text": [
        "\n",
        "Getting # 4816: http://yosemite.epa.gov/oeca/webeis.nsf/EIS01/2993ED017B2E6EC985257BEB001BE23E"
       ]
      },
      {
       "output_type": "stream",
       "stream": "stdout",
       "text": [
        "\n",
        "Getting # 4816: http://yosemite.epa.gov/oeca/webeis.nsf/EIS01/5C2EA5E993A012BA85257BEB001BE233"
       ]
      },
      {
       "output_type": "stream",
       "stream": "stdout",
       "text": [
        "\n",
        "Getting # 4816: http://yosemite.epa.gov/oeca/webeis.nsf/EIS01/635A4CE674711FD785257BEB001BE1E0"
       ]
      },
      {
       "output_type": "stream",
       "stream": "stdout",
       "text": [
        "\n",
        "Getting # 4816: http://yosemite.epa.gov/oeca/webeis.nsf/EIS01/03F0FAD2AD23A5B285257BEB001BE1FB"
       ]
      },
      {
       "output_type": "stream",
       "stream": "stdout",
       "text": [
        "\n",
        "Getting # 4816: http://yosemite.epa.gov/oeca/webeis.nsf/EIS01/22E9E358EB57BBBD85257BEB001BE1A9"
       ]
      },
      {
       "output_type": "stream",
       "stream": "stdout",
       "text": [
        "\n",
        "Getting # 4816: http://yosemite.epa.gov/oeca/webeis.nsf/EIS01/343701813FF026BC85257BEB001BE1C1"
       ]
      },
      {
       "output_type": "stream",
       "stream": "stdout",
       "text": [
        "\n",
        "Getting # 4816: http://yosemite.epa.gov/oeca/webeis.nsf/EIS01/6FA8600D87CE850685257BEB001BE1BC"
       ]
      },
      {
       "output_type": "stream",
       "stream": "stdout",
       "text": [
        "\n",
        "Getting # 4816: http://yosemite.epa.gov/oeca/webeis.nsf/EIS01/C4540FB43D24B2F785257BEB001BE1F8"
       ]
      },
      {
       "output_type": "stream",
       "stream": "stdout",
       "text": [
        "\n",
        "Getting # 4816: http://yosemite.epa.gov/oeca/webeis.nsf/EIS01/07955BB124E779C785257BEB001BE1A6"
       ]
      },
      {
       "output_type": "stream",
       "stream": "stdout",
       "text": [
        "\n",
        "Getting # 4816: http://yosemite.epa.gov/oeca/webeis.nsf/EIS01/2C3DB1F219DA705B85257BEB001BE1A2"
       ]
      },
      {
       "output_type": "stream",
       "stream": "stdout",
       "text": [
        "\n",
        "Getting # 4816: http://yosemite.epa.gov/oeca/webeis.nsf/EIS01/ECE4DD44E2B3063185257BEB001BE181"
       ]
      },
      {
       "output_type": "stream",
       "stream": "stdout",
       "text": [
        "\n",
        "Getting # 4816: http://yosemite.epa.gov/oeca/webeis.nsf/EIS01/7A1914F2AFD7E09985257BEB001BE158"
       ]
      },
      {
       "output_type": "stream",
       "stream": "stdout",
       "text": [
        "\n",
        "Getting # 4816: http://yosemite.epa.gov/oeca/webeis.nsf/EIS01/C5F5136C8AB276FB85257BEB001BE170"
       ]
      },
      {
       "output_type": "stream",
       "stream": "stdout",
       "text": [
        "\n",
        "Getting # 4816: http://yosemite.epa.gov/oeca/webeis.nsf/EIS01/5DB2BB74AC23AF3385257B180020FEAB"
       ]
      },
      {
       "output_type": "stream",
       "stream": "stdout",
       "text": [
        "\n",
        "Getting # 4816: http://yosemite.epa.gov/oeca/webeis.nsf/EIS01/E79724C6B641876085257BEB001BE13F"
       ]
      },
      {
       "output_type": "stream",
       "stream": "stdout",
       "text": [
        "\n",
        "Getting # 4816: http://yosemite.epa.gov/oeca/webeis.nsf/EIS01/FCC75BE810B7765385257BEB001BE126"
       ]
      },
      {
       "output_type": "stream",
       "stream": "stdout",
       "text": [
        "\n",
        "Getting # 4816: http://yosemite.epa.gov/oeca/webeis.nsf/EIS01/92BCC6DC58D3731285257BEB001BE154"
       ]
      },
      {
       "output_type": "stream",
       "stream": "stdout",
       "text": [
        "\n",
        "Getting # 4816: http://yosemite.epa.gov/oeca/webeis.nsf/EIS01/A23AE54A08CAD1F385257BEB001BE14C"
       ]
      },
      {
       "output_type": "stream",
       "stream": "stdout",
       "text": [
        "\n",
        "Getting # 4816: http://yosemite.epa.gov/oeca/webeis.nsf/EIS01/DD7D0AD0E0C4BEB385257BB3001B82F8"
       ]
      },
      {
       "output_type": "stream",
       "stream": "stdout",
       "text": [
        "\n",
        "Getting # 4816: http://yosemite.epa.gov/oeca/webeis.nsf/EIS01/6B13461DDA95615185257BEB001BE113"
       ]
      },
      {
       "output_type": "stream",
       "stream": "stdout",
       "text": [
        "\n",
        "Getting # 4816: http://yosemite.epa.gov/oeca/webeis.nsf/EIS01/F4C56326729BC8B485257BEB001BE109"
       ]
      },
      {
       "output_type": "stream",
       "stream": "stdout",
       "text": [
        "\n",
        "Getting # 4816: http://yosemite.epa.gov/oeca/webeis.nsf/EIS01/B5BEE55C08FC2A0B85257BEB001BE05E"
       ]
      },
      {
       "output_type": "stream",
       "stream": "stdout",
       "text": [
        "\n",
        "Getting # 4816: http://yosemite.epa.gov/oeca/webeis.nsf/EIS01/C4971E523D6A764D85257BEB001BE021"
       ]
      },
      {
       "output_type": "stream",
       "stream": "stdout",
       "text": [
        "\n",
        "Getting # 4816: http://yosemite.epa.gov/oeca/webeis.nsf/EIS01/3B0303240154E81F85257BEB001BDFE7"
       ]
      },
      {
       "output_type": "stream",
       "stream": "stdout",
       "text": [
        "\n",
        "Getting # 4816: http://yosemite.epa.gov/oeca/webeis.nsf/EIS01/4C10A1BEE8394AE285257BEB001BDFB2"
       ]
      },
      {
       "output_type": "stream",
       "stream": "stdout",
       "text": [
        "\n",
        "Getting # 4816: http://yosemite.epa.gov/oeca/webeis.nsf/EIS01/D48B1F50C73C744585257BEB001BDF82"
       ]
      },
      {
       "output_type": "stream",
       "stream": "stdout",
       "text": [
        "\n",
        "Getting # 4816: http://yosemite.epa.gov/oeca/webeis.nsf/EIS01/639385AF10EAFF9385257BEB001BDFF7"
       ]
      },
      {
       "output_type": "stream",
       "stream": "stdout",
       "text": [
        "\n",
        "Getting # 4816: http://yosemite.epa.gov/oeca/webeis.nsf/EIS01/AD613D961D39E19085257BEB001BDF16"
       ]
      },
      {
       "output_type": "stream",
       "stream": "stdout",
       "text": [
        "\n",
        "Getting # 4816: http://yosemite.epa.gov/oeca/webeis.nsf/EIS01/4D568B44F6529C3385257BEB001BDEDC"
       ]
      },
      {
       "output_type": "stream",
       "stream": "stdout",
       "text": [
        "\n",
        "Getting # 4816: http://yosemite.epa.gov/oeca/webeis.nsf/EIS01/76903C2C6E3963EB85257BEB001BDF26"
       ]
      },
      {
       "output_type": "stream",
       "stream": "stdout",
       "text": [
        "\n",
        "Getting # 4816: http://yosemite.epa.gov/oeca/webeis.nsf/EIS01/7AA717A1AA7F499A85257BEB001BDEE4"
       ]
      },
      {
       "output_type": "stream",
       "stream": "stdout",
       "text": [
        "\n",
        "Getting # 4816: http://yosemite.epa.gov/oeca/webeis.nsf/EIS01/D7D61B31A1FF56BD85257BEB001BDF58"
       ]
      },
      {
       "output_type": "stream",
       "stream": "stdout",
       "text": [
        "\n",
        "Getting # 4816: http://yosemite.epa.gov/oeca/webeis.nsf/EIS01/563579B055637A2585257BEB001BDF38"
       ]
      },
      {
       "output_type": "stream",
       "stream": "stdout",
       "text": [
        "\n",
        "Getting # 4816: http://yosemite.epa.gov/oeca/webeis.nsf/EIS01/B7B7443E17BD8C0285257BEB001BDF34"
       ]
      },
      {
       "output_type": "stream",
       "stream": "stdout",
       "text": [
        "\n",
        "Getting # 4816: http://yosemite.epa.gov/oeca/webeis.nsf/EIS01/F86B0D161C97A53085257BEB001BDEEC"
       ]
      },
      {
       "output_type": "stream",
       "stream": "stdout",
       "text": [
        "\n",
        "Getting # 4816: http://yosemite.epa.gov/oeca/webeis.nsf/EIS01/C68F8CDCBCC9B0D885257BEB001BDEB7"
       ]
      },
      {
       "output_type": "stream",
       "stream": "stdout",
       "text": [
        "\n",
        "Getting # 4816: http://yosemite.epa.gov/oeca/webeis.nsf/EIS01/75EF3CE5C75DEEDA85257BEB001BDE9C"
       ]
      },
      {
       "output_type": "stream",
       "stream": "stdout",
       "text": [
        "\n",
        "Getting # 4816: http://yosemite.epa.gov/oeca/webeis.nsf/EIS01/55F04DCF4D1F9E1185257BEB001BDECD"
       ]
      },
      {
       "output_type": "stream",
       "stream": "stdout",
       "text": [
        "\n",
        "Getting # 4816: http://yosemite.epa.gov/oeca/webeis.nsf/EIS01/CE2FB930482A8A8485257BEB001BDE75"
       ]
      },
      {
       "output_type": "stream",
       "stream": "stdout",
       "text": [
        "\n",
        "Getting # 4816: http://yosemite.epa.gov/oeca/webeis.nsf/EIS01/C0FFC8BE7FBA80D585257BEB001BDDFB"
       ]
      },
      {
       "output_type": "stream",
       "stream": "stdout",
       "text": [
        "\n",
        "Getting # 4816: http://yosemite.epa.gov/oeca/webeis.nsf/EIS01/D7C58EF45438A5D885257BEB001BDE69"
       ]
      },
      {
       "output_type": "stream",
       "stream": "stdout",
       "text": [
        "\n",
        "Getting # 4816: http://yosemite.epa.gov/oeca/webeis.nsf/EIS01/337BCACBC7EAE3AA85257BEB001BDE5E"
       ]
      },
      {
       "output_type": "stream",
       "stream": "stdout",
       "text": [
        "\n",
        "Getting # 4816: http://yosemite.epa.gov/oeca/webeis.nsf/EIS01/D68F06DE48460AB985257BEB001BDE56"
       ]
      },
      {
       "output_type": "stream",
       "stream": "stdout",
       "text": [
        "\n",
        "Getting # 4816: http://yosemite.epa.gov/oeca/webeis.nsf/EIS01/542B72BE033DD18985257BEB001BDE3A"
       ]
      },
      {
       "output_type": "stream",
       "stream": "stdout",
       "text": [
        "\n",
        "Getting # 4816: http://yosemite.epa.gov/oeca/webeis.nsf/EIS01/04EFA41625E36B4F85257BEB001BDE2C"
       ]
      },
      {
       "output_type": "stream",
       "stream": "stdout",
       "text": [
        "\n",
        "Getting # 4816: http://yosemite.epa.gov/oeca/webeis.nsf/EIS01/9B24AC2F485EA52985257BEB001BDD8F"
       ]
      },
      {
       "output_type": "stream",
       "stream": "stdout",
       "text": [
        "\n",
        "Getting # 4816: http://yosemite.epa.gov/oeca/webeis.nsf/EIS01/8EFBC16FE143B89D85257BEB001BDDED"
       ]
      },
      {
       "output_type": "stream",
       "stream": "stdout",
       "text": [
        "\n",
        "Getting # 4816: http://yosemite.epa.gov/oeca/webeis.nsf/EIS01/9A706B1CBD60FC7685257BEB001BDD25"
       ]
      },
      {
       "output_type": "stream",
       "stream": "stdout",
       "text": [
        "\n",
        "Getting # 4816: http://yosemite.epa.gov/oeca/webeis.nsf/EIS01/7A4CD60DEC30C21685257BEB001BDD0C"
       ]
      },
      {
       "output_type": "stream",
       "stream": "stdout",
       "text": [
        "\n",
        "Getting # 4816: http://yosemite.epa.gov/oeca/webeis.nsf/EIS01/A067A8F6C49BF5BA85257BEB001BDD38"
       ]
      },
      {
       "output_type": "stream",
       "stream": "stdout",
       "text": [
        "\n",
        "Getting # 4816: http://yosemite.epa.gov/oeca/webeis.nsf/EIS01/FCAF0735A44F2F9E85257BEB001BDD4C"
       ]
      },
      {
       "output_type": "stream",
       "stream": "stdout",
       "text": [
        "\n",
        "Getting # 4816: http://yosemite.epa.gov/oeca/webeis.nsf/EIS01/C86A0B99CC8E3AB785257BEB001BDD14"
       ]
      },
      {
       "output_type": "stream",
       "stream": "stdout",
       "text": [
        "\n",
        "Getting # 4816: http://yosemite.epa.gov/oeca/webeis.nsf/EIS01/A696585D410DCFE785257BEB001BDCF0"
       ]
      },
      {
       "output_type": "stream",
       "stream": "stdout",
       "text": [
        "\n",
        "Getting # 4816: http://yosemite.epa.gov/oeca/webeis.nsf/EIS01/D3787C8E9548445185257BEB001BDCBB"
       ]
      },
      {
       "output_type": "stream",
       "stream": "stdout",
       "text": [
        "\n",
        "Getting # 4816: http://yosemite.epa.gov/oeca/webeis.nsf/EIS01/BF2161159104978185257BEB001BDCA5"
       ]
      },
      {
       "output_type": "stream",
       "stream": "stdout",
       "text": [
        "\n",
        "Getting # 4816: http://yosemite.epa.gov/oeca/webeis.nsf/EIS01/E8EBB9DDDD1BD7CB85257BEB001BDC6E"
       ]
      },
      {
       "output_type": "stream",
       "stream": "stdout",
       "text": [
        "\n",
        "Getting # 4816: http://yosemite.epa.gov/oeca/webeis.nsf/EIS01/19FFF1A9AA720D6685257BEB001BDC2E"
       ]
      },
      {
       "output_type": "stream",
       "stream": "stdout",
       "text": [
        "\n",
        "Getting # 4816: http://yosemite.epa.gov/oeca/webeis.nsf/EIS01/4A89CDAB13698D2185257BEB001BDC4A"
       ]
      },
      {
       "output_type": "stream",
       "stream": "stdout",
       "text": [
        "\n",
        "Getting # 4816: http://yosemite.epa.gov/oeca/webeis.nsf/EIS01/9DC59B865352507085257BEB001BDC35"
       ]
      },
      {
       "output_type": "stream",
       "stream": "stdout",
       "text": [
        "\n",
        "Getting # 4816: http://yosemite.epa.gov/oeca/webeis.nsf/EIS01/E3AFF01F0083913D85257BEB001BDC27"
       ]
      },
      {
       "output_type": "stream",
       "stream": "stdout",
       "text": [
        "\n",
        "Getting # 4816: http://yosemite.epa.gov/oeca/webeis.nsf/EIS01/EDD676E9294A7F0E85257BEB001BDC1A"
       ]
      },
      {
       "output_type": "stream",
       "stream": "stdout",
       "text": [
        "\n",
        "Getting # 4816: http://yosemite.epa.gov/oeca/webeis.nsf/EIS01/62193B3B90A3C42785257BEB001BDBA5"
       ]
      },
      {
       "output_type": "stream",
       "stream": "stdout",
       "text": [
        "\n",
        "Getting # 4816: http://yosemite.epa.gov/oeca/webeis.nsf/EIS01/BB809EE581144C3485257BEB001BDBC1"
       ]
      },
      {
       "output_type": "stream",
       "stream": "stdout",
       "text": [
        "\n",
        "Getting # 4816: http://yosemite.epa.gov/oeca/webeis.nsf/EIS01/F0BFA0FAEB27DFDB85257BEB001BDB84"
       ]
      },
      {
       "output_type": "stream",
       "stream": "stdout",
       "text": [
        "\n",
        "Getting # 4816: http://yosemite.epa.gov/oeca/webeis.nsf/EIS01/ED754CFDA471E94585257C6D0020FCEB"
       ]
      },
      {
       "output_type": "stream",
       "stream": "stdout",
       "text": [
        "\n",
        "Getting # 4816: http://yosemite.epa.gov/oeca/webeis.nsf/EIS01/D5127F5C6D7ABF2285257BEB001BDB9F"
       ]
      },
      {
       "output_type": "stream",
       "stream": "stdout",
       "text": [
        "\n",
        "Getting # 4816: http://yosemite.epa.gov/oeca/webeis.nsf/EIS01/FD7D35C3634EE8F785257BEB001BDB18"
       ]
      },
      {
       "output_type": "stream",
       "stream": "stdout",
       "text": [
        "\n",
        "Getting # 4816: http://yosemite.epa.gov/oeca/webeis.nsf/EIS01/D5FF9A860B4C596E85257BEB001BDB33"
       ]
      },
      {
       "output_type": "stream",
       "stream": "stdout",
       "text": [
        "\n",
        "Getting # 4816: http://yosemite.epa.gov/oeca/webeis.nsf/EIS01/E11494DC8EB1D95F85257BEB001BDB41"
       ]
      },
      {
       "output_type": "stream",
       "stream": "stdout",
       "text": [
        "\n",
        "Getting # 4816: http://yosemite.epa.gov/oeca/webeis.nsf/EIS01/E146F1BE1A93A7EA85257BEB001BDB4D"
       ]
      },
      {
       "output_type": "stream",
       "stream": "stdout",
       "text": [
        "\n",
        "Getting # 4816: http://yosemite.epa.gov/oeca/webeis.nsf/EIS01/BB9D6F0EF554B1C585257BEB001BDB55"
       ]
      },
      {
       "output_type": "stream",
       "stream": "stdout",
       "text": [
        "\n",
        "Getting # 4816: http://yosemite.epa.gov/oeca/webeis.nsf/EIS01/9B06EC87921090AC85257BEB001BDB5D"
       ]
      },
      {
       "output_type": "stream",
       "stream": "stdout",
       "text": [
        "\n",
        "Getting # 4816: http://yosemite.epa.gov/oeca/webeis.nsf/EIS01/8045FFEB706DDD1485257BEB001BDADB"
       ]
      },
      {
       "output_type": "stream",
       "stream": "stdout",
       "text": [
        "\n",
        "Getting # 4816: http://yosemite.epa.gov/oeca/webeis.nsf/EIS01/B0F1F8A950D3438985257BEB001BDACA"
       ]
      },
      {
       "output_type": "stream",
       "stream": "stdout",
       "text": [
        "\n",
        "Getting # 4816: http://yosemite.epa.gov/oeca/webeis.nsf/EIS01/C54347247685FD9585257BEB001BDB02"
       ]
      },
      {
       "output_type": "stream",
       "stream": "stdout",
       "text": [
        "\n",
        "Getting # 4816: http://yosemite.epa.gov/oeca/webeis.nsf/EIS01/DA61A278467D6B2185257BEB001BDAF9"
       ]
      },
      {
       "output_type": "stream",
       "stream": "stdout",
       "text": [
        "\n",
        "Getting # 4816: http://yosemite.epa.gov/oeca/webeis.nsf/EIS01/8078BB28966E647A85257BEB001BDAC7"
       ]
      },
      {
       "output_type": "stream",
       "stream": "stdout",
       "text": [
        "\n",
        "Getting # 4816: http://yosemite.epa.gov/oeca/webeis.nsf/EIS01/BF1D476C9F2C9BAE85257BEB001BDAAE"
       ]
      },
      {
       "output_type": "stream",
       "stream": "stdout",
       "text": [
        "\n",
        "Getting # 4816: http://yosemite.epa.gov/oeca/webeis.nsf/EIS01/3C5B1A96E8FA8D4A85257BEB001BDAB4"
       ]
      },
      {
       "output_type": "stream",
       "stream": "stdout",
       "text": [
        "\n",
        "Getting # 4816: http://yosemite.epa.gov/oeca/webeis.nsf/EIS01/D691B25CF9C3123485257BEB001BDAB9"
       ]
      },
      {
       "output_type": "stream",
       "stream": "stdout",
       "text": [
        "\n",
        "Getting # 4816: http://yosemite.epa.gov/oeca/webeis.nsf/EIS01/A5A91BCA7B03F3FC85257BEB001BDAA5"
       ]
      },
      {
       "output_type": "stream",
       "stream": "stdout",
       "text": [
        "\n",
        "Getting # 4816: http://yosemite.epa.gov/oeca/webeis.nsf/EIS01/AFCF62EEADE087E785257BEB001BDA37"
       ]
      },
      {
       "output_type": "stream",
       "stream": "stdout",
       "text": [
        "\n",
        "Getting # 4816: http://yosemite.epa.gov/oeca/webeis.nsf/EIS01/C622E51BB67D07C285257BEB001BDA85"
       ]
      },
      {
       "output_type": "stream",
       "stream": "stdout",
       "text": [
        "\n",
        "Getting # 4816: http://yosemite.epa.gov/oeca/webeis.nsf/EIS01/DAB594B21F2270BE85257BEB001BDA3D"
       ]
      },
      {
       "output_type": "stream",
       "stream": "stdout",
       "text": [
        "\n",
        "Getting # 4816: http://yosemite.epa.gov/oeca/webeis.nsf/EIS01/490A9FBF97CAE83D85257BEB001BDA63"
       ]
      },
      {
       "output_type": "stream",
       "stream": "stdout",
       "text": [
        "\n",
        "Getting # 4816: http://yosemite.epa.gov/oeca/webeis.nsf/EIS01/4D677004977602C085257BEB001BDA33"
       ]
      },
      {
       "output_type": "stream",
       "stream": "stdout",
       "text": [
        "\n",
        "Getting # 4816: http://yosemite.epa.gov/oeca/webeis.nsf/EIS01/2D097A11ECEE58C785257BEB001BDA2E"
       ]
      },
      {
       "output_type": "stream",
       "stream": "stdout",
       "text": [
        "\n",
        "Getting # 4816: http://yosemite.epa.gov/oeca/webeis.nsf/EIS01/5890562853750A4585257BEB001BDA08"
       ]
      },
      {
       "output_type": "stream",
       "stream": "stdout",
       "text": [
        "\n",
        "Getting # 4816: http://yosemite.epa.gov/oeca/webeis.nsf/EIS01/8FC8C9DCBDA3DD8C85257BEB001BD9FC"
       ]
      },
      {
       "output_type": "stream",
       "stream": "stdout",
       "text": [
        "\n",
        "Getting # 4816: http://yosemite.epa.gov/oeca/webeis.nsf/EIS01/B439A324850783A985257BEB001BDA01"
       ]
      },
      {
       "output_type": "stream",
       "stream": "stdout",
       "text": [
        "\n",
        "Getting # 4816: http://yosemite.epa.gov/oeca/webeis.nsf/EIS01/FA1E83F26582A91085257BEB001BD9EF"
       ]
      },
      {
       "output_type": "stream",
       "stream": "stdout",
       "text": [
        "\n",
        "Getting # 4816: http://yosemite.epa.gov/oeca/webeis.nsf/EIS01/7672736E7B189FE885257BEB001BD993"
       ]
      },
      {
       "output_type": "stream",
       "stream": "stdout",
       "text": [
        "\n",
        "Getting # 4816: http://yosemite.epa.gov/oeca/webeis.nsf/EIS01/755C61AE8728314785257BEB001BD9A1"
       ]
      },
      {
       "output_type": "stream",
       "stream": "stdout",
       "text": [
        "\n",
        "Getting # 4816: http://yosemite.epa.gov/oeca/webeis.nsf/EIS01/B3AB1F146989D78685257BEB001BD996"
       ]
      },
      {
       "output_type": "stream",
       "stream": "stdout",
       "text": [
        "\n",
        "Getting # 4816: http://yosemite.epa.gov/oeca/webeis.nsf/EIS01/FB817B743CE77CC985257BEB001BD9AF"
       ]
      },
      {
       "output_type": "stream",
       "stream": "stdout",
       "text": [
        "\n",
        "Getting # 4816: http://yosemite.epa.gov/oeca/webeis.nsf/EIS01/28D48528E07302DC85257BEB001BD945"
       ]
      },
      {
       "output_type": "stream",
       "stream": "stdout",
       "text": [
        "\n",
        "Getting # 4816: http://yosemite.epa.gov/oeca/webeis.nsf/EIS01/80ED3A671C1EE7C885257BEB001BD96E"
       ]
      },
      {
       "output_type": "stream",
       "stream": "stdout",
       "text": [
        "\n",
        "Getting # 4816: http://yosemite.epa.gov/oeca/webeis.nsf/EIS01/BBDFE83FB53CDBC585257BEB001BD8F4"
       ]
      },
      {
       "output_type": "stream",
       "stream": "stdout",
       "text": [
        "\n",
        "Getting # 4816: http://yosemite.epa.gov/oeca/webeis.nsf/EIS01/63E1AB27A298871685257BEB001BD93A"
       ]
      },
      {
       "output_type": "stream",
       "stream": "stdout",
       "text": [
        "\n",
        "Getting # 4816: http://yosemite.epa.gov/oeca/webeis.nsf/EIS01/6C4A0C3249B0007E85257BEB001BD8BA"
       ]
      },
      {
       "output_type": "stream",
       "stream": "stdout",
       "text": [
        "\n",
        "Getting # 4816: http://yosemite.epa.gov/oeca/webeis.nsf/EIS01/8C7345B36455D93A85257BEB001BD8EC"
       ]
      },
      {
       "output_type": "stream",
       "stream": "stdout",
       "text": [
        "\n",
        "Getting # 4816: http://yosemite.epa.gov/oeca/webeis.nsf/EIS01/9771669A2A2B55E585257BEB001BD8AA"
       ]
      },
      {
       "output_type": "stream",
       "stream": "stdout",
       "text": [
        "\n",
        "Getting # 4816: http://yosemite.epa.gov/oeca/webeis.nsf/EIS01/00A2A160691D14FC85257BEB001BD837"
       ]
      },
      {
       "output_type": "stream",
       "stream": "stdout",
       "text": [
        "\n",
        "Getting # 4816: http://yosemite.epa.gov/oeca/webeis.nsf/EIS01/4FBC447DEE956A3B85257BEB001BD864"
       ]
      },
      {
       "output_type": "stream",
       "stream": "stdout",
       "text": [
        "\n",
        "Getting # 4816: http://yosemite.epa.gov/oeca/webeis.nsf/EIS01/2BA671ACB939AA8F85257BEB001BD81F"
       ]
      },
      {
       "output_type": "stream",
       "stream": "stdout",
       "text": [
        "\n",
        "Getting # 4816: http://yosemite.epa.gov/oeca/webeis.nsf/EIS01/4B9459C44D6EEC6085257BEB001BD817"
       ]
      },
      {
       "output_type": "stream",
       "stream": "stdout",
       "text": [
        "\n",
        "Getting # 4816: http://yosemite.epa.gov/oeca/webeis.nsf/EIS01/57E59B76C3DF2E0B85257BEB001BD808"
       ]
      },
      {
       "output_type": "stream",
       "stream": "stdout",
       "text": [
        "\n",
        "Getting # 4816: http://yosemite.epa.gov/oeca/webeis.nsf/EIS01/788452A09D7A25FF85257BEB001BD81C"
       ]
      },
      {
       "output_type": "stream",
       "stream": "stdout",
       "text": [
        "\n",
        "Getting # 4816: http://yosemite.epa.gov/oeca/webeis.nsf/EIS01/C30674B41795C29685257BEB001BD803"
       ]
      },
      {
       "output_type": "stream",
       "stream": "stdout",
       "text": [
        "\n",
        "Getting # 4816: http://yosemite.epa.gov/oeca/webeis.nsf/EIS01/A10B57A11FEA22C385257BEB001BD7C0"
       ]
      },
      {
       "output_type": "stream",
       "stream": "stdout",
       "text": [
        "\n",
        "Getting # 4816: http://yosemite.epa.gov/oeca/webeis.nsf/EIS01/B0929A5EBF0E9C7585257BEB001BD7EA"
       ]
      },
      {
       "output_type": "stream",
       "stream": "stdout",
       "text": [
        "\n",
        "Getting # 4816: http://yosemite.epa.gov/oeca/webeis.nsf/EIS01/1C19E7BB44E6D6CA85257BEB001BD7DB"
       ]
      },
      {
       "output_type": "stream",
       "stream": "stdout",
       "text": [
        "\n",
        "Getting # 4816: http://yosemite.epa.gov/oeca/webeis.nsf/EIS01/A8B7B9BFC99734FA85257BEB001BD7D1"
       ]
      },
      {
       "output_type": "stream",
       "stream": "stdout",
       "text": [
        "\n",
        "Getting # 4816: http://yosemite.epa.gov/oeca/webeis.nsf/EIS01/CEEB220898B4CF6A85257BEB001BD7D6"
       ]
      },
      {
       "output_type": "stream",
       "stream": "stdout",
       "text": [
        "\n",
        "Getting # 4816: http://yosemite.epa.gov/oeca/webeis.nsf/EIS01/DBD7B75AB926796685257BEB001BD7BD"
       ]
      },
      {
       "output_type": "stream",
       "stream": "stdout",
       "text": [
        "\n",
        "Getting # 4816: http://yosemite.epa.gov/oeca/webeis.nsf/EIS01/423483C8DC730C5585257BEB001BD785"
       ]
      },
      {
       "output_type": "stream",
       "stream": "stdout",
       "text": [
        "\n",
        "Getting # 4816: http://yosemite.epa.gov/oeca/webeis.nsf/EIS01/4958FCE2E2FFB73885257BEB001BD746"
       ]
      },
      {
       "output_type": "stream",
       "stream": "stdout",
       "text": [
        "\n",
        "Getting # 4816: http://yosemite.epa.gov/oeca/webeis.nsf/EIS01/5E34B19E34519A8785257BEB001BD74C"
       ]
      },
      {
       "output_type": "stream",
       "stream": "stdout",
       "text": [
        "\n",
        "Getting # 4816: http://yosemite.epa.gov/oeca/webeis.nsf/EIS01/9D84225E494B147885257BEB001BD753"
       ]
      },
      {
       "output_type": "stream",
       "stream": "stdout",
       "text": [
        "\n",
        "Getting # 4816: http://yosemite.epa.gov/oeca/webeis.nsf/EIS01/E77029E6BEDAC9A385257BEB001BD740"
       ]
      },
      {
       "output_type": "stream",
       "stream": "stdout",
       "text": [
        "\n",
        "Getting # 4816: http://yosemite.epa.gov/oeca/webeis.nsf/EIS01/925078710080570385257BEB001BD71A"
       ]
      },
      {
       "output_type": "stream",
       "stream": "stdout",
       "text": [
        "\n",
        "Getting # 4816: http://yosemite.epa.gov/oeca/webeis.nsf/EIS01/4851289753C4A43A85257BEB001BD6C6"
       ]
      },
      {
       "output_type": "stream",
       "stream": "stdout",
       "text": [
        "\n",
        "Getting # 4816: http://yosemite.epa.gov/oeca/webeis.nsf/EIS01/4E7EA188660C553785257BEB001BD6EA"
       ]
      },
      {
       "output_type": "stream",
       "stream": "stdout",
       "text": [
        "\n",
        "Getting # 4816: http://yosemite.epa.gov/oeca/webeis.nsf/EIS01/A8CD37D6734BA85585257BEB001BD692"
       ]
      },
      {
       "output_type": "stream",
       "stream": "stdout",
       "text": [
        "\n",
        "Getting # 4816: http://yosemite.epa.gov/oeca/webeis.nsf/EIS01/FDEACF2C59EB814785257BEB001BD709"
       ]
      },
      {
       "output_type": "stream",
       "stream": "stdout",
       "text": [
        "\n",
        "Getting # 4816: http://yosemite.epa.gov/oeca/webeis.nsf/EIS01/2BFC1B968FB3E1CE85257BEB001BD696"
       ]
      },
      {
       "output_type": "stream",
       "stream": "stdout",
       "text": [
        "\n",
        "Getting # 4816: http://yosemite.epa.gov/oeca/webeis.nsf/EIS01/A1382B928711F71785257BEB001BD66A"
       ]
      },
      {
       "output_type": "stream",
       "stream": "stdout",
       "text": [
        "\n",
        "Getting # 4816: http://yosemite.epa.gov/oeca/webeis.nsf/EIS01/E82BB2C3FB700CD785257BEB001BD63E"
       ]
      },
      {
       "output_type": "stream",
       "stream": "stdout",
       "text": [
        "\n",
        "Getting # 4816: http://yosemite.epa.gov/oeca/webeis.nsf/EIS01/212404899B72FB7485257BEB001BD679"
       ]
      },
      {
       "output_type": "stream",
       "stream": "stdout",
       "text": [
        "\n",
        "Getting # 4816: http://yosemite.epa.gov/oeca/webeis.nsf/EIS01/9465CE2C3C038F5E85257BEB001BD64B"
       ]
      },
      {
       "output_type": "stream",
       "stream": "stdout",
       "text": [
        "\n",
        "Getting # 4816: http://yosemite.epa.gov/oeca/webeis.nsf/EIS01/7009388BA899343685257BEB001BD625"
       ]
      },
      {
       "output_type": "stream",
       "stream": "stdout",
       "text": [
        "\n",
        "Getting # 4816: http://yosemite.epa.gov/oeca/webeis.nsf/EIS01/B07DBEC1470AD50285257BEB001BD659"
       ]
      },
      {
       "output_type": "stream",
       "stream": "stdout",
       "text": [
        "\n",
        "Getting # 4816: http://yosemite.epa.gov/oeca/webeis.nsf/EIS01/39EC67A18EFC3A6B85257BEB001BD5ED"
       ]
      },
      {
       "output_type": "stream",
       "stream": "stdout",
       "text": [
        "\n",
        "Getting # 4816: http://yosemite.epa.gov/oeca/webeis.nsf/EIS01/36A8BC004BBEB29885257BEB001BD5DC"
       ]
      },
      {
       "output_type": "stream",
       "stream": "stdout",
       "text": [
        "\n",
        "Getting # 4816: http://yosemite.epa.gov/oeca/webeis.nsf/EIS01/C570C265F78AB55385257BEB001BD5F3"
       ]
      },
      {
       "output_type": "stream",
       "stream": "stdout",
       "text": [
        "\n",
        "Getting # 4816: http://yosemite.epa.gov/oeca/webeis.nsf/EIS01/535C4862168D1D2885257BEB001BD619"
       ]
      },
      {
       "output_type": "stream",
       "stream": "stdout",
       "text": [
        "\n",
        "Getting # 4816: http://yosemite.epa.gov/oeca/webeis.nsf/EIS01/C7F93E53A423FB6285257BEB001BD607"
       ]
      },
      {
       "output_type": "stream",
       "stream": "stdout",
       "text": [
        "\n",
        "Getting # 4816: http://yosemite.epa.gov/oeca/webeis.nsf/EIS01/F06554DC1658A3C585257BEB001BD5D7"
       ]
      },
      {
       "output_type": "stream",
       "stream": "stdout",
       "text": [
        "\n",
        "Getting # 4816: http://yosemite.epa.gov/oeca/webeis.nsf/EIS01/D15AC1FB2A1DAD4785257BEB001BD541"
       ]
      },
      {
       "output_type": "stream",
       "stream": "stdout",
       "text": [
        "\n",
        "Getting # 4816: http://yosemite.epa.gov/oeca/webeis.nsf/EIS01/4E8567A2F241317085257BEB001BD563"
       ]
      },
      {
       "output_type": "stream",
       "stream": "stdout",
       "text": [
        "\n",
        "Getting # 4816: http://yosemite.epa.gov/oeca/webeis.nsf/EIS01/EDB662BCB77027EB85257BEB001BD56E"
       ]
      },
      {
       "output_type": "stream",
       "stream": "stdout",
       "text": [
        "\n",
        "Getting # 4816: http://yosemite.epa.gov/oeca/webeis.nsf/EIS01/3B81005F6A0D92CD85257BEB001BD5A2"
       ]
      },
      {
       "output_type": "stream",
       "stream": "stdout",
       "text": [
        "\n",
        "Getting # 4816: http://yosemite.epa.gov/oeca/webeis.nsf/EIS01/3BD340B6DFD3E54285257BEB001BD522"
       ]
      },
      {
       "output_type": "stream",
       "stream": "stdout",
       "text": [
        "\n",
        "Getting # 4816: http://yosemite.epa.gov/oeca/webeis.nsf/EIS01/B4E94B909FC1CFE985257BEB001BD51B"
       ]
      },
      {
       "output_type": "stream",
       "stream": "stdout",
       "text": [
        "\n",
        "Getting # 4816: http://yosemite.epa.gov/oeca/webeis.nsf/EIS01/414563BE91D1794685257BEB001BD4D8"
       ]
      },
      {
       "output_type": "stream",
       "stream": "stdout",
       "text": [
        "\n",
        "Getting # 4816: http://yosemite.epa.gov/oeca/webeis.nsf/EIS01/81555ECD6F07826285257BEB001BD497"
       ]
      },
      {
       "output_type": "stream",
       "stream": "stdout",
       "text": [
        "\n",
        "Getting # 4816: http://yosemite.epa.gov/oeca/webeis.nsf/EIS01/290E734BC29B0D2E85257BEB001BD4BF"
       ]
      },
      {
       "output_type": "stream",
       "stream": "stdout",
       "text": [
        "\n",
        "Getting # 4816: http://yosemite.epa.gov/oeca/webeis.nsf/EIS01/39DC45848C58AFFD85257BEB001BD484"
       ]
      },
      {
       "output_type": "stream",
       "stream": "stdout",
       "text": [
        "\n",
        "Getting # 4816: http://yosemite.epa.gov/oeca/webeis.nsf/EIS01/C54F5A980046EDCF85257BEB001BD4B7"
       ]
      },
      {
       "output_type": "stream",
       "stream": "stdout",
       "text": [
        "\n",
        "Getting # 4816: http://yosemite.epa.gov/oeca/webeis.nsf/EIS01/90F9C7DDD511BFB385257BEB001BD45B"
       ]
      },
      {
       "output_type": "stream",
       "stream": "stdout",
       "text": [
        "\n",
        "Getting # 4816: http://yosemite.epa.gov/oeca/webeis.nsf/EIS01/41C710C81B97BA7985257BEB001BD450"
       ]
      },
      {
       "output_type": "stream",
       "stream": "stdout",
       "text": [
        "\n",
        "Getting # 4816: http://yosemite.epa.gov/oeca/webeis.nsf/EIS01/A36688B07975165385257BEB001BD42B"
       ]
      },
      {
       "output_type": "stream",
       "stream": "stdout",
       "text": [
        "\n",
        "Getting # 4816: http://yosemite.epa.gov/oeca/webeis.nsf/EIS01/DB1A52076C5F762385257BEB001BD439"
       ]
      },
      {
       "output_type": "stream",
       "stream": "stdout",
       "text": [
        "\n",
        "Getting # 4816: http://yosemite.epa.gov/oeca/webeis.nsf/EIS01/777569D69A9B7DDF85257BEB001BD39E"
       ]
      },
      {
       "output_type": "stream",
       "stream": "stdout",
       "text": [
        "\n",
        "Getting # 4816: http://yosemite.epa.gov/oeca/webeis.nsf/EIS01/745C24FC5D0A82C885257BEB001BD37F"
       ]
      },
      {
       "output_type": "stream",
       "stream": "stdout",
       "text": [
        "\n",
        "Getting # 4816: http://yosemite.epa.gov/oeca/webeis.nsf/EIS01/C8CC047E1C636D1E85257BEB001BD379"
       ]
      },
      {
       "output_type": "stream",
       "stream": "stdout",
       "text": [
        "\n",
        "Getting # 4816: http://yosemite.epa.gov/oeca/webeis.nsf/EIS01/E01E8EAE6300C66B85257BEB001BD390"
       ]
      },
      {
       "output_type": "stream",
       "stream": "stdout",
       "text": [
        "\n",
        "Getting # 4816: http://yosemite.epa.gov/oeca/webeis.nsf/EIS01/CCA725FA35F7E6B085257BEB001BD3D8"
       ]
      },
      {
       "output_type": "stream",
       "stream": "stdout",
       "text": [
        "\n",
        "Getting # 4816: http://yosemite.epa.gov/oeca/webeis.nsf/EIS01/6CB5DC7C5B1D18CB85257BEB001BD33C"
       ]
      },
      {
       "output_type": "stream",
       "stream": "stdout",
       "text": [
        "\n",
        "Getting # 4816: http://yosemite.epa.gov/oeca/webeis.nsf/EIS01/9C3F3B736B8C602E85257BEB001BD344"
       ]
      },
      {
       "output_type": "stream",
       "stream": "stdout",
       "text": [
        "\n",
        "Getting # 4816: http://yosemite.epa.gov/oeca/webeis.nsf/EIS01/BEA909F1BFA6A57285257BEB001BD372"
       ]
      },
      {
       "output_type": "stream",
       "stream": "stdout",
       "text": [
        "\n",
        "Getting # 4816: http://yosemite.epa.gov/oeca/webeis.nsf/EIS01/BC5D9AAD2C396D4A85257BEB001BD315"
       ]
      },
      {
       "output_type": "stream",
       "stream": "stdout",
       "text": [
        "\n",
        "Getting # 4816: http://yosemite.epa.gov/oeca/webeis.nsf/EIS01/BFBF6C2BEA1FF49485257BEB001BD332"
       ]
      },
      {
       "output_type": "stream",
       "stream": "stdout",
       "text": [
        "\n",
        "Getting # 4816: http://yosemite.epa.gov/oeca/webeis.nsf/EIS01/903BD831703F8D6D85257BEB001BD305"
       ]
      },
      {
       "output_type": "stream",
       "stream": "stdout",
       "text": [
        "\n",
        "Getting # 4816: http://yosemite.epa.gov/oeca/webeis.nsf/EIS01/01E702C32AEE8E1E85257BEB001BD2FC"
       ]
      },
      {
       "output_type": "stream",
       "stream": "stdout",
       "text": [
        "\n",
        "Getting # 4816: http://yosemite.epa.gov/oeca/webeis.nsf/EIS01/BFA3FF48BD80786085257BEB001BD2B8"
       ]
      },
      {
       "output_type": "stream",
       "stream": "stdout",
       "text": [
        "\n",
        "Getting # 4816: http://yosemite.epa.gov/oeca/webeis.nsf/EIS01/3FD4FC5751AEA3B485257BEB001BD2D6"
       ]
      },
      {
       "output_type": "stream",
       "stream": "stdout",
       "text": [
        "\n",
        "Getting # 4816: http://yosemite.epa.gov/oeca/webeis.nsf/EIS01/06BBBA405BBB909785257BEB001BD2A9"
       ]
      },
      {
       "output_type": "stream",
       "stream": "stdout",
       "text": [
        "\n",
        "Getting # 4816: http://yosemite.epa.gov/oeca/webeis.nsf/EIS01/E112FC164753BE5A85257BEB001BD246"
       ]
      },
      {
       "output_type": "stream",
       "stream": "stdout",
       "text": [
        "\n",
        "Getting # 4816: http://yosemite.epa.gov/oeca/webeis.nsf/EIS01/BF101AA95B0B9FF985257BEB001BD237"
       ]
      },
      {
       "output_type": "stream",
       "stream": "stdout",
       "text": [
        "\n",
        "Getting # 4816: http://yosemite.epa.gov/oeca/webeis.nsf/EIS01/E99DB29817BB0DAE85257BEB001BD231"
       ]
      },
      {
       "output_type": "stream",
       "stream": "stdout",
       "text": [
        "\n",
        "Getting # 4816: http://yosemite.epa.gov/oeca/webeis.nsf/EIS01/71F3A6038E5DE87485257BEB001BD19F"
       ]
      },
      {
       "output_type": "stream",
       "stream": "stdout",
       "text": [
        "\n",
        "Getting # 4816: http://yosemite.epa.gov/oeca/webeis.nsf/EIS01/7E38AD8A73EACD4F85257BEB001BD199"
       ]
      },
      {
       "output_type": "stream",
       "stream": "stdout",
       "text": [
        "\n",
        "Getting # 4816: http://yosemite.epa.gov/oeca/webeis.nsf/EIS01/543AB9A476D7B89585257BEB001BD16F"
       ]
      },
      {
       "output_type": "stream",
       "stream": "stdout",
       "text": [
        "\n",
        "Getting # 4816: http://yosemite.epa.gov/oeca/webeis.nsf/EIS01/AC26AE0F1B63B93485257BEB001BD169"
       ]
      },
      {
       "output_type": "stream",
       "stream": "stdout",
       "text": [
        "\n",
        "Getting # 4816: http://yosemite.epa.gov/oeca/webeis.nsf/EIS01/D18568B1FFC7E71E85257BEB001BD15F"
       ]
      },
      {
       "output_type": "stream",
       "stream": "stdout",
       "text": [
        "\n",
        "Getting # 4816: http://yosemite.epa.gov/oeca/webeis.nsf/EIS01/020D28D1EC8DEC2985257BEB001BD156"
       ]
      },
      {
       "output_type": "stream",
       "stream": "stdout",
       "text": [
        "\n",
        "Getting # 4816: http://yosemite.epa.gov/oeca/webeis.nsf/EIS01/6390A3894D1429E485257BEB001BD149"
       ]
      },
      {
       "output_type": "stream",
       "stream": "stdout",
       "text": [
        "\n",
        "Getting # 4816: http://yosemite.epa.gov/oeca/webeis.nsf/EIS01/8C87AF70E786905C85257BEB001BD13D"
       ]
      },
      {
       "output_type": "stream",
       "stream": "stdout",
       "text": [
        "\n",
        "Getting # 4816: http://yosemite.epa.gov/oeca/webeis.nsf/EIS01/4769A2A93629AB2485257BEB001BD15C"
       ]
      },
      {
       "output_type": "stream",
       "stream": "stdout",
       "text": [
        "\n",
        "Getting # 4816: http://yosemite.epa.gov/oeca/webeis.nsf/EIS01/0742C5A3E7DB1BFD85257BEB001BD106"
       ]
      },
      {
       "output_type": "stream",
       "stream": "stdout",
       "text": [
        "\n",
        "Getting # 4816: http://yosemite.epa.gov/oeca/webeis.nsf/EIS01/3052094A3104F76B85257BEB001BD10E"
       ]
      },
      {
       "output_type": "stream",
       "stream": "stdout",
       "text": [
        "\n",
        "Getting # 4816: http://yosemite.epa.gov/oeca/webeis.nsf/EIS01/475C272DC74B210A85257BEB001BD132"
       ]
      },
      {
       "output_type": "stream",
       "stream": "stdout",
       "text": [
        "\n",
        "Getting # 4816: http://yosemite.epa.gov/oeca/webeis.nsf/EIS01/AD55B7C4A9AAFE2F85257BEB001BD100"
       ]
      },
      {
       "output_type": "stream",
       "stream": "stdout",
       "text": [
        "\n",
        "Getting # 4816: http://yosemite.epa.gov/oeca/webeis.nsf/EIS01/DC5D5552A35D74EA85257BEB001BD128"
       ]
      },
      {
       "output_type": "stream",
       "stream": "stdout",
       "text": [
        "\n",
        "Getting # 4816: http://yosemite.epa.gov/oeca/webeis.nsf/EIS01/FDA62A5A0307816F85257BEB001BD116"
       ]
      },
      {
       "output_type": "stream",
       "stream": "stdout",
       "text": [
        "\n",
        "Getting # 4816: http://yosemite.epa.gov/oeca/webeis.nsf/EIS01/77F4CAE1B25E192A85257BEB001BD0E4"
       ]
      },
      {
       "output_type": "stream",
       "stream": "stdout",
       "text": [
        "\n",
        "Getting # 4816: http://yosemite.epa.gov/oeca/webeis.nsf/EIS01/A0A5E572204FBF6785257BEB001BD0FD"
       ]
      },
      {
       "output_type": "stream",
       "stream": "stdout",
       "text": [
        "\n",
        "Getting # 4816: http://yosemite.epa.gov/oeca/webeis.nsf/EIS01/E6B571390497A88285257BEB001BD0FA"
       ]
      },
      {
       "output_type": "stream",
       "stream": "stdout",
       "text": [
        "\n",
        "Getting # 4816: http://yosemite.epa.gov/oeca/webeis.nsf/EIS01/F8F007821456597C85257BEB001BD0CB"
       ]
      },
      {
       "output_type": "stream",
       "stream": "stdout",
       "text": [
        "\n",
        "Getting # 4816: http://yosemite.epa.gov/oeca/webeis.nsf/EIS01/FF73205DDAC607F685257BEB001BD0C4"
       ]
      },
      {
       "output_type": "stream",
       "stream": "stdout",
       "text": [
        "\n",
        "Getting # 4816: http://yosemite.epa.gov/oeca/webeis.nsf/EIS01/4F9DE4531F7C551A85257BEB001BD096"
       ]
      },
      {
       "output_type": "stream",
       "stream": "stdout",
       "text": [
        "\n",
        "Getting # 4816: http://yosemite.epa.gov/oeca/webeis.nsf/EIS01/399482239FFA631485257BEB001BD0BA"
       ]
      },
      {
       "output_type": "stream",
       "stream": "stdout",
       "text": [
        "\n",
        "Getting # 4816: http://yosemite.epa.gov/oeca/webeis.nsf/EIS01/AD6FBC2B9E28A79E85257BEB001BD0A4"
       ]
      },
      {
       "output_type": "stream",
       "stream": "stdout",
       "text": [
        "\n",
        "Getting # 4816: http://yosemite.epa.gov/oeca/webeis.nsf/EIS01/E2FFC0579C1924E385257BEB001BD08C"
       ]
      },
      {
       "output_type": "stream",
       "stream": "stdout",
       "text": [
        "\n",
        "Getting # 4816: http://yosemite.epa.gov/oeca/webeis.nsf/EIS01/E6F55EC4CABAE85685257BEB001BD086"
       ]
      },
      {
       "output_type": "stream",
       "stream": "stdout",
       "text": [
        "\n",
        "Getting # 4816: http://yosemite.epa.gov/oeca/webeis.nsf/EIS01/CE65F0EC89B0AC2A85257BEB001BD08B"
       ]
      },
      {
       "output_type": "stream",
       "stream": "stdout",
       "text": [
        "\n",
        "Getting # 4816: http://yosemite.epa.gov/oeca/webeis.nsf/EIS01/69EF77360F8BAA8185257BEB001BD05D"
       ]
      },
      {
       "output_type": "stream",
       "stream": "stdout",
       "text": [
        "\n",
        "Getting # 4816: http://yosemite.epa.gov/oeca/webeis.nsf/EIS01/D00E9ADC8509D31385257BEB001BD043"
       ]
      },
      {
       "output_type": "stream",
       "stream": "stdout",
       "text": [
        "\n",
        "Getting # 4816: http://yosemite.epa.gov/oeca/webeis.nsf/EIS01/688BE94FEA76F20585257BEB001BD04E"
       ]
      },
      {
       "output_type": "stream",
       "stream": "stdout",
       "text": [
        "\n",
        "Getting # 4816: http://yosemite.epa.gov/oeca/webeis.nsf/EIS01/55E1A73065F81F3585257BEB001BD015"
       ]
      },
      {
       "output_type": "stream",
       "stream": "stdout",
       "text": [
        "\n",
        "Getting # 4816: http://yosemite.epa.gov/oeca/webeis.nsf/EIS01/05DFA15356F51F7A85257BEB001BD035"
       ]
      },
      {
       "output_type": "stream",
       "stream": "stdout",
       "text": [
        "\n",
        "Getting # 4816: http://yosemite.epa.gov/oeca/webeis.nsf/EIS01/4321CE9AAF61C4B485257BEB001BCFDF"
       ]
      },
      {
       "output_type": "stream",
       "stream": "stdout",
       "text": [
        "\n",
        "Getting # 4816: http://yosemite.epa.gov/oeca/webeis.nsf/EIS01/A8419E1284FDD67A85257BEB001BCFE5"
       ]
      },
      {
       "output_type": "stream",
       "stream": "stdout",
       "text": [
        "\n",
        "Getting # 4816: http://yosemite.epa.gov/oeca/webeis.nsf/EIS01/6B2374E5178A032285257BEB001BCFC0"
       ]
      },
      {
       "output_type": "stream",
       "stream": "stdout",
       "text": [
        "\n",
        "Getting # 4816: http://yosemite.epa.gov/oeca/webeis.nsf/EIS01/0FB07731A6E5B6C185257BEB001BCFBC"
       ]
      },
      {
       "output_type": "stream",
       "stream": "stdout",
       "text": [
        "\n",
        "Getting # 4816: http://yosemite.epa.gov/oeca/webeis.nsf/EIS01/8512CA37EB09E8B785257BEB001BCFD2"
       ]
      },
      {
       "output_type": "stream",
       "stream": "stdout",
       "text": [
        "\n",
        "Getting # 4816: http://yosemite.epa.gov/oeca/webeis.nsf/EIS01/C2268D4A733F6B3085257BEB001BCF2D"
       ]
      },
      {
       "output_type": "stream",
       "stream": "stdout",
       "text": [
        "\n",
        "Getting # 4816: http://yosemite.epa.gov/oeca/webeis.nsf/EIS01/B80189C5B5D901CA85257B000020FE8C"
       ]
      },
      {
       "output_type": "stream",
       "stream": "stdout",
       "text": [
        "\n",
        "Getting # 4816: http://yosemite.epa.gov/oeca/webeis.nsf/EIS01/B04086E77B34169D85257BEB001BCF01"
       ]
      },
      {
       "output_type": "stream",
       "stream": "stdout",
       "text": [
        "\n",
        "Getting # 4816: http://yosemite.epa.gov/oeca/webeis.nsf/EIS01/7EB7C53C7A2E6C7885257BEB001BCEA5"
       ]
      },
      {
       "output_type": "stream",
       "stream": "stdout",
       "text": [
        "\n",
        "Getting # 4816: http://yosemite.epa.gov/oeca/webeis.nsf/EIS01/EE63C9072FE3CFE885257BEB001BCE8C"
       ]
      },
      {
       "output_type": "stream",
       "stream": "stdout",
       "text": [
        "\n",
        "Getting # 4816: http://yosemite.epa.gov/oeca/webeis.nsf/EIS01/1B31233B3F19B55385257BEB001BCE0A"
       ]
      },
      {
       "output_type": "stream",
       "stream": "stdout",
       "text": [
        "\n",
        "Getting # 4816: http://yosemite.epa.gov/oeca/webeis.nsf/EIS01/BB7B6C7BAB9E2CE685257BEB001BCE71"
       ]
      },
      {
       "output_type": "stream",
       "stream": "stdout",
       "text": [
        "\n",
        "Getting # 4816: http://yosemite.epa.gov/oeca/webeis.nsf/EIS01/C8266243797C25AD85257BEB001BCE18"
       ]
      },
      {
       "output_type": "stream",
       "stream": "stdout",
       "text": [
        "\n",
        "Getting # 4816: http://yosemite.epa.gov/oeca/webeis.nsf/EIS01/14DEBE07C8E2234E85257BEB001BCDDD"
       ]
      },
      {
       "output_type": "stream",
       "stream": "stdout",
       "text": [
        "\n",
        "Getting # 4816: http://yosemite.epa.gov/oeca/webeis.nsf/EIS01/54A9E62D29D08D0C85257BEB001BCDBA"
       ]
      },
      {
       "output_type": "stream",
       "stream": "stdout",
       "text": [
        "\n",
        "Getting # 4816: http://yosemite.epa.gov/oeca/webeis.nsf/EIS01/017E4866258054FE85257BEB001BCD77"
       ]
      },
      {
       "output_type": "stream",
       "stream": "stdout",
       "text": [
        "\n",
        "Getting # 4816: http://yosemite.epa.gov/oeca/webeis.nsf/EIS01/CF829A6C19F310EC85257BEB001BCD56"
       ]
      },
      {
       "output_type": "stream",
       "stream": "stdout",
       "text": [
        "\n",
        "Getting # 4816: http://yosemite.epa.gov/oeca/webeis.nsf/EIS01/EA3DCF58D5121F1D85257BEB001BCD58"
       ]
      },
      {
       "output_type": "stream",
       "stream": "stdout",
       "text": [
        "\n",
        "Getting # 4816: http://yosemite.epa.gov/oeca/webeis.nsf/EIS01/D7ACB8BE2EDE5FB985257BEB001BCD69"
       ]
      },
      {
       "output_type": "stream",
       "stream": "stdout",
       "text": [
        "\n",
        "Getting # 4816: http://yosemite.epa.gov/oeca/webeis.nsf/EIS01/B47481A6B25D871885257BEB001BCD72"
       ]
      },
      {
       "output_type": "stream",
       "stream": "stdout",
       "text": [
        "\n",
        "Getting # 4816: http://yosemite.epa.gov/oeca/webeis.nsf/EIS01/EEE9CE1DBF992F5185257BEB001BCD18"
       ]
      },
      {
       "output_type": "stream",
       "stream": "stdout",
       "text": [
        "\n",
        "Getting # 4816: http://yosemite.epa.gov/oeca/webeis.nsf/EIS01/1EEE76360C49FDD585257BEB001BCD20"
       ]
      },
      {
       "output_type": "stream",
       "stream": "stdout",
       "text": [
        "\n",
        "Getting # 4816: http://yosemite.epa.gov/oeca/webeis.nsf/EIS01/B447DEB53F50410185257BEB001BCD32"
       ]
      },
      {
       "output_type": "stream",
       "stream": "stdout",
       "text": [
        "\n",
        "Getting # 4816: http://yosemite.epa.gov/oeca/webeis.nsf/EIS01/C727509C24B8C2F685257BEB001BCCFF"
       ]
      },
      {
       "output_type": "stream",
       "stream": "stdout",
       "text": [
        "\n",
        "Getting # 4816: http://yosemite.epa.gov/oeca/webeis.nsf/EIS01/D7552DF084B5118285257BEB001BCCFC"
       ]
      },
      {
       "output_type": "stream",
       "stream": "stdout",
       "text": [
        "\n",
        "Getting # 4816: http://yosemite.epa.gov/oeca/webeis.nsf/EIS01/F006B8826A7DAEA285257BEB001BCD04"
       ]
      },
      {
       "output_type": "stream",
       "stream": "stdout",
       "text": [
        "\n",
        "Getting # 4816: http://yosemite.epa.gov/oeca/webeis.nsf/EIS01/7AA006EA5CA1F65085257BEB001BCCAE"
       ]
      },
      {
       "output_type": "stream",
       "stream": "stdout",
       "text": [
        "\n",
        "Getting # 4816: http://yosemite.epa.gov/oeca/webeis.nsf/EIS01/0364F8BE9BC77ECD85257BEB001BCCB2"
       ]
      },
      {
       "output_type": "stream",
       "stream": "stdout",
       "text": [
        "\n",
        "Getting # 4816: http://yosemite.epa.gov/oeca/webeis.nsf/EIS01/BEED4EA843A1FC9185257BEB001BCCF1"
       ]
      },
      {
       "output_type": "stream",
       "stream": "stdout",
       "text": [
        "\n",
        "Getting # 4816: http://yosemite.epa.gov/oeca/webeis.nsf/EIS01/F6983E648366DF2185257BEB001BCCA4"
       ]
      },
      {
       "output_type": "stream",
       "stream": "stdout",
       "text": [
        "\n",
        "Getting # 4816: http://yosemite.epa.gov/oeca/webeis.nsf/EIS01/0A6249125BD0622E85257BEB001BCC9E"
       ]
      },
      {
       "output_type": "stream",
       "stream": "stdout",
       "text": [
        "\n",
        "Getting # 4816: http://yosemite.epa.gov/oeca/webeis.nsf/EIS01/07986B51D94BF6A185257BEB001BCC31"
       ]
      },
      {
       "output_type": "stream",
       "stream": "stdout",
       "text": [
        "\n",
        "Getting # 4816: http://yosemite.epa.gov/oeca/webeis.nsf/EIS01/354F83D07FCC915085257BEB001BCC8E"
       ]
      },
      {
       "output_type": "stream",
       "stream": "stdout",
       "text": [
        "\n",
        "Getting # 4816: http://yosemite.epa.gov/oeca/webeis.nsf/EIS01/48D3488E3C2D4C6A85257BEB001BCC4A"
       ]
      },
      {
       "output_type": "stream",
       "stream": "stdout",
       "text": [
        "\n",
        "Getting # 4816: http://yosemite.epa.gov/oeca/webeis.nsf/EIS01/4C625D2CF41E000885257BEB001BCC4E"
       ]
      },
      {
       "output_type": "stream",
       "stream": "stdout",
       "text": [
        "\n",
        "Getting # 4816: http://yosemite.epa.gov/oeca/webeis.nsf/EIS01/62F390BA06E8435185257BEB001BCC40"
       ]
      },
      {
       "output_type": "stream",
       "stream": "stdout",
       "text": [
        "\n",
        "Getting # 4816: http://yosemite.epa.gov/oeca/webeis.nsf/EIS01/C6D0AD0C9149384A85257BEB001BCC29"
       ]
      },
      {
       "output_type": "stream",
       "stream": "stdout",
       "text": [
        "\n",
        "Getting # 4816: http://yosemite.epa.gov/oeca/webeis.nsf/EIS01/DCBCA07C77516F6785257BEB001BCC3D"
       ]
      },
      {
       "output_type": "stream",
       "stream": "stdout",
       "text": [
        "\n",
        "Getting # 4816: http://yosemite.epa.gov/oeca/webeis.nsf/EIS01/07792815FB7BCA0785257BEB001BCC0B"
       ]
      },
      {
       "output_type": "stream",
       "stream": "stdout",
       "text": [
        "\n",
        "Getting # 4816: http://yosemite.epa.gov/oeca/webeis.nsf/EIS01/7AF0F51411B355FD85257BEB001BCC98"
       ]
      },
      {
       "output_type": "stream",
       "stream": "stdout",
       "text": [
        "\n",
        "Getting # 4816: http://yosemite.epa.gov/oeca/webeis.nsf/EIS01/C368FE779E46AEEB85257BEB001BCC16"
       ]
      },
      {
       "output_type": "stream",
       "stream": "stdout",
       "text": [
        "\n",
        "Getting # 4816: http://yosemite.epa.gov/oeca/webeis.nsf/EIS01/20477B94D394649885257BEB001BCBFD"
       ]
      },
      {
       "output_type": "stream",
       "stream": "stdout",
       "text": [
        "\n",
        "Getting # 4816: http://yosemite.epa.gov/oeca/webeis.nsf/EIS01/3D43A4C50D3B6A5885257BEB001BCBA2"
       ]
      },
      {
       "output_type": "stream",
       "stream": "stdout",
       "text": [
        "\n",
        "Getting # 4816: http://yosemite.epa.gov/oeca/webeis.nsf/EIS01/6773F8328ECDB6C185257BEB001BCBA7"
       ]
      },
      {
       "output_type": "stream",
       "stream": "stdout",
       "text": [
        "\n",
        "Getting # 4816: http://yosemite.epa.gov/oeca/webeis.nsf/EIS01/73C015950DB3ED8885257BEB001BCBF1"
       ]
      },
      {
       "output_type": "stream",
       "stream": "stdout",
       "text": [
        "\n",
        "Getting # 4816: http://yosemite.epa.gov/oeca/webeis.nsf/EIS01/8D8E778E1142E11485257BEB001BCBB2"
       ]
      },
      {
       "output_type": "stream",
       "stream": "stdout",
       "text": [
        "\n",
        "Getting # 4816: http://yosemite.epa.gov/oeca/webeis.nsf/EIS01/BA79ED7D5A5CEBFC85257BEB001BCB83"
       ]
      },
      {
       "output_type": "stream",
       "stream": "stdout",
       "text": [
        "\n",
        "Getting # 4816: http://yosemite.epa.gov/oeca/webeis.nsf/EIS01/78923E51C82C9FE785257BEB001BCB9C"
       ]
      },
      {
       "output_type": "stream",
       "stream": "stdout",
       "text": [
        "\n",
        "Getting # 4816: http://yosemite.epa.gov/oeca/webeis.nsf/EIS01/75FC7ADCF067012A85257BEB001BCB7D"
       ]
      },
      {
       "output_type": "stream",
       "stream": "stdout",
       "text": [
        "\n",
        "Getting # 4816: http://yosemite.epa.gov/oeca/webeis.nsf/EIS01/16B6B8AF0D057CAD85257BEB001BCB5F"
       ]
      },
      {
       "output_type": "stream",
       "stream": "stdout",
       "text": [
        "\n",
        "Getting # 4816: http://yosemite.epa.gov/oeca/webeis.nsf/EIS01/3B705CA5FA0D7DBB85257BEB001BCB6A"
       ]
      },
      {
       "output_type": "stream",
       "stream": "stdout",
       "text": [
        "\n",
        "Getting # 4816: http://yosemite.epa.gov/oeca/webeis.nsf/EIS01/3FB45C8554C6660C85257BEB001BCB54"
       ]
      },
      {
       "output_type": "stream",
       "stream": "stdout",
       "text": [
        "\n",
        "Getting # 4816: http://yosemite.epa.gov/oeca/webeis.nsf/EIS01/A06D3250542AFAD785257BEB001BCB11"
       ]
      },
      {
       "output_type": "stream",
       "stream": "stdout",
       "text": [
        "\n",
        "Getting # 4816: http://yosemite.epa.gov/oeca/webeis.nsf/EIS01/F763A63B4D923C0985257BEB001BCAEA"
       ]
      },
      {
       "output_type": "stream",
       "stream": "stdout",
       "text": [
        "\n",
        "Getting # 4816: http://yosemite.epa.gov/oeca/webeis.nsf/EIS01/E5FB44763CEE036985257BEB001BCAE1"
       ]
      },
      {
       "output_type": "stream",
       "stream": "stdout",
       "text": [
        "\n",
        "Getting # 4816: http://yosemite.epa.gov/oeca/webeis.nsf/EIS01/4062D5F39CD0727985257BEB001BCA86"
       ]
      },
      {
       "output_type": "stream",
       "stream": "stdout",
       "text": [
        "\n",
        "Getting # 4816: http://yosemite.epa.gov/oeca/webeis.nsf/EIS01/4F3DBB71D4C9927A85257BEB001BCAD4"
       ]
      },
      {
       "output_type": "stream",
       "stream": "stdout",
       "text": [
        "\n",
        "Getting # 4816: http://yosemite.epa.gov/oeca/webeis.nsf/EIS01/59B739A6C3544A2985257BEB001BCAA8"
       ]
      },
      {
       "output_type": "stream",
       "stream": "stdout",
       "text": [
        "\n",
        "Getting # 4816: http://yosemite.epa.gov/oeca/webeis.nsf/EIS01/5E9E96C7BA5FA35185257BEB001BCAA2"
       ]
      },
      {
       "output_type": "stream",
       "stream": "stdout",
       "text": [
        "\n",
        "Getting # 4816: http://yosemite.epa.gov/oeca/webeis.nsf/EIS01/FC673E7E9954F33885257BEB001BCA5F"
       ]
      },
      {
       "output_type": "stream",
       "stream": "stdout",
       "text": [
        "\n",
        "Getting # 4816: http://yosemite.epa.gov/oeca/webeis.nsf/EIS01/E3BCECB8FBADC68B85257BEB001BCABB"
       ]
      },
      {
       "output_type": "stream",
       "stream": "stdout",
       "text": [
        "\n",
        "Getting # 4816: http://yosemite.epa.gov/oeca/webeis.nsf/EIS01/936C3D604E10FD2185257BEB001BC9DA"
       ]
      },
      {
       "output_type": "stream",
       "stream": "stdout",
       "text": [
        "\n",
        "Getting # 4816: http://yosemite.epa.gov/oeca/webeis.nsf/EIS01/9ACF05BD3CB8730485257BEB001BCA33"
       ]
      },
      {
       "output_type": "stream",
       "stream": "stdout",
       "text": [
        "\n",
        "Getting # 4816: http://yosemite.epa.gov/oeca/webeis.nsf/EIS01/6F5C90D498C7FA6785257BEB001BC9CB"
       ]
      },
      {
       "output_type": "stream",
       "stream": "stdout",
       "text": [
        "\n",
        "Getting # 4816: http://yosemite.epa.gov/oeca/webeis.nsf/EIS01/A2CA5D408939D98085257BEB001BC9DF"
       ]
      },
      {
       "output_type": "stream",
       "stream": "stdout",
       "text": [
        "\n",
        "Getting # 4816: http://yosemite.epa.gov/oeca/webeis.nsf/EIS01/0B46C45725DBA5AE85257BEB001BC987"
       ]
      },
      {
       "output_type": "stream",
       "stream": "stdout",
       "text": [
        "\n",
        "Getting # 4816: http://yosemite.epa.gov/oeca/webeis.nsf/EIS01/C69BA8CB00B423CB85257BEB001BC999"
       ]
      },
      {
       "output_type": "stream",
       "stream": "stdout",
       "text": [
        "\n",
        "Getting # 4816: http://yosemite.epa.gov/oeca/webeis.nsf/EIS01/F4E5E3245F2C4C8A85257BEB001BC981"
       ]
      },
      {
       "output_type": "stream",
       "stream": "stdout",
       "text": [
        "\n",
        "Getting # 4816: http://yosemite.epa.gov/oeca/webeis.nsf/EIS01/7D9333DC31A65C4685257BEB001BC91A"
       ]
      },
      {
       "output_type": "stream",
       "stream": "stdout",
       "text": [
        "\n",
        "Getting # 4816: http://yosemite.epa.gov/oeca/webeis.nsf/EIS01/F08F989B0AAAD22585257BEB001BC90D"
       ]
      },
      {
       "output_type": "stream",
       "stream": "stdout",
       "text": [
        "\n",
        "Getting # 4816: http://yosemite.epa.gov/oeca/webeis.nsf/EIS01/835E96F55486DED885257BEB001BC912"
       ]
      },
      {
       "output_type": "stream",
       "stream": "stdout",
       "text": [
        "\n",
        "Getting # 4816: http://yosemite.epa.gov/oeca/webeis.nsf/EIS01/686F58456543219685257BEB001BC962"
       ]
      },
      {
       "output_type": "stream",
       "stream": "stdout",
       "text": [
        "\n",
        "Getting # 4816: http://yosemite.epa.gov/oeca/webeis.nsf/EIS01/08439B193838507685257BEB001BC920"
       ]
      },
      {
       "output_type": "stream",
       "stream": "stdout",
       "text": [
        "\n",
        "Getting # 4816: http://yosemite.epa.gov/oeca/webeis.nsf/EIS01/733F40A23997664085257BEB001BC8F0"
       ]
      },
      {
       "output_type": "stream",
       "stream": "stdout",
       "text": [
        "\n",
        "Getting # 4816: http://yosemite.epa.gov/oeca/webeis.nsf/EIS01/0ABBDB65D034AF9885257BEB001BC906"
       ]
      },
      {
       "output_type": "stream",
       "stream": "stdout",
       "text": [
        "\n",
        "Getting # 4816: http://yosemite.epa.gov/oeca/webeis.nsf/EIS01/B5800BB3AA356F5685257BEB001BC8C6"
       ]
      },
      {
       "output_type": "stream",
       "stream": "stdout",
       "text": [
        "\n",
        "Getting # 4816: http://yosemite.epa.gov/oeca/webeis.nsf/EIS01/7D2DC066FFFDACF385257BEB001BC8FC"
       ]
      },
      {
       "output_type": "stream",
       "stream": "stdout",
       "text": [
        "\n",
        "Getting # 4816: http://yosemite.epa.gov/oeca/webeis.nsf/EIS01/A9443A61510A47D285257BEB001BC8AE"
       ]
      },
      {
       "output_type": "stream",
       "stream": "stdout",
       "text": [
        "\n",
        "Getting # 4816: http://yosemite.epa.gov/oeca/webeis.nsf/EIS01/10355511A3DD400D85257BEB001BC889"
       ]
      },
      {
       "output_type": "stream",
       "stream": "stdout",
       "text": [
        "\n",
        "Getting # 4816: http://yosemite.epa.gov/oeca/webeis.nsf/EIS01/146F78241730F1BB85257BEB001BC8A6"
       ]
      },
      {
       "output_type": "stream",
       "stream": "stdout",
       "text": [
        "\n",
        "Getting # 4816: http://yosemite.epa.gov/oeca/webeis.nsf/EIS01/1BACB597606BDBB685257BEB001BC890"
       ]
      },
      {
       "output_type": "stream",
       "stream": "stdout",
       "text": [
        "\n",
        "Getting # 4816: http://yosemite.epa.gov/oeca/webeis.nsf/EIS01/882488DDA714B75E85257BEB001BC873"
       ]
      },
      {
       "output_type": "stream",
       "stream": "stdout",
       "text": [
        "\n",
        "Getting # 4816: http://yosemite.epa.gov/oeca/webeis.nsf/EIS01/F58FA6F41ACE68A385257BEB001BC89F"
       ]
      },
      {
       "output_type": "stream",
       "stream": "stdout",
       "text": [
        "\n",
        "Getting # 4816: http://yosemite.epa.gov/oeca/webeis.nsf/EIS01/D84EEDE62B58939385257BEB001BC8A9"
       ]
      },
      {
       "output_type": "stream",
       "stream": "stdout",
       "text": [
        "\n",
        "Getting # 4816: http://yosemite.epa.gov/oeca/webeis.nsf/EIS01/C842242AA9B68BFA85257BEB001BC826"
       ]
      },
      {
       "output_type": "stream",
       "stream": "stdout",
       "text": [
        "\n",
        "Getting # 4816: http://yosemite.epa.gov/oeca/webeis.nsf/EIS01/C2D7054D5314362585257BEB001BC80D"
       ]
      },
      {
       "output_type": "stream",
       "stream": "stdout",
       "text": [
        "\n",
        "Getting # 4816: http://yosemite.epa.gov/oeca/webeis.nsf/EIS01/2705EC2B7C3D1B8485257BEB001BC7A5"
       ]
      },
      {
       "output_type": "stream",
       "stream": "stdout",
       "text": [
        "\n",
        "Getting # 4816: http://yosemite.epa.gov/oeca/webeis.nsf/EIS01/4E41073C03C1124185257BEB001BC75D"
       ]
      },
      {
       "output_type": "stream",
       "stream": "stdout",
       "text": [
        "\n",
        "Getting # 4816: http://yosemite.epa.gov/oeca/webeis.nsf/EIS01/CF6A633F7EE8A55D85257BEB001BC7A6"
       ]
      },
      {
       "output_type": "stream",
       "stream": "stdout",
       "text": [
        "\n",
        "Getting # 4816: http://yosemite.epa.gov/oeca/webeis.nsf/EIS01/DEE81E4FDEC7254185257BEB001BC7AC"
       ]
      },
      {
       "output_type": "stream",
       "stream": "stdout",
       "text": [
        "\n",
        "Getting # 4816: http://yosemite.epa.gov/oeca/webeis.nsf/EIS01/F4B8DFA15DE812BF85257BEB001BC7B7"
       ]
      },
      {
       "output_type": "stream",
       "stream": "stdout",
       "text": [
        "\n",
        "Getting # 4816: http://yosemite.epa.gov/oeca/webeis.nsf/EIS01/CA6632914D9CE20C85257BEB001BC6F9"
       ]
      },
      {
       "output_type": "stream",
       "stream": "stdout",
       "text": [
        "\n",
        "Getting # 4816: http://yosemite.epa.gov/oeca/webeis.nsf/EIS01/E29CFDBB77514EBC85257BEB001BC70A"
       ]
      },
      {
       "output_type": "stream",
       "stream": "stdout",
       "text": [
        "\n",
        "Getting # 4816: http://yosemite.epa.gov/oeca/webeis.nsf/EIS01/EAF59F85C2D062A485257BEB001BC6FF"
       ]
      },
      {
       "output_type": "stream",
       "stream": "stdout",
       "text": [
        "\n",
        "Getting # 4816: http://yosemite.epa.gov/oeca/webeis.nsf/EIS01/F1CA4C7234BA5EFB85257BEB001BC6E6"
       ]
      },
      {
       "output_type": "stream",
       "stream": "stdout",
       "text": [
        "\n",
        "Getting # 4816: http://yosemite.epa.gov/oeca/webeis.nsf/EIS01/180F75EBE333FB2685257BEB001BC72B"
       ]
      },
      {
       "output_type": "stream",
       "stream": "stdout",
       "text": [
        "\n",
        "Getting # 4816: http://yosemite.epa.gov/oeca/webeis.nsf/EIS01/4BCDE536049448B285257BEB001BC715"
       ]
      },
      {
       "output_type": "stream",
       "stream": "stdout",
       "text": [
        "\n",
        "Getting # 4816: http://yosemite.epa.gov/oeca/webeis.nsf/EIS01/EEA8864464459D0C85257BEB001BC71B"
       ]
      },
      {
       "output_type": "stream",
       "stream": "stdout",
       "text": [
        "\n",
        "Getting # 4816: http://yosemite.epa.gov/oeca/webeis.nsf/EIS01/A2DD7162D60D847A85257BEB001BC6B5"
       ]
      },
      {
       "output_type": "stream",
       "stream": "stdout",
       "text": [
        "\n",
        "Getting # 4816: http://yosemite.epa.gov/oeca/webeis.nsf/EIS01/C6373961ABCC5C9785257BEB001BC6DE"
       ]
      },
      {
       "output_type": "stream",
       "stream": "stdout",
       "text": [
        "\n",
        "Getting # 4816: http://yosemite.epa.gov/oeca/webeis.nsf/EIS01/91FA6B9A2C5972F385257BEB001BC6D6"
       ]
      },
      {
       "output_type": "stream",
       "stream": "stdout",
       "text": [
        "\n",
        "Getting # 4816: http://yosemite.epa.gov/oeca/webeis.nsf/EIS01/FA631D1A6F0076AB85257BEB001BC6BC"
       ]
      },
      {
       "output_type": "stream",
       "stream": "stdout",
       "text": [
        "\n",
        "Getting # 4816: http://yosemite.epa.gov/oeca/webeis.nsf/EIS01/6FF59079D7CAF96185257BEB001BC67D"
       ]
      },
      {
       "output_type": "stream",
       "stream": "stdout",
       "text": [
        "\n",
        "Getting # 4816: http://yosemite.epa.gov/oeca/webeis.nsf/EIS01/2005703F2450C66885257BEB001BC6A9"
       ]
      },
      {
       "output_type": "stream",
       "stream": "stdout",
       "text": [
        "\n",
        "Getting # 4816: http://yosemite.epa.gov/oeca/webeis.nsf/EIS01/C25DD90D8AB59B6185257BEB001BC6A6"
       ]
      },
      {
       "output_type": "stream",
       "stream": "stdout",
       "text": [
        "\n",
        "Getting # 4816: http://yosemite.epa.gov/oeca/webeis.nsf/EIS01/D90FD24976B4E27985257BEB001BC698"
       ]
      },
      {
       "output_type": "stream",
       "stream": "stdout",
       "text": [
        "\n",
        "Getting # 4816: http://yosemite.epa.gov/oeca/webeis.nsf/EIS01/DBCCAB7B9D7AEBEE85257BEB001BC690"
       ]
      },
      {
       "output_type": "stream",
       "stream": "stdout",
       "text": [
        "\n",
        "Getting # 4816: http://yosemite.epa.gov/oeca/webeis.nsf/EIS01/D59E970A261FC5ED85257BEB001BC64E"
       ]
      },
      {
       "output_type": "stream",
       "stream": "stdout",
       "text": [
        "\n",
        "Getting # 4816: http://yosemite.epa.gov/oeca/webeis.nsf/EIS01/DBB4A8CEACC90A8785257BEB001BC632"
       ]
      },
      {
       "output_type": "stream",
       "stream": "stdout",
       "text": [
        "\n",
        "Getting # 4816: http://yosemite.epa.gov/oeca/webeis.nsf/EIS01/24AA0B03A20099B985257BEB001BC63C"
       ]
      },
      {
       "output_type": "stream",
       "stream": "stdout",
       "text": [
        "\n",
        "Getting # 4816: http://yosemite.epa.gov/oeca/webeis.nsf/EIS01/C7A8085389B9F3C885257BEB001BC5D9"
       ]
      },
      {
       "output_type": "stream",
       "stream": "stdout",
       "text": [
        "\n",
        "Getting # 4816: http://yosemite.epa.gov/oeca/webeis.nsf/EIS01/54D81B40025D443885257BEB001BC5E9"
       ]
      },
      {
       "output_type": "stream",
       "stream": "stdout",
       "text": [
        "\n",
        "Getting # 4816: http://yosemite.epa.gov/oeca/webeis.nsf/EIS01/BA9A55EE9908AC1F85257BEB001BC5C2"
       ]
      },
      {
       "output_type": "stream",
       "stream": "stdout",
       "text": [
        "\n",
        "Getting # 4816: http://yosemite.epa.gov/oeca/webeis.nsf/EIS01/C8AD26A735B4A5AF85257BEB001BC5E3"
       ]
      },
      {
       "output_type": "stream",
       "stream": "stdout",
       "text": [
        "\n",
        "Getting # 4816: http://yosemite.epa.gov/oeca/webeis.nsf/EIS01/DBC181352BDEFF0885257BEB001BC5B5"
       ]
      },
      {
       "output_type": "stream",
       "stream": "stdout",
       "text": [
        "\n",
        "Getting # 4816: http://yosemite.epa.gov/oeca/webeis.nsf/EIS01/1B458088A46A1B5F85257BEB001BC616"
       ]
      },
      {
       "output_type": "stream",
       "stream": "stdout",
       "text": [
        "\n",
        "Getting # 4816: http://yosemite.epa.gov/oeca/webeis.nsf/EIS01/1CF723E98A5E623A85257BEB001BC537"
       ]
      },
      {
       "output_type": "stream",
       "stream": "stdout",
       "text": [
        "\n",
        "Getting # 4816: http://yosemite.epa.gov/oeca/webeis.nsf/EIS01/2ADE09E63E7DD96585257BEB001BC532"
       ]
      },
      {
       "output_type": "stream",
       "stream": "stdout",
       "text": [
        "\n",
        "Getting # 4816: http://yosemite.epa.gov/oeca/webeis.nsf/EIS01/800F4F24CBEC2CFF85257BEB001BC542"
       ]
      },
      {
       "output_type": "stream",
       "stream": "stdout",
       "text": [
        "\n",
        "Getting # 4816: http://yosemite.epa.gov/oeca/webeis.nsf/EIS01/A044983302113F2085257BEB001BC53D"
       ]
      },
      {
       "output_type": "stream",
       "stream": "stdout",
       "text": [
        "\n",
        "Getting # 4816: http://yosemite.epa.gov/oeca/webeis.nsf/EIS01/BC9FF110FFF0768385257BEB001BC517"
       ]
      },
      {
       "output_type": "stream",
       "stream": "stdout",
       "text": [
        "\n",
        "Getting # 4816: http://yosemite.epa.gov/oeca/webeis.nsf/EIS01/9E8080D84E66456A85257BEB001BC511"
       ]
      },
      {
       "output_type": "stream",
       "stream": "stdout",
       "text": [
        "\n",
        "Getting # 4816: http://yosemite.epa.gov/oeca/webeis.nsf/EIS01/67F38439E2CABD4785257BEB001BC4FD"
       ]
      },
      {
       "output_type": "stream",
       "stream": "stdout",
       "text": [
        "\n",
        "Getting # 4816: http://yosemite.epa.gov/oeca/webeis.nsf/EIS01/71422495D2A24ACD85257BEB001BC4F2"
       ]
      },
      {
       "output_type": "stream",
       "stream": "stdout",
       "text": [
        "\n",
        "Getting # 4816: http://yosemite.epa.gov/oeca/webeis.nsf/EIS01/5170271EDFC5BEDA85257BEB001BC4F3"
       ]
      },
      {
       "output_type": "stream",
       "stream": "stdout",
       "text": [
        "\n",
        "Getting # 4816: http://yosemite.epa.gov/oeca/webeis.nsf/EIS01/C43EA10FF737F31285257BEB001BC4C3"
       ]
      },
      {
       "output_type": "stream",
       "stream": "stdout",
       "text": [
        "\n",
        "Getting # 4816: http://yosemite.epa.gov/oeca/webeis.nsf/EIS01/CDE589B7C56B3CEC85257BEB001BC468"
       ]
      },
      {
       "output_type": "stream",
       "stream": "stdout",
       "text": [
        "\n",
        "Getting # 4816: http://yosemite.epa.gov/oeca/webeis.nsf/EIS01/D3CF16BA474BB9F685257BEB001BC480"
       ]
      },
      {
       "output_type": "stream",
       "stream": "stdout",
       "text": [
        "\n",
        "Getting # 4816: http://yosemite.epa.gov/oeca/webeis.nsf/EIS01/D90C1C66202794A385257BEB001BC476"
       ]
      },
      {
       "output_type": "stream",
       "stream": "stdout",
       "text": [
        "\n",
        "Getting # 4816: http://yosemite.epa.gov/oeca/webeis.nsf/EIS01/538B53C081929CD685257BEB001BC3F3"
       ]
      },
      {
       "output_type": "stream",
       "stream": "stdout",
       "text": [
        "\n",
        "Getting # 4816: http://yosemite.epa.gov/oeca/webeis.nsf/EIS01/8EEABABE7BFC133F85257BEB001BC40C"
       ]
      },
      {
       "output_type": "stream",
       "stream": "stdout",
       "text": [
        "\n",
        "Getting # 4816: http://yosemite.epa.gov/oeca/webeis.nsf/EIS01/CF849FC9CC751C9085257BEB001BC3E0"
       ]
      },
      {
       "output_type": "stream",
       "stream": "stdout",
       "text": [
        "\n",
        "Getting # 4816: http://yosemite.epa.gov/oeca/webeis.nsf/EIS01/C4B6E4903DD8804285257BEB001BC3F0"
       ]
      },
      {
       "output_type": "stream",
       "stream": "stdout",
       "text": [
        "\n",
        "Getting # 4816: http://yosemite.epa.gov/oeca/webeis.nsf/EIS01/CBBF452F5288F39B85257BEB001BC3E4"
       ]
      },
      {
       "output_type": "stream",
       "stream": "stdout",
       "text": [
        "\n",
        "Getting # 4816: http://yosemite.epa.gov/oeca/webeis.nsf/EIS01/BFB53A7E39705C2C85257BEB001BC3A7"
       ]
      },
      {
       "output_type": "stream",
       "stream": "stdout",
       "text": [
        "\n",
        "Getting # 4816: http://yosemite.epa.gov/oeca/webeis.nsf/EIS01/3D3E7CA50212EDF585257BEB001BC36D"
       ]
      },
      {
       "output_type": "stream",
       "stream": "stdout",
       "text": [
        "\n",
        "Getting # 4816: http://yosemite.epa.gov/oeca/webeis.nsf/EIS01/42188A391104584A85257BEB001BC36A"
       ]
      },
      {
       "output_type": "stream",
       "stream": "stdout",
       "text": [
        "\n",
        "Getting # 4816: http://yosemite.epa.gov/oeca/webeis.nsf/EIS01/A6707DDB16B8783885257BEB001BC35D"
       ]
      },
      {
       "output_type": "stream",
       "stream": "stdout",
       "text": [
        "\n",
        "Getting # 4816: http://yosemite.epa.gov/oeca/webeis.nsf/EIS01/8B1802213BFAE71585257BEB001BC344"
       ]
      },
      {
       "output_type": "stream",
       "stream": "stdout",
       "text": [
        "\n",
        "Getting # 4816: http://yosemite.epa.gov/oeca/webeis.nsf/EIS01/4456EACDD534636E85257BEB001BC368"
       ]
      },
      {
       "output_type": "stream",
       "stream": "stdout",
       "text": [
        "\n",
        "Getting # 4816: http://yosemite.epa.gov/oeca/webeis.nsf/EIS01/98B686AE4B09E19585257BEB001BC365"
       ]
      },
      {
       "output_type": "stream",
       "stream": "stdout",
       "text": [
        "\n",
        "Getting # 4816: http://yosemite.epa.gov/oeca/webeis.nsf/EIS01/3DC72023642690BC85257BEB001BC32E"
       ]
      },
      {
       "output_type": "stream",
       "stream": "stdout",
       "text": [
        "\n",
        "Getting # 4816: http://yosemite.epa.gov/oeca/webeis.nsf/EIS01/5DC10330387D244485257BEB001BC2F3"
       ]
      },
      {
       "output_type": "stream",
       "stream": "stdout",
       "text": [
        "\n",
        "Getting # 4816: http://yosemite.epa.gov/oeca/webeis.nsf/EIS01/C835C18A152FACC785257BEB001BC2FB"
       ]
      },
      {
       "output_type": "stream",
       "stream": "stdout",
       "text": [
        "\n",
        "Getting # 4816: http://yosemite.epa.gov/oeca/webeis.nsf/EIS01/217E18F49E6CF4E085257BEB001BC323"
       ]
      },
      {
       "output_type": "stream",
       "stream": "stdout",
       "text": [
        "\n",
        "Getting # 4816: http://yosemite.epa.gov/oeca/webeis.nsf/EIS01/907BCCE38ECFA2AE85257BEB001BC2ED"
       ]
      },
      {
       "output_type": "stream",
       "stream": "stdout",
       "text": [
        "\n",
        "Getting # 4816: http://yosemite.epa.gov/oeca/webeis.nsf/EIS01/1AD854B00C262D0485257BEB001BC333"
       ]
      },
      {
       "output_type": "stream",
       "stream": "stdout",
       "text": [
        "\n",
        "Getting # 4816: http://yosemite.epa.gov/oeca/webeis.nsf/EIS01/F9E40B64D764953285257BEB001BC2A5"
       ]
      },
      {
       "output_type": "stream",
       "stream": "stdout",
       "text": [
        "\n",
        "Getting # 4816: http://yosemite.epa.gov/oeca/webeis.nsf/EIS01/F3BEF77BDDF2DECE85257BEB001BC2D2"
       ]
      },
      {
       "output_type": "stream",
       "stream": "stdout",
       "text": [
        "\n",
        "Getting # 4816: http://yosemite.epa.gov/oeca/webeis.nsf/EIS01/1C2919CB8FF8FCC985257BEB001BC263"
       ]
      },
      {
       "output_type": "stream",
       "stream": "stdout",
       "text": [
        "\n",
        "Getting # 4816: http://yosemite.epa.gov/oeca/webeis.nsf/EIS01/21950645700754DF85257BEB001BC271"
       ]
      },
      {
       "output_type": "stream",
       "stream": "stdout",
       "text": [
        "\n",
        "Getting # 4816: http://yosemite.epa.gov/oeca/webeis.nsf/EIS01/74914FF5E2BC71CA85257BEB001BC268"
       ]
      },
      {
       "output_type": "stream",
       "stream": "stdout",
       "text": [
        "\n",
        "Getting # 4816: http://yosemite.epa.gov/oeca/webeis.nsf/EIS01/DD573A235F3FECEA85257BEB001BC28C"
       ]
      },
      {
       "output_type": "stream",
       "stream": "stdout",
       "text": [
        "\n",
        "Getting # 4816: http://yosemite.epa.gov/oeca/webeis.nsf/EIS01/0459CE3929F64E8F85257BEB001BC26D"
       ]
      },
      {
       "output_type": "stream",
       "stream": "stdout",
       "text": [
        "\n",
        "Getting # 4816: http://yosemite.epa.gov/oeca/webeis.nsf/EIS01/840EDF468D8ACE8585257BEB001BC291"
       ]
      },
      {
       "output_type": "stream",
       "stream": "stdout",
       "text": [
        "\n",
        "Getting # 4816: http://yosemite.epa.gov/oeca/webeis.nsf/EIS01/A96D266531720B6785257BEB001BC225"
       ]
      },
      {
       "output_type": "stream",
       "stream": "stdout",
       "text": [
        "\n",
        "Getting # 4816: http://yosemite.epa.gov/oeca/webeis.nsf/EIS01/FBEC430EF9CBF6DF85257BEB001BC230"
       ]
      },
      {
       "output_type": "stream",
       "stream": "stdout",
       "text": [
        "\n",
        "Getting # 4816: http://yosemite.epa.gov/oeca/webeis.nsf/EIS01/61851453883D95A185257BEB001BC21E"
       ]
      },
      {
       "output_type": "stream",
       "stream": "stdout",
       "text": [
        "\n",
        "Getting # 4816: http://yosemite.epa.gov/oeca/webeis.nsf/EIS01/71920C37FEEF9E8285257BEB001BC1BF"
       ]
      },
      {
       "output_type": "stream",
       "stream": "stdout",
       "text": [
        "\n",
        "Getting # 4816: http://yosemite.epa.gov/oeca/webeis.nsf/EIS01/754E7125AD75E86D85257BEB001BC210"
       ]
      },
      {
       "output_type": "stream",
       "stream": "stdout",
       "text": [
        "\n",
        "Getting # 4816: http://yosemite.epa.gov/oeca/webeis.nsf/EIS01/6C36C1395402A0D185257BEB001BC1CD"
       ]
      },
      {
       "output_type": "stream",
       "stream": "stdout",
       "text": [
        "\n",
        "Getting # 4816: http://yosemite.epa.gov/oeca/webeis.nsf/EIS01/BC49A81F64C2738D85257BEB001BC1FF"
       ]
      },
      {
       "output_type": "stream",
       "stream": "stdout",
       "text": [
        "\n",
        "Getting # 4816: http://yosemite.epa.gov/oeca/webeis.nsf/EIS01/BE25039606BAC12385257BEB001BC205"
       ]
      },
      {
       "output_type": "stream",
       "stream": "stdout",
       "text": [
        "\n",
        "Getting # 4816: http://yosemite.epa.gov/oeca/webeis.nsf/EIS01/B0488B9B26419E9185257BEB001BC152"
       ]
      },
      {
       "output_type": "stream",
       "stream": "stdout",
       "text": [
        "\n",
        "Getting # 4816: http://yosemite.epa.gov/oeca/webeis.nsf/EIS01/D8C123D63C5AF42D85257BEB001BC163"
       ]
      },
      {
       "output_type": "stream",
       "stream": "stdout",
       "text": [
        "\n",
        "Getting # 4816: http://yosemite.epa.gov/oeca/webeis.nsf/EIS01/EDD0FEC24D857F8D85257B000020FE44"
       ]
      },
      {
       "output_type": "stream",
       "stream": "stdout",
       "text": [
        "\n",
        "Getting # 4816: http://yosemite.epa.gov/oeca/webeis.nsf/EIS01/5DAE314BC45A195C85257BEB001BC10B"
       ]
      },
      {
       "output_type": "stream",
       "stream": "stdout",
       "text": [
        "\n",
        "Getting # 4816: http://yosemite.epa.gov/oeca/webeis.nsf/EIS01/92FFBB302203771885257BEB001BC0E8"
       ]
      },
      {
       "output_type": "stream",
       "stream": "stdout",
       "text": [
        "\n",
        "Getting # 4816: http://yosemite.epa.gov/oeca/webeis.nsf/EIS01/999EDDCEC30DB94085257BEB001BC0E0"
       ]
      },
      {
       "output_type": "stream",
       "stream": "stdout",
       "text": [
        "\n",
        "Getting # 4816: http://yosemite.epa.gov/oeca/webeis.nsf/EIS01/DD9F03EDC9FE26F785257BEB001BC0BD"
       ]
      },
      {
       "output_type": "stream",
       "stream": "stdout",
       "text": [
        "\n",
        "Getting # 4816: http://yosemite.epa.gov/oeca/webeis.nsf/EIS01/47A5BE9EE9489C3385257BEB001BC099"
       ]
      },
      {
       "output_type": "stream",
       "stream": "stdout",
       "text": [
        "\n",
        "Getting # 4816: http://yosemite.epa.gov/oeca/webeis.nsf/EIS01/D4F98445026EC68585257BEB001BC0B4"
       ]
      },
      {
       "output_type": "stream",
       "stream": "stdout",
       "text": [
        "\n",
        "Getting # 4816: http://yosemite.epa.gov/oeca/webeis.nsf/EIS01/A7D55B28749703C285257BEB001BC03F"
       ]
      },
      {
       "output_type": "stream",
       "stream": "stdout",
       "text": [
        "\n",
        "Getting # 4816: http://yosemite.epa.gov/oeca/webeis.nsf/EIS01/255283B2C4CF13D285257BEB001BC075"
       ]
      },
      {
       "output_type": "stream",
       "stream": "stdout",
       "text": [
        "\n",
        "Getting # 4816: http://yosemite.epa.gov/oeca/webeis.nsf/EIS01/493D2089CE3E429285257BEB001BC07C"
       ]
      },
      {
       "output_type": "stream",
       "stream": "stdout",
       "text": [
        "\n",
        "Getting # 4816: http://yosemite.epa.gov/oeca/webeis.nsf/EIS01/70FFAA5DABE90A0F85257BEB001BC053"
       ]
      },
      {
       "output_type": "stream",
       "stream": "stdout",
       "text": [
        "\n",
        "Getting # 4816: http://yosemite.epa.gov/oeca/webeis.nsf/EIS01/77DA26A996799F0F85257BEB001BC034"
       ]
      },
      {
       "output_type": "stream",
       "stream": "stdout",
       "text": [
        "\n",
        "Getting # 4816: http://yosemite.epa.gov/oeca/webeis.nsf/EIS01/9DF5C91CBB17A5CE85257BEB001BC055"
       ]
      },
      {
       "output_type": "stream",
       "stream": "stdout",
       "text": [
        "\n",
        "Getting # 4816: http://yosemite.epa.gov/oeca/webeis.nsf/EIS01/A4C4060E851C047085257BEB001BC032"
       ]
      },
      {
       "output_type": "stream",
       "stream": "stdout",
       "text": [
        "\n",
        "Getting # 4816: http://yosemite.epa.gov/oeca/webeis.nsf/EIS01/AD243B6C5C55B06C85257BEB001BC079"
       ]
      },
      {
       "output_type": "stream",
       "stream": "stdout",
       "text": [
        "\n",
        "Getting # 4816: http://yosemite.epa.gov/oeca/webeis.nsf/EIS01/C72D80A9F62AB7AF85257BEB001BC02E"
       ]
      },
      {
       "output_type": "stream",
       "stream": "stdout",
       "text": [
        "\n",
        "Getting # 4816: http://yosemite.epa.gov/oeca/webeis.nsf/EIS01/8FB99565C7B78BD985257BEB001BC027"
       ]
      },
      {
       "output_type": "stream",
       "stream": "stdout",
       "text": [
        "\n",
        "Getting # 4816: http://yosemite.epa.gov/oeca/webeis.nsf/EIS01/04897CBCD6839FCC85257BEB001BC020"
       ]
      },
      {
       "output_type": "stream",
       "stream": "stdout",
       "text": [
        "\n",
        "Getting # 4816: http://yosemite.epa.gov/oeca/webeis.nsf/EIS01/2C059B4608003D4985257BEB001BC007"
       ]
      },
      {
       "output_type": "stream",
       "stream": "stdout",
       "text": [
        "\n",
        "Getting # 4816: http://yosemite.epa.gov/oeca/webeis.nsf/EIS01/513E46BF2B42C2C585257BEB001BC000"
       ]
      },
      {
       "output_type": "stream",
       "stream": "stdout",
       "text": [
        "\n",
        "Getting # 4816: http://yosemite.epa.gov/oeca/webeis.nsf/EIS01/73CB0B2C0E0AADAB85257BEB001BC00D"
       ]
      },
      {
       "output_type": "stream",
       "stream": "stdout",
       "text": [
        "\n",
        "Getting # 4816: http://yosemite.epa.gov/oeca/webeis.nsf/EIS01/E1C87F18AB322FAA85257BEB001BC029"
       ]
      },
      {
       "output_type": "stream",
       "stream": "stdout",
       "text": [
        "\n",
        "Getting # 4816: http://yosemite.epa.gov/oeca/webeis.nsf/EIS01/E97A95A9738395D885257BEB001BBFFC"
       ]
      },
      {
       "output_type": "stream",
       "stream": "stdout",
       "text": [
        "\n",
        "Getting # 4816: http://yosemite.epa.gov/oeca/webeis.nsf/EIS01/1370AA249E9B400A85257BEB001BBFEE"
       ]
      },
      {
       "output_type": "stream",
       "stream": "stdout",
       "text": [
        "\n",
        "Getting # 4816: http://yosemite.epa.gov/oeca/webeis.nsf/EIS01/1AC3C3DB2505131485257BEB001BBFDF"
       ]
      },
      {
       "output_type": "stream",
       "stream": "stdout",
       "text": [
        "\n",
        "Getting # 4816: http://yosemite.epa.gov/oeca/webeis.nsf/EIS01/578FC493133A4C3F85257BEB001BBFAF"
       ]
      },
      {
       "output_type": "stream",
       "stream": "stdout",
       "text": [
        "\n",
        "Getting # 4816: http://yosemite.epa.gov/oeca/webeis.nsf/EIS01/7033005E05616CC085257BEB001BBFAD"
       ]
      },
      {
       "output_type": "stream",
       "stream": "stdout",
       "text": [
        "\n",
        "Getting # 4816: http://yosemite.epa.gov/oeca/webeis.nsf/EIS01/FE9D53BF33D3D12785257BEB001BBFA6"
       ]
      },
      {
       "output_type": "stream",
       "stream": "stdout",
       "text": [
        "\n",
        "Getting # 4816: http://yosemite.epa.gov/oeca/webeis.nsf/EIS01/570E30F32FF7A68B85257BEB001BBFB9"
       ]
      },
      {
       "output_type": "stream",
       "stream": "stdout",
       "text": [
        "\n",
        "Getting # 4816: http://yosemite.epa.gov/oeca/webeis.nsf/EIS01/BB3605F35DE2CE7C85257BEB001BBF8E"
       ]
      },
      {
       "output_type": "stream",
       "stream": "stdout",
       "text": [
        "\n",
        "Getting # 4816: http://yosemite.epa.gov/oeca/webeis.nsf/EIS01/B3AF5E2DDB4784FE85257BEB001BBFA1"
       ]
      },
      {
       "output_type": "stream",
       "stream": "stdout",
       "text": [
        "\n",
        "Getting # 4816: http://yosemite.epa.gov/oeca/webeis.nsf/EIS01/3A69D92FF710E78985257BEB001BBF77"
       ]
      },
      {
       "output_type": "stream",
       "stream": "stdout",
       "text": [
        "\n",
        "Getting # 4816: http://yosemite.epa.gov/oeca/webeis.nsf/EIS01/3C00A6CE2C7E79FE85257BEB001BBF8B"
       ]
      },
      {
       "output_type": "stream",
       "stream": "stdout",
       "text": [
        "\n",
        "Getting # 4816: http://yosemite.epa.gov/oeca/webeis.nsf/EIS01/A5EC122DE9E5356F85257BEB001BBF7D"
       ]
      },
      {
       "output_type": "stream",
       "stream": "stdout",
       "text": [
        "\n",
        "Getting # 4816: http://yosemite.epa.gov/oeca/webeis.nsf/EIS01/061E4DC097FD3B9085257BEB001BBF67"
       ]
      },
      {
       "output_type": "stream",
       "stream": "stdout",
       "text": [
        "\n",
        "Getting # 4816: http://yosemite.epa.gov/oeca/webeis.nsf/EIS01/495DF7ED8A05244E85257BEB001BBF46"
       ]
      },
      {
       "output_type": "stream",
       "stream": "stdout",
       "text": [
        "\n",
        "Getting # 4816: http://yosemite.epa.gov/oeca/webeis.nsf/EIS01/54067032FE1F72A185257BEB001BBF62"
       ]
      },
      {
       "output_type": "stream",
       "stream": "stdout",
       "text": [
        "\n",
        "Getting # 4816: http://yosemite.epa.gov/oeca/webeis.nsf/EIS01/A0A38FE7BA16BD6D85257BEB001BBEEC"
       ]
      },
      {
       "output_type": "stream",
       "stream": "stdout",
       "text": [
        "\n",
        "Getting # 4816: http://yosemite.epa.gov/oeca/webeis.nsf/EIS01/2FA0EDB70FDAEDF485257BEB001BBED3"
       ]
      },
      {
       "output_type": "stream",
       "stream": "stdout",
       "text": [
        "\n",
        "Getting # 4816: http://yosemite.epa.gov/oeca/webeis.nsf/EIS01/1938D4CC5DAC3E5B85257BEB001BBE88"
       ]
      },
      {
       "output_type": "stream",
       "stream": "stdout",
       "text": [
        "\n",
        "Getting # 4816: http://yosemite.epa.gov/oeca/webeis.nsf/EIS01/1D83CBAD658F6DF185257BEB001BBE5A"
       ]
      },
      {
       "output_type": "stream",
       "stream": "stdout",
       "text": [
        "\n",
        "Getting # 4816: http://yosemite.epa.gov/oeca/webeis.nsf/EIS01/904AA92B9B6BFD4385257BEB001BBE5C"
       ]
      },
      {
       "output_type": "stream",
       "stream": "stdout",
       "text": [
        "\n",
        "Getting # 4816: http://yosemite.epa.gov/oeca/webeis.nsf/EIS01/83D63BEE5A643A7685257BEB001BBE5F"
       ]
      },
      {
       "output_type": "stream",
       "stream": "stdout",
       "text": [
        "\n",
        "Getting # 4816: http://yosemite.epa.gov/oeca/webeis.nsf/EIS01/A749012F999D5ADB85257BEB001BBE49"
       ]
      },
      {
       "output_type": "stream",
       "stream": "stdout",
       "text": [
        "\n",
        "Getting # 4816: http://yosemite.epa.gov/oeca/webeis.nsf/EIS01/808BD8F9DB308F1C85257BEB001BBE56"
       ]
      },
      {
       "output_type": "stream",
       "stream": "stdout",
       "text": [
        "\n",
        "Getting # 4816: http://yosemite.epa.gov/oeca/webeis.nsf/EIS01/048E99AB5553A19085257BEB001BBDED"
       ]
      },
      {
       "output_type": "stream",
       "stream": "stdout",
       "text": [
        "\n",
        "Getting # 4816: http://yosemite.epa.gov/oeca/webeis.nsf/EIS01/E1D87E681F20936985257BEB001BBE08"
       ]
      },
      {
       "output_type": "stream",
       "stream": "stdout",
       "text": [
        "\n",
        "Getting # 4816: http://yosemite.epa.gov/oeca/webeis.nsf/EIS01/F1BA2883CE0AF78085257B000020FE34"
       ]
      },
      {
       "output_type": "stream",
       "stream": "stdout",
       "text": [
        "\n",
        "Getting # 4816: http://yosemite.epa.gov/oeca/webeis.nsf/EIS01/8A518603CD1D581985257BEB001BBDB8"
       ]
      },
      {
       "output_type": "stream",
       "stream": "stdout",
       "text": [
        "\n",
        "Getting # 4816: http://yosemite.epa.gov/oeca/webeis.nsf/EIS01/E0D9CBBC2F622ACF85257BEB001BBDCE"
       ]
      },
      {
       "output_type": "stream",
       "stream": "stdout",
       "text": [
        "\n",
        "Getting # 4816: http://yosemite.epa.gov/oeca/webeis.nsf/EIS01/D9F61B92825CBC1085257BEB001BBDCB"
       ]
      },
      {
       "output_type": "stream",
       "stream": "stdout",
       "text": [
        "\n",
        "Getting # 4816: http://yosemite.epa.gov/oeca/webeis.nsf/EIS01/424115F0F5C8FB5385257BEB001BBDA0"
       ]
      },
      {
       "output_type": "stream",
       "stream": "stdout",
       "text": [
        "\n",
        "Getting # 4816: http://yosemite.epa.gov/oeca/webeis.nsf/EIS01/B543EF7D2C2F0FD585257BEB001BBDAB"
       ]
      },
      {
       "output_type": "stream",
       "stream": "stdout",
       "text": [
        "\n",
        "Getting # 4816: http://yosemite.epa.gov/oeca/webeis.nsf/EIS01/C22A188E97BE4A0985257BEB001BBD27"
       ]
      },
      {
       "output_type": "stream",
       "stream": "stdout",
       "text": [
        "\n",
        "Getting # 4816: http://yosemite.epa.gov/oeca/webeis.nsf/EIS01/D307944F10EEB47285257BEB001BBD41"
       ]
      },
      {
       "output_type": "stream",
       "stream": "stdout",
       "text": [
        "\n",
        "Getting # 4816: http://yosemite.epa.gov/oeca/webeis.nsf/EIS01/762932437FC2695285257BEB001BBD4E"
       ]
      },
      {
       "output_type": "stream",
       "stream": "stdout",
       "text": [
        "\n",
        "Getting # 4816: http://yosemite.epa.gov/oeca/webeis.nsf/EIS01/5E09A5273C2E249885257BEB001BBCF9"
       ]
      },
      {
       "output_type": "stream",
       "stream": "stdout",
       "text": [
        "\n",
        "Getting # 4816: http://yosemite.epa.gov/oeca/webeis.nsf/EIS01/0C04406BDF97177085257BEB001BBCE3"
       ]
      },
      {
       "output_type": "stream",
       "stream": "stdout",
       "text": [
        "\n",
        "Getting # 4816: http://yosemite.epa.gov/oeca/webeis.nsf/EIS01/7D5F619A097D43E385257BEB001BBCCE"
       ]
      },
      {
       "output_type": "stream",
       "stream": "stdout",
       "text": [
        "\n",
        "Getting # 4816: http://yosemite.epa.gov/oeca/webeis.nsf/EIS01/C68F3B4058AF5D8E85257BEB001BBCC3"
       ]
      },
      {
       "output_type": "stream",
       "stream": "stdout",
       "text": [
        "\n",
        "Getting # 4816: http://yosemite.epa.gov/oeca/webeis.nsf/EIS01/3022F9103301BC0885257BEB001BBCA8"
       ]
      },
      {
       "output_type": "stream",
       "stream": "stdout",
       "text": [
        "\n",
        "Getting # 4816: http://yosemite.epa.gov/oeca/webeis.nsf/EIS01/8CC1BCE0AD17292D85257BEB001BBCB3"
       ]
      },
      {
       "output_type": "stream",
       "stream": "stdout",
       "text": [
        "\n",
        "Getting # 4816: http://yosemite.epa.gov/oeca/webeis.nsf/EIS01/307F2072BC90EAF585257BEB001BBC8A"
       ]
      },
      {
       "output_type": "stream",
       "stream": "stdout",
       "text": [
        "\n",
        "Getting # 4816: http://yosemite.epa.gov/oeca/webeis.nsf/EIS01/2450763D46D3E5CB85257BEB001BBC7C"
       ]
      },
      {
       "output_type": "stream",
       "stream": "stdout",
       "text": [
        "\n",
        "Getting # 4816: http://yosemite.epa.gov/oeca/webeis.nsf/EIS01/64218D512802EC8685257BEB001BBC87"
       ]
      },
      {
       "output_type": "stream",
       "stream": "stdout",
       "text": [
        "\n",
        "Getting # 4816: http://yosemite.epa.gov/oeca/webeis.nsf/EIS01/DD55015780A4C7D485257BEB001BBC6B"
       ]
      },
      {
       "output_type": "stream",
       "stream": "stdout",
       "text": [
        "\n",
        "Getting # 4816: http://yosemite.epa.gov/oeca/webeis.nsf/EIS01/4DB93CC00D6F487C85257BEB001BBC62"
       ]
      },
      {
       "output_type": "stream",
       "stream": "stdout",
       "text": [
        "\n",
        "Getting # 4816: http://yosemite.epa.gov/oeca/webeis.nsf/EIS01/DB6F0D9463BEC8DB85257BEB001BBC76"
       ]
      },
      {
       "output_type": "stream",
       "stream": "stdout",
       "text": [
        "\n",
        "Getting # 4816: http://yosemite.epa.gov/oeca/webeis.nsf/EIS01/F10F9A11E98A888C85257BEB001BBC5F"
       ]
      },
      {
       "output_type": "stream",
       "stream": "stdout",
       "text": [
        "\n",
        "Getting # 4816: http://yosemite.epa.gov/oeca/webeis.nsf/EIS01/F5F4E01AB6D3731285257BEB001BBC23"
       ]
      },
      {
       "output_type": "stream",
       "stream": "stdout",
       "text": [
        "\n",
        "Getting # 4816: http://yosemite.epa.gov/oeca/webeis.nsf/EIS01/F754A55B0AD3A13885257BEB001BBC4D"
       ]
      },
      {
       "output_type": "stream",
       "stream": "stdout",
       "text": [
        "\n",
        "Getting # 4816: http://yosemite.epa.gov/oeca/webeis.nsf/EIS01/3E521883095D1FE685257BEB001BBC51"
       ]
      },
      {
       "output_type": "stream",
       "stream": "stdout",
       "text": [
        "\n",
        "Getting # 4816: http://yosemite.epa.gov/oeca/webeis.nsf/EIS01/6F03EA0573402FB485257BEB001BBC55"
       ]
      },
      {
       "output_type": "stream",
       "stream": "stdout",
       "text": [
        "\n",
        "Getting # 4816: http://yosemite.epa.gov/oeca/webeis.nsf/EIS01/9708584F18B546B685257BEB001BBC4A"
       ]
      },
      {
       "output_type": "stream",
       "stream": "stdout",
       "text": [
        "\n",
        "Getting # 4816: http://yosemite.epa.gov/oeca/webeis.nsf/EIS01/EF2D090AFBCE49BF85257BEB001BBC2B"
       ]
      },
      {
       "output_type": "stream",
       "stream": "stdout",
       "text": [
        "\n",
        "Getting # 4816: http://yosemite.epa.gov/oeca/webeis.nsf/EIS01/3D35AA54EFA158D385257BEB001BBC1B"
       ]
      },
      {
       "output_type": "stream",
       "stream": "stdout",
       "text": [
        "\n",
        "Getting # 4816: http://yosemite.epa.gov/oeca/webeis.nsf/EIS01/9D5ED8D71408690585257BEB001BBC0F"
       ]
      },
      {
       "output_type": "stream",
       "stream": "stdout",
       "text": [
        "\n",
        "Getting # 4816: http://yosemite.epa.gov/oeca/webeis.nsf/EIS01/8DCB0BAEA32CF2A685257BEB001BBC17"
       ]
      },
      {
       "output_type": "stream",
       "stream": "stdout",
       "text": [
        "\n",
        "Getting # 4816: http://yosemite.epa.gov/oeca/webeis.nsf/EIS01/A15760B523BB3FC085257BEB001BBBFB"
       ]
      },
      {
       "output_type": "stream",
       "stream": "stdout",
       "text": [
        "\n",
        "Getting # 4816: http://yosemite.epa.gov/oeca/webeis.nsf/EIS01/DDCC8D47506CE3E585257BEB001BBBF3"
       ]
      },
      {
       "output_type": "stream",
       "stream": "stdout",
       "text": [
        "\n",
        "Getting # 4816: http://yosemite.epa.gov/oeca/webeis.nsf/EIS01/82BB5FAD11C2057485257BEB001BBBE0"
       ]
      },
      {
       "output_type": "stream",
       "stream": "stdout",
       "text": [
        "\n",
        "Getting # 4816: http://yosemite.epa.gov/oeca/webeis.nsf/EIS01/0E664EE7015C272585257BEB001BBBDA"
       ]
      },
      {
       "output_type": "stream",
       "stream": "stdout",
       "text": [
        "\n",
        "Getting # 4816: http://yosemite.epa.gov/oeca/webeis.nsf/EIS01/804F67B14DF5066285257BEB001BBB98"
       ]
      },
      {
       "output_type": "stream",
       "stream": "stdout",
       "text": [
        "\n",
        "Getting # 4816: http://yosemite.epa.gov/oeca/webeis.nsf/EIS01/A48385E5A24E7A8E85257BEB001BBBCC"
       ]
      },
      {
       "output_type": "stream",
       "stream": "stdout",
       "text": [
        "\n",
        "Getting # 4816: http://yosemite.epa.gov/oeca/webeis.nsf/EIS01/965087FE219B04DC85257BEB001BBB9B"
       ]
      },
      {
       "output_type": "stream",
       "stream": "stdout",
       "text": [
        "\n",
        "Getting # 4816: http://yosemite.epa.gov/oeca/webeis.nsf/EIS01/B69CB1B0F30A750185257BEB001BBB93"
       ]
      },
      {
       "output_type": "stream",
       "stream": "stdout",
       "text": [
        "\n",
        "Getting # 4816: http://yosemite.epa.gov/oeca/webeis.nsf/EIS01/C77E9BDA469652A485257BEB001BBB90"
       ]
      },
      {
       "output_type": "stream",
       "stream": "stdout",
       "text": [
        "\n",
        "Getting # 4816: http://yosemite.epa.gov/oeca/webeis.nsf/EIS01/D2537723FE5B5D7F85257BEB001BBB5A"
       ]
      },
      {
       "output_type": "stream",
       "stream": "stdout",
       "text": [
        "\n",
        "Getting # 4816: http://yosemite.epa.gov/oeca/webeis.nsf/EIS01/7E1DD3C84DDD4C6F85257BEB001BBB13"
       ]
      },
      {
       "output_type": "stream",
       "stream": "stdout",
       "text": [
        "\n",
        "Getting # 4816: http://yosemite.epa.gov/oeca/webeis.nsf/EIS01/AEF0697C15CEAB1385257BEB001BBADB"
       ]
      },
      {
       "output_type": "stream",
       "stream": "stdout",
       "text": [
        "\n",
        "Getting # 4816: http://yosemite.epa.gov/oeca/webeis.nsf/EIS01/DBBF676E3DC127A285257BEB001BBB31"
       ]
      },
      {
       "output_type": "stream",
       "stream": "stdout",
       "text": [
        "\n",
        "Getting # 4816: http://yosemite.epa.gov/oeca/webeis.nsf/EIS01/0882EA65528871B185257BEB001BBB3C"
       ]
      },
      {
       "output_type": "stream",
       "stream": "stdout",
       "text": [
        "\n",
        "Getting # 4816: http://yosemite.epa.gov/oeca/webeis.nsf/EIS01/42581BABE1CFE64F85257BEB001BBAD3"
       ]
      },
      {
       "output_type": "stream",
       "stream": "stdout",
       "text": [
        "\n",
        "Getting # 4816: http://yosemite.epa.gov/oeca/webeis.nsf/EIS01/5A63AB841F246F1785257BEB001BBB39"
       ]
      },
      {
       "output_type": "stream",
       "stream": "stdout",
       "text": [
        "\n",
        "Getting # 4816: http://yosemite.epa.gov/oeca/webeis.nsf/EIS01/5E708B2DB5015E5885257BEB001BBB0F"
       ]
      },
      {
       "output_type": "stream",
       "stream": "stdout",
       "text": [
        "\n",
        "Getting # 4816: http://yosemite.epa.gov/oeca/webeis.nsf/EIS01/6A849944615CD11685257BEB001BBB21"
       ]
      },
      {
       "output_type": "stream",
       "stream": "stdout",
       "text": [
        "\n",
        "Getting # 4816: http://yosemite.epa.gov/oeca/webeis.nsf/EIS01/D463A9DEBF2A53BF85257BEB001BBB48"
       ]
      },
      {
       "output_type": "stream",
       "stream": "stdout",
       "text": [
        "\n",
        "Getting # 4816: http://yosemite.epa.gov/oeca/webeis.nsf/EIS01/F6A920C7775878B685257BEB001BBB41"
       ]
      },
      {
       "output_type": "stream",
       "stream": "stdout",
       "text": [
        "\n",
        "Getting # 4816: http://yosemite.epa.gov/oeca/webeis.nsf/EIS01/AE3DB2CAF685060F85257BEB001BBB47"
       ]
      },
      {
       "output_type": "stream",
       "stream": "stdout",
       "text": [
        "\n",
        "Getting # 4816: http://yosemite.epa.gov/oeca/webeis.nsf/EIS01/7EAEC18E26F4F8E185257BEB001BBAC7"
       ]
      },
      {
       "output_type": "stream",
       "stream": "stdout",
       "text": [
        "\n",
        "Getting # 4816: http://yosemite.epa.gov/oeca/webeis.nsf/EIS01/C59DD30246E7A77485257BEB001BBA8A"
       ]
      },
      {
       "output_type": "stream",
       "stream": "stdout",
       "text": [
        "\n",
        "Getting # 4816: http://yosemite.epa.gov/oeca/webeis.nsf/EIS01/EB0645DCEFABB7D085257BEB001BBAA4"
       ]
      },
      {
       "output_type": "stream",
       "stream": "stdout",
       "text": [
        "\n",
        "Getting # 4816: http://yosemite.epa.gov/oeca/webeis.nsf/EIS01/B71A395C2C946A9B85257BEB001BBAB7"
       ]
      },
      {
       "output_type": "stream",
       "stream": "stdout",
       "text": [
        "\n",
        "Getting # 4816: http://yosemite.epa.gov/oeca/webeis.nsf/EIS01/90AB54D5AFFFB3B985257BEB001BBA66"
       ]
      },
      {
       "output_type": "stream",
       "stream": "stdout",
       "text": [
        "\n",
        "Getting # 4816: http://yosemite.epa.gov/oeca/webeis.nsf/EIS01/E697F6D496F1A3F285257BEB001BBA7D"
       ]
      },
      {
       "output_type": "stream",
       "stream": "stdout",
       "text": [
        "\n",
        "Getting # 4816: http://yosemite.epa.gov/oeca/webeis.nsf/EIS01/6836F80FE9C70E4C85257BEB001BBA76"
       ]
      },
      {
       "output_type": "stream",
       "stream": "stdout",
       "text": [
        "\n",
        "Getting # 4816: http://yosemite.epa.gov/oeca/webeis.nsf/EIS01/92A8FB78C888EB9C85257BEB001BBA72"
       ]
      },
      {
       "output_type": "stream",
       "stream": "stdout",
       "text": [
        "\n",
        "Getting # 4816: http://yosemite.epa.gov/oeca/webeis.nsf/EIS01/14E39FF56C140F9B85257BEB001BBA34"
       ]
      },
      {
       "output_type": "stream",
       "stream": "stdout",
       "text": [
        "\n",
        "Getting # 4816: http://yosemite.epa.gov/oeca/webeis.nsf/EIS01/FDCD26BF5E505EC385257BEB001BBA00"
       ]
      },
      {
       "output_type": "stream",
       "stream": "stdout",
       "text": [
        "\n",
        "Getting # 4816: http://yosemite.epa.gov/oeca/webeis.nsf/EIS01/035EC4A268B303D185257BEB001BB9BC"
       ]
      },
      {
       "output_type": "stream",
       "stream": "stdout",
       "text": [
        "\n",
        "Getting # 4816: http://yosemite.epa.gov/oeca/webeis.nsf/EIS01/12B8A0BD52B42AEC85257BEB001BB9C3"
       ]
      },
      {
       "output_type": "stream",
       "stream": "stdout",
       "text": [
        "\n",
        "Getting # 4816: http://yosemite.epa.gov/oeca/webeis.nsf/EIS01/8837AD4CC6FBF1CA85257BEB001BB99C"
       ]
      },
      {
       "output_type": "stream",
       "stream": "stdout",
       "text": [
        "\n",
        "Getting # 4816: http://yosemite.epa.gov/oeca/webeis.nsf/EIS01/869F8AC1B779840F85257BEB001BB9D9"
       ]
      },
      {
       "output_type": "stream",
       "stream": "stdout",
       "text": [
        "\n",
        "Getting # 4816: http://yosemite.epa.gov/oeca/webeis.nsf/EIS01/B509EB334BDC2F2E85257BEB001BB983"
       ]
      },
      {
       "output_type": "stream",
       "stream": "stdout",
       "text": [
        "\n",
        "Getting # 4816: http://yosemite.epa.gov/oeca/webeis.nsf/EIS01/017D92BE159FEFC985257BEB001BB954"
       ]
      },
      {
       "output_type": "stream",
       "stream": "stdout",
       "text": [
        "\n",
        "Getting # 4816: http://yosemite.epa.gov/oeca/webeis.nsf/EIS01/0C63F3F34B427D9385257BEB001BB96F"
       ]
      },
      {
       "output_type": "stream",
       "stream": "stdout",
       "text": [
        "\n",
        "Getting # 4816: http://yosemite.epa.gov/oeca/webeis.nsf/EIS01/03997286BE69725085257BEB001BB975"
       ]
      },
      {
       "output_type": "stream",
       "stream": "stdout",
       "text": [
        "\n",
        "Getting # 4816: http://yosemite.epa.gov/oeca/webeis.nsf/EIS01/868F9CEABD17BCDB85257BEB001BB991"
       ]
      },
      {
       "output_type": "stream",
       "stream": "stdout",
       "text": [
        "\n",
        "Getting # 4816: http://yosemite.epa.gov/oeca/webeis.nsf/EIS01/C06608788838BF7185257BEB001BB92A"
       ]
      },
      {
       "output_type": "stream",
       "stream": "stdout",
       "text": [
        "\n",
        "Getting # 4816: http://yosemite.epa.gov/oeca/webeis.nsf/EIS01/FF0AB726E917F6C185257BEB001BB94D"
       ]
      },
      {
       "output_type": "stream",
       "stream": "stdout",
       "text": [
        "\n",
        "Getting # 4816: http://yosemite.epa.gov/oeca/webeis.nsf/EIS01/192E1F3DFA12865185257BEB001BB911"
       ]
      },
      {
       "output_type": "stream",
       "stream": "stdout",
       "text": [
        "\n",
        "Getting # 4816: http://yosemite.epa.gov/oeca/webeis.nsf/EIS01/77655E1F69B8B89B85257BEB001BB90B"
       ]
      },
      {
       "output_type": "stream",
       "stream": "stdout",
       "text": [
        "\n",
        "Getting # 4816: http://yosemite.epa.gov/oeca/webeis.nsf/EIS01/73ABBA335F4F066585257BEB001BB921"
       ]
      },
      {
       "output_type": "stream",
       "stream": "stdout",
       "text": [
        "\n",
        "Getting # 4816: http://yosemite.epa.gov/oeca/webeis.nsf/EIS01/30DD875B729CD0C485257BEB001BB8FD"
       ]
      },
      {
       "output_type": "stream",
       "stream": "stdout",
       "text": [
        "\n",
        "Getting # 4816: http://yosemite.epa.gov/oeca/webeis.nsf/EIS01/F9D95B896F47D6A285257BEB001BB91E"
       ]
      },
      {
       "output_type": "stream",
       "stream": "stdout",
       "text": [
        "\n",
        "Getting # 4816: http://yosemite.epa.gov/oeca/webeis.nsf/EIS01/AC50F54C04EC3F3985257BEB001BB8DF"
       ]
      },
      {
       "output_type": "stream",
       "stream": "stdout",
       "text": [
        "\n",
        "Getting # 4816: http://yosemite.epa.gov/oeca/webeis.nsf/EIS01/4176457A737A2BDD85257BEB001BB8C9"
       ]
      },
      {
       "output_type": "stream",
       "stream": "stdout",
       "text": [
        "\n",
        "Getting # 4816: http://yosemite.epa.gov/oeca/webeis.nsf/EIS01/5D896D6064EA27AD85257BEB001BB8CD"
       ]
      },
      {
       "output_type": "stream",
       "stream": "stdout",
       "text": [
        "\n",
        "Getting # 4816: http://yosemite.epa.gov/oeca/webeis.nsf/EIS01/981B368B89D90FCE85257BEB001BB886"
       ]
      },
      {
       "output_type": "stream",
       "stream": "stdout",
       "text": [
        "\n",
        "Getting # 4816: http://yosemite.epa.gov/oeca/webeis.nsf/EIS01/D2E3BF840C020A8185257BEB001BB8EA"
       ]
      },
      {
       "output_type": "stream",
       "stream": "stdout",
       "text": [
        "\n",
        "Getting # 4816: http://yosemite.epa.gov/oeca/webeis.nsf/EIS01/A30B56BC8F20187185257BEB001BB830"
       ]
      },
      {
       "output_type": "stream",
       "stream": "stdout",
       "text": [
        "\n",
        "Getting # 4816: http://yosemite.epa.gov/oeca/webeis.nsf/EIS01/8A103691A2E9848485257BEB001BB85C"
       ]
      },
      {
       "output_type": "stream",
       "stream": "stdout",
       "text": [
        "\n",
        "Getting # 4816: http://yosemite.epa.gov/oeca/webeis.nsf/EIS01/86FFB5EB6719A66E85257BEB001BB856"
       ]
      },
      {
       "output_type": "stream",
       "stream": "stdout",
       "text": [
        "\n",
        "Getting # 4816: http://yosemite.epa.gov/oeca/webeis.nsf/EIS01/EEFFB4F5BDACAB4385257BEB001BB859"
       ]
      },
      {
       "output_type": "stream",
       "stream": "stdout",
       "text": [
        "\n",
        "Getting # 4816: http://yosemite.epa.gov/oeca/webeis.nsf/EIS01/0963BA6B4EA58ED485257BEB001BB7B3"
       ]
      },
      {
       "output_type": "stream",
       "stream": "stdout",
       "text": [
        "\n",
        "Getting # 4816: http://yosemite.epa.gov/oeca/webeis.nsf/EIS01/B54722CC0B06710A85257BEB001BB7BE"
       ]
      },
      {
       "output_type": "stream",
       "stream": "stdout",
       "text": [
        "\n",
        "Getting # 4816: http://yosemite.epa.gov/oeca/webeis.nsf/EIS01/E9EDF71EAB14AD6985257BEB001BB7DC"
       ]
      },
      {
       "output_type": "stream",
       "stream": "stdout",
       "text": [
        "\n",
        "Getting # 4816: http://yosemite.epa.gov/oeca/webeis.nsf/EIS01/24F81D6AB6ED148C85257BEB001BB827"
       ]
      },
      {
       "output_type": "stream",
       "stream": "stdout",
       "text": [
        "\n",
        "Getting # 4816: http://yosemite.epa.gov/oeca/webeis.nsf/EIS01/C0351C205807182C85257BEB001BB782"
       ]
      },
      {
       "output_type": "stream",
       "stream": "stdout",
       "text": [
        "\n",
        "Getting # 4816: http://yosemite.epa.gov/oeca/webeis.nsf/EIS01/2F754D823FAE709685257BEB001BB739"
       ]
      },
      {
       "output_type": "stream",
       "stream": "stdout",
       "text": [
        "\n",
        "Getting # 4816: http://yosemite.epa.gov/oeca/webeis.nsf/EIS01/5B9DA2F2CDBCA96085257BEB001BB72A"
       ]
      },
      {
       "output_type": "stream",
       "stream": "stdout",
       "text": [
        "\n",
        "Getting # 4816: http://yosemite.epa.gov/oeca/webeis.nsf/EIS01/914F01DD938D2D5385257BEB001BB6E3"
       ]
      },
      {
       "output_type": "stream",
       "stream": "stdout",
       "text": [
        "\n",
        "Getting # 4816: http://yosemite.epa.gov/oeca/webeis.nsf/EIS01/9B1A283A686C5D5885257BEB001BB743"
       ]
      },
      {
       "output_type": "stream",
       "stream": "stdout",
       "text": [
        "\n",
        "Getting # 4816: http://yosemite.epa.gov/oeca/webeis.nsf/EIS01/0394900999F79D4785257BEB001BB74C"
       ]
      },
      {
       "output_type": "stream",
       "stream": "stdout",
       "text": [
        "\n",
        "Getting # 4816: http://yosemite.epa.gov/oeca/webeis.nsf/EIS01/0C5720176EDD43B485257BEB001BB6BE"
       ]
      },
      {
       "output_type": "stream",
       "stream": "stdout",
       "text": [
        "\n",
        "Getting # 4816: http://yosemite.epa.gov/oeca/webeis.nsf/EIS01/827588948D5E9AAB85257BEB001BB6B9"
       ]
      },
      {
       "output_type": "stream",
       "stream": "stdout",
       "text": [
        "\n",
        "Getting # 4816: http://yosemite.epa.gov/oeca/webeis.nsf/EIS01/D58DDD1BC55FDD9C85257BEB001BB663"
       ]
      },
      {
       "output_type": "stream",
       "stream": "stdout",
       "text": [
        "\n",
        "Getting # 4816: http://yosemite.epa.gov/oeca/webeis.nsf/EIS01/41570AAE638FEF5585257BEB001BB5FE"
       ]
      },
      {
       "output_type": "stream",
       "stream": "stdout",
       "text": [
        "\n",
        "Getting # 4816: http://yosemite.epa.gov/oeca/webeis.nsf/EIS01/F4271CF24E00320085257BEB001BB5FC"
       ]
      },
      {
       "output_type": "stream",
       "stream": "stdout",
       "text": [
        "\n",
        "Getting # 4816: http://yosemite.epa.gov/oeca/webeis.nsf/EIS01/0C581E04655574A785257BEB001BB5A0"
       ]
      },
      {
       "output_type": "stream",
       "stream": "stdout",
       "text": [
        "\n",
        "Getting # 4816: http://yosemite.epa.gov/oeca/webeis.nsf/EIS01/59D4F4509D0941BA85257BEB001BB59A"
       ]
      },
      {
       "output_type": "stream",
       "stream": "stdout",
       "text": [
        "\n",
        "Getting # 4816: http://yosemite.epa.gov/oeca/webeis.nsf/EIS01/F6468B0518AA6D0A85257BEB001BB547"
       ]
      },
      {
       "output_type": "stream",
       "stream": "stdout",
       "text": [
        "\n",
        "Getting # 4816: http://yosemite.epa.gov/oeca/webeis.nsf/EIS01/29710FB48F1CB5BA85257BEB001BB4F9"
       ]
      },
      {
       "output_type": "stream",
       "stream": "stdout",
       "text": [
        "\n",
        "Getting # 4816: http://yosemite.epa.gov/oeca/webeis.nsf/EIS01/ECCC069F415EC73D85257BEB001BB4FF"
       ]
      },
      {
       "output_type": "stream",
       "stream": "stdout",
       "text": [
        "\n",
        "Getting # 4816: http://yosemite.epa.gov/oeca/webeis.nsf/EIS01/0C39B8425C9F14DF85257BEB001BB4CF"
       ]
      },
      {
       "output_type": "stream",
       "stream": "stdout",
       "text": [
        "\n",
        "Getting # 4816: http://yosemite.epa.gov/oeca/webeis.nsf/EIS01/0134EA8272D7851285257BEB001BB4B3"
       ]
      },
      {
       "output_type": "stream",
       "stream": "stdout",
       "text": [
        "\n",
        "Getting # 4816: http://yosemite.epa.gov/oeca/webeis.nsf/EIS01/C3585E841419465B85257BEB001BB3EE"
       ]
      },
      {
       "output_type": "stream",
       "stream": "stdout",
       "text": [
        "\n",
        "Getting # 4816: http://yosemite.epa.gov/oeca/webeis.nsf/EIS01/AE59B486519DCE3185257BEB001BB392"
       ]
      },
      {
       "output_type": "stream",
       "stream": "stdout",
       "text": [
        "\n",
        "Getting # 4816: http://yosemite.epa.gov/oeca/webeis.nsf/EIS01/3E1348F97123C32985257BEB001BB3C3"
       ]
      },
      {
       "output_type": "stream",
       "stream": "stdout",
       "text": [
        "\n",
        "Getting # 4816: http://yosemite.epa.gov/oeca/webeis.nsf/EIS01/FA83FB24C8AE3B8A85257BEB001BB35F"
       ]
      },
      {
       "output_type": "stream",
       "stream": "stdout",
       "text": [
        "\n",
        "Getting # 4816: http://yosemite.epa.gov/oeca/webeis.nsf/EIS01/2669F214F935095985257BEB001BB31C"
       ]
      },
      {
       "output_type": "stream",
       "stream": "stdout",
       "text": [
        "\n",
        "Getting # 4816: http://yosemite.epa.gov/oeca/webeis.nsf/EIS01/2F47F9AB16C2A34485257BEB001BB355"
       ]
      },
      {
       "output_type": "stream",
       "stream": "stdout",
       "text": [
        "\n",
        "Getting # 4816: http://yosemite.epa.gov/oeca/webeis.nsf/EIS01/8B135A091C53697A85257BEB001BB359"
       ]
      },
      {
       "output_type": "stream",
       "stream": "stdout",
       "text": [
        "\n",
        "Getting # 4816: http://yosemite.epa.gov/oeca/webeis.nsf/EIS01/F6EE09B31D6EAEC785257BEB001BB320"
       ]
      },
      {
       "output_type": "stream",
       "stream": "stdout",
       "text": [
        "\n",
        "Getting # 4816: http://yosemite.epa.gov/oeca/webeis.nsf/EIS01/06F2F93FAF72DE0685257BEB001BB30B"
       ]
      },
      {
       "output_type": "stream",
       "stream": "stdout",
       "text": [
        "\n",
        "Getting # 4816: http://yosemite.epa.gov/oeca/webeis.nsf/EIS01/0FF2E163AA0C968085257BEB001BB2FB"
       ]
      },
      {
       "output_type": "stream",
       "stream": "stdout",
       "text": [
        "\n",
        "Getting # 4816: http://yosemite.epa.gov/oeca/webeis.nsf/EIS01/342A4D8E8E6EF1E985257BEB001BB31B"
       ]
      },
      {
       "output_type": "stream",
       "stream": "stdout",
       "text": [
        "\n",
        "Getting # 4816: http://yosemite.epa.gov/oeca/webeis.nsf/EIS01/4965692DFE3A8F4085257BEB001BB2F7"
       ]
      },
      {
       "output_type": "stream",
       "stream": "stdout",
       "text": [
        "\n",
        "Getting # 4816: http://yosemite.epa.gov/oeca/webeis.nsf/EIS01/8A60FC159F1EE0F985257BEB001BB313"
       ]
      },
      {
       "output_type": "stream",
       "stream": "stdout",
       "text": [
        "\n",
        "Getting # 4816: http://yosemite.epa.gov/oeca/webeis.nsf/EIS01/9A561F35767AC86A85257BEB001BB310"
       ]
      },
      {
       "output_type": "stream",
       "stream": "stdout",
       "text": [
        "\n",
        "Getting # 4816: http://yosemite.epa.gov/oeca/webeis.nsf/EIS01/51D2D7CBB451CF4C85257BEB001BB2E6"
       ]
      },
      {
       "output_type": "stream",
       "stream": "stdout",
       "text": [
        "\n",
        "Getting # 4816: http://yosemite.epa.gov/oeca/webeis.nsf/EIS01/97BF9C4F21DFF77585257BEB001BB2C5"
       ]
      },
      {
       "output_type": "stream",
       "stream": "stdout",
       "text": [
        "\n",
        "Getting # 4816: http://yosemite.epa.gov/oeca/webeis.nsf/EIS01/378A3ED442421C7085257BEB001BB2A1"
       ]
      },
      {
       "output_type": "stream",
       "stream": "stdout",
       "text": [
        "\n",
        "Getting # 4816: http://yosemite.epa.gov/oeca/webeis.nsf/EIS01/C250203FEE9CD87585257BEB001BB286"
       ]
      },
      {
       "output_type": "stream",
       "stream": "stdout",
       "text": [
        "\n",
        "Getting # 4816: http://yosemite.epa.gov/oeca/webeis.nsf/EIS01/A868725758128C3885257BEB001BB26F"
       ]
      },
      {
       "output_type": "stream",
       "stream": "stdout",
       "text": [
        "\n",
        "Getting # 4816: http://yosemite.epa.gov/oeca/webeis.nsf/EIS01/3935D0FBA5BBB8AD85257BEB001BB27B"
       ]
      },
      {
       "output_type": "stream",
       "stream": "stdout",
       "text": [
        "\n",
        "Getting # 4816: http://yosemite.epa.gov/oeca/webeis.nsf/EIS01/2831E02069E084B285257BEB001BB282"
       ]
      },
      {
       "output_type": "stream",
       "stream": "stdout",
       "text": [
        "\n",
        "Getting # 4816: http://yosemite.epa.gov/oeca/webeis.nsf/EIS01/73A43CAE048C3D8885257BEB001BB25E"
       ]
      },
      {
       "output_type": "stream",
       "stream": "stdout",
       "text": [
        "\n",
        "Getting # 4816: http://yosemite.epa.gov/oeca/webeis.nsf/EIS01/B38C19766402639B85257BEB001BB237"
       ]
      },
      {
       "output_type": "stream",
       "stream": "stdout",
       "text": [
        "\n",
        "Getting # 4816: http://yosemite.epa.gov/oeca/webeis.nsf/EIS01/E113642B469C09A885257BEB001BB238"
       ]
      },
      {
       "output_type": "stream",
       "stream": "stdout",
       "text": [
        "\n",
        "Getting # 4816: http://yosemite.epa.gov/oeca/webeis.nsf/EIS01/E0C18335AE283AF785257BEB001BB251"
       ]
      },
      {
       "output_type": "stream",
       "stream": "stdout",
       "text": [
        "\n",
        "Getting # 4816: http://yosemite.epa.gov/oeca/webeis.nsf/EIS01/E97909CFD0523CAF85257BEB001BB221"
       ]
      },
      {
       "output_type": "stream",
       "stream": "stdout",
       "text": [
        "\n",
        "Getting # 4816: http://yosemite.epa.gov/oeca/webeis.nsf/EIS01/2586E5301A32110D85257BEB001BB21A"
       ]
      },
      {
       "output_type": "stream",
       "stream": "stdout",
       "text": [
        "\n",
        "Getting # 4816: http://yosemite.epa.gov/oeca/webeis.nsf/EIS01/3AAB98A02BB0093585257BEB001BB253"
       ]
      },
      {
       "output_type": "stream",
       "stream": "stdout",
       "text": [
        "\n",
        "Getting # 4816: http://yosemite.epa.gov/oeca/webeis.nsf/EIS01/85FB00084F5CC45E85257BEB001BB233"
       ]
      },
      {
       "output_type": "stream",
       "stream": "stdout",
       "text": [
        "\n",
        "Getting # 4816: http://yosemite.epa.gov/oeca/webeis.nsf/EIS01/A5432627CCADE26785257BEB001BB25B"
       ]
      },
      {
       "output_type": "stream",
       "stream": "stdout",
       "text": [
        "\n",
        "Getting # 4816: http://yosemite.epa.gov/oeca/webeis.nsf/EIS01/730F5B9EE319618C85257BEB001BB20E"
       ]
      },
      {
       "output_type": "stream",
       "stream": "stdout",
       "text": [
        "\n",
        "Getting # 4816: http://yosemite.epa.gov/oeca/webeis.nsf/EIS01/8B5C4220B26003C885257BEB001BB1F0"
       ]
      },
      {
       "output_type": "stream",
       "stream": "stdout",
       "text": [
        "\n",
        "Getting # 4816: http://yosemite.epa.gov/oeca/webeis.nsf/EIS01/F01FF99A2E532F0985257BEB001BB1EC"
       ]
      },
      {
       "output_type": "stream",
       "stream": "stdout",
       "text": [
        "\n",
        "Getting # 4816: http://yosemite.epa.gov/oeca/webeis.nsf/EIS01/F8D8AAF13F01141185257BEB001BB1C5"
       ]
      },
      {
       "output_type": "stream",
       "stream": "stdout",
       "text": [
        "\n",
        "Getting # 4816: http://yosemite.epa.gov/oeca/webeis.nsf/EIS01/15BFA71A969953C685257BEB001BB1D9"
       ]
      },
      {
       "output_type": "stream",
       "stream": "stdout",
       "text": [
        "\n",
        "Getting # 4816: http://yosemite.epa.gov/oeca/webeis.nsf/EIS01/3001A885FCB62F5385257BEB001BB1B0"
       ]
      },
      {
       "output_type": "stream",
       "stream": "stdout",
       "text": [
        "\n",
        "Getting # 4816: http://yosemite.epa.gov/oeca/webeis.nsf/EIS01/70C6769E55DD00CA85257BEB001BB189"
       ]
      },
      {
       "output_type": "stream",
       "stream": "stdout",
       "text": [
        "\n",
        "Getting # 4816: http://yosemite.epa.gov/oeca/webeis.nsf/EIS01/F62832F645DB580085257BEB001BB16C"
       ]
      },
      {
       "output_type": "stream",
       "stream": "stdout",
       "text": [
        "\n",
        "Getting # 4816: http://yosemite.epa.gov/oeca/webeis.nsf/EIS01/03642C83EC6A0D8C85257BEB001BB188"
       ]
      },
      {
       "output_type": "stream",
       "stream": "stdout",
       "text": [
        "\n",
        "Getting # 4816: http://yosemite.epa.gov/oeca/webeis.nsf/EIS01/D2B777868ED2738585257BEB001BB141"
       ]
      },
      {
       "output_type": "stream",
       "stream": "stdout",
       "text": [
        "\n",
        "Getting # 4816: http://yosemite.epa.gov/oeca/webeis.nsf/EIS01/AF10F4552594BB3A85257B000020FE13"
       ]
      },
      {
       "output_type": "stream",
       "stream": "stdout",
       "text": [
        "\n",
        "Getting # 4816: http://yosemite.epa.gov/oeca/webeis.nsf/EIS01/313AEC92B0F1FBEE85257BEB001BB116"
       ]
      },
      {
       "output_type": "stream",
       "stream": "stdout",
       "text": [
        "\n",
        "Getting # 4816: http://yosemite.epa.gov/oeca/webeis.nsf/EIS01/3FAB8BA1FB8194B685257BEB001BB0CF"
       ]
      },
      {
       "output_type": "stream",
       "stream": "stdout",
       "text": [
        "\n",
        "Getting # 4816: http://yosemite.epa.gov/oeca/webeis.nsf/EIS01/66B67FB18C19EEBB85257BEB001BB0D7"
       ]
      },
      {
       "output_type": "stream",
       "stream": "stdout",
       "text": [
        "\n",
        "Getting # 4816: http://yosemite.epa.gov/oeca/webeis.nsf/EIS01/D4F49A38235FBB7185257BEB001BB125"
       ]
      },
      {
       "output_type": "stream",
       "stream": "stdout",
       "text": [
        "\n",
        "Getting # 4816: http://yosemite.epa.gov/oeca/webeis.nsf/EIS01/DE689EE00BB10F5385257BEB001BB0D4"
       ]
      },
      {
       "output_type": "stream",
       "stream": "stdout",
       "text": [
        "\n",
        "Getting # 4816: http://yosemite.epa.gov/oeca/webeis.nsf/EIS01/14B9F804C524503985257BEB001BB0F3"
       ]
      },
      {
       "output_type": "stream",
       "stream": "stdout",
       "text": [
        "\n",
        "Getting # 4816: http://yosemite.epa.gov/oeca/webeis.nsf/EIS01/0BB6E7D02C8679A985257BEB001BB0C3"
       ]
      },
      {
       "output_type": "stream",
       "stream": "stdout",
       "text": [
        "\n",
        "Getting # 4816: http://yosemite.epa.gov/oeca/webeis.nsf/EIS01/3131BB79C1F423AE85257BEB001BB0B8"
       ]
      },
      {
       "output_type": "stream",
       "stream": "stdout",
       "text": [
        "\n",
        "Getting # 4816: http://yosemite.epa.gov/oeca/webeis.nsf/EIS01/36BC62FCB5D2030C85257BEB001BB0BC"
       ]
      },
      {
       "output_type": "stream",
       "stream": "stdout",
       "text": [
        "\n",
        "Getting # 4816: http://yosemite.epa.gov/oeca/webeis.nsf/EIS01/9770776218A6EA1D85257BEB001BB0C0"
       ]
      },
      {
       "output_type": "stream",
       "stream": "stdout",
       "text": [
        "\n",
        "Getting # 4816: http://yosemite.epa.gov/oeca/webeis.nsf/EIS01/F0C4FC97B326680985257BEB001BB0BB"
       ]
      },
      {
       "output_type": "stream",
       "stream": "stdout",
       "text": [
        "\n",
        "Getting # 4816: http://yosemite.epa.gov/oeca/webeis.nsf/EIS01/BFEFF65FB5194B5A85257BEB001BB076"
       ]
      },
      {
       "output_type": "stream",
       "stream": "stdout",
       "text": [
        "\n",
        "Getting # 4816: http://yosemite.epa.gov/oeca/webeis.nsf/EIS01/CB46617D1C3C348485257BEB001BB07B"
       ]
      },
      {
       "output_type": "stream",
       "stream": "stdout",
       "text": [
        "\n",
        "Getting # 4816: http://yosemite.epa.gov/oeca/webeis.nsf/EIS01/17E0C07313CC800085257BEB001BB05D"
       ]
      },
      {
       "output_type": "stream",
       "stream": "stdout",
       "text": [
        "\n",
        "Getting # 4816: http://yosemite.epa.gov/oeca/webeis.nsf/EIS01/5376A8378FBE5B0485257BEB001BB068"
       ]
      },
      {
       "output_type": "stream",
       "stream": "stdout",
       "text": [
        "\n",
        "Getting # 4816: http://yosemite.epa.gov/oeca/webeis.nsf/EIS01/E805FCC3A7CE9B1F85257BEB001BB06B"
       ]
      },
      {
       "output_type": "stream",
       "stream": "stdout",
       "text": [
        "\n",
        "Getting # 4816: http://yosemite.epa.gov/oeca/webeis.nsf/EIS01/0A479E704ED075FA85257BEB001BB03C"
       ]
      },
      {
       "output_type": "stream",
       "stream": "stdout",
       "text": [
        "\n",
        "Getting # 4816: http://yosemite.epa.gov/oeca/webeis.nsf/EIS01/3E14E73040138E1785257BEB001BB030"
       ]
      },
      {
       "output_type": "stream",
       "stream": "stdout",
       "text": [
        "\n",
        "Getting # 4816: http://yosemite.epa.gov/oeca/webeis.nsf/EIS01/7E58213D319BF0A785257BEB001BB035"
       ]
      },
      {
       "output_type": "stream",
       "stream": "stdout",
       "text": [
        "\n",
        "Getting # 4816: http://yosemite.epa.gov/oeca/webeis.nsf/EIS01/909E4F119939353885257BEB001BB04A"
       ]
      },
      {
       "output_type": "stream",
       "stream": "stdout",
       "text": [
        "\n",
        "Getting # 4816: http://yosemite.epa.gov/oeca/webeis.nsf/EIS01/DDD848E52EEF279C85257BEB001BB039"
       ]
      },
      {
       "output_type": "stream",
       "stream": "stdout",
       "text": [
        "\n",
        "Getting # 4816: http://yosemite.epa.gov/oeca/webeis.nsf/EIS01/6CAC6E9B40F6A15685257BEB001BB023"
       ]
      },
      {
       "output_type": "stream",
       "stream": "stdout",
       "text": [
        "\n",
        "Getting # 4816: http://yosemite.epa.gov/oeca/webeis.nsf/EIS01/87D0DEDE4B043AB885257BEB001BB017"
       ]
      },
      {
       "output_type": "stream",
       "stream": "stdout",
       "text": [
        "\n",
        "Getting # 4816: http://yosemite.epa.gov/oeca/webeis.nsf/EIS01/E0B0EAED1926D50985257BEB001BB014"
       ]
      },
      {
       "output_type": "stream",
       "stream": "stdout",
       "text": [
        "\n",
        "Getting # 4816: http://yosemite.epa.gov/oeca/webeis.nsf/EIS01/43F4B11EA95512A885257BEB001BB02D"
       ]
      },
      {
       "output_type": "stream",
       "stream": "stdout",
       "text": [
        "\n",
        "Getting # 4816: http://yosemite.epa.gov/oeca/webeis.nsf/EIS01/B221E92FD931383685257BEB001BAFF1"
       ]
      },
      {
       "output_type": "stream",
       "stream": "stdout",
       "text": [
        "\n",
        "Getting # 4816: http://yosemite.epa.gov/oeca/webeis.nsf/EIS01/F60D59A43E77B31285257BEB001BB00A"
       ]
      },
      {
       "output_type": "stream",
       "stream": "stdout",
       "text": [
        "\n",
        "Getting # 4816: http://yosemite.epa.gov/oeca/webeis.nsf/EIS01/BA244F46542BA7EE85257BEB001BAFC6"
       ]
      },
      {
       "output_type": "stream",
       "stream": "stdout",
       "text": [
        "\n",
        "Getting # 4816: http://yosemite.epa.gov/oeca/webeis.nsf/EIS01/C0E98954ED59DBC585257BEB001BAFCA"
       ]
      },
      {
       "output_type": "stream",
       "stream": "stdout",
       "text": [
        "\n",
        "Getting # 4816: http://yosemite.epa.gov/oeca/webeis.nsf/EIS01/D74E5C521C5CE85485257BEB001BAFAE"
       ]
      },
      {
       "output_type": "stream",
       "stream": "stdout",
       "text": [
        "\n",
        "Getting # 4816: http://yosemite.epa.gov/oeca/webeis.nsf/EIS01/302745DE4FE0BC1385257BEB001BAF7B"
       ]
      },
      {
       "output_type": "stream",
       "stream": "stdout",
       "text": [
        "\n",
        "Getting # 4816: http://yosemite.epa.gov/oeca/webeis.nsf/EIS01/C986EBCDB6F002CA85257BEB001BAF92"
       ]
      },
      {
       "output_type": "stream",
       "stream": "stdout",
       "text": [
        "\n",
        "Getting # 4816: http://yosemite.epa.gov/oeca/webeis.nsf/EIS01/EC3785BFEDC2316885257BEB001BAFA0"
       ]
      },
      {
       "output_type": "stream",
       "stream": "stdout",
       "text": [
        "\n",
        "Getting # 4816: http://yosemite.epa.gov/oeca/webeis.nsf/EIS01/C31A2EFB9D2A312585257BEB001BAF4C"
       ]
      },
      {
       "output_type": "stream",
       "stream": "stdout",
       "text": [
        "\n",
        "Getting # 4816: http://yosemite.epa.gov/oeca/webeis.nsf/EIS01/3CE712D44DCA99BD85257BEB001BAF3E"
       ]
      },
      {
       "output_type": "stream",
       "stream": "stdout",
       "text": [
        "\n",
        "Getting # 4816: http://yosemite.epa.gov/oeca/webeis.nsf/EIS01/C46034995054D44A85257BEB001BAF37"
       ]
      },
      {
       "output_type": "stream",
       "stream": "stdout",
       "text": [
        "\n",
        "Getting # 4816: http://yosemite.epa.gov/oeca/webeis.nsf/EIS01/7DF17B6D3674286485257BEB001BAEF9"
       ]
      },
      {
       "output_type": "stream",
       "stream": "stdout",
       "text": [
        "\n",
        "Getting # 4816: http://yosemite.epa.gov/oeca/webeis.nsf/EIS01/6B6FD70655673D2485257BEB001BAEFA"
       ]
      },
      {
       "output_type": "stream",
       "stream": "stdout",
       "text": [
        "\n",
        "Getting # 4816: http://yosemite.epa.gov/oeca/webeis.nsf/EIS01/F6908FE0346759E485257BEB001BAEDA"
       ]
      },
      {
       "output_type": "stream",
       "stream": "stdout",
       "text": [
        "\n",
        "Getting # 4816: http://yosemite.epa.gov/oeca/webeis.nsf/EIS01/020EAC4BCEDF96BC85257BEB001BAED0"
       ]
      },
      {
       "output_type": "stream",
       "stream": "stdout",
       "text": [
        "\n",
        "Getting # 4816: http://yosemite.epa.gov/oeca/webeis.nsf/EIS01/925006B2E606A7A485257BEB001BAED7"
       ]
      },
      {
       "output_type": "stream",
       "stream": "stdout",
       "text": [
        "\n",
        "Getting # 4816: http://yosemite.epa.gov/oeca/webeis.nsf/EIS01/7F8BC6A430DB789885257BEB001BAEDD"
       ]
      },
      {
       "output_type": "stream",
       "stream": "stdout",
       "text": [
        "\n",
        "Getting # 4816: http://yosemite.epa.gov/oeca/webeis.nsf/EIS01/35FB6F030D5636FD85257BEB001BAE82"
       ]
      },
      {
       "output_type": "stream",
       "stream": "stdout",
       "text": [
        "\n",
        "Getting # 4816: http://yosemite.epa.gov/oeca/webeis.nsf/EIS01/672D13BA44B991D085257BEB001BAE87"
       ]
      },
      {
       "output_type": "stream",
       "stream": "stdout",
       "text": [
        "\n",
        "Getting # 4816: http://yosemite.epa.gov/oeca/webeis.nsf/EIS01/9A9BFE8621B8CB0085257BEB001BAE7D"
       ]
      },
      {
       "output_type": "stream",
       "stream": "stdout",
       "text": [
        "\n",
        "Getting # 4816: http://yosemite.epa.gov/oeca/webeis.nsf/EIS01/BD08D93F0F7CD86385257BEB001BAE7A"
       ]
      },
      {
       "output_type": "stream",
       "stream": "stdout",
       "text": [
        "\n",
        "Getting # 4816: http://yosemite.epa.gov/oeca/webeis.nsf/EIS01/F625EBAFDF9C12B585257BEB001BAE8D"
       ]
      },
      {
       "output_type": "stream",
       "stream": "stdout",
       "text": [
        "\n",
        "Getting # 4816: http://yosemite.epa.gov/oeca/webeis.nsf/EIS01/0CD6DBBE3DEDABDB85257BEB001BAEAC"
       ]
      },
      {
       "output_type": "stream",
       "stream": "stdout",
       "text": [
        "\n",
        "Getting # 4816: http://yosemite.epa.gov/oeca/webeis.nsf/EIS01/C55A87A823895C6A85257BEB001BAE39"
       ]
      },
      {
       "output_type": "stream",
       "stream": "stdout",
       "text": [
        "\n",
        "Getting # 4816: http://yosemite.epa.gov/oeca/webeis.nsf/EIS01/5D72F0F19D0173E185257BEB001BAE28"
       ]
      },
      {
       "output_type": "stream",
       "stream": "stdout",
       "text": [
        "\n",
        "Getting # 4816: http://yosemite.epa.gov/oeca/webeis.nsf/EIS01/D7DC65E9C7C4894085257BEB001BAE32"
       ]
      },
      {
       "output_type": "stream",
       "stream": "stdout",
       "text": [
        "\n",
        "Getting # 4816: http://yosemite.epa.gov/oeca/webeis.nsf/EIS01/EE27F548C34DCC4085257BEB001BAE2B"
       ]
      },
      {
       "output_type": "stream",
       "stream": "stdout",
       "text": [
        "\n",
        "Getting # 4816: http://yosemite.epa.gov/oeca/webeis.nsf/EIS01/201D3006DA7C5CC685257BEB001BAE6F"
       ]
      },
      {
       "output_type": "stream",
       "stream": "stdout",
       "text": [
        "\n",
        "Getting # 4816: http://yosemite.epa.gov/oeca/webeis.nsf/EIS01/34F46EE21AC4865B85257BEB001BAE53"
       ]
      },
      {
       "output_type": "stream",
       "stream": "stdout",
       "text": [
        "\n",
        "Getting # 4816: http://yosemite.epa.gov/oeca/webeis.nsf/EIS01/10E6A83191DC671E85257BEB001BAE34"
       ]
      },
      {
       "output_type": "stream",
       "stream": "stdout",
       "text": [
        "\n",
        "Getting # 4816: http://yosemite.epa.gov/oeca/webeis.nsf/EIS01/84A92C1F615412BE85257BEB001BADFC"
       ]
      },
      {
       "output_type": "stream",
       "stream": "stdout",
       "text": [
        "\n",
        "Getting # 4816: http://yosemite.epa.gov/oeca/webeis.nsf/EIS01/FD3FB10D63EBF95885257BEB001BAE0B"
       ]
      },
      {
       "output_type": "stream",
       "stream": "stdout",
       "text": [
        "\n",
        "Getting # 4816: http://yosemite.epa.gov/oeca/webeis.nsf/EIS01/A55361214800A99F85257BEB001BAE15"
       ]
      },
      {
       "output_type": "stream",
       "stream": "stdout",
       "text": [
        "\n",
        "Getting # 4816: http://yosemite.epa.gov/oeca/webeis.nsf/EIS01/1C8D91A18094FD9485257BEB001BADF1"
       ]
      },
      {
       "output_type": "stream",
       "stream": "stdout",
       "text": [
        "\n",
        "Getting # 4816: http://yosemite.epa.gov/oeca/webeis.nsf/EIS01/4B25DD06C933614885257BEB001BAE20"
       ]
      },
      {
       "output_type": "stream",
       "stream": "stdout",
       "text": [
        "\n",
        "Getting # 4816: http://yosemite.epa.gov/oeca/webeis.nsf/EIS01/5F49821B4C4B434B85257BEB001BADD6"
       ]
      },
      {
       "output_type": "stream",
       "stream": "stdout",
       "text": [
        "\n",
        "Getting # 4816: http://yosemite.epa.gov/oeca/webeis.nsf/EIS01/4752A76AC7265EC985257BEB001BADD9"
       ]
      },
      {
       "output_type": "stream",
       "stream": "stdout",
       "text": [
        "\n",
        "Getting # 4816: http://yosemite.epa.gov/oeca/webeis.nsf/EIS01/8D1B9CAE3E1D5CE185257BEB001BADC2"
       ]
      },
      {
       "output_type": "stream",
       "stream": "stdout",
       "text": [
        "\n",
        "Getting # 4816: http://yosemite.epa.gov/oeca/webeis.nsf/EIS01/AFD0D786E57A0AB485257BEB001BADC8"
       ]
      },
      {
       "output_type": "stream",
       "stream": "stdout",
       "text": [
        "\n",
        "Getting # 4816: http://yosemite.epa.gov/oeca/webeis.nsf/EIS01/B25E65FBFE900A4785257BEB001BADBC"
       ]
      },
      {
       "output_type": "stream",
       "stream": "stdout",
       "text": [
        "\n",
        "Getting # 4816: http://yosemite.epa.gov/oeca/webeis.nsf/EIS01/8E9365FCB31E438885257BEB001BAD98"
       ]
      },
      {
       "output_type": "stream",
       "stream": "stdout",
       "text": [
        "\n",
        "Getting # 4816: http://yosemite.epa.gov/oeca/webeis.nsf/EIS01/FFE8E532FDDA653585257BEB001BADB4"
       ]
      },
      {
       "output_type": "stream",
       "stream": "stdout",
       "text": [
        "\n",
        "Getting # 4816: http://yosemite.epa.gov/oeca/webeis.nsf/EIS01/CD36664FBA18137485257BEB001BAD96"
       ]
      },
      {
       "output_type": "stream",
       "stream": "stdout",
       "text": [
        "\n",
        "Getting # 4816: http://yosemite.epa.gov/oeca/webeis.nsf/EIS01/7830B2AD43E654F085257BEB001BAD82"
       ]
      },
      {
       "output_type": "stream",
       "stream": "stdout",
       "text": [
        "\n",
        "Getting # 4816: http://yosemite.epa.gov/oeca/webeis.nsf/EIS01/030B5F19FE13CDBA85257BEB001BAD85"
       ]
      },
      {
       "output_type": "stream",
       "stream": "stdout",
       "text": [
        "\n",
        "Getting # 4816: http://yosemite.epa.gov/oeca/webeis.nsf/EIS01/A8A1555087A528EF85257BEB001BAD71"
       ]
      },
      {
       "output_type": "stream",
       "stream": "stdout",
       "text": [
        "\n",
        "Getting # 4816: http://yosemite.epa.gov/oeca/webeis.nsf/EIS01/B683C92398189BB385257BEB001BAD66"
       ]
      },
      {
       "output_type": "stream",
       "stream": "stdout",
       "text": [
        "\n",
        "Getting # 4816: http://yosemite.epa.gov/oeca/webeis.nsf/EIS01/D1E25EFE3843C41685257BEB001BAD6A"
       ]
      },
      {
       "output_type": "stream",
       "stream": "stdout",
       "text": [
        "\n",
        "Getting # 4816: http://yosemite.epa.gov/oeca/webeis.nsf/EIS01/77A50BFE1D24887F85257BEB001BAD4A"
       ]
      },
      {
       "output_type": "stream",
       "stream": "stdout",
       "text": [
        "\n",
        "Getting # 4816: http://yosemite.epa.gov/oeca/webeis.nsf/EIS01/29BC87142E9878DF85257BEB001BAD32"
       ]
      },
      {
       "output_type": "stream",
       "stream": "stdout",
       "text": [
        "\n",
        "Getting # 4816: http://yosemite.epa.gov/oeca/webeis.nsf/EIS01/5B9048A8CD11465085257BEB001BAD2A"
       ]
      },
      {
       "output_type": "stream",
       "stream": "stdout",
       "text": [
        "\n",
        "Getting # 4816: http://yosemite.epa.gov/oeca/webeis.nsf/EIS01/7FA028D6F645811B85257BEB001BAD27"
       ]
      },
      {
       "output_type": "stream",
       "stream": "stdout",
       "text": [
        "\n",
        "Getting # 4816: http://yosemite.epa.gov/oeca/webeis.nsf/EIS01/BD5A502CEA95EA3685257BEB001BAD35"
       ]
      },
      {
       "output_type": "stream",
       "stream": "stdout",
       "text": [
        "\n",
        "Getting # 4816: http://yosemite.epa.gov/oeca/webeis.nsf/EIS01/D4DA0C2C7CC17EA985257BEB001BAD40"
       ]
      },
      {
       "output_type": "stream",
       "stream": "stdout",
       "text": [
        "\n",
        "Getting # 4816: http://yosemite.epa.gov/oeca/webeis.nsf/EIS01/E95AFDDD4B1C715385257BEB001BAD3F"
       ]
      },
      {
       "output_type": "stream",
       "stream": "stdout",
       "text": [
        "\n",
        "Getting # 4816: http://yosemite.epa.gov/oeca/webeis.nsf/EIS01/F95180AFDC64D8C485257BEB001BAD29"
       ]
      },
      {
       "output_type": "stream",
       "stream": "stdout",
       "text": [
        "\n",
        "Getting # 4816: http://yosemite.epa.gov/oeca/webeis.nsf/EIS01/6472AE7EB7F19A2E85257BEB001BAD1F"
       ]
      },
      {
       "output_type": "stream",
       "stream": "stdout",
       "text": [
        "\n",
        "Getting # 4816: http://yosemite.epa.gov/oeca/webeis.nsf/EIS01/71E871A75FD088B685257BEB001BACF7"
       ]
      },
      {
       "output_type": "stream",
       "stream": "stdout",
       "text": [
        "\n",
        "Getting # 4816: http://yosemite.epa.gov/oeca/webeis.nsf/EIS01/7FD1BE79D8AA9C7585257BEB001BACD8"
       ]
      },
      {
       "output_type": "stream",
       "stream": "stdout",
       "text": [
        "\n",
        "Getting # 4816: http://yosemite.epa.gov/oeca/webeis.nsf/EIS01/907D3DE483B0DC3D85257BEB001BACDC"
       ]
      },
      {
       "output_type": "stream",
       "stream": "stdout",
       "text": [
        "\n",
        "Getting # 4816: http://yosemite.epa.gov/oeca/webeis.nsf/EIS01/C46C134E7240E51185257BEB001BAD10"
       ]
      },
      {
       "output_type": "stream",
       "stream": "stdout",
       "text": [
        "\n",
        "Getting # 4816: http://yosemite.epa.gov/oeca/webeis.nsf/EIS01/05308D6E6E03C5E685257BEB001BACC0"
       ]
      },
      {
       "output_type": "stream",
       "stream": "stdout",
       "text": [
        "\n",
        "Getting # 4816: http://yosemite.epa.gov/oeca/webeis.nsf/EIS01/01A74267E9368F6B85257BEB001BACBA"
       ]
      },
      {
       "output_type": "stream",
       "stream": "stdout",
       "text": [
        "\n",
        "Getting # 4816: http://yosemite.epa.gov/oeca/webeis.nsf/EIS01/27B284D69ECBCFE585257BEB001BACA7"
       ]
      },
      {
       "output_type": "stream",
       "stream": "stdout",
       "text": [
        "\n",
        "Getting # 4816: http://yosemite.epa.gov/oeca/webeis.nsf/EIS01/32253D87E3BAFBF785257BEB001BACA2"
       ]
      },
      {
       "output_type": "stream",
       "stream": "stdout",
       "text": [
        "\n",
        "Getting # 4816: http://yosemite.epa.gov/oeca/webeis.nsf/EIS01/5D53BB49FE6640CC85257BEB001BACCD"
       ]
      },
      {
       "output_type": "stream",
       "stream": "stdout",
       "text": [
        "\n",
        "Getting # 4816: http://yosemite.epa.gov/oeca/webeis.nsf/EIS01/6828A7D3B4F455FB85257BEB001BACAC"
       ]
      },
      {
       "output_type": "stream",
       "stream": "stdout",
       "text": [
        "\n",
        "Getting # 4816: http://yosemite.epa.gov/oeca/webeis.nsf/EIS01/C4D24E9FEAC4F36485257BEB001BACB1"
       ]
      },
      {
       "output_type": "stream",
       "stream": "stdout",
       "text": [
        "\n",
        "Getting # 4816: http://yosemite.epa.gov/oeca/webeis.nsf/EIS01/164C9150E4187CB885257BEB001BAC9F"
       ]
      },
      {
       "output_type": "stream",
       "stream": "stdout",
       "text": [
        "\n",
        "Getting # 4816: http://yosemite.epa.gov/oeca/webeis.nsf/EIS01/C37DC9DC620D151885257BEB001BAC7B"
       ]
      },
      {
       "output_type": "stream",
       "stream": "stdout",
       "text": [
        "\n",
        "Getting # 4816: http://yosemite.epa.gov/oeca/webeis.nsf/EIS01/EB9A1741138DC30785257BEB001BAC99"
       ]
      },
      {
       "output_type": "stream",
       "stream": "stdout",
       "text": [
        "\n",
        "Getting # 4816: http://yosemite.epa.gov/oeca/webeis.nsf/EIS01/E556028230BB5EEE85257BEB001BAC83"
       ]
      },
      {
       "output_type": "stream",
       "stream": "stdout",
       "text": [
        "\n",
        "Getting # 4816: http://yosemite.epa.gov/oeca/webeis.nsf/EIS01/085607F32957B26F85257BEB001BAC5F"
       ]
      },
      {
       "output_type": "stream",
       "stream": "stdout",
       "text": [
        "\n",
        "Getting # 4816: http://yosemite.epa.gov/oeca/webeis.nsf/EIS01/165CC08869DB44DB85257BEB001BAC64"
       ]
      },
      {
       "output_type": "stream",
       "stream": "stdout",
       "text": [
        "\n",
        "Getting # 4816: http://yosemite.epa.gov/oeca/webeis.nsf/EIS01/720E4DF07B5F757C85257BEB001BAC5C"
       ]
      },
      {
       "output_type": "stream",
       "stream": "stdout",
       "text": [
        "\n",
        "Getting # 4816: http://yosemite.epa.gov/oeca/webeis.nsf/EIS01/F91A8CA5EB4476A185257BEB001BAC67"
       ]
      },
      {
       "output_type": "stream",
       "stream": "stdout",
       "text": [
        "\n",
        "Getting # 4816: http://yosemite.epa.gov/oeca/webeis.nsf/EIS01/A4BAFF6FB68BC28085257BEB001BAC53"
       ]
      },
      {
       "output_type": "stream",
       "stream": "stdout",
       "text": [
        "\n",
        "Getting # 4816: http://yosemite.epa.gov/oeca/webeis.nsf/EIS01/02CD747704693C3685257BEB001BAC22"
       ]
      },
      {
       "output_type": "stream",
       "stream": "stdout",
       "text": [
        "\n",
        "Getting # 4816: http://yosemite.epa.gov/oeca/webeis.nsf/EIS01/3411D6D2ADBAB2A185257BEB001BAC34"
       ]
      },
      {
       "output_type": "stream",
       "stream": "stdout",
       "text": [
        "\n",
        "Getting # 4816: http://yosemite.epa.gov/oeca/webeis.nsf/EIS01/BEF58657F15E92E285257BEB001BAC37"
       ]
      },
      {
       "output_type": "stream",
       "stream": "stdout",
       "text": [
        "\n",
        "Getting # 4816: http://yosemite.epa.gov/oeca/webeis.nsf/EIS01/D813832417104FB285257BEB001BAC5B"
       ]
      },
      {
       "output_type": "stream",
       "stream": "stdout",
       "text": [
        "\n",
        "Getting # 4816: http://yosemite.epa.gov/oeca/webeis.nsf/EIS01/8D082322AA924C4E85257BEB001BAC10"
       ]
      },
      {
       "output_type": "stream",
       "stream": "stdout",
       "text": [
        "\n",
        "Getting # 4816: http://yosemite.epa.gov/oeca/webeis.nsf/EIS01/447A76D378530DA385257BEB001BABBB"
       ]
      },
      {
       "output_type": "stream",
       "stream": "stdout",
       "text": [
        "\n",
        "Getting # 4816: http://yosemite.epa.gov/oeca/webeis.nsf/EIS01/6FF4A4F35E63834A85257BEB001BABC6"
       ]
      },
      {
       "output_type": "stream",
       "stream": "stdout",
       "text": [
        "\n",
        "Getting # 4816: http://yosemite.epa.gov/oeca/webeis.nsf/EIS01/241811947DA4B32585257BEB001BABAD"
       ]
      },
      {
       "output_type": "stream",
       "stream": "stdout",
       "text": [
        "\n",
        "Getting # 4816: http://yosemite.epa.gov/oeca/webeis.nsf/EIS01/207F5AB151325F6B85257BEB001BAB9A"
       ]
      },
      {
       "output_type": "stream",
       "stream": "stdout",
       "text": [
        "\n",
        "Getting # 4816: http://yosemite.epa.gov/oeca/webeis.nsf/EIS01/E2B6290AE7D0DE9285257BEB001BAB93"
       ]
      },
      {
       "output_type": "stream",
       "stream": "stdout",
       "text": [
        "\n",
        "Getting # 4816: http://yosemite.epa.gov/oeca/webeis.nsf/EIS01/0F2D8B364154B0FF85257BEB001BABB7"
       ]
      },
      {
       "output_type": "stream",
       "stream": "stdout",
       "text": [
        "\n",
        "Getting # 4816: http://yosemite.epa.gov/oeca/webeis.nsf/EIS01/2545248D590FBDBE85257BEB001BAB70"
       ]
      },
      {
       "output_type": "stream",
       "stream": "stdout",
       "text": [
        "\n",
        "Getting # 4816: http://yosemite.epa.gov/oeca/webeis.nsf/EIS01/2BBE251498D8025A85257BEB001BAB83"
       ]
      },
      {
       "output_type": "stream",
       "stream": "stdout",
       "text": [
        "\n",
        "Getting # 4816: http://yosemite.epa.gov/oeca/webeis.nsf/EIS01/4D6ABC3D2204355E85257BEB001BAB62"
       ]
      },
      {
       "output_type": "stream",
       "stream": "stdout",
       "text": [
        "\n",
        "Getting # 4816: http://yosemite.epa.gov/oeca/webeis.nsf/EIS01/62FF146A370B2BA085257BEB001BAAEF"
       ]
      },
      {
       "output_type": "stream",
       "stream": "stdout",
       "text": [
        "\n",
        "Getting # 4816: http://yosemite.epa.gov/oeca/webeis.nsf/EIS01/CC5439E7CC083FAF85257BEB001BAB11"
       ]
      },
      {
       "output_type": "stream",
       "stream": "stdout",
       "text": [
        "\n",
        "Getting # 4816: http://yosemite.epa.gov/oeca/webeis.nsf/EIS01/FEE3E4A3D933EA6385257BEB001BAB19"
       ]
      },
      {
       "output_type": "stream",
       "stream": "stdout",
       "text": [
        "\n",
        "Getting # 4816: http://yosemite.epa.gov/oeca/webeis.nsf/EIS01/5C00D07275112F7A85257BEB001BAB03"
       ]
      },
      {
       "output_type": "stream",
       "stream": "stdout",
       "text": [
        "\n",
        "Getting # 4816: http://yosemite.epa.gov/oeca/webeis.nsf/EIS01/E95A00BCE90BDEE385257BEB001BAAC4"
       ]
      },
      {
       "output_type": "stream",
       "stream": "stdout",
       "text": [
        "\n",
        "Getting # 4816: http://yosemite.epa.gov/oeca/webeis.nsf/EIS01/4A0E6B6A4EC3ADA585257BEB001BAAB9"
       ]
      },
      {
       "output_type": "stream",
       "stream": "stdout",
       "text": [
        "\n",
        "Getting # 4816: http://yosemite.epa.gov/oeca/webeis.nsf/EIS01/56C8DE17A641E6AE85257BEB001BAAD2"
       ]
      },
      {
       "output_type": "stream",
       "stream": "stdout",
       "text": [
        "\n",
        "Getting # 4816: http://yosemite.epa.gov/oeca/webeis.nsf/EIS01/7DD64ACDA59DE2CA85257BEB001BAAB8"
       ]
      },
      {
       "output_type": "stream",
       "stream": "stdout",
       "text": [
        "\n",
        "Getting # 4816: http://yosemite.epa.gov/oeca/webeis.nsf/EIS01/D745075F3C5812B185257BEB001BAA97"
       ]
      },
      {
       "output_type": "stream",
       "stream": "stdout",
       "text": [
        "\n",
        "Getting # 4816: http://yosemite.epa.gov/oeca/webeis.nsf/EIS01/20093FA5BC6896FA85257BEB001BAAA2"
       ]
      },
      {
       "output_type": "stream",
       "stream": "stdout",
       "text": [
        "\n",
        "Getting # 4816: http://yosemite.epa.gov/oeca/webeis.nsf/EIS01/69168A5EECA1972C85257BEB001BAA7E"
       ]
      },
      {
       "output_type": "stream",
       "stream": "stdout",
       "text": [
        "\n",
        "Getting # 4816: http://yosemite.epa.gov/oeca/webeis.nsf/EIS01/8A848E82A4BF180185257BEB001BAAB2"
       ]
      },
      {
       "output_type": "stream",
       "stream": "stdout",
       "text": [
        "\n",
        "Getting # 4816: http://yosemite.epa.gov/oeca/webeis.nsf/EIS01/E9D1BF47CA4CBEDF85257BEB001BAA8F"
       ]
      },
      {
       "output_type": "stream",
       "stream": "stdout",
       "text": [
        "\n",
        "Getting # 4816: http://yosemite.epa.gov/oeca/webeis.nsf/EIS01/1C2397089329C5C485257BEB001BAA46"
       ]
      },
      {
       "output_type": "stream",
       "stream": "stdout",
       "text": [
        "\n",
        "Getting # 4816: http://yosemite.epa.gov/oeca/webeis.nsf/EIS01/3E080E82956CE3E385257BEB001BAA38"
       ]
      },
      {
       "output_type": "stream",
       "stream": "stdout",
       "text": [
        "\n",
        "Getting # 4816: http://yosemite.epa.gov/oeca/webeis.nsf/EIS01/E95752C383F96BA085257BEB001BAA36"
       ]
      },
      {
       "output_type": "stream",
       "stream": "stdout",
       "text": [
        "\n",
        "Getting # 4816: http://yosemite.epa.gov/oeca/webeis.nsf/EIS01/8BBBEB2357AE6DE985257BEB001BAA5A"
       ]
      },
      {
       "output_type": "stream",
       "stream": "stdout",
       "text": [
        "\n",
        "Getting # 4816: http://yosemite.epa.gov/oeca/webeis.nsf/EIS01/E47C0CA05276779B85257BEB001BAA2B"
       ]
      },
      {
       "output_type": "stream",
       "stream": "stdout",
       "text": [
        "\n",
        "Getting # 4816: http://yosemite.epa.gov/oeca/webeis.nsf/EIS01/E396FABFA9AC15C285257BEB001BAA70"
       ]
      },
      {
       "output_type": "stream",
       "stream": "stdout",
       "text": [
        "\n",
        "Getting # 4816: http://yosemite.epa.gov/oeca/webeis.nsf/EIS01/F32C95C9A41AB7C985257BEB001BAA17"
       ]
      },
      {
       "output_type": "stream",
       "stream": "stdout",
       "text": [
        "\n",
        "Getting # 4816: http://yosemite.epa.gov/oeca/webeis.nsf/EIS01/736742B58694177985257BEB001BA9FE"
       ]
      },
      {
       "output_type": "stream",
       "stream": "stdout",
       "text": [
        "\n",
        "Getting # 4816: http://yosemite.epa.gov/oeca/webeis.nsf/EIS01/D43DD9837A1866AF85257BEB001BA9D2"
       ]
      },
      {
       "output_type": "stream",
       "stream": "stdout",
       "text": [
        "\n",
        "Getting # 4816: http://yosemite.epa.gov/oeca/webeis.nsf/EIS01/F416591019F9433B85257BEB001BA9D8"
       ]
      },
      {
       "output_type": "stream",
       "stream": "stdout",
       "text": [
        "\n",
        "Getting # 4816: http://yosemite.epa.gov/oeca/webeis.nsf/EIS01/FED007F854C42BCD85257BEB001BA9EA"
       ]
      },
      {
       "output_type": "stream",
       "stream": "stdout",
       "text": [
        "\n",
        "Getting # 4816: http://yosemite.epa.gov/oeca/webeis.nsf/EIS01/43084651A6BF445285257BEB001BA9F1"
       ]
      },
      {
       "output_type": "stream",
       "stream": "stdout",
       "text": [
        "\n",
        "Getting # 4816: http://yosemite.epa.gov/oeca/webeis.nsf/EIS01/C28D8C8E7B2A66C785257BEB001BA9CD"
       ]
      },
      {
       "output_type": "stream",
       "stream": "stdout",
       "text": [
        "\n",
        "Getting # 4816: http://yosemite.epa.gov/oeca/webeis.nsf/EIS01/8657F449F1DC412085257BEB001BA98A"
       ]
      },
      {
       "output_type": "stream",
       "stream": "stdout",
       "text": [
        "\n",
        "Getting # 4816: http://yosemite.epa.gov/oeca/webeis.nsf/EIS01/C9BB4BF8DE65F27285257BEB001BA97C"
       ]
      },
      {
       "output_type": "stream",
       "stream": "stdout",
       "text": [
        "\n",
        "Getting # 4816: http://yosemite.epa.gov/oeca/webeis.nsf/EIS01/E7637E25CFCE5AF285257BEB001BA989"
       ]
      },
      {
       "output_type": "stream",
       "stream": "stdout",
       "text": [
        "\n",
        "Getting # 4816: http://yosemite.epa.gov/oeca/webeis.nsf/EIS01/72F9E163D916139385257BEB001BA978"
       ]
      },
      {
       "output_type": "stream",
       "stream": "stdout",
       "text": [
        "\n",
        "Getting # 4816: http://yosemite.epa.gov/oeca/webeis.nsf/EIS01/C7A2D9F5FD96A7F685257BEB001BA923"
       ]
      },
      {
       "output_type": "stream",
       "stream": "stdout",
       "text": [
        "\n",
        "Getting # 4816: http://yosemite.epa.gov/oeca/webeis.nsf/EIS01/42E0CC9FEE7EE87285257BEB001BA934"
       ]
      },
      {
       "output_type": "stream",
       "stream": "stdout",
       "text": [
        "\n",
        "Getting # 4816: http://yosemite.epa.gov/oeca/webeis.nsf/EIS01/A29A4609B268D00985257BEB001BA95A"
       ]
      },
      {
       "output_type": "stream",
       "stream": "stdout",
       "text": [
        "\n",
        "Getting # 4816: http://yosemite.epa.gov/oeca/webeis.nsf/EIS01/DDEA3D82D094716585257BEB001BA930"
       ]
      },
      {
       "output_type": "stream",
       "stream": "stdout",
       "text": [
        "\n",
        "Getting # 4816: http://yosemite.epa.gov/oeca/webeis.nsf/EIS01/EE9C3D026F320F1E85257BEB001BA950"
       ]
      },
      {
       "output_type": "stream",
       "stream": "stdout",
       "text": [
        "\n",
        "Getting # 4816: http://yosemite.epa.gov/oeca/webeis.nsf/EIS01/09B8E1AE4F7D562C85257BEB001BA914"
       ]
      },
      {
       "output_type": "stream",
       "stream": "stdout",
       "text": [
        "\n",
        "Getting # 4816: http://yosemite.epa.gov/oeca/webeis.nsf/EIS01/147075A4A462C6B185257BEB001BA91A"
       ]
      },
      {
       "output_type": "stream",
       "stream": "stdout",
       "text": [
        "\n",
        "Getting # 4816: http://yosemite.epa.gov/oeca/webeis.nsf/EIS01/8EF280F90C6B612385257BEB001BA910"
       ]
      },
      {
       "output_type": "stream",
       "stream": "stdout",
       "text": [
        "\n",
        "Getting # 4816: http://yosemite.epa.gov/oeca/webeis.nsf/EIS01/B3A10016CD08C3FF85257BEB001BA917"
       ]
      },
      {
       "output_type": "stream",
       "stream": "stdout",
       "text": [
        "\n",
        "Getting # 4816: http://yosemite.epa.gov/oeca/webeis.nsf/EIS01/E41CE3F8655DE00E85257BEB001BA91B"
       ]
      },
      {
       "output_type": "stream",
       "stream": "stdout",
       "text": [
        "\n",
        "Getting # 4816: http://yosemite.epa.gov/oeca/webeis.nsf/EIS01/68A27F1796D4B67885257BEB001BA8E9"
       ]
      },
      {
       "output_type": "stream",
       "stream": "stdout",
       "text": [
        "\n",
        "Getting # 4816: http://yosemite.epa.gov/oeca/webeis.nsf/EIS01/855640F03B60ADD785257BEB001BA8EC"
       ]
      },
      {
       "output_type": "stream",
       "stream": "stdout",
       "text": [
        "\n",
        "Getting # 4816: http://yosemite.epa.gov/oeca/webeis.nsf/EIS01/89ABDF1D138F2C0885257BEB001BA8C9"
       ]
      },
      {
       "output_type": "stream",
       "stream": "stdout",
       "text": [
        "\n",
        "Getting # 4816: http://yosemite.epa.gov/oeca/webeis.nsf/EIS01/B16F91D3EE74767085257BEB001BA8C5"
       ]
      },
      {
       "output_type": "stream",
       "stream": "stdout",
       "text": [
        "\n",
        "Getting # 4816: http://yosemite.epa.gov/oeca/webeis.nsf/EIS01/CBDB8B71044AEA7885257BEB001BA8CD"
       ]
      },
      {
       "output_type": "stream",
       "stream": "stdout",
       "text": [
        "\n",
        "Getting # 4816: http://yosemite.epa.gov/oeca/webeis.nsf/EIS01/EF25CFC10F7F982B85257BEB001BA8BE"
       ]
      },
      {
       "output_type": "stream",
       "stream": "stdout",
       "text": [
        "\n",
        "Getting # 4816: http://yosemite.epa.gov/oeca/webeis.nsf/EIS01/38F3A2F8729B837C85257BEB001BA8AC"
       ]
      },
      {
       "output_type": "stream",
       "stream": "stdout",
       "text": [
        "\n",
        "Getting # 4816: http://yosemite.epa.gov/oeca/webeis.nsf/EIS01/75A3D6724E53523685257BEB001BA890"
       ]
      },
      {
       "output_type": "stream",
       "stream": "stdout",
       "text": [
        "\n",
        "Getting # 4816: http://yosemite.epa.gov/oeca/webeis.nsf/EIS01/86426AAF02FCE3A385257BEB001BA88D"
       ]
      },
      {
       "output_type": "stream",
       "stream": "stdout",
       "text": [
        "\n",
        "Getting # 4816: http://yosemite.epa.gov/oeca/webeis.nsf/EIS01/AB6ED6164A9CA7C785257BEB001BA892"
       ]
      },
      {
       "output_type": "stream",
       "stream": "stdout",
       "text": [
        "\n",
        "Getting # 4816: http://yosemite.epa.gov/oeca/webeis.nsf/EIS01/A90429C880BE90FF85257BEB001BA88C"
       ]
      },
      {
       "output_type": "stream",
       "stream": "stdout",
       "text": [
        "\n",
        "Getting # 4816: http://yosemite.epa.gov/oeca/webeis.nsf/EIS01/84906B9C8769B15385257BEB001BA885"
       ]
      },
      {
       "output_type": "stream",
       "stream": "stdout",
       "text": [
        "\n",
        "Getting # 4816: http://yosemite.epa.gov/oeca/webeis.nsf/EIS01/B4E8926A9318F24885257BEB001BA88A"
       ]
      },
      {
       "output_type": "stream",
       "stream": "stdout",
       "text": [
        "\n",
        "Getting # 4816: http://yosemite.epa.gov/oeca/webeis.nsf/EIS01/C589056B0D9B6D2E85257BEB001BA86E"
       ]
      },
      {
       "output_type": "stream",
       "stream": "stdout",
       "text": [
        "\n",
        "Getting # 4816: http://yosemite.epa.gov/oeca/webeis.nsf/EIS01/261BB60519F26C7A85257BEB001BA86C"
       ]
      },
      {
       "output_type": "stream",
       "stream": "stdout",
       "text": [
        "\n",
        "Getting # 4816: http://yosemite.epa.gov/oeca/webeis.nsf/EIS01/5A891826BA416B6E85257BEB001BA85B"
       ]
      },
      {
       "output_type": "stream",
       "stream": "stdout",
       "text": [
        "\n",
        "Getting # 4816: http://yosemite.epa.gov/oeca/webeis.nsf/EIS01/682C63029B9000E385257BEB001BA877"
       ]
      },
      {
       "output_type": "stream",
       "stream": "stdout",
       "text": [
        "\n",
        "Getting # 4816: http://yosemite.epa.gov/oeca/webeis.nsf/EIS01/BC78E821B45F19C085257BEB001BA879"
       ]
      },
      {
       "output_type": "stream",
       "stream": "stdout",
       "text": [
        "\n",
        "Getting # 4816: http://yosemite.epa.gov/oeca/webeis.nsf/EIS01/FA3D0FFCF57AD87085257BEB001BA841"
       ]
      },
      {
       "output_type": "stream",
       "stream": "stdout",
       "text": [
        "\n",
        "Getting # 4816: http://yosemite.epa.gov/oeca/webeis.nsf/EIS01/3F488BC9DC51E53285257BEB001BA84F"
       ]
      },
      {
       "output_type": "stream",
       "stream": "stdout",
       "text": [
        "\n",
        "Getting # 4816: http://yosemite.epa.gov/oeca/webeis.nsf/EIS01/845B1493794FCF4F85257BEB001BA82E"
       ]
      },
      {
       "output_type": "stream",
       "stream": "stdout",
       "text": [
        "\n",
        "Getting # 4816: http://yosemite.epa.gov/oeca/webeis.nsf/EIS01/2695642DB3DD1E3185257BEB001BA833"
       ]
      },
      {
       "output_type": "stream",
       "stream": "stdout",
       "text": [
        "\n",
        "Getting # 4816: http://yosemite.epa.gov/oeca/webeis.nsf/EIS01/C47A6444D12106F385257BEB001BA7E9"
       ]
      },
      {
       "output_type": "stream",
       "stream": "stdout",
       "text": [
        "\n",
        "Getting # 4816: http://yosemite.epa.gov/oeca/webeis.nsf/EIS01/523902F09A0B4BB985257BEB001BA7E6"
       ]
      },
      {
       "output_type": "stream",
       "stream": "stdout",
       "text": [
        "\n",
        "Getting # 4816: http://yosemite.epa.gov/oeca/webeis.nsf/EIS01/CB05F91D67EF116D85257BEB001BA829"
       ]
      },
      {
       "output_type": "stream",
       "stream": "stdout",
       "text": [
        "\n",
        "Getting # 4816: http://yosemite.epa.gov/oeca/webeis.nsf/EIS01/D8E22429E98AECA185257BEB001BA7D6"
       ]
      },
      {
       "output_type": "stream",
       "stream": "stdout",
       "text": [
        "\n",
        "Getting # 4816: http://yosemite.epa.gov/oeca/webeis.nsf/EIS01/208102BF8FD1863685257BEB001BA7E0"
       ]
      },
      {
       "output_type": "stream",
       "stream": "stdout",
       "text": [
        "\n",
        "Getting # 4816: http://yosemite.epa.gov/oeca/webeis.nsf/EIS01/6549BEBB0CA140AF85257BEB001BA7DB"
       ]
      },
      {
       "output_type": "stream",
       "stream": "stdout",
       "text": [
        "\n",
        "Getting # 4816: http://yosemite.epa.gov/oeca/webeis.nsf/EIS01/E9EC9658257CD3AB85257BEB001BA7D3"
       ]
      },
      {
       "output_type": "stream",
       "stream": "stdout",
       "text": [
        "\n",
        "Getting # 4816: http://yosemite.epa.gov/oeca/webeis.nsf/EIS01/203EDAAC9CAB178485257BEB001BA7D0"
       ]
      },
      {
       "output_type": "stream",
       "stream": "stdout",
       "text": [
        "\n",
        "Getting # 4816: http://yosemite.epa.gov/oeca/webeis.nsf/EIS01/E33B9B71FA583A4185257BEB001BA7D2"
       ]
      },
      {
       "output_type": "stream",
       "stream": "stdout",
       "text": [
        "\n",
        "Getting # 4816: http://yosemite.epa.gov/oeca/webeis.nsf/EIS01/9914DE786F752AF585257BEB001BA798"
       ]
      },
      {
       "output_type": "stream",
       "stream": "stdout",
       "text": [
        "\n",
        "Getting # 4816: http://yosemite.epa.gov/oeca/webeis.nsf/EIS01/0F8406D48E0FA54B85257BEB001BA772"
       ]
      },
      {
       "output_type": "stream",
       "stream": "stdout",
       "text": [
        "\n",
        "Getting # 4816: http://yosemite.epa.gov/oeca/webeis.nsf/EIS01/01086AC5811687E285257BEB001BA78A"
       ]
      },
      {
       "output_type": "stream",
       "stream": "stdout",
       "text": [
        "\n",
        "Getting # 4816: http://yosemite.epa.gov/oeca/webeis.nsf/EIS01/9F065386C411BE4B85257BEB001BA79B"
       ]
      },
      {
       "output_type": "stream",
       "stream": "stdout",
       "text": [
        "\n",
        "Getting # 4816: http://yosemite.epa.gov/oeca/webeis.nsf/EIS01/17579497456B6BC985257BEB001BA77D"
       ]
      },
      {
       "output_type": "stream",
       "stream": "stdout",
       "text": [
        "\n",
        "Getting # 4816: http://yosemite.epa.gov/oeca/webeis.nsf/EIS01/9E9F961AFD84E0D085257BEB001BA793"
       ]
      },
      {
       "output_type": "stream",
       "stream": "stdout",
       "text": [
        "\n",
        "Getting # 4816: http://yosemite.epa.gov/oeca/webeis.nsf/EIS01/43FBFF64811F33D085257BEB001BA77F"
       ]
      },
      {
       "output_type": "stream",
       "stream": "stdout",
       "text": [
        "\n",
        "Getting # 4816: http://yosemite.epa.gov/oeca/webeis.nsf/EIS01/AE34424BBC66AC2185257BEB001BA760"
       ]
      },
      {
       "output_type": "stream",
       "stream": "stdout",
       "text": [
        "\n",
        "Getting # 4816: http://yosemite.epa.gov/oeca/webeis.nsf/EIS01/5F99A770D65B92C385257BEB001BA771"
       ]
      },
      {
       "output_type": "stream",
       "stream": "stdout",
       "text": [
        "\n",
        "Getting # 4816: http://yosemite.epa.gov/oeca/webeis.nsf/EIS01/30C46973B8CBBA8F85257BEB001BA75D"
       ]
      },
      {
       "output_type": "stream",
       "stream": "stdout",
       "text": [
        "\n",
        "Getting # 4816: http://yosemite.epa.gov/oeca/webeis.nsf/EIS01/5361D4EFAEC67CF685257BEB001BA76C"
       ]
      },
      {
       "output_type": "stream",
       "stream": "stdout",
       "text": [
        "\n",
        "Getting # 4816: http://yosemite.epa.gov/oeca/webeis.nsf/EIS01/FE9132B81B5A0B6085257BEB001BA75B"
       ]
      },
      {
       "output_type": "stream",
       "stream": "stdout",
       "text": [
        "\n",
        "Getting # 4816: http://yosemite.epa.gov/oeca/webeis.nsf/EIS01/A32E594B49376C4385257BEB001BA758"
       ]
      },
      {
       "output_type": "stream",
       "stream": "stdout",
       "text": [
        "\n",
        "Getting # 4816: http://yosemite.epa.gov/oeca/webeis.nsf/EIS01/3F7B947C7BD1263F85257BEB001BA756"
       ]
      },
      {
       "output_type": "stream",
       "stream": "stdout",
       "text": [
        "\n",
        "Getting # 4816: http://yosemite.epa.gov/oeca/webeis.nsf/EIS01/0363BB124D26D80185257BEB001BA737"
       ]
      },
      {
       "output_type": "stream",
       "stream": "stdout",
       "text": [
        "\n",
        "Getting # 4816: http://yosemite.epa.gov/oeca/webeis.nsf/EIS01/7FAC139C6CD9FA8185257BEB001BA72F"
       ]
      },
      {
       "output_type": "stream",
       "stream": "stdout",
       "text": [
        "\n",
        "Getting # 4816: http://yosemite.epa.gov/oeca/webeis.nsf/EIS01/88AF0AA44A57485885257BEB001BA732"
       ]
      },
      {
       "output_type": "stream",
       "stream": "stdout",
       "text": [
        "\n",
        "Getting # 4816: http://yosemite.epa.gov/oeca/webeis.nsf/EIS01/D5D3C6B2F695493685257BEB001BA71B"
       ]
      },
      {
       "output_type": "stream",
       "stream": "stdout",
       "text": [
        "\n",
        "Getting # 4816: http://yosemite.epa.gov/oeca/webeis.nsf/EIS01/D65D2DC0045C50FF85257BEB001BA74D"
       ]
      },
      {
       "output_type": "stream",
       "stream": "stdout",
       "text": [
        "\n",
        "Getting # 4816: http://yosemite.epa.gov/oeca/webeis.nsf/EIS01/E86E527B3E90B58885257BEB001BA718"
       ]
      },
      {
       "output_type": "stream",
       "stream": "stdout",
       "text": [
        "\n",
        "Getting # 4816: http://yosemite.epa.gov/oeca/webeis.nsf/EIS01/984AD9EBB103247B85257BEB001BA705"
       ]
      },
      {
       "output_type": "stream",
       "stream": "stdout",
       "text": [
        "\n",
        "Getting # 4816: http://yosemite.epa.gov/oeca/webeis.nsf/EIS01/1A05FC94EFE51F6D85257BEB001BA700"
       ]
      },
      {
       "output_type": "stream",
       "stream": "stdout",
       "text": [
        "\n",
        "Getting # 4816: http://yosemite.epa.gov/oeca/webeis.nsf/EIS01/DDBF541B28DBC0F585257BEB001BA703"
       ]
      },
      {
       "output_type": "stream",
       "stream": "stdout",
       "text": [
        "\n",
        "Getting # 4816: http://yosemite.epa.gov/oeca/webeis.nsf/EIS01/F6390575636B33A285257BEB001BA6F8"
       ]
      },
      {
       "output_type": "stream",
       "stream": "stdout",
       "text": [
        "\n",
        "Getting # 4816: http://yosemite.epa.gov/oeca/webeis.nsf/EIS01/1D416C6C0B45951E85257BEB001BA6F5"
       ]
      },
      {
       "output_type": "stream",
       "stream": "stdout",
       "text": [
        "\n",
        "Getting # 4816: http://yosemite.epa.gov/oeca/webeis.nsf/EIS01/DAA31E61C7EBCD7685257BEB001BA6E9"
       ]
      },
      {
       "output_type": "stream",
       "stream": "stdout",
       "text": [
        "\n",
        "Getting # 4816: http://yosemite.epa.gov/oeca/webeis.nsf/EIS01/D7DE3C3DC3DC185785257BEB001BA6F7"
       ]
      },
      {
       "output_type": "stream",
       "stream": "stdout",
       "text": [
        "\n",
        "Getting # 4816: http://yosemite.epa.gov/oeca/webeis.nsf/EIS01/5972BB2D7CF1AD7785257BEB001BA6CB"
       ]
      },
      {
       "output_type": "stream",
       "stream": "stdout",
       "text": [
        "\n",
        "Getting # 4816: http://yosemite.epa.gov/oeca/webeis.nsf/EIS01/9D9A98C626FF92A285257BEB001BA6C6"
       ]
      },
      {
       "output_type": "stream",
       "stream": "stdout",
       "text": [
        "\n",
        "Getting # 4816: http://yosemite.epa.gov/oeca/webeis.nsf/EIS01/FA08C4CD377DBF1B85257BEB001BA6BC"
       ]
      },
      {
       "output_type": "stream",
       "stream": "stdout",
       "text": [
        "\n",
        "Getting # 4816: http://yosemite.epa.gov/oeca/webeis.nsf/EIS01/01DF625A51EEF64685257BEB001BA6C2"
       ]
      },
      {
       "output_type": "stream",
       "stream": "stdout",
       "text": [
        "\n",
        "Getting # 4816: http://yosemite.epa.gov/oeca/webeis.nsf/EIS01/77B61C277325D1ED85257BEB001BA6B2"
       ]
      },
      {
       "output_type": "stream",
       "stream": "stdout",
       "text": [
        "\n",
        "Getting # 4816: http://yosemite.epa.gov/oeca/webeis.nsf/EIS01/CD54268AF5F72A2385257BEB001BA6B1"
       ]
      },
      {
       "output_type": "stream",
       "stream": "stdout",
       "text": [
        "\n",
        "Getting # 4816: http://yosemite.epa.gov/oeca/webeis.nsf/EIS01/764702A7F6E1EF5485257BEB001BA699"
       ]
      },
      {
       "output_type": "stream",
       "stream": "stdout",
       "text": [
        "\n",
        "Getting # 4816: http://yosemite.epa.gov/oeca/webeis.nsf/EIS01/98FBC1FB1C103D5185257BEB001BA6A1"
       ]
      },
      {
       "output_type": "stream",
       "stream": "stdout",
       "text": [
        "\n",
        "Getting # 4816: http://yosemite.epa.gov/oeca/webeis.nsf/EIS01/40DEEA661DC8295185257BEB001BA68D"
       ]
      },
      {
       "output_type": "stream",
       "stream": "stdout",
       "text": [
        "\n",
        "Getting # 4816: http://yosemite.epa.gov/oeca/webeis.nsf/EIS01/B4378A6E4C08288085257BEB001BA667"
       ]
      },
      {
       "output_type": "stream",
       "stream": "stdout",
       "text": [
        "\n",
        "Getting # 4816: http://yosemite.epa.gov/oeca/webeis.nsf/EIS01/2D54CC3BAAB31BD785257BEB001BA682"
       ]
      },
      {
       "output_type": "stream",
       "stream": "stdout",
       "text": [
        "\n",
        "Getting # 4816: http://yosemite.epa.gov/oeca/webeis.nsf/EIS01/51A6EDB89180691B85257BEB001BA683"
       ]
      },
      {
       "output_type": "stream",
       "stream": "stdout",
       "text": [
        "\n",
        "Getting # 4816: http://yosemite.epa.gov/oeca/webeis.nsf/EIS01/CE16C2AF8CDACEE185257BEB001BA688"
       ]
      },
      {
       "output_type": "stream",
       "stream": "stdout",
       "text": [
        "\n",
        "Getting # 4816: http://yosemite.epa.gov/oeca/webeis.nsf/EIS01/19B8A8B1AB82C07585257BEB001BA650"
       ]
      },
      {
       "output_type": "stream",
       "stream": "stdout",
       "text": [
        "\n",
        "Getting # 4816: http://yosemite.epa.gov/oeca/webeis.nsf/EIS01/A5BFF1370CFFB43585257BEB001BA653"
       ]
      },
      {
       "output_type": "stream",
       "stream": "stdout",
       "text": [
        "\n",
        "Getting # 4816: http://yosemite.epa.gov/oeca/webeis.nsf/EIS01/AEB550AE3F8A8F0F85257BEB001BA656"
       ]
      },
      {
       "output_type": "stream",
       "stream": "stdout",
       "text": [
        "\n",
        "Getting # 4816: http://yosemite.epa.gov/oeca/webeis.nsf/EIS01/740940592104F25085257BEB001BA63F"
       ]
      },
      {
       "output_type": "stream",
       "stream": "stdout",
       "text": [
        "\n",
        "Getting # 4816: http://yosemite.epa.gov/oeca/webeis.nsf/EIS01/39AC80A57FA80B0E85257BEB001BA646"
       ]
      },
      {
       "output_type": "stream",
       "stream": "stdout",
       "text": [
        "\n",
        "Getting # 4816: http://yosemite.epa.gov/oeca/webeis.nsf/EIS01/D2D9729DE84F97B085257BEB001BA649"
       ]
      },
      {
       "output_type": "stream",
       "stream": "stdout",
       "text": [
        "\n",
        "Getting # 4816: http://yosemite.epa.gov/oeca/webeis.nsf/EIS01/5F3970E1AA779D0C85257BEB001BA64E"
       ]
      },
      {
       "output_type": "stream",
       "stream": "stdout",
       "text": [
        "\n",
        "Getting # 4816: http://yosemite.epa.gov/oeca/webeis.nsf/EIS01/F3333D0ECDA1FAAD85257BEB001BA637"
       ]
      },
      {
       "output_type": "stream",
       "stream": "stdout",
       "text": [
        "\n",
        "Getting # 4816: http://yosemite.epa.gov/oeca/webeis.nsf/EIS01/DA08675EA55C109885257BEB001BA622"
       ]
      },
      {
       "output_type": "stream",
       "stream": "stdout",
       "text": [
        "\n",
        "Getting # 4816: http://yosemite.epa.gov/oeca/webeis.nsf/EIS01/1E276023FBF5194D85257BEB001BA610"
       ]
      },
      {
       "output_type": "stream",
       "stream": "stdout",
       "text": [
        "\n",
        "Getting # 4816: http://yosemite.epa.gov/oeca/webeis.nsf/EIS01/246A50B54304B4D985257BEB001BA61B"
       ]
      },
      {
       "output_type": "stream",
       "stream": "stdout",
       "text": [
        "\n",
        "Getting # 4816: http://yosemite.epa.gov/oeca/webeis.nsf/EIS01/8C36FF4DDFE823C785257BEB001BA617"
       ]
      },
      {
       "output_type": "stream",
       "stream": "stdout",
       "text": [
        "\n",
        "Getting # 4816: http://yosemite.epa.gov/oeca/webeis.nsf/EIS01/E9CE634A043CD3DF85257BEB001BA602"
       ]
      },
      {
       "output_type": "stream",
       "stream": "stdout",
       "text": [
        "\n",
        "Getting # 4816: http://yosemite.epa.gov/oeca/webeis.nsf/EIS01/EB5F23811E1C023785257BEB001BA5FE"
       ]
      },
      {
       "output_type": "stream",
       "stream": "stdout",
       "text": [
        "\n",
        "Getting # 4816: http://yosemite.epa.gov/oeca/webeis.nsf/EIS01/5241ACCC3DB7D07185257BEB001BA5ED"
       ]
      },
      {
       "output_type": "stream",
       "stream": "stdout",
       "text": [
        "\n",
        "Getting # 4816: http://yosemite.epa.gov/oeca/webeis.nsf/EIS01/C3D8C0D9FF4C3A3685257BEB001BA5E4"
       ]
      },
      {
       "output_type": "stream",
       "stream": "stdout",
       "text": [
        "\n",
        "Getting # 4816: http://yosemite.epa.gov/oeca/webeis.nsf/EIS01/F5F2129E3B96314785257BEB001BA5FA"
       ]
      },
      {
       "output_type": "stream",
       "stream": "stdout",
       "text": [
        "\n",
        "Getting # 4816: http://yosemite.epa.gov/oeca/webeis.nsf/EIS01/0EB43AB823A672E085257BEB001BA5D9"
       ]
      },
      {
       "output_type": "stream",
       "stream": "stdout",
       "text": [
        "\n",
        "Getting # 4816: http://yosemite.epa.gov/oeca/webeis.nsf/EIS01/0C4C7ED67D4E579885257BEB001BA5DF"
       ]
      },
      {
       "output_type": "stream",
       "stream": "stdout",
       "text": [
        "\n",
        "Getting # 4816: http://yosemite.epa.gov/oeca/webeis.nsf/EIS01/7EAB75A6186C8C6F85257BEB001BA5D5"
       ]
      },
      {
       "output_type": "stream",
       "stream": "stdout",
       "text": [
        "\n",
        "Getting # 4816: http://yosemite.epa.gov/oeca/webeis.nsf/EIS01/325B1A4F735208CA85257BEB001BA5D4"
       ]
      },
      {
       "output_type": "stream",
       "stream": "stdout",
       "text": [
        "\n",
        "Getting # 4816: http://yosemite.epa.gov/oeca/webeis.nsf/EIS01/7A9594DF3F76041385257BEB001BA5D1"
       ]
      },
      {
       "output_type": "stream",
       "stream": "stdout",
       "text": [
        "\n",
        "Getting # 4816: http://yosemite.epa.gov/oeca/webeis.nsf/EIS01/BFB0944C6264213685257BEB001BA5CB"
       ]
      },
      {
       "output_type": "stream",
       "stream": "stdout",
       "text": [
        "\n",
        "Getting # 4816: http://yosemite.epa.gov/oeca/webeis.nsf/EIS01/EDD106A696C7886385257BEB001BA5C6"
       ]
      },
      {
       "output_type": "stream",
       "stream": "stdout",
       "text": [
        "\n",
        "Getting # 4816: http://yosemite.epa.gov/oeca/webeis.nsf/EIS01/01133A8D58A2E80685257BEB001BA59F"
       ]
      },
      {
       "output_type": "stream",
       "stream": "stdout",
       "text": [
        "\n",
        "Getting # 4816: http://yosemite.epa.gov/oeca/webeis.nsf/EIS01/3996F3C0AD4FAB3485257BEB001BA593"
       ]
      },
      {
       "output_type": "stream",
       "stream": "stdout",
       "text": [
        "\n",
        "Getting # 4816: http://yosemite.epa.gov/oeca/webeis.nsf/EIS01/823C19C36F5A202585257BEB001BA59C"
       ]
      },
      {
       "output_type": "stream",
       "stream": "stdout",
       "text": [
        "\n",
        "Getting # 4816: http://yosemite.epa.gov/oeca/webeis.nsf/EIS01/F5C593D88619323285257BEB001BA591"
       ]
      },
      {
       "output_type": "stream",
       "stream": "stdout",
       "text": [
        "\n",
        "Getting # 4816: http://yosemite.epa.gov/oeca/webeis.nsf/EIS01/E8A598FB4485C01385257BEB001BA56F"
       ]
      },
      {
       "output_type": "stream",
       "stream": "stdout",
       "text": [
        "\n",
        "Getting # 4816: http://yosemite.epa.gov/oeca/webeis.nsf/EIS01/8BE6758010DEF32085257BEB001BA585"
       ]
      },
      {
       "output_type": "stream",
       "stream": "stdout",
       "text": [
        "\n",
        "Getting # 4816: http://yosemite.epa.gov/oeca/webeis.nsf/EIS01/46C77D9EEE6D665F85257BEB001BA554"
       ]
      },
      {
       "output_type": "stream",
       "stream": "stdout",
       "text": [
        "\n",
        "Getting # 4816: http://yosemite.epa.gov/oeca/webeis.nsf/EIS01/AB57CE9F4F906D3085257BEB001BA551"
       ]
      },
      {
       "output_type": "stream",
       "stream": "stdout",
       "text": [
        "\n",
        "Getting # 4816: http://yosemite.epa.gov/oeca/webeis.nsf/EIS01/19164166EF21F5D385257BEB001BA543"
       ]
      },
      {
       "output_type": "stream",
       "stream": "stdout",
       "text": [
        "\n",
        "Getting # 4816: http://yosemite.epa.gov/oeca/webeis.nsf/EIS01/8759F23F05FBE10385257BEB001BA532"
       ]
      },
      {
       "output_type": "stream",
       "stream": "stdout",
       "text": [
        "\n",
        "Getting # 4816: http://yosemite.epa.gov/oeca/webeis.nsf/EIS01/A9014A85A61E731885257BEB001BA545"
       ]
      },
      {
       "output_type": "stream",
       "stream": "stdout",
       "text": [
        "\n",
        "Getting # 4816: http://yosemite.epa.gov/oeca/webeis.nsf/EIS01/01827059D613B19385257BEB001BA509"
       ]
      },
      {
       "output_type": "stream",
       "stream": "stdout",
       "text": [
        "\n",
        "Getting # 4816: http://yosemite.epa.gov/oeca/webeis.nsf/EIS01/28BD6E10B7D730D185257BEB001BA50B"
       ]
      },
      {
       "output_type": "stream",
       "stream": "stdout",
       "text": [
        "\n",
        "Getting # 4816: http://yosemite.epa.gov/oeca/webeis.nsf/EIS01/5693354D597101B985257BEB001BA52F"
       ]
      },
      {
       "output_type": "stream",
       "stream": "stdout",
       "text": [
        "\n",
        "Getting # 4816: http://yosemite.epa.gov/oeca/webeis.nsf/EIS01/63BA807454EC4BF385257BEB001BA513"
       ]
      },
      {
       "output_type": "stream",
       "stream": "stdout",
       "text": [
        "\n",
        "Getting # 4816: http://yosemite.epa.gov/oeca/webeis.nsf/EIS01/F8AA422E178F232585257BEB001BA514"
       ]
      },
      {
       "output_type": "stream",
       "stream": "stdout",
       "text": [
        "\n",
        "Getting # 4816: http://yosemite.epa.gov/oeca/webeis.nsf/EIS01/C9A292E7C26A40E885257BEB001BA508"
       ]
      },
      {
       "output_type": "stream",
       "stream": "stdout",
       "text": [
        "\n",
        "Getting # 4816: http://yosemite.epa.gov/oeca/webeis.nsf/EIS01/933ACBA86E37258385257BEB001BA506"
       ]
      },
      {
       "output_type": "stream",
       "stream": "stdout",
       "text": [
        "\n",
        "Getting # 4816: http://yosemite.epa.gov/oeca/webeis.nsf/EIS01/AF249C1E1C991A7185257BEB001BA500"
       ]
      },
      {
       "output_type": "stream",
       "stream": "stdout",
       "text": [
        "\n",
        "Getting # 4816: http://yosemite.epa.gov/oeca/webeis.nsf/EIS01/86D6681284E521C485257BEB001BA4DA"
       ]
      },
      {
       "output_type": "stream",
       "stream": "stdout",
       "text": [
        "\n",
        "Getting # 4816: http://yosemite.epa.gov/oeca/webeis.nsf/EIS01/8AF75659B064615E85257BEB001BA4F8"
       ]
      },
      {
       "output_type": "stream",
       "stream": "stdout",
       "text": [
        "\n",
        "Getting # 4816: http://yosemite.epa.gov/oeca/webeis.nsf/EIS01/CDD6AD0851E1199185257BEB001BA4E7"
       ]
      },
      {
       "output_type": "stream",
       "stream": "stdout",
       "text": [
        "\n",
        "Getting # 4816: http://yosemite.epa.gov/oeca/webeis.nsf/EIS01/FC524820582BC06085257BEB001BA4E1"
       ]
      },
      {
       "output_type": "stream",
       "stream": "stdout",
       "text": [
        "\n",
        "Getting # 4816: http://yosemite.epa.gov/oeca/webeis.nsf/EIS01/F8456F0921F6DD1785257BEB001BA49E"
       ]
      },
      {
       "output_type": "stream",
       "stream": "stdout",
       "text": [
        "\n",
        "Getting # 4816: http://yosemite.epa.gov/oeca/webeis.nsf/EIS01/E21A7961C4559A4285257BEB001BA4CB"
       ]
      },
      {
       "output_type": "stream",
       "stream": "stdout",
       "text": [
        "\n",
        "Getting # 4816: http://yosemite.epa.gov/oeca/webeis.nsf/EIS01/7A7DE40BCC045B0D85257BEB001BA4D1"
       ]
      },
      {
       "output_type": "stream",
       "stream": "stdout",
       "text": [
        "\n",
        "Getting # 4816: http://yosemite.epa.gov/oeca/webeis.nsf/EIS01/09B623E00DF90B1385257BEB001BA4B2"
       ]
      },
      {
       "output_type": "stream",
       "stream": "stdout",
       "text": [
        "\n",
        "Getting # 4816: http://yosemite.epa.gov/oeca/webeis.nsf/EIS01/0B8EC97F380171A385257BEB001BA4C4"
       ]
      },
      {
       "output_type": "stream",
       "stream": "stdout",
       "text": [
        "\n",
        "Getting # 4816: http://yosemite.epa.gov/oeca/webeis.nsf/EIS01/1EE7E8CC3A3C8D2B85257BEB001BA49D"
       ]
      },
      {
       "output_type": "stream",
       "stream": "stdout",
       "text": [
        "\n",
        "Getting # 4816: http://yosemite.epa.gov/oeca/webeis.nsf/EIS01/59466EA1244BAF9685257BEB001BA4D6"
       ]
      },
      {
       "output_type": "stream",
       "stream": "stdout",
       "text": [
        "\n",
        "Getting # 4816: http://yosemite.epa.gov/oeca/webeis.nsf/EIS01/796D6379CA60A6FA85257BEB001BA4CF"
       ]
      },
      {
       "output_type": "stream",
       "stream": "stdout",
       "text": [
        "\n",
        "Getting # 4816: http://yosemite.epa.gov/oeca/webeis.nsf/EIS01/82EC992FF0FBE77185257BEB001BA49C"
       ]
      },
      {
       "output_type": "stream",
       "stream": "stdout",
       "text": [
        "\n",
        "Getting # 4816: http://yosemite.epa.gov/oeca/webeis.nsf/EIS01/9631F528B3FC36F785257BEB001BA4B3"
       ]
      },
      {
       "output_type": "stream",
       "stream": "stdout",
       "text": [
        "\n",
        "Getting # 4816: http://yosemite.epa.gov/oeca/webeis.nsf/EIS01/812F15189A7331C985257BEB001BA472"
       ]
      },
      {
       "output_type": "stream",
       "stream": "stdout",
       "text": [
        "\n",
        "Getting # 4816: http://yosemite.epa.gov/oeca/webeis.nsf/EIS01/E1B0B5FF4640458885257BEB001BA492"
       ]
      },
      {
       "output_type": "stream",
       "stream": "stdout",
       "text": [
        "\n",
        "Getting # 4816: http://yosemite.epa.gov/oeca/webeis.nsf/EIS01/066AD3C63D030D9585257BEB001BA491"
       ]
      },
      {
       "output_type": "stream",
       "stream": "stdout",
       "text": [
        "\n",
        "Getting # 4816: http://yosemite.epa.gov/oeca/webeis.nsf/EIS01/248F5EB9BF7415C485257BEB001BA48F"
       ]
      },
      {
       "output_type": "stream",
       "stream": "stdout",
       "text": [
        "\n",
        "Getting # 4816: http://yosemite.epa.gov/oeca/webeis.nsf/EIS01/2E4BABCA932C246F85257BEB001BA481"
       ]
      },
      {
       "output_type": "stream",
       "stream": "stdout",
       "text": [
        "\n",
        "Getting # 4816: http://yosemite.epa.gov/oeca/webeis.nsf/EIS01/7B8A3F7FACD7D64285257BEB001BA46B"
       ]
      },
      {
       "output_type": "stream",
       "stream": "stdout",
       "text": [
        "\n",
        "Getting # 4816: http://yosemite.epa.gov/oeca/webeis.nsf/EIS01/7C7886B603F1D0B085257BEB001BA47B"
       ]
      },
      {
       "output_type": "stream",
       "stream": "stdout",
       "text": [
        "\n",
        "Getting # 4816: http://yosemite.epa.gov/oeca/webeis.nsf/EIS01/AE21D90843D29B5685257BEB001BA46E"
       ]
      },
      {
       "output_type": "stream",
       "stream": "stdout",
       "text": [
        "\n",
        "Getting # 4816: http://yosemite.epa.gov/oeca/webeis.nsf/EIS01/CCDEAAD9402202B885257BEB001BA478"
       ]
      },
      {
       "output_type": "stream",
       "stream": "stdout",
       "text": [
        "\n",
        "Getting # 4816: http://yosemite.epa.gov/oeca/webeis.nsf/EIS01/B6ABC2915D9E5D4285257BEB001BA451"
       ]
      },
      {
       "output_type": "stream",
       "stream": "stdout",
       "text": [
        "\n",
        "Getting # 4816: http://yosemite.epa.gov/oeca/webeis.nsf/EIS01/A0A482E15A8DEE2F85257BEB001BA432"
       ]
      },
      {
       "output_type": "stream",
       "stream": "stdout",
       "text": [
        "\n",
        "Getting # 4816: http://yosemite.epa.gov/oeca/webeis.nsf/EIS01/7CE3ABB48866CDDE85257BEB001BA441"
       ]
      },
      {
       "output_type": "stream",
       "stream": "stdout",
       "text": [
        "\n",
        "Getting # 4816: http://yosemite.epa.gov/oeca/webeis.nsf/EIS01/7C6373AC3877091985257BEB001BA443"
       ]
      },
      {
       "output_type": "stream",
       "stream": "stdout",
       "text": [
        "\n",
        "Getting # 4816: http://yosemite.epa.gov/oeca/webeis.nsf/EIS01/CA4D5497435FAA5185257BEB001BA43B"
       ]
      },
      {
       "output_type": "stream",
       "stream": "stdout",
       "text": [
        "\n",
        "Getting # 4816: http://yosemite.epa.gov/oeca/webeis.nsf/EIS01/1AD33F93C2BE2B8685257BEB001BA417"
       ]
      },
      {
       "output_type": "stream",
       "stream": "stdout",
       "text": [
        "\n",
        "Getting # 4816: http://yosemite.epa.gov/oeca/webeis.nsf/EIS01/AA7B580CCA0BE0CE85257BEB001BA423"
       ]
      },
      {
       "output_type": "stream",
       "stream": "stdout",
       "text": [
        "\n",
        "Getting # 4816: http://yosemite.epa.gov/oeca/webeis.nsf/EIS01/8339171C3811401E85257BEB001BA3DD"
       ]
      },
      {
       "output_type": "stream",
       "stream": "stdout",
       "text": [
        "\n",
        "Getting # 4816: http://yosemite.epa.gov/oeca/webeis.nsf/EIS01/733EFE73816893F985257BEB001BA403"
       ]
      },
      {
       "output_type": "stream",
       "stream": "stdout",
       "text": [
        "\n",
        "Getting # 4816: http://yosemite.epa.gov/oeca/webeis.nsf/EIS01/80AD4F7F9D7CD8C285257BEB001BA3D1"
       ]
      },
      {
       "output_type": "stream",
       "stream": "stdout",
       "text": [
        "\n",
        "Getting # 4816: http://yosemite.epa.gov/oeca/webeis.nsf/EIS01/074E96C753E6092B85257BEB001BA3D4"
       ]
      },
      {
       "output_type": "stream",
       "stream": "stdout",
       "text": [
        "\n",
        "Getting # 4816: http://yosemite.epa.gov/oeca/webeis.nsf/EIS01/0EF6DF926911DF3B85257BEB001BA3BF"
       ]
      },
      {
       "output_type": "stream",
       "stream": "stdout",
       "text": [
        "\n",
        "Getting # 4816: http://yosemite.epa.gov/oeca/webeis.nsf/EIS01/386B3F78DACE6DCB85257BEB001BA3C7"
       ]
      },
      {
       "output_type": "stream",
       "stream": "stdout",
       "text": [
        "\n",
        "Getting # 4816: http://yosemite.epa.gov/oeca/webeis.nsf/EIS01/46CE0198E2A9FE4485257BEB001BA3BC"
       ]
      },
      {
       "output_type": "stream",
       "stream": "stdout",
       "text": [
        "\n",
        "Getting # 4816: http://yosemite.epa.gov/oeca/webeis.nsf/EIS01/7B142FD47E005C7985257BEB001BA3C9"
       ]
      },
      {
       "output_type": "stream",
       "stream": "stdout",
       "text": [
        "\n",
        "Getting # 4816: http://yosemite.epa.gov/oeca/webeis.nsf/EIS01/F0BBBD8428170B6E85257BEB001BA3BB"
       ]
      },
      {
       "output_type": "stream",
       "stream": "stdout",
       "text": [
        "\n",
        "Getting # 4816: http://yosemite.epa.gov/oeca/webeis.nsf/EIS01/126FEC1E27F48D9F85257BEB001BA3B6"
       ]
      },
      {
       "output_type": "stream",
       "stream": "stdout",
       "text": [
        "\n",
        "Getting # 4816: http://yosemite.epa.gov/oeca/webeis.nsf/EIS01/58DC349E22993A0B85257BEB001BA3B0"
       ]
      },
      {
       "output_type": "stream",
       "stream": "stdout",
       "text": [
        "\n",
        "Getting # 4816: http://yosemite.epa.gov/oeca/webeis.nsf/EIS01/6BB441399F9ABC0C85257BEB001BA38A"
       ]
      },
      {
       "output_type": "stream",
       "stream": "stdout",
       "text": [
        "\n",
        "Getting # 4816: http://yosemite.epa.gov/oeca/webeis.nsf/EIS01/8DD5D877527BEEF985257BEB001BA3AE"
       ]
      },
      {
       "output_type": "stream",
       "stream": "stdout",
       "text": [
        "\n",
        "Getting # 4816: http://yosemite.epa.gov/oeca/webeis.nsf/EIS01/DF6ECB451F5BE4D885257BEB001BA3A3"
       ]
      },
      {
       "output_type": "stream",
       "stream": "stdout",
       "text": [
        "\n",
        "Getting # 4816: http://yosemite.epa.gov/oeca/webeis.nsf/EIS01/E762EA11DDC3E0C285257BEB001BA39A"
       ]
      },
      {
       "output_type": "stream",
       "stream": "stdout",
       "text": [
        "\n",
        "Getting # 4816: http://yosemite.epa.gov/oeca/webeis.nsf/EIS01/30D051DF382D28DE85257BEB001BA381"
       ]
      },
      {
       "output_type": "stream",
       "stream": "stdout",
       "text": [
        "\n",
        "Getting # 4816: http://yosemite.epa.gov/oeca/webeis.nsf/EIS01/004ECE82286CB08B85257BEB001BA35D"
       ]
      },
      {
       "output_type": "stream",
       "stream": "stdout",
       "text": [
        "\n",
        "Getting # 4816: http://yosemite.epa.gov/oeca/webeis.nsf/EIS01/BD647FE2EAE678A385257BEB001BA363"
       ]
      },
      {
       "output_type": "stream",
       "stream": "stdout",
       "text": [
        "\n",
        "Getting # 4816: http://yosemite.epa.gov/oeca/webeis.nsf/EIS01/C92F8EB97EDB5CE685257BEB001BA379"
       ]
      },
      {
       "output_type": "stream",
       "stream": "stdout",
       "text": [
        "\n",
        "Getting # 4816: http://yosemite.epa.gov/oeca/webeis.nsf/EIS01/FDCD5446613536FC85257BEB001BA371"
       ]
      },
      {
       "output_type": "stream",
       "stream": "stdout",
       "text": [
        "\n",
        "Getting # 4816: http://yosemite.epa.gov/oeca/webeis.nsf/EIS01/8F8CAFCDD5EFB72485257BEB001BA349"
       ]
      },
      {
       "output_type": "stream",
       "stream": "stdout",
       "text": [
        "\n",
        "Getting # 4816: http://yosemite.epa.gov/oeca/webeis.nsf/EIS01/080B370D6A0AA1DF85257BEB001BA344"
       ]
      },
      {
       "output_type": "stream",
       "stream": "stdout",
       "text": [
        "\n",
        "Getting # 4816: http://yosemite.epa.gov/oeca/webeis.nsf/EIS01/74D3344D62A966F585257BEB001BA357"
       ]
      },
      {
       "output_type": "stream",
       "stream": "stdout",
       "text": [
        "\n",
        "Getting # 4816: http://yosemite.epa.gov/oeca/webeis.nsf/EIS01/F8E9F0BF570B7E6985257BEB001BA35B"
       ]
      },
      {
       "output_type": "stream",
       "stream": "stdout",
       "text": [
        "\n",
        "Getting # 4816: http://yosemite.epa.gov/oeca/webeis.nsf/EIS01/111827CC0391189985257BEB001BA33F"
       ]
      },
      {
       "output_type": "stream",
       "stream": "stdout",
       "text": [
        "\n",
        "Getting # 4816: http://yosemite.epa.gov/oeca/webeis.nsf/EIS01/2161BC420FBD586F85257BEB001BA339"
       ]
      },
      {
       "output_type": "stream",
       "stream": "stdout",
       "text": [
        "\n",
        "Getting # 4816: http://yosemite.epa.gov/oeca/webeis.nsf/EIS01/2E00849D62FCB4A885257BEB001BA2FF"
       ]
      },
      {
       "output_type": "stream",
       "stream": "stdout",
       "text": [
        "\n",
        "Getting # 4816: http://yosemite.epa.gov/oeca/webeis.nsf/EIS01/3AC5834449F8A5C785257BEB001BA317"
       ]
      },
      {
       "output_type": "stream",
       "stream": "stdout",
       "text": [
        "\n",
        "Getting # 4816: http://yosemite.epa.gov/oeca/webeis.nsf/EIS01/6CEE1B3D018619F985257BEB001BA330"
       ]
      },
      {
       "output_type": "stream",
       "stream": "stdout",
       "text": [
        "\n",
        "Getting # 4816: http://yosemite.epa.gov/oeca/webeis.nsf/EIS01/80CDB79947D8075B85257BEB001BA338"
       ]
      },
      {
       "output_type": "stream",
       "stream": "stdout",
       "text": [
        "\n",
        "Getting # 4816: http://yosemite.epa.gov/oeca/webeis.nsf/EIS01/89F32A1EBC4D8DB585257BEB001BA334"
       ]
      },
      {
       "output_type": "stream",
       "stream": "stdout",
       "text": [
        "\n",
        "Getting # 4816: http://yosemite.epa.gov/oeca/webeis.nsf/EIS01/B83A42E91AB1CF8A85257BEB001BA33B"
       ]
      },
      {
       "output_type": "stream",
       "stream": "stdout",
       "text": [
        "\n",
        "Getting # 4816: http://yosemite.epa.gov/oeca/webeis.nsf/EIS01/E0F7B4470A56E85A85257BEB001BA335"
       ]
      },
      {
       "output_type": "stream",
       "stream": "stdout",
       "text": [
        "\n",
        "Getting # 4816: http://yosemite.epa.gov/oeca/webeis.nsf/EIS01/E9DA4698CC604C2C85257BEB001BA2FB"
       ]
      },
      {
       "output_type": "stream",
       "stream": "stdout",
       "text": [
        "\n",
        "Getting # 4816: http://yosemite.epa.gov/oeca/webeis.nsf/EIS01/F3706767679ABF5385257BEB001BA331"
       ]
      },
      {
       "output_type": "stream",
       "stream": "stdout",
       "text": [
        "\n",
        "Getting # 4816: http://yosemite.epa.gov/oeca/webeis.nsf/EIS01/DB5599B5AD2167E785257BEB001BA2EB"
       ]
      },
      {
       "output_type": "stream",
       "stream": "stdout",
       "text": [
        "\n",
        "Getting # 4816: http://yosemite.epa.gov/oeca/webeis.nsf/EIS01/A968EE49057DB20D85257BEB001BA2F1"
       ]
      },
      {
       "output_type": "stream",
       "stream": "stdout",
       "text": [
        "\n",
        "Getting # 4816: http://yosemite.epa.gov/oeca/webeis.nsf/EIS01/22DB86354023F89385257BEB001BA2E9"
       ]
      },
      {
       "output_type": "stream",
       "stream": "stdout",
       "text": [
        "\n",
        "Getting # 4816: http://yosemite.epa.gov/oeca/webeis.nsf/EIS01/3D4E20C3EF13307485257BEB001BA2CA"
       ]
      },
      {
       "output_type": "stream",
       "stream": "stdout",
       "text": [
        "\n",
        "Getting # 4816: http://yosemite.epa.gov/oeca/webeis.nsf/EIS01/759C4333F1117E8985257BEB001BA2DE"
       ]
      },
      {
       "output_type": "stream",
       "stream": "stdout",
       "text": [
        "\n",
        "Getting # 4816: http://yosemite.epa.gov/oeca/webeis.nsf/EIS01/8CDA7C58AC82928E85257BEB001BA2C5"
       ]
      },
      {
       "output_type": "stream",
       "stream": "stdout",
       "text": [
        "\n",
        "Getting # 4816: http://yosemite.epa.gov/oeca/webeis.nsf/EIS01/C83D68CDBD25CDFE85257BEB001BA2CD"
       ]
      },
      {
       "output_type": "stream",
       "stream": "stdout",
       "text": [
        "\n",
        "Getting # 4816: http://yosemite.epa.gov/oeca/webeis.nsf/EIS01/F6F71E48FAFBF71885257BEB001BA2D7"
       ]
      },
      {
       "output_type": "stream",
       "stream": "stdout",
       "text": [
        "\n",
        "Getting # 4816: http://yosemite.epa.gov/oeca/webeis.nsf/EIS01/7E5ED2F2DEDA68E085257BEB001BA2C1"
       ]
      },
      {
       "output_type": "stream",
       "stream": "stdout",
       "text": [
        "\n",
        "Getting # 4816: http://yosemite.epa.gov/oeca/webeis.nsf/EIS01/72F284FADAE099BD85257BEB001BA2B0"
       ]
      },
      {
       "output_type": "stream",
       "stream": "stdout",
       "text": [
        "\n",
        "Getting # 4816: http://yosemite.epa.gov/oeca/webeis.nsf/EIS01/856A11F9BF32AEB385257BEB001BA2A5"
       ]
      },
      {
       "output_type": "stream",
       "stream": "stdout",
       "text": [
        "\n",
        "Getting # 4816: http://yosemite.epa.gov/oeca/webeis.nsf/EIS01/0F277D94C556944585257BEB001BA284"
       ]
      },
      {
       "output_type": "stream",
       "stream": "stdout",
       "text": [
        "\n",
        "Getting # 4816: http://yosemite.epa.gov/oeca/webeis.nsf/EIS01/39634AE0F88F2D0E85257BEB001BA28A"
       ]
      },
      {
       "output_type": "stream",
       "stream": "stdout",
       "text": [
        "\n",
        "Getting # 4816: http://yosemite.epa.gov/oeca/webeis.nsf/EIS01/4FD648CF9783E0BA85257BEB001BA290"
       ]
      },
      {
       "output_type": "stream",
       "stream": "stdout",
       "text": [
        "\n",
        "Getting # 4816: http://yosemite.epa.gov/oeca/webeis.nsf/EIS01/71AC06B8A592F9BD85257BEB001BA273"
       ]
      },
      {
       "output_type": "stream",
       "stream": "stdout",
       "text": [
        "\n",
        "Getting # 4816: http://yosemite.epa.gov/oeca/webeis.nsf/EIS01/B1A79A35351A664185257BEB001BA27E"
       ]
      },
      {
       "output_type": "stream",
       "stream": "stdout",
       "text": [
        "\n",
        "Getting # 4816: http://yosemite.epa.gov/oeca/webeis.nsf/EIS01/755FDE4D849C25A885257BEB001BA26E"
       ]
      },
      {
       "output_type": "stream",
       "stream": "stdout",
       "text": [
        "\n",
        "Getting # 4816: http://yosemite.epa.gov/oeca/webeis.nsf/EIS01/6BE750C42B647A7685257BEB001BA26C"
       ]
      },
      {
       "output_type": "stream",
       "stream": "stdout",
       "text": [
        "\n",
        "Getting # 4816: http://yosemite.epa.gov/oeca/webeis.nsf/EIS01/78CC63F82F01D2CB85257BEB001BA265"
       ]
      },
      {
       "output_type": "stream",
       "stream": "stdout",
       "text": [
        "\n",
        "Getting # 4816: http://yosemite.epa.gov/oeca/webeis.nsf/EIS01/BD4E2A644AF8BF5485257BEB001BA25B"
       ]
      },
      {
       "output_type": "stream",
       "stream": "stdout",
       "text": [
        "\n",
        "Getting # 4816: http://yosemite.epa.gov/oeca/webeis.nsf/EIS01/C2F7C07EB7EE4A2385257BEB001BA269"
       ]
      },
      {
       "output_type": "stream",
       "stream": "stdout",
       "text": [
        "\n",
        "Getting # 4816: http://yosemite.epa.gov/oeca/webeis.nsf/EIS01/DD2DA12D94C84CA285257BEB001BA24A"
       ]
      },
      {
       "output_type": "stream",
       "stream": "stdout",
       "text": [
        "\n",
        "Getting # 4816: http://yosemite.epa.gov/oeca/webeis.nsf/EIS01/3EDAB95565B06F9D85257BEB001BA252"
       ]
      },
      {
       "output_type": "stream",
       "stream": "stdout",
       "text": [
        "\n",
        "Getting # 4816: http://yosemite.epa.gov/oeca/webeis.nsf/EIS01/EA53610D1D388DE385257BEB001BA258"
       ]
      },
      {
       "output_type": "stream",
       "stream": "stdout",
       "text": [
        "\n",
        "Getting # 4816: http://yosemite.epa.gov/oeca/webeis.nsf/EIS01/09C09D66CDA746B185257BEB001BA23C"
       ]
      },
      {
       "output_type": "stream",
       "stream": "stdout",
       "text": [
        "\n",
        "Getting # 4816: http://yosemite.epa.gov/oeca/webeis.nsf/EIS01/13BACA8F1CA325D685257BEB001BA23A"
       ]
      },
      {
       "output_type": "stream",
       "stream": "stdout",
       "text": [
        "\n",
        "Getting # 4816: http://yosemite.epa.gov/oeca/webeis.nsf/EIS01/40B3260FE145575185257BEB001BA241"
       ]
      },
      {
       "output_type": "stream",
       "stream": "stdout",
       "text": [
        "\n",
        "Getting # 4816: http://yosemite.epa.gov/oeca/webeis.nsf/EIS01/B3D43D8837329C5385257BEB001BA23F"
       ]
      },
      {
       "output_type": "stream",
       "stream": "stdout",
       "text": [
        "\n",
        "Getting # 4816: http://yosemite.epa.gov/oeca/webeis.nsf/EIS01/DFA583319C882E3185257BEB001BA236"
       ]
      },
      {
       "output_type": "stream",
       "stream": "stdout",
       "text": [
        "\n",
        "Getting # 4816: http://yosemite.epa.gov/oeca/webeis.nsf/EIS01/E98D64F2E6136C0485257BEB001BA223"
       ]
      },
      {
       "output_type": "stream",
       "stream": "stdout",
       "text": [
        "\n",
        "Getting # 4816: http://yosemite.epa.gov/oeca/webeis.nsf/EIS01/F6424ABD76CCD44185257BEB001BA225"
       ]
      },
      {
       "output_type": "stream",
       "stream": "stdout",
       "text": [
        "\n",
        "Getting # 4816: http://yosemite.epa.gov/oeca/webeis.nsf/EIS01/53E767FA29C9B25585257BEB001BA22C"
       ]
      },
      {
       "output_type": "stream",
       "stream": "stdout",
       "text": [
        "\n",
        "Getting # 4816: http://yosemite.epa.gov/oeca/webeis.nsf/EIS01/D45C6932B96E37B885257BEB001BA229"
       ]
      },
      {
       "output_type": "stream",
       "stream": "stdout",
       "text": [
        "\n",
        "Getting # 4816: http://yosemite.epa.gov/oeca/webeis.nsf/EIS01/FE95CA9EE620EF0485257BEB001BA215"
       ]
      },
      {
       "output_type": "stream",
       "stream": "stdout",
       "text": [
        "\n",
        "Getting # 4816: http://yosemite.epa.gov/oeca/webeis.nsf/EIS01/0F99577ABA98A11C85257BEB001BA202"
       ]
      },
      {
       "output_type": "stream",
       "stream": "stdout",
       "text": [
        "\n",
        "Getting # 4816: http://yosemite.epa.gov/oeca/webeis.nsf/EIS01/222CC178208F1E3B85257BEB001BA1EB"
       ]
      },
      {
       "output_type": "stream",
       "stream": "stdout",
       "text": [
        "\n",
        "Getting # 4816: http://yosemite.epa.gov/oeca/webeis.nsf/EIS01/321299A1E0D3EAAE85257BEB001BA1C8"
       ]
      },
      {
       "output_type": "stream",
       "stream": "stdout",
       "text": [
        "\n",
        "Getting # 4816: http://yosemite.epa.gov/oeca/webeis.nsf/EIS01/8EDA544277C9392D85257BEB001BA1DA"
       ]
      },
      {
       "output_type": "stream",
       "stream": "stdout",
       "text": [
        "\n",
        "Getting # 4816: http://yosemite.epa.gov/oeca/webeis.nsf/EIS01/B16B6D6A8D897B0585257BEB001BA1C7"
       ]
      },
      {
       "output_type": "stream",
       "stream": "stdout",
       "text": [
        "\n",
        "Getting # 4816: http://yosemite.epa.gov/oeca/webeis.nsf/EIS01/DBBDDA15E6E7991185257BEB001BA1E6"
       ]
      },
      {
       "output_type": "stream",
       "stream": "stdout",
       "text": [
        "\n",
        "Getting # 4816: http://yosemite.epa.gov/oeca/webeis.nsf/EIS01/0FF6F281FA4B24D385257BEB001BA1BD"
       ]
      },
      {
       "output_type": "stream",
       "stream": "stdout",
       "text": [
        "\n",
        "Getting # 4816: http://yosemite.epa.gov/oeca/webeis.nsf/EIS01/1559338916553F8785257BEB001BA1C1"
       ]
      },
      {
       "output_type": "stream",
       "stream": "stdout",
       "text": [
        "\n",
        "Getting # 4816: http://yosemite.epa.gov/oeca/webeis.nsf/EIS01/52516D6F655F0CE185257BEB001BA1AF"
       ]
      },
      {
       "output_type": "stream",
       "stream": "stdout",
       "text": [
        "\n",
        "Getting # 4816: http://yosemite.epa.gov/oeca/webeis.nsf/EIS01/B32520BC0A33914F85257BEB001BA1AC"
       ]
      },
      {
       "output_type": "stream",
       "stream": "stdout",
       "text": [
        "\n",
        "Getting # 4816: http://yosemite.epa.gov/oeca/webeis.nsf/EIS01/B95AE537813DCC0C85257BEB001BA1A1"
       ]
      },
      {
       "output_type": "stream",
       "stream": "stdout",
       "text": [
        "\n",
        "Getting # 4816: http://yosemite.epa.gov/oeca/webeis.nsf/EIS01/982B409F63DE5A8785257BEB001BA18B"
       ]
      },
      {
       "output_type": "stream",
       "stream": "stdout",
       "text": [
        "\n",
        "Getting # 4816: http://yosemite.epa.gov/oeca/webeis.nsf/EIS01/A2027E2466613D3585257BEB001BA172"
       ]
      },
      {
       "output_type": "stream",
       "stream": "stdout",
       "text": [
        "\n",
        "Getting # 4816: http://yosemite.epa.gov/oeca/webeis.nsf/EIS01/497AE2A5DE5E4A9785257BEB001BA17F"
       ]
      },
      {
       "output_type": "stream",
       "stream": "stdout",
       "text": [
        "\n",
        "Getting # 4816: http://yosemite.epa.gov/oeca/webeis.nsf/EIS01/C0BB66B6CAF36B0E85257BEB001BA169"
       ]
      },
      {
       "output_type": "stream",
       "stream": "stdout",
       "text": [
        "\n",
        "Getting # 4816: http://yosemite.epa.gov/oeca/webeis.nsf/EIS01/EFA3251665AAC1A585257BEB001BA163"
       ]
      },
      {
       "output_type": "stream",
       "stream": "stdout",
       "text": [
        "\n",
        "Getting # 4816: http://yosemite.epa.gov/oeca/webeis.nsf/EIS01/16A9EE22EA4B92EC85257BEB001BA15D"
       ]
      },
      {
       "output_type": "stream",
       "stream": "stdout",
       "text": [
        "\n",
        "Getting # 4816: http://yosemite.epa.gov/oeca/webeis.nsf/EIS01/9BAF7C8C2CC439A185257BEB001BA15E"
       ]
      },
      {
       "output_type": "stream",
       "stream": "stdout",
       "text": [
        "\n",
        "Getting # 4816: http://yosemite.epa.gov/oeca/webeis.nsf/EIS01/FC10A0B5C923711585257BEB001BA14A"
       ]
      },
      {
       "output_type": "stream",
       "stream": "stdout",
       "text": [
        "\n",
        "Getting # 4816: http://yosemite.epa.gov/oeca/webeis.nsf/EIS01/4347AE672543711085257BEB001BA14B"
       ]
      },
      {
       "output_type": "stream",
       "stream": "stdout",
       "text": [
        "\n",
        "Getting # 4816: http://yosemite.epa.gov/oeca/webeis.nsf/EIS01/7E9945E03A0EA49D85257BEB001BA14D"
       ]
      },
      {
       "output_type": "stream",
       "stream": "stdout",
       "text": [
        "\n",
        "Getting # 4816: http://yosemite.epa.gov/oeca/webeis.nsf/EIS01/F9992073F5170BE985257BEB001BA142"
       ]
      },
      {
       "output_type": "stream",
       "stream": "stdout",
       "text": [
        "\n",
        "Getting # 4816: http://yosemite.epa.gov/oeca/webeis.nsf/EIS01/B7155804E56CEB3F85257BEB001BA156"
       ]
      },
      {
       "output_type": "stream",
       "stream": "stdout",
       "text": [
        "\n",
        "Getting # 4816: http://yosemite.epa.gov/oeca/webeis.nsf/EIS01/BFABCF0521B7F42085257BEB001BA13A"
       ]
      },
      {
       "output_type": "stream",
       "stream": "stdout",
       "text": [
        "\n",
        "Getting # 4816: http://yosemite.epa.gov/oeca/webeis.nsf/EIS01/1FBDD8002CEF60D785257BEB001BA121"
       ]
      },
      {
       "output_type": "stream",
       "stream": "stdout",
       "text": [
        "\n",
        "Getting # 4816: http://yosemite.epa.gov/oeca/webeis.nsf/EIS01/8E7F6181269C7F5E85257BEB001BA139"
       ]
      },
      {
       "output_type": "stream",
       "stream": "stdout",
       "text": [
        "\n",
        "Getting # 4816: http://yosemite.epa.gov/oeca/webeis.nsf/EIS01/C498FF2AD72EC5B385257BEB001BA127"
       ]
      },
      {
       "output_type": "stream",
       "stream": "stdout",
       "text": [
        "\n",
        "Getting # 4816: http://yosemite.epa.gov/oeca/webeis.nsf/EIS01/EA87E02A3731DC5185257BEB001BA12B"
       ]
      },
      {
       "output_type": "stream",
       "stream": "stdout",
       "text": [
        "\n",
        "Getting # 4816: http://yosemite.epa.gov/oeca/webeis.nsf/EIS01/F4F37926B24135FF85257BEB001BA120"
       ]
      },
      {
       "output_type": "stream",
       "stream": "stdout",
       "text": [
        "\n",
        "Getting # 4816: http://yosemite.epa.gov/oeca/webeis.nsf/EIS01/479B35991D4E04F685257BEB001BA131"
       ]
      },
      {
       "output_type": "stream",
       "stream": "stdout",
       "text": [
        "\n",
        "Getting # 4816: http://yosemite.epa.gov/oeca/webeis.nsf/EIS01/D9A29651FE973A6A85257B000020FDCD"
       ]
      },
      {
       "output_type": "stream",
       "stream": "stdout",
       "text": [
        "\n",
        "Getting # 4816: http://yosemite.epa.gov/oeca/webeis.nsf/EIS01/B1AB50184B7FC5E485257BEB001BA116"
       ]
      },
      {
       "output_type": "stream",
       "stream": "stdout",
       "text": [
        "\n",
        "Getting # 4816: http://yosemite.epa.gov/oeca/webeis.nsf/EIS01/D5DE1FD1AF2C258685257BEB001BA114"
       ]
      },
      {
       "output_type": "stream",
       "stream": "stdout",
       "text": [
        "\n",
        "Getting # 4816: http://yosemite.epa.gov/oeca/webeis.nsf/EIS01/6AADF02F06988BE685257BEB001BA103"
       ]
      },
      {
       "output_type": "stream",
       "stream": "stdout",
       "text": [
        "\n",
        "Getting # 4816: http://yosemite.epa.gov/oeca/webeis.nsf/EIS01/822486F7953C6A6C85257BEB001BA110"
       ]
      },
      {
       "output_type": "stream",
       "stream": "stdout",
       "text": [
        "\n",
        "Getting # 4816: http://yosemite.epa.gov/oeca/webeis.nsf/EIS01/EC0395351284F52485257BEB001BA0FC"
       ]
      },
      {
       "output_type": "stream",
       "stream": "stdout",
       "text": [
        "\n",
        "Getting # 4816: http://yosemite.epa.gov/oeca/webeis.nsf/EIS01/5F118880E2E6097F85257BEB001BA0FF"
       ]
      },
      {
       "output_type": "stream",
       "stream": "stdout",
       "text": [
        "\n",
        "Getting # 4816: http://yosemite.epa.gov/oeca/webeis.nsf/EIS01/1A8AF7E3E84553DE85257BEB001BA0EF"
       ]
      },
      {
       "output_type": "stream",
       "stream": "stdout",
       "text": [
        "\n",
        "Getting # 4816: http://yosemite.epa.gov/oeca/webeis.nsf/EIS01/39FEAF477A4A80D685257BEB001BA0F5"
       ]
      },
      {
       "output_type": "stream",
       "stream": "stdout",
       "text": [
        "\n",
        "Getting # 4816: http://yosemite.epa.gov/oeca/webeis.nsf/EIS01/F21ABEA659A3D0D185257BEB001BA0E7"
       ]
      },
      {
       "output_type": "stream",
       "stream": "stdout",
       "text": [
        "\n",
        "Getting # 4816: http://yosemite.epa.gov/oeca/webeis.nsf/EIS01/7FEE0F1020E81FEB85257BEB001BA0E4"
       ]
      },
      {
       "output_type": "stream",
       "stream": "stdout",
       "text": [
        "\n",
        "Getting # 4816: http://yosemite.epa.gov/oeca/webeis.nsf/EIS01/71B8A8E7F0ED8BCD85257BEB001BA0D3"
       ]
      },
      {
       "output_type": "stream",
       "stream": "stdout",
       "text": [
        "\n",
        "Getting # 4816: http://yosemite.epa.gov/oeca/webeis.nsf/EIS01/E07A30E95ED8C55185257BEB001BA0CE"
       ]
      },
      {
       "output_type": "stream",
       "stream": "stdout",
       "text": [
        "\n",
        "Getting # 4816: http://yosemite.epa.gov/oeca/webeis.nsf/EIS01/844308E5AF3DE1E785257BEB001BA0D0"
       ]
      },
      {
       "output_type": "stream",
       "stream": "stdout",
       "text": [
        "\n",
        "Getting # 4816: http://yosemite.epa.gov/oeca/webeis.nsf/EIS01/33C06583B2C3CC5185257BEB001BA0DC"
       ]
      },
      {
       "output_type": "stream",
       "stream": "stdout",
       "text": [
        "\n",
        "Getting # 4816: http://yosemite.epa.gov/oeca/webeis.nsf/EIS01/90D7B25D3A70E6C185257BEB001BA0E3"
       ]
      },
      {
       "output_type": "stream",
       "stream": "stdout",
       "text": [
        "\n",
        "Getting # 4816: http://yosemite.epa.gov/oeca/webeis.nsf/EIS01/ED17E09378752E5485257BEB001BA0CD"
       ]
      },
      {
       "output_type": "stream",
       "stream": "stdout",
       "text": [
        "\n",
        "Getting # 4816: http://yosemite.epa.gov/oeca/webeis.nsf/EIS01/3C847F09C9A2E23485257BEB001BA0CB"
       ]
      },
      {
       "output_type": "stream",
       "stream": "stdout",
       "text": [
        "\n",
        "Getting # 4816: http://yosemite.epa.gov/oeca/webeis.nsf/EIS01/DA5F5D74EB20E35385257BEB001BA09E"
       ]
      },
      {
       "output_type": "stream",
       "stream": "stdout",
       "text": [
        "\n",
        "Getting # 4816: http://yosemite.epa.gov/oeca/webeis.nsf/EIS01/E78C5A7AB46041B885257BEB001BA09F"
       ]
      },
      {
       "output_type": "stream",
       "stream": "stdout",
       "text": [
        "\n",
        "Getting # 4816: http://yosemite.epa.gov/oeca/webeis.nsf/EIS01/20ED4F11A59DE90985257BEB001BA07F"
       ]
      },
      {
       "output_type": "stream",
       "stream": "stdout",
       "text": [
        "\n",
        "Getting # 4816: http://yosemite.epa.gov/oeca/webeis.nsf/EIS01/CCB3A69D7EADA36C85257BEB001BA08B"
       ]
      },
      {
       "output_type": "stream",
       "stream": "stdout",
       "text": [
        "\n",
        "Getting # 4816: http://yosemite.epa.gov/oeca/webeis.nsf/EIS01/A3ECE3CF159ECA2785257BEB001BA078"
       ]
      },
      {
       "output_type": "stream",
       "stream": "stdout",
       "text": [
        "\n",
        "Getting # 4816: http://yosemite.epa.gov/oeca/webeis.nsf/EIS01/1280EC64B7B45E2585257BEB001BA069"
       ]
      },
      {
       "output_type": "stream",
       "stream": "stdout",
       "text": [
        "\n",
        "Getting # 4816: http://yosemite.epa.gov/oeca/webeis.nsf/EIS01/444C8FA60D81275485257BEB001BA067"
       ]
      },
      {
       "output_type": "stream",
       "stream": "stdout",
       "text": [
        "\n",
        "Getting # 4816: http://yosemite.epa.gov/oeca/webeis.nsf/EIS01/860EA8CB460C9BC885257BEB001BA05B"
       ]
      },
      {
       "output_type": "stream",
       "stream": "stdout",
       "text": [
        "\n",
        "Getting # 4816: http://yosemite.epa.gov/oeca/webeis.nsf/EIS01/E5D42EB04219E82485257BEB001BA059"
       ]
      },
      {
       "output_type": "stream",
       "stream": "stdout",
       "text": [
        "\n",
        "Getting # 4816: http://yosemite.epa.gov/oeca/webeis.nsf/EIS01/2DDB59301EAC80B385257BEB001BA051"
       ]
      },
      {
       "output_type": "stream",
       "stream": "stdout",
       "text": [
        "\n",
        "Getting # 4816: http://yosemite.epa.gov/oeca/webeis.nsf/EIS01/658E70B4F02BA02785257BEB001BA056"
       ]
      },
      {
       "output_type": "stream",
       "stream": "stdout",
       "text": [
        "\n",
        "Getting # 4816: http://yosemite.epa.gov/oeca/webeis.nsf/EIS01/CEF604933E86E6DC85257BEB001BA046"
       ]
      },
      {
       "output_type": "stream",
       "stream": "stdout",
       "text": [
        "\n",
        "Getting # 4816: http://yosemite.epa.gov/oeca/webeis.nsf/EIS01/E21819A34EE9496985257BEB001BA043"
       ]
      },
      {
       "output_type": "stream",
       "stream": "stdout",
       "text": [
        "\n",
        "Getting # 4816: http://yosemite.epa.gov/oeca/webeis.nsf/EIS01/4B1DC2FCFF75E4D385257BEB001BA031"
       ]
      },
      {
       "output_type": "stream",
       "stream": "stdout",
       "text": [
        "\n",
        "Getting # 4816: http://yosemite.epa.gov/oeca/webeis.nsf/EIS01/03A72F3D7E194B3D85257BEB001BA02D"
       ]
      },
      {
       "output_type": "stream",
       "stream": "stdout",
       "text": [
        "\n",
        "Getting # 4816: http://yosemite.epa.gov/oeca/webeis.nsf/EIS01/CA9430E2B2F94FCF85257BEB001BA011"
       ]
      },
      {
       "output_type": "stream",
       "stream": "stdout",
       "text": [
        "\n",
        "Getting # 4816: http://yosemite.epa.gov/oeca/webeis.nsf/EIS01/E8BB3FB48D07CC0685257BEB001BA018"
       ]
      },
      {
       "output_type": "stream",
       "stream": "stdout",
       "text": [
        "\n",
        "Getting # 4816: http://yosemite.epa.gov/oeca/webeis.nsf/EIS01/C10726B8359A6F1385257BEB001BA008"
       ]
      },
      {
       "output_type": "stream",
       "stream": "stdout",
       "text": [
        "\n",
        "Getting # 4816: http://yosemite.epa.gov/oeca/webeis.nsf/EIS01/74E006FCC4743A9885257BEB001BA005"
       ]
      },
      {
       "output_type": "stream",
       "stream": "stdout",
       "text": [
        "\n",
        "Getting # 4816: http://yosemite.epa.gov/oeca/webeis.nsf/EIS01/5B029FCEAB5F3A2F85257BEB001B9FFF"
       ]
      },
      {
       "output_type": "stream",
       "stream": "stdout",
       "text": [
        "\n",
        "Getting # 4816: http://yosemite.epa.gov/oeca/webeis.nsf/EIS01/A3A42FC5005FF2D185257BEB001B9FF7"
       ]
      },
      {
       "output_type": "stream",
       "stream": "stdout",
       "text": [
        "\n",
        "Getting # 4816: http://yosemite.epa.gov/oeca/webeis.nsf/EIS01/55F55E85597DDBC885257BEB001B9FEA"
       ]
      },
      {
       "output_type": "stream",
       "stream": "stdout",
       "text": [
        "\n",
        "Getting # 4816: http://yosemite.epa.gov/oeca/webeis.nsf/EIS01/63385F2DDC9D1F3485257BEB001B9FDF"
       ]
      },
      {
       "output_type": "stream",
       "stream": "stdout",
       "text": [
        "\n",
        "Getting # 4816: http://yosemite.epa.gov/oeca/webeis.nsf/EIS01/BFEF549D71B3DABF85257BEB001B9FE4"
       ]
      },
      {
       "output_type": "stream",
       "stream": "stdout",
       "text": [
        "\n",
        "Getting # 4816: http://yosemite.epa.gov/oeca/webeis.nsf/EIS01/EEFA25094C1BF4BB85257BEB001B9FE9"
       ]
      },
      {
       "output_type": "stream",
       "stream": "stdout",
       "text": [
        "\n",
        "Getting # 4816: http://yosemite.epa.gov/oeca/webeis.nsf/EIS01/BA50AEE6439342F885257BEB001B9FD7"
       ]
      },
      {
       "output_type": "stream",
       "stream": "stdout",
       "text": [
        "\n",
        "Getting # 4816: http://yosemite.epa.gov/oeca/webeis.nsf/EIS01/846698707F6FB93A85257BEB001B9FCD"
       ]
      },
      {
       "output_type": "stream",
       "stream": "stdout",
       "text": [
        "\n",
        "Getting # 4816: http://yosemite.epa.gov/oeca/webeis.nsf/EIS01/9316B9D12349301B85257BEB001B9FCE"
       ]
      },
      {
       "output_type": "stream",
       "stream": "stdout",
       "text": [
        "\n",
        "Getting # 4816: http://yosemite.epa.gov/oeca/webeis.nsf/EIS01/990713DA21D694E385257BEB001B9FD9"
       ]
      },
      {
       "output_type": "stream",
       "stream": "stdout",
       "text": [
        "\n",
        "Getting # 4816: http://yosemite.epa.gov/oeca/webeis.nsf/EIS01/DB6063325FDA00F485257BEB001B9FCB"
       ]
      },
      {
       "output_type": "stream",
       "stream": "stdout",
       "text": [
        "\n",
        "Getting # 4816: http://yosemite.epa.gov/oeca/webeis.nsf/EIS01/EF831B1F6D42F41985257BEB001B9FD4"
       ]
      },
      {
       "output_type": "stream",
       "stream": "stdout",
       "text": [
        "\n",
        "Getting # 4816: http://yosemite.epa.gov/oeca/webeis.nsf/EIS01/40E331947570667585257BEB001B9FAF"
       ]
      },
      {
       "output_type": "stream",
       "stream": "stdout",
       "text": [
        "\n",
        "Getting # 4816: http://yosemite.epa.gov/oeca/webeis.nsf/EIS01/46EDBF2DC049FD4585257BEB001B9FAA"
       ]
      },
      {
       "output_type": "stream",
       "stream": "stdout",
       "text": [
        "\n",
        "Getting # 4816: http://yosemite.epa.gov/oeca/webeis.nsf/EIS01/DAEBFF42214EBFFA85257BEB001B9FBD"
       ]
      },
      {
       "output_type": "stream",
       "stream": "stdout",
       "text": [
        "\n",
        "Getting # 4816: http://yosemite.epa.gov/oeca/webeis.nsf/EIS01/C406CBE17E6CD44485257BEB001B9F93"
       ]
      },
      {
       "output_type": "stream",
       "stream": "stdout",
       "text": [
        "\n",
        "Getting # 4816: http://yosemite.epa.gov/oeca/webeis.nsf/EIS01/C4FA175635C423AA85257BEB001B9F94"
       ]
      },
      {
       "output_type": "stream",
       "stream": "stdout",
       "text": [
        "\n",
        "Getting # 4816: http://yosemite.epa.gov/oeca/webeis.nsf/EIS01/C7027EF74B96AF8485257BEB001B9F9E"
       ]
      },
      {
       "output_type": "stream",
       "stream": "stdout",
       "text": [
        "\n",
        "Getting # 4816: http://yosemite.epa.gov/oeca/webeis.nsf/EIS01/620AB3D4EB826D3C85257BEB001B9F77"
       ]
      },
      {
       "output_type": "stream",
       "stream": "stdout",
       "text": [
        "\n",
        "Getting # 4816: http://yosemite.epa.gov/oeca/webeis.nsf/EIS01/BA41067D0DCA587685257BEB001B9F88"
       ]
      },
      {
       "output_type": "stream",
       "stream": "stdout",
       "text": [
        "\n",
        "Getting # 4816: http://yosemite.epa.gov/oeca/webeis.nsf/EIS01/EF1E4F8F51BBBAB385257BEB001B9F7E"
       ]
      },
      {
       "output_type": "stream",
       "stream": "stdout",
       "text": [
        "\n",
        "Getting # 4816: http://yosemite.epa.gov/oeca/webeis.nsf/EIS01/4EA11D74C1903FB585257BEB001B9F85"
       ]
      },
      {
       "output_type": "stream",
       "stream": "stdout",
       "text": [
        "\n",
        "Getting # 4816: http://yosemite.epa.gov/oeca/webeis.nsf/EIS01/CE54ECF5D05E6BA885257BEB001B9F89"
       ]
      },
      {
       "output_type": "stream",
       "stream": "stdout",
       "text": [
        "\n",
        "Getting # 4816: http://yosemite.epa.gov/oeca/webeis.nsf/EIS01/85934AE8DBE50AF985257BEB001B9F7B"
       ]
      },
      {
       "output_type": "stream",
       "stream": "stdout",
       "text": [
        "\n",
        "Getting # 4816: http://yosemite.epa.gov/oeca/webeis.nsf/EIS01/CB156D4300A1207285257BEB001B9F5A"
       ]
      },
      {
       "output_type": "stream",
       "stream": "stdout",
       "text": [
        "\n",
        "Getting # 4816: http://yosemite.epa.gov/oeca/webeis.nsf/EIS01/F787564C7458382585257BEB001B9F64"
       ]
      },
      {
       "output_type": "stream",
       "stream": "stdout",
       "text": [
        "\n",
        "Getting # 4816: http://yosemite.epa.gov/oeca/webeis.nsf/EIS01/9A7A23DE8863479A85257BEB001B9F54"
       ]
      },
      {
       "output_type": "stream",
       "stream": "stdout",
       "text": [
        "\n",
        "Getting # 4816: http://yosemite.epa.gov/oeca/webeis.nsf/EIS01/46A0D717975325C185257BEB001B9F51"
       ]
      },
      {
       "output_type": "stream",
       "stream": "stdout",
       "text": [
        "\n",
        "Getting # 4816: http://yosemite.epa.gov/oeca/webeis.nsf/EIS01/79B788AED9AECFEA85257BEB001B9F56"
       ]
      },
      {
       "output_type": "stream",
       "stream": "stdout",
       "text": [
        "\n",
        "Getting # 4816: http://yosemite.epa.gov/oeca/webeis.nsf/EIS01/F055BB7C23871EBD85257BEB001B9F46"
       ]
      },
      {
       "output_type": "stream",
       "stream": "stdout",
       "text": [
        "\n",
        "Getting # 4816: http://yosemite.epa.gov/oeca/webeis.nsf/EIS01/1EE7626D0908824785257BEB001B9F1E"
       ]
      },
      {
       "output_type": "stream",
       "stream": "stdout",
       "text": [
        "\n",
        "Getting # 4816: http://yosemite.epa.gov/oeca/webeis.nsf/EIS01/234294C8D0DC412885257BEB001B9F1C"
       ]
      },
      {
       "output_type": "stream",
       "stream": "stdout",
       "text": [
        "\n",
        "Getting # 4816: http://yosemite.epa.gov/oeca/webeis.nsf/EIS01/4A8B55AE73B3139F85257BEB001B9F2A"
       ]
      },
      {
       "output_type": "stream",
       "stream": "stdout",
       "text": [
        "\n",
        "Getting # 4816: http://yosemite.epa.gov/oeca/webeis.nsf/EIS01/66C30CFD57F5020085257BEB001B9F3E"
       ]
      },
      {
       "output_type": "stream",
       "stream": "stdout",
       "text": [
        "\n",
        "Getting # 4816: http://yosemite.epa.gov/oeca/webeis.nsf/EIS01/6BE859D09610465185257BEB001B9F24"
       ]
      },
      {
       "output_type": "stream",
       "stream": "stdout",
       "text": [
        "\n",
        "Getting # 4816: http://yosemite.epa.gov/oeca/webeis.nsf/EIS01/83B9A64B7353978185257BEB001B9F1F"
       ]
      },
      {
       "output_type": "stream",
       "stream": "stdout",
       "text": [
        "\n",
        "Getting # 4816: http://yosemite.epa.gov/oeca/webeis.nsf/EIS01/BA7CC65AD8F88B8E85257BEB001B9F38"
       ]
      },
      {
       "output_type": "stream",
       "stream": "stdout",
       "text": [
        "\n",
        "Getting # 4816: http://yosemite.epa.gov/oeca/webeis.nsf/EIS01/DDF6AA408E6FFA3F85257BEB001B9F43"
       ]
      },
      {
       "output_type": "stream",
       "stream": "stdout",
       "text": [
        "\n",
        "Getting # 4816: http://yosemite.epa.gov/oeca/webeis.nsf/EIS01/83884C5A1A64334A85257BEB001B9F00"
       ]
      },
      {
       "output_type": "stream",
       "stream": "stdout",
       "text": [
        "\n",
        "Getting # 4816: http://yosemite.epa.gov/oeca/webeis.nsf/EIS01/906D4A85962C82E685257BEB001B9F14"
       ]
      },
      {
       "output_type": "stream",
       "stream": "stdout",
       "text": [
        "\n",
        "Getting # 4816: http://yosemite.epa.gov/oeca/webeis.nsf/EIS01/EFBB0DCAE29BF1B985257BEB001B9F01"
       ]
      },
      {
       "output_type": "stream",
       "stream": "stdout",
       "text": [
        "\n",
        "Getting # 4816: http://yosemite.epa.gov/oeca/webeis.nsf/EIS01/3737C89E529FF2BB85257BEB001B9F0E"
       ]
      },
      {
       "output_type": "stream",
       "stream": "stdout",
       "text": [
        "\n",
        "Getting # 4816: http://yosemite.epa.gov/oeca/webeis.nsf/EIS01/CBF0E9C31D4593C485257BEB001B9F0F"
       ]
      },
      {
       "output_type": "stream",
       "stream": "stdout",
       "text": [
        "\n",
        "Getting # 4816: http://yosemite.epa.gov/oeca/webeis.nsf/EIS01/40FF102845E1A4BF85257BEB001B9F05"
       ]
      },
      {
       "output_type": "stream",
       "stream": "stdout",
       "text": [
        "\n",
        "Getting # 4816: http://yosemite.epa.gov/oeca/webeis.nsf/EIS01/B56151FCC3FE785485257BEB001B9EF2"
       ]
      },
      {
       "output_type": "stream",
       "stream": "stdout",
       "text": [
        "\n",
        "Getting # 4816: http://yosemite.epa.gov/oeca/webeis.nsf/EIS01/7CC1B8E412C0B15285257BEB001B9EEA"
       ]
      },
      {
       "output_type": "stream",
       "stream": "stdout",
       "text": [
        "\n",
        "Getting # 4816: http://yosemite.epa.gov/oeca/webeis.nsf/EIS01/A5AC6F06C34825CD85257BEB001B9EF0"
       ]
      },
      {
       "output_type": "stream",
       "stream": "stdout",
       "text": [
        "\n",
        "Getting # 4816: http://yosemite.epa.gov/oeca/webeis.nsf/EIS01/CC4C557E671601F985257BEB001B9EDD"
       ]
      },
      {
       "output_type": "stream",
       "stream": "stdout",
       "text": [
        "\n",
        "Getting # 4816: http://yosemite.epa.gov/oeca/webeis.nsf/EIS01/F46EFA0B82AF9CD585257BEB001B9EFB"
       ]
      },
      {
       "output_type": "stream",
       "stream": "stdout",
       "text": [
        "\n",
        "Getting # 4816: http://yosemite.epa.gov/oeca/webeis.nsf/EIS01/AA955657D88573BB85257BEB001B9ED3"
       ]
      },
      {
       "output_type": "stream",
       "stream": "stdout",
       "text": [
        "\n",
        "Getting # 4816: http://yosemite.epa.gov/oeca/webeis.nsf/EIS01/B9BADAC1337EA5B585257BEB001B9ED9"
       ]
      },
      {
       "output_type": "stream",
       "stream": "stdout",
       "text": [
        "\n",
        "Getting # 4816: http://yosemite.epa.gov/oeca/webeis.nsf/EIS01/01A24C539B69E41085257BEB001B9EAD"
       ]
      },
      {
       "output_type": "stream",
       "stream": "stdout",
       "text": [
        "\n",
        "Getting # 4816: http://yosemite.epa.gov/oeca/webeis.nsf/EIS01/162858947916551D85257BEB001B9EB3"
       ]
      },
      {
       "output_type": "stream",
       "stream": "stdout",
       "text": [
        "\n",
        "Getting # 4816: http://yosemite.epa.gov/oeca/webeis.nsf/EIS01/2B48BC90B21F79D985257BEB001B9EA2"
       ]
      },
      {
       "output_type": "stream",
       "stream": "stdout",
       "text": [
        "\n",
        "Getting # 4816: http://yosemite.epa.gov/oeca/webeis.nsf/EIS01/7F5F2D11E9D3332E85257BEB001B9EBE"
       ]
      },
      {
       "output_type": "stream",
       "stream": "stdout",
       "text": [
        "\n",
        "Getting # 4816: http://yosemite.epa.gov/oeca/webeis.nsf/EIS01/8FB6677C7026B1EA85257BEB001B9EB6"
       ]
      },
      {
       "output_type": "stream",
       "stream": "stdout",
       "text": [
        "\n",
        "Getting # 4816: http://yosemite.epa.gov/oeca/webeis.nsf/EIS01/DAA1265CA12FB77085257BEB001B9EBA"
       ]
      },
      {
       "output_type": "stream",
       "stream": "stdout",
       "text": [
        "\n",
        "Getting # 4816: http://yosemite.epa.gov/oeca/webeis.nsf/EIS01/F3D71BE50F761D9C85257BEB001B9EB0"
       ]
      },
      {
       "output_type": "stream",
       "stream": "stdout",
       "text": [
        "\n",
        "Getting # 4816: http://yosemite.epa.gov/oeca/webeis.nsf/EIS01/04602BE894E98CCD85257BEB001B9EB2"
       ]
      },
      {
       "output_type": "stream",
       "stream": "stdout",
       "text": [
        "\n",
        "Getting # 4816: http://yosemite.epa.gov/oeca/webeis.nsf/EIS01/CB0A51E204E3BA8085257BEB001B9EA1"
       ]
      },
      {
       "output_type": "stream",
       "stream": "stdout",
       "text": [
        "\n",
        "Getting # 4816: http://yosemite.epa.gov/oeca/webeis.nsf/EIS01/B8FD10D5975FD40085257BEB001B9E97"
       ]
      },
      {
       "output_type": "stream",
       "stream": "stdout",
       "text": [
        "\n",
        "Getting # 4816: http://yosemite.epa.gov/oeca/webeis.nsf/EIS01/6DA1274677D6CBA385257BEB001B9E92"
       ]
      },
      {
       "output_type": "stream",
       "stream": "stdout",
       "text": [
        "\n",
        "Getting # 4816: http://yosemite.epa.gov/oeca/webeis.nsf/EIS01/EAE495D2802CD95785257BEB001B9E94"
       ]
      },
      {
       "output_type": "stream",
       "stream": "stdout",
       "text": [
        "\n",
        "Getting # 4816: http://yosemite.epa.gov/oeca/webeis.nsf/EIS01/16251EEC0D76D8A285257BEB001B9E7B"
       ]
      },
      {
       "output_type": "stream",
       "stream": "stdout",
       "text": [
        "\n",
        "Getting # 4816: http://yosemite.epa.gov/oeca/webeis.nsf/EIS01/4A19ECA7606F464585257BEB001B9E81"
       ]
      },
      {
       "output_type": "stream",
       "stream": "stdout",
       "text": [
        "\n",
        "Getting # 4816: http://yosemite.epa.gov/oeca/webeis.nsf/EIS01/C9659CCA24F0163A85257BEB001B9E8C"
       ]
      },
      {
       "output_type": "stream",
       "stream": "stdout",
       "text": [
        "\n",
        "Getting # 4816: http://yosemite.epa.gov/oeca/webeis.nsf/EIS01/F2741097EA0D9A3385257BEB001B9E78"
       ]
      },
      {
       "output_type": "stream",
       "stream": "stdout",
       "text": [
        "\n",
        "Getting # 4816: http://yosemite.epa.gov/oeca/webeis.nsf/EIS01/A306905A73E9445285257BEB001B9E76"
       ]
      },
      {
       "output_type": "stream",
       "stream": "stdout",
       "text": [
        "\n",
        "Getting # 4816: http://yosemite.epa.gov/oeca/webeis.nsf/EIS01/8F5036B435ED6AA885257BEB001B9E70"
       ]
      },
      {
       "output_type": "stream",
       "stream": "stdout",
       "text": [
        "\n",
        "Getting # 4816: http://yosemite.epa.gov/oeca/webeis.nsf/EIS01/466C7914BFD8EC4F85257BEB001B9E73"
       ]
      },
      {
       "output_type": "stream",
       "stream": "stdout",
       "text": [
        "\n",
        "Getting # 4816: http://yosemite.epa.gov/oeca/webeis.nsf/EIS01/0AF9F76682C7620785257BEB001B9E5F"
       ]
      },
      {
       "output_type": "stream",
       "stream": "stdout",
       "text": [
        "\n",
        "Getting # 4816: http://yosemite.epa.gov/oeca/webeis.nsf/EIS01/9BED4C0CC9E5AC5285257BEB001B9E60"
       ]
      },
      {
       "output_type": "stream",
       "stream": "stdout",
       "text": [
        "\n",
        "Getting # 4816: http://yosemite.epa.gov/oeca/webeis.nsf/EIS01/A8BB97EEFB73A15F85257BEB001B9E59"
       ]
      },
      {
       "output_type": "stream",
       "stream": "stdout",
       "text": [
        "\n",
        "Getting # 4816: http://yosemite.epa.gov/oeca/webeis.nsf/EIS01/7861BA85BA2413C085257BEB001B9E33"
       ]
      },
      {
       "output_type": "stream",
       "stream": "stdout",
       "text": [
        "\n",
        "Getting # 4816: http://yosemite.epa.gov/oeca/webeis.nsf/EIS01/9281A32D150358EE85257BEB001B9E35"
       ]
      },
      {
       "output_type": "stream",
       "stream": "stdout",
       "text": [
        "\n",
        "Getting # 4816: http://yosemite.epa.gov/oeca/webeis.nsf/EIS01/C267FE7B1A05503185257BEB001B9E47"
       ]
      },
      {
       "output_type": "stream",
       "stream": "stdout",
       "text": [
        "\n",
        "Getting # 4816: http://yosemite.epa.gov/oeca/webeis.nsf/EIS01/A20272CD10FAF3DE85257BEB001B9E17"
       ]
      },
      {
       "output_type": "stream",
       "stream": "stdout",
       "text": [
        "\n",
        "Getting # 4816: http://yosemite.epa.gov/oeca/webeis.nsf/EIS01/F4F57FE5EF7421BE85257BEB001B9E2B"
       ]
      },
      {
       "output_type": "stream",
       "stream": "stdout",
       "text": [
        "\n",
        "Getting # 4816: http://yosemite.epa.gov/oeca/webeis.nsf/EIS01/112B5A2A7F5F263285257BEB001B9E12"
       ]
      },
      {
       "output_type": "stream",
       "stream": "stdout",
       "text": [
        "\n",
        "Getting # 4816: http://yosemite.epa.gov/oeca/webeis.nsf/EIS01/2078A9EB9131E97D85257BEB001B9E28"
       ]
      },
      {
       "output_type": "stream",
       "stream": "stdout",
       "text": [
        "\n",
        "Getting # 4816: http://yosemite.epa.gov/oeca/webeis.nsf/EIS01/924AE01F48CD35D185257BEB001B9E19"
       ]
      },
      {
       "output_type": "stream",
       "stream": "stdout",
       "text": [
        "\n",
        "Getting # 4816: http://yosemite.epa.gov/oeca/webeis.nsf/EIS01/B166C14D116D2C7285257BEB001B9E1D"
       ]
      },
      {
       "output_type": "stream",
       "stream": "stdout",
       "text": [
        "\n",
        "Getting # 4816: http://yosemite.epa.gov/oeca/webeis.nsf/EIS01/E9DCD2ECE2441B3885257BEB001B9E1F"
       ]
      },
      {
       "output_type": "stream",
       "stream": "stdout",
       "text": [
        "\n",
        "Getting # 4816: http://yosemite.epa.gov/oeca/webeis.nsf/EIS01/FA10615AB63AD1AD85257BEB001B9E24"
       ]
      },
      {
       "output_type": "stream",
       "stream": "stdout",
       "text": [
        "\n",
        "Getting # 4816: http://yosemite.epa.gov/oeca/webeis.nsf/EIS01/200E1DCB3934972385257BEB001B9E11"
       ]
      },
      {
       "output_type": "stream",
       "stream": "stdout",
       "text": [
        "\n",
        "Getting # 4816: http://yosemite.epa.gov/oeca/webeis.nsf/EIS01/2887B0A7AAC6C02985257BEB001B9E06"
       ]
      },
      {
       "output_type": "stream",
       "stream": "stdout",
       "text": [
        "\n",
        "Getting # 4816: http://yosemite.epa.gov/oeca/webeis.nsf/EIS01/CECA4D968F184CF185257BEB001B9DF9"
       ]
      },
      {
       "output_type": "stream",
       "stream": "stdout",
       "text": [
        "\n",
        "Getting # 4816: http://yosemite.epa.gov/oeca/webeis.nsf/EIS01/E1D5A03F3A9023A385257BEB001B9DEA"
       ]
      },
      {
       "output_type": "stream",
       "stream": "stdout",
       "text": [
        "\n",
        "Getting # 4816: http://yosemite.epa.gov/oeca/webeis.nsf/EIS01/005AC8B36D41058885257BEB001B9DD5"
       ]
      },
      {
       "output_type": "stream",
       "stream": "stdout",
       "text": [
        "\n",
        "Getting # 4816: http://yosemite.epa.gov/oeca/webeis.nsf/EIS01/8878E565528404E785257BEB001B9DE0"
       ]
      },
      {
       "output_type": "stream",
       "stream": "stdout",
       "text": [
        "\n",
        "Getting # 4816: http://yosemite.epa.gov/oeca/webeis.nsf/EIS01/89C31184C71FDA8E85257BEB001B9DDA"
       ]
      },
      {
       "output_type": "stream",
       "stream": "stdout",
       "text": [
        "\n",
        "Getting # 4816: http://yosemite.epa.gov/oeca/webeis.nsf/EIS01/A7EDB5F468B5068885257BEB001B9DED"
       ]
      },
      {
       "output_type": "stream",
       "stream": "stdout",
       "text": [
        "\n",
        "Getting # 4816: http://yosemite.epa.gov/oeca/webeis.nsf/EIS01/BAF4876452502BFA85257BEB001B9DEB"
       ]
      },
      {
       "output_type": "stream",
       "stream": "stdout",
       "text": [
        "\n",
        "Getting # 4816: http://yosemite.epa.gov/oeca/webeis.nsf/EIS01/BB1D4A7FB461A01985257BEB001B9DE2"
       ]
      },
      {
       "output_type": "stream",
       "stream": "stdout",
       "text": [
        "\n",
        "Getting # 4816: http://yosemite.epa.gov/oeca/webeis.nsf/EIS01/E164E7B1A0DAAC8985257BEB001B9DD9"
       ]
      },
      {
       "output_type": "stream",
       "stream": "stdout",
       "text": [
        "\n",
        "Getting # 4816: http://yosemite.epa.gov/oeca/webeis.nsf/EIS01/0C21460C319C6E2685257BEB001B9DA7"
       ]
      },
      {
       "output_type": "stream",
       "stream": "stdout",
       "text": [
        "\n",
        "Getting # 4816: http://yosemite.epa.gov/oeca/webeis.nsf/EIS01/16A0D2AB0CFA145885257BEB001B9DA5"
       ]
      },
      {
       "output_type": "stream",
       "stream": "stdout",
       "text": [
        "\n",
        "Getting # 4816: http://yosemite.epa.gov/oeca/webeis.nsf/EIS01/177244EB4363070785257BEB001B9DC0"
       ]
      },
      {
       "output_type": "stream",
       "stream": "stdout",
       "text": [
        "\n",
        "Getting # 4816: http://yosemite.epa.gov/oeca/webeis.nsf/EIS01/54E4FFCE048ACE4285257BEB001B9DD4"
       ]
      },
      {
       "output_type": "stream",
       "stream": "stdout",
       "text": [
        "\n",
        "Getting # 4816: http://yosemite.epa.gov/oeca/webeis.nsf/EIS01/7314A743A3078DF085257BEB001B9DBB"
       ]
      },
      {
       "output_type": "stream",
       "stream": "stdout",
       "text": [
        "\n",
        "Getting # 4816: http://yosemite.epa.gov/oeca/webeis.nsf/EIS01/927B2C5FADBD23E885257BEB001B9DC1"
       ]
      },
      {
       "output_type": "stream",
       "stream": "stdout",
       "text": [
        "\n",
        "Getting # 4816: http://yosemite.epa.gov/oeca/webeis.nsf/EIS01/AAB1EBA1FEC4D1D285257BEB001B9DA8"
       ]
      },
      {
       "output_type": "stream",
       "stream": "stdout",
       "text": [
        "\n",
        "Getting # 4816: http://yosemite.epa.gov/oeca/webeis.nsf/EIS01/AC00833E2D1BED2085257BEB001B9DB9"
       ]
      },
      {
       "output_type": "stream",
       "stream": "stdout",
       "text": [
        "\n",
        "Getting # 4816: http://yosemite.epa.gov/oeca/webeis.nsf/EIS01/EA022F6DC68B036685257BEB001B9DAE"
       ]
      },
      {
       "output_type": "stream",
       "stream": "stdout",
       "text": [
        "\n",
        "Getting # 4816: http://yosemite.epa.gov/oeca/webeis.nsf/EIS01/DC30020873D58C3685257BEB001B9D91"
       ]
      },
      {
       "output_type": "stream",
       "stream": "stdout",
       "text": [
        "\n",
        "Getting # 4816: http://yosemite.epa.gov/oeca/webeis.nsf/EIS01/2ED76F0BDCD553B785257BEB001B9D87"
       ]
      },
      {
       "output_type": "stream",
       "stream": "stdout",
       "text": [
        "\n",
        "Getting # 4816: http://yosemite.epa.gov/oeca/webeis.nsf/EIS01/5416D501EE0B8BD985257BEB001B9D9F"
       ]
      },
      {
       "output_type": "stream",
       "stream": "stdout",
       "text": [
        "\n",
        "Getting # 4816: http://yosemite.epa.gov/oeca/webeis.nsf/EIS01/8C098364F7184B1585257BEB001B9D9A"
       ]
      },
      {
       "output_type": "stream",
       "stream": "stdout",
       "text": [
        "\n",
        "Getting # 4816: http://yosemite.epa.gov/oeca/webeis.nsf/EIS01/BEE21DB3D48DC7D085257BEB001B9D98"
       ]
      },
      {
       "output_type": "stream",
       "stream": "stdout",
       "text": [
        "\n",
        "Getting # 4816: http://yosemite.epa.gov/oeca/webeis.nsf/EIS01/C2B43F9ADA8F8CF985257BEB001B9D8E"
       ]
      },
      {
       "output_type": "stream",
       "stream": "stdout",
       "text": [
        "\n",
        "Getting # 4816: http://yosemite.epa.gov/oeca/webeis.nsf/EIS01/D9B3D88967ADFB8885257BEB001B9D7E"
       ]
      },
      {
       "output_type": "stream",
       "stream": "stdout",
       "text": [
        "\n",
        "Getting # 4816: http://yosemite.epa.gov/oeca/webeis.nsf/EIS01/5A1BB476740B9DF485257BEB001B9D71"
       ]
      },
      {
       "output_type": "stream",
       "stream": "stdout",
       "text": [
        "\n",
        "Getting # 4816: http://yosemite.epa.gov/oeca/webeis.nsf/EIS01/9F80A0FA581DC5C785257BEB001B9D7B"
       ]
      },
      {
       "output_type": "stream",
       "stream": "stdout",
       "text": [
        "\n",
        "Getting # 4816: http://yosemite.epa.gov/oeca/webeis.nsf/EIS01/28456FBAA24965B785257BEB001B9D5D"
       ]
      },
      {
       "output_type": "stream",
       "stream": "stdout",
       "text": [
        "\n",
        "Getting # 4816: http://yosemite.epa.gov/oeca/webeis.nsf/EIS01/566AC6045C1574B185257BEB001B9D60"
       ]
      },
      {
       "output_type": "stream",
       "stream": "stdout",
       "text": [
        "\n",
        "Getting # 4816: http://yosemite.epa.gov/oeca/webeis.nsf/EIS01/C0DF6D5E3EDF625985257BEB001B9D65"
       ]
      },
      {
       "output_type": "stream",
       "stream": "stdout",
       "text": [
        "\n",
        "Getting # 4816: http://yosemite.epa.gov/oeca/webeis.nsf/EIS01/06A40727F0E8AA9485257BEB001B9D5C"
       ]
      },
      {
       "output_type": "stream",
       "stream": "stdout",
       "text": [
        "\n",
        "Getting # 4816: http://yosemite.epa.gov/oeca/webeis.nsf/EIS01/49A26A4D87BC0A3E85257BEB001B9D3B"
       ]
      },
      {
       "output_type": "stream",
       "stream": "stdout",
       "text": [
        "\n",
        "Getting # 4816: http://yosemite.epa.gov/oeca/webeis.nsf/EIS01/81DB292776725D2785257BEB001B9D51"
       ]
      },
      {
       "output_type": "stream",
       "stream": "stdout",
       "text": [
        "\n",
        "Getting # 4816: http://yosemite.epa.gov/oeca/webeis.nsf/EIS01/D4D792B3D421946085257BEB001B9D44"
       ]
      },
      {
       "output_type": "stream",
       "stream": "stdout",
       "text": [
        "\n",
        "Getting # 4816: http://yosemite.epa.gov/oeca/webeis.nsf/EIS01/FE0A93ED7D8C05DD85257BEB001B9D31"
       ]
      },
      {
       "output_type": "stream",
       "stream": "stdout",
       "text": [
        "\n",
        "Getting # 4816: http://yosemite.epa.gov/oeca/webeis.nsf/EIS01/49B753F6E4D03A7885257BEB001B9D2A"
       ]
      },
      {
       "output_type": "stream",
       "stream": "stdout",
       "text": [
        "\n",
        "Getting # 4816: http://yosemite.epa.gov/oeca/webeis.nsf/EIS01/4FAEC7AD9B54508B85257BEB001B9D25"
       ]
      },
      {
       "output_type": "stream",
       "stream": "stdout",
       "text": [
        "\n",
        "Getting # 4816: http://yosemite.epa.gov/oeca/webeis.nsf/EIS01/B6E75BE7BED6E0A085257BEB001B9D0A"
       ]
      },
      {
       "output_type": "stream",
       "stream": "stdout",
       "text": [
        "\n",
        "Getting # 4816: http://yosemite.epa.gov/oeca/webeis.nsf/EIS01/310A4C803AE57E8185257BEB001B9D22"
       ]
      },
      {
       "output_type": "stream",
       "stream": "stdout",
       "text": [
        "\n",
        "Getting # 4816: http://yosemite.epa.gov/oeca/webeis.nsf/EIS01/C30FD33E5384CF3A85257BEB001B9CFC"
       ]
      },
      {
       "output_type": "stream",
       "stream": "stdout",
       "text": [
        "\n",
        "Getting # 4816: http://yosemite.epa.gov/oeca/webeis.nsf/EIS01/FE6DF53EB1CBED4085257BEB001B9D0F"
       ]
      },
      {
       "output_type": "stream",
       "stream": "stdout",
       "text": [
        "\n",
        "Getting # 4816: http://yosemite.epa.gov/oeca/webeis.nsf/EIS01/FBD9CA2038C35BC685257B000020FDBE"
       ]
      },
      {
       "output_type": "stream",
       "stream": "stdout",
       "text": [
        "\n",
        "Getting # 4816: http://yosemite.epa.gov/oeca/webeis.nsf/EIS01/60C9486F989BA2CC85257BEB001B9CDD"
       ]
      },
      {
       "output_type": "stream",
       "stream": "stdout",
       "text": [
        "\n",
        "Getting # 4816: http://yosemite.epa.gov/oeca/webeis.nsf/EIS01/8232891020C3653785257BEB001B9CE8"
       ]
      },
      {
       "output_type": "stream",
       "stream": "stdout",
       "text": [
        "\n",
        "Getting # 4816: http://yosemite.epa.gov/oeca/webeis.nsf/EIS01/B2B46193DD270F9485257BEB001B9CF0"
       ]
      },
      {
       "output_type": "stream",
       "stream": "stdout",
       "text": [
        "\n",
        "Getting # 4816: http://yosemite.epa.gov/oeca/webeis.nsf/EIS01/B173D0E0E79876B585257BEB001B9CEE"
       ]
      },
      {
       "output_type": "stream",
       "stream": "stdout",
       "text": [
        "\n",
        "Getting # 4816: http://yosemite.epa.gov/oeca/webeis.nsf/EIS01/C4F9D1D8E73CEC5385257BEB001B9CF4"
       ]
      },
      {
       "output_type": "stream",
       "stream": "stdout",
       "text": [
        "\n",
        "Getting # 4816: http://yosemite.epa.gov/oeca/webeis.nsf/EIS01/D0DA225D67957A0585257BEB001B9CE9"
       ]
      },
      {
       "output_type": "stream",
       "stream": "stdout",
       "text": [
        "\n",
        "Getting # 4816: http://yosemite.epa.gov/oeca/webeis.nsf/EIS01/E408E76CE389ECF185257BEB001B9CE5"
       ]
      },
      {
       "output_type": "stream",
       "stream": "stdout",
       "text": [
        "\n",
        "Getting # 4816: http://yosemite.epa.gov/oeca/webeis.nsf/EIS01/D8C8D36B619C2C7485257B000020FDBC"
       ]
      },
      {
       "output_type": "stream",
       "stream": "stdout",
       "text": [
        "\n",
        "Getting # 4816: http://yosemite.epa.gov/oeca/webeis.nsf/EIS01/2122E1C9C6B4C54185257BEB001B9CCF"
       ]
      },
      {
       "output_type": "stream",
       "stream": "stdout",
       "text": [
        "\n",
        "Getting # 4816: http://yosemite.epa.gov/oeca/webeis.nsf/EIS01/582CD46F77FFFBD885257BEB001B9CCD"
       ]
      },
      {
       "output_type": "stream",
       "stream": "stdout",
       "text": [
        "\n",
        "Getting # 4816: http://yosemite.epa.gov/oeca/webeis.nsf/EIS01/6A4A9EC97A161DF785257BEB001B9CC9"
       ]
      },
      {
       "output_type": "stream",
       "stream": "stdout",
       "text": [
        "\n",
        "Getting # 4816: http://yosemite.epa.gov/oeca/webeis.nsf/EIS01/B189ACE90ECAF27C85257BEB001B9CBF"
       ]
      },
      {
       "output_type": "stream",
       "stream": "stdout",
       "text": [
        "\n",
        "Getting # 4816: http://yosemite.epa.gov/oeca/webeis.nsf/EIS01/8375807A2314C0AA85257BEB001B9CC1"
       ]
      },
      {
       "output_type": "stream",
       "stream": "stdout",
       "text": [
        "\n",
        "Getting # 4816: http://yosemite.epa.gov/oeca/webeis.nsf/EIS01/55B0B22F7388923E85257BEB001B9C8C"
       ]
      },
      {
       "output_type": "stream",
       "stream": "stdout",
       "text": [
        "\n",
        "Getting # 4816: http://yosemite.epa.gov/oeca/webeis.nsf/EIS01/78633DCDDE4D2E1C85257BEB001B9C97"
       ]
      },
      {
       "output_type": "stream",
       "stream": "stdout",
       "text": [
        "\n",
        "Getting # 4816: http://yosemite.epa.gov/oeca/webeis.nsf/EIS01/12E18E3BBCFD9F5785257BEB001B9C98"
       ]
      },
      {
       "output_type": "stream",
       "stream": "stdout",
       "text": [
        "\n",
        "Getting # 4816: http://yosemite.epa.gov/oeca/webeis.nsf/EIS01/180838FC0BC6D44E85257BEB001B9C8A"
       ]
      },
      {
       "output_type": "stream",
       "stream": "stdout",
       "text": [
        "\n",
        "Getting # 4816: http://yosemite.epa.gov/oeca/webeis.nsf/EIS01/29BF34D31C771AC085257BEB001B9C73"
       ]
      },
      {
       "output_type": "stream",
       "stream": "stdout",
       "text": [
        "\n",
        "Getting # 4816: http://yosemite.epa.gov/oeca/webeis.nsf/EIS01/6D37084F07FF3DF785257BEB001B9C76"
       ]
      },
      {
       "output_type": "stream",
       "stream": "stdout",
       "text": [
        "\n",
        "Getting # 4816: http://yosemite.epa.gov/oeca/webeis.nsf/EIS01/FB4121602369772485257BEB001B9C77"
       ]
      },
      {
       "output_type": "stream",
       "stream": "stdout",
       "text": [
        "\n",
        "Getting # 4816: http://yosemite.epa.gov/oeca/webeis.nsf/EIS01/19EB2C66990EEECF85257BEB001B9C6E"
       ]
      },
      {
       "output_type": "stream",
       "stream": "stdout",
       "text": [
        "\n",
        "Getting # 4816: http://yosemite.epa.gov/oeca/webeis.nsf/EIS01/554E2F88D1D1F37785257BEB001B9C68"
       ]
      },
      {
       "output_type": "stream",
       "stream": "stdout",
       "text": [
        "\n",
        "Getting # 4816: http://yosemite.epa.gov/oeca/webeis.nsf/EIS01/E4488F7E28279EAD85257BEB001B9C66"
       ]
      },
      {
       "output_type": "stream",
       "stream": "stdout",
       "text": [
        "\n",
        "Getting # 4816: http://yosemite.epa.gov/oeca/webeis.nsf/EIS01/598F037C0C50A31185257BEB001B9C6B"
       ]
      },
      {
       "output_type": "stream",
       "stream": "stdout",
       "text": [
        "\n",
        "Getting # 4816: http://yosemite.epa.gov/oeca/webeis.nsf/EIS01/8A3B24BE9B33598485257BEB001B9C37"
       ]
      },
      {
       "output_type": "stream",
       "stream": "stdout",
       "text": [
        "\n",
        "Getting # 4816: http://yosemite.epa.gov/oeca/webeis.nsf/EIS01/22B3B3D777C40E5585257BEB001B9C41"
       ]
      },
      {
       "output_type": "stream",
       "stream": "stdout",
       "text": [
        "\n",
        "Getting # 4816: http://yosemite.epa.gov/oeca/webeis.nsf/EIS01/3C67765A35D53E6A85257BEB001B9C36"
       ]
      },
      {
       "output_type": "stream",
       "stream": "stdout",
       "text": [
        "\n",
        "Getting # 4816: http://yosemite.epa.gov/oeca/webeis.nsf/EIS01/12454479D1B5935085257BEB001B9C13"
       ]
      },
      {
       "output_type": "stream",
       "stream": "stdout",
       "text": [
        "\n",
        "Getting # 4816: http://yosemite.epa.gov/oeca/webeis.nsf/EIS01/4FD5960C5515140085257BEB001B9C28"
       ]
      },
      {
       "output_type": "stream",
       "stream": "stdout",
       "text": [
        "\n",
        "Getting # 4816: http://yosemite.epa.gov/oeca/webeis.nsf/EIS01/61461C5FBC0A6E9685257BEB001B9C1E"
       ]
      },
      {
       "output_type": "stream",
       "stream": "stdout",
       "text": [
        "\n",
        "Getting # 4816: http://yosemite.epa.gov/oeca/webeis.nsf/EIS01/FD3AA5845F334FFC85257BEB001B9C17"
       ]
      },
      {
       "output_type": "stream",
       "stream": "stdout",
       "text": [
        "\n",
        "Getting # 4816: http://yosemite.epa.gov/oeca/webeis.nsf/EIS01/A687B64BCAEBB85385257BEB001B9BFE"
       ]
      },
      {
       "output_type": "stream",
       "stream": "stdout",
       "text": [
        "\n",
        "Getting # 4816: http://yosemite.epa.gov/oeca/webeis.nsf/EIS01/02B9CF74D3CDF5EF85257BEB001B9C02"
       ]
      },
      {
       "output_type": "stream",
       "stream": "stdout",
       "text": [
        "\n",
        "Getting # 4816: http://yosemite.epa.gov/oeca/webeis.nsf/EIS01/C69254AD0DD6091785257BEB001B9BF4"
       ]
      },
      {
       "output_type": "stream",
       "stream": "stdout",
       "text": [
        "\n",
        "Getting # 4816: http://yosemite.epa.gov/oeca/webeis.nsf/EIS01/9EDF8667444A638B85257BEB001B9BEF"
       ]
      },
      {
       "output_type": "stream",
       "stream": "stdout",
       "text": [
        "\n",
        "Getting # 4816: http://yosemite.epa.gov/oeca/webeis.nsf/EIS01/9F73288BCFFAE30785257BEB001B9BE0"
       ]
      },
      {
       "output_type": "stream",
       "stream": "stdout",
       "text": [
        "\n",
        "Getting # 4816: http://yosemite.epa.gov/oeca/webeis.nsf/EIS01/B3C54513F0B0314885257BEB001B9BD2"
       ]
      },
      {
       "output_type": "stream",
       "stream": "stdout",
       "text": [
        "\n",
        "Getting # 4816: http://yosemite.epa.gov/oeca/webeis.nsf/EIS01/2205311FCC5ABD7185257BEB001B9BE1"
       ]
      },
      {
       "output_type": "stream",
       "stream": "stdout",
       "text": [
        "\n",
        "Getting # 4816: http://yosemite.epa.gov/oeca/webeis.nsf/EIS01/807D9DB82E6F772B85257BEB001B9AE7"
       ]
      },
      {
       "output_type": "stream",
       "stream": "stdout",
       "text": [
        "\n",
        "Getting # 4816: http://yosemite.epa.gov/oeca/webeis.nsf/EIS01/E96510B8D7E612D085257BEB001B9BD8"
       ]
      },
      {
       "output_type": "stream",
       "stream": "stdout",
       "text": [
        "\n",
        "Getting # 4816: http://yosemite.epa.gov/oeca/webeis.nsf/EIS01/F11499D68B1FB08685257BEB001B9BCF"
       ]
      },
      {
       "output_type": "stream",
       "stream": "stdout",
       "text": [
        "\n",
        "Getting # 4816: http://yosemite.epa.gov/oeca/webeis.nsf/EIS01/E7B8D9666E2A322185257B000020FDA6"
       ]
      },
      {
       "output_type": "stream",
       "stream": "stdout",
       "text": [
        "\n",
        "Getting # 4816: http://yosemite.epa.gov/oeca/webeis.nsf/EIS01/1BAC831011054C3485257BEB001B9BAE"
       ]
      },
      {
       "output_type": "stream",
       "stream": "stdout",
       "text": [
        "\n",
        "Getting # 4816: http://yosemite.epa.gov/oeca/webeis.nsf/EIS01/43E0BBA1BFF7107A85257BEB001B9BC8"
       ]
      },
      {
       "output_type": "stream",
       "stream": "stdout",
       "text": [
        "\n",
        "Getting # 4816: http://yosemite.epa.gov/oeca/webeis.nsf/EIS01/A66FF370025624FF85257BEB001B9BBA"
       ]
      },
      {
       "output_type": "stream",
       "stream": "stdout",
       "text": [
        "\n",
        "Getting # 4816: http://yosemite.epa.gov/oeca/webeis.nsf/EIS01/B0A1362CBB09651985257BEB001B9BB4"
       ]
      },
      {
       "output_type": "stream",
       "stream": "stdout",
       "text": [
        "\n",
        "Getting # 4816: http://yosemite.epa.gov/oeca/webeis.nsf/EIS01/A803D87C49F4F2CE85257BEB001B9BA1"
       ]
      },
      {
       "output_type": "stream",
       "stream": "stdout",
       "text": [
        "\n",
        "Getting # 4816: http://yosemite.epa.gov/oeca/webeis.nsf/EIS01/CC8376538387716385257BEB001B9BA4"
       ]
      },
      {
       "output_type": "stream",
       "stream": "stdout",
       "text": [
        "\n",
        "Getting # 4816: http://yosemite.epa.gov/oeca/webeis.nsf/EIS01/3CE87436E968980785257BEB001B9B82"
       ]
      },
      {
       "output_type": "stream",
       "stream": "stdout",
       "text": [
        "\n",
        "Getting # 4816: http://yosemite.epa.gov/oeca/webeis.nsf/EIS01/F0584B71DF35EDD285257BEB001B9BA3"
       ]
      },
      {
       "output_type": "stream",
       "stream": "stdout",
       "text": [
        "\n",
        "Getting # 4816: http://yosemite.epa.gov/oeca/webeis.nsf/EIS01/B8C1931DBF93342885257BEB001B9B77"
       ]
      },
      {
       "output_type": "stream",
       "stream": "stdout",
       "text": [
        "\n",
        "Getting # 4816: http://yosemite.epa.gov/oeca/webeis.nsf/EIS01/D46DFE53C1353D7F85257BEB001B9B7F"
       ]
      },
      {
       "output_type": "stream",
       "stream": "stdout",
       "text": [
        "\n",
        "Getting # 4816: http://yosemite.epa.gov/oeca/webeis.nsf/EIS01/FD6E956EB083D87385257BEB001B9B7A"
       ]
      },
      {
       "output_type": "stream",
       "stream": "stdout",
       "text": [
        "\n",
        "Getting # 4816: http://yosemite.epa.gov/oeca/webeis.nsf/EIS01/0A4B527CED6943A785257BEB001B9B6E"
       ]
      },
      {
       "output_type": "stream",
       "stream": "stdout",
       "text": [
        "\n",
        "Getting # 4816: http://yosemite.epa.gov/oeca/webeis.nsf/EIS01/C20510030361C7F085257BEB001B9B76"
       ]
      },
      {
       "output_type": "stream",
       "stream": "stdout",
       "text": [
        "\n",
        "Getting # 4816: http://yosemite.epa.gov/oeca/webeis.nsf/EIS01/B19715AC12E4EFBB85257BEB001B9B63"
       ]
      },
      {
       "output_type": "stream",
       "stream": "stdout",
       "text": [
        "\n",
        "Getting # 4816: http://yosemite.epa.gov/oeca/webeis.nsf/EIS01/A0159A93F28461A085257BEB001B9B5D"
       ]
      },
      {
       "output_type": "stream",
       "stream": "stdout",
       "text": [
        "\n",
        "Getting # 4816: http://yosemite.epa.gov/oeca/webeis.nsf/EIS01/3D988B08299381C685257BEB001B9B56"
       ]
      },
      {
       "output_type": "stream",
       "stream": "stdout",
       "text": [
        "\n",
        "Getting # 4816: http://yosemite.epa.gov/oeca/webeis.nsf/EIS01/9BC8D4535F1A4C3C85257BEB001B9B4F"
       ]
      },
      {
       "output_type": "stream",
       "stream": "stdout",
       "text": [
        "\n",
        "Getting # 4816: http://yosemite.epa.gov/oeca/webeis.nsf/EIS01/E75073272D9DB78485257BEB001B9B44"
       ]
      },
      {
       "output_type": "stream",
       "stream": "stdout",
       "text": [
        "\n",
        "Getting # 4816: http://yosemite.epa.gov/oeca/webeis.nsf/EIS01/7F8B66AE0E4EB7FA85257BEB001B9B21"
       ]
      },
      {
       "output_type": "stream",
       "stream": "stdout",
       "text": [
        "\n",
        "Getting # 4816: http://yosemite.epa.gov/oeca/webeis.nsf/EIS01/A18BE74FA78C83F885257BEB001B9B2C"
       ]
      },
      {
       "output_type": "stream",
       "stream": "stdout",
       "text": [
        "\n",
        "Getting # 4816: http://yosemite.epa.gov/oeca/webeis.nsf/EIS01/CDA2342D08CF1F7D85257BEB001B9B31"
       ]
      },
      {
       "output_type": "stream",
       "stream": "stdout",
       "text": [
        "\n",
        "Getting # 4816: http://yosemite.epa.gov/oeca/webeis.nsf/EIS01/BE6094460040A81185257BEB001B9B3A"
       ]
      },
      {
       "output_type": "stream",
       "stream": "stdout",
       "text": [
        "\n",
        "Getting # 4816: http://yosemite.epa.gov/oeca/webeis.nsf/EIS01/6841483B18A3EB7B85257BEB001B9B2B"
       ]
      },
      {
       "output_type": "stream",
       "stream": "stdout",
       "text": [
        "\n",
        "Getting # 4816: http://yosemite.epa.gov/oeca/webeis.nsf/EIS01/82DDCAFFA15DFABA85257BEB001B9B20"
       ]
      },
      {
       "output_type": "stream",
       "stream": "stdout",
       "text": [
        "\n",
        "Getting # 4816: http://yosemite.epa.gov/oeca/webeis.nsf/EIS01/D8B684EE6BE0034F85257BEB001B9B3D"
       ]
      },
      {
       "output_type": "stream",
       "stream": "stdout",
       "text": [
        "\n",
        "Getting # 4816: http://yosemite.epa.gov/oeca/webeis.nsf/EIS01/E34474D561E1EE4E85257BEB001B9B2E"
       ]
      },
      {
       "output_type": "stream",
       "stream": "stdout",
       "text": [
        "\n",
        "Getting # 4816: http://yosemite.epa.gov/oeca/webeis.nsf/EIS01/F3A31543D2363FE885257BEB001B9B37"
       ]
      },
      {
       "output_type": "stream",
       "stream": "stdout",
       "text": [
        "\n",
        "Getting # 4816: http://yosemite.epa.gov/oeca/webeis.nsf/EIS01/009C5CA7698716BD85257BEB001B9B12"
       ]
      },
      {
       "output_type": "stream",
       "stream": "stdout",
       "text": [
        "\n",
        "Getting # 4816: http://yosemite.epa.gov/oeca/webeis.nsf/EIS01/2C6F562B341F256E85257BEB001B9B0D"
       ]
      },
      {
       "output_type": "stream",
       "stream": "stdout",
       "text": [
        "\n",
        "Getting # 4816: http://yosemite.epa.gov/oeca/webeis.nsf/EIS01/0C2D5A9F1F9CECAF85257BEB001B9AEC"
       ]
      },
      {
       "output_type": "stream",
       "stream": "stdout",
       "text": [
        "\n",
        "Getting # 4816: http://yosemite.epa.gov/oeca/webeis.nsf/EIS01/17AE7E3D4945106185257BEB001B9AF2"
       ]
      },
      {
       "output_type": "stream",
       "stream": "stdout",
       "text": [
        "\n",
        "Getting # 4816: http://yosemite.epa.gov/oeca/webeis.nsf/EIS01/17DF057B06432C9785257BEB001B9B07"
       ]
      },
      {
       "output_type": "stream",
       "stream": "stdout",
       "text": [
        "\n",
        "Getting # 4816: http://yosemite.epa.gov/oeca/webeis.nsf/EIS01/3D6682BBF486084A85257BEB001B9AFA"
       ]
      },
      {
       "output_type": "stream",
       "stream": "stdout",
       "text": [
        "\n",
        "Getting # 4816: http://yosemite.epa.gov/oeca/webeis.nsf/EIS01/62FC781397CDE35485257BEB001B9AE3"
       ]
      },
      {
       "output_type": "stream",
       "stream": "stdout",
       "text": [
        "\n",
        "Getting # 4816: http://yosemite.epa.gov/oeca/webeis.nsf/EIS01/97E635BBEFE0ECFF85257BEB001B9AF5"
       ]
      },
      {
       "output_type": "stream",
       "stream": "stdout",
       "text": [
        "\n",
        "Getting # 4816: http://yosemite.epa.gov/oeca/webeis.nsf/EIS01/F05D24EE5DE7EA0F85257BEB001B9AFF"
       ]
      },
      {
       "output_type": "stream",
       "stream": "stdout",
       "text": [
        "\n",
        "Getting # 4816: http://yosemite.epa.gov/oeca/webeis.nsf/EIS01/00B0F6797BBDB3D585257BEB001B9AB1"
       ]
      },
      {
       "output_type": "stream",
       "stream": "stdout",
       "text": [
        "\n",
        "Getting # 4816: http://yosemite.epa.gov/oeca/webeis.nsf/EIS01/0F9A29026830772685257BEB001B9AC7"
       ]
      },
      {
       "output_type": "stream",
       "stream": "stdout",
       "text": [
        "\n",
        "Getting # 4816: http://yosemite.epa.gov/oeca/webeis.nsf/EIS01/10F137F73A63718E85257BEB001B9AB2"
       ]
      },
      {
       "output_type": "stream",
       "stream": "stdout",
       "text": [
        "\n",
        "Getting # 4816: http://yosemite.epa.gov/oeca/webeis.nsf/EIS01/88BCD19A8802894B85257BEB001B9ACA"
       ]
      },
      {
       "output_type": "stream",
       "stream": "stdout",
       "text": [
        "\n",
        "Getting # 4816: http://yosemite.epa.gov/oeca/webeis.nsf/EIS01/BF804ED4B0A1E1BF85257B000020FDA1"
       ]
      },
      {
       "output_type": "stream",
       "stream": "stdout",
       "text": [
        "\n",
        "Getting # 4816: http://yosemite.epa.gov/oeca/webeis.nsf/EIS01/E58DB3A3B983DD8185257BEB001B9A96"
       ]
      },
      {
       "output_type": "stream",
       "stream": "stdout",
       "text": [
        "\n",
        "Getting # 4816: http://yosemite.epa.gov/oeca/webeis.nsf/EIS01/F1FE7F81F79B622F85257BEB001B9A8B"
       ]
      },
      {
       "output_type": "stream",
       "stream": "stdout",
       "text": [
        "\n",
        "Getting # 4816: http://yosemite.epa.gov/oeca/webeis.nsf/EIS01/4C4259D186E57C8E85257BEB001B9A9C"
       ]
      },
      {
       "output_type": "stream",
       "stream": "stdout",
       "text": [
        "\n",
        "Getting # 4816: http://yosemite.epa.gov/oeca/webeis.nsf/EIS01/3DE7C494A335021485257BEB001B9A9E"
       ]
      },
      {
       "output_type": "stream",
       "stream": "stdout",
       "text": [
        "\n",
        "Getting # 4816: http://yosemite.epa.gov/oeca/webeis.nsf/EIS01/D65CE0D5888B222185257BEB001B9AAF"
       ]
      },
      {
       "output_type": "stream",
       "stream": "stdout",
       "text": [
        "\n",
        "Getting # 4816: http://yosemite.epa.gov/oeca/webeis.nsf/EIS01/0B9DC0B257F64E7585257BEB001B9A7D"
       ]
      },
      {
       "output_type": "stream",
       "stream": "stdout",
       "text": [
        "\n",
        "Getting # 4816: http://yosemite.epa.gov/oeca/webeis.nsf/EIS01/3988F817BAD387C385257BEB001B9A85"
       ]
      },
      {
       "output_type": "stream",
       "stream": "stdout",
       "text": [
        "\n",
        "Getting # 4816: http://yosemite.epa.gov/oeca/webeis.nsf/EIS01/C25E36D1FCC6BA7385257BEB001B9A88"
       ]
      },
      {
       "output_type": "stream",
       "stream": "stdout",
       "text": [
        "\n",
        "Getting # 4816: http://yosemite.epa.gov/oeca/webeis.nsf/EIS01/F494043699630D9E85257BEB001B9A78"
       ]
      },
      {
       "output_type": "stream",
       "stream": "stdout",
       "text": [
        "\n",
        "Getting # 4816: http://yosemite.epa.gov/oeca/webeis.nsf/EIS01/6D00F1F784F08F4085257BEB001B9A5E"
       ]
      },
      {
       "output_type": "stream",
       "stream": "stdout",
       "text": [
        "\n",
        "Getting # 4816: http://yosemite.epa.gov/oeca/webeis.nsf/EIS01/AB17D404045D866C85257BEB001B9A51"
       ]
      },
      {
       "output_type": "stream",
       "stream": "stdout",
       "text": [
        "\n",
        "Getting # 4816: http://yosemite.epa.gov/oeca/webeis.nsf/EIS01/A3163DFE3D4F007585257BEB001B9A59"
       ]
      },
      {
       "output_type": "stream",
       "stream": "stdout",
       "text": [
        "\n",
        "Getting # 4816: http://yosemite.epa.gov/oeca/webeis.nsf/EIS01/896687903461618C85257BEB001B9A29"
       ]
      },
      {
       "output_type": "stream",
       "stream": "stdout",
       "text": [
        "\n",
        "Getting # 4816: http://yosemite.epa.gov/oeca/webeis.nsf/EIS01/8D68A6DC93B72D5B85257BEB001B9A46"
       ]
      },
      {
       "output_type": "stream",
       "stream": "stdout",
       "text": [
        "\n",
        "Getting # 4816: http://yosemite.epa.gov/oeca/webeis.nsf/EIS01/9843583F22A2B67585257BEB001B9A37"
       ]
      },
      {
       "output_type": "stream",
       "stream": "stdout",
       "text": [
        "\n",
        "Getting # 4816: http://yosemite.epa.gov/oeca/webeis.nsf/EIS01/DF5DB5F0BAEBE1C185257BEB001B9A3D"
       ]
      },
      {
       "output_type": "stream",
       "stream": "stdout",
       "text": [
        "\n",
        "Getting # 4816: http://yosemite.epa.gov/oeca/webeis.nsf/EIS01/E5E0DC6372716C4A85257BEB001B9A4A"
       ]
      },
      {
       "output_type": "stream",
       "stream": "stdout",
       "text": [
        "\n",
        "Getting # 4816: http://yosemite.epa.gov/oeca/webeis.nsf/EIS01/EFBDC5EE24375ACE85257BEB001B9A4E"
       ]
      },
      {
       "output_type": "stream",
       "stream": "stdout",
       "text": [
        "\n",
        "Getting # 4816: http://yosemite.epa.gov/oeca/webeis.nsf/EIS01/4722367D63C93ACF85257BEB001B9A11"
       ]
      },
      {
       "output_type": "stream",
       "stream": "stdout",
       "text": [
        "\n",
        "Getting # 4816: http://yosemite.epa.gov/oeca/webeis.nsf/EIS01/4FE382BB87C1825085257BEB001B9A19"
       ]
      },
      {
       "output_type": "stream",
       "stream": "stdout",
       "text": [
        "\n",
        "Getting # 4816: http://yosemite.epa.gov/oeca/webeis.nsf/EIS01/C757432BC68245FC85257BEB001B9A1F"
       ]
      },
      {
       "output_type": "stream",
       "stream": "stdout",
       "text": [
        "\n",
        "Getting # 4816: http://yosemite.epa.gov/oeca/webeis.nsf/EIS01/D77AF8BD74F4E65B85257BEB001B9A10"
       ]
      },
      {
       "output_type": "stream",
       "stream": "stdout",
       "text": [
        "\n",
        "Getting # 4816: http://yosemite.epa.gov/oeca/webeis.nsf/EIS01/FC23E54B661A65B585257BEB001B9A14"
       ]
      },
      {
       "output_type": "stream",
       "stream": "stdout",
       "text": [
        "\n",
        "Getting # 4816: http://yosemite.epa.gov/oeca/webeis.nsf/EIS01/D5ADBA27488C5FFA85257BEB001B99F4"
       ]
      },
      {
       "output_type": "stream",
       "stream": "stdout",
       "text": [
        "\n",
        "Getting # 4816: http://yosemite.epa.gov/oeca/webeis.nsf/EIS01/9EF444145D74DDAB85257BEB001B99F5"
       ]
      },
      {
       "output_type": "stream",
       "stream": "stdout",
       "text": [
        "\n",
        "Getting # 4816: http://yosemite.epa.gov/oeca/webeis.nsf/EIS01/B69421B2D61A68F985257BEB001B9A02"
       ]
      },
      {
       "output_type": "stream",
       "stream": "stdout",
       "text": [
        "\n",
        "Getting # 4816: http://yosemite.epa.gov/oeca/webeis.nsf/EIS01/C1D2262765C0946485257BEB001B99F8"
       ]
      },
      {
       "output_type": "stream",
       "stream": "stdout",
       "text": [
        "\n",
        "Getting # 4816: http://yosemite.epa.gov/oeca/webeis.nsf/EIS01/32ADA758B5BCCC4C85257BEB001B99FA"
       ]
      },
      {
       "output_type": "stream",
       "stream": "stdout",
       "text": [
        "\n",
        "Getting # 4816: http://yosemite.epa.gov/oeca/webeis.nsf/EIS01/A386A2A6E01CA26B85257BEB001B99EC"
       ]
      },
      {
       "output_type": "stream",
       "stream": "stdout",
       "text": [
        "\n",
        "Getting # 4816: http://yosemite.epa.gov/oeca/webeis.nsf/EIS01/0AF23C89558541DF85257BEB001B99E2"
       ]
      },
      {
       "output_type": "stream",
       "stream": "stdout",
       "text": [
        "\n",
        "Getting # 4816: http://yosemite.epa.gov/oeca/webeis.nsf/EIS01/8C53ED173CA0034385257BEB001B99E7"
       ]
      },
      {
       "output_type": "stream",
       "stream": "stdout",
       "text": [
        "\n",
        "Getting # 4816: http://yosemite.epa.gov/oeca/webeis.nsf/EIS01/7976230772E805B485257BEB001B99C6"
       ]
      },
      {
       "output_type": "stream",
       "stream": "stdout",
       "text": [
        "\n",
        "Getting # 4816: http://yosemite.epa.gov/oeca/webeis.nsf/EIS01/0FE3256169562F5685257BEB001B99C9"
       ]
      },
      {
       "output_type": "stream",
       "stream": "stdout",
       "text": [
        "\n",
        "Getting # 4816: http://yosemite.epa.gov/oeca/webeis.nsf/EIS01/102A09A7221DE87B85257BEB001B99D8"
       ]
      },
      {
       "output_type": "stream",
       "stream": "stdout",
       "text": [
        "\n",
        "Getting # 4816: http://yosemite.epa.gov/oeca/webeis.nsf/EIS01/C4A062AC05961E9F85257BEB001B99D9"
       ]
      },
      {
       "output_type": "stream",
       "stream": "stdout",
       "text": [
        "\n",
        "Getting # 4816: http://yosemite.epa.gov/oeca/webeis.nsf/EIS01/E81530E7A091253885257BEB001B99C8"
       ]
      },
      {
       "output_type": "stream",
       "stream": "stdout",
       "text": [
        "\n",
        "Getting # 4816: http://yosemite.epa.gov/oeca/webeis.nsf/EIS01/ED41CFBCA9577CC885257BEB001B99D3"
       ]
      },
      {
       "output_type": "stream",
       "stream": "stdout",
       "text": [
        "\n",
        "Getting # 4816: http://yosemite.epa.gov/oeca/webeis.nsf/EIS01/BFE36B6EA1E2C44485257BEB001B99BA"
       ]
      },
      {
       "output_type": "stream",
       "stream": "stdout",
       "text": [
        "\n",
        "Getting # 4816: http://yosemite.epa.gov/oeca/webeis.nsf/EIS01/597501D044CD735385257BEB001B99AA"
       ]
      },
      {
       "output_type": "stream",
       "stream": "stdout",
       "text": [
        "\n",
        "Getting # 4816: http://yosemite.epa.gov/oeca/webeis.nsf/EIS01/6F5811DC7C76022D85257BEB001B99A6"
       ]
      },
      {
       "output_type": "stream",
       "stream": "stdout",
       "text": [
        "\n",
        "Getting # 4816: http://yosemite.epa.gov/oeca/webeis.nsf/EIS01/72834DB02A34FE8F85257BEB001B99C3"
       ]
      },
      {
       "output_type": "stream",
       "stream": "stdout",
       "text": [
        "\n",
        "Getting # 4816: http://yosemite.epa.gov/oeca/webeis.nsf/EIS01/9F986E3186006ED785257BEB001B99B0"
       ]
      },
      {
       "output_type": "stream",
       "stream": "stdout",
       "text": [
        "\n",
        "Getting # 4816: http://yosemite.epa.gov/oeca/webeis.nsf/EIS01/09D175BDE5C7224F85257BEB001B9990"
       ]
      },
      {
       "output_type": "stream",
       "stream": "stdout",
       "text": [
        "\n",
        "Getting # 4816: http://yosemite.epa.gov/oeca/webeis.nsf/EIS01/2EB81867E7CAE2D285257BEB001B9981"
       ]
      },
      {
       "output_type": "stream",
       "stream": "stdout",
       "text": [
        "\n",
        "Getting # 4816: http://yosemite.epa.gov/oeca/webeis.nsf/EIS01/B8F82B99E3D6C44F85257BEB001B9994"
       ]
      },
      {
       "output_type": "stream",
       "stream": "stdout",
       "text": [
        "\n",
        "Getting # 4816: http://yosemite.epa.gov/oeca/webeis.nsf/EIS01/EAFB360BF9B0D58C85257BEB001B99A2"
       ]
      },
      {
       "output_type": "stream",
       "stream": "stdout",
       "text": [
        "\n",
        "Getting # 4816: http://yosemite.epa.gov/oeca/webeis.nsf/EIS01/FF5902B4CC9A120D85257BEB001B9997"
       ]
      },
      {
       "output_type": "stream",
       "stream": "stdout",
       "text": [
        "\n",
        "Getting # 4816: http://yosemite.epa.gov/oeca/webeis.nsf/EIS01/29BE0CD7BBFD026385257BEB001B997B"
       ]
      },
      {
       "output_type": "stream",
       "stream": "stdout",
       "text": [
        "\n",
        "Getting # 4816: http://yosemite.epa.gov/oeca/webeis.nsf/EIS01/328F46830AD31C1B85257BEB001B997D"
       ]
      },
      {
       "output_type": "stream",
       "stream": "stdout",
       "text": [
        "\n",
        "Getting # 4816: http://yosemite.epa.gov/oeca/webeis.nsf/EIS01/3B32F40D194A0FB685257BEB001B9980"
       ]
      },
      {
       "output_type": "stream",
       "stream": "stdout",
       "text": [
        "\n",
        "Getting # 4816: http://yosemite.epa.gov/oeca/webeis.nsf/EIS01/F6FDAA31E55C827285257BEB001B9978"
       ]
      },
      {
       "output_type": "stream",
       "stream": "stdout",
       "text": [
        "\n",
        "Getting # 4816: http://yosemite.epa.gov/oeca/webeis.nsf/EIS01/1BEE87D5A63373DD85257BEB001B9967"
       ]
      },
      {
       "output_type": "stream",
       "stream": "stdout",
       "text": [
        "\n",
        "Getting # 4816: http://yosemite.epa.gov/oeca/webeis.nsf/EIS01/086A03AE4C62D75D85257BEB001B9961"
       ]
      },
      {
       "output_type": "stream",
       "stream": "stdout",
       "text": [
        "\n",
        "Getting # 4816: http://yosemite.epa.gov/oeca/webeis.nsf/EIS01/10AA9BFECCAF36F685257BEB001B995B"
       ]
      },
      {
       "output_type": "stream",
       "stream": "stdout",
       "text": [
        "\n",
        "Getting # 4816: http://yosemite.epa.gov/oeca/webeis.nsf/EIS01/91D93D7206D7E30585257BEB001B9964"
       ]
      },
      {
       "output_type": "stream",
       "stream": "stdout",
       "text": [
        "\n",
        "Getting # 4816: http://yosemite.epa.gov/oeca/webeis.nsf/EIS01/BD8AC77972A7EBD585257BEB001B996A"
       ]
      },
      {
       "output_type": "stream",
       "stream": "stdout",
       "text": [
        "\n",
        "Getting # 4816: http://yosemite.epa.gov/oeca/webeis.nsf/EIS01/175BF194951EECB585257BEB001B996F"
       ]
      },
      {
       "output_type": "stream",
       "stream": "stdout",
       "text": [
        "\n",
        "Getting # 4816: http://yosemite.epa.gov/oeca/webeis.nsf/EIS01/C840CAFC7760E46685257BEB001B9929"
       ]
      },
      {
       "output_type": "stream",
       "stream": "stdout",
       "text": [
        "\n",
        "Getting # 4816: http://yosemite.epa.gov/oeca/webeis.nsf/EIS01/783F41793B7235A785257BEB001B9925"
       ]
      },
      {
       "output_type": "stream",
       "stream": "stdout",
       "text": [
        "\n",
        "Getting # 4816: http://yosemite.epa.gov/oeca/webeis.nsf/EIS01/8901E34744B6760B85257BEB001B9924"
       ]
      },
      {
       "output_type": "stream",
       "stream": "stdout",
       "text": [
        "\n",
        "Getting # 4816: http://yosemite.epa.gov/oeca/webeis.nsf/EIS01/8EA5A4903438BBA185257BEB001B9938"
       ]
      },
      {
       "output_type": "stream",
       "stream": "stdout",
       "text": [
        "\n",
        "Getting # 4816: http://yosemite.epa.gov/oeca/webeis.nsf/EIS01/03F1CD1B52E22AA085257BEB001B9918"
       ]
      },
      {
       "output_type": "stream",
       "stream": "stdout",
       "text": [
        "\n",
        "Getting # 4816: http://yosemite.epa.gov/oeca/webeis.nsf/EIS01/305FAC5A71502B2385257BEB001B9908"
       ]
      },
      {
       "output_type": "stream",
       "stream": "stdout",
       "text": [
        "\n",
        "Getting # 4816: http://yosemite.epa.gov/oeca/webeis.nsf/EIS01/3B40B3088B5E5C0E85257BEB001B990B"
       ]
      },
      {
       "output_type": "stream",
       "stream": "stdout",
       "text": [
        "\n",
        "Getting # 4816: http://yosemite.epa.gov/oeca/webeis.nsf/EIS01/3C443D9F3D37BF5785257BEB001B9914"
       ]
      },
      {
       "output_type": "stream",
       "stream": "stdout",
       "text": [
        "\n",
        "Getting # 4816: http://yosemite.epa.gov/oeca/webeis.nsf/EIS01/2D2EBAAC6A726C9885257BEB001B98E2"
       ]
      },
      {
       "output_type": "stream",
       "stream": "stdout",
       "text": [
        "\n",
        "Getting # 4816: http://yosemite.epa.gov/oeca/webeis.nsf/EIS01/5D5995F9418D9F3485257BEB001B98FE"
       ]
      },
      {
       "output_type": "stream",
       "stream": "stdout",
       "text": [
        "\n",
        "Getting # 4816: http://yosemite.epa.gov/oeca/webeis.nsf/EIS01/C8097DCABE88A55085257BEB001B9906"
       ]
      },
      {
       "output_type": "stream",
       "stream": "stdout",
       "text": [
        "\n",
        "Getting # 4816: http://yosemite.epa.gov/oeca/webeis.nsf/EIS01/DAC62D24FC1B312885257BEB001B98DF"
       ]
      },
      {
       "output_type": "stream",
       "stream": "stdout",
       "text": [
        "\n",
        "Getting # 4816: http://yosemite.epa.gov/oeca/webeis.nsf/EIS01/C089A13B36263C8B85257BEB001B9901"
       ]
      },
      {
       "output_type": "stream",
       "stream": "stdout",
       "text": [
        "\n",
        "Getting # 4816: http://yosemite.epa.gov/oeca/webeis.nsf/EIS01/7BEADEC3D9782D5985257BEB001B98D9"
       ]
      },
      {
       "output_type": "stream",
       "stream": "stdout",
       "text": [
        "\n",
        "Getting # 4816: http://yosemite.epa.gov/oeca/webeis.nsf/EIS01/9CFFE31E384B827085257BEB001B98D7"
       ]
      },
      {
       "output_type": "stream",
       "stream": "stdout",
       "text": [
        "\n",
        "Getting # 4816: http://yosemite.epa.gov/oeca/webeis.nsf/EIS01/8BD98D2A9797998D85257BEB001B98CF"
       ]
      },
      {
       "output_type": "stream",
       "stream": "stdout",
       "text": [
        "\n",
        "Getting # 4816: http://yosemite.epa.gov/oeca/webeis.nsf/EIS01/C2E394C646B4F6C485257BEB001B98CB"
       ]
      },
      {
       "output_type": "stream",
       "stream": "stdout",
       "text": [
        "\n",
        "Getting # 4816: http://yosemite.epa.gov/oeca/webeis.nsf/EIS01/922756C21D6D0F3285257BEB001B98BA"
       ]
      },
      {
       "output_type": "stream",
       "stream": "stdout",
       "text": [
        "\n",
        "Getting # 4816: http://yosemite.epa.gov/oeca/webeis.nsf/EIS01/FB7F97A02ECD753A85257BEB001B98BE"
       ]
      },
      {
       "output_type": "stream",
       "stream": "stdout",
       "text": [
        "\n",
        "Getting # 4816: http://yosemite.epa.gov/oeca/webeis.nsf/EIS01/879CD852A67FDAA685257BEB001B98A4"
       ]
      },
      {
       "output_type": "stream",
       "stream": "stdout",
       "text": [
        "\n",
        "Getting # 4816: http://yosemite.epa.gov/oeca/webeis.nsf/EIS01/62846E45A64966F185257BEB001B989C"
       ]
      },
      {
       "output_type": "stream",
       "stream": "stdout",
       "text": [
        "\n",
        "Getting # 4816: http://yosemite.epa.gov/oeca/webeis.nsf/EIS01/A5026A0810C65AED85257BEB001B98A8"
       ]
      },
      {
       "output_type": "stream",
       "stream": "stdout",
       "text": [
        "\n",
        "Getting # 4816: http://yosemite.epa.gov/oeca/webeis.nsf/EIS01/BEC85DDF02E8F4CD85257BEB001B9884"
       ]
      },
      {
       "output_type": "stream",
       "stream": "stdout",
       "text": [
        "\n",
        "Getting # 4816: http://yosemite.epa.gov/oeca/webeis.nsf/EIS01/DECBC8CFE93A3CAB85257BEB001B988C"
       ]
      },
      {
       "output_type": "stream",
       "stream": "stdout",
       "text": [
        "\n",
        "Getting # 4816: http://yosemite.epa.gov/oeca/webeis.nsf/EIS01/231A8C83F13FE8E585257BEB001B9897"
       ]
      },
      {
       "output_type": "stream",
       "stream": "stdout",
       "text": [
        "\n",
        "Getting # 4816: http://yosemite.epa.gov/oeca/webeis.nsf/EIS01/482711E196F3D71085257BEB001B9888"
       ]
      },
      {
       "output_type": "stream",
       "stream": "stdout",
       "text": [
        "\n",
        "Getting # 4816: http://yosemite.epa.gov/oeca/webeis.nsf/EIS01/95C2D929C5AD27F285257BEB001B987D"
       ]
      },
      {
       "output_type": "stream",
       "stream": "stdout",
       "text": [
        "\n",
        "Getting # 4816: http://yosemite.epa.gov/oeca/webeis.nsf/EIS01/B574DB8DDC193F2085257BEB001B9883"
       ]
      },
      {
       "output_type": "stream",
       "stream": "stdout",
       "text": [
        "\n",
        "Getting # 4816: http://yosemite.epa.gov/oeca/webeis.nsf/EIS01/9DE431F7FB92334085257BEB001B986F"
       ]
      },
      {
       "output_type": "stream",
       "stream": "stdout",
       "text": [
        "\n",
        "Getting # 4816: http://yosemite.epa.gov/oeca/webeis.nsf/EIS01/1B820350813F949A85257BEB001B985D"
       ]
      },
      {
       "output_type": "stream",
       "stream": "stdout",
       "text": [
        "\n",
        "Getting # 4816: http://yosemite.epa.gov/oeca/webeis.nsf/EIS01/C66CD9D75C7199C585257BEB001B9872"
       ]
      },
      {
       "output_type": "stream",
       "stream": "stdout",
       "text": [
        "\n",
        "Getting # 4816: http://yosemite.epa.gov/oeca/webeis.nsf/EIS01/EB9CDF687FB1662385257BEB001B985A"
       ]
      },
      {
       "output_type": "stream",
       "stream": "stdout",
       "text": [
        "\n",
        "Getting # 4816: http://yosemite.epa.gov/oeca/webeis.nsf/EIS01/CC258595C170C25485257BEB001B9862"
       ]
      },
      {
       "output_type": "stream",
       "stream": "stdout",
       "text": [
        "\n",
        "Getting # 4816: http://yosemite.epa.gov/oeca/webeis.nsf/EIS01/A8BA91B24284F9F785257BEB001B9841"
       ]
      },
      {
       "output_type": "stream",
       "stream": "stdout",
       "text": [
        "\n",
        "Getting # 4816: http://yosemite.epa.gov/oeca/webeis.nsf/EIS01/75214D854A6D1D3E85257BEB001B984E"
       ]
      },
      {
       "output_type": "stream",
       "stream": "stdout",
       "text": [
        "\n",
        "Getting # 4816: http://yosemite.epa.gov/oeca/webeis.nsf/EIS01/7B4962271FD2579885257BEB001B9856"
       ]
      },
      {
       "output_type": "stream",
       "stream": "stdout",
       "text": [
        "\n",
        "Getting # 4816: http://yosemite.epa.gov/oeca/webeis.nsf/EIS01/82B09D54D4FFBD6385257BEB001B9848"
       ]
      },
      {
       "output_type": "stream",
       "stream": "stdout",
       "text": [
        "\n",
        "Getting # 4816: http://yosemite.epa.gov/oeca/webeis.nsf/EIS01/AD8F0E78FF51140785257BEB001B9851"
       ]
      },
      {
       "output_type": "stream",
       "stream": "stdout",
       "text": [
        "\n",
        "Getting # 4816: http://yosemite.epa.gov/oeca/webeis.nsf/EIS01/882EB3F91DE46FA585257BEB001B982F"
       ]
      },
      {
       "output_type": "stream",
       "stream": "stdout",
       "text": [
        "\n",
        "Getting # 4816: http://yosemite.epa.gov/oeca/webeis.nsf/EIS01/29E63FE2B7E9FDA285257BEB001B982A"
       ]
      },
      {
       "output_type": "stream",
       "stream": "stdout",
       "text": [
        "\n",
        "Getting # 4816: http://yosemite.epa.gov/oeca/webeis.nsf/EIS01/5432375B6FCEA8F385257BEB001B9836"
       ]
      },
      {
       "output_type": "stream",
       "stream": "stdout",
       "text": [
        "\n",
        "Getting # 4816: http://yosemite.epa.gov/oeca/webeis.nsf/EIS01/77BB2611CCFA753185257BEB001B982D"
       ]
      },
      {
       "output_type": "stream",
       "stream": "stdout",
       "text": [
        "\n",
        "Getting # 4816: http://yosemite.epa.gov/oeca/webeis.nsf/EIS01/B97498C270EE930385257BEB001B982B"
       ]
      },
      {
       "output_type": "stream",
       "stream": "stdout",
       "text": [
        "\n",
        "Getting # 4816: http://yosemite.epa.gov/oeca/webeis.nsf/EIS01/1262CFD1C02E0C0A85257BEB001B981F"
       ]
      },
      {
       "output_type": "stream",
       "stream": "stdout",
       "text": [
        "\n",
        "Getting # 4816: http://yosemite.epa.gov/oeca/webeis.nsf/EIS01/29F9CB2E0A9B777285257BEB001B9818"
       ]
      },
      {
       "output_type": "stream",
       "stream": "stdout",
       "text": [
        "\n",
        "Getting # 4816: http://yosemite.epa.gov/oeca/webeis.nsf/EIS01/7009D949A323C4B585257BEB001B980E"
       ]
      },
      {
       "output_type": "stream",
       "stream": "stdout",
       "text": [
        "\n",
        "Getting # 4816: http://yosemite.epa.gov/oeca/webeis.nsf/EIS01/7C576ACC1755DA0385257BEB001B9822"
       ]
      },
      {
       "output_type": "stream",
       "stream": "stdout",
       "text": [
        "\n",
        "Getting # 4816: http://yosemite.epa.gov/oeca/webeis.nsf/EIS01/A2A491E8D85AE76985257BEB001B980F"
       ]
      },
      {
       "output_type": "stream",
       "stream": "stdout",
       "text": [
        "\n",
        "Getting # 4816: http://yosemite.epa.gov/oeca/webeis.nsf/EIS01/EB208E82999818E185257BEB001B980C"
       ]
      },
      {
       "output_type": "stream",
       "stream": "stdout",
       "text": [
        "\n",
        "Getting # 4816: http://yosemite.epa.gov/oeca/webeis.nsf/EIS01/F61DB1A7D033E2D885257BEB001B9827"
       ]
      },
      {
       "output_type": "stream",
       "stream": "stdout",
       "text": [
        "\n",
        "Getting # 4816: http://yosemite.epa.gov/oeca/webeis.nsf/EIS01/48F7D6639382002C85257BEB001B97F6"
       ]
      },
      {
       "output_type": "stream",
       "stream": "stdout",
       "text": [
        "\n",
        "Getting # 4816: http://yosemite.epa.gov/oeca/webeis.nsf/EIS01/5351647E5327A22A85257BEB001B9809"
       ]
      },
      {
       "output_type": "stream",
       "stream": "stdout",
       "text": [
        "\n",
        "Getting # 4816: http://yosemite.epa.gov/oeca/webeis.nsf/EIS01/83ADC1540FC3778585257BEB001B9804"
       ]
      },
      {
       "output_type": "stream",
       "stream": "stdout",
       "text": [
        "\n",
        "Getting # 4816: http://yosemite.epa.gov/oeca/webeis.nsf/EIS01/92985E346E2096F885257BEB001B97F8"
       ]
      },
      {
       "output_type": "stream",
       "stream": "stdout",
       "text": [
        "\n",
        "Getting # 4816: http://yosemite.epa.gov/oeca/webeis.nsf/EIS01/9A96ED6098E9108485257BEB001B97F9"
       ]
      },
      {
       "output_type": "stream",
       "stream": "stdout",
       "text": [
        "\n",
        "Getting # 4816: http://yosemite.epa.gov/oeca/webeis.nsf/EIS01/A27E492A0780273685257BEB001B9807"
       ]
      },
      {
       "output_type": "stream",
       "stream": "stdout",
       "text": [
        "\n",
        "Getting # 4816: http://yosemite.epa.gov/oeca/webeis.nsf/EIS01/A57B22C21528D06E85257BEB001B9806"
       ]
      },
      {
       "output_type": "stream",
       "stream": "stdout",
       "text": [
        "\n",
        "Getting # 4816: http://yosemite.epa.gov/oeca/webeis.nsf/EIS01/F605C6B63D5DEE2B85257BEB001B97E4"
       ]
      },
      {
       "output_type": "stream",
       "stream": "stdout",
       "text": [
        "\n",
        "Getting # 4816: http://yosemite.epa.gov/oeca/webeis.nsf/EIS01/2B1ECD35F68CC27D85257BEB001B97DA"
       ]
      },
      {
       "output_type": "stream",
       "stream": "stdout",
       "text": [
        "\n",
        "Getting # 4816: http://yosemite.epa.gov/oeca/webeis.nsf/EIS01/697B9822ED8BDDD485257BEB001B97DF"
       ]
      },
      {
       "output_type": "stream",
       "stream": "stdout",
       "text": [
        "\n",
        "Getting # 4816: http://yosemite.epa.gov/oeca/webeis.nsf/EIS01/B035CE5E524EE4D385257BEB001B97EA"
       ]
      },
      {
       "output_type": "stream",
       "stream": "stdout",
       "text": [
        "\n",
        "Getting # 4816: http://yosemite.epa.gov/oeca/webeis.nsf/EIS01/D38FB0A95C9F846885257BEB001B97DB"
       ]
      },
      {
       "output_type": "stream",
       "stream": "stdout",
       "text": [
        "\n",
        "Getting # 4816: http://yosemite.epa.gov/oeca/webeis.nsf/EIS01/F2AE761333B2876C85257BEB001B97EE"
       ]
      },
      {
       "output_type": "stream",
       "stream": "stdout",
       "text": [
        "\n",
        "Getting # 4816: http://yosemite.epa.gov/oeca/webeis.nsf/EIS01/094F981FCF98E5E585257BEB001B97D2"
       ]
      },
      {
       "output_type": "stream",
       "stream": "stdout",
       "text": [
        "\n",
        "Getting # 4816: http://yosemite.epa.gov/oeca/webeis.nsf/EIS01/473508AECE597A0E85257BEB001B97D5"
       ]
      },
      {
       "output_type": "stream",
       "stream": "stdout",
       "text": [
        "\n",
        "Getting # 4816: http://yosemite.epa.gov/oeca/webeis.nsf/EIS01/7CB3032478EAFAC485257BEB001B97D7"
       ]
      },
      {
       "output_type": "stream",
       "stream": "stdout",
       "text": [
        "\n",
        "Getting # 4816: http://yosemite.epa.gov/oeca/webeis.nsf/EIS01/90A77C8432392BB485257BEB001B97D4"
       ]
      },
      {
       "output_type": "stream",
       "stream": "stdout",
       "text": [
        "\n",
        "Getting # 4816: http://yosemite.epa.gov/oeca/webeis.nsf/EIS01/C5D18049F3C8D6D485257BEB001B97D1"
       ]
      },
      {
       "output_type": "stream",
       "stream": "stdout",
       "text": [
        "\n",
        "Getting # 4816: http://yosemite.epa.gov/oeca/webeis.nsf/EIS01/86071B5ED1CB3C8385257BEB001B97CC"
       ]
      },
      {
       "output_type": "stream",
       "stream": "stdout",
       "text": [
        "\n",
        "Getting # 4816: http://yosemite.epa.gov/oeca/webeis.nsf/EIS01/9D26D521F854840585257BEB001B97CE"
       ]
      },
      {
       "output_type": "stream",
       "stream": "stdout",
       "text": [
        "\n",
        "Getting # 4816: http://yosemite.epa.gov/oeca/webeis.nsf/EIS01/868B4F7D6DDE6C3485257BEB001B97C9"
       ]
      },
      {
       "output_type": "stream",
       "stream": "stdout",
       "text": [
        "\n",
        "Getting # 4816: http://yosemite.epa.gov/oeca/webeis.nsf/EIS01/56E40D5C6CDB19F085257BEB001B97B8"
       ]
      },
      {
       "output_type": "stream",
       "stream": "stdout",
       "text": [
        "\n",
        "Getting # 4816: http://yosemite.epa.gov/oeca/webeis.nsf/EIS01/6BACF79476F2E3D485257BEB001B97B3"
       ]
      },
      {
       "output_type": "stream",
       "stream": "stdout",
       "text": [
        "\n",
        "Getting # 4816: http://yosemite.epa.gov/oeca/webeis.nsf/EIS01/D39FB098C19F062685257BEB001B97B9"
       ]
      },
      {
       "output_type": "stream",
       "stream": "stdout",
       "text": [
        "\n",
        "Getting # 4816: http://yosemite.epa.gov/oeca/webeis.nsf/EIS01/698B0048DF39550F85257BEB001B97C1"
       ]
      },
      {
       "output_type": "stream",
       "stream": "stdout",
       "text": [
        "\n",
        "Getting # 4816: http://yosemite.epa.gov/oeca/webeis.nsf/EIS01/2439E0673E45121785257BEB001B978C"
       ]
      },
      {
       "output_type": "stream",
       "stream": "stdout",
       "text": [
        "\n",
        "Getting # 4816: http://yosemite.epa.gov/oeca/webeis.nsf/EIS01/4448520A1E24155A85257BEB001B9799"
       ]
      },
      {
       "output_type": "stream",
       "stream": "stdout",
       "text": [
        "\n",
        "Getting # 4816: http://yosemite.epa.gov/oeca/webeis.nsf/EIS01/5AA2E7BA4789347185257BEB001B979C"
       ]
      },
      {
       "output_type": "stream",
       "stream": "stdout",
       "text": [
        "\n",
        "Getting # 4816: http://yosemite.epa.gov/oeca/webeis.nsf/EIS01/57ECB5205207F4FC85257BEB001B977E"
       ]
      },
      {
       "output_type": "stream",
       "stream": "stdout",
       "text": [
        "\n",
        "Getting # 4816: http://yosemite.epa.gov/oeca/webeis.nsf/EIS01/690AA0A52339F05E85257BEB001B9781"
       ]
      },
      {
       "output_type": "stream",
       "stream": "stdout",
       "text": [
        "\n",
        "Getting # 4816: http://yosemite.epa.gov/oeca/webeis.nsf/EIS01/CC1C42B590E9E2B785257BEB001B978E"
       ]
      },
      {
       "output_type": "stream",
       "stream": "stdout",
       "text": [
        "\n",
        "Getting # 4816: http://yosemite.epa.gov/oeca/webeis.nsf/EIS01/D5CDE0FD973954E085257BEB001B9786"
       ]
      },
      {
       "output_type": "stream",
       "stream": "stdout",
       "text": [
        "\n",
        "Getting # 4816: http://yosemite.epa.gov/oeca/webeis.nsf/EIS01/B2E27E174D97D18B85257BEB001B9778"
       ]
      },
      {
       "output_type": "stream",
       "stream": "stdout",
       "text": [
        "\n",
        "Getting # 4816: http://yosemite.epa.gov/oeca/webeis.nsf/EIS01/200AE34315F939AB85257BEB001B977D"
       ]
      },
      {
       "output_type": "stream",
       "stream": "stdout",
       "text": [
        "\n",
        "Getting # 4816: http://yosemite.epa.gov/oeca/webeis.nsf/EIS01/2E9B902244D69B6A85257BEB001B9757"
       ]
      },
      {
       "output_type": "stream",
       "stream": "stdout",
       "text": [
        "\n",
        "Getting # 4816: http://yosemite.epa.gov/oeca/webeis.nsf/EIS01/63B79B8042123B9C85257BEB001B9760"
       ]
      },
      {
       "output_type": "stream",
       "stream": "stdout",
       "text": [
        "\n",
        "Getting # 4816: http://yosemite.epa.gov/oeca/webeis.nsf/EIS01/E45FC29EC8C96B6385257BEB001B9768"
       ]
      },
      {
       "output_type": "stream",
       "stream": "stdout",
       "text": [
        "\n",
        "Getting # 4816: http://yosemite.epa.gov/oeca/webeis.nsf/EIS01/6DA19EA0936C76D685257BEB001B9735"
       ]
      },
      {
       "output_type": "stream",
       "stream": "stdout",
       "text": [
        "\n",
        "Getting # 4816: http://yosemite.epa.gov/oeca/webeis.nsf/EIS01/95B855036D891BC385257BEB001B9749"
       ]
      },
      {
       "output_type": "stream",
       "stream": "stdout",
       "text": [
        "\n",
        "Getting # 4816: http://yosemite.epa.gov/oeca/webeis.nsf/EIS01/1877694345529CC885257BEB001B9746"
       ]
      },
      {
       "output_type": "stream",
       "stream": "stdout",
       "text": [
        "\n",
        "Getting # 4816: http://yosemite.epa.gov/oeca/webeis.nsf/EIS01/1F85E2250AC5242B85257BEB001B9714"
       ]
      },
      {
       "output_type": "stream",
       "stream": "stdout",
       "text": [
        "\n",
        "Getting # 4816: http://yosemite.epa.gov/oeca/webeis.nsf/EIS01/2892B9BF9A99D68485257BEB001B971F"
       ]
      },
      {
       "output_type": "stream",
       "stream": "stdout",
       "text": [
        "\n",
        "Getting # 4816: http://yosemite.epa.gov/oeca/webeis.nsf/EIS01/2E734DF240C14E9785257BEB001B9731"
       ]
      },
      {
       "output_type": "stream",
       "stream": "stdout",
       "text": [
        "\n",
        "Getting # 4816: http://yosemite.epa.gov/oeca/webeis.nsf/EIS01/2BE8971C9D3CF04285257BEB001B9707"
       ]
      },
      {
       "output_type": "stream",
       "stream": "stdout",
       "text": [
        "\n",
        "Getting # 4816: http://yosemite.epa.gov/oeca/webeis.nsf/EIS01/52059429F15604F585257BEB001B9701"
       ]
      },
      {
       "output_type": "stream",
       "stream": "stdout",
       "text": [
        "\n",
        "Getting # 4816: http://yosemite.epa.gov/oeca/webeis.nsf/EIS01/619C5D5C17717F5585257BEB001B970F"
       ]
      },
      {
       "output_type": "stream",
       "stream": "stdout",
       "text": [
        "\n",
        "Getting # 4816: http://yosemite.epa.gov/oeca/webeis.nsf/EIS01/746980A528734CD285257BEB001B970D"
       ]
      },
      {
       "output_type": "stream",
       "stream": "stdout",
       "text": [
        "\n",
        "Getting # 4816: http://yosemite.epa.gov/oeca/webeis.nsf/EIS01/9A3337A602FE248485257BEB001B9725"
       ]
      },
      {
       "output_type": "stream",
       "stream": "stdout",
       "text": [
        "\n",
        "Getting # 4816: http://yosemite.epa.gov/oeca/webeis.nsf/EIS01/9D75CDB297A57CED85257BEB001B970A"
       ]
      },
      {
       "output_type": "stream",
       "stream": "stdout",
       "text": [
        "\n",
        "Getting # 4816: http://yosemite.epa.gov/oeca/webeis.nsf/EIS01/FF23F8B570C5206D85257BEB001B9722"
       ]
      },
      {
       "output_type": "stream",
       "stream": "stdout",
       "text": [
        "\n",
        "Getting # 4816: http://yosemite.epa.gov/oeca/webeis.nsf/EIS01/825D764B13DFF7D585257BEB001B96FF"
       ]
      },
      {
       "output_type": "stream",
       "stream": "stdout",
       "text": [
        "\n",
        "Getting # 4816: http://yosemite.epa.gov/oeca/webeis.nsf/EIS01/7109BB17B88B918C85257BEB001B96DC"
       ]
      },
      {
       "output_type": "stream",
       "stream": "stdout",
       "text": [
        "\n",
        "Getting # 4816: http://yosemite.epa.gov/oeca/webeis.nsf/EIS01/B01209EC09DF5CC685257BEB001B96FB"
       ]
      },
      {
       "output_type": "stream",
       "stream": "stdout",
       "text": [
        "\n",
        "Getting # 4816: http://yosemite.epa.gov/oeca/webeis.nsf/EIS01/B8C29395AA84669985257BEB001B96ED"
       ]
      },
      {
       "output_type": "stream",
       "stream": "stdout",
       "text": [
        "\n",
        "Getting # 4816: http://yosemite.epa.gov/oeca/webeis.nsf/EIS01/C5BE6D1C4940D0B585257BEB001B96F4"
       ]
      },
      {
       "output_type": "stream",
       "stream": "stdout",
       "text": [
        "\n",
        "Getting # 4816: http://yosemite.epa.gov/oeca/webeis.nsf/EIS01/F61E01C8A1EB7BF685257BEB001B96DB"
       ]
      },
      {
       "output_type": "stream",
       "stream": "stdout",
       "text": [
        "\n",
        "Getting # 4816: http://yosemite.epa.gov/oeca/webeis.nsf/EIS01/FD85C080E7ABA41385257BEB001B96D1"
       ]
      },
      {
       "output_type": "stream",
       "stream": "stdout",
       "text": [
        "\n",
        "Getting # 4816: http://yosemite.epa.gov/oeca/webeis.nsf/EIS01/3AE98DA448B1211585257BEB001B96E0"
       ]
      },
      {
       "output_type": "stream",
       "stream": "stdout",
       "text": [
        "\n",
        "Getting # 4816: http://yosemite.epa.gov/oeca/webeis.nsf/EIS01/7C10F6B06D4737F785257BEB001B96CC"
       ]
      },
      {
       "output_type": "stream",
       "stream": "stdout",
       "text": [
        "\n",
        "Getting # 4816: http://yosemite.epa.gov/oeca/webeis.nsf/EIS01/0C0EE42D4046C90085257BEB001B96BC"
       ]
      },
      {
       "output_type": "stream",
       "stream": "stdout",
       "text": [
        "\n",
        "Getting # 4816: http://yosemite.epa.gov/oeca/webeis.nsf/EIS01/6FEA04B0704654A185257BEB001B96AE"
       ]
      },
      {
       "output_type": "stream",
       "stream": "stdout",
       "text": [
        "\n",
        "Getting # 4816: http://yosemite.epa.gov/oeca/webeis.nsf/EIS01/9ADFAA9A1B87E17485257BEB001B96B4"
       ]
      },
      {
       "output_type": "stream",
       "stream": "stdout",
       "text": [
        "\n"
       ]
      }
     ],
     "prompt_number": 29
    },
    {
     "cell_type": "code",
     "collapsed": false,
     "input": [
      "#title of reports\n",
      "df.to_csv('report_titles.csv', encoding='utf-8')"
     ],
     "language": "python",
     "metadata": {},
     "outputs": [],
     "prompt_number": 30
    },
    {
     "cell_type": "code",
     "collapsed": false,
     "input": [
      "df.shape"
     ],
     "language": "python",
     "metadata": {},
     "outputs": [
      {
       "metadata": {},
       "output_type": "pyout",
       "prompt_number": 31,
       "text": [
        "(4816, 3)"
       ]
      }
     ],
     "prompt_number": 31
    },
    {
     "cell_type": "code",
     "collapsed": false,
     "input": [],
     "language": "python",
     "metadata": {},
     "outputs": []
    }
   ],
   "metadata": {}
  }
 ]
}