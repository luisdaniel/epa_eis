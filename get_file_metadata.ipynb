{
 "metadata": {
  "name": "",
  "signature": "sha256:7225a502bb594cbd7f71b6821bd2c3fe6edae291a8f141cab71d00cfa1a42cd3"
 },
 "nbformat": 3,
 "nbformat_minor": 0,
 "worksheets": [
  {
   "cells": [
    {
     "cell_type": "code",
     "collapsed": false,
     "input": [
      "from bs4 import BeautifulSoup as bs\n",
      "import re\n",
      "import urllib2\n",
      "import httplib\n",
      "import csv\n",
      "import json\n",
      "import datetime\n",
      "import pandas as pd\n",
      "import os"
     ],
     "language": "python",
     "metadata": {},
     "outputs": [],
     "prompt_number": 1
    },
    {
     "cell_type": "code",
     "collapsed": false,
     "input": [
      "columns = ['content_length', 'last_modified', 'date_retrieved', 'content_type', 'file_url', 'eis_url', 'eis_number']\n",
      "df = pd.DataFrame(columns=columns)\n",
      "columns2 = ['date', 'eis', 'link', 'error']\n",
      "df_missing_files = pd.DataFrame(columns=columns2)"
     ],
     "language": "python",
     "metadata": {},
     "outputs": [],
     "prompt_number": 2
    },
    {
     "cell_type": "code",
     "collapsed": false,
     "input": [
      "def get_file_metadata():\n",
      "    index = 0\n",
      "    index_missing = 0\n",
      "    with open('reports.csv', mode='r') as infile:\n",
      "        reader = csv.reader(infile)\n",
      "        c = httplib.HTTPConnection('yosemite.epa.gov:80')\n",
      "        for row in reader:\n",
      "            if row[21] != 'list_of_links' and row[20] !=0:\n",
      "                links = row[21].split()\n",
      "                for link in links:\n",
      "                    print \"Getting #\" + str(index)+ \": \" + link\n",
      "                    headers = ''\n",
      "                    c.request('HEAD', link)\n",
      "                    try:\n",
      "                        r = c.getresponse()\n",
      "                    except Exception, e:\n",
      "                        print \"Error, could not get link: \" + str(e)\n",
      "                        new_missing_row = [row[1], row[7], link, str(e)]\n",
      "                        df_missing_files.loc[index_missing] = new_missing_row\n",
      "                        index_missing +=1\n",
      "                        continue\n",
      "                    if r.status == 200:\n",
      "                        headers = r.getheaders()\n",
      "                    else:\n",
      "                        print \"Error, could not get link: \" + str(r.status)\n",
      "                        new_missing_row = [row[1], row[7], link, str(r.status)]\n",
      "                        df_missing_files.loc[index_missing] = new_missing_row\n",
      "                        index_missing +=1\n",
      "                        continue\n",
      "                    r.read()\n",
      "                    #save headers \n",
      "                    header_names = ['content-length', 'last-modified', 'date', 'content-type']\n",
      "                    header_values = {}\n",
      "                    new_row = []\n",
      "                    for h in headers:\n",
      "                        for n in header_names:\n",
      "                            if n == h[0]:\n",
      "                                header_values[n] = h[1]\n",
      "                    for h in header_names:\n",
      "                        new_row.append(header_values[h])\n",
      "                    new_row.append(link)\n",
      "                    new_row.append(row[6])\n",
      "                    new_row.append(row[7])\n",
      "                    for i in range(len(new_row)):  # For every value in our newrow\n",
      "                        if hasattr(new_row[i], 'encode'):\n",
      "                            new_row[i] = new_row[i].encode('utf8')\n",
      "                    df.loc[index] = new_row\n",
      "                    index +=1"
     ],
     "language": "python",
     "metadata": {},
     "outputs": [],
     "prompt_number": 3
    },
    {
     "cell_type": "code",
     "collapsed": false,
     "input": [
      "# get_file_metadata()"
     ],
     "language": "python",
     "metadata": {},
     "outputs": [],
     "prompt_number": 4
    },
    {
     "cell_type": "code",
     "collapsed": false,
     "input": [
      "df.to_csv('file_metadata_1.csv', encoding='utf-8')\n",
      "if df_missing_files.shape[0]:\n",
      "    df_missing_files.to_csv('missing_file_metadata.csv', encoding='utf-8')"
     ],
     "language": "python",
     "metadata": {},
     "outputs": []
    }
   ],
   "metadata": {}
  }
 ]
}